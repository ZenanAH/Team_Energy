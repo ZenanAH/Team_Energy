{
 "cells": [
  {
   "cell_type": "code",
   "execution_count": 1,
   "id": "8cca82ac",
   "metadata": {},
   "outputs": [],
   "source": [
    "import pandas as pd"
   ]
  },
  {
   "cell_type": "markdown",
   "id": "cfb5ee54",
   "metadata": {},
   "source": [
    "Category One House"
   ]
  },
  {
   "cell_type": "code",
   "execution_count": 2,
   "id": "b54380f5",
   "metadata": {},
   "outputs": [],
   "source": [
    "dfA = pd.read_csv('https://storage.googleapis.com/energy_usage_prediction_903/df_A_v1.csv')\n",
    "dfB = pd.read_csv('https://storage.googleapis.com/energy_usage_prediction_903/df_B_v1.csv')\n",
    "dfC = pd.read_csv('https://storage.googleapis.com/energy_usage_prediction_903/df_C_v1.csv')"
   ]
  },
  {
   "cell_type": "code",
   "execution_count": 8,
   "id": "3687c270",
   "metadata": {},
   "outputs": [],
   "source": [
    "dfAhouse =dfA.groupby(by=[\"LCLid\", \"Acorn_Group\"]).mean().reset_index()"
   ]
  },
  {
   "cell_type": "code",
   "execution_count": 13,
   "id": "b4e4a100",
   "metadata": {},
   "outputs": [],
   "source": [
    "dfBhouse =dfB.groupby(by=[\"LCLid\", \"Acorn_Group\"]).mean().reset_index()"
   ]
  },
  {
   "cell_type": "code",
   "execution_count": 21,
   "id": "abcbb15e",
   "metadata": {},
   "outputs": [
    {
     "name": "stdout",
     "output_type": "stream",
     "text": [
      "<class 'pandas.core.frame.DataFrame'>\n",
      "RangeIndex: 9 entries, 0 to 8\n",
      "Data columns (total 4 columns):\n",
      " #   Column       Non-Null Count  Dtype  \n",
      "---  ------       --------------  -----  \n",
      " 0   LCLid        9 non-null      object \n",
      " 1   Acorn_Group  9 non-null      object \n",
      " 2   Unnamed: 0   9 non-null      float64\n",
      " 3   KWH/hh       9 non-null      float64\n",
      "dtypes: float64(2), object(2)\n",
      "memory usage: 416.0+ bytes\n"
     ]
    }
   ],
   "source": [
    "dfBhouse.info()"
   ]
  },
  {
   "cell_type": "code",
   "execution_count": 14,
   "id": "a46f8f90",
   "metadata": {},
   "outputs": [],
   "source": [
    "dfChouse =dfC.groupby(by=[\"LCLid\", \"Acorn_Group\"]).mean().reset_index()"
   ]
  },
  {
   "cell_type": "code",
   "execution_count": 15,
   "id": "8606c981",
   "metadata": {},
   "outputs": [],
   "source": [
    "frames1 = [dfAhouse, dfBhouse, dfChouse]\n",
    "\n",
    "cat1 = pd.concat(frames1)"
   ]
  },
  {
   "cell_type": "code",
   "execution_count": 22,
   "id": "a2cbf944",
   "metadata": {},
   "outputs": [
    {
     "data": {
      "text/html": [
       "<div>\n",
       "<style scoped>\n",
       "    .dataframe tbody tr th:only-of-type {\n",
       "        vertical-align: middle;\n",
       "    }\n",
       "\n",
       "    .dataframe tbody tr th {\n",
       "        vertical-align: top;\n",
       "    }\n",
       "\n",
       "    .dataframe thead th {\n",
       "        text-align: right;\n",
       "    }\n",
       "</style>\n",
       "<table border=\"1\" class=\"dataframe\">\n",
       "  <thead>\n",
       "    <tr style=\"text-align: right;\">\n",
       "      <th></th>\n",
       "      <th>Unnamed: 0</th>\n",
       "      <th>KWH/hh</th>\n",
       "    </tr>\n",
       "    <tr>\n",
       "      <th>LCLid</th>\n",
       "      <th></th>\n",
       "      <th></th>\n",
       "    </tr>\n",
       "  </thead>\n",
       "  <tbody>\n",
       "    <tr>\n",
       "      <th>MAC001410</th>\n",
       "      <td>15615.670648</td>\n",
       "      <td>0.209461</td>\n",
       "    </tr>\n",
       "    <tr>\n",
       "      <th>MAC003355</th>\n",
       "      <td>43701.339923</td>\n",
       "      <td>0.388900</td>\n",
       "    </tr>\n",
       "    <tr>\n",
       "      <th>MAC003403</th>\n",
       "      <td>68589.843258</td>\n",
       "      <td>0.123128</td>\n",
       "    </tr>\n",
       "    <tr>\n",
       "      <th>MAC003445</th>\n",
       "      <td>93335.349667</td>\n",
       "      <td>0.433689</td>\n",
       "    </tr>\n",
       "    <tr>\n",
       "      <th>MAC003822</th>\n",
       "      <td>117484.385764</td>\n",
       "      <td>0.145084</td>\n",
       "    </tr>\n",
       "    <tr>\n",
       "      <th>MAC003876</th>\n",
       "      <td>141079.389653</td>\n",
       "      <td>0.417900</td>\n",
       "    </tr>\n",
       "    <tr>\n",
       "      <th>MAC003903</th>\n",
       "      <td>164601.391267</td>\n",
       "      <td>0.663456</td>\n",
       "    </tr>\n",
       "    <tr>\n",
       "      <th>MAC004417</th>\n",
       "      <td>193400.114171</td>\n",
       "      <td>0.135407</td>\n",
       "    </tr>\n",
       "    <tr>\n",
       "      <th>MAC004567</th>\n",
       "      <td>229586.047293</td>\n",
       "      <td>0.202556</td>\n",
       "    </tr>\n",
       "  </tbody>\n",
       "</table>\n",
       "</div>"
      ],
      "text/plain": [
       "              Unnamed: 0    KWH/hh\n",
       "LCLid                             \n",
       "MAC001410   15615.670648  0.209461\n",
       "MAC003355   43701.339923  0.388900\n",
       "MAC003403   68589.843258  0.123128\n",
       "MAC003445   93335.349667  0.433689\n",
       "MAC003822  117484.385764  0.145084\n",
       "MAC003876  141079.389653  0.417900\n",
       "MAC003903  164601.391267  0.663456\n",
       "MAC004417  193400.114171  0.135407\n",
       "MAC004567  229586.047293  0.202556"
      ]
     },
     "execution_count": 22,
     "metadata": {},
     "output_type": "execute_result"
    }
   ],
   "source": [
    "cat1[cat1['Acorn_Group']=='B'].groupby(by='LCLid').mean()"
   ]
  },
  {
   "cell_type": "code",
   "execution_count": 16,
   "id": "1334d5ee",
   "metadata": {},
   "outputs": [
    {
     "data": {
      "application/vnd.plotly.v1+json": {
       "config": {
        "plotlyServerURL": "https://plot.ly"
       },
       "data": [
        {
         "customdata": [
          [
           "MAC000030"
          ]
         ],
         "hovertemplate": "LCLid=%{customdata[0]}<br>Acorn_Group=%{x}<br>KWH/hh=%{y}<extra></extra>",
         "legendgroup": "MAC000030",
         "marker": {
          "color": "#636efa",
          "symbol": "circle"
         },
         "mode": "markers",
         "name": "MAC000030",
         "orientation": "v",
         "showlegend": true,
         "type": "scatter",
         "x": [
          "A"
         ],
         "xaxis": "x",
         "y": [
          0.23755278057071136
         ],
         "yaxis": "y"
        },
        {
         "customdata": [
          [
           "MAC000040"
          ]
         ],
         "hovertemplate": "LCLid=%{customdata[0]}<br>Acorn_Group=%{x}<br>KWH/hh=%{y}<extra></extra>",
         "legendgroup": "MAC000040",
         "marker": {
          "color": "#EF553B",
          "symbol": "circle"
         },
         "mode": "markers",
         "name": "MAC000040",
         "orientation": "v",
         "showlegend": true,
         "type": "scatter",
         "x": [
          "A"
         ],
         "xaxis": "x",
         "y": [
          0.5557892983026946
         ],
         "yaxis": "y"
        },
        {
         "customdata": [
          [
           "MAC000103"
          ]
         ],
         "hovertemplate": "LCLid=%{customdata[0]}<br>Acorn_Group=%{x}<br>KWH/hh=%{y}<extra></extra>",
         "legendgroup": "MAC000103",
         "marker": {
          "color": "#00cc96",
          "symbol": "circle"
         },
         "mode": "markers",
         "name": "MAC000103",
         "orientation": "v",
         "showlegend": true,
         "type": "scatter",
         "x": [
          "A"
         ],
         "xaxis": "x",
         "y": [
          0.5012557308897151
         ],
         "yaxis": "y"
        },
        {
         "customdata": [
          [
           "MAC000110"
          ]
         ],
         "hovertemplate": "LCLid=%{customdata[0]}<br>Acorn_Group=%{x}<br>KWH/hh=%{y}<extra></extra>",
         "legendgroup": "MAC000110",
         "marker": {
          "color": "#ab63fa",
          "symbol": "circle"
         },
         "mode": "markers",
         "name": "MAC000110",
         "orientation": "v",
         "showlegend": true,
         "type": "scatter",
         "x": [
          "A"
         ],
         "xaxis": "x",
         "y": [
          0.34188295562896814
         ],
         "yaxis": "y"
        },
        {
         "customdata": [
          [
           "MAC000112"
          ]
         ],
         "hovertemplate": "LCLid=%{customdata[0]}<br>Acorn_Group=%{x}<br>KWH/hh=%{y}<extra></extra>",
         "legendgroup": "MAC000112",
         "marker": {
          "color": "#FFA15A",
          "symbol": "circle"
         },
         "mode": "markers",
         "name": "MAC000112",
         "orientation": "v",
         "showlegend": true,
         "type": "scatter",
         "x": [
          "A"
         ],
         "xaxis": "x",
         "y": [
          0.2680307374376857
         ],
         "yaxis": "y"
        },
        {
         "customdata": [
          [
           "MAC000246"
          ]
         ],
         "hovertemplate": "LCLid=%{customdata[0]}<br>Acorn_Group=%{x}<br>KWH/hh=%{y}<extra></extra>",
         "legendgroup": "MAC000246",
         "marker": {
          "color": "#19d3f3",
          "symbol": "circle"
         },
         "mode": "markers",
         "name": "MAC000246",
         "orientation": "v",
         "showlegend": true,
         "type": "scatter",
         "x": [
          "A"
         ],
         "xaxis": "x",
         "y": [
          0.3509564265824075
         ],
         "yaxis": "y"
        },
        {
         "customdata": [
          [
           "MAC000323"
          ]
         ],
         "hovertemplate": "LCLid=%{customdata[0]}<br>Acorn_Group=%{x}<br>KWH/hh=%{y}<extra></extra>",
         "legendgroup": "MAC000323",
         "marker": {
          "color": "#FF6692",
          "symbol": "circle"
         },
         "mode": "markers",
         "name": "MAC000323",
         "orientation": "v",
         "showlegend": true,
         "type": "scatter",
         "x": [
          "A"
         ],
         "xaxis": "x",
         "y": [
          0.3264582709682064
         ],
         "yaxis": "y"
        },
        {
         "customdata": [
          [
           "MAC000379"
          ]
         ],
         "hovertemplate": "LCLid=%{customdata[0]}<br>Acorn_Group=%{x}<br>KWH/hh=%{y}<extra></extra>",
         "legendgroup": "MAC000379",
         "marker": {
          "color": "#B6E880",
          "symbol": "circle"
         },
         "mode": "markers",
         "name": "MAC000379",
         "orientation": "v",
         "showlegend": true,
         "type": "scatter",
         "x": [
          "A"
         ],
         "xaxis": "x",
         "y": [
          0.6922800939915048
         ],
         "yaxis": "y"
        },
        {
         "customdata": [
          [
           "MAC000464"
          ]
         ],
         "hovertemplate": "LCLid=%{customdata[0]}<br>Acorn_Group=%{x}<br>KWH/hh=%{y}<extra></extra>",
         "legendgroup": "MAC000464",
         "marker": {
          "color": "#FF97FF",
          "symbol": "circle"
         },
         "mode": "markers",
         "name": "MAC000464",
         "orientation": "v",
         "showlegend": true,
         "type": "scatter",
         "x": [
          "A"
         ],
         "xaxis": "x",
         "y": [
          0.11618833697127012
         ],
         "yaxis": "y"
        },
        {
         "customdata": [
          [
           "MAC000487"
          ]
         ],
         "hovertemplate": "LCLid=%{customdata[0]}<br>Acorn_Group=%{x}<br>KWH/hh=%{y}<extra></extra>",
         "legendgroup": "MAC000487",
         "marker": {
          "color": "#FECB52",
          "symbol": "circle"
         },
         "mode": "markers",
         "name": "MAC000487",
         "orientation": "v",
         "showlegend": true,
         "type": "scatter",
         "x": [
          "A"
         ],
         "xaxis": "x",
         "y": [
          0.23560130970767826
         ],
         "yaxis": "y"
        },
        {
         "customdata": [
          [
           "MAC000609"
          ]
         ],
         "hovertemplate": "LCLid=%{customdata[0]}<br>Acorn_Group=%{x}<br>KWH/hh=%{y}<extra></extra>",
         "legendgroup": "MAC000609",
         "marker": {
          "color": "#636efa",
          "symbol": "circle"
         },
         "mode": "markers",
         "name": "MAC000609",
         "orientation": "v",
         "showlegend": true,
         "type": "scatter",
         "x": [
          "A"
         ],
         "xaxis": "x",
         "y": [
          0.14472739132981308
         ],
         "yaxis": "y"
        },
        {
         "customdata": [
          [
           "MAC000768"
          ]
         ],
         "hovertemplate": "LCLid=%{customdata[0]}<br>Acorn_Group=%{x}<br>KWH/hh=%{y}<extra></extra>",
         "legendgroup": "MAC000768",
         "marker": {
          "color": "#EF553B",
          "symbol": "circle"
         },
         "mode": "markers",
         "name": "MAC000768",
         "orientation": "v",
         "showlegend": true,
         "type": "scatter",
         "x": [
          "A"
         ],
         "xaxis": "x",
         "y": [
          0.24148877557964563
         ],
         "yaxis": "y"
        },
        {
         "customdata": [
          [
           "MAC000974"
          ]
         ],
         "hovertemplate": "LCLid=%{customdata[0]}<br>Acorn_Group=%{x}<br>KWH/hh=%{y}<extra></extra>",
         "legendgroup": "MAC000974",
         "marker": {
          "color": "#00cc96",
          "symbol": "circle"
         },
         "mode": "markers",
         "name": "MAC000974",
         "orientation": "v",
         "showlegend": true,
         "type": "scatter",
         "x": [
          "A"
         ],
         "xaxis": "x",
         "y": [
          0.13242089458554895
         ],
         "yaxis": "y"
        },
        {
         "customdata": [
          [
           "MAC001251"
          ]
         ],
         "hovertemplate": "LCLid=%{customdata[0]}<br>Acorn_Group=%{x}<br>KWH/hh=%{y}<extra></extra>",
         "legendgroup": "MAC001251",
         "marker": {
          "color": "#ab63fa",
          "symbol": "circle"
         },
         "mode": "markers",
         "name": "MAC001251",
         "orientation": "v",
         "showlegend": true,
         "type": "scatter",
         "x": [
          "A"
         ],
         "xaxis": "x",
         "y": [
          0.36968784625644613
         ],
         "yaxis": "y"
        },
        {
         "customdata": [
          [
           "MAC001734"
          ]
         ],
         "hovertemplate": "LCLid=%{customdata[0]}<br>Acorn_Group=%{x}<br>KWH/hh=%{y}<extra></extra>",
         "legendgroup": "MAC001734",
         "marker": {
          "color": "#FFA15A",
          "symbol": "circle"
         },
         "mode": "markers",
         "name": "MAC001734",
         "orientation": "v",
         "showlegend": true,
         "type": "scatter",
         "x": [
          "A"
         ],
         "xaxis": "x",
         "y": [
          0.6681347016203476
         ],
         "yaxis": "y"
        },
        {
         "customdata": [
          [
           "MAC002113"
          ]
         ],
         "hovertemplate": "LCLid=%{customdata[0]}<br>Acorn_Group=%{x}<br>KWH/hh=%{y}<extra></extra>",
         "legendgroup": "MAC002113",
         "marker": {
          "color": "#19d3f3",
          "symbol": "circle"
         },
         "mode": "markers",
         "name": "MAC002113",
         "orientation": "v",
         "showlegend": true,
         "type": "scatter",
         "x": [
          "A"
         ],
         "xaxis": "x",
         "y": [
          0.12190182893356642
         ],
         "yaxis": "y"
        },
        {
         "customdata": [
          [
           "MAC002150"
          ]
         ],
         "hovertemplate": "LCLid=%{customdata[0]}<br>Acorn_Group=%{x}<br>KWH/hh=%{y}<extra></extra>",
         "legendgroup": "MAC002150",
         "marker": {
          "color": "#FF6692",
          "symbol": "circle"
         },
         "mode": "markers",
         "name": "MAC002150",
         "orientation": "v",
         "showlegend": true,
         "type": "scatter",
         "x": [
          "A"
         ],
         "xaxis": "x",
         "y": [
          0.2828148684542055
         ],
         "yaxis": "y"
        },
        {
         "customdata": [
          [
           "MAC002199"
          ]
         ],
         "hovertemplate": "LCLid=%{customdata[0]}<br>Acorn_Group=%{x}<br>KWH/hh=%{y}<extra></extra>",
         "legendgroup": "MAC002199",
         "marker": {
          "color": "#B6E880",
          "symbol": "circle"
         },
         "mode": "markers",
         "name": "MAC002199",
         "orientation": "v",
         "showlegend": true,
         "type": "scatter",
         "x": [
          "A"
         ],
         "xaxis": "x",
         "y": [
          0.2236001019489796
         ],
         "yaxis": "y"
        },
        {
         "customdata": [
          [
           "MAC002552"
          ]
         ],
         "hovertemplate": "LCLid=%{customdata[0]}<br>Acorn_Group=%{x}<br>KWH/hh=%{y}<extra></extra>",
         "legendgroup": "MAC002552",
         "marker": {
          "color": "#FF97FF",
          "symbol": "circle"
         },
         "mode": "markers",
         "name": "MAC002552",
         "orientation": "v",
         "showlegend": true,
         "type": "scatter",
         "x": [
          "A"
         ],
         "xaxis": "x",
         "y": [
          0.1911523705736963
         ],
         "yaxis": "y"
        },
        {
         "customdata": [
          [
           "MAC002563"
          ]
         ],
         "hovertemplate": "LCLid=%{customdata[0]}<br>Acorn_Group=%{x}<br>KWH/hh=%{y}<extra></extra>",
         "legendgroup": "MAC002563",
         "marker": {
          "color": "#FECB52",
          "symbol": "circle"
         },
         "mode": "markers",
         "name": "MAC002563",
         "orientation": "v",
         "showlegend": true,
         "type": "scatter",
         "x": [
          "A"
         ],
         "xaxis": "x",
         "y": [
          0.24511675835480054
         ],
         "yaxis": "y"
        },
        {
         "customdata": [
          [
           "MAC002628"
          ]
         ],
         "hovertemplate": "LCLid=%{customdata[0]}<br>Acorn_Group=%{x}<br>KWH/hh=%{y}<extra></extra>",
         "legendgroup": "MAC002628",
         "marker": {
          "color": "#636efa",
          "symbol": "circle"
         },
         "mode": "markers",
         "name": "MAC002628",
         "orientation": "v",
         "showlegend": true,
         "type": "scatter",
         "x": [
          "A"
         ],
         "xaxis": "x",
         "y": [
          0.9692578601590881
         ],
         "yaxis": "y"
        },
        {
         "customdata": [
          [
           "MAC002937"
          ]
         ],
         "hovertemplate": "LCLid=%{customdata[0]}<br>Acorn_Group=%{x}<br>KWH/hh=%{y}<extra></extra>",
         "legendgroup": "MAC002937",
         "marker": {
          "color": "#EF553B",
          "symbol": "circle"
         },
         "mode": "markers",
         "name": "MAC002937",
         "orientation": "v",
         "showlegend": true,
         "type": "scatter",
         "x": [
          "A"
         ],
         "xaxis": "x",
         "y": [
          0.2993627009292081
         ],
         "yaxis": "y"
        },
        {
         "customdata": [
          [
           "MAC002959"
          ]
         ],
         "hovertemplate": "LCLid=%{customdata[0]}<br>Acorn_Group=%{x}<br>KWH/hh=%{y}<extra></extra>",
         "legendgroup": "MAC002959",
         "marker": {
          "color": "#00cc96",
          "symbol": "circle"
         },
         "mode": "markers",
         "name": "MAC002959",
         "orientation": "v",
         "showlegend": true,
         "type": "scatter",
         "x": [
          "A"
         ],
         "xaxis": "x",
         "y": [
          0.5381476847995854
         ],
         "yaxis": "y"
        },
        {
         "customdata": [
          [
           "MAC003072"
          ]
         ],
         "hovertemplate": "LCLid=%{customdata[0]}<br>Acorn_Group=%{x}<br>KWH/hh=%{y}<extra></extra>",
         "legendgroup": "MAC003072",
         "marker": {
          "color": "#ab63fa",
          "symbol": "circle"
         },
         "mode": "markers",
         "name": "MAC003072",
         "orientation": "v",
         "showlegend": true,
         "type": "scatter",
         "x": [
          "A"
         ],
         "xaxis": "x",
         "y": [
          0.34771577572084716
         ],
         "yaxis": "y"
        },
        {
         "customdata": [
          [
           "MAC003110"
          ]
         ],
         "hovertemplate": "LCLid=%{customdata[0]}<br>Acorn_Group=%{x}<br>KWH/hh=%{y}<extra></extra>",
         "legendgroup": "MAC003110",
         "marker": {
          "color": "#FFA15A",
          "symbol": "circle"
         },
         "mode": "markers",
         "name": "MAC003110",
         "orientation": "v",
         "showlegend": true,
         "type": "scatter",
         "x": [
          "A"
         ],
         "xaxis": "x",
         "y": [
          0.16507060740563326
         ],
         "yaxis": "y"
        },
        {
         "customdata": [
          [
           "MAC003182"
          ]
         ],
         "hovertemplate": "LCLid=%{customdata[0]}<br>Acorn_Group=%{x}<br>KWH/hh=%{y}<extra></extra>",
         "legendgroup": "MAC003182",
         "marker": {
          "color": "#19d3f3",
          "symbol": "circle"
         },
         "mode": "markers",
         "name": "MAC003182",
         "orientation": "v",
         "showlegend": true,
         "type": "scatter",
         "x": [
          "A"
         ],
         "xaxis": "x",
         "y": [
          0.44867436120740245
         ],
         "yaxis": "y"
        },
        {
         "customdata": [
          [
           "MAC003211"
          ]
         ],
         "hovertemplate": "LCLid=%{customdata[0]}<br>Acorn_Group=%{x}<br>KWH/hh=%{y}<extra></extra>",
         "legendgroup": "MAC003211",
         "marker": {
          "color": "#FF6692",
          "symbol": "circle"
         },
         "mode": "markers",
         "name": "MAC003211",
         "orientation": "v",
         "showlegend": true,
         "type": "scatter",
         "x": [
          "A"
         ],
         "xaxis": "x",
         "y": [
          0.3296757054272426
         ],
         "yaxis": "y"
        },
        {
         "customdata": [
          [
           "MAC003223"
          ]
         ],
         "hovertemplate": "LCLid=%{customdata[0]}<br>Acorn_Group=%{x}<br>KWH/hh=%{y}<extra></extra>",
         "legendgroup": "MAC003223",
         "marker": {
          "color": "#B6E880",
          "symbol": "circle"
         },
         "mode": "markers",
         "name": "MAC003223",
         "orientation": "v",
         "showlegend": true,
         "type": "scatter",
         "x": [
          "A"
         ],
         "xaxis": "x",
         "y": [
          0.4002075219269889
         ],
         "yaxis": "y"
        },
        {
         "customdata": [
          [
           "MAC003239"
          ]
         ],
         "hovertemplate": "LCLid=%{customdata[0]}<br>Acorn_Group=%{x}<br>KWH/hh=%{y}<extra></extra>",
         "legendgroup": "MAC003239",
         "marker": {
          "color": "#FF97FF",
          "symbol": "circle"
         },
         "mode": "markers",
         "name": "MAC003239",
         "orientation": "v",
         "showlegend": true,
         "type": "scatter",
         "x": [
          "A"
         ],
         "xaxis": "x",
         "y": [
          0.15808619598041537
         ],
         "yaxis": "y"
        },
        {
         "customdata": [
          [
           "MAC003257"
          ]
         ],
         "hovertemplate": "LCLid=%{customdata[0]}<br>Acorn_Group=%{x}<br>KWH/hh=%{y}<extra></extra>",
         "legendgroup": "MAC003257",
         "marker": {
          "color": "#FECB52",
          "symbol": "circle"
         },
         "mode": "markers",
         "name": "MAC003257",
         "orientation": "v",
         "showlegend": true,
         "type": "scatter",
         "x": [
          "A"
         ],
         "xaxis": "x",
         "y": [
          1.1040715558831677
         ],
         "yaxis": "y"
        },
        {
         "customdata": [
          [
           "MAC003281"
          ]
         ],
         "hovertemplate": "LCLid=%{customdata[0]}<br>Acorn_Group=%{x}<br>KWH/hh=%{y}<extra></extra>",
         "legendgroup": "MAC003281",
         "marker": {
          "color": "#636efa",
          "symbol": "circle"
         },
         "mode": "markers",
         "name": "MAC003281",
         "orientation": "v",
         "showlegend": true,
         "type": "scatter",
         "x": [
          "A"
         ],
         "xaxis": "x",
         "y": [
          0.1956828580784812
         ],
         "yaxis": "y"
        },
        {
         "customdata": [
          [
           "MAC003286"
          ]
         ],
         "hovertemplate": "LCLid=%{customdata[0]}<br>Acorn_Group=%{x}<br>KWH/hh=%{y}<extra></extra>",
         "legendgroup": "MAC003286",
         "marker": {
          "color": "#EF553B",
          "symbol": "circle"
         },
         "mode": "markers",
         "name": "MAC003286",
         "orientation": "v",
         "showlegend": true,
         "type": "scatter",
         "x": [
          "A"
         ],
         "xaxis": "x",
         "y": [
          0.2792082952479421
         ],
         "yaxis": "y"
        },
        {
         "customdata": [
          [
           "MAC003305"
          ]
         ],
         "hovertemplate": "LCLid=%{customdata[0]}<br>Acorn_Group=%{x}<br>KWH/hh=%{y}<extra></extra>",
         "legendgroup": "MAC003305",
         "marker": {
          "color": "#00cc96",
          "symbol": "circle"
         },
         "mode": "markers",
         "name": "MAC003305",
         "orientation": "v",
         "showlegend": true,
         "type": "scatter",
         "x": [
          "A"
         ],
         "xaxis": "x",
         "y": [
          0.32886618197651196
         ],
         "yaxis": "y"
        },
        {
         "customdata": [
          [
           "MAC003388"
          ]
         ],
         "hovertemplate": "LCLid=%{customdata[0]}<br>Acorn_Group=%{x}<br>KWH/hh=%{y}<extra></extra>",
         "legendgroup": "MAC003388",
         "marker": {
          "color": "#ab63fa",
          "symbol": "circle"
         },
         "mode": "markers",
         "name": "MAC003388",
         "orientation": "v",
         "showlegend": true,
         "type": "scatter",
         "x": [
          "A"
         ],
         "xaxis": "x",
         "y": [
          0.6025874186790631
         ],
         "yaxis": "y"
        },
        {
         "customdata": [
          [
           "MAC003400"
          ]
         ],
         "hovertemplate": "LCLid=%{customdata[0]}<br>Acorn_Group=%{x}<br>KWH/hh=%{y}<extra></extra>",
         "legendgroup": "MAC003400",
         "marker": {
          "color": "#FFA15A",
          "symbol": "circle"
         },
         "mode": "markers",
         "name": "MAC003400",
         "orientation": "v",
         "showlegend": true,
         "type": "scatter",
         "x": [
          "A"
         ],
         "xaxis": "x",
         "y": [
          0.2547008938833857
         ],
         "yaxis": "y"
        },
        {
         "customdata": [
          [
           "MAC003428"
          ]
         ],
         "hovertemplate": "LCLid=%{customdata[0]}<br>Acorn_Group=%{x}<br>KWH/hh=%{y}<extra></extra>",
         "legendgroup": "MAC003428",
         "marker": {
          "color": "#19d3f3",
          "symbol": "circle"
         },
         "mode": "markers",
         "name": "MAC003428",
         "orientation": "v",
         "showlegend": true,
         "type": "scatter",
         "x": [
          "A"
         ],
         "xaxis": "x",
         "y": [
          0.5464911286032569
         ],
         "yaxis": "y"
        },
        {
         "customdata": [
          [
           "MAC003474"
          ]
         ],
         "hovertemplate": "LCLid=%{customdata[0]}<br>Acorn_Group=%{x}<br>KWH/hh=%{y}<extra></extra>",
         "legendgroup": "MAC003474",
         "marker": {
          "color": "#FF6692",
          "symbol": "circle"
         },
         "mode": "markers",
         "name": "MAC003474",
         "orientation": "v",
         "showlegend": true,
         "type": "scatter",
         "x": [
          "A"
         ],
         "xaxis": "x",
         "y": [
          0.21826368144979738
         ],
         "yaxis": "y"
        },
        {
         "customdata": [
          [
           "MAC003482"
          ]
         ],
         "hovertemplate": "LCLid=%{customdata[0]}<br>Acorn_Group=%{x}<br>KWH/hh=%{y}<extra></extra>",
         "legendgroup": "MAC003482",
         "marker": {
          "color": "#B6E880",
          "symbol": "circle"
         },
         "mode": "markers",
         "name": "MAC003482",
         "orientation": "v",
         "showlegend": true,
         "type": "scatter",
         "x": [
          "A"
         ],
         "xaxis": "x",
         "y": [
          0.2746452675638315
         ],
         "yaxis": "y"
        },
        {
         "customdata": [
          [
           "MAC003553"
          ]
         ],
         "hovertemplate": "LCLid=%{customdata[0]}<br>Acorn_Group=%{x}<br>KWH/hh=%{y}<extra></extra>",
         "legendgroup": "MAC003553",
         "marker": {
          "color": "#FF97FF",
          "symbol": "circle"
         },
         "mode": "markers",
         "name": "MAC003553",
         "orientation": "v",
         "showlegend": true,
         "type": "scatter",
         "x": [
          "A"
         ],
         "xaxis": "x",
         "y": [
          0.3608659058096568
         ],
         "yaxis": "y"
        },
        {
         "customdata": [
          [
           "MAC003557"
          ]
         ],
         "hovertemplate": "LCLid=%{customdata[0]}<br>Acorn_Group=%{x}<br>KWH/hh=%{y}<extra></extra>",
         "legendgroup": "MAC003557",
         "marker": {
          "color": "#FECB52",
          "symbol": "circle"
         },
         "mode": "markers",
         "name": "MAC003557",
         "orientation": "v",
         "showlegend": true,
         "type": "scatter",
         "x": [
          "A"
         ],
         "xaxis": "x",
         "y": [
          0.20815804533837662
         ],
         "yaxis": "y"
        },
        {
         "customdata": [
          [
           "MAC003579"
          ]
         ],
         "hovertemplate": "LCLid=%{customdata[0]}<br>Acorn_Group=%{x}<br>KWH/hh=%{y}<extra></extra>",
         "legendgroup": "MAC003579",
         "marker": {
          "color": "#636efa",
          "symbol": "circle"
         },
         "mode": "markers",
         "name": "MAC003579",
         "orientation": "v",
         "showlegend": true,
         "type": "scatter",
         "x": [
          "A"
         ],
         "xaxis": "x",
         "y": [
          0.22881945700123407
         ],
         "yaxis": "y"
        },
        {
         "customdata": [
          [
           "MAC003606"
          ]
         ],
         "hovertemplate": "LCLid=%{customdata[0]}<br>Acorn_Group=%{x}<br>KWH/hh=%{y}<extra></extra>",
         "legendgroup": "MAC003606",
         "marker": {
          "color": "#EF553B",
          "symbol": "circle"
         },
         "mode": "markers",
         "name": "MAC003606",
         "orientation": "v",
         "showlegend": true,
         "type": "scatter",
         "x": [
          "A"
         ],
         "xaxis": "x",
         "y": [
          0.3647339085380455
         ],
         "yaxis": "y"
        },
        {
         "customdata": [
          [
           "MAC003613"
          ]
         ],
         "hovertemplate": "LCLid=%{customdata[0]}<br>Acorn_Group=%{x}<br>KWH/hh=%{y}<extra></extra>",
         "legendgroup": "MAC003613",
         "marker": {
          "color": "#00cc96",
          "symbol": "circle"
         },
         "mode": "markers",
         "name": "MAC003613",
         "orientation": "v",
         "showlegend": true,
         "type": "scatter",
         "x": [
          "A"
         ],
         "xaxis": "x",
         "y": [
          0.6905727556693368
         ],
         "yaxis": "y"
        },
        {
         "customdata": [
          [
           "MAC003634"
          ]
         ],
         "hovertemplate": "LCLid=%{customdata[0]}<br>Acorn_Group=%{x}<br>KWH/hh=%{y}<extra></extra>",
         "legendgroup": "MAC003634",
         "marker": {
          "color": "#ab63fa",
          "symbol": "circle"
         },
         "mode": "markers",
         "name": "MAC003634",
         "orientation": "v",
         "showlegend": true,
         "type": "scatter",
         "x": [
          "A"
         ],
         "xaxis": "x",
         "y": [
          0.5953342848266733
         ],
         "yaxis": "y"
        },
        {
         "customdata": [
          [
           "MAC003646"
          ]
         ],
         "hovertemplate": "LCLid=%{customdata[0]}<br>Acorn_Group=%{x}<br>KWH/hh=%{y}<extra></extra>",
         "legendgroup": "MAC003646",
         "marker": {
          "color": "#FFA15A",
          "symbol": "circle"
         },
         "mode": "markers",
         "name": "MAC003646",
         "orientation": "v",
         "showlegend": true,
         "type": "scatter",
         "x": [
          "A"
         ],
         "xaxis": "x",
         "y": [
          0.22249600727791802
         ],
         "yaxis": "y"
        },
        {
         "customdata": [
          [
           "MAC003668"
          ]
         ],
         "hovertemplate": "LCLid=%{customdata[0]}<br>Acorn_Group=%{x}<br>KWH/hh=%{y}<extra></extra>",
         "legendgroup": "MAC003668",
         "marker": {
          "color": "#19d3f3",
          "symbol": "circle"
         },
         "mode": "markers",
         "name": "MAC003668",
         "orientation": "v",
         "showlegend": true,
         "type": "scatter",
         "x": [
          "A"
         ],
         "xaxis": "x",
         "y": [
          0.7715128377387541
         ],
         "yaxis": "y"
        },
        {
         "customdata": [
          [
           "MAC003683"
          ]
         ],
         "hovertemplate": "LCLid=%{customdata[0]}<br>Acorn_Group=%{x}<br>KWH/hh=%{y}<extra></extra>",
         "legendgroup": "MAC003683",
         "marker": {
          "color": "#FF6692",
          "symbol": "circle"
         },
         "mode": "markers",
         "name": "MAC003683",
         "orientation": "v",
         "showlegend": true,
         "type": "scatter",
         "x": [
          "A"
         ],
         "xaxis": "x",
         "y": [
          0.22023906856403622
         ],
         "yaxis": "y"
        },
        {
         "customdata": [
          [
           "MAC003686"
          ]
         ],
         "hovertemplate": "LCLid=%{customdata[0]}<br>Acorn_Group=%{x}<br>KWH/hh=%{y}<extra></extra>",
         "legendgroup": "MAC003686",
         "marker": {
          "color": "#B6E880",
          "symbol": "circle"
         },
         "mode": "markers",
         "name": "MAC003686",
         "orientation": "v",
         "showlegend": true,
         "type": "scatter",
         "x": [
          "A"
         ],
         "xaxis": "x",
         "y": [
          0.3391242128425443
         ],
         "yaxis": "y"
        },
        {
         "customdata": [
          [
           "MAC003719"
          ]
         ],
         "hovertemplate": "LCLid=%{customdata[0]}<br>Acorn_Group=%{x}<br>KWH/hh=%{y}<extra></extra>",
         "legendgroup": "MAC003719",
         "marker": {
          "color": "#FF97FF",
          "symbol": "circle"
         },
         "mode": "markers",
         "name": "MAC003719",
         "orientation": "v",
         "showlegend": true,
         "type": "scatter",
         "x": [
          "A"
         ],
         "xaxis": "x",
         "y": [
          0.28506532917032396
         ],
         "yaxis": "y"
        },
        {
         "customdata": [
          [
           "MAC003737"
          ]
         ],
         "hovertemplate": "LCLid=%{customdata[0]}<br>Acorn_Group=%{x}<br>KWH/hh=%{y}<extra></extra>",
         "legendgroup": "MAC003737",
         "marker": {
          "color": "#FECB52",
          "symbol": "circle"
         },
         "mode": "markers",
         "name": "MAC003737",
         "orientation": "v",
         "showlegend": true,
         "type": "scatter",
         "x": [
          "A"
         ],
         "xaxis": "x",
         "y": [
          0.21064859324652485
         ],
         "yaxis": "y"
        },
        {
         "customdata": [
          [
           "MAC003740"
          ]
         ],
         "hovertemplate": "LCLid=%{customdata[0]}<br>Acorn_Group=%{x}<br>KWH/hh=%{y}<extra></extra>",
         "legendgroup": "MAC003740",
         "marker": {
          "color": "#636efa",
          "symbol": "circle"
         },
         "mode": "markers",
         "name": "MAC003740",
         "orientation": "v",
         "showlegend": true,
         "type": "scatter",
         "x": [
          "A"
         ],
         "xaxis": "x",
         "y": [
          0.21498304093212178
         ],
         "yaxis": "y"
        },
        {
         "customdata": [
          [
           "MAC003775"
          ]
         ],
         "hovertemplate": "LCLid=%{customdata[0]}<br>Acorn_Group=%{x}<br>KWH/hh=%{y}<extra></extra>",
         "legendgroup": "MAC003775",
         "marker": {
          "color": "#EF553B",
          "symbol": "circle"
         },
         "mode": "markers",
         "name": "MAC003775",
         "orientation": "v",
         "showlegend": true,
         "type": "scatter",
         "x": [
          "A"
         ],
         "xaxis": "x",
         "y": [
          0.6215505503653685
         ],
         "yaxis": "y"
        },
        {
         "customdata": [
          [
           "MAC003805"
          ]
         ],
         "hovertemplate": "LCLid=%{customdata[0]}<br>Acorn_Group=%{x}<br>KWH/hh=%{y}<extra></extra>",
         "legendgroup": "MAC003805",
         "marker": {
          "color": "#00cc96",
          "symbol": "circle"
         },
         "mode": "markers",
         "name": "MAC003805",
         "orientation": "v",
         "showlegend": true,
         "type": "scatter",
         "x": [
          "A"
         ],
         "xaxis": "x",
         "y": [
          0.2660374857528811
         ],
         "yaxis": "y"
        },
        {
         "customdata": [
          [
           "MAC003807"
          ]
         ],
         "hovertemplate": "LCLid=%{customdata[0]}<br>Acorn_Group=%{x}<br>KWH/hh=%{y}<extra></extra>",
         "legendgroup": "MAC003807",
         "marker": {
          "color": "#ab63fa",
          "symbol": "circle"
         },
         "mode": "markers",
         "name": "MAC003807",
         "orientation": "v",
         "showlegend": true,
         "type": "scatter",
         "x": [
          "A"
         ],
         "xaxis": "x",
         "y": [
          0.5645616634452184
         ],
         "yaxis": "y"
        },
        {
         "customdata": [
          [
           "MAC003826"
          ]
         ],
         "hovertemplate": "LCLid=%{customdata[0]}<br>Acorn_Group=%{x}<br>KWH/hh=%{y}<extra></extra>",
         "legendgroup": "MAC003826",
         "marker": {
          "color": "#FFA15A",
          "symbol": "circle"
         },
         "mode": "markers",
         "name": "MAC003826",
         "orientation": "v",
         "showlegend": true,
         "type": "scatter",
         "x": [
          "A"
         ],
         "xaxis": "x",
         "y": [
          0.221344427950941
         ],
         "yaxis": "y"
        },
        {
         "customdata": [
          [
           "MAC003840"
          ]
         ],
         "hovertemplate": "LCLid=%{customdata[0]}<br>Acorn_Group=%{x}<br>KWH/hh=%{y}<extra></extra>",
         "legendgroup": "MAC003840",
         "marker": {
          "color": "#19d3f3",
          "symbol": "circle"
         },
         "mode": "markers",
         "name": "MAC003840",
         "orientation": "v",
         "showlegend": true,
         "type": "scatter",
         "x": [
          "A"
         ],
         "xaxis": "x",
         "y": [
          0.22574267943889642
         ],
         "yaxis": "y"
        },
        {
         "customdata": [
          [
           "MAC003851"
          ]
         ],
         "hovertemplate": "LCLid=%{customdata[0]}<br>Acorn_Group=%{x}<br>KWH/hh=%{y}<extra></extra>",
         "legendgroup": "MAC003851",
         "marker": {
          "color": "#FF6692",
          "symbol": "circle"
         },
         "mode": "markers",
         "name": "MAC003851",
         "orientation": "v",
         "showlegend": true,
         "type": "scatter",
         "x": [
          "A"
         ],
         "xaxis": "x",
         "y": [
          0.28075532951896587
         ],
         "yaxis": "y"
        },
        {
         "customdata": [
          [
           "MAC003863"
          ]
         ],
         "hovertemplate": "LCLid=%{customdata[0]}<br>Acorn_Group=%{x}<br>KWH/hh=%{y}<extra></extra>",
         "legendgroup": "MAC003863",
         "marker": {
          "color": "#B6E880",
          "symbol": "circle"
         },
         "mode": "markers",
         "name": "MAC003863",
         "orientation": "v",
         "showlegend": true,
         "type": "scatter",
         "x": [
          "A"
         ],
         "xaxis": "x",
         "y": [
          0.2907361759959229
         ],
         "yaxis": "y"
        },
        {
         "customdata": [
          [
           "MAC003895"
          ]
         ],
         "hovertemplate": "LCLid=%{customdata[0]}<br>Acorn_Group=%{x}<br>KWH/hh=%{y}<extra></extra>",
         "legendgroup": "MAC003895",
         "marker": {
          "color": "#FF97FF",
          "symbol": "circle"
         },
         "mode": "markers",
         "name": "MAC003895",
         "orientation": "v",
         "showlegend": true,
         "type": "scatter",
         "x": [
          "A"
         ],
         "xaxis": "x",
         "y": [
          0.3730554039072991
         ],
         "yaxis": "y"
        },
        {
         "customdata": [
          [
           "MAC004034"
          ]
         ],
         "hovertemplate": "LCLid=%{customdata[0]}<br>Acorn_Group=%{x}<br>KWH/hh=%{y}<extra></extra>",
         "legendgroup": "MAC004034",
         "marker": {
          "color": "#FECB52",
          "symbol": "circle"
         },
         "mode": "markers",
         "name": "MAC004034",
         "orientation": "v",
         "showlegend": true,
         "type": "scatter",
         "x": [
          "A"
         ],
         "xaxis": "x",
         "y": [
          0.2334507877657555
         ],
         "yaxis": "y"
        },
        {
         "customdata": [
          [
           "MAC004054"
          ]
         ],
         "hovertemplate": "LCLid=%{customdata[0]}<br>Acorn_Group=%{x}<br>KWH/hh=%{y}<extra></extra>",
         "legendgroup": "MAC004054",
         "marker": {
          "color": "#636efa",
          "symbol": "circle"
         },
         "mode": "markers",
         "name": "MAC004054",
         "orientation": "v",
         "showlegend": true,
         "type": "scatter",
         "x": [
          "A"
         ],
         "xaxis": "x",
         "y": [
          0.5801348642304623
         ],
         "yaxis": "y"
        },
        {
         "customdata": [
          [
           "MAC004179"
          ]
         ],
         "hovertemplate": "LCLid=%{customdata[0]}<br>Acorn_Group=%{x}<br>KWH/hh=%{y}<extra></extra>",
         "legendgroup": "MAC004179",
         "marker": {
          "color": "#EF553B",
          "symbol": "circle"
         },
         "mode": "markers",
         "name": "MAC004179",
         "orientation": "v",
         "showlegend": true,
         "type": "scatter",
         "x": [
          "A"
         ],
         "xaxis": "x",
         "y": [
          2.111239230527941
         ],
         "yaxis": "y"
        },
        {
         "customdata": [
          [
           "MAC004319"
          ]
         ],
         "hovertemplate": "LCLid=%{customdata[0]}<br>Acorn_Group=%{x}<br>KWH/hh=%{y}<extra></extra>",
         "legendgroup": "MAC004319",
         "marker": {
          "color": "#00cc96",
          "symbol": "circle"
         },
         "mode": "markers",
         "name": "MAC004319",
         "orientation": "v",
         "showlegend": true,
         "type": "scatter",
         "x": [
          "A"
         ],
         "xaxis": "x",
         "y": [
          1.0201210303693393
         ],
         "yaxis": "y"
        },
        {
         "customdata": [
          [
           "MAC004374"
          ]
         ],
         "hovertemplate": "LCLid=%{customdata[0]}<br>Acorn_Group=%{x}<br>KWH/hh=%{y}<extra></extra>",
         "legendgroup": "MAC004374",
         "marker": {
          "color": "#ab63fa",
          "symbol": "circle"
         },
         "mode": "markers",
         "name": "MAC004374",
         "orientation": "v",
         "showlegend": true,
         "type": "scatter",
         "x": [
          "A"
         ],
         "xaxis": "x",
         "y": [
          0.5414855183386861
         ],
         "yaxis": "y"
        },
        {
         "customdata": [
          [
           "MAC004387"
          ]
         ],
         "hovertemplate": "LCLid=%{customdata[0]}<br>Acorn_Group=%{x}<br>KWH/hh=%{y}<extra></extra>",
         "legendgroup": "MAC004387",
         "marker": {
          "color": "#FFA15A",
          "symbol": "circle"
         },
         "mode": "markers",
         "name": "MAC004387",
         "orientation": "v",
         "showlegend": true,
         "type": "scatter",
         "x": [
          "A"
         ],
         "xaxis": "x",
         "y": [
          0.08982759426093052
         ],
         "yaxis": "y"
        },
        {
         "customdata": [
          [
           "MAC004436"
          ]
         ],
         "hovertemplate": "LCLid=%{customdata[0]}<br>Acorn_Group=%{x}<br>KWH/hh=%{y}<extra></extra>",
         "legendgroup": "MAC004436",
         "marker": {
          "color": "#19d3f3",
          "symbol": "circle"
         },
         "mode": "markers",
         "name": "MAC004436",
         "orientation": "v",
         "showlegend": true,
         "type": "scatter",
         "x": [
          "A"
         ],
         "xaxis": "x",
         "y": [
          0.10162349484287812
         ],
         "yaxis": "y"
        },
        {
         "customdata": [
          [
           "MAC004529"
          ]
         ],
         "hovertemplate": "LCLid=%{customdata[0]}<br>Acorn_Group=%{x}<br>KWH/hh=%{y}<extra></extra>",
         "legendgroup": "MAC004529",
         "marker": {
          "color": "#FF6692",
          "symbol": "circle"
         },
         "mode": "markers",
         "name": "MAC004529",
         "orientation": "v",
         "showlegend": true,
         "type": "scatter",
         "x": [
          "A"
         ],
         "xaxis": "x",
         "y": [
          0.1603351838767691
         ],
         "yaxis": "y"
        },
        {
         "customdata": [
          [
           "MAC004543"
          ]
         ],
         "hovertemplate": "LCLid=%{customdata[0]}<br>Acorn_Group=%{x}<br>KWH/hh=%{y}<extra></extra>",
         "legendgroup": "MAC004543",
         "marker": {
          "color": "#B6E880",
          "symbol": "circle"
         },
         "mode": "markers",
         "name": "MAC004543",
         "orientation": "v",
         "showlegend": true,
         "type": "scatter",
         "x": [
          "A"
         ],
         "xaxis": "x",
         "y": [
          0.42857849613710414
         ],
         "yaxis": "y"
        },
        {
         "customdata": [
          [
           "MAC004554"
          ]
         ],
         "hovertemplate": "LCLid=%{customdata[0]}<br>Acorn_Group=%{x}<br>KWH/hh=%{y}<extra></extra>",
         "legendgroup": "MAC004554",
         "marker": {
          "color": "#FF97FF",
          "symbol": "circle"
         },
         "mode": "markers",
         "name": "MAC004554",
         "orientation": "v",
         "showlegend": true,
         "type": "scatter",
         "x": [
          "A"
         ],
         "xaxis": "x",
         "y": [
          0.2291520031293227
         ],
         "yaxis": "y"
        },
        {
         "customdata": [
          [
           "MAC004789"
          ]
         ],
         "hovertemplate": "LCLid=%{customdata[0]}<br>Acorn_Group=%{x}<br>KWH/hh=%{y}<extra></extra>",
         "legendgroup": "MAC004789",
         "marker": {
          "color": "#FECB52",
          "symbol": "circle"
         },
         "mode": "markers",
         "name": "MAC004789",
         "orientation": "v",
         "showlegend": true,
         "type": "scatter",
         "x": [
          "A"
         ],
         "xaxis": "x",
         "y": [
          0.13937457631902575
         ],
         "yaxis": "y"
        },
        {
         "customdata": [
          [
           "MAC004872"
          ]
         ],
         "hovertemplate": "LCLid=%{customdata[0]}<br>Acorn_Group=%{x}<br>KWH/hh=%{y}<extra></extra>",
         "legendgroup": "MAC004872",
         "marker": {
          "color": "#636efa",
          "symbol": "circle"
         },
         "mode": "markers",
         "name": "MAC004872",
         "orientation": "v",
         "showlegend": true,
         "type": "scatter",
         "x": [
          "A"
         ],
         "xaxis": "x",
         "y": [
          0.27288718437591075
         ],
         "yaxis": "y"
        },
        {
         "customdata": [
          [
           "MAC004900"
          ]
         ],
         "hovertemplate": "LCLid=%{customdata[0]}<br>Acorn_Group=%{x}<br>KWH/hh=%{y}<extra></extra>",
         "legendgroup": "MAC004900",
         "marker": {
          "color": "#EF553B",
          "symbol": "circle"
         },
         "mode": "markers",
         "name": "MAC004900",
         "orientation": "v",
         "showlegend": true,
         "type": "scatter",
         "x": [
          "A"
         ],
         "xaxis": "x",
         "y": [
          0.5075056309650825
         ],
         "yaxis": "y"
        },
        {
         "customdata": [
          [
           "MAC004955"
          ]
         ],
         "hovertemplate": "LCLid=%{customdata[0]}<br>Acorn_Group=%{x}<br>KWH/hh=%{y}<extra></extra>",
         "legendgroup": "MAC004955",
         "marker": {
          "color": "#00cc96",
          "symbol": "circle"
         },
         "mode": "markers",
         "name": "MAC004955",
         "orientation": "v",
         "showlegend": true,
         "type": "scatter",
         "x": [
          "A"
         ],
         "xaxis": "x",
         "y": [
          0.2068919388922107
         ],
         "yaxis": "y"
        },
        {
         "customdata": [
          [
           "MAC004988"
          ]
         ],
         "hovertemplate": "LCLid=%{customdata[0]}<br>Acorn_Group=%{x}<br>KWH/hh=%{y}<extra></extra>",
         "legendgroup": "MAC004988",
         "marker": {
          "color": "#ab63fa",
          "symbol": "circle"
         },
         "mode": "markers",
         "name": "MAC004988",
         "orientation": "v",
         "showlegend": true,
         "type": "scatter",
         "x": [
          "A"
         ],
         "xaxis": "x",
         "y": [
          0.22975015010914052
         ],
         "yaxis": "y"
        },
        {
         "customdata": [
          [
           "MAC004997"
          ]
         ],
         "hovertemplate": "LCLid=%{customdata[0]}<br>Acorn_Group=%{x}<br>KWH/hh=%{y}<extra></extra>",
         "legendgroup": "MAC004997",
         "marker": {
          "color": "#FFA15A",
          "symbol": "circle"
         },
         "mode": "markers",
         "name": "MAC004997",
         "orientation": "v",
         "showlegend": true,
         "type": "scatter",
         "x": [
          "A"
         ],
         "xaxis": "x",
         "y": [
          0.4784809820247835
         ],
         "yaxis": "y"
        },
        {
         "customdata": [
          [
           "MAC005042"
          ]
         ],
         "hovertemplate": "LCLid=%{customdata[0]}<br>Acorn_Group=%{x}<br>KWH/hh=%{y}<extra></extra>",
         "legendgroup": "MAC005042",
         "marker": {
          "color": "#19d3f3",
          "symbol": "circle"
         },
         "mode": "markers",
         "name": "MAC005042",
         "orientation": "v",
         "showlegend": true,
         "type": "scatter",
         "x": [
          "A"
         ],
         "xaxis": "x",
         "y": [
          0.3077096064492176
         ],
         "yaxis": "y"
        },
        {
         "customdata": [
          [
           "MAC005159"
          ]
         ],
         "hovertemplate": "LCLid=%{customdata[0]}<br>Acorn_Group=%{x}<br>KWH/hh=%{y}<extra></extra>",
         "legendgroup": "MAC005159",
         "marker": {
          "color": "#FF6692",
          "symbol": "circle"
         },
         "mode": "markers",
         "name": "MAC005159",
         "orientation": "v",
         "showlegend": true,
         "type": "scatter",
         "x": [
          "A"
         ],
         "xaxis": "x",
         "y": [
          0.35028378788583026
         ],
         "yaxis": "y"
        },
        {
         "customdata": [
          [
           "MAC005160"
          ]
         ],
         "hovertemplate": "LCLid=%{customdata[0]}<br>Acorn_Group=%{x}<br>KWH/hh=%{y}<extra></extra>",
         "legendgroup": "MAC005160",
         "marker": {
          "color": "#B6E880",
          "symbol": "circle"
         },
         "mode": "markers",
         "name": "MAC005160",
         "orientation": "v",
         "showlegend": true,
         "type": "scatter",
         "x": [
          "A"
         ],
         "xaxis": "x",
         "y": [
          0.235253472779866
         ],
         "yaxis": "y"
        },
        {
         "customdata": [
          [
           "MAC005283"
          ]
         ],
         "hovertemplate": "LCLid=%{customdata[0]}<br>Acorn_Group=%{x}<br>KWH/hh=%{y}<extra></extra>",
         "legendgroup": "MAC005283",
         "marker": {
          "color": "#FF97FF",
          "symbol": "circle"
         },
         "mode": "markers",
         "name": "MAC005283",
         "orientation": "v",
         "showlegend": true,
         "type": "scatter",
         "x": [
          "A"
         ],
         "xaxis": "x",
         "y": [
          0.2650145339347366
         ],
         "yaxis": "y"
        },
        {
         "customdata": [
          [
           "MAC005406"
          ]
         ],
         "hovertemplate": "LCLid=%{customdata[0]}<br>Acorn_Group=%{x}<br>KWH/hh=%{y}<extra></extra>",
         "legendgroup": "MAC005406",
         "marker": {
          "color": "#FECB52",
          "symbol": "circle"
         },
         "mode": "markers",
         "name": "MAC005406",
         "orientation": "v",
         "showlegend": true,
         "type": "scatter",
         "x": [
          "A"
         ],
         "xaxis": "x",
         "y": [
          1.4801239923872473
         ],
         "yaxis": "y"
        },
        {
         "customdata": [
          [
           "MAC005421"
          ]
         ],
         "hovertemplate": "LCLid=%{customdata[0]}<br>Acorn_Group=%{x}<br>KWH/hh=%{y}<extra></extra>",
         "legendgroup": "MAC005421",
         "marker": {
          "color": "#636efa",
          "symbol": "circle"
         },
         "mode": "markers",
         "name": "MAC005421",
         "orientation": "v",
         "showlegend": true,
         "type": "scatter",
         "x": [
          "A"
         ],
         "xaxis": "x",
         "y": [
          0.5015949272657165
         ],
         "yaxis": "y"
        },
        {
         "customdata": [
          [
           "MAC001410"
          ]
         ],
         "hovertemplate": "LCLid=%{customdata[0]}<br>Acorn_Group=%{x}<br>KWH/hh=%{y}<extra></extra>",
         "legendgroup": "MAC001410",
         "marker": {
          "color": "#EF553B",
          "symbol": "circle"
         },
         "mode": "markers",
         "name": "MAC001410",
         "orientation": "v",
         "showlegend": true,
         "type": "scatter",
         "x": [
          "B"
         ],
         "xaxis": "x",
         "y": [
          0.20946149659312863
         ],
         "yaxis": "y"
        },
        {
         "customdata": [
          [
           "MAC003355"
          ]
         ],
         "hovertemplate": "LCLid=%{customdata[0]}<br>Acorn_Group=%{x}<br>KWH/hh=%{y}<extra></extra>",
         "legendgroup": "MAC003355",
         "marker": {
          "color": "#00cc96",
          "symbol": "circle"
         },
         "mode": "markers",
         "name": "MAC003355",
         "orientation": "v",
         "showlegend": true,
         "type": "scatter",
         "x": [
          "B"
         ],
         "xaxis": "x",
         "y": [
          0.38890035290319996
         ],
         "yaxis": "y"
        },
        {
         "customdata": [
          [
           "MAC003403"
          ]
         ],
         "hovertemplate": "LCLid=%{customdata[0]}<br>Acorn_Group=%{x}<br>KWH/hh=%{y}<extra></extra>",
         "legendgroup": "MAC003403",
         "marker": {
          "color": "#ab63fa",
          "symbol": "circle"
         },
         "mode": "markers",
         "name": "MAC003403",
         "orientation": "v",
         "showlegend": true,
         "type": "scatter",
         "x": [
          "B"
         ],
         "xaxis": "x",
         "y": [
          0.1231277126867174
         ],
         "yaxis": "y"
        },
        {
         "customdata": [
          [
           "MAC003445"
          ]
         ],
         "hovertemplate": "LCLid=%{customdata[0]}<br>Acorn_Group=%{x}<br>KWH/hh=%{y}<extra></extra>",
         "legendgroup": "MAC003445",
         "marker": {
          "color": "#FFA15A",
          "symbol": "circle"
         },
         "mode": "markers",
         "name": "MAC003445",
         "orientation": "v",
         "showlegend": true,
         "type": "scatter",
         "x": [
          "B"
         ],
         "xaxis": "x",
         "y": [
          0.4336888690816161
         ],
         "yaxis": "y"
        },
        {
         "customdata": [
          [
           "MAC003822"
          ]
         ],
         "hovertemplate": "LCLid=%{customdata[0]}<br>Acorn_Group=%{x}<br>KWH/hh=%{y}<extra></extra>",
         "legendgroup": "MAC003822",
         "marker": {
          "color": "#19d3f3",
          "symbol": "circle"
         },
         "mode": "markers",
         "name": "MAC003822",
         "orientation": "v",
         "showlegend": true,
         "type": "scatter",
         "x": [
          "B"
         ],
         "xaxis": "x",
         "y": [
          0.14508408052782948
         ],
         "yaxis": "y"
        },
        {
         "customdata": [
          [
           "MAC003876"
          ]
         ],
         "hovertemplate": "LCLid=%{customdata[0]}<br>Acorn_Group=%{x}<br>KWH/hh=%{y}<extra></extra>",
         "legendgroup": "MAC003876",
         "marker": {
          "color": "#FF6692",
          "symbol": "circle"
         },
         "mode": "markers",
         "name": "MAC003876",
         "orientation": "v",
         "showlegend": true,
         "type": "scatter",
         "x": [
          "B"
         ],
         "xaxis": "x",
         "y": [
          0.41789963474770647
         ],
         "yaxis": "y"
        },
        {
         "customdata": [
          [
           "MAC003903"
          ]
         ],
         "hovertemplate": "LCLid=%{customdata[0]}<br>Acorn_Group=%{x}<br>KWH/hh=%{y}<extra></extra>",
         "legendgroup": "MAC003903",
         "marker": {
          "color": "#B6E880",
          "symbol": "circle"
         },
         "mode": "markers",
         "name": "MAC003903",
         "orientation": "v",
         "showlegend": true,
         "type": "scatter",
         "x": [
          "B"
         ],
         "xaxis": "x",
         "y": [
          0.6634563366158822
         ],
         "yaxis": "y"
        },
        {
         "customdata": [
          [
           "MAC004417"
          ]
         ],
         "hovertemplate": "LCLid=%{customdata[0]}<br>Acorn_Group=%{x}<br>KWH/hh=%{y}<extra></extra>",
         "legendgroup": "MAC004417",
         "marker": {
          "color": "#FF97FF",
          "symbol": "circle"
         },
         "mode": "markers",
         "name": "MAC004417",
         "orientation": "v",
         "showlegend": true,
         "type": "scatter",
         "x": [
          "B"
         ],
         "xaxis": "x",
         "y": [
          0.13540744326939996
         ],
         "yaxis": "y"
        },
        {
         "customdata": [
          [
           "MAC004567"
          ]
         ],
         "hovertemplate": "LCLid=%{customdata[0]}<br>Acorn_Group=%{x}<br>KWH/hh=%{y}<extra></extra>",
         "legendgroup": "MAC004567",
         "marker": {
          "color": "#FECB52",
          "symbol": "circle"
         },
         "mode": "markers",
         "name": "MAC004567",
         "orientation": "v",
         "showlegend": true,
         "type": "scatter",
         "x": [
          "B"
         ],
         "xaxis": "x",
         "y": [
          0.2025556542589883
         ],
         "yaxis": "y"
        },
        {
         "customdata": [
          [
           "MAC000017"
          ]
         ],
         "hovertemplate": "LCLid=%{customdata[0]}<br>Acorn_Group=%{x}<br>KWH/hh=%{y}<extra></extra>",
         "legendgroup": "MAC000017",
         "marker": {
          "color": "#636efa",
          "symbol": "circle"
         },
         "mode": "markers",
         "name": "MAC000017",
         "orientation": "v",
         "showlegend": true,
         "type": "scatter",
         "x": [
          "C"
         ],
         "xaxis": "x",
         "y": [
          0.13302527760835084
         ],
         "yaxis": "y"
        },
        {
         "customdata": [
          [
           "MAC000096"
          ]
         ],
         "hovertemplate": "LCLid=%{customdata[0]}<br>Acorn_Group=%{x}<br>KWH/hh=%{y}<extra></extra>",
         "legendgroup": "MAC000096",
         "marker": {
          "color": "#EF553B",
          "symbol": "circle"
         },
         "mode": "markers",
         "name": "MAC000096",
         "orientation": "v",
         "showlegend": true,
         "type": "scatter",
         "x": [
          "C"
         ],
         "xaxis": "x",
         "y": [
          0.6011210090421831
         ],
         "yaxis": "y"
        },
        {
         "customdata": [
          [
           "MAC000140"
          ]
         ],
         "hovertemplate": "LCLid=%{customdata[0]}<br>Acorn_Group=%{x}<br>KWH/hh=%{y}<extra></extra>",
         "legendgroup": "MAC000140",
         "marker": {
          "color": "#00cc96",
          "symbol": "circle"
         },
         "mode": "markers",
         "name": "MAC000140",
         "orientation": "v",
         "showlegend": true,
         "type": "scatter",
         "x": [
          "C"
         ],
         "xaxis": "x",
         "y": [
          0.1058779193050593
         ],
         "yaxis": "y"
        },
        {
         "customdata": [
          [
           "MAC000545"
          ]
         ],
         "hovertemplate": "LCLid=%{customdata[0]}<br>Acorn_Group=%{x}<br>KWH/hh=%{y}<extra></extra>",
         "legendgroup": "MAC000545",
         "marker": {
          "color": "#ab63fa",
          "symbol": "circle"
         },
         "mode": "markers",
         "name": "MAC000545",
         "orientation": "v",
         "showlegend": true,
         "type": "scatter",
         "x": [
          "C"
         ],
         "xaxis": "x",
         "y": [
          0.15926160481879112
         ],
         "yaxis": "y"
        },
        {
         "customdata": [
          [
           "MAC000630"
          ]
         ],
         "hovertemplate": "LCLid=%{customdata[0]}<br>Acorn_Group=%{x}<br>KWH/hh=%{y}<extra></extra>",
         "legendgroup": "MAC000630",
         "marker": {
          "color": "#FFA15A",
          "symbol": "circle"
         },
         "mode": "markers",
         "name": "MAC000630",
         "orientation": "v",
         "showlegend": true,
         "type": "scatter",
         "x": [
          "C"
         ],
         "xaxis": "x",
         "y": [
          0.33349158255743283
         ],
         "yaxis": "y"
        },
        {
         "customdata": [
          [
           "MAC000798"
          ]
         ],
         "hovertemplate": "LCLid=%{customdata[0]}<br>Acorn_Group=%{x}<br>KWH/hh=%{y}<extra></extra>",
         "legendgroup": "MAC000798",
         "marker": {
          "color": "#19d3f3",
          "symbol": "circle"
         },
         "mode": "markers",
         "name": "MAC000798",
         "orientation": "v",
         "showlegend": true,
         "type": "scatter",
         "x": [
          "C"
         ],
         "xaxis": "x",
         "y": [
          0.09130568874315588
         ],
         "yaxis": "y"
        },
        {
         "customdata": [
          [
           "MAC001064"
          ]
         ],
         "hovertemplate": "LCLid=%{customdata[0]}<br>Acorn_Group=%{x}<br>KWH/hh=%{y}<extra></extra>",
         "legendgroup": "MAC001064",
         "marker": {
          "color": "#FF6692",
          "symbol": "circle"
         },
         "mode": "markers",
         "name": "MAC001064",
         "orientation": "v",
         "showlegend": true,
         "type": "scatter",
         "x": [
          "C"
         ],
         "xaxis": "x",
         "y": [
          0.18962814051871474
         ],
         "yaxis": "y"
        },
        {
         "customdata": [
          [
           "MAC001313"
          ]
         ],
         "hovertemplate": "LCLid=%{customdata[0]}<br>Acorn_Group=%{x}<br>KWH/hh=%{y}<extra></extra>",
         "legendgroup": "MAC001313",
         "marker": {
          "color": "#B6E880",
          "symbol": "circle"
         },
         "mode": "markers",
         "name": "MAC001313",
         "orientation": "v",
         "showlegend": true,
         "type": "scatter",
         "x": [
          "C"
         ],
         "xaxis": "x",
         "y": [
          0.1729370039021902
         ],
         "yaxis": "y"
        },
        {
         "customdata": [
          [
           "MAC001371"
          ]
         ],
         "hovertemplate": "LCLid=%{customdata[0]}<br>Acorn_Group=%{x}<br>KWH/hh=%{y}<extra></extra>",
         "legendgroup": "MAC001371",
         "marker": {
          "color": "#FF97FF",
          "symbol": "circle"
         },
         "mode": "markers",
         "name": "MAC001371",
         "orientation": "v",
         "showlegend": true,
         "type": "scatter",
         "x": [
          "C"
         ],
         "xaxis": "x",
         "y": [
          0.3317420778403095
         ],
         "yaxis": "y"
        },
        {
         "customdata": [
          [
           "MAC001395"
          ]
         ],
         "hovertemplate": "LCLid=%{customdata[0]}<br>Acorn_Group=%{x}<br>KWH/hh=%{y}<extra></extra>",
         "legendgroup": "MAC001395",
         "marker": {
          "color": "#FECB52",
          "symbol": "circle"
         },
         "mode": "markers",
         "name": "MAC001395",
         "orientation": "v",
         "showlegend": true,
         "type": "scatter",
         "x": [
          "C"
         ],
         "xaxis": "x",
         "y": [
          0.5117458662231745
         ],
         "yaxis": "y"
        },
        {
         "customdata": [
          [
           "MAC001544"
          ]
         ],
         "hovertemplate": "LCLid=%{customdata[0]}<br>Acorn_Group=%{x}<br>KWH/hh=%{y}<extra></extra>",
         "legendgroup": "MAC001544",
         "marker": {
          "color": "#636efa",
          "symbol": "circle"
         },
         "mode": "markers",
         "name": "MAC001544",
         "orientation": "v",
         "showlegend": true,
         "type": "scatter",
         "x": [
          "C"
         ],
         "xaxis": "x",
         "y": [
          0.3514669848004903
         ],
         "yaxis": "y"
        },
        {
         "customdata": [
          [
           "MAC001553"
          ]
         ],
         "hovertemplate": "LCLid=%{customdata[0]}<br>Acorn_Group=%{x}<br>KWH/hh=%{y}<extra></extra>",
         "legendgroup": "MAC001553",
         "marker": {
          "color": "#EF553B",
          "symbol": "circle"
         },
         "mode": "markers",
         "name": "MAC001553",
         "orientation": "v",
         "showlegend": true,
         "type": "scatter",
         "x": [
          "C"
         ],
         "xaxis": "x",
         "y": [
          0.13971798510432457
         ],
         "yaxis": "y"
        },
        {
         "customdata": [
          [
           "MAC001579"
          ]
         ],
         "hovertemplate": "LCLid=%{customdata[0]}<br>Acorn_Group=%{x}<br>KWH/hh=%{y}<extra></extra>",
         "legendgroup": "MAC001579",
         "marker": {
          "color": "#00cc96",
          "symbol": "circle"
         },
         "mode": "markers",
         "name": "MAC001579",
         "orientation": "v",
         "showlegend": true,
         "type": "scatter",
         "x": [
          "C"
         ],
         "xaxis": "x",
         "y": [
          0.5017410453073385
         ],
         "yaxis": "y"
        },
        {
         "customdata": [
          [
           "MAC002015"
          ]
         ],
         "hovertemplate": "LCLid=%{customdata[0]}<br>Acorn_Group=%{x}<br>KWH/hh=%{y}<extra></extra>",
         "legendgroup": "MAC002015",
         "marker": {
          "color": "#ab63fa",
          "symbol": "circle"
         },
         "mode": "markers",
         "name": "MAC002015",
         "orientation": "v",
         "showlegend": true,
         "type": "scatter",
         "x": [
          "C"
         ],
         "xaxis": "x",
         "y": [
          0.1749727755112935
         ],
         "yaxis": "y"
        },
        {
         "customdata": [
          [
           "MAC002070"
          ]
         ],
         "hovertemplate": "LCLid=%{customdata[0]}<br>Acorn_Group=%{x}<br>KWH/hh=%{y}<extra></extra>",
         "legendgroup": "MAC002070",
         "marker": {
          "color": "#FFA15A",
          "symbol": "circle"
         },
         "mode": "markers",
         "name": "MAC002070",
         "orientation": "v",
         "showlegend": true,
         "type": "scatter",
         "x": [
          "C"
         ],
         "xaxis": "x",
         "y": [
          0.23141818603593053
         ],
         "yaxis": "y"
        },
        {
         "customdata": [
          [
           "MAC002481"
          ]
         ],
         "hovertemplate": "LCLid=%{customdata[0]}<br>Acorn_Group=%{x}<br>KWH/hh=%{y}<extra></extra>",
         "legendgroup": "MAC002481",
         "marker": {
          "color": "#19d3f3",
          "symbol": "circle"
         },
         "mode": "markers",
         "name": "MAC002481",
         "orientation": "v",
         "showlegend": true,
         "type": "scatter",
         "x": [
          "C"
         ],
         "xaxis": "x",
         "y": [
          0.268569441824489
         ],
         "yaxis": "y"
        },
        {
         "customdata": [
          [
           "MAC002575"
          ]
         ],
         "hovertemplate": "LCLid=%{customdata[0]}<br>Acorn_Group=%{x}<br>KWH/hh=%{y}<extra></extra>",
         "legendgroup": "MAC002575",
         "marker": {
          "color": "#FF6692",
          "symbol": "circle"
         },
         "mode": "markers",
         "name": "MAC002575",
         "orientation": "v",
         "showlegend": true,
         "type": "scatter",
         "x": [
          "C"
         ],
         "xaxis": "x",
         "y": [
          0.13867656699783867
         ],
         "yaxis": "y"
        },
        {
         "customdata": [
          [
           "MAC002595"
          ]
         ],
         "hovertemplate": "LCLid=%{customdata[0]}<br>Acorn_Group=%{x}<br>KWH/hh=%{y}<extra></extra>",
         "legendgroup": "MAC002595",
         "marker": {
          "color": "#B6E880",
          "symbol": "circle"
         },
         "mode": "markers",
         "name": "MAC002595",
         "orientation": "v",
         "showlegend": true,
         "type": "scatter",
         "x": [
          "C"
         ],
         "xaxis": "x",
         "y": [
          0.17309065550209204
         ],
         "yaxis": "y"
        },
        {
         "customdata": [
          [
           "MAC002599"
          ]
         ],
         "hovertemplate": "LCLid=%{customdata[0]}<br>Acorn_Group=%{x}<br>KWH/hh=%{y}<extra></extra>",
         "legendgroup": "MAC002599",
         "marker": {
          "color": "#FF97FF",
          "symbol": "circle"
         },
         "mode": "markers",
         "name": "MAC002599",
         "orientation": "v",
         "showlegend": true,
         "type": "scatter",
         "x": [
          "C"
         ],
         "xaxis": "x",
         "y": [
          0.24570560342759512
         ],
         "yaxis": "y"
        },
        {
         "customdata": [
          [
           "MAC002604"
          ]
         ],
         "hovertemplate": "LCLid=%{customdata[0]}<br>Acorn_Group=%{x}<br>KWH/hh=%{y}<extra></extra>",
         "legendgroup": "MAC002604",
         "marker": {
          "color": "#FECB52",
          "symbol": "circle"
         },
         "mode": "markers",
         "name": "MAC002604",
         "orientation": "v",
         "showlegend": true,
         "type": "scatter",
         "x": [
          "C"
         ],
         "xaxis": "x",
         "y": [
          0.37109145753138073
         ],
         "yaxis": "y"
        },
        {
         "customdata": [
          [
           "MAC002606"
          ]
         ],
         "hovertemplate": "LCLid=%{customdata[0]}<br>Acorn_Group=%{x}<br>KWH/hh=%{y}<extra></extra>",
         "legendgroup": "MAC002606",
         "marker": {
          "color": "#636efa",
          "symbol": "circle"
         },
         "mode": "markers",
         "name": "MAC002606",
         "orientation": "v",
         "showlegend": true,
         "type": "scatter",
         "x": [
          "C"
         ],
         "xaxis": "x",
         "y": [
          0.24254780332635983
         ],
         "yaxis": "y"
        },
        {
         "customdata": [
          [
           "MAC002829"
          ]
         ],
         "hovertemplate": "LCLid=%{customdata[0]}<br>Acorn_Group=%{x}<br>KWH/hh=%{y}<extra></extra>",
         "legendgroup": "MAC002829",
         "marker": {
          "color": "#EF553B",
          "symbol": "circle"
         },
         "mode": "markers",
         "name": "MAC002829",
         "orientation": "v",
         "showlegend": true,
         "type": "scatter",
         "x": [
          "C"
         ],
         "xaxis": "x",
         "y": [
          0.21158931626322794
         ],
         "yaxis": "y"
        },
        {
         "customdata": [
          [
           "MAC002862"
          ]
         ],
         "hovertemplate": "LCLid=%{customdata[0]}<br>Acorn_Group=%{x}<br>KWH/hh=%{y}<extra></extra>",
         "legendgroup": "MAC002862",
         "marker": {
          "color": "#00cc96",
          "symbol": "circle"
         },
         "mode": "markers",
         "name": "MAC002862",
         "orientation": "v",
         "showlegend": true,
         "type": "scatter",
         "x": [
          "C"
         ],
         "xaxis": "x",
         "y": [
          0.36255097896204297
         ],
         "yaxis": "y"
        },
        {
         "customdata": [
          [
           "MAC003001"
          ]
         ],
         "hovertemplate": "LCLid=%{customdata[0]}<br>Acorn_Group=%{x}<br>KWH/hh=%{y}<extra></extra>",
         "legendgroup": "MAC003001",
         "marker": {
          "color": "#ab63fa",
          "symbol": "circle"
         },
         "mode": "markers",
         "name": "MAC003001",
         "orientation": "v",
         "showlegend": true,
         "type": "scatter",
         "x": [
          "C"
         ],
         "xaxis": "x",
         "y": [
          0.17608362680754092
         ],
         "yaxis": "y"
        },
        {
         "customdata": [
          [
           "MAC003065"
          ]
         ],
         "hovertemplate": "LCLid=%{customdata[0]}<br>Acorn_Group=%{x}<br>KWH/hh=%{y}<extra></extra>",
         "legendgroup": "MAC003065",
         "marker": {
          "color": "#FFA15A",
          "symbol": "circle"
         },
         "mode": "markers",
         "name": "MAC003065",
         "orientation": "v",
         "showlegend": true,
         "type": "scatter",
         "x": [
          "C"
         ],
         "xaxis": "x",
         "y": [
          0.3686401606682821
         ],
         "yaxis": "y"
        },
        {
         "customdata": [
          [
           "MAC003157"
          ]
         ],
         "hovertemplate": "LCLid=%{customdata[0]}<br>Acorn_Group=%{x}<br>KWH/hh=%{y}<extra></extra>",
         "legendgroup": "MAC003157",
         "marker": {
          "color": "#19d3f3",
          "symbol": "circle"
         },
         "mode": "markers",
         "name": "MAC003157",
         "orientation": "v",
         "showlegend": true,
         "type": "scatter",
         "x": [
          "C"
         ],
         "xaxis": "x",
         "y": [
          0.3870145009374671
         ],
         "yaxis": "y"
        },
        {
         "customdata": [
          [
           "MAC003201"
          ]
         ],
         "hovertemplate": "LCLid=%{customdata[0]}<br>Acorn_Group=%{x}<br>KWH/hh=%{y}<extra></extra>",
         "legendgroup": "MAC003201",
         "marker": {
          "color": "#FF6692",
          "symbol": "circle"
         },
         "mode": "markers",
         "name": "MAC003201",
         "orientation": "v",
         "showlegend": true,
         "type": "scatter",
         "x": [
          "C"
         ],
         "xaxis": "x",
         "y": [
          0.22620632045169387
         ],
         "yaxis": "y"
        },
        {
         "customdata": [
          [
           "MAC003231"
          ]
         ],
         "hovertemplate": "LCLid=%{customdata[0]}<br>Acorn_Group=%{x}<br>KWH/hh=%{y}<extra></extra>",
         "legendgroup": "MAC003231",
         "marker": {
          "color": "#B6E880",
          "symbol": "circle"
         },
         "mode": "markers",
         "name": "MAC003231",
         "orientation": "v",
         "showlegend": true,
         "type": "scatter",
         "x": [
          "C"
         ],
         "xaxis": "x",
         "y": [
          0.4273950272249795
         ],
         "yaxis": "y"
        },
        {
         "customdata": [
          [
           "MAC003235"
          ]
         ],
         "hovertemplate": "LCLid=%{customdata[0]}<br>Acorn_Group=%{x}<br>KWH/hh=%{y}<extra></extra>",
         "legendgroup": "MAC003235",
         "marker": {
          "color": "#FF97FF",
          "symbol": "circle"
         },
         "mode": "markers",
         "name": "MAC003235",
         "orientation": "v",
         "showlegend": true,
         "type": "scatter",
         "x": [
          "C"
         ],
         "xaxis": "x",
         "y": [
          0.4993471351078513
         ],
         "yaxis": "y"
        },
        {
         "customdata": [
          [
           "MAC003260"
          ]
         ],
         "hovertemplate": "LCLid=%{customdata[0]}<br>Acorn_Group=%{x}<br>KWH/hh=%{y}<extra></extra>",
         "legendgroup": "MAC003260",
         "marker": {
          "color": "#FECB52",
          "symbol": "circle"
         },
         "mode": "markers",
         "name": "MAC003260",
         "orientation": "v",
         "showlegend": true,
         "type": "scatter",
         "x": [
          "C"
         ],
         "xaxis": "x",
         "y": [
          0.352376261107814
         ],
         "yaxis": "y"
        },
        {
         "customdata": [
          [
           "MAC003283"
          ]
         ],
         "hovertemplate": "LCLid=%{customdata[0]}<br>Acorn_Group=%{x}<br>KWH/hh=%{y}<extra></extra>",
         "legendgroup": "MAC003283",
         "marker": {
          "color": "#636efa",
          "symbol": "circle"
         },
         "mode": "markers",
         "name": "MAC003283",
         "orientation": "v",
         "showlegend": true,
         "type": "scatter",
         "x": [
          "C"
         ],
         "xaxis": "x",
         "y": [
          0.5015150322610111
         ],
         "yaxis": "y"
        },
        {
         "customdata": [
          [
           "MAC003288"
          ]
         ],
         "hovertemplate": "LCLid=%{customdata[0]}<br>Acorn_Group=%{x}<br>KWH/hh=%{y}<extra></extra>",
         "legendgroup": "MAC003288",
         "marker": {
          "color": "#EF553B",
          "symbol": "circle"
         },
         "mode": "markers",
         "name": "MAC003288",
         "orientation": "v",
         "showlegend": true,
         "type": "scatter",
         "x": [
          "C"
         ],
         "xaxis": "x",
         "y": [
          0.16951364448857995
         ],
         "yaxis": "y"
        },
        {
         "customdata": [
          [
           "MAC003299"
          ]
         ],
         "hovertemplate": "LCLid=%{customdata[0]}<br>Acorn_Group=%{x}<br>KWH/hh=%{y}<extra></extra>",
         "legendgroup": "MAC003299",
         "marker": {
          "color": "#00cc96",
          "symbol": "circle"
         },
         "mode": "markers",
         "name": "MAC003299",
         "orientation": "v",
         "showlegend": true,
         "type": "scatter",
         "x": [
          "C"
         ],
         "xaxis": "x",
         "y": [
          0.39433985782136294
         ],
         "yaxis": "y"
        },
        {
         "customdata": [
          [
           "MAC003313"
          ]
         ],
         "hovertemplate": "LCLid=%{customdata[0]}<br>Acorn_Group=%{x}<br>KWH/hh=%{y}<extra></extra>",
         "legendgroup": "MAC003313",
         "marker": {
          "color": "#ab63fa",
          "symbol": "circle"
         },
         "mode": "markers",
         "name": "MAC003313",
         "orientation": "v",
         "showlegend": true,
         "type": "scatter",
         "x": [
          "C"
         ],
         "xaxis": "x",
         "y": [
          0.18475663574112566
         ],
         "yaxis": "y"
        },
        {
         "customdata": [
          [
           "MAC003319"
          ]
         ],
         "hovertemplate": "LCLid=%{customdata[0]}<br>Acorn_Group=%{x}<br>KWH/hh=%{y}<extra></extra>",
         "legendgroup": "MAC003319",
         "marker": {
          "color": "#FFA15A",
          "symbol": "circle"
         },
         "mode": "markers",
         "name": "MAC003319",
         "orientation": "v",
         "showlegend": true,
         "type": "scatter",
         "x": [
          "C"
         ],
         "xaxis": "x",
         "y": [
          0.497173572529668
         ],
         "yaxis": "y"
        },
        {
         "customdata": [
          [
           "MAC003339"
          ]
         ],
         "hovertemplate": "LCLid=%{customdata[0]}<br>Acorn_Group=%{x}<br>KWH/hh=%{y}<extra></extra>",
         "legendgroup": "MAC003339",
         "marker": {
          "color": "#19d3f3",
          "symbol": "circle"
         },
         "mode": "markers",
         "name": "MAC003339",
         "orientation": "v",
         "showlegend": true,
         "type": "scatter",
         "x": [
          "C"
         ],
         "xaxis": "x",
         "y": [
          0.36014018195196285
         ],
         "yaxis": "y"
        },
        {
         "customdata": [
          [
           "MAC003349"
          ]
         ],
         "hovertemplate": "LCLid=%{customdata[0]}<br>Acorn_Group=%{x}<br>KWH/hh=%{y}<extra></extra>",
         "legendgroup": "MAC003349",
         "marker": {
          "color": "#FF6692",
          "symbol": "circle"
         },
         "mode": "markers",
         "name": "MAC003349",
         "orientation": "v",
         "showlegend": true,
         "type": "scatter",
         "x": [
          "C"
         ],
         "xaxis": "x",
         "y": [
          0.43121084299462664
         ],
         "yaxis": "y"
        },
        {
         "customdata": [
          [
           "MAC003358"
          ]
         ],
         "hovertemplate": "LCLid=%{customdata[0]}<br>Acorn_Group=%{x}<br>KWH/hh=%{y}<extra></extra>",
         "legendgroup": "MAC003358",
         "marker": {
          "color": "#B6E880",
          "symbol": "circle"
         },
         "mode": "markers",
         "name": "MAC003358",
         "orientation": "v",
         "showlegend": true,
         "type": "scatter",
         "x": [
          "C"
         ],
         "xaxis": "x",
         "y": [
          0.14489027519056405
         ],
         "yaxis": "y"
        },
        {
         "customdata": [
          [
           "MAC003366"
          ]
         ],
         "hovertemplate": "LCLid=%{customdata[0]}<br>Acorn_Group=%{x}<br>KWH/hh=%{y}<extra></extra>",
         "legendgroup": "MAC003366",
         "marker": {
          "color": "#FF97FF",
          "symbol": "circle"
         },
         "mode": "markers",
         "name": "MAC003366",
         "orientation": "v",
         "showlegend": true,
         "type": "scatter",
         "x": [
          "C"
         ],
         "xaxis": "x",
         "y": [
          0.10202759699525991
         ],
         "yaxis": "y"
        },
        {
         "customdata": [
          [
           "MAC003368"
          ]
         ],
         "hovertemplate": "LCLid=%{customdata[0]}<br>Acorn_Group=%{x}<br>KWH/hh=%{y}<extra></extra>",
         "legendgroup": "MAC003368",
         "marker": {
          "color": "#FECB52",
          "symbol": "circle"
         },
         "mode": "markers",
         "name": "MAC003368",
         "orientation": "v",
         "showlegend": true,
         "type": "scatter",
         "x": [
          "C"
         ],
         "xaxis": "x",
         "y": [
          0.15613026883111664
         ],
         "yaxis": "y"
        },
        {
         "customdata": [
          [
           "MAC003427"
          ]
         ],
         "hovertemplate": "LCLid=%{customdata[0]}<br>Acorn_Group=%{x}<br>KWH/hh=%{y}<extra></extra>",
         "legendgroup": "MAC003427",
         "marker": {
          "color": "#636efa",
          "symbol": "circle"
         },
         "mode": "markers",
         "name": "MAC003427",
         "orientation": "v",
         "showlegend": true,
         "type": "scatter",
         "x": [
          "C"
         ],
         "xaxis": "x",
         "y": [
          0.33784408540477057
         ],
         "yaxis": "y"
        },
        {
         "customdata": [
          [
           "MAC003486"
          ]
         ],
         "hovertemplate": "LCLid=%{customdata[0]}<br>Acorn_Group=%{x}<br>KWH/hh=%{y}<extra></extra>",
         "legendgroup": "MAC003486",
         "marker": {
          "color": "#EF553B",
          "symbol": "circle"
         },
         "mode": "markers",
         "name": "MAC003486",
         "orientation": "v",
         "showlegend": true,
         "type": "scatter",
         "x": [
          "C"
         ],
         "xaxis": "x",
         "y": [
          0.10476515861057946
         ],
         "yaxis": "y"
        },
        {
         "customdata": [
          [
           "MAC003487"
          ]
         ],
         "hovertemplate": "LCLid=%{customdata[0]}<br>Acorn_Group=%{x}<br>KWH/hh=%{y}<extra></extra>",
         "legendgroup": "MAC003487",
         "marker": {
          "color": "#00cc96",
          "symbol": "circle"
         },
         "mode": "markers",
         "name": "MAC003487",
         "orientation": "v",
         "showlegend": true,
         "type": "scatter",
         "x": [
          "C"
         ],
         "xaxis": "x",
         "y": [
          0.13326837411539558
         ],
         "yaxis": "y"
        },
        {
         "customdata": [
          [
           "MAC003511"
          ]
         ],
         "hovertemplate": "LCLid=%{customdata[0]}<br>Acorn_Group=%{x}<br>KWH/hh=%{y}<extra></extra>",
         "legendgroup": "MAC003511",
         "marker": {
          "color": "#ab63fa",
          "symbol": "circle"
         },
         "mode": "markers",
         "name": "MAC003511",
         "orientation": "v",
         "showlegend": true,
         "type": "scatter",
         "x": [
          "C"
         ],
         "xaxis": "x",
         "y": [
          0.21129344323717816
         ],
         "yaxis": "y"
        },
        {
         "customdata": [
          [
           "MAC003556"
          ]
         ],
         "hovertemplate": "LCLid=%{customdata[0]}<br>Acorn_Group=%{x}<br>KWH/hh=%{y}<extra></extra>",
         "legendgroup": "MAC003556",
         "marker": {
          "color": "#FFA15A",
          "symbol": "circle"
         },
         "mode": "markers",
         "name": "MAC003556",
         "orientation": "v",
         "showlegend": true,
         "type": "scatter",
         "x": [
          "C"
         ],
         "xaxis": "x",
         "y": [
          0.37935732468385613
         ],
         "yaxis": "y"
        },
        {
         "customdata": [
          [
           "MAC003558"
          ]
         ],
         "hovertemplate": "LCLid=%{customdata[0]}<br>Acorn_Group=%{x}<br>KWH/hh=%{y}<extra></extra>",
         "legendgroup": "MAC003558",
         "marker": {
          "color": "#19d3f3",
          "symbol": "circle"
         },
         "mode": "markers",
         "name": "MAC003558",
         "orientation": "v",
         "showlegend": true,
         "type": "scatter",
         "x": [
          "C"
         ],
         "xaxis": "x",
         "y": [
          0.24997125700892306
         ],
         "yaxis": "y"
        },
        {
         "customdata": [
          [
           "MAC003580"
          ]
         ],
         "hovertemplate": "LCLid=%{customdata[0]}<br>Acorn_Group=%{x}<br>KWH/hh=%{y}<extra></extra>",
         "legendgroup": "MAC003580",
         "marker": {
          "color": "#FF6692",
          "symbol": "circle"
         },
         "mode": "markers",
         "name": "MAC003580",
         "orientation": "v",
         "showlegend": true,
         "type": "scatter",
         "x": [
          "C"
         ],
         "xaxis": "x",
         "y": [
          0.1315270988789515
         ],
         "yaxis": "y"
        },
        {
         "customdata": [
          [
           "MAC003639"
          ]
         ],
         "hovertemplate": "LCLid=%{customdata[0]}<br>Acorn_Group=%{x}<br>KWH/hh=%{y}<extra></extra>",
         "legendgroup": "MAC003639",
         "marker": {
          "color": "#B6E880",
          "symbol": "circle"
         },
         "mode": "markers",
         "name": "MAC003639",
         "orientation": "v",
         "showlegend": true,
         "type": "scatter",
         "x": [
          "C"
         ],
         "xaxis": "x",
         "y": [
          0.39231674310537423
         ],
         "yaxis": "y"
        },
        {
         "customdata": [
          [
           "MAC003642"
          ]
         ],
         "hovertemplate": "LCLid=%{customdata[0]}<br>Acorn_Group=%{x}<br>KWH/hh=%{y}<extra></extra>",
         "legendgroup": "MAC003642",
         "marker": {
          "color": "#FF97FF",
          "symbol": "circle"
         },
         "mode": "markers",
         "name": "MAC003642",
         "orientation": "v",
         "showlegend": true,
         "type": "scatter",
         "x": [
          "C"
         ],
         "xaxis": "x",
         "y": [
          0.49065435725936657
         ],
         "yaxis": "y"
        },
        {
         "customdata": [
          [
           "MAC003736"
          ]
         ],
         "hovertemplate": "LCLid=%{customdata[0]}<br>Acorn_Group=%{x}<br>KWH/hh=%{y}<extra></extra>",
         "legendgroup": "MAC003736",
         "marker": {
          "color": "#FECB52",
          "symbol": "circle"
         },
         "mode": "markers",
         "name": "MAC003736",
         "orientation": "v",
         "showlegend": true,
         "type": "scatter",
         "x": [
          "C"
         ],
         "xaxis": "x",
         "y": [
          0.21578647406197654
         ],
         "yaxis": "y"
        },
        {
         "customdata": [
          [
           "MAC003745"
          ]
         ],
         "hovertemplate": "LCLid=%{customdata[0]}<br>Acorn_Group=%{x}<br>KWH/hh=%{y}<extra></extra>",
         "legendgroup": "MAC003745",
         "marker": {
          "color": "#636efa",
          "symbol": "circle"
         },
         "mode": "markers",
         "name": "MAC003745",
         "orientation": "v",
         "showlegend": true,
         "type": "scatter",
         "x": [
          "C"
         ],
         "xaxis": "x",
         "y": [
          0.17378602548173594
         ],
         "yaxis": "y"
        },
        {
         "customdata": [
          [
           "MAC003755"
          ]
         ],
         "hovertemplate": "LCLid=%{customdata[0]}<br>Acorn_Group=%{x}<br>KWH/hh=%{y}<extra></extra>",
         "legendgroup": "MAC003755",
         "marker": {
          "color": "#EF553B",
          "symbol": "circle"
         },
         "mode": "markers",
         "name": "MAC003755",
         "orientation": "v",
         "showlegend": true,
         "type": "scatter",
         "x": [
          "C"
         ],
         "xaxis": "x",
         "y": [
          0.24923921798540025
         ],
         "yaxis": "y"
        },
        {
         "customdata": [
          [
           "MAC003762"
          ]
         ],
         "hovertemplate": "LCLid=%{customdata[0]}<br>Acorn_Group=%{x}<br>KWH/hh=%{y}<extra></extra>",
         "legendgroup": "MAC003762",
         "marker": {
          "color": "#00cc96",
          "symbol": "circle"
         },
         "mode": "markers",
         "name": "MAC003762",
         "orientation": "v",
         "showlegend": true,
         "type": "scatter",
         "x": [
          "C"
         ],
         "xaxis": "x",
         "y": [
          0.23553798709569157
         ],
         "yaxis": "y"
        },
        {
         "customdata": [
          [
           "MAC003776"
          ]
         ],
         "hovertemplate": "LCLid=%{customdata[0]}<br>Acorn_Group=%{x}<br>KWH/hh=%{y}<extra></extra>",
         "legendgroup": "MAC003776",
         "marker": {
          "color": "#ab63fa",
          "symbol": "circle"
         },
         "mode": "markers",
         "name": "MAC003776",
         "orientation": "v",
         "showlegend": true,
         "type": "scatter",
         "x": [
          "C"
         ],
         "xaxis": "x",
         "y": [
          0.3811493012210986
         ],
         "yaxis": "y"
        },
        {
         "customdata": [
          [
           "MAC003782"
          ]
         ],
         "hovertemplate": "LCLid=%{customdata[0]}<br>Acorn_Group=%{x}<br>KWH/hh=%{y}<extra></extra>",
         "legendgroup": "MAC003782",
         "marker": {
          "color": "#FFA15A",
          "symbol": "circle"
         },
         "mode": "markers",
         "name": "MAC003782",
         "orientation": "v",
         "showlegend": true,
         "type": "scatter",
         "x": [
          "C"
         ],
         "xaxis": "x",
         "y": [
          0.26967776051957865
         ],
         "yaxis": "y"
        },
        {
         "customdata": [
          [
           "MAC003787"
          ]
         ],
         "hovertemplate": "LCLid=%{customdata[0]}<br>Acorn_Group=%{x}<br>KWH/hh=%{y}<extra></extra>",
         "legendgroup": "MAC003787",
         "marker": {
          "color": "#19d3f3",
          "symbol": "circle"
         },
         "mode": "markers",
         "name": "MAC003787",
         "orientation": "v",
         "showlegend": true,
         "type": "scatter",
         "x": [
          "C"
         ],
         "xaxis": "x",
         "y": [
          0.1508827129231029
         ],
         "yaxis": "y"
        },
        {
         "customdata": [
          [
           "MAC003843"
          ]
         ],
         "hovertemplate": "LCLid=%{customdata[0]}<br>Acorn_Group=%{x}<br>KWH/hh=%{y}<extra></extra>",
         "legendgroup": "MAC003843",
         "marker": {
          "color": "#FF6692",
          "symbol": "circle"
         },
         "mode": "markers",
         "name": "MAC003843",
         "orientation": "v",
         "showlegend": true,
         "type": "scatter",
         "x": [
          "C"
         ],
         "xaxis": "x",
         "y": [
          0.2846137247334574
         ],
         "yaxis": "y"
        },
        {
         "customdata": [
          [
           "MAC003889"
          ]
         ],
         "hovertemplate": "LCLid=%{customdata[0]}<br>Acorn_Group=%{x}<br>KWH/hh=%{y}<extra></extra>",
         "legendgroup": "MAC003889",
         "marker": {
          "color": "#B6E880",
          "symbol": "circle"
         },
         "mode": "markers",
         "name": "MAC003889",
         "orientation": "v",
         "showlegend": true,
         "type": "scatter",
         "x": [
          "C"
         ],
         "xaxis": "x",
         "y": [
          0.23000123393328226
         ],
         "yaxis": "y"
        },
        {
         "customdata": [
          [
           "MAC003907"
          ]
         ],
         "hovertemplate": "LCLid=%{customdata[0]}<br>Acorn_Group=%{x}<br>KWH/hh=%{y}<extra></extra>",
         "legendgroup": "MAC003907",
         "marker": {
          "color": "#FF97FF",
          "symbol": "circle"
         },
         "mode": "markers",
         "name": "MAC003907",
         "orientation": "v",
         "showlegend": true,
         "type": "scatter",
         "x": [
          "C"
         ],
         "xaxis": "x",
         "y": [
          0.6014922396554665
         ],
         "yaxis": "y"
        },
        {
         "customdata": [
          [
           "MAC003933"
          ]
         ],
         "hovertemplate": "LCLid=%{customdata[0]}<br>Acorn_Group=%{x}<br>KWH/hh=%{y}<extra></extra>",
         "legendgroup": "MAC003933",
         "marker": {
          "color": "#FECB52",
          "symbol": "circle"
         },
         "mode": "markers",
         "name": "MAC003933",
         "orientation": "v",
         "showlegend": true,
         "type": "scatter",
         "x": [
          "C"
         ],
         "xaxis": "x",
         "y": [
          0.16606489927287507
         ],
         "yaxis": "y"
        },
        {
         "customdata": [
          [
           "MAC004029"
          ]
         ],
         "hovertemplate": "LCLid=%{customdata[0]}<br>Acorn_Group=%{x}<br>KWH/hh=%{y}<extra></extra>",
         "legendgroup": "MAC004029",
         "marker": {
          "color": "#636efa",
          "symbol": "circle"
         },
         "mode": "markers",
         "name": "MAC004029",
         "orientation": "v",
         "showlegend": true,
         "type": "scatter",
         "x": [
          "C"
         ],
         "xaxis": "x",
         "y": [
          0.22974591297104463
         ],
         "yaxis": "y"
        },
        {
         "customdata": [
          [
           "MAC004040"
          ]
         ],
         "hovertemplate": "LCLid=%{customdata[0]}<br>Acorn_Group=%{x}<br>KWH/hh=%{y}<extra></extra>",
         "legendgroup": "MAC004040",
         "marker": {
          "color": "#EF553B",
          "symbol": "circle"
         },
         "mode": "markers",
         "name": "MAC004040",
         "orientation": "v",
         "showlegend": true,
         "type": "scatter",
         "x": [
          "C"
         ],
         "xaxis": "x",
         "y": [
          0.08521296200076206
         ],
         "yaxis": "y"
        },
        {
         "customdata": [
          [
           "MAC004108"
          ]
         ],
         "hovertemplate": "LCLid=%{customdata[0]}<br>Acorn_Group=%{x}<br>KWH/hh=%{y}<extra></extra>",
         "legendgroup": "MAC004108",
         "marker": {
          "color": "#00cc96",
          "symbol": "circle"
         },
         "mode": "markers",
         "name": "MAC004108",
         "orientation": "v",
         "showlegend": true,
         "type": "scatter",
         "x": [
          "C"
         ],
         "xaxis": "x",
         "y": [
          0.10687599308047155
         ],
         "yaxis": "y"
        },
        {
         "customdata": [
          [
           "MAC004336"
          ]
         ],
         "hovertemplate": "LCLid=%{customdata[0]}<br>Acorn_Group=%{x}<br>KWH/hh=%{y}<extra></extra>",
         "legendgroup": "MAC004336",
         "marker": {
          "color": "#ab63fa",
          "symbol": "circle"
         },
         "mode": "markers",
         "name": "MAC004336",
         "orientation": "v",
         "showlegend": true,
         "type": "scatter",
         "x": [
          "C"
         ],
         "xaxis": "x",
         "y": [
          0.14773680682665424
         ],
         "yaxis": "y"
        },
        {
         "customdata": [
          [
           "MAC004406"
          ]
         ],
         "hovertemplate": "LCLid=%{customdata[0]}<br>Acorn_Group=%{x}<br>KWH/hh=%{y}<extra></extra>",
         "legendgroup": "MAC004406",
         "marker": {
          "color": "#FFA15A",
          "symbol": "circle"
         },
         "mode": "markers",
         "name": "MAC004406",
         "orientation": "v",
         "showlegend": true,
         "type": "scatter",
         "x": [
          "C"
         ],
         "xaxis": "x",
         "y": [
          0.08637200914848697
         ],
         "yaxis": "y"
        },
        {
         "customdata": [
          [
           "MAC004447"
          ]
         ],
         "hovertemplate": "LCLid=%{customdata[0]}<br>Acorn_Group=%{x}<br>KWH/hh=%{y}<extra></extra>",
         "legendgroup": "MAC004447",
         "marker": {
          "color": "#19d3f3",
          "symbol": "circle"
         },
         "mode": "markers",
         "name": "MAC004447",
         "orientation": "v",
         "showlegend": true,
         "type": "scatter",
         "x": [
          "C"
         ],
         "xaxis": "x",
         "y": [
          0.17965741558002937
         ],
         "yaxis": "y"
        },
        {
         "customdata": [
          [
           "MAC004455"
          ]
         ],
         "hovertemplate": "LCLid=%{customdata[0]}<br>Acorn_Group=%{x}<br>KWH/hh=%{y}<extra></extra>",
         "legendgroup": "MAC004455",
         "marker": {
          "color": "#FF6692",
          "symbol": "circle"
         },
         "mode": "markers",
         "name": "MAC004455",
         "orientation": "v",
         "showlegend": true,
         "type": "scatter",
         "x": [
          "C"
         ],
         "xaxis": "x",
         "y": [
          0.3676643705829039
         ],
         "yaxis": "y"
        },
        {
         "customdata": [
          [
           "MAC004504"
          ]
         ],
         "hovertemplate": "LCLid=%{customdata[0]}<br>Acorn_Group=%{x}<br>KWH/hh=%{y}<extra></extra>",
         "legendgroup": "MAC004504",
         "marker": {
          "color": "#B6E880",
          "symbol": "circle"
         },
         "mode": "markers",
         "name": "MAC004504",
         "orientation": "v",
         "showlegend": true,
         "type": "scatter",
         "x": [
          "C"
         ],
         "xaxis": "x",
         "y": [
          0.5664112524244079
         ],
         "yaxis": "y"
        },
        {
         "customdata": [
          [
           "MAC004509"
          ]
         ],
         "hovertemplate": "LCLid=%{customdata[0]}<br>Acorn_Group=%{x}<br>KWH/hh=%{y}<extra></extra>",
         "legendgroup": "MAC004509",
         "marker": {
          "color": "#FF97FF",
          "symbol": "circle"
         },
         "mode": "markers",
         "name": "MAC004509",
         "orientation": "v",
         "showlegend": true,
         "type": "scatter",
         "x": [
          "C"
         ],
         "xaxis": "x",
         "y": [
          0.22809940143117355
         ],
         "yaxis": "y"
        },
        {
         "customdata": [
          [
           "MAC004585"
          ]
         ],
         "hovertemplate": "LCLid=%{customdata[0]}<br>Acorn_Group=%{x}<br>KWH/hh=%{y}<extra></extra>",
         "legendgroup": "MAC004585",
         "marker": {
          "color": "#FECB52",
          "symbol": "circle"
         },
         "mode": "markers",
         "name": "MAC004585",
         "orientation": "v",
         "showlegend": true,
         "type": "scatter",
         "x": [
          "C"
         ],
         "xaxis": "x",
         "y": [
          0.3457404539596192
         ],
         "yaxis": "y"
        },
        {
         "customdata": [
          [
           "MAC004664"
          ]
         ],
         "hovertemplate": "LCLid=%{customdata[0]}<br>Acorn_Group=%{x}<br>KWH/hh=%{y}<extra></extra>",
         "legendgroup": "MAC004664",
         "marker": {
          "color": "#636efa",
          "symbol": "circle"
         },
         "mode": "markers",
         "name": "MAC004664",
         "orientation": "v",
         "showlegend": true,
         "type": "scatter",
         "x": [
          "C"
         ],
         "xaxis": "x",
         "y": [
          0.19968385131247374
         ],
         "yaxis": "y"
        },
        {
         "customdata": [
          [
           "MAC004673"
          ]
         ],
         "hovertemplate": "LCLid=%{customdata[0]}<br>Acorn_Group=%{x}<br>KWH/hh=%{y}<extra></extra>",
         "legendgroup": "MAC004673",
         "marker": {
          "color": "#EF553B",
          "symbol": "circle"
         },
         "mode": "markers",
         "name": "MAC004673",
         "orientation": "v",
         "showlegend": true,
         "type": "scatter",
         "x": [
          "C"
         ],
         "xaxis": "x",
         "y": [
          0.07650304410426872
         ],
         "yaxis": "y"
        },
        {
         "customdata": [
          [
           "MAC004712"
          ]
         ],
         "hovertemplate": "LCLid=%{customdata[0]}<br>Acorn_Group=%{x}<br>KWH/hh=%{y}<extra></extra>",
         "legendgroup": "MAC004712",
         "marker": {
          "color": "#00cc96",
          "symbol": "circle"
         },
         "mode": "markers",
         "name": "MAC004712",
         "orientation": "v",
         "showlegend": true,
         "type": "scatter",
         "x": [
          "C"
         ],
         "xaxis": "x",
         "y": [
          0.38558464342980636
         ],
         "yaxis": "y"
        },
        {
         "customdata": [
          [
           "MAC004848"
          ]
         ],
         "hovertemplate": "LCLid=%{customdata[0]}<br>Acorn_Group=%{x}<br>KWH/hh=%{y}<extra></extra>",
         "legendgroup": "MAC004848",
         "marker": {
          "color": "#ab63fa",
          "symbol": "circle"
         },
         "mode": "markers",
         "name": "MAC004848",
         "orientation": "v",
         "showlegend": true,
         "type": "scatter",
         "x": [
          "C"
         ],
         "xaxis": "x",
         "y": [
          0.14169109289324067
         ],
         "yaxis": "y"
        },
        {
         "customdata": [
          [
           "MAC004910"
          ]
         ],
         "hovertemplate": "LCLid=%{customdata[0]}<br>Acorn_Group=%{x}<br>KWH/hh=%{y}<extra></extra>",
         "legendgroup": "MAC004910",
         "marker": {
          "color": "#FFA15A",
          "symbol": "circle"
         },
         "mode": "markers",
         "name": "MAC004910",
         "orientation": "v",
         "showlegend": true,
         "type": "scatter",
         "x": [
          "C"
         ],
         "xaxis": "x",
         "y": [
          0.16104221243957112
         ],
         "yaxis": "y"
        },
        {
         "customdata": [
          [
           "MAC004925"
          ]
         ],
         "hovertemplate": "LCLid=%{customdata[0]}<br>Acorn_Group=%{x}<br>KWH/hh=%{y}<extra></extra>",
         "legendgroup": "MAC004925",
         "marker": {
          "color": "#19d3f3",
          "symbol": "circle"
         },
         "mode": "markers",
         "name": "MAC004925",
         "orientation": "v",
         "showlegend": true,
         "type": "scatter",
         "x": [
          "C"
         ],
         "xaxis": "x",
         "y": [
          0.3280317009393866
         ],
         "yaxis": "y"
        },
        {
         "customdata": [
          [
           "MAC004989"
          ]
         ],
         "hovertemplate": "LCLid=%{customdata[0]}<br>Acorn_Group=%{x}<br>KWH/hh=%{y}<extra></extra>",
         "legendgroup": "MAC004989",
         "marker": {
          "color": "#FF6692",
          "symbol": "circle"
         },
         "mode": "markers",
         "name": "MAC004989",
         "orientation": "v",
         "showlegend": true,
         "type": "scatter",
         "x": [
          "C"
         ],
         "xaxis": "x",
         "y": [
          0.19997838840559937
         ],
         "yaxis": "y"
        },
        {
         "customdata": [
          [
           "MAC005028"
          ]
         ],
         "hovertemplate": "LCLid=%{customdata[0]}<br>Acorn_Group=%{x}<br>KWH/hh=%{y}<extra></extra>",
         "legendgroup": "MAC005028",
         "marker": {
          "color": "#B6E880",
          "symbol": "circle"
         },
         "mode": "markers",
         "name": "MAC005028",
         "orientation": "v",
         "showlegend": true,
         "type": "scatter",
         "x": [
          "C"
         ],
         "xaxis": "x",
         "y": [
          0.32670452364525254
         ],
         "yaxis": "y"
        },
        {
         "customdata": [
          [
           "MAC005320"
          ]
         ],
         "hovertemplate": "LCLid=%{customdata[0]}<br>Acorn_Group=%{x}<br>KWH/hh=%{y}<extra></extra>",
         "legendgroup": "MAC005320",
         "marker": {
          "color": "#FF97FF",
          "symbol": "circle"
         },
         "mode": "markers",
         "name": "MAC005320",
         "orientation": "v",
         "showlegend": true,
         "type": "scatter",
         "x": [
          "C"
         ],
         "xaxis": "x",
         "y": [
          0.3213333614778021
         ],
         "yaxis": "y"
        },
        {
         "customdata": [
          [
           "MAC005490"
          ]
         ],
         "hovertemplate": "LCLid=%{customdata[0]}<br>Acorn_Group=%{x}<br>KWH/hh=%{y}<extra></extra>",
         "legendgroup": "MAC005490",
         "marker": {
          "color": "#FECB52",
          "symbol": "circle"
         },
         "mode": "markers",
         "name": "MAC005490",
         "orientation": "v",
         "showlegend": true,
         "type": "scatter",
         "x": [
          "C"
         ],
         "xaxis": "x",
         "y": [
          0.35042855392609346
         ],
         "yaxis": "y"
        },
        {
         "customdata": [
          [
           "MAC005506"
          ]
         ],
         "hovertemplate": "LCLid=%{customdata[0]}<br>Acorn_Group=%{x}<br>KWH/hh=%{y}<extra></extra>",
         "legendgroup": "MAC005506",
         "marker": {
          "color": "#636efa",
          "symbol": "circle"
         },
         "mode": "markers",
         "name": "MAC005506",
         "orientation": "v",
         "showlegend": true,
         "type": "scatter",
         "x": [
          "C"
         ],
         "xaxis": "x",
         "y": [
          0.22358072370118237
         ],
         "yaxis": "y"
        },
        {
         "customdata": [
          [
           "MAC005509"
          ]
         ],
         "hovertemplate": "LCLid=%{customdata[0]}<br>Acorn_Group=%{x}<br>KWH/hh=%{y}<extra></extra>",
         "legendgroup": "MAC005509",
         "marker": {
          "color": "#EF553B",
          "symbol": "circle"
         },
         "mode": "markers",
         "name": "MAC005509",
         "orientation": "v",
         "showlegend": true,
         "type": "scatter",
         "x": [
          "C"
         ],
         "xaxis": "x",
         "y": [
          0.2532704512380778
         ],
         "yaxis": "y"
        }
       ],
       "layout": {
        "legend": {
         "title": {
          "text": "LCLid"
         },
         "tracegroupgap": 0
        },
        "margin": {
         "t": 60
        },
        "template": {
         "data": {
          "bar": [
           {
            "error_x": {
             "color": "#2a3f5f"
            },
            "error_y": {
             "color": "#2a3f5f"
            },
            "marker": {
             "line": {
              "color": "#E5ECF6",
              "width": 0.5
             },
             "pattern": {
              "fillmode": "overlay",
              "size": 10,
              "solidity": 0.2
             }
            },
            "type": "bar"
           }
          ],
          "barpolar": [
           {
            "marker": {
             "line": {
              "color": "#E5ECF6",
              "width": 0.5
             },
             "pattern": {
              "fillmode": "overlay",
              "size": 10,
              "solidity": 0.2
             }
            },
            "type": "barpolar"
           }
          ],
          "carpet": [
           {
            "aaxis": {
             "endlinecolor": "#2a3f5f",
             "gridcolor": "white",
             "linecolor": "white",
             "minorgridcolor": "white",
             "startlinecolor": "#2a3f5f"
            },
            "baxis": {
             "endlinecolor": "#2a3f5f",
             "gridcolor": "white",
             "linecolor": "white",
             "minorgridcolor": "white",
             "startlinecolor": "#2a3f5f"
            },
            "type": "carpet"
           }
          ],
          "choropleth": [
           {
            "colorbar": {
             "outlinewidth": 0,
             "ticks": ""
            },
            "type": "choropleth"
           }
          ],
          "contour": [
           {
            "colorbar": {
             "outlinewidth": 0,
             "ticks": ""
            },
            "colorscale": [
             [
              0,
              "#0d0887"
             ],
             [
              0.1111111111111111,
              "#46039f"
             ],
             [
              0.2222222222222222,
              "#7201a8"
             ],
             [
              0.3333333333333333,
              "#9c179e"
             ],
             [
              0.4444444444444444,
              "#bd3786"
             ],
             [
              0.5555555555555556,
              "#d8576b"
             ],
             [
              0.6666666666666666,
              "#ed7953"
             ],
             [
              0.7777777777777778,
              "#fb9f3a"
             ],
             [
              0.8888888888888888,
              "#fdca26"
             ],
             [
              1,
              "#f0f921"
             ]
            ],
            "type": "contour"
           }
          ],
          "contourcarpet": [
           {
            "colorbar": {
             "outlinewidth": 0,
             "ticks": ""
            },
            "type": "contourcarpet"
           }
          ],
          "heatmap": [
           {
            "colorbar": {
             "outlinewidth": 0,
             "ticks": ""
            },
            "colorscale": [
             [
              0,
              "#0d0887"
             ],
             [
              0.1111111111111111,
              "#46039f"
             ],
             [
              0.2222222222222222,
              "#7201a8"
             ],
             [
              0.3333333333333333,
              "#9c179e"
             ],
             [
              0.4444444444444444,
              "#bd3786"
             ],
             [
              0.5555555555555556,
              "#d8576b"
             ],
             [
              0.6666666666666666,
              "#ed7953"
             ],
             [
              0.7777777777777778,
              "#fb9f3a"
             ],
             [
              0.8888888888888888,
              "#fdca26"
             ],
             [
              1,
              "#f0f921"
             ]
            ],
            "type": "heatmap"
           }
          ],
          "heatmapgl": [
           {
            "colorbar": {
             "outlinewidth": 0,
             "ticks": ""
            },
            "colorscale": [
             [
              0,
              "#0d0887"
             ],
             [
              0.1111111111111111,
              "#46039f"
             ],
             [
              0.2222222222222222,
              "#7201a8"
             ],
             [
              0.3333333333333333,
              "#9c179e"
             ],
             [
              0.4444444444444444,
              "#bd3786"
             ],
             [
              0.5555555555555556,
              "#d8576b"
             ],
             [
              0.6666666666666666,
              "#ed7953"
             ],
             [
              0.7777777777777778,
              "#fb9f3a"
             ],
             [
              0.8888888888888888,
              "#fdca26"
             ],
             [
              1,
              "#f0f921"
             ]
            ],
            "type": "heatmapgl"
           }
          ],
          "histogram": [
           {
            "marker": {
             "pattern": {
              "fillmode": "overlay",
              "size": 10,
              "solidity": 0.2
             }
            },
            "type": "histogram"
           }
          ],
          "histogram2d": [
           {
            "colorbar": {
             "outlinewidth": 0,
             "ticks": ""
            },
            "colorscale": [
             [
              0,
              "#0d0887"
             ],
             [
              0.1111111111111111,
              "#46039f"
             ],
             [
              0.2222222222222222,
              "#7201a8"
             ],
             [
              0.3333333333333333,
              "#9c179e"
             ],
             [
              0.4444444444444444,
              "#bd3786"
             ],
             [
              0.5555555555555556,
              "#d8576b"
             ],
             [
              0.6666666666666666,
              "#ed7953"
             ],
             [
              0.7777777777777778,
              "#fb9f3a"
             ],
             [
              0.8888888888888888,
              "#fdca26"
             ],
             [
              1,
              "#f0f921"
             ]
            ],
            "type": "histogram2d"
           }
          ],
          "histogram2dcontour": [
           {
            "colorbar": {
             "outlinewidth": 0,
             "ticks": ""
            },
            "colorscale": [
             [
              0,
              "#0d0887"
             ],
             [
              0.1111111111111111,
              "#46039f"
             ],
             [
              0.2222222222222222,
              "#7201a8"
             ],
             [
              0.3333333333333333,
              "#9c179e"
             ],
             [
              0.4444444444444444,
              "#bd3786"
             ],
             [
              0.5555555555555556,
              "#d8576b"
             ],
             [
              0.6666666666666666,
              "#ed7953"
             ],
             [
              0.7777777777777778,
              "#fb9f3a"
             ],
             [
              0.8888888888888888,
              "#fdca26"
             ],
             [
              1,
              "#f0f921"
             ]
            ],
            "type": "histogram2dcontour"
           }
          ],
          "mesh3d": [
           {
            "colorbar": {
             "outlinewidth": 0,
             "ticks": ""
            },
            "type": "mesh3d"
           }
          ],
          "parcoords": [
           {
            "line": {
             "colorbar": {
              "outlinewidth": 0,
              "ticks": ""
             }
            },
            "type": "parcoords"
           }
          ],
          "pie": [
           {
            "automargin": true,
            "type": "pie"
           }
          ],
          "scatter": [
           {
            "fillpattern": {
             "fillmode": "overlay",
             "size": 10,
             "solidity": 0.2
            },
            "type": "scatter"
           }
          ],
          "scatter3d": [
           {
            "line": {
             "colorbar": {
              "outlinewidth": 0,
              "ticks": ""
             }
            },
            "marker": {
             "colorbar": {
              "outlinewidth": 0,
              "ticks": ""
             }
            },
            "type": "scatter3d"
           }
          ],
          "scattercarpet": [
           {
            "marker": {
             "colorbar": {
              "outlinewidth": 0,
              "ticks": ""
             }
            },
            "type": "scattercarpet"
           }
          ],
          "scattergeo": [
           {
            "marker": {
             "colorbar": {
              "outlinewidth": 0,
              "ticks": ""
             }
            },
            "type": "scattergeo"
           }
          ],
          "scattergl": [
           {
            "marker": {
             "colorbar": {
              "outlinewidth": 0,
              "ticks": ""
             }
            },
            "type": "scattergl"
           }
          ],
          "scattermapbox": [
           {
            "marker": {
             "colorbar": {
              "outlinewidth": 0,
              "ticks": ""
             }
            },
            "type": "scattermapbox"
           }
          ],
          "scatterpolar": [
           {
            "marker": {
             "colorbar": {
              "outlinewidth": 0,
              "ticks": ""
             }
            },
            "type": "scatterpolar"
           }
          ],
          "scatterpolargl": [
           {
            "marker": {
             "colorbar": {
              "outlinewidth": 0,
              "ticks": ""
             }
            },
            "type": "scatterpolargl"
           }
          ],
          "scatterternary": [
           {
            "marker": {
             "colorbar": {
              "outlinewidth": 0,
              "ticks": ""
             }
            },
            "type": "scatterternary"
           }
          ],
          "surface": [
           {
            "colorbar": {
             "outlinewidth": 0,
             "ticks": ""
            },
            "colorscale": [
             [
              0,
              "#0d0887"
             ],
             [
              0.1111111111111111,
              "#46039f"
             ],
             [
              0.2222222222222222,
              "#7201a8"
             ],
             [
              0.3333333333333333,
              "#9c179e"
             ],
             [
              0.4444444444444444,
              "#bd3786"
             ],
             [
              0.5555555555555556,
              "#d8576b"
             ],
             [
              0.6666666666666666,
              "#ed7953"
             ],
             [
              0.7777777777777778,
              "#fb9f3a"
             ],
             [
              0.8888888888888888,
              "#fdca26"
             ],
             [
              1,
              "#f0f921"
             ]
            ],
            "type": "surface"
           }
          ],
          "table": [
           {
            "cells": {
             "fill": {
              "color": "#EBF0F8"
             },
             "line": {
              "color": "white"
             }
            },
            "header": {
             "fill": {
              "color": "#C8D4E3"
             },
             "line": {
              "color": "white"
             }
            },
            "type": "table"
           }
          ]
         },
         "layout": {
          "annotationdefaults": {
           "arrowcolor": "#2a3f5f",
           "arrowhead": 0,
           "arrowwidth": 1
          },
          "autotypenumbers": "strict",
          "coloraxis": {
           "colorbar": {
            "outlinewidth": 0,
            "ticks": ""
           }
          },
          "colorscale": {
           "diverging": [
            [
             0,
             "#8e0152"
            ],
            [
             0.1,
             "#c51b7d"
            ],
            [
             0.2,
             "#de77ae"
            ],
            [
             0.3,
             "#f1b6da"
            ],
            [
             0.4,
             "#fde0ef"
            ],
            [
             0.5,
             "#f7f7f7"
            ],
            [
             0.6,
             "#e6f5d0"
            ],
            [
             0.7,
             "#b8e186"
            ],
            [
             0.8,
             "#7fbc41"
            ],
            [
             0.9,
             "#4d9221"
            ],
            [
             1,
             "#276419"
            ]
           ],
           "sequential": [
            [
             0,
             "#0d0887"
            ],
            [
             0.1111111111111111,
             "#46039f"
            ],
            [
             0.2222222222222222,
             "#7201a8"
            ],
            [
             0.3333333333333333,
             "#9c179e"
            ],
            [
             0.4444444444444444,
             "#bd3786"
            ],
            [
             0.5555555555555556,
             "#d8576b"
            ],
            [
             0.6666666666666666,
             "#ed7953"
            ],
            [
             0.7777777777777778,
             "#fb9f3a"
            ],
            [
             0.8888888888888888,
             "#fdca26"
            ],
            [
             1,
             "#f0f921"
            ]
           ],
           "sequentialminus": [
            [
             0,
             "#0d0887"
            ],
            [
             0.1111111111111111,
             "#46039f"
            ],
            [
             0.2222222222222222,
             "#7201a8"
            ],
            [
             0.3333333333333333,
             "#9c179e"
            ],
            [
             0.4444444444444444,
             "#bd3786"
            ],
            [
             0.5555555555555556,
             "#d8576b"
            ],
            [
             0.6666666666666666,
             "#ed7953"
            ],
            [
             0.7777777777777778,
             "#fb9f3a"
            ],
            [
             0.8888888888888888,
             "#fdca26"
            ],
            [
             1,
             "#f0f921"
            ]
           ]
          },
          "colorway": [
           "#636efa",
           "#EF553B",
           "#00cc96",
           "#ab63fa",
           "#FFA15A",
           "#19d3f3",
           "#FF6692",
           "#B6E880",
           "#FF97FF",
           "#FECB52"
          ],
          "font": {
           "color": "#2a3f5f"
          },
          "geo": {
           "bgcolor": "white",
           "lakecolor": "white",
           "landcolor": "#E5ECF6",
           "showlakes": true,
           "showland": true,
           "subunitcolor": "white"
          },
          "hoverlabel": {
           "align": "left"
          },
          "hovermode": "closest",
          "mapbox": {
           "style": "light"
          },
          "paper_bgcolor": "white",
          "plot_bgcolor": "#E5ECF6",
          "polar": {
           "angularaxis": {
            "gridcolor": "white",
            "linecolor": "white",
            "ticks": ""
           },
           "bgcolor": "#E5ECF6",
           "radialaxis": {
            "gridcolor": "white",
            "linecolor": "white",
            "ticks": ""
           }
          },
          "scene": {
           "xaxis": {
            "backgroundcolor": "#E5ECF6",
            "gridcolor": "white",
            "gridwidth": 2,
            "linecolor": "white",
            "showbackground": true,
            "ticks": "",
            "zerolinecolor": "white"
           },
           "yaxis": {
            "backgroundcolor": "#E5ECF6",
            "gridcolor": "white",
            "gridwidth": 2,
            "linecolor": "white",
            "showbackground": true,
            "ticks": "",
            "zerolinecolor": "white"
           },
           "zaxis": {
            "backgroundcolor": "#E5ECF6",
            "gridcolor": "white",
            "gridwidth": 2,
            "linecolor": "white",
            "showbackground": true,
            "ticks": "",
            "zerolinecolor": "white"
           }
          },
          "shapedefaults": {
           "line": {
            "color": "#2a3f5f"
           }
          },
          "ternary": {
           "aaxis": {
            "gridcolor": "white",
            "linecolor": "white",
            "ticks": ""
           },
           "baxis": {
            "gridcolor": "white",
            "linecolor": "white",
            "ticks": ""
           },
           "bgcolor": "#E5ECF6",
           "caxis": {
            "gridcolor": "white",
            "linecolor": "white",
            "ticks": ""
           }
          },
          "title": {
           "x": 0.05
          },
          "xaxis": {
           "automargin": true,
           "gridcolor": "white",
           "linecolor": "white",
           "ticks": "",
           "title": {
            "standoff": 15
           },
           "zerolinecolor": "white",
           "zerolinewidth": 2
          },
          "yaxis": {
           "automargin": true,
           "gridcolor": "white",
           "linecolor": "white",
           "ticks": "",
           "title": {
            "standoff": 15
           },
           "zerolinecolor": "white",
           "zerolinewidth": 2
          }
         }
        },
        "xaxis": {
         "anchor": "y",
         "categoryarray": [
          "A",
          "B",
          "C",
          "D",
          "E",
          "F",
          "G",
          "H",
          "I",
          "J",
          "K",
          "L",
          "M",
          "N",
          "O",
          "P",
          "Q"
         ],
         "categoryorder": "array",
         "domain": [
          0,
          1
         ],
         "title": {
          "text": "Acorn_Group"
         }
        },
        "yaxis": {
         "anchor": "x",
         "domain": [
          0,
          1
         ],
         "title": {
          "text": "KWH/hh"
         }
        }
       }
      },
      "text/html": [
       "<div>                            <div id=\"453907f7-47e7-48d1-a256-23a2f1c67375\" class=\"plotly-graph-div\" style=\"height:525px; width:100%;\"></div>            <script type=\"text/javascript\">                require([\"plotly\"], function(Plotly) {                    window.PLOTLYENV=window.PLOTLYENV || {};                                    if (document.getElementById(\"453907f7-47e7-48d1-a256-23a2f1c67375\")) {                    Plotly.newPlot(                        \"453907f7-47e7-48d1-a256-23a2f1c67375\",                        [{\"customdata\":[[\"MAC000030\"]],\"hovertemplate\":\"LCLid=%{customdata[0]}<br>Acorn_Group=%{x}<br>KWH/hh=%{y}<extra></extra>\",\"legendgroup\":\"MAC000030\",\"marker\":{\"color\":\"#636efa\",\"symbol\":\"circle\"},\"mode\":\"markers\",\"name\":\"MAC000030\",\"orientation\":\"v\",\"showlegend\":true,\"x\":[\"A\"],\"xaxis\":\"x\",\"y\":[0.23755278057071136],\"yaxis\":\"y\",\"type\":\"scatter\"},{\"customdata\":[[\"MAC000040\"]],\"hovertemplate\":\"LCLid=%{customdata[0]}<br>Acorn_Group=%{x}<br>KWH/hh=%{y}<extra></extra>\",\"legendgroup\":\"MAC000040\",\"marker\":{\"color\":\"#EF553B\",\"symbol\":\"circle\"},\"mode\":\"markers\",\"name\":\"MAC000040\",\"orientation\":\"v\",\"showlegend\":true,\"x\":[\"A\"],\"xaxis\":\"x\",\"y\":[0.5557892983026946],\"yaxis\":\"y\",\"type\":\"scatter\"},{\"customdata\":[[\"MAC000103\"]],\"hovertemplate\":\"LCLid=%{customdata[0]}<br>Acorn_Group=%{x}<br>KWH/hh=%{y}<extra></extra>\",\"legendgroup\":\"MAC000103\",\"marker\":{\"color\":\"#00cc96\",\"symbol\":\"circle\"},\"mode\":\"markers\",\"name\":\"MAC000103\",\"orientation\":\"v\",\"showlegend\":true,\"x\":[\"A\"],\"xaxis\":\"x\",\"y\":[0.5012557308897151],\"yaxis\":\"y\",\"type\":\"scatter\"},{\"customdata\":[[\"MAC000110\"]],\"hovertemplate\":\"LCLid=%{customdata[0]}<br>Acorn_Group=%{x}<br>KWH/hh=%{y}<extra></extra>\",\"legendgroup\":\"MAC000110\",\"marker\":{\"color\":\"#ab63fa\",\"symbol\":\"circle\"},\"mode\":\"markers\",\"name\":\"MAC000110\",\"orientation\":\"v\",\"showlegend\":true,\"x\":[\"A\"],\"xaxis\":\"x\",\"y\":[0.34188295562896814],\"yaxis\":\"y\",\"type\":\"scatter\"},{\"customdata\":[[\"MAC000112\"]],\"hovertemplate\":\"LCLid=%{customdata[0]}<br>Acorn_Group=%{x}<br>KWH/hh=%{y}<extra></extra>\",\"legendgroup\":\"MAC000112\",\"marker\":{\"color\":\"#FFA15A\",\"symbol\":\"circle\"},\"mode\":\"markers\",\"name\":\"MAC000112\",\"orientation\":\"v\",\"showlegend\":true,\"x\":[\"A\"],\"xaxis\":\"x\",\"y\":[0.2680307374376857],\"yaxis\":\"y\",\"type\":\"scatter\"},{\"customdata\":[[\"MAC000246\"]],\"hovertemplate\":\"LCLid=%{customdata[0]}<br>Acorn_Group=%{x}<br>KWH/hh=%{y}<extra></extra>\",\"legendgroup\":\"MAC000246\",\"marker\":{\"color\":\"#19d3f3\",\"symbol\":\"circle\"},\"mode\":\"markers\",\"name\":\"MAC000246\",\"orientation\":\"v\",\"showlegend\":true,\"x\":[\"A\"],\"xaxis\":\"x\",\"y\":[0.3509564265824075],\"yaxis\":\"y\",\"type\":\"scatter\"},{\"customdata\":[[\"MAC000323\"]],\"hovertemplate\":\"LCLid=%{customdata[0]}<br>Acorn_Group=%{x}<br>KWH/hh=%{y}<extra></extra>\",\"legendgroup\":\"MAC000323\",\"marker\":{\"color\":\"#FF6692\",\"symbol\":\"circle\"},\"mode\":\"markers\",\"name\":\"MAC000323\",\"orientation\":\"v\",\"showlegend\":true,\"x\":[\"A\"],\"xaxis\":\"x\",\"y\":[0.3264582709682064],\"yaxis\":\"y\",\"type\":\"scatter\"},{\"customdata\":[[\"MAC000379\"]],\"hovertemplate\":\"LCLid=%{customdata[0]}<br>Acorn_Group=%{x}<br>KWH/hh=%{y}<extra></extra>\",\"legendgroup\":\"MAC000379\",\"marker\":{\"color\":\"#B6E880\",\"symbol\":\"circle\"},\"mode\":\"markers\",\"name\":\"MAC000379\",\"orientation\":\"v\",\"showlegend\":true,\"x\":[\"A\"],\"xaxis\":\"x\",\"y\":[0.6922800939915048],\"yaxis\":\"y\",\"type\":\"scatter\"},{\"customdata\":[[\"MAC000464\"]],\"hovertemplate\":\"LCLid=%{customdata[0]}<br>Acorn_Group=%{x}<br>KWH/hh=%{y}<extra></extra>\",\"legendgroup\":\"MAC000464\",\"marker\":{\"color\":\"#FF97FF\",\"symbol\":\"circle\"},\"mode\":\"markers\",\"name\":\"MAC000464\",\"orientation\":\"v\",\"showlegend\":true,\"x\":[\"A\"],\"xaxis\":\"x\",\"y\":[0.11618833697127012],\"yaxis\":\"y\",\"type\":\"scatter\"},{\"customdata\":[[\"MAC000487\"]],\"hovertemplate\":\"LCLid=%{customdata[0]}<br>Acorn_Group=%{x}<br>KWH/hh=%{y}<extra></extra>\",\"legendgroup\":\"MAC000487\",\"marker\":{\"color\":\"#FECB52\",\"symbol\":\"circle\"},\"mode\":\"markers\",\"name\":\"MAC000487\",\"orientation\":\"v\",\"showlegend\":true,\"x\":[\"A\"],\"xaxis\":\"x\",\"y\":[0.23560130970767826],\"yaxis\":\"y\",\"type\":\"scatter\"},{\"customdata\":[[\"MAC000609\"]],\"hovertemplate\":\"LCLid=%{customdata[0]}<br>Acorn_Group=%{x}<br>KWH/hh=%{y}<extra></extra>\",\"legendgroup\":\"MAC000609\",\"marker\":{\"color\":\"#636efa\",\"symbol\":\"circle\"},\"mode\":\"markers\",\"name\":\"MAC000609\",\"orientation\":\"v\",\"showlegend\":true,\"x\":[\"A\"],\"xaxis\":\"x\",\"y\":[0.14472739132981308],\"yaxis\":\"y\",\"type\":\"scatter\"},{\"customdata\":[[\"MAC000768\"]],\"hovertemplate\":\"LCLid=%{customdata[0]}<br>Acorn_Group=%{x}<br>KWH/hh=%{y}<extra></extra>\",\"legendgroup\":\"MAC000768\",\"marker\":{\"color\":\"#EF553B\",\"symbol\":\"circle\"},\"mode\":\"markers\",\"name\":\"MAC000768\",\"orientation\":\"v\",\"showlegend\":true,\"x\":[\"A\"],\"xaxis\":\"x\",\"y\":[0.24148877557964563],\"yaxis\":\"y\",\"type\":\"scatter\"},{\"customdata\":[[\"MAC000974\"]],\"hovertemplate\":\"LCLid=%{customdata[0]}<br>Acorn_Group=%{x}<br>KWH/hh=%{y}<extra></extra>\",\"legendgroup\":\"MAC000974\",\"marker\":{\"color\":\"#00cc96\",\"symbol\":\"circle\"},\"mode\":\"markers\",\"name\":\"MAC000974\",\"orientation\":\"v\",\"showlegend\":true,\"x\":[\"A\"],\"xaxis\":\"x\",\"y\":[0.13242089458554895],\"yaxis\":\"y\",\"type\":\"scatter\"},{\"customdata\":[[\"MAC001251\"]],\"hovertemplate\":\"LCLid=%{customdata[0]}<br>Acorn_Group=%{x}<br>KWH/hh=%{y}<extra></extra>\",\"legendgroup\":\"MAC001251\",\"marker\":{\"color\":\"#ab63fa\",\"symbol\":\"circle\"},\"mode\":\"markers\",\"name\":\"MAC001251\",\"orientation\":\"v\",\"showlegend\":true,\"x\":[\"A\"],\"xaxis\":\"x\",\"y\":[0.36968784625644613],\"yaxis\":\"y\",\"type\":\"scatter\"},{\"customdata\":[[\"MAC001734\"]],\"hovertemplate\":\"LCLid=%{customdata[0]}<br>Acorn_Group=%{x}<br>KWH/hh=%{y}<extra></extra>\",\"legendgroup\":\"MAC001734\",\"marker\":{\"color\":\"#FFA15A\",\"symbol\":\"circle\"},\"mode\":\"markers\",\"name\":\"MAC001734\",\"orientation\":\"v\",\"showlegend\":true,\"x\":[\"A\"],\"xaxis\":\"x\",\"y\":[0.6681347016203476],\"yaxis\":\"y\",\"type\":\"scatter\"},{\"customdata\":[[\"MAC002113\"]],\"hovertemplate\":\"LCLid=%{customdata[0]}<br>Acorn_Group=%{x}<br>KWH/hh=%{y}<extra></extra>\",\"legendgroup\":\"MAC002113\",\"marker\":{\"color\":\"#19d3f3\",\"symbol\":\"circle\"},\"mode\":\"markers\",\"name\":\"MAC002113\",\"orientation\":\"v\",\"showlegend\":true,\"x\":[\"A\"],\"xaxis\":\"x\",\"y\":[0.12190182893356642],\"yaxis\":\"y\",\"type\":\"scatter\"},{\"customdata\":[[\"MAC002150\"]],\"hovertemplate\":\"LCLid=%{customdata[0]}<br>Acorn_Group=%{x}<br>KWH/hh=%{y}<extra></extra>\",\"legendgroup\":\"MAC002150\",\"marker\":{\"color\":\"#FF6692\",\"symbol\":\"circle\"},\"mode\":\"markers\",\"name\":\"MAC002150\",\"orientation\":\"v\",\"showlegend\":true,\"x\":[\"A\"],\"xaxis\":\"x\",\"y\":[0.2828148684542055],\"yaxis\":\"y\",\"type\":\"scatter\"},{\"customdata\":[[\"MAC002199\"]],\"hovertemplate\":\"LCLid=%{customdata[0]}<br>Acorn_Group=%{x}<br>KWH/hh=%{y}<extra></extra>\",\"legendgroup\":\"MAC002199\",\"marker\":{\"color\":\"#B6E880\",\"symbol\":\"circle\"},\"mode\":\"markers\",\"name\":\"MAC002199\",\"orientation\":\"v\",\"showlegend\":true,\"x\":[\"A\"],\"xaxis\":\"x\",\"y\":[0.2236001019489796],\"yaxis\":\"y\",\"type\":\"scatter\"},{\"customdata\":[[\"MAC002552\"]],\"hovertemplate\":\"LCLid=%{customdata[0]}<br>Acorn_Group=%{x}<br>KWH/hh=%{y}<extra></extra>\",\"legendgroup\":\"MAC002552\",\"marker\":{\"color\":\"#FF97FF\",\"symbol\":\"circle\"},\"mode\":\"markers\",\"name\":\"MAC002552\",\"orientation\":\"v\",\"showlegend\":true,\"x\":[\"A\"],\"xaxis\":\"x\",\"y\":[0.1911523705736963],\"yaxis\":\"y\",\"type\":\"scatter\"},{\"customdata\":[[\"MAC002563\"]],\"hovertemplate\":\"LCLid=%{customdata[0]}<br>Acorn_Group=%{x}<br>KWH/hh=%{y}<extra></extra>\",\"legendgroup\":\"MAC002563\",\"marker\":{\"color\":\"#FECB52\",\"symbol\":\"circle\"},\"mode\":\"markers\",\"name\":\"MAC002563\",\"orientation\":\"v\",\"showlegend\":true,\"x\":[\"A\"],\"xaxis\":\"x\",\"y\":[0.24511675835480054],\"yaxis\":\"y\",\"type\":\"scatter\"},{\"customdata\":[[\"MAC002628\"]],\"hovertemplate\":\"LCLid=%{customdata[0]}<br>Acorn_Group=%{x}<br>KWH/hh=%{y}<extra></extra>\",\"legendgroup\":\"MAC002628\",\"marker\":{\"color\":\"#636efa\",\"symbol\":\"circle\"},\"mode\":\"markers\",\"name\":\"MAC002628\",\"orientation\":\"v\",\"showlegend\":true,\"x\":[\"A\"],\"xaxis\":\"x\",\"y\":[0.9692578601590881],\"yaxis\":\"y\",\"type\":\"scatter\"},{\"customdata\":[[\"MAC002937\"]],\"hovertemplate\":\"LCLid=%{customdata[0]}<br>Acorn_Group=%{x}<br>KWH/hh=%{y}<extra></extra>\",\"legendgroup\":\"MAC002937\",\"marker\":{\"color\":\"#EF553B\",\"symbol\":\"circle\"},\"mode\":\"markers\",\"name\":\"MAC002937\",\"orientation\":\"v\",\"showlegend\":true,\"x\":[\"A\"],\"xaxis\":\"x\",\"y\":[0.2993627009292081],\"yaxis\":\"y\",\"type\":\"scatter\"},{\"customdata\":[[\"MAC002959\"]],\"hovertemplate\":\"LCLid=%{customdata[0]}<br>Acorn_Group=%{x}<br>KWH/hh=%{y}<extra></extra>\",\"legendgroup\":\"MAC002959\",\"marker\":{\"color\":\"#00cc96\",\"symbol\":\"circle\"},\"mode\":\"markers\",\"name\":\"MAC002959\",\"orientation\":\"v\",\"showlegend\":true,\"x\":[\"A\"],\"xaxis\":\"x\",\"y\":[0.5381476847995854],\"yaxis\":\"y\",\"type\":\"scatter\"},{\"customdata\":[[\"MAC003072\"]],\"hovertemplate\":\"LCLid=%{customdata[0]}<br>Acorn_Group=%{x}<br>KWH/hh=%{y}<extra></extra>\",\"legendgroup\":\"MAC003072\",\"marker\":{\"color\":\"#ab63fa\",\"symbol\":\"circle\"},\"mode\":\"markers\",\"name\":\"MAC003072\",\"orientation\":\"v\",\"showlegend\":true,\"x\":[\"A\"],\"xaxis\":\"x\",\"y\":[0.34771577572084716],\"yaxis\":\"y\",\"type\":\"scatter\"},{\"customdata\":[[\"MAC003110\"]],\"hovertemplate\":\"LCLid=%{customdata[0]}<br>Acorn_Group=%{x}<br>KWH/hh=%{y}<extra></extra>\",\"legendgroup\":\"MAC003110\",\"marker\":{\"color\":\"#FFA15A\",\"symbol\":\"circle\"},\"mode\":\"markers\",\"name\":\"MAC003110\",\"orientation\":\"v\",\"showlegend\":true,\"x\":[\"A\"],\"xaxis\":\"x\",\"y\":[0.16507060740563326],\"yaxis\":\"y\",\"type\":\"scatter\"},{\"customdata\":[[\"MAC003182\"]],\"hovertemplate\":\"LCLid=%{customdata[0]}<br>Acorn_Group=%{x}<br>KWH/hh=%{y}<extra></extra>\",\"legendgroup\":\"MAC003182\",\"marker\":{\"color\":\"#19d3f3\",\"symbol\":\"circle\"},\"mode\":\"markers\",\"name\":\"MAC003182\",\"orientation\":\"v\",\"showlegend\":true,\"x\":[\"A\"],\"xaxis\":\"x\",\"y\":[0.44867436120740245],\"yaxis\":\"y\",\"type\":\"scatter\"},{\"customdata\":[[\"MAC003211\"]],\"hovertemplate\":\"LCLid=%{customdata[0]}<br>Acorn_Group=%{x}<br>KWH/hh=%{y}<extra></extra>\",\"legendgroup\":\"MAC003211\",\"marker\":{\"color\":\"#FF6692\",\"symbol\":\"circle\"},\"mode\":\"markers\",\"name\":\"MAC003211\",\"orientation\":\"v\",\"showlegend\":true,\"x\":[\"A\"],\"xaxis\":\"x\",\"y\":[0.3296757054272426],\"yaxis\":\"y\",\"type\":\"scatter\"},{\"customdata\":[[\"MAC003223\"]],\"hovertemplate\":\"LCLid=%{customdata[0]}<br>Acorn_Group=%{x}<br>KWH/hh=%{y}<extra></extra>\",\"legendgroup\":\"MAC003223\",\"marker\":{\"color\":\"#B6E880\",\"symbol\":\"circle\"},\"mode\":\"markers\",\"name\":\"MAC003223\",\"orientation\":\"v\",\"showlegend\":true,\"x\":[\"A\"],\"xaxis\":\"x\",\"y\":[0.4002075219269889],\"yaxis\":\"y\",\"type\":\"scatter\"},{\"customdata\":[[\"MAC003239\"]],\"hovertemplate\":\"LCLid=%{customdata[0]}<br>Acorn_Group=%{x}<br>KWH/hh=%{y}<extra></extra>\",\"legendgroup\":\"MAC003239\",\"marker\":{\"color\":\"#FF97FF\",\"symbol\":\"circle\"},\"mode\":\"markers\",\"name\":\"MAC003239\",\"orientation\":\"v\",\"showlegend\":true,\"x\":[\"A\"],\"xaxis\":\"x\",\"y\":[0.15808619598041537],\"yaxis\":\"y\",\"type\":\"scatter\"},{\"customdata\":[[\"MAC003257\"]],\"hovertemplate\":\"LCLid=%{customdata[0]}<br>Acorn_Group=%{x}<br>KWH/hh=%{y}<extra></extra>\",\"legendgroup\":\"MAC003257\",\"marker\":{\"color\":\"#FECB52\",\"symbol\":\"circle\"},\"mode\":\"markers\",\"name\":\"MAC003257\",\"orientation\":\"v\",\"showlegend\":true,\"x\":[\"A\"],\"xaxis\":\"x\",\"y\":[1.1040715558831677],\"yaxis\":\"y\",\"type\":\"scatter\"},{\"customdata\":[[\"MAC003281\"]],\"hovertemplate\":\"LCLid=%{customdata[0]}<br>Acorn_Group=%{x}<br>KWH/hh=%{y}<extra></extra>\",\"legendgroup\":\"MAC003281\",\"marker\":{\"color\":\"#636efa\",\"symbol\":\"circle\"},\"mode\":\"markers\",\"name\":\"MAC003281\",\"orientation\":\"v\",\"showlegend\":true,\"x\":[\"A\"],\"xaxis\":\"x\",\"y\":[0.1956828580784812],\"yaxis\":\"y\",\"type\":\"scatter\"},{\"customdata\":[[\"MAC003286\"]],\"hovertemplate\":\"LCLid=%{customdata[0]}<br>Acorn_Group=%{x}<br>KWH/hh=%{y}<extra></extra>\",\"legendgroup\":\"MAC003286\",\"marker\":{\"color\":\"#EF553B\",\"symbol\":\"circle\"},\"mode\":\"markers\",\"name\":\"MAC003286\",\"orientation\":\"v\",\"showlegend\":true,\"x\":[\"A\"],\"xaxis\":\"x\",\"y\":[0.2792082952479421],\"yaxis\":\"y\",\"type\":\"scatter\"},{\"customdata\":[[\"MAC003305\"]],\"hovertemplate\":\"LCLid=%{customdata[0]}<br>Acorn_Group=%{x}<br>KWH/hh=%{y}<extra></extra>\",\"legendgroup\":\"MAC003305\",\"marker\":{\"color\":\"#00cc96\",\"symbol\":\"circle\"},\"mode\":\"markers\",\"name\":\"MAC003305\",\"orientation\":\"v\",\"showlegend\":true,\"x\":[\"A\"],\"xaxis\":\"x\",\"y\":[0.32886618197651196],\"yaxis\":\"y\",\"type\":\"scatter\"},{\"customdata\":[[\"MAC003388\"]],\"hovertemplate\":\"LCLid=%{customdata[0]}<br>Acorn_Group=%{x}<br>KWH/hh=%{y}<extra></extra>\",\"legendgroup\":\"MAC003388\",\"marker\":{\"color\":\"#ab63fa\",\"symbol\":\"circle\"},\"mode\":\"markers\",\"name\":\"MAC003388\",\"orientation\":\"v\",\"showlegend\":true,\"x\":[\"A\"],\"xaxis\":\"x\",\"y\":[0.6025874186790631],\"yaxis\":\"y\",\"type\":\"scatter\"},{\"customdata\":[[\"MAC003400\"]],\"hovertemplate\":\"LCLid=%{customdata[0]}<br>Acorn_Group=%{x}<br>KWH/hh=%{y}<extra></extra>\",\"legendgroup\":\"MAC003400\",\"marker\":{\"color\":\"#FFA15A\",\"symbol\":\"circle\"},\"mode\":\"markers\",\"name\":\"MAC003400\",\"orientation\":\"v\",\"showlegend\":true,\"x\":[\"A\"],\"xaxis\":\"x\",\"y\":[0.2547008938833857],\"yaxis\":\"y\",\"type\":\"scatter\"},{\"customdata\":[[\"MAC003428\"]],\"hovertemplate\":\"LCLid=%{customdata[0]}<br>Acorn_Group=%{x}<br>KWH/hh=%{y}<extra></extra>\",\"legendgroup\":\"MAC003428\",\"marker\":{\"color\":\"#19d3f3\",\"symbol\":\"circle\"},\"mode\":\"markers\",\"name\":\"MAC003428\",\"orientation\":\"v\",\"showlegend\":true,\"x\":[\"A\"],\"xaxis\":\"x\",\"y\":[0.5464911286032569],\"yaxis\":\"y\",\"type\":\"scatter\"},{\"customdata\":[[\"MAC003474\"]],\"hovertemplate\":\"LCLid=%{customdata[0]}<br>Acorn_Group=%{x}<br>KWH/hh=%{y}<extra></extra>\",\"legendgroup\":\"MAC003474\",\"marker\":{\"color\":\"#FF6692\",\"symbol\":\"circle\"},\"mode\":\"markers\",\"name\":\"MAC003474\",\"orientation\":\"v\",\"showlegend\":true,\"x\":[\"A\"],\"xaxis\":\"x\",\"y\":[0.21826368144979738],\"yaxis\":\"y\",\"type\":\"scatter\"},{\"customdata\":[[\"MAC003482\"]],\"hovertemplate\":\"LCLid=%{customdata[0]}<br>Acorn_Group=%{x}<br>KWH/hh=%{y}<extra></extra>\",\"legendgroup\":\"MAC003482\",\"marker\":{\"color\":\"#B6E880\",\"symbol\":\"circle\"},\"mode\":\"markers\",\"name\":\"MAC003482\",\"orientation\":\"v\",\"showlegend\":true,\"x\":[\"A\"],\"xaxis\":\"x\",\"y\":[0.2746452675638315],\"yaxis\":\"y\",\"type\":\"scatter\"},{\"customdata\":[[\"MAC003553\"]],\"hovertemplate\":\"LCLid=%{customdata[0]}<br>Acorn_Group=%{x}<br>KWH/hh=%{y}<extra></extra>\",\"legendgroup\":\"MAC003553\",\"marker\":{\"color\":\"#FF97FF\",\"symbol\":\"circle\"},\"mode\":\"markers\",\"name\":\"MAC003553\",\"orientation\":\"v\",\"showlegend\":true,\"x\":[\"A\"],\"xaxis\":\"x\",\"y\":[0.3608659058096568],\"yaxis\":\"y\",\"type\":\"scatter\"},{\"customdata\":[[\"MAC003557\"]],\"hovertemplate\":\"LCLid=%{customdata[0]}<br>Acorn_Group=%{x}<br>KWH/hh=%{y}<extra></extra>\",\"legendgroup\":\"MAC003557\",\"marker\":{\"color\":\"#FECB52\",\"symbol\":\"circle\"},\"mode\":\"markers\",\"name\":\"MAC003557\",\"orientation\":\"v\",\"showlegend\":true,\"x\":[\"A\"],\"xaxis\":\"x\",\"y\":[0.20815804533837662],\"yaxis\":\"y\",\"type\":\"scatter\"},{\"customdata\":[[\"MAC003579\"]],\"hovertemplate\":\"LCLid=%{customdata[0]}<br>Acorn_Group=%{x}<br>KWH/hh=%{y}<extra></extra>\",\"legendgroup\":\"MAC003579\",\"marker\":{\"color\":\"#636efa\",\"symbol\":\"circle\"},\"mode\":\"markers\",\"name\":\"MAC003579\",\"orientation\":\"v\",\"showlegend\":true,\"x\":[\"A\"],\"xaxis\":\"x\",\"y\":[0.22881945700123407],\"yaxis\":\"y\",\"type\":\"scatter\"},{\"customdata\":[[\"MAC003606\"]],\"hovertemplate\":\"LCLid=%{customdata[0]}<br>Acorn_Group=%{x}<br>KWH/hh=%{y}<extra></extra>\",\"legendgroup\":\"MAC003606\",\"marker\":{\"color\":\"#EF553B\",\"symbol\":\"circle\"},\"mode\":\"markers\",\"name\":\"MAC003606\",\"orientation\":\"v\",\"showlegend\":true,\"x\":[\"A\"],\"xaxis\":\"x\",\"y\":[0.3647339085380455],\"yaxis\":\"y\",\"type\":\"scatter\"},{\"customdata\":[[\"MAC003613\"]],\"hovertemplate\":\"LCLid=%{customdata[0]}<br>Acorn_Group=%{x}<br>KWH/hh=%{y}<extra></extra>\",\"legendgroup\":\"MAC003613\",\"marker\":{\"color\":\"#00cc96\",\"symbol\":\"circle\"},\"mode\":\"markers\",\"name\":\"MAC003613\",\"orientation\":\"v\",\"showlegend\":true,\"x\":[\"A\"],\"xaxis\":\"x\",\"y\":[0.6905727556693368],\"yaxis\":\"y\",\"type\":\"scatter\"},{\"customdata\":[[\"MAC003634\"]],\"hovertemplate\":\"LCLid=%{customdata[0]}<br>Acorn_Group=%{x}<br>KWH/hh=%{y}<extra></extra>\",\"legendgroup\":\"MAC003634\",\"marker\":{\"color\":\"#ab63fa\",\"symbol\":\"circle\"},\"mode\":\"markers\",\"name\":\"MAC003634\",\"orientation\":\"v\",\"showlegend\":true,\"x\":[\"A\"],\"xaxis\":\"x\",\"y\":[0.5953342848266733],\"yaxis\":\"y\",\"type\":\"scatter\"},{\"customdata\":[[\"MAC003646\"]],\"hovertemplate\":\"LCLid=%{customdata[0]}<br>Acorn_Group=%{x}<br>KWH/hh=%{y}<extra></extra>\",\"legendgroup\":\"MAC003646\",\"marker\":{\"color\":\"#FFA15A\",\"symbol\":\"circle\"},\"mode\":\"markers\",\"name\":\"MAC003646\",\"orientation\":\"v\",\"showlegend\":true,\"x\":[\"A\"],\"xaxis\":\"x\",\"y\":[0.22249600727791802],\"yaxis\":\"y\",\"type\":\"scatter\"},{\"customdata\":[[\"MAC003668\"]],\"hovertemplate\":\"LCLid=%{customdata[0]}<br>Acorn_Group=%{x}<br>KWH/hh=%{y}<extra></extra>\",\"legendgroup\":\"MAC003668\",\"marker\":{\"color\":\"#19d3f3\",\"symbol\":\"circle\"},\"mode\":\"markers\",\"name\":\"MAC003668\",\"orientation\":\"v\",\"showlegend\":true,\"x\":[\"A\"],\"xaxis\":\"x\",\"y\":[0.7715128377387541],\"yaxis\":\"y\",\"type\":\"scatter\"},{\"customdata\":[[\"MAC003683\"]],\"hovertemplate\":\"LCLid=%{customdata[0]}<br>Acorn_Group=%{x}<br>KWH/hh=%{y}<extra></extra>\",\"legendgroup\":\"MAC003683\",\"marker\":{\"color\":\"#FF6692\",\"symbol\":\"circle\"},\"mode\":\"markers\",\"name\":\"MAC003683\",\"orientation\":\"v\",\"showlegend\":true,\"x\":[\"A\"],\"xaxis\":\"x\",\"y\":[0.22023906856403622],\"yaxis\":\"y\",\"type\":\"scatter\"},{\"customdata\":[[\"MAC003686\"]],\"hovertemplate\":\"LCLid=%{customdata[0]}<br>Acorn_Group=%{x}<br>KWH/hh=%{y}<extra></extra>\",\"legendgroup\":\"MAC003686\",\"marker\":{\"color\":\"#B6E880\",\"symbol\":\"circle\"},\"mode\":\"markers\",\"name\":\"MAC003686\",\"orientation\":\"v\",\"showlegend\":true,\"x\":[\"A\"],\"xaxis\":\"x\",\"y\":[0.3391242128425443],\"yaxis\":\"y\",\"type\":\"scatter\"},{\"customdata\":[[\"MAC003719\"]],\"hovertemplate\":\"LCLid=%{customdata[0]}<br>Acorn_Group=%{x}<br>KWH/hh=%{y}<extra></extra>\",\"legendgroup\":\"MAC003719\",\"marker\":{\"color\":\"#FF97FF\",\"symbol\":\"circle\"},\"mode\":\"markers\",\"name\":\"MAC003719\",\"orientation\":\"v\",\"showlegend\":true,\"x\":[\"A\"],\"xaxis\":\"x\",\"y\":[0.28506532917032396],\"yaxis\":\"y\",\"type\":\"scatter\"},{\"customdata\":[[\"MAC003737\"]],\"hovertemplate\":\"LCLid=%{customdata[0]}<br>Acorn_Group=%{x}<br>KWH/hh=%{y}<extra></extra>\",\"legendgroup\":\"MAC003737\",\"marker\":{\"color\":\"#FECB52\",\"symbol\":\"circle\"},\"mode\":\"markers\",\"name\":\"MAC003737\",\"orientation\":\"v\",\"showlegend\":true,\"x\":[\"A\"],\"xaxis\":\"x\",\"y\":[0.21064859324652485],\"yaxis\":\"y\",\"type\":\"scatter\"},{\"customdata\":[[\"MAC003740\"]],\"hovertemplate\":\"LCLid=%{customdata[0]}<br>Acorn_Group=%{x}<br>KWH/hh=%{y}<extra></extra>\",\"legendgroup\":\"MAC003740\",\"marker\":{\"color\":\"#636efa\",\"symbol\":\"circle\"},\"mode\":\"markers\",\"name\":\"MAC003740\",\"orientation\":\"v\",\"showlegend\":true,\"x\":[\"A\"],\"xaxis\":\"x\",\"y\":[0.21498304093212178],\"yaxis\":\"y\",\"type\":\"scatter\"},{\"customdata\":[[\"MAC003775\"]],\"hovertemplate\":\"LCLid=%{customdata[0]}<br>Acorn_Group=%{x}<br>KWH/hh=%{y}<extra></extra>\",\"legendgroup\":\"MAC003775\",\"marker\":{\"color\":\"#EF553B\",\"symbol\":\"circle\"},\"mode\":\"markers\",\"name\":\"MAC003775\",\"orientation\":\"v\",\"showlegend\":true,\"x\":[\"A\"],\"xaxis\":\"x\",\"y\":[0.6215505503653685],\"yaxis\":\"y\",\"type\":\"scatter\"},{\"customdata\":[[\"MAC003805\"]],\"hovertemplate\":\"LCLid=%{customdata[0]}<br>Acorn_Group=%{x}<br>KWH/hh=%{y}<extra></extra>\",\"legendgroup\":\"MAC003805\",\"marker\":{\"color\":\"#00cc96\",\"symbol\":\"circle\"},\"mode\":\"markers\",\"name\":\"MAC003805\",\"orientation\":\"v\",\"showlegend\":true,\"x\":[\"A\"],\"xaxis\":\"x\",\"y\":[0.2660374857528811],\"yaxis\":\"y\",\"type\":\"scatter\"},{\"customdata\":[[\"MAC003807\"]],\"hovertemplate\":\"LCLid=%{customdata[0]}<br>Acorn_Group=%{x}<br>KWH/hh=%{y}<extra></extra>\",\"legendgroup\":\"MAC003807\",\"marker\":{\"color\":\"#ab63fa\",\"symbol\":\"circle\"},\"mode\":\"markers\",\"name\":\"MAC003807\",\"orientation\":\"v\",\"showlegend\":true,\"x\":[\"A\"],\"xaxis\":\"x\",\"y\":[0.5645616634452184],\"yaxis\":\"y\",\"type\":\"scatter\"},{\"customdata\":[[\"MAC003826\"]],\"hovertemplate\":\"LCLid=%{customdata[0]}<br>Acorn_Group=%{x}<br>KWH/hh=%{y}<extra></extra>\",\"legendgroup\":\"MAC003826\",\"marker\":{\"color\":\"#FFA15A\",\"symbol\":\"circle\"},\"mode\":\"markers\",\"name\":\"MAC003826\",\"orientation\":\"v\",\"showlegend\":true,\"x\":[\"A\"],\"xaxis\":\"x\",\"y\":[0.221344427950941],\"yaxis\":\"y\",\"type\":\"scatter\"},{\"customdata\":[[\"MAC003840\"]],\"hovertemplate\":\"LCLid=%{customdata[0]}<br>Acorn_Group=%{x}<br>KWH/hh=%{y}<extra></extra>\",\"legendgroup\":\"MAC003840\",\"marker\":{\"color\":\"#19d3f3\",\"symbol\":\"circle\"},\"mode\":\"markers\",\"name\":\"MAC003840\",\"orientation\":\"v\",\"showlegend\":true,\"x\":[\"A\"],\"xaxis\":\"x\",\"y\":[0.22574267943889642],\"yaxis\":\"y\",\"type\":\"scatter\"},{\"customdata\":[[\"MAC003851\"]],\"hovertemplate\":\"LCLid=%{customdata[0]}<br>Acorn_Group=%{x}<br>KWH/hh=%{y}<extra></extra>\",\"legendgroup\":\"MAC003851\",\"marker\":{\"color\":\"#FF6692\",\"symbol\":\"circle\"},\"mode\":\"markers\",\"name\":\"MAC003851\",\"orientation\":\"v\",\"showlegend\":true,\"x\":[\"A\"],\"xaxis\":\"x\",\"y\":[0.28075532951896587],\"yaxis\":\"y\",\"type\":\"scatter\"},{\"customdata\":[[\"MAC003863\"]],\"hovertemplate\":\"LCLid=%{customdata[0]}<br>Acorn_Group=%{x}<br>KWH/hh=%{y}<extra></extra>\",\"legendgroup\":\"MAC003863\",\"marker\":{\"color\":\"#B6E880\",\"symbol\":\"circle\"},\"mode\":\"markers\",\"name\":\"MAC003863\",\"orientation\":\"v\",\"showlegend\":true,\"x\":[\"A\"],\"xaxis\":\"x\",\"y\":[0.2907361759959229],\"yaxis\":\"y\",\"type\":\"scatter\"},{\"customdata\":[[\"MAC003895\"]],\"hovertemplate\":\"LCLid=%{customdata[0]}<br>Acorn_Group=%{x}<br>KWH/hh=%{y}<extra></extra>\",\"legendgroup\":\"MAC003895\",\"marker\":{\"color\":\"#FF97FF\",\"symbol\":\"circle\"},\"mode\":\"markers\",\"name\":\"MAC003895\",\"orientation\":\"v\",\"showlegend\":true,\"x\":[\"A\"],\"xaxis\":\"x\",\"y\":[0.3730554039072991],\"yaxis\":\"y\",\"type\":\"scatter\"},{\"customdata\":[[\"MAC004034\"]],\"hovertemplate\":\"LCLid=%{customdata[0]}<br>Acorn_Group=%{x}<br>KWH/hh=%{y}<extra></extra>\",\"legendgroup\":\"MAC004034\",\"marker\":{\"color\":\"#FECB52\",\"symbol\":\"circle\"},\"mode\":\"markers\",\"name\":\"MAC004034\",\"orientation\":\"v\",\"showlegend\":true,\"x\":[\"A\"],\"xaxis\":\"x\",\"y\":[0.2334507877657555],\"yaxis\":\"y\",\"type\":\"scatter\"},{\"customdata\":[[\"MAC004054\"]],\"hovertemplate\":\"LCLid=%{customdata[0]}<br>Acorn_Group=%{x}<br>KWH/hh=%{y}<extra></extra>\",\"legendgroup\":\"MAC004054\",\"marker\":{\"color\":\"#636efa\",\"symbol\":\"circle\"},\"mode\":\"markers\",\"name\":\"MAC004054\",\"orientation\":\"v\",\"showlegend\":true,\"x\":[\"A\"],\"xaxis\":\"x\",\"y\":[0.5801348642304623],\"yaxis\":\"y\",\"type\":\"scatter\"},{\"customdata\":[[\"MAC004179\"]],\"hovertemplate\":\"LCLid=%{customdata[0]}<br>Acorn_Group=%{x}<br>KWH/hh=%{y}<extra></extra>\",\"legendgroup\":\"MAC004179\",\"marker\":{\"color\":\"#EF553B\",\"symbol\":\"circle\"},\"mode\":\"markers\",\"name\":\"MAC004179\",\"orientation\":\"v\",\"showlegend\":true,\"x\":[\"A\"],\"xaxis\":\"x\",\"y\":[2.111239230527941],\"yaxis\":\"y\",\"type\":\"scatter\"},{\"customdata\":[[\"MAC004319\"]],\"hovertemplate\":\"LCLid=%{customdata[0]}<br>Acorn_Group=%{x}<br>KWH/hh=%{y}<extra></extra>\",\"legendgroup\":\"MAC004319\",\"marker\":{\"color\":\"#00cc96\",\"symbol\":\"circle\"},\"mode\":\"markers\",\"name\":\"MAC004319\",\"orientation\":\"v\",\"showlegend\":true,\"x\":[\"A\"],\"xaxis\":\"x\",\"y\":[1.0201210303693393],\"yaxis\":\"y\",\"type\":\"scatter\"},{\"customdata\":[[\"MAC004374\"]],\"hovertemplate\":\"LCLid=%{customdata[0]}<br>Acorn_Group=%{x}<br>KWH/hh=%{y}<extra></extra>\",\"legendgroup\":\"MAC004374\",\"marker\":{\"color\":\"#ab63fa\",\"symbol\":\"circle\"},\"mode\":\"markers\",\"name\":\"MAC004374\",\"orientation\":\"v\",\"showlegend\":true,\"x\":[\"A\"],\"xaxis\":\"x\",\"y\":[0.5414855183386861],\"yaxis\":\"y\",\"type\":\"scatter\"},{\"customdata\":[[\"MAC004387\"]],\"hovertemplate\":\"LCLid=%{customdata[0]}<br>Acorn_Group=%{x}<br>KWH/hh=%{y}<extra></extra>\",\"legendgroup\":\"MAC004387\",\"marker\":{\"color\":\"#FFA15A\",\"symbol\":\"circle\"},\"mode\":\"markers\",\"name\":\"MAC004387\",\"orientation\":\"v\",\"showlegend\":true,\"x\":[\"A\"],\"xaxis\":\"x\",\"y\":[0.08982759426093052],\"yaxis\":\"y\",\"type\":\"scatter\"},{\"customdata\":[[\"MAC004436\"]],\"hovertemplate\":\"LCLid=%{customdata[0]}<br>Acorn_Group=%{x}<br>KWH/hh=%{y}<extra></extra>\",\"legendgroup\":\"MAC004436\",\"marker\":{\"color\":\"#19d3f3\",\"symbol\":\"circle\"},\"mode\":\"markers\",\"name\":\"MAC004436\",\"orientation\":\"v\",\"showlegend\":true,\"x\":[\"A\"],\"xaxis\":\"x\",\"y\":[0.10162349484287812],\"yaxis\":\"y\",\"type\":\"scatter\"},{\"customdata\":[[\"MAC004529\"]],\"hovertemplate\":\"LCLid=%{customdata[0]}<br>Acorn_Group=%{x}<br>KWH/hh=%{y}<extra></extra>\",\"legendgroup\":\"MAC004529\",\"marker\":{\"color\":\"#FF6692\",\"symbol\":\"circle\"},\"mode\":\"markers\",\"name\":\"MAC004529\",\"orientation\":\"v\",\"showlegend\":true,\"x\":[\"A\"],\"xaxis\":\"x\",\"y\":[0.1603351838767691],\"yaxis\":\"y\",\"type\":\"scatter\"},{\"customdata\":[[\"MAC004543\"]],\"hovertemplate\":\"LCLid=%{customdata[0]}<br>Acorn_Group=%{x}<br>KWH/hh=%{y}<extra></extra>\",\"legendgroup\":\"MAC004543\",\"marker\":{\"color\":\"#B6E880\",\"symbol\":\"circle\"},\"mode\":\"markers\",\"name\":\"MAC004543\",\"orientation\":\"v\",\"showlegend\":true,\"x\":[\"A\"],\"xaxis\":\"x\",\"y\":[0.42857849613710414],\"yaxis\":\"y\",\"type\":\"scatter\"},{\"customdata\":[[\"MAC004554\"]],\"hovertemplate\":\"LCLid=%{customdata[0]}<br>Acorn_Group=%{x}<br>KWH/hh=%{y}<extra></extra>\",\"legendgroup\":\"MAC004554\",\"marker\":{\"color\":\"#FF97FF\",\"symbol\":\"circle\"},\"mode\":\"markers\",\"name\":\"MAC004554\",\"orientation\":\"v\",\"showlegend\":true,\"x\":[\"A\"],\"xaxis\":\"x\",\"y\":[0.2291520031293227],\"yaxis\":\"y\",\"type\":\"scatter\"},{\"customdata\":[[\"MAC004789\"]],\"hovertemplate\":\"LCLid=%{customdata[0]}<br>Acorn_Group=%{x}<br>KWH/hh=%{y}<extra></extra>\",\"legendgroup\":\"MAC004789\",\"marker\":{\"color\":\"#FECB52\",\"symbol\":\"circle\"},\"mode\":\"markers\",\"name\":\"MAC004789\",\"orientation\":\"v\",\"showlegend\":true,\"x\":[\"A\"],\"xaxis\":\"x\",\"y\":[0.13937457631902575],\"yaxis\":\"y\",\"type\":\"scatter\"},{\"customdata\":[[\"MAC004872\"]],\"hovertemplate\":\"LCLid=%{customdata[0]}<br>Acorn_Group=%{x}<br>KWH/hh=%{y}<extra></extra>\",\"legendgroup\":\"MAC004872\",\"marker\":{\"color\":\"#636efa\",\"symbol\":\"circle\"},\"mode\":\"markers\",\"name\":\"MAC004872\",\"orientation\":\"v\",\"showlegend\":true,\"x\":[\"A\"],\"xaxis\":\"x\",\"y\":[0.27288718437591075],\"yaxis\":\"y\",\"type\":\"scatter\"},{\"customdata\":[[\"MAC004900\"]],\"hovertemplate\":\"LCLid=%{customdata[0]}<br>Acorn_Group=%{x}<br>KWH/hh=%{y}<extra></extra>\",\"legendgroup\":\"MAC004900\",\"marker\":{\"color\":\"#EF553B\",\"symbol\":\"circle\"},\"mode\":\"markers\",\"name\":\"MAC004900\",\"orientation\":\"v\",\"showlegend\":true,\"x\":[\"A\"],\"xaxis\":\"x\",\"y\":[0.5075056309650825],\"yaxis\":\"y\",\"type\":\"scatter\"},{\"customdata\":[[\"MAC004955\"]],\"hovertemplate\":\"LCLid=%{customdata[0]}<br>Acorn_Group=%{x}<br>KWH/hh=%{y}<extra></extra>\",\"legendgroup\":\"MAC004955\",\"marker\":{\"color\":\"#00cc96\",\"symbol\":\"circle\"},\"mode\":\"markers\",\"name\":\"MAC004955\",\"orientation\":\"v\",\"showlegend\":true,\"x\":[\"A\"],\"xaxis\":\"x\",\"y\":[0.2068919388922107],\"yaxis\":\"y\",\"type\":\"scatter\"},{\"customdata\":[[\"MAC004988\"]],\"hovertemplate\":\"LCLid=%{customdata[0]}<br>Acorn_Group=%{x}<br>KWH/hh=%{y}<extra></extra>\",\"legendgroup\":\"MAC004988\",\"marker\":{\"color\":\"#ab63fa\",\"symbol\":\"circle\"},\"mode\":\"markers\",\"name\":\"MAC004988\",\"orientation\":\"v\",\"showlegend\":true,\"x\":[\"A\"],\"xaxis\":\"x\",\"y\":[0.22975015010914052],\"yaxis\":\"y\",\"type\":\"scatter\"},{\"customdata\":[[\"MAC004997\"]],\"hovertemplate\":\"LCLid=%{customdata[0]}<br>Acorn_Group=%{x}<br>KWH/hh=%{y}<extra></extra>\",\"legendgroup\":\"MAC004997\",\"marker\":{\"color\":\"#FFA15A\",\"symbol\":\"circle\"},\"mode\":\"markers\",\"name\":\"MAC004997\",\"orientation\":\"v\",\"showlegend\":true,\"x\":[\"A\"],\"xaxis\":\"x\",\"y\":[0.4784809820247835],\"yaxis\":\"y\",\"type\":\"scatter\"},{\"customdata\":[[\"MAC005042\"]],\"hovertemplate\":\"LCLid=%{customdata[0]}<br>Acorn_Group=%{x}<br>KWH/hh=%{y}<extra></extra>\",\"legendgroup\":\"MAC005042\",\"marker\":{\"color\":\"#19d3f3\",\"symbol\":\"circle\"},\"mode\":\"markers\",\"name\":\"MAC005042\",\"orientation\":\"v\",\"showlegend\":true,\"x\":[\"A\"],\"xaxis\":\"x\",\"y\":[0.3077096064492176],\"yaxis\":\"y\",\"type\":\"scatter\"},{\"customdata\":[[\"MAC005159\"]],\"hovertemplate\":\"LCLid=%{customdata[0]}<br>Acorn_Group=%{x}<br>KWH/hh=%{y}<extra></extra>\",\"legendgroup\":\"MAC005159\",\"marker\":{\"color\":\"#FF6692\",\"symbol\":\"circle\"},\"mode\":\"markers\",\"name\":\"MAC005159\",\"orientation\":\"v\",\"showlegend\":true,\"x\":[\"A\"],\"xaxis\":\"x\",\"y\":[0.35028378788583026],\"yaxis\":\"y\",\"type\":\"scatter\"},{\"customdata\":[[\"MAC005160\"]],\"hovertemplate\":\"LCLid=%{customdata[0]}<br>Acorn_Group=%{x}<br>KWH/hh=%{y}<extra></extra>\",\"legendgroup\":\"MAC005160\",\"marker\":{\"color\":\"#B6E880\",\"symbol\":\"circle\"},\"mode\":\"markers\",\"name\":\"MAC005160\",\"orientation\":\"v\",\"showlegend\":true,\"x\":[\"A\"],\"xaxis\":\"x\",\"y\":[0.235253472779866],\"yaxis\":\"y\",\"type\":\"scatter\"},{\"customdata\":[[\"MAC005283\"]],\"hovertemplate\":\"LCLid=%{customdata[0]}<br>Acorn_Group=%{x}<br>KWH/hh=%{y}<extra></extra>\",\"legendgroup\":\"MAC005283\",\"marker\":{\"color\":\"#FF97FF\",\"symbol\":\"circle\"},\"mode\":\"markers\",\"name\":\"MAC005283\",\"orientation\":\"v\",\"showlegend\":true,\"x\":[\"A\"],\"xaxis\":\"x\",\"y\":[0.2650145339347366],\"yaxis\":\"y\",\"type\":\"scatter\"},{\"customdata\":[[\"MAC005406\"]],\"hovertemplate\":\"LCLid=%{customdata[0]}<br>Acorn_Group=%{x}<br>KWH/hh=%{y}<extra></extra>\",\"legendgroup\":\"MAC005406\",\"marker\":{\"color\":\"#FECB52\",\"symbol\":\"circle\"},\"mode\":\"markers\",\"name\":\"MAC005406\",\"orientation\":\"v\",\"showlegend\":true,\"x\":[\"A\"],\"xaxis\":\"x\",\"y\":[1.4801239923872473],\"yaxis\":\"y\",\"type\":\"scatter\"},{\"customdata\":[[\"MAC005421\"]],\"hovertemplate\":\"LCLid=%{customdata[0]}<br>Acorn_Group=%{x}<br>KWH/hh=%{y}<extra></extra>\",\"legendgroup\":\"MAC005421\",\"marker\":{\"color\":\"#636efa\",\"symbol\":\"circle\"},\"mode\":\"markers\",\"name\":\"MAC005421\",\"orientation\":\"v\",\"showlegend\":true,\"x\":[\"A\"],\"xaxis\":\"x\",\"y\":[0.5015949272657165],\"yaxis\":\"y\",\"type\":\"scatter\"},{\"customdata\":[[\"MAC001410\"]],\"hovertemplate\":\"LCLid=%{customdata[0]}<br>Acorn_Group=%{x}<br>KWH/hh=%{y}<extra></extra>\",\"legendgroup\":\"MAC001410\",\"marker\":{\"color\":\"#EF553B\",\"symbol\":\"circle\"},\"mode\":\"markers\",\"name\":\"MAC001410\",\"orientation\":\"v\",\"showlegend\":true,\"x\":[\"B\"],\"xaxis\":\"x\",\"y\":[0.20946149659312863],\"yaxis\":\"y\",\"type\":\"scatter\"},{\"customdata\":[[\"MAC003355\"]],\"hovertemplate\":\"LCLid=%{customdata[0]}<br>Acorn_Group=%{x}<br>KWH/hh=%{y}<extra></extra>\",\"legendgroup\":\"MAC003355\",\"marker\":{\"color\":\"#00cc96\",\"symbol\":\"circle\"},\"mode\":\"markers\",\"name\":\"MAC003355\",\"orientation\":\"v\",\"showlegend\":true,\"x\":[\"B\"],\"xaxis\":\"x\",\"y\":[0.38890035290319996],\"yaxis\":\"y\",\"type\":\"scatter\"},{\"customdata\":[[\"MAC003403\"]],\"hovertemplate\":\"LCLid=%{customdata[0]}<br>Acorn_Group=%{x}<br>KWH/hh=%{y}<extra></extra>\",\"legendgroup\":\"MAC003403\",\"marker\":{\"color\":\"#ab63fa\",\"symbol\":\"circle\"},\"mode\":\"markers\",\"name\":\"MAC003403\",\"orientation\":\"v\",\"showlegend\":true,\"x\":[\"B\"],\"xaxis\":\"x\",\"y\":[0.1231277126867174],\"yaxis\":\"y\",\"type\":\"scatter\"},{\"customdata\":[[\"MAC003445\"]],\"hovertemplate\":\"LCLid=%{customdata[0]}<br>Acorn_Group=%{x}<br>KWH/hh=%{y}<extra></extra>\",\"legendgroup\":\"MAC003445\",\"marker\":{\"color\":\"#FFA15A\",\"symbol\":\"circle\"},\"mode\":\"markers\",\"name\":\"MAC003445\",\"orientation\":\"v\",\"showlegend\":true,\"x\":[\"B\"],\"xaxis\":\"x\",\"y\":[0.4336888690816161],\"yaxis\":\"y\",\"type\":\"scatter\"},{\"customdata\":[[\"MAC003822\"]],\"hovertemplate\":\"LCLid=%{customdata[0]}<br>Acorn_Group=%{x}<br>KWH/hh=%{y}<extra></extra>\",\"legendgroup\":\"MAC003822\",\"marker\":{\"color\":\"#19d3f3\",\"symbol\":\"circle\"},\"mode\":\"markers\",\"name\":\"MAC003822\",\"orientation\":\"v\",\"showlegend\":true,\"x\":[\"B\"],\"xaxis\":\"x\",\"y\":[0.14508408052782948],\"yaxis\":\"y\",\"type\":\"scatter\"},{\"customdata\":[[\"MAC003876\"]],\"hovertemplate\":\"LCLid=%{customdata[0]}<br>Acorn_Group=%{x}<br>KWH/hh=%{y}<extra></extra>\",\"legendgroup\":\"MAC003876\",\"marker\":{\"color\":\"#FF6692\",\"symbol\":\"circle\"},\"mode\":\"markers\",\"name\":\"MAC003876\",\"orientation\":\"v\",\"showlegend\":true,\"x\":[\"B\"],\"xaxis\":\"x\",\"y\":[0.41789963474770647],\"yaxis\":\"y\",\"type\":\"scatter\"},{\"customdata\":[[\"MAC003903\"]],\"hovertemplate\":\"LCLid=%{customdata[0]}<br>Acorn_Group=%{x}<br>KWH/hh=%{y}<extra></extra>\",\"legendgroup\":\"MAC003903\",\"marker\":{\"color\":\"#B6E880\",\"symbol\":\"circle\"},\"mode\":\"markers\",\"name\":\"MAC003903\",\"orientation\":\"v\",\"showlegend\":true,\"x\":[\"B\"],\"xaxis\":\"x\",\"y\":[0.6634563366158822],\"yaxis\":\"y\",\"type\":\"scatter\"},{\"customdata\":[[\"MAC004417\"]],\"hovertemplate\":\"LCLid=%{customdata[0]}<br>Acorn_Group=%{x}<br>KWH/hh=%{y}<extra></extra>\",\"legendgroup\":\"MAC004417\",\"marker\":{\"color\":\"#FF97FF\",\"symbol\":\"circle\"},\"mode\":\"markers\",\"name\":\"MAC004417\",\"orientation\":\"v\",\"showlegend\":true,\"x\":[\"B\"],\"xaxis\":\"x\",\"y\":[0.13540744326939996],\"yaxis\":\"y\",\"type\":\"scatter\"},{\"customdata\":[[\"MAC004567\"]],\"hovertemplate\":\"LCLid=%{customdata[0]}<br>Acorn_Group=%{x}<br>KWH/hh=%{y}<extra></extra>\",\"legendgroup\":\"MAC004567\",\"marker\":{\"color\":\"#FECB52\",\"symbol\":\"circle\"},\"mode\":\"markers\",\"name\":\"MAC004567\",\"orientation\":\"v\",\"showlegend\":true,\"x\":[\"B\"],\"xaxis\":\"x\",\"y\":[0.2025556542589883],\"yaxis\":\"y\",\"type\":\"scatter\"},{\"customdata\":[[\"MAC000017\"]],\"hovertemplate\":\"LCLid=%{customdata[0]}<br>Acorn_Group=%{x}<br>KWH/hh=%{y}<extra></extra>\",\"legendgroup\":\"MAC000017\",\"marker\":{\"color\":\"#636efa\",\"symbol\":\"circle\"},\"mode\":\"markers\",\"name\":\"MAC000017\",\"orientation\":\"v\",\"showlegend\":true,\"x\":[\"C\"],\"xaxis\":\"x\",\"y\":[0.13302527760835084],\"yaxis\":\"y\",\"type\":\"scatter\"},{\"customdata\":[[\"MAC000096\"]],\"hovertemplate\":\"LCLid=%{customdata[0]}<br>Acorn_Group=%{x}<br>KWH/hh=%{y}<extra></extra>\",\"legendgroup\":\"MAC000096\",\"marker\":{\"color\":\"#EF553B\",\"symbol\":\"circle\"},\"mode\":\"markers\",\"name\":\"MAC000096\",\"orientation\":\"v\",\"showlegend\":true,\"x\":[\"C\"],\"xaxis\":\"x\",\"y\":[0.6011210090421831],\"yaxis\":\"y\",\"type\":\"scatter\"},{\"customdata\":[[\"MAC000140\"]],\"hovertemplate\":\"LCLid=%{customdata[0]}<br>Acorn_Group=%{x}<br>KWH/hh=%{y}<extra></extra>\",\"legendgroup\":\"MAC000140\",\"marker\":{\"color\":\"#00cc96\",\"symbol\":\"circle\"},\"mode\":\"markers\",\"name\":\"MAC000140\",\"orientation\":\"v\",\"showlegend\":true,\"x\":[\"C\"],\"xaxis\":\"x\",\"y\":[0.1058779193050593],\"yaxis\":\"y\",\"type\":\"scatter\"},{\"customdata\":[[\"MAC000545\"]],\"hovertemplate\":\"LCLid=%{customdata[0]}<br>Acorn_Group=%{x}<br>KWH/hh=%{y}<extra></extra>\",\"legendgroup\":\"MAC000545\",\"marker\":{\"color\":\"#ab63fa\",\"symbol\":\"circle\"},\"mode\":\"markers\",\"name\":\"MAC000545\",\"orientation\":\"v\",\"showlegend\":true,\"x\":[\"C\"],\"xaxis\":\"x\",\"y\":[0.15926160481879112],\"yaxis\":\"y\",\"type\":\"scatter\"},{\"customdata\":[[\"MAC000630\"]],\"hovertemplate\":\"LCLid=%{customdata[0]}<br>Acorn_Group=%{x}<br>KWH/hh=%{y}<extra></extra>\",\"legendgroup\":\"MAC000630\",\"marker\":{\"color\":\"#FFA15A\",\"symbol\":\"circle\"},\"mode\":\"markers\",\"name\":\"MAC000630\",\"orientation\":\"v\",\"showlegend\":true,\"x\":[\"C\"],\"xaxis\":\"x\",\"y\":[0.33349158255743283],\"yaxis\":\"y\",\"type\":\"scatter\"},{\"customdata\":[[\"MAC000798\"]],\"hovertemplate\":\"LCLid=%{customdata[0]}<br>Acorn_Group=%{x}<br>KWH/hh=%{y}<extra></extra>\",\"legendgroup\":\"MAC000798\",\"marker\":{\"color\":\"#19d3f3\",\"symbol\":\"circle\"},\"mode\":\"markers\",\"name\":\"MAC000798\",\"orientation\":\"v\",\"showlegend\":true,\"x\":[\"C\"],\"xaxis\":\"x\",\"y\":[0.09130568874315588],\"yaxis\":\"y\",\"type\":\"scatter\"},{\"customdata\":[[\"MAC001064\"]],\"hovertemplate\":\"LCLid=%{customdata[0]}<br>Acorn_Group=%{x}<br>KWH/hh=%{y}<extra></extra>\",\"legendgroup\":\"MAC001064\",\"marker\":{\"color\":\"#FF6692\",\"symbol\":\"circle\"},\"mode\":\"markers\",\"name\":\"MAC001064\",\"orientation\":\"v\",\"showlegend\":true,\"x\":[\"C\"],\"xaxis\":\"x\",\"y\":[0.18962814051871474],\"yaxis\":\"y\",\"type\":\"scatter\"},{\"customdata\":[[\"MAC001313\"]],\"hovertemplate\":\"LCLid=%{customdata[0]}<br>Acorn_Group=%{x}<br>KWH/hh=%{y}<extra></extra>\",\"legendgroup\":\"MAC001313\",\"marker\":{\"color\":\"#B6E880\",\"symbol\":\"circle\"},\"mode\":\"markers\",\"name\":\"MAC001313\",\"orientation\":\"v\",\"showlegend\":true,\"x\":[\"C\"],\"xaxis\":\"x\",\"y\":[0.1729370039021902],\"yaxis\":\"y\",\"type\":\"scatter\"},{\"customdata\":[[\"MAC001371\"]],\"hovertemplate\":\"LCLid=%{customdata[0]}<br>Acorn_Group=%{x}<br>KWH/hh=%{y}<extra></extra>\",\"legendgroup\":\"MAC001371\",\"marker\":{\"color\":\"#FF97FF\",\"symbol\":\"circle\"},\"mode\":\"markers\",\"name\":\"MAC001371\",\"orientation\":\"v\",\"showlegend\":true,\"x\":[\"C\"],\"xaxis\":\"x\",\"y\":[0.3317420778403095],\"yaxis\":\"y\",\"type\":\"scatter\"},{\"customdata\":[[\"MAC001395\"]],\"hovertemplate\":\"LCLid=%{customdata[0]}<br>Acorn_Group=%{x}<br>KWH/hh=%{y}<extra></extra>\",\"legendgroup\":\"MAC001395\",\"marker\":{\"color\":\"#FECB52\",\"symbol\":\"circle\"},\"mode\":\"markers\",\"name\":\"MAC001395\",\"orientation\":\"v\",\"showlegend\":true,\"x\":[\"C\"],\"xaxis\":\"x\",\"y\":[0.5117458662231745],\"yaxis\":\"y\",\"type\":\"scatter\"},{\"customdata\":[[\"MAC001544\"]],\"hovertemplate\":\"LCLid=%{customdata[0]}<br>Acorn_Group=%{x}<br>KWH/hh=%{y}<extra></extra>\",\"legendgroup\":\"MAC001544\",\"marker\":{\"color\":\"#636efa\",\"symbol\":\"circle\"},\"mode\":\"markers\",\"name\":\"MAC001544\",\"orientation\":\"v\",\"showlegend\":true,\"x\":[\"C\"],\"xaxis\":\"x\",\"y\":[0.3514669848004903],\"yaxis\":\"y\",\"type\":\"scatter\"},{\"customdata\":[[\"MAC001553\"]],\"hovertemplate\":\"LCLid=%{customdata[0]}<br>Acorn_Group=%{x}<br>KWH/hh=%{y}<extra></extra>\",\"legendgroup\":\"MAC001553\",\"marker\":{\"color\":\"#EF553B\",\"symbol\":\"circle\"},\"mode\":\"markers\",\"name\":\"MAC001553\",\"orientation\":\"v\",\"showlegend\":true,\"x\":[\"C\"],\"xaxis\":\"x\",\"y\":[0.13971798510432457],\"yaxis\":\"y\",\"type\":\"scatter\"},{\"customdata\":[[\"MAC001579\"]],\"hovertemplate\":\"LCLid=%{customdata[0]}<br>Acorn_Group=%{x}<br>KWH/hh=%{y}<extra></extra>\",\"legendgroup\":\"MAC001579\",\"marker\":{\"color\":\"#00cc96\",\"symbol\":\"circle\"},\"mode\":\"markers\",\"name\":\"MAC001579\",\"orientation\":\"v\",\"showlegend\":true,\"x\":[\"C\"],\"xaxis\":\"x\",\"y\":[0.5017410453073385],\"yaxis\":\"y\",\"type\":\"scatter\"},{\"customdata\":[[\"MAC002015\"]],\"hovertemplate\":\"LCLid=%{customdata[0]}<br>Acorn_Group=%{x}<br>KWH/hh=%{y}<extra></extra>\",\"legendgroup\":\"MAC002015\",\"marker\":{\"color\":\"#ab63fa\",\"symbol\":\"circle\"},\"mode\":\"markers\",\"name\":\"MAC002015\",\"orientation\":\"v\",\"showlegend\":true,\"x\":[\"C\"],\"xaxis\":\"x\",\"y\":[0.1749727755112935],\"yaxis\":\"y\",\"type\":\"scatter\"},{\"customdata\":[[\"MAC002070\"]],\"hovertemplate\":\"LCLid=%{customdata[0]}<br>Acorn_Group=%{x}<br>KWH/hh=%{y}<extra></extra>\",\"legendgroup\":\"MAC002070\",\"marker\":{\"color\":\"#FFA15A\",\"symbol\":\"circle\"},\"mode\":\"markers\",\"name\":\"MAC002070\",\"orientation\":\"v\",\"showlegend\":true,\"x\":[\"C\"],\"xaxis\":\"x\",\"y\":[0.23141818603593053],\"yaxis\":\"y\",\"type\":\"scatter\"},{\"customdata\":[[\"MAC002481\"]],\"hovertemplate\":\"LCLid=%{customdata[0]}<br>Acorn_Group=%{x}<br>KWH/hh=%{y}<extra></extra>\",\"legendgroup\":\"MAC002481\",\"marker\":{\"color\":\"#19d3f3\",\"symbol\":\"circle\"},\"mode\":\"markers\",\"name\":\"MAC002481\",\"orientation\":\"v\",\"showlegend\":true,\"x\":[\"C\"],\"xaxis\":\"x\",\"y\":[0.268569441824489],\"yaxis\":\"y\",\"type\":\"scatter\"},{\"customdata\":[[\"MAC002575\"]],\"hovertemplate\":\"LCLid=%{customdata[0]}<br>Acorn_Group=%{x}<br>KWH/hh=%{y}<extra></extra>\",\"legendgroup\":\"MAC002575\",\"marker\":{\"color\":\"#FF6692\",\"symbol\":\"circle\"},\"mode\":\"markers\",\"name\":\"MAC002575\",\"orientation\":\"v\",\"showlegend\":true,\"x\":[\"C\"],\"xaxis\":\"x\",\"y\":[0.13867656699783867],\"yaxis\":\"y\",\"type\":\"scatter\"},{\"customdata\":[[\"MAC002595\"]],\"hovertemplate\":\"LCLid=%{customdata[0]}<br>Acorn_Group=%{x}<br>KWH/hh=%{y}<extra></extra>\",\"legendgroup\":\"MAC002595\",\"marker\":{\"color\":\"#B6E880\",\"symbol\":\"circle\"},\"mode\":\"markers\",\"name\":\"MAC002595\",\"orientation\":\"v\",\"showlegend\":true,\"x\":[\"C\"],\"xaxis\":\"x\",\"y\":[0.17309065550209204],\"yaxis\":\"y\",\"type\":\"scatter\"},{\"customdata\":[[\"MAC002599\"]],\"hovertemplate\":\"LCLid=%{customdata[0]}<br>Acorn_Group=%{x}<br>KWH/hh=%{y}<extra></extra>\",\"legendgroup\":\"MAC002599\",\"marker\":{\"color\":\"#FF97FF\",\"symbol\":\"circle\"},\"mode\":\"markers\",\"name\":\"MAC002599\",\"orientation\":\"v\",\"showlegend\":true,\"x\":[\"C\"],\"xaxis\":\"x\",\"y\":[0.24570560342759512],\"yaxis\":\"y\",\"type\":\"scatter\"},{\"customdata\":[[\"MAC002604\"]],\"hovertemplate\":\"LCLid=%{customdata[0]}<br>Acorn_Group=%{x}<br>KWH/hh=%{y}<extra></extra>\",\"legendgroup\":\"MAC002604\",\"marker\":{\"color\":\"#FECB52\",\"symbol\":\"circle\"},\"mode\":\"markers\",\"name\":\"MAC002604\",\"orientation\":\"v\",\"showlegend\":true,\"x\":[\"C\"],\"xaxis\":\"x\",\"y\":[0.37109145753138073],\"yaxis\":\"y\",\"type\":\"scatter\"},{\"customdata\":[[\"MAC002606\"]],\"hovertemplate\":\"LCLid=%{customdata[0]}<br>Acorn_Group=%{x}<br>KWH/hh=%{y}<extra></extra>\",\"legendgroup\":\"MAC002606\",\"marker\":{\"color\":\"#636efa\",\"symbol\":\"circle\"},\"mode\":\"markers\",\"name\":\"MAC002606\",\"orientation\":\"v\",\"showlegend\":true,\"x\":[\"C\"],\"xaxis\":\"x\",\"y\":[0.24254780332635983],\"yaxis\":\"y\",\"type\":\"scatter\"},{\"customdata\":[[\"MAC002829\"]],\"hovertemplate\":\"LCLid=%{customdata[0]}<br>Acorn_Group=%{x}<br>KWH/hh=%{y}<extra></extra>\",\"legendgroup\":\"MAC002829\",\"marker\":{\"color\":\"#EF553B\",\"symbol\":\"circle\"},\"mode\":\"markers\",\"name\":\"MAC002829\",\"orientation\":\"v\",\"showlegend\":true,\"x\":[\"C\"],\"xaxis\":\"x\",\"y\":[0.21158931626322794],\"yaxis\":\"y\",\"type\":\"scatter\"},{\"customdata\":[[\"MAC002862\"]],\"hovertemplate\":\"LCLid=%{customdata[0]}<br>Acorn_Group=%{x}<br>KWH/hh=%{y}<extra></extra>\",\"legendgroup\":\"MAC002862\",\"marker\":{\"color\":\"#00cc96\",\"symbol\":\"circle\"},\"mode\":\"markers\",\"name\":\"MAC002862\",\"orientation\":\"v\",\"showlegend\":true,\"x\":[\"C\"],\"xaxis\":\"x\",\"y\":[0.36255097896204297],\"yaxis\":\"y\",\"type\":\"scatter\"},{\"customdata\":[[\"MAC003001\"]],\"hovertemplate\":\"LCLid=%{customdata[0]}<br>Acorn_Group=%{x}<br>KWH/hh=%{y}<extra></extra>\",\"legendgroup\":\"MAC003001\",\"marker\":{\"color\":\"#ab63fa\",\"symbol\":\"circle\"},\"mode\":\"markers\",\"name\":\"MAC003001\",\"orientation\":\"v\",\"showlegend\":true,\"x\":[\"C\"],\"xaxis\":\"x\",\"y\":[0.17608362680754092],\"yaxis\":\"y\",\"type\":\"scatter\"},{\"customdata\":[[\"MAC003065\"]],\"hovertemplate\":\"LCLid=%{customdata[0]}<br>Acorn_Group=%{x}<br>KWH/hh=%{y}<extra></extra>\",\"legendgroup\":\"MAC003065\",\"marker\":{\"color\":\"#FFA15A\",\"symbol\":\"circle\"},\"mode\":\"markers\",\"name\":\"MAC003065\",\"orientation\":\"v\",\"showlegend\":true,\"x\":[\"C\"],\"xaxis\":\"x\",\"y\":[0.3686401606682821],\"yaxis\":\"y\",\"type\":\"scatter\"},{\"customdata\":[[\"MAC003157\"]],\"hovertemplate\":\"LCLid=%{customdata[0]}<br>Acorn_Group=%{x}<br>KWH/hh=%{y}<extra></extra>\",\"legendgroup\":\"MAC003157\",\"marker\":{\"color\":\"#19d3f3\",\"symbol\":\"circle\"},\"mode\":\"markers\",\"name\":\"MAC003157\",\"orientation\":\"v\",\"showlegend\":true,\"x\":[\"C\"],\"xaxis\":\"x\",\"y\":[0.3870145009374671],\"yaxis\":\"y\",\"type\":\"scatter\"},{\"customdata\":[[\"MAC003201\"]],\"hovertemplate\":\"LCLid=%{customdata[0]}<br>Acorn_Group=%{x}<br>KWH/hh=%{y}<extra></extra>\",\"legendgroup\":\"MAC003201\",\"marker\":{\"color\":\"#FF6692\",\"symbol\":\"circle\"},\"mode\":\"markers\",\"name\":\"MAC003201\",\"orientation\":\"v\",\"showlegend\":true,\"x\":[\"C\"],\"xaxis\":\"x\",\"y\":[0.22620632045169387],\"yaxis\":\"y\",\"type\":\"scatter\"},{\"customdata\":[[\"MAC003231\"]],\"hovertemplate\":\"LCLid=%{customdata[0]}<br>Acorn_Group=%{x}<br>KWH/hh=%{y}<extra></extra>\",\"legendgroup\":\"MAC003231\",\"marker\":{\"color\":\"#B6E880\",\"symbol\":\"circle\"},\"mode\":\"markers\",\"name\":\"MAC003231\",\"orientation\":\"v\",\"showlegend\":true,\"x\":[\"C\"],\"xaxis\":\"x\",\"y\":[0.4273950272249795],\"yaxis\":\"y\",\"type\":\"scatter\"},{\"customdata\":[[\"MAC003235\"]],\"hovertemplate\":\"LCLid=%{customdata[0]}<br>Acorn_Group=%{x}<br>KWH/hh=%{y}<extra></extra>\",\"legendgroup\":\"MAC003235\",\"marker\":{\"color\":\"#FF97FF\",\"symbol\":\"circle\"},\"mode\":\"markers\",\"name\":\"MAC003235\",\"orientation\":\"v\",\"showlegend\":true,\"x\":[\"C\"],\"xaxis\":\"x\",\"y\":[0.4993471351078513],\"yaxis\":\"y\",\"type\":\"scatter\"},{\"customdata\":[[\"MAC003260\"]],\"hovertemplate\":\"LCLid=%{customdata[0]}<br>Acorn_Group=%{x}<br>KWH/hh=%{y}<extra></extra>\",\"legendgroup\":\"MAC003260\",\"marker\":{\"color\":\"#FECB52\",\"symbol\":\"circle\"},\"mode\":\"markers\",\"name\":\"MAC003260\",\"orientation\":\"v\",\"showlegend\":true,\"x\":[\"C\"],\"xaxis\":\"x\",\"y\":[0.352376261107814],\"yaxis\":\"y\",\"type\":\"scatter\"},{\"customdata\":[[\"MAC003283\"]],\"hovertemplate\":\"LCLid=%{customdata[0]}<br>Acorn_Group=%{x}<br>KWH/hh=%{y}<extra></extra>\",\"legendgroup\":\"MAC003283\",\"marker\":{\"color\":\"#636efa\",\"symbol\":\"circle\"},\"mode\":\"markers\",\"name\":\"MAC003283\",\"orientation\":\"v\",\"showlegend\":true,\"x\":[\"C\"],\"xaxis\":\"x\",\"y\":[0.5015150322610111],\"yaxis\":\"y\",\"type\":\"scatter\"},{\"customdata\":[[\"MAC003288\"]],\"hovertemplate\":\"LCLid=%{customdata[0]}<br>Acorn_Group=%{x}<br>KWH/hh=%{y}<extra></extra>\",\"legendgroup\":\"MAC003288\",\"marker\":{\"color\":\"#EF553B\",\"symbol\":\"circle\"},\"mode\":\"markers\",\"name\":\"MAC003288\",\"orientation\":\"v\",\"showlegend\":true,\"x\":[\"C\"],\"xaxis\":\"x\",\"y\":[0.16951364448857995],\"yaxis\":\"y\",\"type\":\"scatter\"},{\"customdata\":[[\"MAC003299\"]],\"hovertemplate\":\"LCLid=%{customdata[0]}<br>Acorn_Group=%{x}<br>KWH/hh=%{y}<extra></extra>\",\"legendgroup\":\"MAC003299\",\"marker\":{\"color\":\"#00cc96\",\"symbol\":\"circle\"},\"mode\":\"markers\",\"name\":\"MAC003299\",\"orientation\":\"v\",\"showlegend\":true,\"x\":[\"C\"],\"xaxis\":\"x\",\"y\":[0.39433985782136294],\"yaxis\":\"y\",\"type\":\"scatter\"},{\"customdata\":[[\"MAC003313\"]],\"hovertemplate\":\"LCLid=%{customdata[0]}<br>Acorn_Group=%{x}<br>KWH/hh=%{y}<extra></extra>\",\"legendgroup\":\"MAC003313\",\"marker\":{\"color\":\"#ab63fa\",\"symbol\":\"circle\"},\"mode\":\"markers\",\"name\":\"MAC003313\",\"orientation\":\"v\",\"showlegend\":true,\"x\":[\"C\"],\"xaxis\":\"x\",\"y\":[0.18475663574112566],\"yaxis\":\"y\",\"type\":\"scatter\"},{\"customdata\":[[\"MAC003319\"]],\"hovertemplate\":\"LCLid=%{customdata[0]}<br>Acorn_Group=%{x}<br>KWH/hh=%{y}<extra></extra>\",\"legendgroup\":\"MAC003319\",\"marker\":{\"color\":\"#FFA15A\",\"symbol\":\"circle\"},\"mode\":\"markers\",\"name\":\"MAC003319\",\"orientation\":\"v\",\"showlegend\":true,\"x\":[\"C\"],\"xaxis\":\"x\",\"y\":[0.497173572529668],\"yaxis\":\"y\",\"type\":\"scatter\"},{\"customdata\":[[\"MAC003339\"]],\"hovertemplate\":\"LCLid=%{customdata[0]}<br>Acorn_Group=%{x}<br>KWH/hh=%{y}<extra></extra>\",\"legendgroup\":\"MAC003339\",\"marker\":{\"color\":\"#19d3f3\",\"symbol\":\"circle\"},\"mode\":\"markers\",\"name\":\"MAC003339\",\"orientation\":\"v\",\"showlegend\":true,\"x\":[\"C\"],\"xaxis\":\"x\",\"y\":[0.36014018195196285],\"yaxis\":\"y\",\"type\":\"scatter\"},{\"customdata\":[[\"MAC003349\"]],\"hovertemplate\":\"LCLid=%{customdata[0]}<br>Acorn_Group=%{x}<br>KWH/hh=%{y}<extra></extra>\",\"legendgroup\":\"MAC003349\",\"marker\":{\"color\":\"#FF6692\",\"symbol\":\"circle\"},\"mode\":\"markers\",\"name\":\"MAC003349\",\"orientation\":\"v\",\"showlegend\":true,\"x\":[\"C\"],\"xaxis\":\"x\",\"y\":[0.43121084299462664],\"yaxis\":\"y\",\"type\":\"scatter\"},{\"customdata\":[[\"MAC003358\"]],\"hovertemplate\":\"LCLid=%{customdata[0]}<br>Acorn_Group=%{x}<br>KWH/hh=%{y}<extra></extra>\",\"legendgroup\":\"MAC003358\",\"marker\":{\"color\":\"#B6E880\",\"symbol\":\"circle\"},\"mode\":\"markers\",\"name\":\"MAC003358\",\"orientation\":\"v\",\"showlegend\":true,\"x\":[\"C\"],\"xaxis\":\"x\",\"y\":[0.14489027519056405],\"yaxis\":\"y\",\"type\":\"scatter\"},{\"customdata\":[[\"MAC003366\"]],\"hovertemplate\":\"LCLid=%{customdata[0]}<br>Acorn_Group=%{x}<br>KWH/hh=%{y}<extra></extra>\",\"legendgroup\":\"MAC003366\",\"marker\":{\"color\":\"#FF97FF\",\"symbol\":\"circle\"},\"mode\":\"markers\",\"name\":\"MAC003366\",\"orientation\":\"v\",\"showlegend\":true,\"x\":[\"C\"],\"xaxis\":\"x\",\"y\":[0.10202759699525991],\"yaxis\":\"y\",\"type\":\"scatter\"},{\"customdata\":[[\"MAC003368\"]],\"hovertemplate\":\"LCLid=%{customdata[0]}<br>Acorn_Group=%{x}<br>KWH/hh=%{y}<extra></extra>\",\"legendgroup\":\"MAC003368\",\"marker\":{\"color\":\"#FECB52\",\"symbol\":\"circle\"},\"mode\":\"markers\",\"name\":\"MAC003368\",\"orientation\":\"v\",\"showlegend\":true,\"x\":[\"C\"],\"xaxis\":\"x\",\"y\":[0.15613026883111664],\"yaxis\":\"y\",\"type\":\"scatter\"},{\"customdata\":[[\"MAC003427\"]],\"hovertemplate\":\"LCLid=%{customdata[0]}<br>Acorn_Group=%{x}<br>KWH/hh=%{y}<extra></extra>\",\"legendgroup\":\"MAC003427\",\"marker\":{\"color\":\"#636efa\",\"symbol\":\"circle\"},\"mode\":\"markers\",\"name\":\"MAC003427\",\"orientation\":\"v\",\"showlegend\":true,\"x\":[\"C\"],\"xaxis\":\"x\",\"y\":[0.33784408540477057],\"yaxis\":\"y\",\"type\":\"scatter\"},{\"customdata\":[[\"MAC003486\"]],\"hovertemplate\":\"LCLid=%{customdata[0]}<br>Acorn_Group=%{x}<br>KWH/hh=%{y}<extra></extra>\",\"legendgroup\":\"MAC003486\",\"marker\":{\"color\":\"#EF553B\",\"symbol\":\"circle\"},\"mode\":\"markers\",\"name\":\"MAC003486\",\"orientation\":\"v\",\"showlegend\":true,\"x\":[\"C\"],\"xaxis\":\"x\",\"y\":[0.10476515861057946],\"yaxis\":\"y\",\"type\":\"scatter\"},{\"customdata\":[[\"MAC003487\"]],\"hovertemplate\":\"LCLid=%{customdata[0]}<br>Acorn_Group=%{x}<br>KWH/hh=%{y}<extra></extra>\",\"legendgroup\":\"MAC003487\",\"marker\":{\"color\":\"#00cc96\",\"symbol\":\"circle\"},\"mode\":\"markers\",\"name\":\"MAC003487\",\"orientation\":\"v\",\"showlegend\":true,\"x\":[\"C\"],\"xaxis\":\"x\",\"y\":[0.13326837411539558],\"yaxis\":\"y\",\"type\":\"scatter\"},{\"customdata\":[[\"MAC003511\"]],\"hovertemplate\":\"LCLid=%{customdata[0]}<br>Acorn_Group=%{x}<br>KWH/hh=%{y}<extra></extra>\",\"legendgroup\":\"MAC003511\",\"marker\":{\"color\":\"#ab63fa\",\"symbol\":\"circle\"},\"mode\":\"markers\",\"name\":\"MAC003511\",\"orientation\":\"v\",\"showlegend\":true,\"x\":[\"C\"],\"xaxis\":\"x\",\"y\":[0.21129344323717816],\"yaxis\":\"y\",\"type\":\"scatter\"},{\"customdata\":[[\"MAC003556\"]],\"hovertemplate\":\"LCLid=%{customdata[0]}<br>Acorn_Group=%{x}<br>KWH/hh=%{y}<extra></extra>\",\"legendgroup\":\"MAC003556\",\"marker\":{\"color\":\"#FFA15A\",\"symbol\":\"circle\"},\"mode\":\"markers\",\"name\":\"MAC003556\",\"orientation\":\"v\",\"showlegend\":true,\"x\":[\"C\"],\"xaxis\":\"x\",\"y\":[0.37935732468385613],\"yaxis\":\"y\",\"type\":\"scatter\"},{\"customdata\":[[\"MAC003558\"]],\"hovertemplate\":\"LCLid=%{customdata[0]}<br>Acorn_Group=%{x}<br>KWH/hh=%{y}<extra></extra>\",\"legendgroup\":\"MAC003558\",\"marker\":{\"color\":\"#19d3f3\",\"symbol\":\"circle\"},\"mode\":\"markers\",\"name\":\"MAC003558\",\"orientation\":\"v\",\"showlegend\":true,\"x\":[\"C\"],\"xaxis\":\"x\",\"y\":[0.24997125700892306],\"yaxis\":\"y\",\"type\":\"scatter\"},{\"customdata\":[[\"MAC003580\"]],\"hovertemplate\":\"LCLid=%{customdata[0]}<br>Acorn_Group=%{x}<br>KWH/hh=%{y}<extra></extra>\",\"legendgroup\":\"MAC003580\",\"marker\":{\"color\":\"#FF6692\",\"symbol\":\"circle\"},\"mode\":\"markers\",\"name\":\"MAC003580\",\"orientation\":\"v\",\"showlegend\":true,\"x\":[\"C\"],\"xaxis\":\"x\",\"y\":[0.1315270988789515],\"yaxis\":\"y\",\"type\":\"scatter\"},{\"customdata\":[[\"MAC003639\"]],\"hovertemplate\":\"LCLid=%{customdata[0]}<br>Acorn_Group=%{x}<br>KWH/hh=%{y}<extra></extra>\",\"legendgroup\":\"MAC003639\",\"marker\":{\"color\":\"#B6E880\",\"symbol\":\"circle\"},\"mode\":\"markers\",\"name\":\"MAC003639\",\"orientation\":\"v\",\"showlegend\":true,\"x\":[\"C\"],\"xaxis\":\"x\",\"y\":[0.39231674310537423],\"yaxis\":\"y\",\"type\":\"scatter\"},{\"customdata\":[[\"MAC003642\"]],\"hovertemplate\":\"LCLid=%{customdata[0]}<br>Acorn_Group=%{x}<br>KWH/hh=%{y}<extra></extra>\",\"legendgroup\":\"MAC003642\",\"marker\":{\"color\":\"#FF97FF\",\"symbol\":\"circle\"},\"mode\":\"markers\",\"name\":\"MAC003642\",\"orientation\":\"v\",\"showlegend\":true,\"x\":[\"C\"],\"xaxis\":\"x\",\"y\":[0.49065435725936657],\"yaxis\":\"y\",\"type\":\"scatter\"},{\"customdata\":[[\"MAC003736\"]],\"hovertemplate\":\"LCLid=%{customdata[0]}<br>Acorn_Group=%{x}<br>KWH/hh=%{y}<extra></extra>\",\"legendgroup\":\"MAC003736\",\"marker\":{\"color\":\"#FECB52\",\"symbol\":\"circle\"},\"mode\":\"markers\",\"name\":\"MAC003736\",\"orientation\":\"v\",\"showlegend\":true,\"x\":[\"C\"],\"xaxis\":\"x\",\"y\":[0.21578647406197654],\"yaxis\":\"y\",\"type\":\"scatter\"},{\"customdata\":[[\"MAC003745\"]],\"hovertemplate\":\"LCLid=%{customdata[0]}<br>Acorn_Group=%{x}<br>KWH/hh=%{y}<extra></extra>\",\"legendgroup\":\"MAC003745\",\"marker\":{\"color\":\"#636efa\",\"symbol\":\"circle\"},\"mode\":\"markers\",\"name\":\"MAC003745\",\"orientation\":\"v\",\"showlegend\":true,\"x\":[\"C\"],\"xaxis\":\"x\",\"y\":[0.17378602548173594],\"yaxis\":\"y\",\"type\":\"scatter\"},{\"customdata\":[[\"MAC003755\"]],\"hovertemplate\":\"LCLid=%{customdata[0]}<br>Acorn_Group=%{x}<br>KWH/hh=%{y}<extra></extra>\",\"legendgroup\":\"MAC003755\",\"marker\":{\"color\":\"#EF553B\",\"symbol\":\"circle\"},\"mode\":\"markers\",\"name\":\"MAC003755\",\"orientation\":\"v\",\"showlegend\":true,\"x\":[\"C\"],\"xaxis\":\"x\",\"y\":[0.24923921798540025],\"yaxis\":\"y\",\"type\":\"scatter\"},{\"customdata\":[[\"MAC003762\"]],\"hovertemplate\":\"LCLid=%{customdata[0]}<br>Acorn_Group=%{x}<br>KWH/hh=%{y}<extra></extra>\",\"legendgroup\":\"MAC003762\",\"marker\":{\"color\":\"#00cc96\",\"symbol\":\"circle\"},\"mode\":\"markers\",\"name\":\"MAC003762\",\"orientation\":\"v\",\"showlegend\":true,\"x\":[\"C\"],\"xaxis\":\"x\",\"y\":[0.23553798709569157],\"yaxis\":\"y\",\"type\":\"scatter\"},{\"customdata\":[[\"MAC003776\"]],\"hovertemplate\":\"LCLid=%{customdata[0]}<br>Acorn_Group=%{x}<br>KWH/hh=%{y}<extra></extra>\",\"legendgroup\":\"MAC003776\",\"marker\":{\"color\":\"#ab63fa\",\"symbol\":\"circle\"},\"mode\":\"markers\",\"name\":\"MAC003776\",\"orientation\":\"v\",\"showlegend\":true,\"x\":[\"C\"],\"xaxis\":\"x\",\"y\":[0.3811493012210986],\"yaxis\":\"y\",\"type\":\"scatter\"},{\"customdata\":[[\"MAC003782\"]],\"hovertemplate\":\"LCLid=%{customdata[0]}<br>Acorn_Group=%{x}<br>KWH/hh=%{y}<extra></extra>\",\"legendgroup\":\"MAC003782\",\"marker\":{\"color\":\"#FFA15A\",\"symbol\":\"circle\"},\"mode\":\"markers\",\"name\":\"MAC003782\",\"orientation\":\"v\",\"showlegend\":true,\"x\":[\"C\"],\"xaxis\":\"x\",\"y\":[0.26967776051957865],\"yaxis\":\"y\",\"type\":\"scatter\"},{\"customdata\":[[\"MAC003787\"]],\"hovertemplate\":\"LCLid=%{customdata[0]}<br>Acorn_Group=%{x}<br>KWH/hh=%{y}<extra></extra>\",\"legendgroup\":\"MAC003787\",\"marker\":{\"color\":\"#19d3f3\",\"symbol\":\"circle\"},\"mode\":\"markers\",\"name\":\"MAC003787\",\"orientation\":\"v\",\"showlegend\":true,\"x\":[\"C\"],\"xaxis\":\"x\",\"y\":[0.1508827129231029],\"yaxis\":\"y\",\"type\":\"scatter\"},{\"customdata\":[[\"MAC003843\"]],\"hovertemplate\":\"LCLid=%{customdata[0]}<br>Acorn_Group=%{x}<br>KWH/hh=%{y}<extra></extra>\",\"legendgroup\":\"MAC003843\",\"marker\":{\"color\":\"#FF6692\",\"symbol\":\"circle\"},\"mode\":\"markers\",\"name\":\"MAC003843\",\"orientation\":\"v\",\"showlegend\":true,\"x\":[\"C\"],\"xaxis\":\"x\",\"y\":[0.2846137247334574],\"yaxis\":\"y\",\"type\":\"scatter\"},{\"customdata\":[[\"MAC003889\"]],\"hovertemplate\":\"LCLid=%{customdata[0]}<br>Acorn_Group=%{x}<br>KWH/hh=%{y}<extra></extra>\",\"legendgroup\":\"MAC003889\",\"marker\":{\"color\":\"#B6E880\",\"symbol\":\"circle\"},\"mode\":\"markers\",\"name\":\"MAC003889\",\"orientation\":\"v\",\"showlegend\":true,\"x\":[\"C\"],\"xaxis\":\"x\",\"y\":[0.23000123393328226],\"yaxis\":\"y\",\"type\":\"scatter\"},{\"customdata\":[[\"MAC003907\"]],\"hovertemplate\":\"LCLid=%{customdata[0]}<br>Acorn_Group=%{x}<br>KWH/hh=%{y}<extra></extra>\",\"legendgroup\":\"MAC003907\",\"marker\":{\"color\":\"#FF97FF\",\"symbol\":\"circle\"},\"mode\":\"markers\",\"name\":\"MAC003907\",\"orientation\":\"v\",\"showlegend\":true,\"x\":[\"C\"],\"xaxis\":\"x\",\"y\":[0.6014922396554665],\"yaxis\":\"y\",\"type\":\"scatter\"},{\"customdata\":[[\"MAC003933\"]],\"hovertemplate\":\"LCLid=%{customdata[0]}<br>Acorn_Group=%{x}<br>KWH/hh=%{y}<extra></extra>\",\"legendgroup\":\"MAC003933\",\"marker\":{\"color\":\"#FECB52\",\"symbol\":\"circle\"},\"mode\":\"markers\",\"name\":\"MAC003933\",\"orientation\":\"v\",\"showlegend\":true,\"x\":[\"C\"],\"xaxis\":\"x\",\"y\":[0.16606489927287507],\"yaxis\":\"y\",\"type\":\"scatter\"},{\"customdata\":[[\"MAC004029\"]],\"hovertemplate\":\"LCLid=%{customdata[0]}<br>Acorn_Group=%{x}<br>KWH/hh=%{y}<extra></extra>\",\"legendgroup\":\"MAC004029\",\"marker\":{\"color\":\"#636efa\",\"symbol\":\"circle\"},\"mode\":\"markers\",\"name\":\"MAC004029\",\"orientation\":\"v\",\"showlegend\":true,\"x\":[\"C\"],\"xaxis\":\"x\",\"y\":[0.22974591297104463],\"yaxis\":\"y\",\"type\":\"scatter\"},{\"customdata\":[[\"MAC004040\"]],\"hovertemplate\":\"LCLid=%{customdata[0]}<br>Acorn_Group=%{x}<br>KWH/hh=%{y}<extra></extra>\",\"legendgroup\":\"MAC004040\",\"marker\":{\"color\":\"#EF553B\",\"symbol\":\"circle\"},\"mode\":\"markers\",\"name\":\"MAC004040\",\"orientation\":\"v\",\"showlegend\":true,\"x\":[\"C\"],\"xaxis\":\"x\",\"y\":[0.08521296200076206],\"yaxis\":\"y\",\"type\":\"scatter\"},{\"customdata\":[[\"MAC004108\"]],\"hovertemplate\":\"LCLid=%{customdata[0]}<br>Acorn_Group=%{x}<br>KWH/hh=%{y}<extra></extra>\",\"legendgroup\":\"MAC004108\",\"marker\":{\"color\":\"#00cc96\",\"symbol\":\"circle\"},\"mode\":\"markers\",\"name\":\"MAC004108\",\"orientation\":\"v\",\"showlegend\":true,\"x\":[\"C\"],\"xaxis\":\"x\",\"y\":[0.10687599308047155],\"yaxis\":\"y\",\"type\":\"scatter\"},{\"customdata\":[[\"MAC004336\"]],\"hovertemplate\":\"LCLid=%{customdata[0]}<br>Acorn_Group=%{x}<br>KWH/hh=%{y}<extra></extra>\",\"legendgroup\":\"MAC004336\",\"marker\":{\"color\":\"#ab63fa\",\"symbol\":\"circle\"},\"mode\":\"markers\",\"name\":\"MAC004336\",\"orientation\":\"v\",\"showlegend\":true,\"x\":[\"C\"],\"xaxis\":\"x\",\"y\":[0.14773680682665424],\"yaxis\":\"y\",\"type\":\"scatter\"},{\"customdata\":[[\"MAC004406\"]],\"hovertemplate\":\"LCLid=%{customdata[0]}<br>Acorn_Group=%{x}<br>KWH/hh=%{y}<extra></extra>\",\"legendgroup\":\"MAC004406\",\"marker\":{\"color\":\"#FFA15A\",\"symbol\":\"circle\"},\"mode\":\"markers\",\"name\":\"MAC004406\",\"orientation\":\"v\",\"showlegend\":true,\"x\":[\"C\"],\"xaxis\":\"x\",\"y\":[0.08637200914848697],\"yaxis\":\"y\",\"type\":\"scatter\"},{\"customdata\":[[\"MAC004447\"]],\"hovertemplate\":\"LCLid=%{customdata[0]}<br>Acorn_Group=%{x}<br>KWH/hh=%{y}<extra></extra>\",\"legendgroup\":\"MAC004447\",\"marker\":{\"color\":\"#19d3f3\",\"symbol\":\"circle\"},\"mode\":\"markers\",\"name\":\"MAC004447\",\"orientation\":\"v\",\"showlegend\":true,\"x\":[\"C\"],\"xaxis\":\"x\",\"y\":[0.17965741558002937],\"yaxis\":\"y\",\"type\":\"scatter\"},{\"customdata\":[[\"MAC004455\"]],\"hovertemplate\":\"LCLid=%{customdata[0]}<br>Acorn_Group=%{x}<br>KWH/hh=%{y}<extra></extra>\",\"legendgroup\":\"MAC004455\",\"marker\":{\"color\":\"#FF6692\",\"symbol\":\"circle\"},\"mode\":\"markers\",\"name\":\"MAC004455\",\"orientation\":\"v\",\"showlegend\":true,\"x\":[\"C\"],\"xaxis\":\"x\",\"y\":[0.3676643705829039],\"yaxis\":\"y\",\"type\":\"scatter\"},{\"customdata\":[[\"MAC004504\"]],\"hovertemplate\":\"LCLid=%{customdata[0]}<br>Acorn_Group=%{x}<br>KWH/hh=%{y}<extra></extra>\",\"legendgroup\":\"MAC004504\",\"marker\":{\"color\":\"#B6E880\",\"symbol\":\"circle\"},\"mode\":\"markers\",\"name\":\"MAC004504\",\"orientation\":\"v\",\"showlegend\":true,\"x\":[\"C\"],\"xaxis\":\"x\",\"y\":[0.5664112524244079],\"yaxis\":\"y\",\"type\":\"scatter\"},{\"customdata\":[[\"MAC004509\"]],\"hovertemplate\":\"LCLid=%{customdata[0]}<br>Acorn_Group=%{x}<br>KWH/hh=%{y}<extra></extra>\",\"legendgroup\":\"MAC004509\",\"marker\":{\"color\":\"#FF97FF\",\"symbol\":\"circle\"},\"mode\":\"markers\",\"name\":\"MAC004509\",\"orientation\":\"v\",\"showlegend\":true,\"x\":[\"C\"],\"xaxis\":\"x\",\"y\":[0.22809940143117355],\"yaxis\":\"y\",\"type\":\"scatter\"},{\"customdata\":[[\"MAC004585\"]],\"hovertemplate\":\"LCLid=%{customdata[0]}<br>Acorn_Group=%{x}<br>KWH/hh=%{y}<extra></extra>\",\"legendgroup\":\"MAC004585\",\"marker\":{\"color\":\"#FECB52\",\"symbol\":\"circle\"},\"mode\":\"markers\",\"name\":\"MAC004585\",\"orientation\":\"v\",\"showlegend\":true,\"x\":[\"C\"],\"xaxis\":\"x\",\"y\":[0.3457404539596192],\"yaxis\":\"y\",\"type\":\"scatter\"},{\"customdata\":[[\"MAC004664\"]],\"hovertemplate\":\"LCLid=%{customdata[0]}<br>Acorn_Group=%{x}<br>KWH/hh=%{y}<extra></extra>\",\"legendgroup\":\"MAC004664\",\"marker\":{\"color\":\"#636efa\",\"symbol\":\"circle\"},\"mode\":\"markers\",\"name\":\"MAC004664\",\"orientation\":\"v\",\"showlegend\":true,\"x\":[\"C\"],\"xaxis\":\"x\",\"y\":[0.19968385131247374],\"yaxis\":\"y\",\"type\":\"scatter\"},{\"customdata\":[[\"MAC004673\"]],\"hovertemplate\":\"LCLid=%{customdata[0]}<br>Acorn_Group=%{x}<br>KWH/hh=%{y}<extra></extra>\",\"legendgroup\":\"MAC004673\",\"marker\":{\"color\":\"#EF553B\",\"symbol\":\"circle\"},\"mode\":\"markers\",\"name\":\"MAC004673\",\"orientation\":\"v\",\"showlegend\":true,\"x\":[\"C\"],\"xaxis\":\"x\",\"y\":[0.07650304410426872],\"yaxis\":\"y\",\"type\":\"scatter\"},{\"customdata\":[[\"MAC004712\"]],\"hovertemplate\":\"LCLid=%{customdata[0]}<br>Acorn_Group=%{x}<br>KWH/hh=%{y}<extra></extra>\",\"legendgroup\":\"MAC004712\",\"marker\":{\"color\":\"#00cc96\",\"symbol\":\"circle\"},\"mode\":\"markers\",\"name\":\"MAC004712\",\"orientation\":\"v\",\"showlegend\":true,\"x\":[\"C\"],\"xaxis\":\"x\",\"y\":[0.38558464342980636],\"yaxis\":\"y\",\"type\":\"scatter\"},{\"customdata\":[[\"MAC004848\"]],\"hovertemplate\":\"LCLid=%{customdata[0]}<br>Acorn_Group=%{x}<br>KWH/hh=%{y}<extra></extra>\",\"legendgroup\":\"MAC004848\",\"marker\":{\"color\":\"#ab63fa\",\"symbol\":\"circle\"},\"mode\":\"markers\",\"name\":\"MAC004848\",\"orientation\":\"v\",\"showlegend\":true,\"x\":[\"C\"],\"xaxis\":\"x\",\"y\":[0.14169109289324067],\"yaxis\":\"y\",\"type\":\"scatter\"},{\"customdata\":[[\"MAC004910\"]],\"hovertemplate\":\"LCLid=%{customdata[0]}<br>Acorn_Group=%{x}<br>KWH/hh=%{y}<extra></extra>\",\"legendgroup\":\"MAC004910\",\"marker\":{\"color\":\"#FFA15A\",\"symbol\":\"circle\"},\"mode\":\"markers\",\"name\":\"MAC004910\",\"orientation\":\"v\",\"showlegend\":true,\"x\":[\"C\"],\"xaxis\":\"x\",\"y\":[0.16104221243957112],\"yaxis\":\"y\",\"type\":\"scatter\"},{\"customdata\":[[\"MAC004925\"]],\"hovertemplate\":\"LCLid=%{customdata[0]}<br>Acorn_Group=%{x}<br>KWH/hh=%{y}<extra></extra>\",\"legendgroup\":\"MAC004925\",\"marker\":{\"color\":\"#19d3f3\",\"symbol\":\"circle\"},\"mode\":\"markers\",\"name\":\"MAC004925\",\"orientation\":\"v\",\"showlegend\":true,\"x\":[\"C\"],\"xaxis\":\"x\",\"y\":[0.3280317009393866],\"yaxis\":\"y\",\"type\":\"scatter\"},{\"customdata\":[[\"MAC004989\"]],\"hovertemplate\":\"LCLid=%{customdata[0]}<br>Acorn_Group=%{x}<br>KWH/hh=%{y}<extra></extra>\",\"legendgroup\":\"MAC004989\",\"marker\":{\"color\":\"#FF6692\",\"symbol\":\"circle\"},\"mode\":\"markers\",\"name\":\"MAC004989\",\"orientation\":\"v\",\"showlegend\":true,\"x\":[\"C\"],\"xaxis\":\"x\",\"y\":[0.19997838840559937],\"yaxis\":\"y\",\"type\":\"scatter\"},{\"customdata\":[[\"MAC005028\"]],\"hovertemplate\":\"LCLid=%{customdata[0]}<br>Acorn_Group=%{x}<br>KWH/hh=%{y}<extra></extra>\",\"legendgroup\":\"MAC005028\",\"marker\":{\"color\":\"#B6E880\",\"symbol\":\"circle\"},\"mode\":\"markers\",\"name\":\"MAC005028\",\"orientation\":\"v\",\"showlegend\":true,\"x\":[\"C\"],\"xaxis\":\"x\",\"y\":[0.32670452364525254],\"yaxis\":\"y\",\"type\":\"scatter\"},{\"customdata\":[[\"MAC005320\"]],\"hovertemplate\":\"LCLid=%{customdata[0]}<br>Acorn_Group=%{x}<br>KWH/hh=%{y}<extra></extra>\",\"legendgroup\":\"MAC005320\",\"marker\":{\"color\":\"#FF97FF\",\"symbol\":\"circle\"},\"mode\":\"markers\",\"name\":\"MAC005320\",\"orientation\":\"v\",\"showlegend\":true,\"x\":[\"C\"],\"xaxis\":\"x\",\"y\":[0.3213333614778021],\"yaxis\":\"y\",\"type\":\"scatter\"},{\"customdata\":[[\"MAC005490\"]],\"hovertemplate\":\"LCLid=%{customdata[0]}<br>Acorn_Group=%{x}<br>KWH/hh=%{y}<extra></extra>\",\"legendgroup\":\"MAC005490\",\"marker\":{\"color\":\"#FECB52\",\"symbol\":\"circle\"},\"mode\":\"markers\",\"name\":\"MAC005490\",\"orientation\":\"v\",\"showlegend\":true,\"x\":[\"C\"],\"xaxis\":\"x\",\"y\":[0.35042855392609346],\"yaxis\":\"y\",\"type\":\"scatter\"},{\"customdata\":[[\"MAC005506\"]],\"hovertemplate\":\"LCLid=%{customdata[0]}<br>Acorn_Group=%{x}<br>KWH/hh=%{y}<extra></extra>\",\"legendgroup\":\"MAC005506\",\"marker\":{\"color\":\"#636efa\",\"symbol\":\"circle\"},\"mode\":\"markers\",\"name\":\"MAC005506\",\"orientation\":\"v\",\"showlegend\":true,\"x\":[\"C\"],\"xaxis\":\"x\",\"y\":[0.22358072370118237],\"yaxis\":\"y\",\"type\":\"scatter\"},{\"customdata\":[[\"MAC005509\"]],\"hovertemplate\":\"LCLid=%{customdata[0]}<br>Acorn_Group=%{x}<br>KWH/hh=%{y}<extra></extra>\",\"legendgroup\":\"MAC005509\",\"marker\":{\"color\":\"#EF553B\",\"symbol\":\"circle\"},\"mode\":\"markers\",\"name\":\"MAC005509\",\"orientation\":\"v\",\"showlegend\":true,\"x\":[\"C\"],\"xaxis\":\"x\",\"y\":[0.2532704512380778],\"yaxis\":\"y\",\"type\":\"scatter\"}],                        {\"template\":{\"data\":{\"histogram2dcontour\":[{\"type\":\"histogram2dcontour\",\"colorbar\":{\"outlinewidth\":0,\"ticks\":\"\"},\"colorscale\":[[0.0,\"#0d0887\"],[0.1111111111111111,\"#46039f\"],[0.2222222222222222,\"#7201a8\"],[0.3333333333333333,\"#9c179e\"],[0.4444444444444444,\"#bd3786\"],[0.5555555555555556,\"#d8576b\"],[0.6666666666666666,\"#ed7953\"],[0.7777777777777778,\"#fb9f3a\"],[0.8888888888888888,\"#fdca26\"],[1.0,\"#f0f921\"]]}],\"choropleth\":[{\"type\":\"choropleth\",\"colorbar\":{\"outlinewidth\":0,\"ticks\":\"\"}}],\"histogram2d\":[{\"type\":\"histogram2d\",\"colorbar\":{\"outlinewidth\":0,\"ticks\":\"\"},\"colorscale\":[[0.0,\"#0d0887\"],[0.1111111111111111,\"#46039f\"],[0.2222222222222222,\"#7201a8\"],[0.3333333333333333,\"#9c179e\"],[0.4444444444444444,\"#bd3786\"],[0.5555555555555556,\"#d8576b\"],[0.6666666666666666,\"#ed7953\"],[0.7777777777777778,\"#fb9f3a\"],[0.8888888888888888,\"#fdca26\"],[1.0,\"#f0f921\"]]}],\"heatmap\":[{\"type\":\"heatmap\",\"colorbar\":{\"outlinewidth\":0,\"ticks\":\"\"},\"colorscale\":[[0.0,\"#0d0887\"],[0.1111111111111111,\"#46039f\"],[0.2222222222222222,\"#7201a8\"],[0.3333333333333333,\"#9c179e\"],[0.4444444444444444,\"#bd3786\"],[0.5555555555555556,\"#d8576b\"],[0.6666666666666666,\"#ed7953\"],[0.7777777777777778,\"#fb9f3a\"],[0.8888888888888888,\"#fdca26\"],[1.0,\"#f0f921\"]]}],\"heatmapgl\":[{\"type\":\"heatmapgl\",\"colorbar\":{\"outlinewidth\":0,\"ticks\":\"\"},\"colorscale\":[[0.0,\"#0d0887\"],[0.1111111111111111,\"#46039f\"],[0.2222222222222222,\"#7201a8\"],[0.3333333333333333,\"#9c179e\"],[0.4444444444444444,\"#bd3786\"],[0.5555555555555556,\"#d8576b\"],[0.6666666666666666,\"#ed7953\"],[0.7777777777777778,\"#fb9f3a\"],[0.8888888888888888,\"#fdca26\"],[1.0,\"#f0f921\"]]}],\"contourcarpet\":[{\"type\":\"contourcarpet\",\"colorbar\":{\"outlinewidth\":0,\"ticks\":\"\"}}],\"contour\":[{\"type\":\"contour\",\"colorbar\":{\"outlinewidth\":0,\"ticks\":\"\"},\"colorscale\":[[0.0,\"#0d0887\"],[0.1111111111111111,\"#46039f\"],[0.2222222222222222,\"#7201a8\"],[0.3333333333333333,\"#9c179e\"],[0.4444444444444444,\"#bd3786\"],[0.5555555555555556,\"#d8576b\"],[0.6666666666666666,\"#ed7953\"],[0.7777777777777778,\"#fb9f3a\"],[0.8888888888888888,\"#fdca26\"],[1.0,\"#f0f921\"]]}],\"surface\":[{\"type\":\"surface\",\"colorbar\":{\"outlinewidth\":0,\"ticks\":\"\"},\"colorscale\":[[0.0,\"#0d0887\"],[0.1111111111111111,\"#46039f\"],[0.2222222222222222,\"#7201a8\"],[0.3333333333333333,\"#9c179e\"],[0.4444444444444444,\"#bd3786\"],[0.5555555555555556,\"#d8576b\"],[0.6666666666666666,\"#ed7953\"],[0.7777777777777778,\"#fb9f3a\"],[0.8888888888888888,\"#fdca26\"],[1.0,\"#f0f921\"]]}],\"mesh3d\":[{\"type\":\"mesh3d\",\"colorbar\":{\"outlinewidth\":0,\"ticks\":\"\"}}],\"scatter\":[{\"fillpattern\":{\"fillmode\":\"overlay\",\"size\":10,\"solidity\":0.2},\"type\":\"scatter\"}],\"parcoords\":[{\"type\":\"parcoords\",\"line\":{\"colorbar\":{\"outlinewidth\":0,\"ticks\":\"\"}}}],\"scatterpolargl\":[{\"type\":\"scatterpolargl\",\"marker\":{\"colorbar\":{\"outlinewidth\":0,\"ticks\":\"\"}}}],\"bar\":[{\"error_x\":{\"color\":\"#2a3f5f\"},\"error_y\":{\"color\":\"#2a3f5f\"},\"marker\":{\"line\":{\"color\":\"#E5ECF6\",\"width\":0.5},\"pattern\":{\"fillmode\":\"overlay\",\"size\":10,\"solidity\":0.2}},\"type\":\"bar\"}],\"scattergeo\":[{\"type\":\"scattergeo\",\"marker\":{\"colorbar\":{\"outlinewidth\":0,\"ticks\":\"\"}}}],\"scatterpolar\":[{\"type\":\"scatterpolar\",\"marker\":{\"colorbar\":{\"outlinewidth\":0,\"ticks\":\"\"}}}],\"histogram\":[{\"marker\":{\"pattern\":{\"fillmode\":\"overlay\",\"size\":10,\"solidity\":0.2}},\"type\":\"histogram\"}],\"scattergl\":[{\"type\":\"scattergl\",\"marker\":{\"colorbar\":{\"outlinewidth\":0,\"ticks\":\"\"}}}],\"scatter3d\":[{\"type\":\"scatter3d\",\"line\":{\"colorbar\":{\"outlinewidth\":0,\"ticks\":\"\"}},\"marker\":{\"colorbar\":{\"outlinewidth\":0,\"ticks\":\"\"}}}],\"scattermapbox\":[{\"type\":\"scattermapbox\",\"marker\":{\"colorbar\":{\"outlinewidth\":0,\"ticks\":\"\"}}}],\"scatterternary\":[{\"type\":\"scatterternary\",\"marker\":{\"colorbar\":{\"outlinewidth\":0,\"ticks\":\"\"}}}],\"scattercarpet\":[{\"type\":\"scattercarpet\",\"marker\":{\"colorbar\":{\"outlinewidth\":0,\"ticks\":\"\"}}}],\"carpet\":[{\"aaxis\":{\"endlinecolor\":\"#2a3f5f\",\"gridcolor\":\"white\",\"linecolor\":\"white\",\"minorgridcolor\":\"white\",\"startlinecolor\":\"#2a3f5f\"},\"baxis\":{\"endlinecolor\":\"#2a3f5f\",\"gridcolor\":\"white\",\"linecolor\":\"white\",\"minorgridcolor\":\"white\",\"startlinecolor\":\"#2a3f5f\"},\"type\":\"carpet\"}],\"table\":[{\"cells\":{\"fill\":{\"color\":\"#EBF0F8\"},\"line\":{\"color\":\"white\"}},\"header\":{\"fill\":{\"color\":\"#C8D4E3\"},\"line\":{\"color\":\"white\"}},\"type\":\"table\"}],\"barpolar\":[{\"marker\":{\"line\":{\"color\":\"#E5ECF6\",\"width\":0.5},\"pattern\":{\"fillmode\":\"overlay\",\"size\":10,\"solidity\":0.2}},\"type\":\"barpolar\"}],\"pie\":[{\"automargin\":true,\"type\":\"pie\"}]},\"layout\":{\"autotypenumbers\":\"strict\",\"colorway\":[\"#636efa\",\"#EF553B\",\"#00cc96\",\"#ab63fa\",\"#FFA15A\",\"#19d3f3\",\"#FF6692\",\"#B6E880\",\"#FF97FF\",\"#FECB52\"],\"font\":{\"color\":\"#2a3f5f\"},\"hovermode\":\"closest\",\"hoverlabel\":{\"align\":\"left\"},\"paper_bgcolor\":\"white\",\"plot_bgcolor\":\"#E5ECF6\",\"polar\":{\"bgcolor\":\"#E5ECF6\",\"angularaxis\":{\"gridcolor\":\"white\",\"linecolor\":\"white\",\"ticks\":\"\"},\"radialaxis\":{\"gridcolor\":\"white\",\"linecolor\":\"white\",\"ticks\":\"\"}},\"ternary\":{\"bgcolor\":\"#E5ECF6\",\"aaxis\":{\"gridcolor\":\"white\",\"linecolor\":\"white\",\"ticks\":\"\"},\"baxis\":{\"gridcolor\":\"white\",\"linecolor\":\"white\",\"ticks\":\"\"},\"caxis\":{\"gridcolor\":\"white\",\"linecolor\":\"white\",\"ticks\":\"\"}},\"coloraxis\":{\"colorbar\":{\"outlinewidth\":0,\"ticks\":\"\"}},\"colorscale\":{\"sequential\":[[0.0,\"#0d0887\"],[0.1111111111111111,\"#46039f\"],[0.2222222222222222,\"#7201a8\"],[0.3333333333333333,\"#9c179e\"],[0.4444444444444444,\"#bd3786\"],[0.5555555555555556,\"#d8576b\"],[0.6666666666666666,\"#ed7953\"],[0.7777777777777778,\"#fb9f3a\"],[0.8888888888888888,\"#fdca26\"],[1.0,\"#f0f921\"]],\"sequentialminus\":[[0.0,\"#0d0887\"],[0.1111111111111111,\"#46039f\"],[0.2222222222222222,\"#7201a8\"],[0.3333333333333333,\"#9c179e\"],[0.4444444444444444,\"#bd3786\"],[0.5555555555555556,\"#d8576b\"],[0.6666666666666666,\"#ed7953\"],[0.7777777777777778,\"#fb9f3a\"],[0.8888888888888888,\"#fdca26\"],[1.0,\"#f0f921\"]],\"diverging\":[[0,\"#8e0152\"],[0.1,\"#c51b7d\"],[0.2,\"#de77ae\"],[0.3,\"#f1b6da\"],[0.4,\"#fde0ef\"],[0.5,\"#f7f7f7\"],[0.6,\"#e6f5d0\"],[0.7,\"#b8e186\"],[0.8,\"#7fbc41\"],[0.9,\"#4d9221\"],[1,\"#276419\"]]},\"xaxis\":{\"gridcolor\":\"white\",\"linecolor\":\"white\",\"ticks\":\"\",\"title\":{\"standoff\":15},\"zerolinecolor\":\"white\",\"automargin\":true,\"zerolinewidth\":2},\"yaxis\":{\"gridcolor\":\"white\",\"linecolor\":\"white\",\"ticks\":\"\",\"title\":{\"standoff\":15},\"zerolinecolor\":\"white\",\"automargin\":true,\"zerolinewidth\":2},\"scene\":{\"xaxis\":{\"backgroundcolor\":\"#E5ECF6\",\"gridcolor\":\"white\",\"linecolor\":\"white\",\"showbackground\":true,\"ticks\":\"\",\"zerolinecolor\":\"white\",\"gridwidth\":2},\"yaxis\":{\"backgroundcolor\":\"#E5ECF6\",\"gridcolor\":\"white\",\"linecolor\":\"white\",\"showbackground\":true,\"ticks\":\"\",\"zerolinecolor\":\"white\",\"gridwidth\":2},\"zaxis\":{\"backgroundcolor\":\"#E5ECF6\",\"gridcolor\":\"white\",\"linecolor\":\"white\",\"showbackground\":true,\"ticks\":\"\",\"zerolinecolor\":\"white\",\"gridwidth\":2}},\"shapedefaults\":{\"line\":{\"color\":\"#2a3f5f\"}},\"annotationdefaults\":{\"arrowcolor\":\"#2a3f5f\",\"arrowhead\":0,\"arrowwidth\":1},\"geo\":{\"bgcolor\":\"white\",\"landcolor\":\"#E5ECF6\",\"subunitcolor\":\"white\",\"showland\":true,\"showlakes\":true,\"lakecolor\":\"white\"},\"title\":{\"x\":0.05},\"mapbox\":{\"style\":\"light\"}}},\"xaxis\":{\"anchor\":\"y\",\"domain\":[0.0,1.0],\"title\":{\"text\":\"Acorn_Group\"},\"categoryorder\":\"array\",\"categoryarray\":[\"A\",\"B\",\"C\",\"D\",\"E\",\"F\",\"G\",\"H\",\"I\",\"J\",\"K\",\"L\",\"M\",\"N\",\"O\",\"P\",\"Q\"]},\"yaxis\":{\"anchor\":\"x\",\"domain\":[0.0,1.0],\"title\":{\"text\":\"KWH/hh\"}},\"legend\":{\"title\":{\"text\":\"LCLid\"},\"tracegroupgap\":0},\"margin\":{\"t\":60}},                        {\"responsive\": true}                    ).then(function(){\n",
       "                            \n",
       "var gd = document.getElementById('453907f7-47e7-48d1-a256-23a2f1c67375');\n",
       "var x = new MutationObserver(function (mutations, observer) {{\n",
       "        var display = window.getComputedStyle(gd).display;\n",
       "        if (!display || display === 'none') {{\n",
       "            console.log([gd, 'removed!']);\n",
       "            Plotly.purge(gd);\n",
       "            observer.disconnect();\n",
       "        }}\n",
       "}});\n",
       "\n",
       "// Listen for the removal of the full notebook cells\n",
       "var notebookContainer = gd.closest('#notebook-container');\n",
       "if (notebookContainer) {{\n",
       "    x.observe(notebookContainer, {childList: true});\n",
       "}}\n",
       "\n",
       "// Listen for the clearing of the current output cell\n",
       "var outputEl = gd.closest('.output');\n",
       "if (outputEl) {{\n",
       "    x.observe(outputEl, {childList: true});\n",
       "}}\n",
       "\n",
       "                        })                };                });            </script>        </div>"
      ]
     },
     "metadata": {},
     "output_type": "display_data"
    }
   ],
   "source": [
    "# x and y given as DataFrame columns\n",
    "import plotly.express as px\n",
    "# iris is a pandas DataFrame\n",
    "fig = px.scatter(cat1, x=\"Acorn_Group\", y=\"KWH/hh\", hover_data= ['LCLid'], color='LCLid',category_orders={\"Acorn_Group\": ['A','B','C','D','E','F','G','H','I','J','K','L','M', 'N','O','P','Q']})\n",
    "fig.show()"
   ]
  },
  {
   "cell_type": "code",
   "execution_count": 24,
   "id": "6bb59f41",
   "metadata": {},
   "outputs": [
    {
     "data": {
      "application/vnd.plotly.v1+json": {
       "config": {
        "plotlyServerURL": "https://plot.ly"
       },
       "data": [
        {
         "alignmentgroup": "True",
         "boxpoints": "all",
         "hovertemplate": "Acorn_Group=%{x}<br>KWH/hh=%{y}<extra></extra>",
         "legendgroup": "",
         "marker": {
          "color": "#636efa"
         },
         "name": "",
         "notched": false,
         "offsetgroup": "",
         "orientation": "v",
         "showlegend": false,
         "type": "box",
         "x": [
          "A",
          "A",
          "A",
          "A",
          "A",
          "A",
          "A",
          "A",
          "A",
          "A",
          "A",
          "A",
          "A",
          "A",
          "A",
          "A",
          "A",
          "A",
          "A",
          "A",
          "A",
          "A",
          "A",
          "A",
          "A",
          "A",
          "A",
          "A",
          "A",
          "A",
          "A",
          "A",
          "A",
          "A",
          "A",
          "A",
          "A",
          "A",
          "A",
          "A",
          "A",
          "A",
          "A",
          "A",
          "A",
          "A",
          "A",
          "A",
          "A",
          "A",
          "A",
          "A",
          "A",
          "A",
          "A",
          "A",
          "A",
          "A",
          "A",
          "A",
          "A",
          "A",
          "A",
          "A",
          "A",
          "A",
          "A",
          "A",
          "A",
          "A",
          "A",
          "A",
          "A",
          "A",
          "A",
          "A",
          "A",
          "A",
          "A",
          "A",
          "A",
          "B",
          "B",
          "B",
          "B",
          "B",
          "B",
          "B",
          "B",
          "B",
          "C",
          "C",
          "C",
          "C",
          "C",
          "C",
          "C",
          "C",
          "C",
          "C",
          "C",
          "C",
          "C",
          "C",
          "C",
          "C",
          "C",
          "C",
          "C",
          "C",
          "C",
          "C",
          "C",
          "C",
          "C",
          "C",
          "C",
          "C",
          "C",
          "C",
          "C",
          "C",
          "C",
          "C",
          "C",
          "C",
          "C",
          "C",
          "C",
          "C",
          "C",
          "C",
          "C",
          "C",
          "C",
          "C",
          "C",
          "C",
          "C",
          "C",
          "C",
          "C",
          "C",
          "C",
          "C",
          "C",
          "C",
          "C",
          "C",
          "C",
          "C",
          "C",
          "C",
          "C",
          "C",
          "C",
          "C",
          "C",
          "C",
          "C",
          "C",
          "C",
          "C",
          "C",
          "C",
          "C",
          "C",
          "C",
          "C",
          "C",
          "C",
          "C"
         ],
         "x0": " ",
         "xaxis": "x",
         "y": [
          0.23755278057071136,
          0.5557892983026946,
          0.5012557308897151,
          0.34188295562896814,
          0.2680307374376857,
          0.3509564265824075,
          0.3264582709682064,
          0.6922800939915048,
          0.11618833697127012,
          0.23560130970767826,
          0.14472739132981308,
          0.24148877557964563,
          0.13242089458554895,
          0.36968784625644613,
          0.6681347016203476,
          0.12190182893356642,
          0.2828148684542055,
          0.2236001019489796,
          0.1911523705736963,
          0.24511675835480054,
          0.9692578601590881,
          0.2993627009292081,
          0.5381476847995854,
          0.34771577572084716,
          0.16507060740563326,
          0.44867436120740245,
          0.3296757054272426,
          0.4002075219269889,
          0.15808619598041537,
          1.1040715558831677,
          0.1956828580784812,
          0.2792082952479421,
          0.32886618197651196,
          0.6025874186790631,
          0.2547008938833857,
          0.5464911286032569,
          0.21826368144979738,
          0.2746452675638315,
          0.3608659058096568,
          0.20815804533837662,
          0.22881945700123407,
          0.3647339085380455,
          0.6905727556693368,
          0.5953342848266733,
          0.22249600727791802,
          0.7715128377387541,
          0.22023906856403622,
          0.3391242128425443,
          0.28506532917032396,
          0.21064859324652485,
          0.21498304093212178,
          0.6215505503653685,
          0.2660374857528811,
          0.5645616634452184,
          0.221344427950941,
          0.22574267943889642,
          0.28075532951896587,
          0.2907361759959229,
          0.3730554039072991,
          0.2334507877657555,
          0.5801348642304623,
          2.111239230527941,
          1.0201210303693393,
          0.5414855183386861,
          0.08982759426093052,
          0.10162349484287812,
          0.1603351838767691,
          0.42857849613710414,
          0.2291520031293227,
          0.13937457631902575,
          0.27288718437591075,
          0.5075056309650825,
          0.2068919388922107,
          0.22975015010914052,
          0.4784809820247835,
          0.3077096064492176,
          0.35028378788583026,
          0.235253472779866,
          0.2650145339347366,
          1.4801239923872473,
          0.5015949272657165,
          0.20946149659312863,
          0.38890035290319996,
          0.1231277126867174,
          0.4336888690816161,
          0.14508408052782948,
          0.41789963474770647,
          0.6634563366158822,
          0.13540744326939996,
          0.2025556542589883,
          0.13302527760835084,
          0.6011210090421831,
          0.1058779193050593,
          0.15926160481879112,
          0.33349158255743283,
          0.09130568874315588,
          0.18962814051871474,
          0.1729370039021902,
          0.3317420778403095,
          0.5117458662231745,
          0.3514669848004903,
          0.13971798510432457,
          0.5017410453073385,
          0.1749727755112935,
          0.23141818603593053,
          0.268569441824489,
          0.13867656699783867,
          0.17309065550209204,
          0.24570560342759512,
          0.37109145753138073,
          0.24254780332635983,
          0.21158931626322794,
          0.36255097896204297,
          0.17608362680754092,
          0.3686401606682821,
          0.3870145009374671,
          0.22620632045169387,
          0.4273950272249795,
          0.4993471351078513,
          0.352376261107814,
          0.5015150322610111,
          0.16951364448857995,
          0.39433985782136294,
          0.18475663574112566,
          0.497173572529668,
          0.36014018195196285,
          0.43121084299462664,
          0.14489027519056405,
          0.10202759699525991,
          0.15613026883111664,
          0.33784408540477057,
          0.10476515861057946,
          0.13326837411539558,
          0.21129344323717816,
          0.37935732468385613,
          0.24997125700892306,
          0.1315270988789515,
          0.39231674310537423,
          0.49065435725936657,
          0.21578647406197654,
          0.17378602548173594,
          0.24923921798540025,
          0.23553798709569157,
          0.3811493012210986,
          0.26967776051957865,
          0.1508827129231029,
          0.2846137247334574,
          0.23000123393328226,
          0.6014922396554665,
          0.16606489927287507,
          0.22974591297104463,
          0.08521296200076206,
          0.10687599308047155,
          0.14773680682665424,
          0.08637200914848697,
          0.17965741558002937,
          0.3676643705829039,
          0.5664112524244079,
          0.22809940143117355,
          0.3457404539596192,
          0.19968385131247374,
          0.07650304410426872,
          0.38558464342980636,
          0.14169109289324067,
          0.16104221243957112,
          0.3280317009393866,
          0.19997838840559937,
          0.32670452364525254,
          0.3213333614778021,
          0.35042855392609346,
          0.22358072370118237,
          0.2532704512380778
         ],
         "y0": " ",
         "yaxis": "y"
        }
       ],
       "layout": {
        "boxmode": "group",
        "legend": {
         "tracegroupgap": 0
        },
        "margin": {
         "t": 60
        },
        "template": {
         "data": {
          "bar": [
           {
            "error_x": {
             "color": "#2a3f5f"
            },
            "error_y": {
             "color": "#2a3f5f"
            },
            "marker": {
             "line": {
              "color": "#E5ECF6",
              "width": 0.5
             },
             "pattern": {
              "fillmode": "overlay",
              "size": 10,
              "solidity": 0.2
             }
            },
            "type": "bar"
           }
          ],
          "barpolar": [
           {
            "marker": {
             "line": {
              "color": "#E5ECF6",
              "width": 0.5
             },
             "pattern": {
              "fillmode": "overlay",
              "size": 10,
              "solidity": 0.2
             }
            },
            "type": "barpolar"
           }
          ],
          "carpet": [
           {
            "aaxis": {
             "endlinecolor": "#2a3f5f",
             "gridcolor": "white",
             "linecolor": "white",
             "minorgridcolor": "white",
             "startlinecolor": "#2a3f5f"
            },
            "baxis": {
             "endlinecolor": "#2a3f5f",
             "gridcolor": "white",
             "linecolor": "white",
             "minorgridcolor": "white",
             "startlinecolor": "#2a3f5f"
            },
            "type": "carpet"
           }
          ],
          "choropleth": [
           {
            "colorbar": {
             "outlinewidth": 0,
             "ticks": ""
            },
            "type": "choropleth"
           }
          ],
          "contour": [
           {
            "colorbar": {
             "outlinewidth": 0,
             "ticks": ""
            },
            "colorscale": [
             [
              0,
              "#0d0887"
             ],
             [
              0.1111111111111111,
              "#46039f"
             ],
             [
              0.2222222222222222,
              "#7201a8"
             ],
             [
              0.3333333333333333,
              "#9c179e"
             ],
             [
              0.4444444444444444,
              "#bd3786"
             ],
             [
              0.5555555555555556,
              "#d8576b"
             ],
             [
              0.6666666666666666,
              "#ed7953"
             ],
             [
              0.7777777777777778,
              "#fb9f3a"
             ],
             [
              0.8888888888888888,
              "#fdca26"
             ],
             [
              1,
              "#f0f921"
             ]
            ],
            "type": "contour"
           }
          ],
          "contourcarpet": [
           {
            "colorbar": {
             "outlinewidth": 0,
             "ticks": ""
            },
            "type": "contourcarpet"
           }
          ],
          "heatmap": [
           {
            "colorbar": {
             "outlinewidth": 0,
             "ticks": ""
            },
            "colorscale": [
             [
              0,
              "#0d0887"
             ],
             [
              0.1111111111111111,
              "#46039f"
             ],
             [
              0.2222222222222222,
              "#7201a8"
             ],
             [
              0.3333333333333333,
              "#9c179e"
             ],
             [
              0.4444444444444444,
              "#bd3786"
             ],
             [
              0.5555555555555556,
              "#d8576b"
             ],
             [
              0.6666666666666666,
              "#ed7953"
             ],
             [
              0.7777777777777778,
              "#fb9f3a"
             ],
             [
              0.8888888888888888,
              "#fdca26"
             ],
             [
              1,
              "#f0f921"
             ]
            ],
            "type": "heatmap"
           }
          ],
          "heatmapgl": [
           {
            "colorbar": {
             "outlinewidth": 0,
             "ticks": ""
            },
            "colorscale": [
             [
              0,
              "#0d0887"
             ],
             [
              0.1111111111111111,
              "#46039f"
             ],
             [
              0.2222222222222222,
              "#7201a8"
             ],
             [
              0.3333333333333333,
              "#9c179e"
             ],
             [
              0.4444444444444444,
              "#bd3786"
             ],
             [
              0.5555555555555556,
              "#d8576b"
             ],
             [
              0.6666666666666666,
              "#ed7953"
             ],
             [
              0.7777777777777778,
              "#fb9f3a"
             ],
             [
              0.8888888888888888,
              "#fdca26"
             ],
             [
              1,
              "#f0f921"
             ]
            ],
            "type": "heatmapgl"
           }
          ],
          "histogram": [
           {
            "marker": {
             "pattern": {
              "fillmode": "overlay",
              "size": 10,
              "solidity": 0.2
             }
            },
            "type": "histogram"
           }
          ],
          "histogram2d": [
           {
            "colorbar": {
             "outlinewidth": 0,
             "ticks": ""
            },
            "colorscale": [
             [
              0,
              "#0d0887"
             ],
             [
              0.1111111111111111,
              "#46039f"
             ],
             [
              0.2222222222222222,
              "#7201a8"
             ],
             [
              0.3333333333333333,
              "#9c179e"
             ],
             [
              0.4444444444444444,
              "#bd3786"
             ],
             [
              0.5555555555555556,
              "#d8576b"
             ],
             [
              0.6666666666666666,
              "#ed7953"
             ],
             [
              0.7777777777777778,
              "#fb9f3a"
             ],
             [
              0.8888888888888888,
              "#fdca26"
             ],
             [
              1,
              "#f0f921"
             ]
            ],
            "type": "histogram2d"
           }
          ],
          "histogram2dcontour": [
           {
            "colorbar": {
             "outlinewidth": 0,
             "ticks": ""
            },
            "colorscale": [
             [
              0,
              "#0d0887"
             ],
             [
              0.1111111111111111,
              "#46039f"
             ],
             [
              0.2222222222222222,
              "#7201a8"
             ],
             [
              0.3333333333333333,
              "#9c179e"
             ],
             [
              0.4444444444444444,
              "#bd3786"
             ],
             [
              0.5555555555555556,
              "#d8576b"
             ],
             [
              0.6666666666666666,
              "#ed7953"
             ],
             [
              0.7777777777777778,
              "#fb9f3a"
             ],
             [
              0.8888888888888888,
              "#fdca26"
             ],
             [
              1,
              "#f0f921"
             ]
            ],
            "type": "histogram2dcontour"
           }
          ],
          "mesh3d": [
           {
            "colorbar": {
             "outlinewidth": 0,
             "ticks": ""
            },
            "type": "mesh3d"
           }
          ],
          "parcoords": [
           {
            "line": {
             "colorbar": {
              "outlinewidth": 0,
              "ticks": ""
             }
            },
            "type": "parcoords"
           }
          ],
          "pie": [
           {
            "automargin": true,
            "type": "pie"
           }
          ],
          "scatter": [
           {
            "fillpattern": {
             "fillmode": "overlay",
             "size": 10,
             "solidity": 0.2
            },
            "type": "scatter"
           }
          ],
          "scatter3d": [
           {
            "line": {
             "colorbar": {
              "outlinewidth": 0,
              "ticks": ""
             }
            },
            "marker": {
             "colorbar": {
              "outlinewidth": 0,
              "ticks": ""
             }
            },
            "type": "scatter3d"
           }
          ],
          "scattercarpet": [
           {
            "marker": {
             "colorbar": {
              "outlinewidth": 0,
              "ticks": ""
             }
            },
            "type": "scattercarpet"
           }
          ],
          "scattergeo": [
           {
            "marker": {
             "colorbar": {
              "outlinewidth": 0,
              "ticks": ""
             }
            },
            "type": "scattergeo"
           }
          ],
          "scattergl": [
           {
            "marker": {
             "colorbar": {
              "outlinewidth": 0,
              "ticks": ""
             }
            },
            "type": "scattergl"
           }
          ],
          "scattermapbox": [
           {
            "marker": {
             "colorbar": {
              "outlinewidth": 0,
              "ticks": ""
             }
            },
            "type": "scattermapbox"
           }
          ],
          "scatterpolar": [
           {
            "marker": {
             "colorbar": {
              "outlinewidth": 0,
              "ticks": ""
             }
            },
            "type": "scatterpolar"
           }
          ],
          "scatterpolargl": [
           {
            "marker": {
             "colorbar": {
              "outlinewidth": 0,
              "ticks": ""
             }
            },
            "type": "scatterpolargl"
           }
          ],
          "scatterternary": [
           {
            "marker": {
             "colorbar": {
              "outlinewidth": 0,
              "ticks": ""
             }
            },
            "type": "scatterternary"
           }
          ],
          "surface": [
           {
            "colorbar": {
             "outlinewidth": 0,
             "ticks": ""
            },
            "colorscale": [
             [
              0,
              "#0d0887"
             ],
             [
              0.1111111111111111,
              "#46039f"
             ],
             [
              0.2222222222222222,
              "#7201a8"
             ],
             [
              0.3333333333333333,
              "#9c179e"
             ],
             [
              0.4444444444444444,
              "#bd3786"
             ],
             [
              0.5555555555555556,
              "#d8576b"
             ],
             [
              0.6666666666666666,
              "#ed7953"
             ],
             [
              0.7777777777777778,
              "#fb9f3a"
             ],
             [
              0.8888888888888888,
              "#fdca26"
             ],
             [
              1,
              "#f0f921"
             ]
            ],
            "type": "surface"
           }
          ],
          "table": [
           {
            "cells": {
             "fill": {
              "color": "#EBF0F8"
             },
             "line": {
              "color": "white"
             }
            },
            "header": {
             "fill": {
              "color": "#C8D4E3"
             },
             "line": {
              "color": "white"
             }
            },
            "type": "table"
           }
          ]
         },
         "layout": {
          "annotationdefaults": {
           "arrowcolor": "#2a3f5f",
           "arrowhead": 0,
           "arrowwidth": 1
          },
          "autotypenumbers": "strict",
          "coloraxis": {
           "colorbar": {
            "outlinewidth": 0,
            "ticks": ""
           }
          },
          "colorscale": {
           "diverging": [
            [
             0,
             "#8e0152"
            ],
            [
             0.1,
             "#c51b7d"
            ],
            [
             0.2,
             "#de77ae"
            ],
            [
             0.3,
             "#f1b6da"
            ],
            [
             0.4,
             "#fde0ef"
            ],
            [
             0.5,
             "#f7f7f7"
            ],
            [
             0.6,
             "#e6f5d0"
            ],
            [
             0.7,
             "#b8e186"
            ],
            [
             0.8,
             "#7fbc41"
            ],
            [
             0.9,
             "#4d9221"
            ],
            [
             1,
             "#276419"
            ]
           ],
           "sequential": [
            [
             0,
             "#0d0887"
            ],
            [
             0.1111111111111111,
             "#46039f"
            ],
            [
             0.2222222222222222,
             "#7201a8"
            ],
            [
             0.3333333333333333,
             "#9c179e"
            ],
            [
             0.4444444444444444,
             "#bd3786"
            ],
            [
             0.5555555555555556,
             "#d8576b"
            ],
            [
             0.6666666666666666,
             "#ed7953"
            ],
            [
             0.7777777777777778,
             "#fb9f3a"
            ],
            [
             0.8888888888888888,
             "#fdca26"
            ],
            [
             1,
             "#f0f921"
            ]
           ],
           "sequentialminus": [
            [
             0,
             "#0d0887"
            ],
            [
             0.1111111111111111,
             "#46039f"
            ],
            [
             0.2222222222222222,
             "#7201a8"
            ],
            [
             0.3333333333333333,
             "#9c179e"
            ],
            [
             0.4444444444444444,
             "#bd3786"
            ],
            [
             0.5555555555555556,
             "#d8576b"
            ],
            [
             0.6666666666666666,
             "#ed7953"
            ],
            [
             0.7777777777777778,
             "#fb9f3a"
            ],
            [
             0.8888888888888888,
             "#fdca26"
            ],
            [
             1,
             "#f0f921"
            ]
           ]
          },
          "colorway": [
           "#636efa",
           "#EF553B",
           "#00cc96",
           "#ab63fa",
           "#FFA15A",
           "#19d3f3",
           "#FF6692",
           "#B6E880",
           "#FF97FF",
           "#FECB52"
          ],
          "font": {
           "color": "#2a3f5f"
          },
          "geo": {
           "bgcolor": "white",
           "lakecolor": "white",
           "landcolor": "#E5ECF6",
           "showlakes": true,
           "showland": true,
           "subunitcolor": "white"
          },
          "hoverlabel": {
           "align": "left"
          },
          "hovermode": "closest",
          "mapbox": {
           "style": "light"
          },
          "paper_bgcolor": "white",
          "plot_bgcolor": "#E5ECF6",
          "polar": {
           "angularaxis": {
            "gridcolor": "white",
            "linecolor": "white",
            "ticks": ""
           },
           "bgcolor": "#E5ECF6",
           "radialaxis": {
            "gridcolor": "white",
            "linecolor": "white",
            "ticks": ""
           }
          },
          "scene": {
           "xaxis": {
            "backgroundcolor": "#E5ECF6",
            "gridcolor": "white",
            "gridwidth": 2,
            "linecolor": "white",
            "showbackground": true,
            "ticks": "",
            "zerolinecolor": "white"
           },
           "yaxis": {
            "backgroundcolor": "#E5ECF6",
            "gridcolor": "white",
            "gridwidth": 2,
            "linecolor": "white",
            "showbackground": true,
            "ticks": "",
            "zerolinecolor": "white"
           },
           "zaxis": {
            "backgroundcolor": "#E5ECF6",
            "gridcolor": "white",
            "gridwidth": 2,
            "linecolor": "white",
            "showbackground": true,
            "ticks": "",
            "zerolinecolor": "white"
           }
          },
          "shapedefaults": {
           "line": {
            "color": "#2a3f5f"
           }
          },
          "ternary": {
           "aaxis": {
            "gridcolor": "white",
            "linecolor": "white",
            "ticks": ""
           },
           "baxis": {
            "gridcolor": "white",
            "linecolor": "white",
            "ticks": ""
           },
           "bgcolor": "#E5ECF6",
           "caxis": {
            "gridcolor": "white",
            "linecolor": "white",
            "ticks": ""
           }
          },
          "title": {
           "x": 0.05
          },
          "xaxis": {
           "automargin": true,
           "gridcolor": "white",
           "linecolor": "white",
           "ticks": "",
           "title": {
            "standoff": 15
           },
           "zerolinecolor": "white",
           "zerolinewidth": 2
          },
          "yaxis": {
           "automargin": true,
           "gridcolor": "white",
           "linecolor": "white",
           "ticks": "",
           "title": {
            "standoff": 15
           },
           "zerolinecolor": "white",
           "zerolinewidth": 2
          }
         }
        },
        "xaxis": {
         "anchor": "y",
         "domain": [
          0,
          1
         ],
         "title": {
          "text": "Acorn_Group"
         }
        },
        "yaxis": {
         "anchor": "x",
         "domain": [
          0,
          1
         ],
         "title": {
          "text": "KWH/hh"
         }
        }
       }
      },
      "text/html": [
       "<div>                            <div id=\"aa9ada7d-449f-40ad-afaf-2ad9093ae1b4\" class=\"plotly-graph-div\" style=\"height:525px; width:100%;\"></div>            <script type=\"text/javascript\">                require([\"plotly\"], function(Plotly) {                    window.PLOTLYENV=window.PLOTLYENV || {};                                    if (document.getElementById(\"aa9ada7d-449f-40ad-afaf-2ad9093ae1b4\")) {                    Plotly.newPlot(                        \"aa9ada7d-449f-40ad-afaf-2ad9093ae1b4\",                        [{\"alignmentgroup\":\"True\",\"boxpoints\":\"all\",\"hovertemplate\":\"Acorn_Group=%{x}<br>KWH/hh=%{y}<extra></extra>\",\"legendgroup\":\"\",\"marker\":{\"color\":\"#636efa\"},\"name\":\"\",\"notched\":false,\"offsetgroup\":\"\",\"orientation\":\"v\",\"showlegend\":false,\"x\":[\"A\",\"A\",\"A\",\"A\",\"A\",\"A\",\"A\",\"A\",\"A\",\"A\",\"A\",\"A\",\"A\",\"A\",\"A\",\"A\",\"A\",\"A\",\"A\",\"A\",\"A\",\"A\",\"A\",\"A\",\"A\",\"A\",\"A\",\"A\",\"A\",\"A\",\"A\",\"A\",\"A\",\"A\",\"A\",\"A\",\"A\",\"A\",\"A\",\"A\",\"A\",\"A\",\"A\",\"A\",\"A\",\"A\",\"A\",\"A\",\"A\",\"A\",\"A\",\"A\",\"A\",\"A\",\"A\",\"A\",\"A\",\"A\",\"A\",\"A\",\"A\",\"A\",\"A\",\"A\",\"A\",\"A\",\"A\",\"A\",\"A\",\"A\",\"A\",\"A\",\"A\",\"A\",\"A\",\"A\",\"A\",\"A\",\"A\",\"A\",\"A\",\"B\",\"B\",\"B\",\"B\",\"B\",\"B\",\"B\",\"B\",\"B\",\"C\",\"C\",\"C\",\"C\",\"C\",\"C\",\"C\",\"C\",\"C\",\"C\",\"C\",\"C\",\"C\",\"C\",\"C\",\"C\",\"C\",\"C\",\"C\",\"C\",\"C\",\"C\",\"C\",\"C\",\"C\",\"C\",\"C\",\"C\",\"C\",\"C\",\"C\",\"C\",\"C\",\"C\",\"C\",\"C\",\"C\",\"C\",\"C\",\"C\",\"C\",\"C\",\"C\",\"C\",\"C\",\"C\",\"C\",\"C\",\"C\",\"C\",\"C\",\"C\",\"C\",\"C\",\"C\",\"C\",\"C\",\"C\",\"C\",\"C\",\"C\",\"C\",\"C\",\"C\",\"C\",\"C\",\"C\",\"C\",\"C\",\"C\",\"C\",\"C\",\"C\",\"C\",\"C\",\"C\",\"C\",\"C\",\"C\",\"C\",\"C\",\"C\"],\"x0\":\" \",\"xaxis\":\"x\",\"y\":[0.23755278057071136,0.5557892983026946,0.5012557308897151,0.34188295562896814,0.2680307374376857,0.3509564265824075,0.3264582709682064,0.6922800939915048,0.11618833697127012,0.23560130970767826,0.14472739132981308,0.24148877557964563,0.13242089458554895,0.36968784625644613,0.6681347016203476,0.12190182893356642,0.2828148684542055,0.2236001019489796,0.1911523705736963,0.24511675835480054,0.9692578601590881,0.2993627009292081,0.5381476847995854,0.34771577572084716,0.16507060740563326,0.44867436120740245,0.3296757054272426,0.4002075219269889,0.15808619598041537,1.1040715558831677,0.1956828580784812,0.2792082952479421,0.32886618197651196,0.6025874186790631,0.2547008938833857,0.5464911286032569,0.21826368144979738,0.2746452675638315,0.3608659058096568,0.20815804533837662,0.22881945700123407,0.3647339085380455,0.6905727556693368,0.5953342848266733,0.22249600727791802,0.7715128377387541,0.22023906856403622,0.3391242128425443,0.28506532917032396,0.21064859324652485,0.21498304093212178,0.6215505503653685,0.2660374857528811,0.5645616634452184,0.221344427950941,0.22574267943889642,0.28075532951896587,0.2907361759959229,0.3730554039072991,0.2334507877657555,0.5801348642304623,2.111239230527941,1.0201210303693393,0.5414855183386861,0.08982759426093052,0.10162349484287812,0.1603351838767691,0.42857849613710414,0.2291520031293227,0.13937457631902575,0.27288718437591075,0.5075056309650825,0.2068919388922107,0.22975015010914052,0.4784809820247835,0.3077096064492176,0.35028378788583026,0.235253472779866,0.2650145339347366,1.4801239923872473,0.5015949272657165,0.20946149659312863,0.38890035290319996,0.1231277126867174,0.4336888690816161,0.14508408052782948,0.41789963474770647,0.6634563366158822,0.13540744326939996,0.2025556542589883,0.13302527760835084,0.6011210090421831,0.1058779193050593,0.15926160481879112,0.33349158255743283,0.09130568874315588,0.18962814051871474,0.1729370039021902,0.3317420778403095,0.5117458662231745,0.3514669848004903,0.13971798510432457,0.5017410453073385,0.1749727755112935,0.23141818603593053,0.268569441824489,0.13867656699783867,0.17309065550209204,0.24570560342759512,0.37109145753138073,0.24254780332635983,0.21158931626322794,0.36255097896204297,0.17608362680754092,0.3686401606682821,0.3870145009374671,0.22620632045169387,0.4273950272249795,0.4993471351078513,0.352376261107814,0.5015150322610111,0.16951364448857995,0.39433985782136294,0.18475663574112566,0.497173572529668,0.36014018195196285,0.43121084299462664,0.14489027519056405,0.10202759699525991,0.15613026883111664,0.33784408540477057,0.10476515861057946,0.13326837411539558,0.21129344323717816,0.37935732468385613,0.24997125700892306,0.1315270988789515,0.39231674310537423,0.49065435725936657,0.21578647406197654,0.17378602548173594,0.24923921798540025,0.23553798709569157,0.3811493012210986,0.26967776051957865,0.1508827129231029,0.2846137247334574,0.23000123393328226,0.6014922396554665,0.16606489927287507,0.22974591297104463,0.08521296200076206,0.10687599308047155,0.14773680682665424,0.08637200914848697,0.17965741558002937,0.3676643705829039,0.5664112524244079,0.22809940143117355,0.3457404539596192,0.19968385131247374,0.07650304410426872,0.38558464342980636,0.14169109289324067,0.16104221243957112,0.3280317009393866,0.19997838840559937,0.32670452364525254,0.3213333614778021,0.35042855392609346,0.22358072370118237,0.2532704512380778],\"y0\":\" \",\"yaxis\":\"y\",\"type\":\"box\"}],                        {\"template\":{\"data\":{\"histogram2dcontour\":[{\"type\":\"histogram2dcontour\",\"colorbar\":{\"outlinewidth\":0,\"ticks\":\"\"},\"colorscale\":[[0.0,\"#0d0887\"],[0.1111111111111111,\"#46039f\"],[0.2222222222222222,\"#7201a8\"],[0.3333333333333333,\"#9c179e\"],[0.4444444444444444,\"#bd3786\"],[0.5555555555555556,\"#d8576b\"],[0.6666666666666666,\"#ed7953\"],[0.7777777777777778,\"#fb9f3a\"],[0.8888888888888888,\"#fdca26\"],[1.0,\"#f0f921\"]]}],\"choropleth\":[{\"type\":\"choropleth\",\"colorbar\":{\"outlinewidth\":0,\"ticks\":\"\"}}],\"histogram2d\":[{\"type\":\"histogram2d\",\"colorbar\":{\"outlinewidth\":0,\"ticks\":\"\"},\"colorscale\":[[0.0,\"#0d0887\"],[0.1111111111111111,\"#46039f\"],[0.2222222222222222,\"#7201a8\"],[0.3333333333333333,\"#9c179e\"],[0.4444444444444444,\"#bd3786\"],[0.5555555555555556,\"#d8576b\"],[0.6666666666666666,\"#ed7953\"],[0.7777777777777778,\"#fb9f3a\"],[0.8888888888888888,\"#fdca26\"],[1.0,\"#f0f921\"]]}],\"heatmap\":[{\"type\":\"heatmap\",\"colorbar\":{\"outlinewidth\":0,\"ticks\":\"\"},\"colorscale\":[[0.0,\"#0d0887\"],[0.1111111111111111,\"#46039f\"],[0.2222222222222222,\"#7201a8\"],[0.3333333333333333,\"#9c179e\"],[0.4444444444444444,\"#bd3786\"],[0.5555555555555556,\"#d8576b\"],[0.6666666666666666,\"#ed7953\"],[0.7777777777777778,\"#fb9f3a\"],[0.8888888888888888,\"#fdca26\"],[1.0,\"#f0f921\"]]}],\"heatmapgl\":[{\"type\":\"heatmapgl\",\"colorbar\":{\"outlinewidth\":0,\"ticks\":\"\"},\"colorscale\":[[0.0,\"#0d0887\"],[0.1111111111111111,\"#46039f\"],[0.2222222222222222,\"#7201a8\"],[0.3333333333333333,\"#9c179e\"],[0.4444444444444444,\"#bd3786\"],[0.5555555555555556,\"#d8576b\"],[0.6666666666666666,\"#ed7953\"],[0.7777777777777778,\"#fb9f3a\"],[0.8888888888888888,\"#fdca26\"],[1.0,\"#f0f921\"]]}],\"contourcarpet\":[{\"type\":\"contourcarpet\",\"colorbar\":{\"outlinewidth\":0,\"ticks\":\"\"}}],\"contour\":[{\"type\":\"contour\",\"colorbar\":{\"outlinewidth\":0,\"ticks\":\"\"},\"colorscale\":[[0.0,\"#0d0887\"],[0.1111111111111111,\"#46039f\"],[0.2222222222222222,\"#7201a8\"],[0.3333333333333333,\"#9c179e\"],[0.4444444444444444,\"#bd3786\"],[0.5555555555555556,\"#d8576b\"],[0.6666666666666666,\"#ed7953\"],[0.7777777777777778,\"#fb9f3a\"],[0.8888888888888888,\"#fdca26\"],[1.0,\"#f0f921\"]]}],\"surface\":[{\"type\":\"surface\",\"colorbar\":{\"outlinewidth\":0,\"ticks\":\"\"},\"colorscale\":[[0.0,\"#0d0887\"],[0.1111111111111111,\"#46039f\"],[0.2222222222222222,\"#7201a8\"],[0.3333333333333333,\"#9c179e\"],[0.4444444444444444,\"#bd3786\"],[0.5555555555555556,\"#d8576b\"],[0.6666666666666666,\"#ed7953\"],[0.7777777777777778,\"#fb9f3a\"],[0.8888888888888888,\"#fdca26\"],[1.0,\"#f0f921\"]]}],\"mesh3d\":[{\"type\":\"mesh3d\",\"colorbar\":{\"outlinewidth\":0,\"ticks\":\"\"}}],\"scatter\":[{\"fillpattern\":{\"fillmode\":\"overlay\",\"size\":10,\"solidity\":0.2},\"type\":\"scatter\"}],\"parcoords\":[{\"type\":\"parcoords\",\"line\":{\"colorbar\":{\"outlinewidth\":0,\"ticks\":\"\"}}}],\"scatterpolargl\":[{\"type\":\"scatterpolargl\",\"marker\":{\"colorbar\":{\"outlinewidth\":0,\"ticks\":\"\"}}}],\"bar\":[{\"error_x\":{\"color\":\"#2a3f5f\"},\"error_y\":{\"color\":\"#2a3f5f\"},\"marker\":{\"line\":{\"color\":\"#E5ECF6\",\"width\":0.5},\"pattern\":{\"fillmode\":\"overlay\",\"size\":10,\"solidity\":0.2}},\"type\":\"bar\"}],\"scattergeo\":[{\"type\":\"scattergeo\",\"marker\":{\"colorbar\":{\"outlinewidth\":0,\"ticks\":\"\"}}}],\"scatterpolar\":[{\"type\":\"scatterpolar\",\"marker\":{\"colorbar\":{\"outlinewidth\":0,\"ticks\":\"\"}}}],\"histogram\":[{\"marker\":{\"pattern\":{\"fillmode\":\"overlay\",\"size\":10,\"solidity\":0.2}},\"type\":\"histogram\"}],\"scattergl\":[{\"type\":\"scattergl\",\"marker\":{\"colorbar\":{\"outlinewidth\":0,\"ticks\":\"\"}}}],\"scatter3d\":[{\"type\":\"scatter3d\",\"line\":{\"colorbar\":{\"outlinewidth\":0,\"ticks\":\"\"}},\"marker\":{\"colorbar\":{\"outlinewidth\":0,\"ticks\":\"\"}}}],\"scattermapbox\":[{\"type\":\"scattermapbox\",\"marker\":{\"colorbar\":{\"outlinewidth\":0,\"ticks\":\"\"}}}],\"scatterternary\":[{\"type\":\"scatterternary\",\"marker\":{\"colorbar\":{\"outlinewidth\":0,\"ticks\":\"\"}}}],\"scattercarpet\":[{\"type\":\"scattercarpet\",\"marker\":{\"colorbar\":{\"outlinewidth\":0,\"ticks\":\"\"}}}],\"carpet\":[{\"aaxis\":{\"endlinecolor\":\"#2a3f5f\",\"gridcolor\":\"white\",\"linecolor\":\"white\",\"minorgridcolor\":\"white\",\"startlinecolor\":\"#2a3f5f\"},\"baxis\":{\"endlinecolor\":\"#2a3f5f\",\"gridcolor\":\"white\",\"linecolor\":\"white\",\"minorgridcolor\":\"white\",\"startlinecolor\":\"#2a3f5f\"},\"type\":\"carpet\"}],\"table\":[{\"cells\":{\"fill\":{\"color\":\"#EBF0F8\"},\"line\":{\"color\":\"white\"}},\"header\":{\"fill\":{\"color\":\"#C8D4E3\"},\"line\":{\"color\":\"white\"}},\"type\":\"table\"}],\"barpolar\":[{\"marker\":{\"line\":{\"color\":\"#E5ECF6\",\"width\":0.5},\"pattern\":{\"fillmode\":\"overlay\",\"size\":10,\"solidity\":0.2}},\"type\":\"barpolar\"}],\"pie\":[{\"automargin\":true,\"type\":\"pie\"}]},\"layout\":{\"autotypenumbers\":\"strict\",\"colorway\":[\"#636efa\",\"#EF553B\",\"#00cc96\",\"#ab63fa\",\"#FFA15A\",\"#19d3f3\",\"#FF6692\",\"#B6E880\",\"#FF97FF\",\"#FECB52\"],\"font\":{\"color\":\"#2a3f5f\"},\"hovermode\":\"closest\",\"hoverlabel\":{\"align\":\"left\"},\"paper_bgcolor\":\"white\",\"plot_bgcolor\":\"#E5ECF6\",\"polar\":{\"bgcolor\":\"#E5ECF6\",\"angularaxis\":{\"gridcolor\":\"white\",\"linecolor\":\"white\",\"ticks\":\"\"},\"radialaxis\":{\"gridcolor\":\"white\",\"linecolor\":\"white\",\"ticks\":\"\"}},\"ternary\":{\"bgcolor\":\"#E5ECF6\",\"aaxis\":{\"gridcolor\":\"white\",\"linecolor\":\"white\",\"ticks\":\"\"},\"baxis\":{\"gridcolor\":\"white\",\"linecolor\":\"white\",\"ticks\":\"\"},\"caxis\":{\"gridcolor\":\"white\",\"linecolor\":\"white\",\"ticks\":\"\"}},\"coloraxis\":{\"colorbar\":{\"outlinewidth\":0,\"ticks\":\"\"}},\"colorscale\":{\"sequential\":[[0.0,\"#0d0887\"],[0.1111111111111111,\"#46039f\"],[0.2222222222222222,\"#7201a8\"],[0.3333333333333333,\"#9c179e\"],[0.4444444444444444,\"#bd3786\"],[0.5555555555555556,\"#d8576b\"],[0.6666666666666666,\"#ed7953\"],[0.7777777777777778,\"#fb9f3a\"],[0.8888888888888888,\"#fdca26\"],[1.0,\"#f0f921\"]],\"sequentialminus\":[[0.0,\"#0d0887\"],[0.1111111111111111,\"#46039f\"],[0.2222222222222222,\"#7201a8\"],[0.3333333333333333,\"#9c179e\"],[0.4444444444444444,\"#bd3786\"],[0.5555555555555556,\"#d8576b\"],[0.6666666666666666,\"#ed7953\"],[0.7777777777777778,\"#fb9f3a\"],[0.8888888888888888,\"#fdca26\"],[1.0,\"#f0f921\"]],\"diverging\":[[0,\"#8e0152\"],[0.1,\"#c51b7d\"],[0.2,\"#de77ae\"],[0.3,\"#f1b6da\"],[0.4,\"#fde0ef\"],[0.5,\"#f7f7f7\"],[0.6,\"#e6f5d0\"],[0.7,\"#b8e186\"],[0.8,\"#7fbc41\"],[0.9,\"#4d9221\"],[1,\"#276419\"]]},\"xaxis\":{\"gridcolor\":\"white\",\"linecolor\":\"white\",\"ticks\":\"\",\"title\":{\"standoff\":15},\"zerolinecolor\":\"white\",\"automargin\":true,\"zerolinewidth\":2},\"yaxis\":{\"gridcolor\":\"white\",\"linecolor\":\"white\",\"ticks\":\"\",\"title\":{\"standoff\":15},\"zerolinecolor\":\"white\",\"automargin\":true,\"zerolinewidth\":2},\"scene\":{\"xaxis\":{\"backgroundcolor\":\"#E5ECF6\",\"gridcolor\":\"white\",\"linecolor\":\"white\",\"showbackground\":true,\"ticks\":\"\",\"zerolinecolor\":\"white\",\"gridwidth\":2},\"yaxis\":{\"backgroundcolor\":\"#E5ECF6\",\"gridcolor\":\"white\",\"linecolor\":\"white\",\"showbackground\":true,\"ticks\":\"\",\"zerolinecolor\":\"white\",\"gridwidth\":2},\"zaxis\":{\"backgroundcolor\":\"#E5ECF6\",\"gridcolor\":\"white\",\"linecolor\":\"white\",\"showbackground\":true,\"ticks\":\"\",\"zerolinecolor\":\"white\",\"gridwidth\":2}},\"shapedefaults\":{\"line\":{\"color\":\"#2a3f5f\"}},\"annotationdefaults\":{\"arrowcolor\":\"#2a3f5f\",\"arrowhead\":0,\"arrowwidth\":1},\"geo\":{\"bgcolor\":\"white\",\"landcolor\":\"#E5ECF6\",\"subunitcolor\":\"white\",\"showland\":true,\"showlakes\":true,\"lakecolor\":\"white\"},\"title\":{\"x\":0.05},\"mapbox\":{\"style\":\"light\"}}},\"xaxis\":{\"anchor\":\"y\",\"domain\":[0.0,1.0],\"title\":{\"text\":\"Acorn_Group\"}},\"yaxis\":{\"anchor\":\"x\",\"domain\":[0.0,1.0],\"title\":{\"text\":\"KWH/hh\"}},\"legend\":{\"tracegroupgap\":0},\"margin\":{\"t\":60},\"boxmode\":\"group\"},                        {\"responsive\": true}                    ).then(function(){\n",
       "                            \n",
       "var gd = document.getElementById('aa9ada7d-449f-40ad-afaf-2ad9093ae1b4');\n",
       "var x = new MutationObserver(function (mutations, observer) {{\n",
       "        var display = window.getComputedStyle(gd).display;\n",
       "        if (!display || display === 'none') {{\n",
       "            console.log([gd, 'removed!']);\n",
       "            Plotly.purge(gd);\n",
       "            observer.disconnect();\n",
       "        }}\n",
       "}});\n",
       "\n",
       "// Listen for the removal of the full notebook cells\n",
       "var notebookContainer = gd.closest('#notebook-container');\n",
       "if (notebookContainer) {{\n",
       "    x.observe(notebookContainer, {childList: true});\n",
       "}}\n",
       "\n",
       "// Listen for the clearing of the current output cell\n",
       "var outputEl = gd.closest('.output');\n",
       "if (outputEl) {{\n",
       "    x.observe(outputEl, {childList: true});\n",
       "}}\n",
       "\n",
       "                        })                };                });            </script>        </div>"
      ]
     },
     "metadata": {},
     "output_type": "display_data"
    }
   ],
   "source": [
    "import plotly.express as px\n",
    "fig = px.box(cat1, x=\"Acorn_Group\", y=\"KWH/hh\", points='all')\n",
    "fig.show()"
   ]
  },
  {
   "cell_type": "markdown",
   "id": "e14047b5",
   "metadata": {},
   "source": [
    "Category 2 "
   ]
  },
  {
   "cell_type": "code",
   "execution_count": 27,
   "id": "19a6e636",
   "metadata": {},
   "outputs": [],
   "source": [
    "dfD = pd.read_csv('https://storage.googleapis.com/energy_usage_prediction_903/df_D_v1.csv')\n",
    "dfE = pd.read_csv('https://storage.googleapis.com/energy_usage_prediction_903/df_E_v1.csv')\n"
   ]
  },
  {
   "cell_type": "code",
   "execution_count": 28,
   "id": "6b234955",
   "metadata": {},
   "outputs": [],
   "source": [
    "dfDhouse =dfD.groupby(by=[\"LCLid\", \"Acorn_Group\"]).mean().reset_index()\n",
    "dfEhouse =dfE.groupby(by=[\"LCLid\", \"Acorn_Group\"]).mean().reset_index()"
   ]
  },
  {
   "cell_type": "code",
   "execution_count": 29,
   "id": "0723a832",
   "metadata": {},
   "outputs": [],
   "source": [
    "frames2 = [dfDhouse, dfEhouse]\n",
    "\n",
    "cat2 = pd.concat(frames2)"
   ]
  },
  {
   "cell_type": "code",
   "execution_count": 34,
   "id": "04e2d2ef",
   "metadata": {},
   "outputs": [
    {
     "data": {
      "application/vnd.plotly.v1+json": {
       "config": {
        "plotlyServerURL": "https://plot.ly"
       },
       "data": [
        {
         "alignmentgroup": "True",
         "boxpoints": "all",
         "hovertemplate": "Acorn_Group=%{x}<br>KWH/hh=%{y}<extra></extra>",
         "legendgroup": "",
         "marker": {
          "color": "#636efa"
         },
         "name": "",
         "notched": false,
         "offsetgroup": "",
         "orientation": "v",
         "showlegend": false,
         "type": "box",
         "x": [
          "D",
          "D",
          "D",
          "D",
          "D",
          "D",
          "D",
          "D",
          "D",
          "D",
          "D",
          "D",
          "D",
          "D",
          "D",
          "D",
          "D",
          "D",
          "D",
          "D",
          "D",
          "D",
          "D",
          "D",
          "D",
          "D",
          "D",
          "D",
          "D",
          "D",
          "D",
          "D",
          "D",
          "D",
          "D",
          "D",
          "D",
          "D",
          "D",
          "D",
          "D",
          "D",
          "D",
          "D",
          "D",
          "D",
          "D",
          "D",
          "D",
          "D",
          "D",
          "D",
          "D",
          "D",
          "D",
          "D",
          "D",
          "D",
          "D",
          "D",
          "D",
          "D",
          "D",
          "D",
          "D",
          "D",
          "D",
          "D",
          "D",
          "D",
          "D",
          "D",
          "D",
          "D",
          "D",
          "D",
          "D",
          "D",
          "D",
          "D",
          "D",
          "D",
          "D",
          "D",
          "D",
          "D",
          "D",
          "D",
          "D",
          "D",
          "D",
          "D",
          "D",
          "D",
          "D",
          "D",
          "D",
          "D",
          "D",
          "D",
          "D",
          "D",
          "D",
          "D",
          "D",
          "D",
          "D",
          "D",
          "D",
          "D",
          "D",
          "D",
          "D",
          "D",
          "D",
          "D",
          "D",
          "D",
          "D",
          "D",
          "D",
          "D",
          "D",
          "D",
          "D",
          "D",
          "D",
          "D",
          "D",
          "D",
          "D",
          "D",
          "E",
          "E",
          "E",
          "E",
          "E",
          "E",
          "E",
          "E",
          "E",
          "E",
          "E",
          "E",
          "E",
          "E",
          "E",
          "E",
          "E",
          "E",
          "E",
          "E",
          "E",
          "E",
          "E",
          "E",
          "E",
          "E",
          "E",
          "E",
          "E",
          "E",
          "E",
          "E",
          "E",
          "E",
          "E",
          "E",
          "E",
          "E",
          "E",
          "E",
          "E",
          "E",
          "E",
          "E",
          "E",
          "E",
          "E",
          "E",
          "E",
          "E",
          "E",
          "E",
          "E",
          "E",
          "E",
          "E",
          "E",
          "E",
          "E",
          "E",
          "E",
          "E",
          "E",
          "E",
          "E",
          "E",
          "E",
          "E",
          "E",
          "E",
          "E",
          "E",
          "E",
          "E",
          "E",
          "E",
          "E",
          "E",
          "E",
          "E",
          "E",
          "E",
          "E",
          "E",
          "E",
          "E",
          "E",
          "E",
          "E",
          "E",
          "E",
          "E",
          "E",
          "E",
          "E",
          "E",
          "E",
          "E",
          "E",
          "E",
          "E",
          "E",
          "E",
          "E",
          "E",
          "E",
          "E",
          "E",
          "E",
          "E",
          "E",
          "E",
          "E",
          "E",
          "E",
          "E",
          "E",
          "E",
          "E",
          "E",
          "E",
          "E",
          "E",
          "E",
          "E",
          "E",
          "E",
          "E",
          "E",
          "E",
          "E",
          "E",
          "E",
          "E",
          "E",
          "E",
          "E",
          "E",
          "E",
          "E",
          "E",
          "E",
          "E",
          "E",
          "E",
          "E",
          "E",
          "E",
          "E",
          "E",
          "E",
          "E",
          "E",
          "E",
          "E",
          "E",
          "E",
          "E",
          "E",
          "E",
          "E",
          "E",
          "E",
          "E",
          "E",
          "E",
          "E",
          "E",
          "E",
          "E",
          "E",
          "E",
          "E",
          "E",
          "E",
          "E",
          "E",
          "E",
          "E",
          "E",
          "E",
          "E",
          "E",
          "E",
          "E",
          "E",
          "E",
          "E",
          "E",
          "E",
          "E",
          "E",
          "E",
          "E",
          "E",
          "E",
          "E",
          "E",
          "E",
          "E",
          "E",
          "E",
          "E",
          "E",
          "E",
          "E",
          "E",
          "E",
          "E",
          "E",
          "E",
          "E",
          "E",
          "E",
          "E",
          "E",
          "E",
          "E",
          "E",
          "E",
          "E",
          "E",
          "E",
          "E",
          "E",
          "E",
          "E",
          "E",
          "E",
          "E",
          "E",
          "E",
          "E",
          "E",
          "E",
          "E",
          "E",
          "E",
          "E",
          "E",
          "E",
          "E",
          "E",
          "E",
          "E",
          "E",
          "E",
          "E",
          "E",
          "E",
          "E",
          "E",
          "E",
          "E",
          "E",
          "E",
          "E",
          "E",
          "E",
          "E",
          "E",
          "E",
          "E",
          "E",
          "E",
          "E",
          "E",
          "E",
          "E",
          "E",
          "E",
          "E",
          "E",
          "E",
          "E",
          "E",
          "E",
          "E",
          "E",
          "E",
          "E",
          "E",
          "E",
          "E",
          "E",
          "E",
          "E",
          "E",
          "E",
          "E",
          "E",
          "E",
          "E",
          "E",
          "E",
          "E",
          "E",
          "E",
          "E",
          "E",
          "E",
          "E",
          "E",
          "E",
          "E",
          "E",
          "E",
          "E",
          "E",
          "E",
          "E",
          "E",
          "E",
          "E",
          "E",
          "E",
          "E",
          "E",
          "E",
          "E",
          "E",
          "E",
          "E",
          "E",
          "E",
          "E",
          "E",
          "E",
          "E",
          "E",
          "E",
          "E",
          "E",
          "E",
          "E",
          "E",
          "E",
          "E",
          "E",
          "E",
          "E",
          "E",
          "E",
          "E",
          "E",
          "E",
          "E",
          "E",
          "E",
          "E",
          "E",
          "E",
          "E",
          "E",
          "E",
          "E",
          "E",
          "E",
          "E",
          "E",
          "E",
          "E",
          "E",
          "E",
          "E",
          "E",
          "E",
          "E",
          "E",
          "E",
          "E",
          "E",
          "E",
          "E",
          "E",
          "E",
          "E",
          "E",
          "E",
          "E",
          "E",
          "E",
          "E",
          "E",
          "E",
          "E",
          "E",
          "E",
          "E",
          "E",
          "E",
          "E",
          "E",
          "E",
          "E",
          "E",
          "E",
          "E",
          "E",
          "E",
          "E",
          "E",
          "E",
          "E",
          "E",
          "E",
          "E",
          "E",
          "E",
          "E",
          "E",
          "E",
          "E",
          "E",
          "E",
          "E",
          "E",
          "E",
          "E",
          "E",
          "E",
          "E",
          "E",
          "E",
          "E",
          "E",
          "E",
          "E",
          "E",
          "E",
          "E",
          "E",
          "E",
          "E",
          "E",
          "E",
          "E",
          "E",
          "E",
          "E",
          "E",
          "E",
          "E",
          "E",
          "E",
          "E",
          "E",
          "E",
          "E",
          "E",
          "E",
          "E",
          "E",
          "E",
          "E",
          "E",
          "E",
          "E",
          "E",
          "E",
          "E",
          "E",
          "E",
          "E",
          "E",
          "E",
          "E",
          "E",
          "E",
          "E",
          "E",
          "E",
          "E",
          "E",
          "E",
          "E",
          "E",
          "E",
          "E",
          "E",
          "E",
          "E",
          "E",
          "E",
          "E",
          "E",
          "E",
          "E",
          "E",
          "E",
          "E",
          "E",
          "E",
          "E",
          "E",
          "E",
          "E",
          "E",
          "E",
          "E",
          "E",
          "E",
          "E",
          "E",
          "E",
          "E",
          "E",
          "E",
          "E",
          "E",
          "E",
          "E",
          "E",
          "E",
          "E",
          "E",
          "E",
          "E",
          "E",
          "E",
          "E",
          "E",
          "E",
          "E",
          "E",
          "E",
          "E",
          "E",
          "E",
          "E",
          "E",
          "E",
          "E",
          "E",
          "E",
          "E",
          "E",
          "E",
          "E",
          "E",
          "E",
          "E",
          "E",
          "E",
          "E",
          "E",
          "E",
          "E",
          "E",
          "E",
          "E",
          "E",
          "E",
          "E",
          "E",
          "E",
          "E",
          "E",
          "E",
          "E",
          "E",
          "E",
          "E",
          "E",
          "E",
          "E",
          "E",
          "E",
          "E",
          "E",
          "E",
          "E",
          "E",
          "E",
          "E",
          "E",
          "E",
          "E",
          "E",
          "E",
          "E",
          "E",
          "E",
          "E",
          "E",
          "E",
          "E",
          "E",
          "E",
          "E",
          "E",
          "E",
          "E",
          "E",
          "E",
          "E",
          "E",
          "E",
          "E",
          "E",
          "E",
          "E",
          "E",
          "E",
          "E",
          "E",
          "E",
          "E",
          "E",
          "E",
          "E",
          "E",
          "E",
          "E",
          "E",
          "E",
          "E",
          "E",
          "E",
          "E",
          "E",
          "E",
          "E",
          "E",
          "E",
          "E",
          "E",
          "E",
          "E",
          "E",
          "E",
          "E",
          "E",
          "E",
          "E",
          "E",
          "E",
          "E",
          "E",
          "E",
          "E",
          "E",
          "E",
          "E",
          "E",
          "E",
          "E",
          "E",
          "E",
          "E",
          "E",
          "E",
          "E",
          "E",
          "E",
          "E",
          "E",
          "E",
          "E",
          "E",
          "E",
          "E",
          "E",
          "E",
          "E",
          "E",
          "E",
          "E",
          "E",
          "E",
          "E",
          "E",
          "E",
          "E",
          "E",
          "E",
          "E",
          "E",
          "E",
          "E",
          "E",
          "E",
          "E",
          "E",
          "E",
          "E",
          "E",
          "E",
          "E",
          "E",
          "E",
          "E",
          "E",
          "E",
          "E",
          "E",
          "E",
          "E",
          "E",
          "E",
          "E",
          "E"
         ],
         "x0": " ",
         "xaxis": "x",
         "y": [
          0.25966175682301407,
          0.4886209418418839,
          0.14367522768184735,
          0.26637767381589,
          0.08377643185710978,
          0.28106632389203084,
          0.5743634331113567,
          1.0642953347672703,
          0.13753999381257095,
          0.3909092848500287,
          0.2910705974158775,
          0.1967305693874965,
          0.13647020243420488,
          0.38515912145863757,
          0.16448853884121406,
          0.3375555172245769,
          0.16136633557446498,
          0.11645828547869365,
          0.5219060619294728,
          0.14978334508468596,
          0.251735591802166,
          0.13361045959192133,
          0.44800919623246016,
          0.05829631873958491,
          0.17731703174559887,
          0.28712315030233054,
          0.4321450597559854,
          0.342700846295842,
          0.4115043824728219,
          0.5148794648843615,
          0.47358406167748784,
          0.2384083141295764,
          0.3545182242553328,
          0.3349045700657471,
          0.13316542545654708,
          1.1636488968465517,
          0.3414507242898149,
          0.14481927832595332,
          0.21155758849882542,
          0.22635009039092308,
          0.6814030874045673,
          0.24832795210708639,
          0.12018371335331558,
          0.39011134312946244,
          0.38831213590555425,
          0.4092866695232307,
          0.33645678761064934,
          0.3562570974013012,
          0.35143489762285507,
          0.44980953851172906,
          0.25950347537325064,
          0.34176217734179853,
          1.0386440734550122,
          0.5385522472733008,
          0.051437722423383896,
          0.24297328956461645,
          0.18921520804718636,
          0.15171950710569157,
          0.4931672492065405,
          0.3057298574419552,
          0.3488664019557041,
          0.823838062769025,
          0.25636455559056753,
          0.3302941116210599,
          0.24125575836999066,
          0.3926838806352175,
          0.7894946836629377,
          0.21034410500138542,
          0.37900516948617424,
          0.4169974377970662,
          0.2705559576455832,
          0.4436580877461073,
          0.8093063863784773,
          0.4604412543873262,
          0.30634553932653064,
          0.549434432814277,
          0.1460883030561955,
          0.6448251130267192,
          0.4659880260214363,
          0.2743561268234263,
          0.10086475865931617,
          0.9430398485749473,
          0.3694993833069063,
          0.3408411347037059,
          0.1412162114449339,
          0.1652139374526687,
          0.31337027767964154,
          0.11018087768020013,
          0.23622136077116512,
          0.23025385125930065,
          0.4628124255334779,
          0.21535373954383266,
          0.17358003918701465,
          0.12324635598107919,
          0.14625884166997813,
          0.15437108930729196,
          0.1492780827229371,
          0.1433251975780308,
          0.5788317426463057,
          0.23057269090147545,
          0.09907331909486604,
          0.16078316678311264,
          0.21342871834425253,
          0.20309469460243448,
          0.10165111425201974,
          0.519391242977914,
          0.3125191737083843,
          0.35710812408106707,
          0.35808268295311907,
          0.18241615957377139,
          0.11539759496857066,
          0.07744131094188927,
          0.08378634573545207,
          0.45248972847386687,
          0.25370473200572907,
          0.10104526067859189,
          0.07883506150515691,
          0.2417447043165269,
          0.11327660572982824,
          0.269691027929574,
          0.3964341546497769,
          0.24443023902012975,
          0.16732977483640193,
          0.31564693150692535,
          0.13210883447165306,
          0.5471821697979291,
          0.31237578291997214,
          0.44077602499036117,
          0.30952856939091294,
          0.07500053677147782,
          0.12842959643799096,
          0.25604948948156747,
          0.2292253910498963,
          0.22377090694167054,
          0.4689232798340632,
          0.15771649207540406,
          0.5661070128272118,
          0.4314645879942561,
          0.1396163589974359,
          0.7715233479190707,
          0.22363286781240374,
          0.2773501835049164,
          0.14110238504788067,
          0.10824908755204854,
          0.38644497291334534,
          0.10211906231235862,
          0.08267124240250893,
          0.12717303784673128,
          0.3297754065903761,
          0.1580941728191641,
          0.654824226779302,
          0.21417673685531013,
          0.291604956754799,
          0.20339927992396586,
          0.19413394427715394,
          0.6410193135446831,
          0.21765556818262077,
          0.25022189048601656,
          0.2200681623266952,
          0.04179753827275708,
          0.141105253872334,
          0.12149273057448635,
          0.15645092094797747,
          0.23468036988149682,
          0.12652398016137223,
          0.08361084792136397,
          0.27132156415075226,
          0.3384458069470484,
          0.131755143980718,
          0.2533007684546907,
          0.3272433441393151,
          0.13644845190368546,
          0.10268772223915473,
          0.26604801726995425,
          0.14642010269713762,
          0.2466698387206758,
          0.24824629584831562,
          0.5328597158423177,
          0.0958517619374952,
          0.17944394446859102,
          0.397487379321445,
          0.09257943476915206,
          0.7343026991735959,
          0.1274634111626044,
          0.21328517073345157,
          0.22181561766221866,
          0.3882172107932417,
          0.07928389369379689,
          0.17776960576057346,
          0.19876014338637993,
          0.23315435491560516,
          0.15123954680508425,
          0.848773790081385,
          0.09455323250316346,
          0.39676768552063546,
          0.4469518586795658,
          0.2595021164713336,
          0.7980324587396677,
          0.059317302157009553,
          0.30964784410958907,
          0.37712874850346023,
          0.16964732683545763,
          0.132646684095075,
          0.07186631819100701,
          0.19919178953743855,
          0.197982479481323,
          0.12025735104229912,
          0.11972795371800435,
          0.12829111471336843,
          0.2075319623287473,
          0.22447717072584614,
          0.2769477112655259,
          0.07843194750900012,
          0.06057112576439502,
          0.29254701970792324,
          0.25253212744693826,
          0.07930618883048239,
          0.10813650090322956,
          0.09059627238602,
          0.08458065078949664,
          0.21733631844270634,
          0.18751374167637128,
          0.22899432987700272,
          0.10134304764178409,
          0.14314406804637209,
          0.6215924610014997,
          0.13837121435166128,
          0.35661382617031284,
          0.14143849072728878,
          0.6968725878803947,
          0.09040222675031663,
          0.10593637317085353,
          0.13259662676180928,
          0.4433028213874307,
          0.21153881494687468,
          0.3149951048214444,
          0.23996048246188328,
          0.1893983241177859,
          0.08094935401451242,
          0.09333308726821778,
          0.09887623981643227,
          0.2707685086502014,
          0.14235002369418454,
          0.07048351745994136,
          0.17753832032397537,
          0.23864092768200937,
          0.2529747348587169,
          0.1869077255850465,
          0.16671063397781866,
          0.13954651680951394,
          0.2100060551647373,
          0.2902750654584919,
          0.2365446311913529,
          0.18206523388705328,
          0.35777464910132456,
          0.6044152404800922,
          0.2637542720217319,
          0.05593129446099593,
          0.22736998213450024,
          0.1765230498100708,
          0.14785092542625292,
          0.20606408073321983,
          0.32428723821839955,
          0.16526508408398344,
          0.19382002694850917,
          0.23067564994787834,
          0.07449001869614547,
          0.09096138273418808,
          0.14921745238193612,
          0.32722282589864016,
          0.3584228088871834,
          0.1644588707545142,
          0.3338394348955774,
          0.13970451376126894,
          0.503927097106786,
          0.6166779728463897,
          0.1932675384141051,
          0.13088077949171478,
          0.2236901570315894,
          0.25549942232006245,
          0.15914979681775554,
          0.7823337294514979,
          0.23088787120662707,
          0.09132804466138852,
          0.3780058056353138,
          0.16520946372239748,
          0.09847495970804765,
          0.15956617915290663,
          0.7595848499526155,
          0.12914861526078966,
          1.0218395231556598,
          0.5937759996546043,
          0.10378393492628368,
          0.1147085388752745,
          0.08083939257926907,
          0.09669662132911797,
          0.06435381958878265,
          0.33380553793206535,
          0.17105077073137265,
          0.1959390567226219,
          0.13752595695493536,
          0.2170385255652341,
          0.23447736149535703,
          0.23946359034520304,
          0.3885662805341056,
          0.11446046915725457,
          0.30935663037616246,
          0.2109496680705033,
          0.21520065737118552,
          0.8485172391087195,
          0.20931623382097056,
          0.12383510569734468,
          0.170446055726347,
          0.25929104093457944,
          0.3414892033389197,
          0.42770195958873203,
          0.3431976407464707,
          0.06755197980380095,
          0.12225923284588697,
          0.1829268380207824,
          0.2967349302760057,
          0.11323776410247999,
          0.26859532480055154,
          0.25281895868087634,
          0.09876236649324031,
          0.41217940313542806,
          0.1412082508151815,
          0.08885174505319678,
          0.2715673671776285,
          0.06782510238769189,
          0.8323037499333954,
          0.1924711093249409,
          0.39969764221503057,
          0.25948782199745035,
          0.16442300725308642,
          0.06308622995320855,
          0.12066565227903556,
          0.12710486225294454,
          0.10039950417797433,
          0.07891327425009739,
          0.14944451520754337,
          0.39014436215989534,
          0.2810356292615828,
          0.30019212712245175,
          0.26154141645922097,
          0.3041378477098084,
          0.12108397229284369,
          0.38688322131136516,
          0.17894865154347975,
          0.1881915701762648,
          0.12260936555540604,
          0.14739609109449353,
          0.3016863291541954,
          0.07015624369909122,
          0.0761893437384372,
          0.13707029065373347,
          0.07892883364655956,
          0.2929551057827024,
          0.16531001149026478,
          0.23008203628124788,
          0.25676847141268827,
          0.2939650543715847,
          0.33109877502109136,
          0.11780577141650335,
          0.2623673131180831,
          0.1895899519127903,
          0.22939391783292648,
          0.22272911858742536,
          0.14403289005476005,
          0.08366633767824933,
          0.0669540778122232,
          0.27946834934669657,
          0.12504372155638913,
          0.08927682450695422,
          0.09164133954176817,
          0.06934387047031611,
          0.24716100174572822,
          0.06398993361432763,
          0.15009498688570105,
          0.1295441843311434,
          0.6496883495088955,
          0.23699749633727937,
          0.3144796869550419,
          0.19551096615097857,
          0.19536846681685416,
          0.261563156446536,
          0.2222090008259054,
          0.9281828213644581,
          0.07462213561964147,
          0.12200427819692096,
          0.23318828375836123,
          0.3904710187068577,
          0.25361189940329576,
          0.19799923679317283,
          0.15274787496096867,
          0.1472708666342345,
          0.0797949972245351,
          0.15586961345499964,
          0.15681771361057945,
          0.07389001427030038,
          0.14560371708896003,
          0.04731472524275224,
          0.17229386379868433,
          0.08647895855407428,
          0.07261649319803669,
          0.05794632544971127,
          0.20409736393773723,
          0.3820826282112887,
          0.25476057137407676,
          0.12081977715529248,
          0.16448528999930284,
          0.09053196683050967,
          0.06841653883698229,
          0.2557601533833014,
          0.16153074884953283,
          0.17526590660670086,
          0.8739481229107752,
          0.050447625357416835,
          0.2872724198361227,
          0.24754541648244358,
          0.3960089606324745,
          0.1456797308134872,
          0.28303737934725753,
          0.2949129525249355,
          0.3269718265456253,
          0.18867036061232156,
          0.13889677340001882,
          0.17237489011365062,
          0.3117791592069323,
          0.14950734739530777,
          0.16693251553088834,
          0.15065406956095911,
          0.01818882165397879,
          0.15347657634211193,
          0.08710563781321184,
          0.0746147186203407,
          0.22209861827227784,
          0.3006448894493378,
          0.1331663384126326,
          0.10129380053908354,
          0.2712753937880044,
          0.5159335913240274,
          0.11064901190229409,
          0.08807215175023325,
          0.0557570660450848,
          0.22363465913610936,
          0.1704366886398611,
          0.11219757654017858,
          0.13107625093280606,
          0.2886105851012275,
          0.10770754461521868,
          0.18697681833168586,
          0.09279764412628487,
          0.119029658714044,
          0.14643134940609234,
          0.2314411595172722,
          0.23749678895946658,
          0.23602906994698591,
          0.5010926925101783,
          0.11514407550540502,
          0.3864477711934012,
          0.2513784097314376,
          0.08406302353398606,
          0.26985752223984144,
          0.4847548225608051,
          0.16774920105065516,
          0.13138106718498876,
          0.04164236774178513,
          0.1550985229954553,
          0.07862306472835141,
          0.7264285420464281,
          0.1320885418730172,
          0.8061557611154687,
          0.14926816780987262,
          0.18681571137171288,
          0.4080743883874189,
          0.9471873688835806,
          0.36493365114590803,
          0.148819375255382,
          0.24718352180060782,
          0.5010765881398199,
          0.18017540592598874,
          0.20497464146704675,
          0.38109430181284315,
          0.06724280729060265,
          0.14244129845467746,
          0.14719945374083804,
          0.2025215585819088,
          0.11582543744380663,
          0.26726297570721236,
          0.3767868693652827,
          0.08947074311796294,
          0.14457983863974788,
          0.10340508431752848,
          0.19109067607024105,
          0.36092208691157596,
          0.09805108578949191,
          0.20275178358731039,
          0.13386190773760046,
          0.5821541261199722,
          0.12457566416473279,
          0.161168277390973,
          0.42607457103698054,
          0.24529948394001316,
          0.2609191173888947,
          0.07200169779979904,
          0.10058660940043643,
          0.10237184327779124,
          0.0778154832005542,
          0.15714026888034366,
          0.10358822599077375,
          0.16329719429889178,
          0.3095688435576338,
          0.20313564387387076,
          0.5551725551106698,
          0.3249843825257352,
          0.2077699265548321,
          0.14995998327275065,
          0.1384788822817409,
          0.24812380558218847,
          0.16655818293279287,
          0.3269393841800457,
          0.166003572184855,
          0.33786319623564237,
          0.40751642374931635,
          0.12465484130820043,
          0.3343703487946558,
          0.07869714968204267,
          0.08210204016075924,
          0.1540398680667378,
          0.21236622070938216,
          0.314453534111891,
          0.13500200931566686,
          0.20940608155418985,
          0.20770124910462104,
          0.15587854958205913,
          0.13931429651623814,
          0.320840228569346,
          0.08793065927362893,
          0.262953347323303,
          0.3763814399819126,
          0.20464865732862933,
          0.21021876548969295,
          0.3821202111289288,
          0.15947095362787986,
          0.10574859862489781,
          0.104199614514763,
          0.21484603037638333,
          0.1841246787353972,
          0.25432317726753884,
          0.11110285129112443,
          0.07608077103919728,
          0.08914759433547365,
          0.12495505320608673,
          0.16974033897261478,
          0.5865730350039637,
          0.05658671044806756,
          0.09123022996597442,
          0.31159201684312404,
          0.05846798203118119,
          0.1631570849756298,
          0.8334505489839666,
          0.6112448901474216,
          0.1095048951959545,
          0.655748692212669,
          0.2181015191087261,
          0.27464394433323824,
          0.1430985633053697,
          0.1350441061893896,
          0.09932080365438217,
          0.06358785080406702,
          0.12048128744456259,
          0.5104529128008101,
          0.29856853872334893,
          0.30589838837015854,
          0.13656625032526673,
          0.20599594025919948,
          0.07556320433073939,
          0.1657603653470758,
          0.1585259733577972,
          0.12040383163443268,
          0.08843614307023481,
          0.15815976439312987,
          0.17638578283091688,
          0.08318471320720298,
          0.09541494683917032,
          0.1032499756312762,
          0.2186983419208509,
          0.25051566941784303,
          0.18665916915770797,
          0.12287794505179116,
          0.36007601969258074,
          0.5754063406992825,
          0.06854702259537603,
          0.32824258818274427,
          0.2684990725800131,
          0.2836832193250091,
          0.2338804522439858,
          0.2416169015671014,
          0.4409856512495691,
          0.0672324981577008,
          0.4425682310601299,
          0.07794299877542096,
          0.14516471614323143,
          0.16832989801215764,
          0.2703370244908653,
          0.13521845859203127,
          0.1420897946248952,
          0.2951422583388635,
          0.09249399231225987,
          0.05666345314541199,
          0.2287986585894928,
          0.175550870026553,
          0.11439271723450399,
          0.1050083595662819,
          0.07522337673523649,
          0.0323287484250315,
          0.11955289671494543,
          0.06836964736915757,
          0.18573907574782214,
          0.16631678519076482,
          0.09143194001261343,
          0.41542983317678395,
          0.2791740608389403,
          0.16898931134045908,
          0.2721307045355766,
          0.34213285029820484,
          0.39712210526599245,
          0.11198441426648319,
          0.28726101531512666,
          0.17820828097887872,
          0.31415005837900983,
          0.09970094942046782,
          0.19373125431532906,
          0.108745673727619,
          0.10807141026923077,
          0.3480033047106892,
          0.4698683230216908,
          0.08525470225046572,
          0.1735720644098589,
          0.11362293155292276,
          0.09945801747999579,
          0.4179128649169453,
          0.21041090372232607,
          0.14123696058292304,
          0.1795517295477281,
          0.6101450953706385,
          0.7085344192283365,
          0.14663408269509526,
          0.1612056478370288,
          0.48998253976808365,
          0.7916188023502855,
          0.2327729593246477,
          0.46580037979535144,
          0.19060100416622155,
          0.5277338178416805,
          0.3726137173744139,
          0.10377524872877099,
          0.3300655544235781,
          0.15667060820718634,
          0.671244154109737,
          0.3281924644267387,
          0.13739795035152239,
          0.1383435523168424,
          0.12079822568430164,
          0.20848185108189982,
          0.16945707027502097,
          0.503853139474183,
          0.08274760409605283,
          0.2192185731690808,
          0.25469904963311946,
          0.10979871114480666,
          0.19446551818083319,
          0.17119565570120795,
          0.11536670190561385,
          0.26037769722121606,
          0.15667798081656997,
          0.3407079845635395,
          0.5991282151024958,
          0.10193886759629237,
          0.24320022835435468,
          0.2057610775920187,
          0.0691520544244898,
          0.11783480768665452,
          0.16804491139660852,
          0.11927852024082969,
          0.17450952290400806,
          0.1189341617614999,
          0.13290513693963754,
          0.23749486193474528,
          0.11324594504942385,
          0.12759307217122876,
          1.1140236366515468,
          0.4116614502921636,
          0.1456066948900123,
          0.22122635216321845,
          0.5202066650891732,
          0.15266756944330462,
          0.12070922025991791,
          0.10061327386808197,
          0.31726774080264813,
          0.7548385995185337,
          0.08733230239216115,
          0.2051764222008887,
          0.20100054859149136,
          0.08951755443524055,
          0.3692621289722962,
          0.09699876416291334,
          0.42307600396088557,
          0.23752650954068455,
          0.15823479645937483,
          0.15548761125425778,
          0.3484474233490825,
          0.11014151459897568,
          0.14312151767404802,
          0.06443802425400842,
          0.7052823593482744,
          0.43769768135262244,
          0.745778668874324,
          0.6322316071971551,
          0.5421721724504133,
          0.09719020388838061,
          0.16395465840143836,
          0.3083506145658996,
          0.3948646564477489,
          0.27786082504819076,
          0.08988781495249897,
          0.20362679006939854,
          0.12590236914600553,
          0.12630429393780815,
          0.15370394266887233,
          0.13946450332497035,
          0.8663364589250752,
          0.24487928086637623,
          0.32263314560926226,
          0.1040007444894808,
          0.15899801233698307,
          0.1152661059073359,
          0.15654833547452907,
          0.09186606808361392,
          0.08242478877353801,
          0.4832340402612106,
          0.07258067544804352,
          0.3413134204656184,
          0.21687349130494962,
          0.21016764494434909,
          0.06162678220979485,
          0.13314784461640689,
          0.14876983376534203,
          0.42031205982256725,
          0.1952015527492028,
          0.15652210965163083,
          0.08226265320881625,
          0.09114426282799645,
          0.3998583144604436,
          0.19317096228765257,
          0.26049020314500415,
          0.3180416945613449,
          0.11085736948086292,
          0.09311807604798752,
          0.1517219562767912,
          0.07453298587474567,
          0.6545763028475619,
          0.10005223148422436,
          0.17193529905533816,
          0.3064333900902663,
          0.06966418869822816,
          0.2404454568629643,
          0.1607628427476217,
          0.3322683384903865,
          0.09045329116758088,
          0.6193640718168572,
          0.059365815368226285,
          0.17325715247569143,
          0.7255879105509473,
          0.3818439959422727,
          0.08159218049327353,
          0.2450229530332791,
          0.37478507892595603,
          0.08639749705931869,
          0.43273094294073755,
          0.16092321957297373,
          0.13664670536217985,
          0.6877544785144019,
          0.272577574045134,
          0.18285100590646872,
          0.055048922237896404,
          0.2587877520874527,
          0.1428719708523979,
          0.674325393552033,
          0.9422415522369579,
          0.7489606832296204,
          0.12614847310163302,
          0.10956042432531825,
          0.16266718523180493,
          0.09826546719850632,
          0.22342925845757775,
          0.188112502842326,
          0.1750143338857256,
          0.20507113316430595,
          0.4013431181400493,
          0.11214571396153628,
          0.19058709211347516,
          0.05999147969326896,
          0.15388002892736252,
          0.20047071054535098,
          0.1253169480762111,
          0.17818291084306465,
          0.35339965817146113,
          0.40385814820512816,
          0.0438402506765418,
          0.4082459006387772,
          0.14544497676162774,
          0.4374181927320441,
          0.5229055467731356,
          0.12962752711307826,
          0.17889591845329944,
          0.14916587189971733,
          0.06327403832138676,
          0.09048791911235506,
          0.22009077754580447,
          0.25525086319423895,
          0.19441286098410854,
          0.6804071359277234,
          0.13451465292142378,
          0.2612126287417097,
          0.17487213818431913,
          0.11347427785419532,
          0.3447673798583865,
          0.3710145419758756,
          0.68971776673197,
          0.12548457268912988,
          0.12364782436703037,
          0.3631660641879544
         ],
         "y0": " ",
         "yaxis": "y"
        }
       ],
       "layout": {
        "boxmode": "group",
        "legend": {
         "tracegroupgap": 0
        },
        "margin": {
         "t": 60
        },
        "template": {
         "data": {
          "bar": [
           {
            "error_x": {
             "color": "#2a3f5f"
            },
            "error_y": {
             "color": "#2a3f5f"
            },
            "marker": {
             "line": {
              "color": "#E5ECF6",
              "width": 0.5
             },
             "pattern": {
              "fillmode": "overlay",
              "size": 10,
              "solidity": 0.2
             }
            },
            "type": "bar"
           }
          ],
          "barpolar": [
           {
            "marker": {
             "line": {
              "color": "#E5ECF6",
              "width": 0.5
             },
             "pattern": {
              "fillmode": "overlay",
              "size": 10,
              "solidity": 0.2
             }
            },
            "type": "barpolar"
           }
          ],
          "carpet": [
           {
            "aaxis": {
             "endlinecolor": "#2a3f5f",
             "gridcolor": "white",
             "linecolor": "white",
             "minorgridcolor": "white",
             "startlinecolor": "#2a3f5f"
            },
            "baxis": {
             "endlinecolor": "#2a3f5f",
             "gridcolor": "white",
             "linecolor": "white",
             "minorgridcolor": "white",
             "startlinecolor": "#2a3f5f"
            },
            "type": "carpet"
           }
          ],
          "choropleth": [
           {
            "colorbar": {
             "outlinewidth": 0,
             "ticks": ""
            },
            "type": "choropleth"
           }
          ],
          "contour": [
           {
            "colorbar": {
             "outlinewidth": 0,
             "ticks": ""
            },
            "colorscale": [
             [
              0,
              "#0d0887"
             ],
             [
              0.1111111111111111,
              "#46039f"
             ],
             [
              0.2222222222222222,
              "#7201a8"
             ],
             [
              0.3333333333333333,
              "#9c179e"
             ],
             [
              0.4444444444444444,
              "#bd3786"
             ],
             [
              0.5555555555555556,
              "#d8576b"
             ],
             [
              0.6666666666666666,
              "#ed7953"
             ],
             [
              0.7777777777777778,
              "#fb9f3a"
             ],
             [
              0.8888888888888888,
              "#fdca26"
             ],
             [
              1,
              "#f0f921"
             ]
            ],
            "type": "contour"
           }
          ],
          "contourcarpet": [
           {
            "colorbar": {
             "outlinewidth": 0,
             "ticks": ""
            },
            "type": "contourcarpet"
           }
          ],
          "heatmap": [
           {
            "colorbar": {
             "outlinewidth": 0,
             "ticks": ""
            },
            "colorscale": [
             [
              0,
              "#0d0887"
             ],
             [
              0.1111111111111111,
              "#46039f"
             ],
             [
              0.2222222222222222,
              "#7201a8"
             ],
             [
              0.3333333333333333,
              "#9c179e"
             ],
             [
              0.4444444444444444,
              "#bd3786"
             ],
             [
              0.5555555555555556,
              "#d8576b"
             ],
             [
              0.6666666666666666,
              "#ed7953"
             ],
             [
              0.7777777777777778,
              "#fb9f3a"
             ],
             [
              0.8888888888888888,
              "#fdca26"
             ],
             [
              1,
              "#f0f921"
             ]
            ],
            "type": "heatmap"
           }
          ],
          "heatmapgl": [
           {
            "colorbar": {
             "outlinewidth": 0,
             "ticks": ""
            },
            "colorscale": [
             [
              0,
              "#0d0887"
             ],
             [
              0.1111111111111111,
              "#46039f"
             ],
             [
              0.2222222222222222,
              "#7201a8"
             ],
             [
              0.3333333333333333,
              "#9c179e"
             ],
             [
              0.4444444444444444,
              "#bd3786"
             ],
             [
              0.5555555555555556,
              "#d8576b"
             ],
             [
              0.6666666666666666,
              "#ed7953"
             ],
             [
              0.7777777777777778,
              "#fb9f3a"
             ],
             [
              0.8888888888888888,
              "#fdca26"
             ],
             [
              1,
              "#f0f921"
             ]
            ],
            "type": "heatmapgl"
           }
          ],
          "histogram": [
           {
            "marker": {
             "pattern": {
              "fillmode": "overlay",
              "size": 10,
              "solidity": 0.2
             }
            },
            "type": "histogram"
           }
          ],
          "histogram2d": [
           {
            "colorbar": {
             "outlinewidth": 0,
             "ticks": ""
            },
            "colorscale": [
             [
              0,
              "#0d0887"
             ],
             [
              0.1111111111111111,
              "#46039f"
             ],
             [
              0.2222222222222222,
              "#7201a8"
             ],
             [
              0.3333333333333333,
              "#9c179e"
             ],
             [
              0.4444444444444444,
              "#bd3786"
             ],
             [
              0.5555555555555556,
              "#d8576b"
             ],
             [
              0.6666666666666666,
              "#ed7953"
             ],
             [
              0.7777777777777778,
              "#fb9f3a"
             ],
             [
              0.8888888888888888,
              "#fdca26"
             ],
             [
              1,
              "#f0f921"
             ]
            ],
            "type": "histogram2d"
           }
          ],
          "histogram2dcontour": [
           {
            "colorbar": {
             "outlinewidth": 0,
             "ticks": ""
            },
            "colorscale": [
             [
              0,
              "#0d0887"
             ],
             [
              0.1111111111111111,
              "#46039f"
             ],
             [
              0.2222222222222222,
              "#7201a8"
             ],
             [
              0.3333333333333333,
              "#9c179e"
             ],
             [
              0.4444444444444444,
              "#bd3786"
             ],
             [
              0.5555555555555556,
              "#d8576b"
             ],
             [
              0.6666666666666666,
              "#ed7953"
             ],
             [
              0.7777777777777778,
              "#fb9f3a"
             ],
             [
              0.8888888888888888,
              "#fdca26"
             ],
             [
              1,
              "#f0f921"
             ]
            ],
            "type": "histogram2dcontour"
           }
          ],
          "mesh3d": [
           {
            "colorbar": {
             "outlinewidth": 0,
             "ticks": ""
            },
            "type": "mesh3d"
           }
          ],
          "parcoords": [
           {
            "line": {
             "colorbar": {
              "outlinewidth": 0,
              "ticks": ""
             }
            },
            "type": "parcoords"
           }
          ],
          "pie": [
           {
            "automargin": true,
            "type": "pie"
           }
          ],
          "scatter": [
           {
            "fillpattern": {
             "fillmode": "overlay",
             "size": 10,
             "solidity": 0.2
            },
            "type": "scatter"
           }
          ],
          "scatter3d": [
           {
            "line": {
             "colorbar": {
              "outlinewidth": 0,
              "ticks": ""
             }
            },
            "marker": {
             "colorbar": {
              "outlinewidth": 0,
              "ticks": ""
             }
            },
            "type": "scatter3d"
           }
          ],
          "scattercarpet": [
           {
            "marker": {
             "colorbar": {
              "outlinewidth": 0,
              "ticks": ""
             }
            },
            "type": "scattercarpet"
           }
          ],
          "scattergeo": [
           {
            "marker": {
             "colorbar": {
              "outlinewidth": 0,
              "ticks": ""
             }
            },
            "type": "scattergeo"
           }
          ],
          "scattergl": [
           {
            "marker": {
             "colorbar": {
              "outlinewidth": 0,
              "ticks": ""
             }
            },
            "type": "scattergl"
           }
          ],
          "scattermapbox": [
           {
            "marker": {
             "colorbar": {
              "outlinewidth": 0,
              "ticks": ""
             }
            },
            "type": "scattermapbox"
           }
          ],
          "scatterpolar": [
           {
            "marker": {
             "colorbar": {
              "outlinewidth": 0,
              "ticks": ""
             }
            },
            "type": "scatterpolar"
           }
          ],
          "scatterpolargl": [
           {
            "marker": {
             "colorbar": {
              "outlinewidth": 0,
              "ticks": ""
             }
            },
            "type": "scatterpolargl"
           }
          ],
          "scatterternary": [
           {
            "marker": {
             "colorbar": {
              "outlinewidth": 0,
              "ticks": ""
             }
            },
            "type": "scatterternary"
           }
          ],
          "surface": [
           {
            "colorbar": {
             "outlinewidth": 0,
             "ticks": ""
            },
            "colorscale": [
             [
              0,
              "#0d0887"
             ],
             [
              0.1111111111111111,
              "#46039f"
             ],
             [
              0.2222222222222222,
              "#7201a8"
             ],
             [
              0.3333333333333333,
              "#9c179e"
             ],
             [
              0.4444444444444444,
              "#bd3786"
             ],
             [
              0.5555555555555556,
              "#d8576b"
             ],
             [
              0.6666666666666666,
              "#ed7953"
             ],
             [
              0.7777777777777778,
              "#fb9f3a"
             ],
             [
              0.8888888888888888,
              "#fdca26"
             ],
             [
              1,
              "#f0f921"
             ]
            ],
            "type": "surface"
           }
          ],
          "table": [
           {
            "cells": {
             "fill": {
              "color": "#EBF0F8"
             },
             "line": {
              "color": "white"
             }
            },
            "header": {
             "fill": {
              "color": "#C8D4E3"
             },
             "line": {
              "color": "white"
             }
            },
            "type": "table"
           }
          ]
         },
         "layout": {
          "annotationdefaults": {
           "arrowcolor": "#2a3f5f",
           "arrowhead": 0,
           "arrowwidth": 1
          },
          "autotypenumbers": "strict",
          "coloraxis": {
           "colorbar": {
            "outlinewidth": 0,
            "ticks": ""
           }
          },
          "colorscale": {
           "diverging": [
            [
             0,
             "#8e0152"
            ],
            [
             0.1,
             "#c51b7d"
            ],
            [
             0.2,
             "#de77ae"
            ],
            [
             0.3,
             "#f1b6da"
            ],
            [
             0.4,
             "#fde0ef"
            ],
            [
             0.5,
             "#f7f7f7"
            ],
            [
             0.6,
             "#e6f5d0"
            ],
            [
             0.7,
             "#b8e186"
            ],
            [
             0.8,
             "#7fbc41"
            ],
            [
             0.9,
             "#4d9221"
            ],
            [
             1,
             "#276419"
            ]
           ],
           "sequential": [
            [
             0,
             "#0d0887"
            ],
            [
             0.1111111111111111,
             "#46039f"
            ],
            [
             0.2222222222222222,
             "#7201a8"
            ],
            [
             0.3333333333333333,
             "#9c179e"
            ],
            [
             0.4444444444444444,
             "#bd3786"
            ],
            [
             0.5555555555555556,
             "#d8576b"
            ],
            [
             0.6666666666666666,
             "#ed7953"
            ],
            [
             0.7777777777777778,
             "#fb9f3a"
            ],
            [
             0.8888888888888888,
             "#fdca26"
            ],
            [
             1,
             "#f0f921"
            ]
           ],
           "sequentialminus": [
            [
             0,
             "#0d0887"
            ],
            [
             0.1111111111111111,
             "#46039f"
            ],
            [
             0.2222222222222222,
             "#7201a8"
            ],
            [
             0.3333333333333333,
             "#9c179e"
            ],
            [
             0.4444444444444444,
             "#bd3786"
            ],
            [
             0.5555555555555556,
             "#d8576b"
            ],
            [
             0.6666666666666666,
             "#ed7953"
            ],
            [
             0.7777777777777778,
             "#fb9f3a"
            ],
            [
             0.8888888888888888,
             "#fdca26"
            ],
            [
             1,
             "#f0f921"
            ]
           ]
          },
          "colorway": [
           "#636efa",
           "#EF553B",
           "#00cc96",
           "#ab63fa",
           "#FFA15A",
           "#19d3f3",
           "#FF6692",
           "#B6E880",
           "#FF97FF",
           "#FECB52"
          ],
          "font": {
           "color": "#2a3f5f"
          },
          "geo": {
           "bgcolor": "white",
           "lakecolor": "white",
           "landcolor": "#E5ECF6",
           "showlakes": true,
           "showland": true,
           "subunitcolor": "white"
          },
          "hoverlabel": {
           "align": "left"
          },
          "hovermode": "closest",
          "mapbox": {
           "style": "light"
          },
          "paper_bgcolor": "white",
          "plot_bgcolor": "#E5ECF6",
          "polar": {
           "angularaxis": {
            "gridcolor": "white",
            "linecolor": "white",
            "ticks": ""
           },
           "bgcolor": "#E5ECF6",
           "radialaxis": {
            "gridcolor": "white",
            "linecolor": "white",
            "ticks": ""
           }
          },
          "scene": {
           "xaxis": {
            "backgroundcolor": "#E5ECF6",
            "gridcolor": "white",
            "gridwidth": 2,
            "linecolor": "white",
            "showbackground": true,
            "ticks": "",
            "zerolinecolor": "white"
           },
           "yaxis": {
            "backgroundcolor": "#E5ECF6",
            "gridcolor": "white",
            "gridwidth": 2,
            "linecolor": "white",
            "showbackground": true,
            "ticks": "",
            "zerolinecolor": "white"
           },
           "zaxis": {
            "backgroundcolor": "#E5ECF6",
            "gridcolor": "white",
            "gridwidth": 2,
            "linecolor": "white",
            "showbackground": true,
            "ticks": "",
            "zerolinecolor": "white"
           }
          },
          "shapedefaults": {
           "line": {
            "color": "#2a3f5f"
           }
          },
          "ternary": {
           "aaxis": {
            "gridcolor": "white",
            "linecolor": "white",
            "ticks": ""
           },
           "baxis": {
            "gridcolor": "white",
            "linecolor": "white",
            "ticks": ""
           },
           "bgcolor": "#E5ECF6",
           "caxis": {
            "gridcolor": "white",
            "linecolor": "white",
            "ticks": ""
           }
          },
          "title": {
           "x": 0.05
          },
          "xaxis": {
           "automargin": true,
           "gridcolor": "white",
           "linecolor": "white",
           "ticks": "",
           "title": {
            "standoff": 15
           },
           "zerolinecolor": "white",
           "zerolinewidth": 2
          },
          "yaxis": {
           "automargin": true,
           "gridcolor": "white",
           "linecolor": "white",
           "ticks": "",
           "title": {
            "standoff": 15
           },
           "zerolinecolor": "white",
           "zerolinewidth": 2
          }
         }
        },
        "xaxis": {
         "anchor": "y",
         "domain": [
          0,
          1
         ],
         "title": {
          "text": "Acorn_Group"
         }
        },
        "yaxis": {
         "anchor": "x",
         "domain": [
          0,
          1
         ],
         "title": {
          "text": "KWH/hh"
         }
        }
       }
      },
      "text/html": [
       "<div>                            <div id=\"16100a9c-60c1-4acc-9c35-d8cbaa765d5f\" class=\"plotly-graph-div\" style=\"height:525px; width:100%;\"></div>            <script type=\"text/javascript\">                require([\"plotly\"], function(Plotly) {                    window.PLOTLYENV=window.PLOTLYENV || {};                                    if (document.getElementById(\"16100a9c-60c1-4acc-9c35-d8cbaa765d5f\")) {                    Plotly.newPlot(                        \"16100a9c-60c1-4acc-9c35-d8cbaa765d5f\",                        [{\"alignmentgroup\":\"True\",\"boxpoints\":\"all\",\"hovertemplate\":\"Acorn_Group=%{x}<br>KWH/hh=%{y}<extra></extra>\",\"legendgroup\":\"\",\"marker\":{\"color\":\"#636efa\"},\"name\":\"\",\"notched\":false,\"offsetgroup\":\"\",\"orientation\":\"v\",\"showlegend\":false,\"x\":[\"D\",\"D\",\"D\",\"D\",\"D\",\"D\",\"D\",\"D\",\"D\",\"D\",\"D\",\"D\",\"D\",\"D\",\"D\",\"D\",\"D\",\"D\",\"D\",\"D\",\"D\",\"D\",\"D\",\"D\",\"D\",\"D\",\"D\",\"D\",\"D\",\"D\",\"D\",\"D\",\"D\",\"D\",\"D\",\"D\",\"D\",\"D\",\"D\",\"D\",\"D\",\"D\",\"D\",\"D\",\"D\",\"D\",\"D\",\"D\",\"D\",\"D\",\"D\",\"D\",\"D\",\"D\",\"D\",\"D\",\"D\",\"D\",\"D\",\"D\",\"D\",\"D\",\"D\",\"D\",\"D\",\"D\",\"D\",\"D\",\"D\",\"D\",\"D\",\"D\",\"D\",\"D\",\"D\",\"D\",\"D\",\"D\",\"D\",\"D\",\"D\",\"D\",\"D\",\"D\",\"D\",\"D\",\"D\",\"D\",\"D\",\"D\",\"D\",\"D\",\"D\",\"D\",\"D\",\"D\",\"D\",\"D\",\"D\",\"D\",\"D\",\"D\",\"D\",\"D\",\"D\",\"D\",\"D\",\"D\",\"D\",\"D\",\"D\",\"D\",\"D\",\"D\",\"D\",\"D\",\"D\",\"D\",\"D\",\"D\",\"D\",\"D\",\"D\",\"D\",\"D\",\"D\",\"D\",\"D\",\"D\",\"D\",\"D\",\"D\",\"E\",\"E\",\"E\",\"E\",\"E\",\"E\",\"E\",\"E\",\"E\",\"E\",\"E\",\"E\",\"E\",\"E\",\"E\",\"E\",\"E\",\"E\",\"E\",\"E\",\"E\",\"E\",\"E\",\"E\",\"E\",\"E\",\"E\",\"E\",\"E\",\"E\",\"E\",\"E\",\"E\",\"E\",\"E\",\"E\",\"E\",\"E\",\"E\",\"E\",\"E\",\"E\",\"E\",\"E\",\"E\",\"E\",\"E\",\"E\",\"E\",\"E\",\"E\",\"E\",\"E\",\"E\",\"E\",\"E\",\"E\",\"E\",\"E\",\"E\",\"E\",\"E\",\"E\",\"E\",\"E\",\"E\",\"E\",\"E\",\"E\",\"E\",\"E\",\"E\",\"E\",\"E\",\"E\",\"E\",\"E\",\"E\",\"E\",\"E\",\"E\",\"E\",\"E\",\"E\",\"E\",\"E\",\"E\",\"E\",\"E\",\"E\",\"E\",\"E\",\"E\",\"E\",\"E\",\"E\",\"E\",\"E\",\"E\",\"E\",\"E\",\"E\",\"E\",\"E\",\"E\",\"E\",\"E\",\"E\",\"E\",\"E\",\"E\",\"E\",\"E\",\"E\",\"E\",\"E\",\"E\",\"E\",\"E\",\"E\",\"E\",\"E\",\"E\",\"E\",\"E\",\"E\",\"E\",\"E\",\"E\",\"E\",\"E\",\"E\",\"E\",\"E\",\"E\",\"E\",\"E\",\"E\",\"E\",\"E\",\"E\",\"E\",\"E\",\"E\",\"E\",\"E\",\"E\",\"E\",\"E\",\"E\",\"E\",\"E\",\"E\",\"E\",\"E\",\"E\",\"E\",\"E\",\"E\",\"E\",\"E\",\"E\",\"E\",\"E\",\"E\",\"E\",\"E\",\"E\",\"E\",\"E\",\"E\",\"E\",\"E\",\"E\",\"E\",\"E\",\"E\",\"E\",\"E\",\"E\",\"E\",\"E\",\"E\",\"E\",\"E\",\"E\",\"E\",\"E\",\"E\",\"E\",\"E\",\"E\",\"E\",\"E\",\"E\",\"E\",\"E\",\"E\",\"E\",\"E\",\"E\",\"E\",\"E\",\"E\",\"E\",\"E\",\"E\",\"E\",\"E\",\"E\",\"E\",\"E\",\"E\",\"E\",\"E\",\"E\",\"E\",\"E\",\"E\",\"E\",\"E\",\"E\",\"E\",\"E\",\"E\",\"E\",\"E\",\"E\",\"E\",\"E\",\"E\",\"E\",\"E\",\"E\",\"E\",\"E\",\"E\",\"E\",\"E\",\"E\",\"E\",\"E\",\"E\",\"E\",\"E\",\"E\",\"E\",\"E\",\"E\",\"E\",\"E\",\"E\",\"E\",\"E\",\"E\",\"E\",\"E\",\"E\",\"E\",\"E\",\"E\",\"E\",\"E\",\"E\",\"E\",\"E\",\"E\",\"E\",\"E\",\"E\",\"E\",\"E\",\"E\",\"E\",\"E\",\"E\",\"E\",\"E\",\"E\",\"E\",\"E\",\"E\",\"E\",\"E\",\"E\",\"E\",\"E\",\"E\",\"E\",\"E\",\"E\",\"E\",\"E\",\"E\",\"E\",\"E\",\"E\",\"E\",\"E\",\"E\",\"E\",\"E\",\"E\",\"E\",\"E\",\"E\",\"E\",\"E\",\"E\",\"E\",\"E\",\"E\",\"E\",\"E\",\"E\",\"E\",\"E\",\"E\",\"E\",\"E\",\"E\",\"E\",\"E\",\"E\",\"E\",\"E\",\"E\",\"E\",\"E\",\"E\",\"E\",\"E\",\"E\",\"E\",\"E\",\"E\",\"E\",\"E\",\"E\",\"E\",\"E\",\"E\",\"E\",\"E\",\"E\",\"E\",\"E\",\"E\",\"E\",\"E\",\"E\",\"E\",\"E\",\"E\",\"E\",\"E\",\"E\",\"E\",\"E\",\"E\",\"E\",\"E\",\"E\",\"E\",\"E\",\"E\",\"E\",\"E\",\"E\",\"E\",\"E\",\"E\",\"E\",\"E\",\"E\",\"E\",\"E\",\"E\",\"E\",\"E\",\"E\",\"E\",\"E\",\"E\",\"E\",\"E\",\"E\",\"E\",\"E\",\"E\",\"E\",\"E\",\"E\",\"E\",\"E\",\"E\",\"E\",\"E\",\"E\",\"E\",\"E\",\"E\",\"E\",\"E\",\"E\",\"E\",\"E\",\"E\",\"E\",\"E\",\"E\",\"E\",\"E\",\"E\",\"E\",\"E\",\"E\",\"E\",\"E\",\"E\",\"E\",\"E\",\"E\",\"E\",\"E\",\"E\",\"E\",\"E\",\"E\",\"E\",\"E\",\"E\",\"E\",\"E\",\"E\",\"E\",\"E\",\"E\",\"E\",\"E\",\"E\",\"E\",\"E\",\"E\",\"E\",\"E\",\"E\",\"E\",\"E\",\"E\",\"E\",\"E\",\"E\",\"E\",\"E\",\"E\",\"E\",\"E\",\"E\",\"E\",\"E\",\"E\",\"E\",\"E\",\"E\",\"E\",\"E\",\"E\",\"E\",\"E\",\"E\",\"E\",\"E\",\"E\",\"E\",\"E\",\"E\",\"E\",\"E\",\"E\",\"E\",\"E\",\"E\",\"E\",\"E\",\"E\",\"E\",\"E\",\"E\",\"E\",\"E\",\"E\",\"E\",\"E\",\"E\",\"E\",\"E\",\"E\",\"E\",\"E\",\"E\",\"E\",\"E\",\"E\",\"E\",\"E\",\"E\",\"E\",\"E\",\"E\",\"E\",\"E\",\"E\",\"E\",\"E\",\"E\",\"E\",\"E\",\"E\",\"E\",\"E\",\"E\",\"E\",\"E\",\"E\",\"E\",\"E\",\"E\",\"E\",\"E\",\"E\",\"E\",\"E\",\"E\",\"E\",\"E\",\"E\",\"E\",\"E\",\"E\",\"E\",\"E\",\"E\",\"E\",\"E\",\"E\",\"E\",\"E\",\"E\",\"E\",\"E\",\"E\",\"E\",\"E\",\"E\",\"E\",\"E\",\"E\",\"E\",\"E\",\"E\",\"E\",\"E\",\"E\",\"E\",\"E\",\"E\",\"E\",\"E\",\"E\",\"E\",\"E\",\"E\",\"E\",\"E\",\"E\",\"E\",\"E\",\"E\",\"E\",\"E\",\"E\",\"E\",\"E\",\"E\",\"E\",\"E\",\"E\",\"E\",\"E\",\"E\",\"E\",\"E\",\"E\",\"E\",\"E\",\"E\",\"E\",\"E\",\"E\",\"E\",\"E\",\"E\",\"E\",\"E\",\"E\",\"E\",\"E\",\"E\",\"E\",\"E\",\"E\",\"E\",\"E\",\"E\",\"E\",\"E\",\"E\",\"E\",\"E\",\"E\",\"E\",\"E\",\"E\",\"E\",\"E\",\"E\",\"E\",\"E\",\"E\",\"E\",\"E\",\"E\",\"E\",\"E\",\"E\",\"E\",\"E\",\"E\",\"E\",\"E\",\"E\",\"E\",\"E\",\"E\",\"E\",\"E\",\"E\",\"E\",\"E\",\"E\",\"E\",\"E\",\"E\",\"E\",\"E\",\"E\",\"E\",\"E\",\"E\",\"E\",\"E\",\"E\",\"E\",\"E\",\"E\",\"E\",\"E\",\"E\",\"E\",\"E\",\"E\",\"E\",\"E\",\"E\",\"E\",\"E\",\"E\",\"E\",\"E\",\"E\",\"E\",\"E\",\"E\",\"E\",\"E\",\"E\",\"E\",\"E\",\"E\",\"E\",\"E\",\"E\",\"E\",\"E\",\"E\",\"E\",\"E\",\"E\",\"E\",\"E\",\"E\"],\"x0\":\" \",\"xaxis\":\"x\",\"y\":[0.25966175682301407,0.4886209418418839,0.14367522768184735,0.26637767381589,0.08377643185710978,0.28106632389203084,0.5743634331113567,1.0642953347672703,0.13753999381257095,0.3909092848500287,0.2910705974158775,0.1967305693874965,0.13647020243420488,0.38515912145863757,0.16448853884121406,0.3375555172245769,0.16136633557446498,0.11645828547869365,0.5219060619294728,0.14978334508468596,0.251735591802166,0.13361045959192133,0.44800919623246016,0.05829631873958491,0.17731703174559887,0.28712315030233054,0.4321450597559854,0.342700846295842,0.4115043824728219,0.5148794648843615,0.47358406167748784,0.2384083141295764,0.3545182242553328,0.3349045700657471,0.13316542545654708,1.1636488968465517,0.3414507242898149,0.14481927832595332,0.21155758849882542,0.22635009039092308,0.6814030874045673,0.24832795210708639,0.12018371335331558,0.39011134312946244,0.38831213590555425,0.4092866695232307,0.33645678761064934,0.3562570974013012,0.35143489762285507,0.44980953851172906,0.25950347537325064,0.34176217734179853,1.0386440734550122,0.5385522472733008,0.051437722423383896,0.24297328956461645,0.18921520804718636,0.15171950710569157,0.4931672492065405,0.3057298574419552,0.3488664019557041,0.823838062769025,0.25636455559056753,0.3302941116210599,0.24125575836999066,0.3926838806352175,0.7894946836629377,0.21034410500138542,0.37900516948617424,0.4169974377970662,0.2705559576455832,0.4436580877461073,0.8093063863784773,0.4604412543873262,0.30634553932653064,0.549434432814277,0.1460883030561955,0.6448251130267192,0.4659880260214363,0.2743561268234263,0.10086475865931617,0.9430398485749473,0.3694993833069063,0.3408411347037059,0.1412162114449339,0.1652139374526687,0.31337027767964154,0.11018087768020013,0.23622136077116512,0.23025385125930065,0.4628124255334779,0.21535373954383266,0.17358003918701465,0.12324635598107919,0.14625884166997813,0.15437108930729196,0.1492780827229371,0.1433251975780308,0.5788317426463057,0.23057269090147545,0.09907331909486604,0.16078316678311264,0.21342871834425253,0.20309469460243448,0.10165111425201974,0.519391242977914,0.3125191737083843,0.35710812408106707,0.35808268295311907,0.18241615957377139,0.11539759496857066,0.07744131094188927,0.08378634573545207,0.45248972847386687,0.25370473200572907,0.10104526067859189,0.07883506150515691,0.2417447043165269,0.11327660572982824,0.269691027929574,0.3964341546497769,0.24443023902012975,0.16732977483640193,0.31564693150692535,0.13210883447165306,0.5471821697979291,0.31237578291997214,0.44077602499036117,0.30952856939091294,0.07500053677147782,0.12842959643799096,0.25604948948156747,0.2292253910498963,0.22377090694167054,0.4689232798340632,0.15771649207540406,0.5661070128272118,0.4314645879942561,0.1396163589974359,0.7715233479190707,0.22363286781240374,0.2773501835049164,0.14110238504788067,0.10824908755204854,0.38644497291334534,0.10211906231235862,0.08267124240250893,0.12717303784673128,0.3297754065903761,0.1580941728191641,0.654824226779302,0.21417673685531013,0.291604956754799,0.20339927992396586,0.19413394427715394,0.6410193135446831,0.21765556818262077,0.25022189048601656,0.2200681623266952,0.04179753827275708,0.141105253872334,0.12149273057448635,0.15645092094797747,0.23468036988149682,0.12652398016137223,0.08361084792136397,0.27132156415075226,0.3384458069470484,0.131755143980718,0.2533007684546907,0.3272433441393151,0.13644845190368546,0.10268772223915473,0.26604801726995425,0.14642010269713762,0.2466698387206758,0.24824629584831562,0.5328597158423177,0.0958517619374952,0.17944394446859102,0.397487379321445,0.09257943476915206,0.7343026991735959,0.1274634111626044,0.21328517073345157,0.22181561766221866,0.3882172107932417,0.07928389369379689,0.17776960576057346,0.19876014338637993,0.23315435491560516,0.15123954680508425,0.848773790081385,0.09455323250316346,0.39676768552063546,0.4469518586795658,0.2595021164713336,0.7980324587396677,0.059317302157009553,0.30964784410958907,0.37712874850346023,0.16964732683545763,0.132646684095075,0.07186631819100701,0.19919178953743855,0.197982479481323,0.12025735104229912,0.11972795371800435,0.12829111471336843,0.2075319623287473,0.22447717072584614,0.2769477112655259,0.07843194750900012,0.06057112576439502,0.29254701970792324,0.25253212744693826,0.07930618883048239,0.10813650090322956,0.09059627238602,0.08458065078949664,0.21733631844270634,0.18751374167637128,0.22899432987700272,0.10134304764178409,0.14314406804637209,0.6215924610014997,0.13837121435166128,0.35661382617031284,0.14143849072728878,0.6968725878803947,0.09040222675031663,0.10593637317085353,0.13259662676180928,0.4433028213874307,0.21153881494687468,0.3149951048214444,0.23996048246188328,0.1893983241177859,0.08094935401451242,0.09333308726821778,0.09887623981643227,0.2707685086502014,0.14235002369418454,0.07048351745994136,0.17753832032397537,0.23864092768200937,0.2529747348587169,0.1869077255850465,0.16671063397781866,0.13954651680951394,0.2100060551647373,0.2902750654584919,0.2365446311913529,0.18206523388705328,0.35777464910132456,0.6044152404800922,0.2637542720217319,0.05593129446099593,0.22736998213450024,0.1765230498100708,0.14785092542625292,0.20606408073321983,0.32428723821839955,0.16526508408398344,0.19382002694850917,0.23067564994787834,0.07449001869614547,0.09096138273418808,0.14921745238193612,0.32722282589864016,0.3584228088871834,0.1644588707545142,0.3338394348955774,0.13970451376126894,0.503927097106786,0.6166779728463897,0.1932675384141051,0.13088077949171478,0.2236901570315894,0.25549942232006245,0.15914979681775554,0.7823337294514979,0.23088787120662707,0.09132804466138852,0.3780058056353138,0.16520946372239748,0.09847495970804765,0.15956617915290663,0.7595848499526155,0.12914861526078966,1.0218395231556598,0.5937759996546043,0.10378393492628368,0.1147085388752745,0.08083939257926907,0.09669662132911797,0.06435381958878265,0.33380553793206535,0.17105077073137265,0.1959390567226219,0.13752595695493536,0.2170385255652341,0.23447736149535703,0.23946359034520304,0.3885662805341056,0.11446046915725457,0.30935663037616246,0.2109496680705033,0.21520065737118552,0.8485172391087195,0.20931623382097056,0.12383510569734468,0.170446055726347,0.25929104093457944,0.3414892033389197,0.42770195958873203,0.3431976407464707,0.06755197980380095,0.12225923284588697,0.1829268380207824,0.2967349302760057,0.11323776410247999,0.26859532480055154,0.25281895868087634,0.09876236649324031,0.41217940313542806,0.1412082508151815,0.08885174505319678,0.2715673671776285,0.06782510238769189,0.8323037499333954,0.1924711093249409,0.39969764221503057,0.25948782199745035,0.16442300725308642,0.06308622995320855,0.12066565227903556,0.12710486225294454,0.10039950417797433,0.07891327425009739,0.14944451520754337,0.39014436215989534,0.2810356292615828,0.30019212712245175,0.26154141645922097,0.3041378477098084,0.12108397229284369,0.38688322131136516,0.17894865154347975,0.1881915701762648,0.12260936555540604,0.14739609109449353,0.3016863291541954,0.07015624369909122,0.0761893437384372,0.13707029065373347,0.07892883364655956,0.2929551057827024,0.16531001149026478,0.23008203628124788,0.25676847141268827,0.2939650543715847,0.33109877502109136,0.11780577141650335,0.2623673131180831,0.1895899519127903,0.22939391783292648,0.22272911858742536,0.14403289005476005,0.08366633767824933,0.0669540778122232,0.27946834934669657,0.12504372155638913,0.08927682450695422,0.09164133954176817,0.06934387047031611,0.24716100174572822,0.06398993361432763,0.15009498688570105,0.1295441843311434,0.6496883495088955,0.23699749633727937,0.3144796869550419,0.19551096615097857,0.19536846681685416,0.261563156446536,0.2222090008259054,0.9281828213644581,0.07462213561964147,0.12200427819692096,0.23318828375836123,0.3904710187068577,0.25361189940329576,0.19799923679317283,0.15274787496096867,0.1472708666342345,0.0797949972245351,0.15586961345499964,0.15681771361057945,0.07389001427030038,0.14560371708896003,0.04731472524275224,0.17229386379868433,0.08647895855407428,0.07261649319803669,0.05794632544971127,0.20409736393773723,0.3820826282112887,0.25476057137407676,0.12081977715529248,0.16448528999930284,0.09053196683050967,0.06841653883698229,0.2557601533833014,0.16153074884953283,0.17526590660670086,0.8739481229107752,0.050447625357416835,0.2872724198361227,0.24754541648244358,0.3960089606324745,0.1456797308134872,0.28303737934725753,0.2949129525249355,0.3269718265456253,0.18867036061232156,0.13889677340001882,0.17237489011365062,0.3117791592069323,0.14950734739530777,0.16693251553088834,0.15065406956095911,0.01818882165397879,0.15347657634211193,0.08710563781321184,0.0746147186203407,0.22209861827227784,0.3006448894493378,0.1331663384126326,0.10129380053908354,0.2712753937880044,0.5159335913240274,0.11064901190229409,0.08807215175023325,0.0557570660450848,0.22363465913610936,0.1704366886398611,0.11219757654017858,0.13107625093280606,0.2886105851012275,0.10770754461521868,0.18697681833168586,0.09279764412628487,0.119029658714044,0.14643134940609234,0.2314411595172722,0.23749678895946658,0.23602906994698591,0.5010926925101783,0.11514407550540502,0.3864477711934012,0.2513784097314376,0.08406302353398606,0.26985752223984144,0.4847548225608051,0.16774920105065516,0.13138106718498876,0.04164236774178513,0.1550985229954553,0.07862306472835141,0.7264285420464281,0.1320885418730172,0.8061557611154687,0.14926816780987262,0.18681571137171288,0.4080743883874189,0.9471873688835806,0.36493365114590803,0.148819375255382,0.24718352180060782,0.5010765881398199,0.18017540592598874,0.20497464146704675,0.38109430181284315,0.06724280729060265,0.14244129845467746,0.14719945374083804,0.2025215585819088,0.11582543744380663,0.26726297570721236,0.3767868693652827,0.08947074311796294,0.14457983863974788,0.10340508431752848,0.19109067607024105,0.36092208691157596,0.09805108578949191,0.20275178358731039,0.13386190773760046,0.5821541261199722,0.12457566416473279,0.161168277390973,0.42607457103698054,0.24529948394001316,0.2609191173888947,0.07200169779979904,0.10058660940043643,0.10237184327779124,0.0778154832005542,0.15714026888034366,0.10358822599077375,0.16329719429889178,0.3095688435576338,0.20313564387387076,0.5551725551106698,0.3249843825257352,0.2077699265548321,0.14995998327275065,0.1384788822817409,0.24812380558218847,0.16655818293279287,0.3269393841800457,0.166003572184855,0.33786319623564237,0.40751642374931635,0.12465484130820043,0.3343703487946558,0.07869714968204267,0.08210204016075924,0.1540398680667378,0.21236622070938216,0.314453534111891,0.13500200931566686,0.20940608155418985,0.20770124910462104,0.15587854958205913,0.13931429651623814,0.320840228569346,0.08793065927362893,0.262953347323303,0.3763814399819126,0.20464865732862933,0.21021876548969295,0.3821202111289288,0.15947095362787986,0.10574859862489781,0.104199614514763,0.21484603037638333,0.1841246787353972,0.25432317726753884,0.11110285129112443,0.07608077103919728,0.08914759433547365,0.12495505320608673,0.16974033897261478,0.5865730350039637,0.05658671044806756,0.09123022996597442,0.31159201684312404,0.05846798203118119,0.1631570849756298,0.8334505489839666,0.6112448901474216,0.1095048951959545,0.655748692212669,0.2181015191087261,0.27464394433323824,0.1430985633053697,0.1350441061893896,0.09932080365438217,0.06358785080406702,0.12048128744456259,0.5104529128008101,0.29856853872334893,0.30589838837015854,0.13656625032526673,0.20599594025919948,0.07556320433073939,0.1657603653470758,0.1585259733577972,0.12040383163443268,0.08843614307023481,0.15815976439312987,0.17638578283091688,0.08318471320720298,0.09541494683917032,0.1032499756312762,0.2186983419208509,0.25051566941784303,0.18665916915770797,0.12287794505179116,0.36007601969258074,0.5754063406992825,0.06854702259537603,0.32824258818274427,0.2684990725800131,0.2836832193250091,0.2338804522439858,0.2416169015671014,0.4409856512495691,0.0672324981577008,0.4425682310601299,0.07794299877542096,0.14516471614323143,0.16832989801215764,0.2703370244908653,0.13521845859203127,0.1420897946248952,0.2951422583388635,0.09249399231225987,0.05666345314541199,0.2287986585894928,0.175550870026553,0.11439271723450399,0.1050083595662819,0.07522337673523649,0.0323287484250315,0.11955289671494543,0.06836964736915757,0.18573907574782214,0.16631678519076482,0.09143194001261343,0.41542983317678395,0.2791740608389403,0.16898931134045908,0.2721307045355766,0.34213285029820484,0.39712210526599245,0.11198441426648319,0.28726101531512666,0.17820828097887872,0.31415005837900983,0.09970094942046782,0.19373125431532906,0.108745673727619,0.10807141026923077,0.3480033047106892,0.4698683230216908,0.08525470225046572,0.1735720644098589,0.11362293155292276,0.09945801747999579,0.4179128649169453,0.21041090372232607,0.14123696058292304,0.1795517295477281,0.6101450953706385,0.7085344192283365,0.14663408269509526,0.1612056478370288,0.48998253976808365,0.7916188023502855,0.2327729593246477,0.46580037979535144,0.19060100416622155,0.5277338178416805,0.3726137173744139,0.10377524872877099,0.3300655544235781,0.15667060820718634,0.671244154109737,0.3281924644267387,0.13739795035152239,0.1383435523168424,0.12079822568430164,0.20848185108189982,0.16945707027502097,0.503853139474183,0.08274760409605283,0.2192185731690808,0.25469904963311946,0.10979871114480666,0.19446551818083319,0.17119565570120795,0.11536670190561385,0.26037769722121606,0.15667798081656997,0.3407079845635395,0.5991282151024958,0.10193886759629237,0.24320022835435468,0.2057610775920187,0.0691520544244898,0.11783480768665452,0.16804491139660852,0.11927852024082969,0.17450952290400806,0.1189341617614999,0.13290513693963754,0.23749486193474528,0.11324594504942385,0.12759307217122876,1.1140236366515468,0.4116614502921636,0.1456066948900123,0.22122635216321845,0.5202066650891732,0.15266756944330462,0.12070922025991791,0.10061327386808197,0.31726774080264813,0.7548385995185337,0.08733230239216115,0.2051764222008887,0.20100054859149136,0.08951755443524055,0.3692621289722962,0.09699876416291334,0.42307600396088557,0.23752650954068455,0.15823479645937483,0.15548761125425778,0.3484474233490825,0.11014151459897568,0.14312151767404802,0.06443802425400842,0.7052823593482744,0.43769768135262244,0.745778668874324,0.6322316071971551,0.5421721724504133,0.09719020388838061,0.16395465840143836,0.3083506145658996,0.3948646564477489,0.27786082504819076,0.08988781495249897,0.20362679006939854,0.12590236914600553,0.12630429393780815,0.15370394266887233,0.13946450332497035,0.8663364589250752,0.24487928086637623,0.32263314560926226,0.1040007444894808,0.15899801233698307,0.1152661059073359,0.15654833547452907,0.09186606808361392,0.08242478877353801,0.4832340402612106,0.07258067544804352,0.3413134204656184,0.21687349130494962,0.21016764494434909,0.06162678220979485,0.13314784461640689,0.14876983376534203,0.42031205982256725,0.1952015527492028,0.15652210965163083,0.08226265320881625,0.09114426282799645,0.3998583144604436,0.19317096228765257,0.26049020314500415,0.3180416945613449,0.11085736948086292,0.09311807604798752,0.1517219562767912,0.07453298587474567,0.6545763028475619,0.10005223148422436,0.17193529905533816,0.3064333900902663,0.06966418869822816,0.2404454568629643,0.1607628427476217,0.3322683384903865,0.09045329116758088,0.6193640718168572,0.059365815368226285,0.17325715247569143,0.7255879105509473,0.3818439959422727,0.08159218049327353,0.2450229530332791,0.37478507892595603,0.08639749705931869,0.43273094294073755,0.16092321957297373,0.13664670536217985,0.6877544785144019,0.272577574045134,0.18285100590646872,0.055048922237896404,0.2587877520874527,0.1428719708523979,0.674325393552033,0.9422415522369579,0.7489606832296204,0.12614847310163302,0.10956042432531825,0.16266718523180493,0.09826546719850632,0.22342925845757775,0.188112502842326,0.1750143338857256,0.20507113316430595,0.4013431181400493,0.11214571396153628,0.19058709211347516,0.05999147969326896,0.15388002892736252,0.20047071054535098,0.1253169480762111,0.17818291084306465,0.35339965817146113,0.40385814820512816,0.0438402506765418,0.4082459006387772,0.14544497676162774,0.4374181927320441,0.5229055467731356,0.12962752711307826,0.17889591845329944,0.14916587189971733,0.06327403832138676,0.09048791911235506,0.22009077754580447,0.25525086319423895,0.19441286098410854,0.6804071359277234,0.13451465292142378,0.2612126287417097,0.17487213818431913,0.11347427785419532,0.3447673798583865,0.3710145419758756,0.68971776673197,0.12548457268912988,0.12364782436703037,0.3631660641879544],\"y0\":\" \",\"yaxis\":\"y\",\"type\":\"box\"}],                        {\"template\":{\"data\":{\"histogram2dcontour\":[{\"type\":\"histogram2dcontour\",\"colorbar\":{\"outlinewidth\":0,\"ticks\":\"\"},\"colorscale\":[[0.0,\"#0d0887\"],[0.1111111111111111,\"#46039f\"],[0.2222222222222222,\"#7201a8\"],[0.3333333333333333,\"#9c179e\"],[0.4444444444444444,\"#bd3786\"],[0.5555555555555556,\"#d8576b\"],[0.6666666666666666,\"#ed7953\"],[0.7777777777777778,\"#fb9f3a\"],[0.8888888888888888,\"#fdca26\"],[1.0,\"#f0f921\"]]}],\"choropleth\":[{\"type\":\"choropleth\",\"colorbar\":{\"outlinewidth\":0,\"ticks\":\"\"}}],\"histogram2d\":[{\"type\":\"histogram2d\",\"colorbar\":{\"outlinewidth\":0,\"ticks\":\"\"},\"colorscale\":[[0.0,\"#0d0887\"],[0.1111111111111111,\"#46039f\"],[0.2222222222222222,\"#7201a8\"],[0.3333333333333333,\"#9c179e\"],[0.4444444444444444,\"#bd3786\"],[0.5555555555555556,\"#d8576b\"],[0.6666666666666666,\"#ed7953\"],[0.7777777777777778,\"#fb9f3a\"],[0.8888888888888888,\"#fdca26\"],[1.0,\"#f0f921\"]]}],\"heatmap\":[{\"type\":\"heatmap\",\"colorbar\":{\"outlinewidth\":0,\"ticks\":\"\"},\"colorscale\":[[0.0,\"#0d0887\"],[0.1111111111111111,\"#46039f\"],[0.2222222222222222,\"#7201a8\"],[0.3333333333333333,\"#9c179e\"],[0.4444444444444444,\"#bd3786\"],[0.5555555555555556,\"#d8576b\"],[0.6666666666666666,\"#ed7953\"],[0.7777777777777778,\"#fb9f3a\"],[0.8888888888888888,\"#fdca26\"],[1.0,\"#f0f921\"]]}],\"heatmapgl\":[{\"type\":\"heatmapgl\",\"colorbar\":{\"outlinewidth\":0,\"ticks\":\"\"},\"colorscale\":[[0.0,\"#0d0887\"],[0.1111111111111111,\"#46039f\"],[0.2222222222222222,\"#7201a8\"],[0.3333333333333333,\"#9c179e\"],[0.4444444444444444,\"#bd3786\"],[0.5555555555555556,\"#d8576b\"],[0.6666666666666666,\"#ed7953\"],[0.7777777777777778,\"#fb9f3a\"],[0.8888888888888888,\"#fdca26\"],[1.0,\"#f0f921\"]]}],\"contourcarpet\":[{\"type\":\"contourcarpet\",\"colorbar\":{\"outlinewidth\":0,\"ticks\":\"\"}}],\"contour\":[{\"type\":\"contour\",\"colorbar\":{\"outlinewidth\":0,\"ticks\":\"\"},\"colorscale\":[[0.0,\"#0d0887\"],[0.1111111111111111,\"#46039f\"],[0.2222222222222222,\"#7201a8\"],[0.3333333333333333,\"#9c179e\"],[0.4444444444444444,\"#bd3786\"],[0.5555555555555556,\"#d8576b\"],[0.6666666666666666,\"#ed7953\"],[0.7777777777777778,\"#fb9f3a\"],[0.8888888888888888,\"#fdca26\"],[1.0,\"#f0f921\"]]}],\"surface\":[{\"type\":\"surface\",\"colorbar\":{\"outlinewidth\":0,\"ticks\":\"\"},\"colorscale\":[[0.0,\"#0d0887\"],[0.1111111111111111,\"#46039f\"],[0.2222222222222222,\"#7201a8\"],[0.3333333333333333,\"#9c179e\"],[0.4444444444444444,\"#bd3786\"],[0.5555555555555556,\"#d8576b\"],[0.6666666666666666,\"#ed7953\"],[0.7777777777777778,\"#fb9f3a\"],[0.8888888888888888,\"#fdca26\"],[1.0,\"#f0f921\"]]}],\"mesh3d\":[{\"type\":\"mesh3d\",\"colorbar\":{\"outlinewidth\":0,\"ticks\":\"\"}}],\"scatter\":[{\"fillpattern\":{\"fillmode\":\"overlay\",\"size\":10,\"solidity\":0.2},\"type\":\"scatter\"}],\"parcoords\":[{\"type\":\"parcoords\",\"line\":{\"colorbar\":{\"outlinewidth\":0,\"ticks\":\"\"}}}],\"scatterpolargl\":[{\"type\":\"scatterpolargl\",\"marker\":{\"colorbar\":{\"outlinewidth\":0,\"ticks\":\"\"}}}],\"bar\":[{\"error_x\":{\"color\":\"#2a3f5f\"},\"error_y\":{\"color\":\"#2a3f5f\"},\"marker\":{\"line\":{\"color\":\"#E5ECF6\",\"width\":0.5},\"pattern\":{\"fillmode\":\"overlay\",\"size\":10,\"solidity\":0.2}},\"type\":\"bar\"}],\"scattergeo\":[{\"type\":\"scattergeo\",\"marker\":{\"colorbar\":{\"outlinewidth\":0,\"ticks\":\"\"}}}],\"scatterpolar\":[{\"type\":\"scatterpolar\",\"marker\":{\"colorbar\":{\"outlinewidth\":0,\"ticks\":\"\"}}}],\"histogram\":[{\"marker\":{\"pattern\":{\"fillmode\":\"overlay\",\"size\":10,\"solidity\":0.2}},\"type\":\"histogram\"}],\"scattergl\":[{\"type\":\"scattergl\",\"marker\":{\"colorbar\":{\"outlinewidth\":0,\"ticks\":\"\"}}}],\"scatter3d\":[{\"type\":\"scatter3d\",\"line\":{\"colorbar\":{\"outlinewidth\":0,\"ticks\":\"\"}},\"marker\":{\"colorbar\":{\"outlinewidth\":0,\"ticks\":\"\"}}}],\"scattermapbox\":[{\"type\":\"scattermapbox\",\"marker\":{\"colorbar\":{\"outlinewidth\":0,\"ticks\":\"\"}}}],\"scatterternary\":[{\"type\":\"scatterternary\",\"marker\":{\"colorbar\":{\"outlinewidth\":0,\"ticks\":\"\"}}}],\"scattercarpet\":[{\"type\":\"scattercarpet\",\"marker\":{\"colorbar\":{\"outlinewidth\":0,\"ticks\":\"\"}}}],\"carpet\":[{\"aaxis\":{\"endlinecolor\":\"#2a3f5f\",\"gridcolor\":\"white\",\"linecolor\":\"white\",\"minorgridcolor\":\"white\",\"startlinecolor\":\"#2a3f5f\"},\"baxis\":{\"endlinecolor\":\"#2a3f5f\",\"gridcolor\":\"white\",\"linecolor\":\"white\",\"minorgridcolor\":\"white\",\"startlinecolor\":\"#2a3f5f\"},\"type\":\"carpet\"}],\"table\":[{\"cells\":{\"fill\":{\"color\":\"#EBF0F8\"},\"line\":{\"color\":\"white\"}},\"header\":{\"fill\":{\"color\":\"#C8D4E3\"},\"line\":{\"color\":\"white\"}},\"type\":\"table\"}],\"barpolar\":[{\"marker\":{\"line\":{\"color\":\"#E5ECF6\",\"width\":0.5},\"pattern\":{\"fillmode\":\"overlay\",\"size\":10,\"solidity\":0.2}},\"type\":\"barpolar\"}],\"pie\":[{\"automargin\":true,\"type\":\"pie\"}]},\"layout\":{\"autotypenumbers\":\"strict\",\"colorway\":[\"#636efa\",\"#EF553B\",\"#00cc96\",\"#ab63fa\",\"#FFA15A\",\"#19d3f3\",\"#FF6692\",\"#B6E880\",\"#FF97FF\",\"#FECB52\"],\"font\":{\"color\":\"#2a3f5f\"},\"hovermode\":\"closest\",\"hoverlabel\":{\"align\":\"left\"},\"paper_bgcolor\":\"white\",\"plot_bgcolor\":\"#E5ECF6\",\"polar\":{\"bgcolor\":\"#E5ECF6\",\"angularaxis\":{\"gridcolor\":\"white\",\"linecolor\":\"white\",\"ticks\":\"\"},\"radialaxis\":{\"gridcolor\":\"white\",\"linecolor\":\"white\",\"ticks\":\"\"}},\"ternary\":{\"bgcolor\":\"#E5ECF6\",\"aaxis\":{\"gridcolor\":\"white\",\"linecolor\":\"white\",\"ticks\":\"\"},\"baxis\":{\"gridcolor\":\"white\",\"linecolor\":\"white\",\"ticks\":\"\"},\"caxis\":{\"gridcolor\":\"white\",\"linecolor\":\"white\",\"ticks\":\"\"}},\"coloraxis\":{\"colorbar\":{\"outlinewidth\":0,\"ticks\":\"\"}},\"colorscale\":{\"sequential\":[[0.0,\"#0d0887\"],[0.1111111111111111,\"#46039f\"],[0.2222222222222222,\"#7201a8\"],[0.3333333333333333,\"#9c179e\"],[0.4444444444444444,\"#bd3786\"],[0.5555555555555556,\"#d8576b\"],[0.6666666666666666,\"#ed7953\"],[0.7777777777777778,\"#fb9f3a\"],[0.8888888888888888,\"#fdca26\"],[1.0,\"#f0f921\"]],\"sequentialminus\":[[0.0,\"#0d0887\"],[0.1111111111111111,\"#46039f\"],[0.2222222222222222,\"#7201a8\"],[0.3333333333333333,\"#9c179e\"],[0.4444444444444444,\"#bd3786\"],[0.5555555555555556,\"#d8576b\"],[0.6666666666666666,\"#ed7953\"],[0.7777777777777778,\"#fb9f3a\"],[0.8888888888888888,\"#fdca26\"],[1.0,\"#f0f921\"]],\"diverging\":[[0,\"#8e0152\"],[0.1,\"#c51b7d\"],[0.2,\"#de77ae\"],[0.3,\"#f1b6da\"],[0.4,\"#fde0ef\"],[0.5,\"#f7f7f7\"],[0.6,\"#e6f5d0\"],[0.7,\"#b8e186\"],[0.8,\"#7fbc41\"],[0.9,\"#4d9221\"],[1,\"#276419\"]]},\"xaxis\":{\"gridcolor\":\"white\",\"linecolor\":\"white\",\"ticks\":\"\",\"title\":{\"standoff\":15},\"zerolinecolor\":\"white\",\"automargin\":true,\"zerolinewidth\":2},\"yaxis\":{\"gridcolor\":\"white\",\"linecolor\":\"white\",\"ticks\":\"\",\"title\":{\"standoff\":15},\"zerolinecolor\":\"white\",\"automargin\":true,\"zerolinewidth\":2},\"scene\":{\"xaxis\":{\"backgroundcolor\":\"#E5ECF6\",\"gridcolor\":\"white\",\"linecolor\":\"white\",\"showbackground\":true,\"ticks\":\"\",\"zerolinecolor\":\"white\",\"gridwidth\":2},\"yaxis\":{\"backgroundcolor\":\"#E5ECF6\",\"gridcolor\":\"white\",\"linecolor\":\"white\",\"showbackground\":true,\"ticks\":\"\",\"zerolinecolor\":\"white\",\"gridwidth\":2},\"zaxis\":{\"backgroundcolor\":\"#E5ECF6\",\"gridcolor\":\"white\",\"linecolor\":\"white\",\"showbackground\":true,\"ticks\":\"\",\"zerolinecolor\":\"white\",\"gridwidth\":2}},\"shapedefaults\":{\"line\":{\"color\":\"#2a3f5f\"}},\"annotationdefaults\":{\"arrowcolor\":\"#2a3f5f\",\"arrowhead\":0,\"arrowwidth\":1},\"geo\":{\"bgcolor\":\"white\",\"landcolor\":\"#E5ECF6\",\"subunitcolor\":\"white\",\"showland\":true,\"showlakes\":true,\"lakecolor\":\"white\"},\"title\":{\"x\":0.05},\"mapbox\":{\"style\":\"light\"}}},\"xaxis\":{\"anchor\":\"y\",\"domain\":[0.0,1.0],\"title\":{\"text\":\"Acorn_Group\"}},\"yaxis\":{\"anchor\":\"x\",\"domain\":[0.0,1.0],\"title\":{\"text\":\"KWH/hh\"}},\"legend\":{\"tracegroupgap\":0},\"margin\":{\"t\":60},\"boxmode\":\"group\"},                        {\"responsive\": true}                    ).then(function(){\n",
       "                            \n",
       "var gd = document.getElementById('16100a9c-60c1-4acc-9c35-d8cbaa765d5f');\n",
       "var x = new MutationObserver(function (mutations, observer) {{\n",
       "        var display = window.getComputedStyle(gd).display;\n",
       "        if (!display || display === 'none') {{\n",
       "            console.log([gd, 'removed!']);\n",
       "            Plotly.purge(gd);\n",
       "            observer.disconnect();\n",
       "        }}\n",
       "}});\n",
       "\n",
       "// Listen for the removal of the full notebook cells\n",
       "var notebookContainer = gd.closest('#notebook-container');\n",
       "if (notebookContainer) {{\n",
       "    x.observe(notebookContainer, {childList: true});\n",
       "}}\n",
       "\n",
       "// Listen for the clearing of the current output cell\n",
       "var outputEl = gd.closest('.output');\n",
       "if (outputEl) {{\n",
       "    x.observe(outputEl, {childList: true});\n",
       "}}\n",
       "\n",
       "                        })                };                });            </script>        </div>"
      ]
     },
     "metadata": {},
     "output_type": "display_data"
    }
   ],
   "source": [
    "import plotly.express as px\n",
    "fig = px.box(cat2, x=\"Acorn_Group\", y=\"KWH/hh\", points='all')\n",
    "fig.show()"
   ]
  },
  {
   "cell_type": "markdown",
   "id": "a1dd8de7",
   "metadata": {},
   "source": [
    "Category 3 "
   ]
  },
  {
   "cell_type": "code",
   "execution_count": 31,
   "id": "8995642d",
   "metadata": {},
   "outputs": [],
   "source": [
    "dfF = pd.read_csv('https://storage.googleapis.com/energy_usage_prediction_903/df_F_v1.csv')\n",
    "dfG = pd.read_csv('https://storage.googleapis.com/energy_usage_prediction_903/df_G_v1.csv')\n",
    "dfH = pd.read_csv('https://storage.googleapis.com/energy_usage_prediction_903/df_H_v1.csv')\n",
    "dfI = pd.read_csv('https://storage.googleapis.com/energy_usage_prediction_903/df_I_v1.csv')\n",
    "dfJ = pd.read_csv('https://storage.googleapis.com/energy_usage_prediction_903/df_J_v1.csv')"
   ]
  },
  {
   "cell_type": "code",
   "execution_count": 32,
   "id": "09a38a1a",
   "metadata": {},
   "outputs": [],
   "source": [
    "dfFhouse =dfF.groupby(by=[\"LCLid\", \"Acorn_Group\"]).mean().reset_index()\n",
    "dfGhouse =dfG.groupby(by=[\"LCLid\", \"Acorn_Group\"]).mean().reset_index()\n",
    "dfHhouse =dfH.groupby(by=[\"LCLid\", \"Acorn_Group\"]).mean().reset_index()\n",
    "dfIhouse =dfI.groupby(by=[\"LCLid\", \"Acorn_Group\"]).mean().reset_index()\n",
    "dfJhouse =dfJ.groupby(by=[\"LCLid\", \"Acorn_Group\"]).mean().reset_index()"
   ]
  },
  {
   "cell_type": "code",
   "execution_count": 33,
   "id": "8ef99aff",
   "metadata": {},
   "outputs": [],
   "source": [
    "frames3 = [dfFhouse, dfHhouse, dfIhouse, dfJhouse]\n",
    "\n",
    "cat3 = pd.concat(frames3)"
   ]
  },
  {
   "cell_type": "code",
   "execution_count": 35,
   "id": "a8883782",
   "metadata": {},
   "outputs": [
    {
     "data": {
      "application/vnd.plotly.v1+json": {
       "config": {
        "plotlyServerURL": "https://plot.ly"
       },
       "data": [
        {
         "alignmentgroup": "True",
         "boxpoints": "all",
         "hovertemplate": "Acorn_Group=%{x}<br>KWH/hh=%{y}<extra></extra>",
         "legendgroup": "",
         "marker": {
          "color": "#636efa"
         },
         "name": "",
         "notched": false,
         "offsetgroup": "",
         "orientation": "v",
         "showlegend": false,
         "type": "box",
         "x": [
          "F",
          "F",
          "F",
          "F",
          "F",
          "F",
          "F",
          "F",
          "F",
          "F",
          "F",
          "F",
          "F",
          "F",
          "F",
          "F",
          "F",
          "F",
          "F",
          "F",
          "F",
          "F",
          "F",
          "F",
          "F",
          "F",
          "F",
          "F",
          "F",
          "F",
          "F",
          "F",
          "F",
          "F",
          "F",
          "F",
          "F",
          "F",
          "F",
          "F",
          "F",
          "F",
          "F",
          "F",
          "F",
          "F",
          "F",
          "F",
          "F",
          "F",
          "F",
          "F",
          "F",
          "F",
          "F",
          "F",
          "F",
          "F",
          "F",
          "F",
          "F",
          "F",
          "F",
          "F",
          "F",
          "F",
          "F",
          "F",
          "F",
          "F",
          "F",
          "F",
          "F",
          "F",
          "F",
          "F",
          "F",
          "F",
          "F",
          "F",
          "F",
          "F",
          "F",
          "F",
          "F",
          "F",
          "F",
          "F",
          "F",
          "F",
          "F",
          "F",
          "F",
          "F",
          "F",
          "F",
          "F",
          "F",
          "F",
          "F",
          "F",
          "F",
          "F",
          "F",
          "F",
          "F",
          "F",
          "F",
          "F",
          "F",
          "F",
          "F",
          "F",
          "F",
          "F",
          "F",
          "F",
          "F",
          "F",
          "F",
          "F",
          "F",
          "F",
          "F",
          "F",
          "F",
          "F",
          "F",
          "F",
          "F",
          "F",
          "F",
          "F",
          "F",
          "F",
          "F",
          "F",
          "F",
          "F",
          "F",
          "F",
          "F",
          "F",
          "F",
          "F",
          "F",
          "F",
          "F",
          "F",
          "F",
          "F",
          "F",
          "F",
          "F",
          "F",
          "F",
          "F",
          "F",
          "F",
          "F",
          "F",
          "F",
          "F",
          "F",
          "F",
          "F",
          "F",
          "F",
          "F",
          "F",
          "F",
          "F",
          "F",
          "F",
          "F",
          "F",
          "F",
          "F",
          "F",
          "F",
          "F",
          "F",
          "F",
          "F",
          "F",
          "F",
          "F",
          "F",
          "F",
          "F",
          "F",
          "F",
          "F",
          "F",
          "F",
          "F",
          "F",
          "F",
          "F",
          "F",
          "F",
          "F",
          "F",
          "F",
          "F",
          "F",
          "F",
          "F",
          "F",
          "F",
          "F",
          "F",
          "F",
          "F",
          "F",
          "F",
          "F",
          "F",
          "F",
          "F",
          "F",
          "F",
          "F",
          "F",
          "F",
          "F",
          "F",
          "F",
          "F",
          "F",
          "F",
          "F",
          "F",
          "F",
          "F",
          "F",
          "F",
          "F",
          "F",
          "F",
          "F",
          "F",
          "F",
          "F",
          "F",
          "F",
          "F",
          "F",
          "F",
          "F",
          "F",
          "F",
          "F",
          "F",
          "F",
          "F",
          "F",
          "F",
          "F",
          "F",
          "F",
          "F",
          "F",
          "F",
          "F",
          "F",
          "F",
          "F",
          "F",
          "F",
          "F",
          "F",
          "F",
          "F",
          "F",
          "F",
          "F",
          "F",
          "F",
          "F",
          "F",
          "F",
          "F",
          "F",
          "F",
          "F",
          "F",
          "F",
          "F",
          "F",
          "F",
          "F",
          "H",
          "H",
          "H",
          "H",
          "H",
          "H",
          "H",
          "H",
          "H",
          "H",
          "H",
          "H",
          "H",
          "H",
          "H",
          "H",
          "H",
          "H",
          "H",
          "H",
          "H",
          "H",
          "H",
          "H",
          "H",
          "H",
          "H",
          "H",
          "H",
          "H",
          "H",
          "H",
          "H",
          "H",
          "H",
          "H",
          "H",
          "H",
          "H",
          "H",
          "H",
          "H",
          "H",
          "H",
          "H",
          "H",
          "H",
          "H",
          "H",
          "H",
          "H",
          "H",
          "H",
          "H",
          "H",
          "H",
          "H",
          "H",
          "H",
          "H",
          "H",
          "H",
          "H",
          "H",
          "H",
          "H",
          "H",
          "H",
          "H",
          "H",
          "H",
          "H",
          "H",
          "H",
          "H",
          "H",
          "H",
          "H",
          "H",
          "H",
          "H",
          "H",
          "H",
          "H",
          "H",
          "H",
          "H",
          "H",
          "H",
          "H",
          "H",
          "H",
          "H",
          "H",
          "H",
          "H",
          "H",
          "H",
          "H",
          "H",
          "H",
          "H",
          "H",
          "H",
          "H",
          "H",
          "H",
          "H",
          "H",
          "H",
          "H",
          "H",
          "H",
          "H",
          "H",
          "H",
          "H",
          "H",
          "H",
          "H",
          "H",
          "H",
          "H",
          "H",
          "H",
          "H",
          "H",
          "H",
          "H",
          "H",
          "H",
          "H",
          "H",
          "H",
          "H",
          "H",
          "H",
          "H",
          "H",
          "H",
          "H",
          "H",
          "H",
          "H",
          "H",
          "H",
          "H",
          "H",
          "H",
          "H",
          "H",
          "H",
          "H",
          "H",
          "H",
          "H",
          "H",
          "H",
          "H",
          "H",
          "H",
          "H",
          "H",
          "H",
          "H",
          "H",
          "H",
          "H",
          "H",
          "H",
          "H",
          "H",
          "H",
          "H",
          "H",
          "H",
          "H",
          "H",
          "H",
          "H",
          "H",
          "H",
          "H",
          "H",
          "H",
          "H",
          "H",
          "H",
          "H",
          "H",
          "H",
          "H",
          "H",
          "H",
          "H",
          "H",
          "H",
          "H",
          "H",
          "H",
          "H",
          "H",
          "H",
          "H",
          "H",
          "H",
          "H",
          "H",
          "H",
          "H",
          "H",
          "H",
          "H",
          "H",
          "H",
          "H",
          "H",
          "H",
          "H",
          "H",
          "H",
          "H",
          "H",
          "H",
          "H",
          "H",
          "H",
          "H",
          "H",
          "H",
          "H",
          "H",
          "H",
          "H",
          "H",
          "H",
          "H",
          "I",
          "I",
          "I",
          "I",
          "I",
          "I",
          "I",
          "I",
          "I",
          "I",
          "I",
          "I",
          "I",
          "I",
          "I",
          "I",
          "I",
          "I",
          "I",
          "I",
          "I",
          "I",
          "I",
          "I",
          "J",
          "J",
          "J",
          "J",
          "J",
          "J",
          "J",
          "J",
          "J",
          "J",
          "J",
          "J",
          "J",
          "J",
          "J",
          "J",
          "J",
          "J",
          "J",
          "J",
          "J",
          "J",
          "J",
          "J",
          "J",
          "J",
          "J",
          "J",
          "J",
          "J",
          "J",
          "J",
          "J",
          "J",
          "J",
          "J",
          "J",
          "J",
          "J",
          "J",
          "J",
          "J",
          "J",
          "J",
          "J",
          "J",
          "J",
          "J",
          "J",
          "J",
          "J"
         ],
         "x0": " ",
         "xaxis": "x",
         "y": [
          0.18937501288337263,
          0.2962733497281633,
          0.17239363201951471,
          0.2232502759915796,
          0.21368541129073979,
          0.18645624531634422,
          0.2611159248388883,
          0.13774189408418083,
          0.23841335114323126,
          0.14152557928947831,
          0.2647291130842535,
          0.12803227190076394,
          0.26763110205462165,
          0.11757211076102884,
          0.22470204930136192,
          0.1971632701228153,
          0.09423661607844132,
          0.14106637786222798,
          0.15647802297519822,
          0.2666467533632287,
          0.09298262698775013,
          0.18312544373922304,
          0.22362155033735798,
          0.10855979572143601,
          0.19666018282884715,
          0.12087001015744032,
          0.2928767098372744,
          0.2740217142032597,
          0.16753672127188518,
          0.05294378878827958,
          0.19877498914144628,
          0.2224521473421978,
          0.14994835046329294,
          0.2594277596804607,
          0.1538792980176774,
          0.3552107320659256,
          0.18492746549821157,
          0.24104229855482248,
          0.09835183172829629,
          0.26209117945887195,
          0.11567523680649526,
          0.16010444324300976,
          0.09116643594335815,
          0.12266204881709855,
          0.1398015271956566,
          0.2988828498882211,
          0.08112840839794407,
          0.06783253939955304,
          0.0788337057479713,
          0.2586252282138861,
          0.16755314076920813,
          0.20521849006782658,
          0.3898030017220027,
          0.14676950533907554,
          0.12867295950266952,
          0.10892638486725958,
          0.44115388944553396,
          0.43549166874697043,
          0.13731036362424243,
          0.1594091695330279,
          0.09214980727791436,
          0.07485697790708275,
          0.3224326312574086,
          0.21861798674852592,
          0.17235199897303694,
          0.12807623768398005,
          0.41170330232841273,
          0.14180124926360269,
          0.2906547706953642,
          0.13179367955836735,
          0.10876911162805104,
          0.11381052827496355,
          0.09255274261603375,
          0.22845776330076006,
          0.09731304235187614,
          0.07457954793822491,
          0.24697413166030474,
          0.1064890059623332,
          0.3413121431302647,
          0.15618849709003765,
          0.06728126684208859,
          0.1337023080097781,
          0.186312498015936,
          0.30944344844471006,
          0.21009905434138884,
          0.2275549408154781,
          0.2073914601247401,
          0.15230333644670377,
          0.20251203269094653,
          0.07241481386144985,
          0.36534807666505714,
          0.06976211621934736,
          0.11413776990976475,
          0.39437562428216943,
          0.2581914749540189,
          0.31923921387589144,
          0.05357037852540233,
          0.30954500339593266,
          0.14462971636742128,
          0.11101826231475409,
          0.2541204672286931,
          0.17055938752186395,
          0.5973696563001354,
          0.2796629321072113,
          0.35778594869925434,
          0.08957139527139528,
          0.09147372621724092,
          0.14590342969295764,
          0.3858294091173229,
          0.11054752205116218,
          0.13336894208836414,
          0.09773032089502244,
          0.2727864885592509,
          0.10976794820182502,
          0.1483082333925102,
          0.3425828709506036,
          0.6236152287203536,
          0.22547640647214137,
          0.21528142981179338,
          0.11855579669051575,
          0.11284251568740465,
          0.1368833418516624,
          0.13744119279634884,
          0.10350747926163525,
          0.13314422335338577,
          0.17244466375385564,
          0.17945827670475603,
          0.21277722820906997,
          0.07217874814448294,
          0.3000289469584042,
          0.40207906697806783,
          0.3468675510346113,
          0.12999853955316637,
          0.21626892272599796,
          0.24598535505250366,
          0.20325189589835208,
          0.18943926465834202,
          0.30405711112036365,
          0.4237944197251527,
          0.15200908933564614,
          0.34534045662327717,
          0.12464086492914098,
          0.12778862354661283,
          0.17571379344262295,
          0.09687416457811196,
          0.10643811682650392,
          0.17566142527369083,
          0.21669015713480683,
          0.271199366688613,
          0.21426568928201425,
          0.20569332489402087,
          0.17276159131246638,
          0.20513946278039674,
          0.17794369770796348,
          0.3007619753187677,
          0.18079845200926023,
          0.35889080660625344,
          0.06494931241793933,
          0.2325037143671608,
          0.09747735732354564,
          0.19484563691756274,
          0.26626850029641885,
          0.2591303372234303,
          0.28125085195485694,
          0.1562895903076678,
          0.19059392433776418,
          0.16311083121831457,
          0.13475966461853559,
          0.18089472508142282,
          0.23446970324528063,
          0.0959141042052794,
          0.6262464289401071,
          0.07648489795918367,
          0.07170781655610038,
          0.13401552218220952,
          0.23594306295592135,
          0.4952072049941491,
          0.10849209167723928,
          0.08885758064186601,
          0.13826689647173987,
          0.018885154675313296,
          0.10832065557361178,
          0.10833018638862953,
          0.16781567648871346,
          0.23825317858305908,
          0.2076522371519601,
          0.12938525756347638,
          0.9341928447753958,
          0.3878903089983375,
          0.21308126362880597,
          0.17280296521407787,
          0.22158791948879578,
          0.16112566242250007,
          0.2939458555775823,
          0.08434995322407401,
          0.1379057877974438,
          0.2367688418155999,
          0.14824231088251594,
          0.18353536123270092,
          0.2500119820824506,
          0.22674369299718913,
          0.11390607981292844,
          0.36256198088456976,
          0.051930662906898434,
          0.1598572117756829,
          0.22227509086462657,
          0.08719453946621054,
          0.332344145822564,
          0.1942167748570875,
          0.11605184322099556,
          0.16185644573893934,
          0.22889845188261532,
          0.30049921907636457,
          0.12239037951121744,
          0.045173794800401464,
          0.16649802537550173,
          0.24426569874059822,
          0.17365321027049133,
          0.12867490214940716,
          0.07540526408039262,
          0.08532579833898701,
          0.4081300536808467,
          0.4817651526346656,
          0.1754079580019939,
          0.20919392159741595,
          0.33751942107566424,
          0.2697287436769091,
          0.2460706302979231,
          0.31724445773579024,
          0.2166597691691796,
          0.1472102937223811,
          0.17628089739510217,
          0.21962540636980776,
          0.3300823072702189,
          0.1267565133650868,
          0.14508858286651394,
          0.16988764662496744,
          0.11707490804132857,
          0.34599342512262576,
          0.14387716501476006,
          0.10599133776108977,
          0.09064940280785082,
          0.3242813417937596,
          0.9137199032816709,
          0.19965521703802164,
          0.2369353460973306,
          0.3276983214388338,
          0.05850695503903796,
          0.12023022120214326,
          0.2489926613568968,
          0.07012664508516625,
          0.12745946928500104,
          0.18602983401684034,
          0.2979339525626286,
          0.14442312110311026,
          0.07837689553496209,
          0.26604413933277116,
          0.17139872984083482,
          0.1192248754592657,
          0.2489243748490146,
          0.2109361150891449,
          0.3965739142171582,
          0.1611529997025982,
          0.13545210363032711,
          0.10062298918315686,
          0.11450160534013884,
          0.2846107546793689,
          0.10322880443320828,
          0.3978291347399556,
          0.4664735420543757,
          0.6478723835592891,
          0.0469822638364087,
          0.190738444567016,
          0.12731864314120242,
          0.30252279973943175,
          0.24822413502439564,
          0.18834908930442737,
          0.13443360718330188,
          0.45561959019651443,
          0.18798965802410314,
          0.21430001406052074,
          0.579101053339735,
          0.13179690815770811,
          0.11824129190567058,
          0.20100076084971696,
          0.13409769907475044,
          0.3353267520614933,
          0.2875468096704237,
          0.10487447711825593,
          0.09052374992368277,
          0.07458257147225195,
          0.06400407662528736,
          0.19788620742368546,
          0.5505265869122289,
          0.36569070420250044,
          0.24325416591265053,
          0.2844884713055548,
          0.14929216697242978,
          0.13139916506468072,
          0.23952638366173207,
          0.29666697110971574,
          0.10971494711998551,
          0.29164521306102387,
          0.08351977614762157,
          0.15552901502163402,
          0.21397907692856596,
          0.23820654586933804,
          0.22255017897953963,
          0.2713336292731126,
          0.18654730003465206,
          0.2235699188663991,
          0.2002632615415798,
          0.1026294543025586,
          0.3004254026484098,
          0.1628411687832534,
          0.18498635673725855,
          0.24440442796742234,
          0.39667042106970163,
          0.30088624039617445,
          0.1483013959013959,
          0.6119002270721743,
          0.1722068667491494,
          0.06965334529060596,
          0.1543741196878975,
          0.15465701380172622,
          0.19228355735854955,
          0.06918387686873147,
          0.29353286780193616,
          0.15187748597654258,
          0.3883330681381286,
          0.057290270221840287,
          0.06908788794843228,
          0.1082022034296663,
          0.08680773165568843,
          0.23415358783576362,
          0.15758196877958297,
          0.1353019177488899,
          0.10580704075376722,
          0.08800215878979249,
          0.3336982013570139,
          0.11962214405253646,
          0.1503430181394743,
          0.19884515261938934,
          0.271458139083522,
          0.4392127942988444,
          0.22716007349482126,
          0.3342985253151436,
          0.27055842672327,
          0.15585258332916668,
          0.16117414184768034,
          0.2280345651356713,
          0.1637469733488028,
          0.15817840677627118,
          0.14659578814683769,
          0.3899711462437292,
          0.18598879406050514,
          0.2873632610685169,
          0.23784907758788723,
          0.3164137570891496,
          0.17366831700080193,
          0.3065369892518477,
          0.18251178849748886,
          0.26459216751011194,
          0.22508445356318205,
          0.33130836395356195,
          0.2966361360600684,
          0.10872875672255616,
          0.5308093452499743,
          0.26171939636037156,
          0.08578009116083143,
          0.31777898365360063,
          0.20554190210707787,
          0.11643921816072558,
          0.06039789399438399,
          0.32273928316155226,
          0.258930975204966,
          0.20966707164916132,
          0.310928711373256,
          0.1736011132335071,
          0.1932234747083399,
          0.3249232834169069,
          0.27899097396633954,
          0.1607427050236593,
          0.24061494416097312,
          0.16413243309642267,
          0.25144839704674665,
          0.24165601797899228,
          0.28489305890649075,
          0.2626243807335784,
          0.2540396787997468,
          0.24917758752130653,
          0.373014515749187,
          0.2911471042335593,
          0.44399444985133796,
          0.23972770252274445,
          0.13062845003375562,
          0.421909287022169,
          0.35908127017957847,
          0.30914909942884533,
          0.1146157318592202,
          0.0932744776854552,
          0.399502779460108,
          0.32631069208486496,
          0.29060970944433534,
          0.37999843938617905,
          0.29344803713233825,
          0.33877316953841224,
          0.23835434463290428,
          0.47952442898952186,
          0.20601321816392124,
          0.21841102495881715,
          0.11136084877627296,
          0.26068181266953755,
          0.1046252617128362,
          0.26344753583105174,
          0.3432599190323886,
          0.1691488336303256,
          0.43372836671122994,
          0.26276173445361073,
          0.16607712594936708,
          0.2367064551507283,
          0.21165823965426286,
          0.09205458684306791,
          0.14745554696532379,
          0.23504556385866243,
          0.19015256171703185,
          0.13851316408750827,
          0.12352378237497964,
          0.2922216463290209,
          0.2547179266477879,
          0.16753977249394275,
          0.11178654406633554,
          0.11509272339027594,
          0.06923547765097089,
          0.14311152692766377,
          0.20830534195418846,
          0.17345541296479103,
          0.25551728098255433,
          0.2914611650320882,
          0.1923430593892753,
          0.2022271809494375,
          0.2621758876949089,
          0.6011326423440532,
          0.3988950367536543,
          0.17481383921803392,
          0.3105129041747533,
          0.1208599031734867,
          0.16006095142880739,
          0.3440359875615305,
          0.1961159096467279,
          0.2716291484151287,
          0.29025292778812334,
          0.43246488718808196,
          0.19673729717394903,
          0.17035114219086245,
          0.3669978732996956,
          0.24910864117524395,
          0.12152831762448911,
          0.10036124401913875,
          0.41401030541972633,
          0.1858096432104955,
          0.5850005653995042,
          0.2395819086235004,
          0.529266139261492,
          0.24258565808829688,
          0.2405611812659927,
          0.34505752283292773,
          0.4497253270113972,
          0.1591576947561748,
          0.11513269881556684,
          0.18687237188212447,
          0.5204404691633501,
          0.2771769731875476,
          0.3386858680272974,
          0.2296376897379357,
          0.10918692142250531,
          0.0594462191971113,
          0.09343714431325915,
          0.4404297656372355,
          0.3391180643767525,
          0.278589874282195,
          0.24679589669951577,
          0.2754626365266154,
          0.2412814108624431,
          0.162434984256659,
          0.2192545849112804,
          0.2929060433530942,
          0.142866389678548,
          0.1024042776538512,
          0.18826769387811634,
          0.33408030910098346,
          0.08787249740214756,
          0.21517514804101567,
          0.24575247660547284,
          0.09102743332178732,
          0.2022814764832275,
          0.18809527811318313,
          0.2124648178512557,
          0.21629996764172335,
          0.16828075028980863,
          0.09823666793013966,
          0.312292726428112,
          0.09897518573693949,
          0.20683487008432502,
          0.22537445099415204,
          0.25975868793179635,
          0.29097114484766556,
          0.0644266388635475,
          0.34888109986007626,
          0.196026103079184,
          0.21313707415533437,
          0.30394401401226995,
          0.2244665868979958,
          0.10189335017594514,
          0.30257269383961954,
          0.4447000000054112,
          0.2576989465269315,
          0.22635046562645939,
          0.1886625862762358,
          0.2050594376003132,
          0.2429246606532237,
          0.1251895239192236,
          0.18710169938235294,
          0.5186842587257079,
          0.16093644709240498,
          0.13774303772749077,
          0.3567021251775759,
          0.0778717267899652,
          0.13637548067814198,
          0.1972498228325065,
          0.15018008275075742,
          0.20452793943592118,
          0.07893820798005832,
          0.13759349060101106,
          0.17861782410438998,
          0.11013574486648331,
          0.17999543753847844,
          0.2847249824857433,
          0.10449618599772782,
          0.2952850592801493,
          0.2733477144870855,
          0.25701888501108466,
          0.1175065637384412,
          0.2525105749055812,
          0.4968031843561262,
          0.18255566342719634,
          0.1664604212671989,
          0.4902489912130869,
          0.18166222653417313,
          0.12672712947614992,
          0.16936875709495902,
          0.08835064211575676,
          0.24861783733554418,
          0.1368073288878646,
          0.18667172972259932,
          0.37226273302291085,
          0.3016904290547315,
          0.07196392630438148,
          0.17174109554553812,
          0.347342144539588,
          0.2978607416467898,
          0.2142466804370246,
          0.1997631434355156,
          0.11294891735777211,
          0.08376696145723338,
          0.21739625748490382,
          0.35200043040416296,
          0.23447971003563906,
          0.30737878422816145,
          0.26894167979100947,
          0.21731083699047168,
          0.28000170445950767,
          0.5417384274216027,
          0.18254451795795293,
          1.4543736945740466,
          0.29905259266848605,
          0.19313191490967482,
          0.676925812892489,
          0.6981751354200924,
          0.17651984414718405,
          0.08116316276078306,
          0.23613929647437187,
          0.11022544335573731,
          0.11837776872616633,
          0.49680703278634586,
          0.16112386194338685,
          0.20387656067088397,
          0.13150477306146374,
          0.14748602905200067,
          0.09904925090525427,
          0.4583984541196841,
          0.05404533898305085,
          0.36853383995838995,
          0.2847719124210256,
          0.09720295884142378,
          0.12041083794379512,
          0.6503637070423264,
          0.3703355866126253,
          0.45353647029844313,
          0.3438411042936027,
          0.3331311764928729,
          0.2820208527405638,
          0.2521706464754953,
          0.43052222425103936
         ],
         "y0": " ",
         "yaxis": "y"
        }
       ],
       "layout": {
        "boxmode": "group",
        "legend": {
         "tracegroupgap": 0
        },
        "margin": {
         "t": 60
        },
        "template": {
         "data": {
          "bar": [
           {
            "error_x": {
             "color": "#2a3f5f"
            },
            "error_y": {
             "color": "#2a3f5f"
            },
            "marker": {
             "line": {
              "color": "#E5ECF6",
              "width": 0.5
             },
             "pattern": {
              "fillmode": "overlay",
              "size": 10,
              "solidity": 0.2
             }
            },
            "type": "bar"
           }
          ],
          "barpolar": [
           {
            "marker": {
             "line": {
              "color": "#E5ECF6",
              "width": 0.5
             },
             "pattern": {
              "fillmode": "overlay",
              "size": 10,
              "solidity": 0.2
             }
            },
            "type": "barpolar"
           }
          ],
          "carpet": [
           {
            "aaxis": {
             "endlinecolor": "#2a3f5f",
             "gridcolor": "white",
             "linecolor": "white",
             "minorgridcolor": "white",
             "startlinecolor": "#2a3f5f"
            },
            "baxis": {
             "endlinecolor": "#2a3f5f",
             "gridcolor": "white",
             "linecolor": "white",
             "minorgridcolor": "white",
             "startlinecolor": "#2a3f5f"
            },
            "type": "carpet"
           }
          ],
          "choropleth": [
           {
            "colorbar": {
             "outlinewidth": 0,
             "ticks": ""
            },
            "type": "choropleth"
           }
          ],
          "contour": [
           {
            "colorbar": {
             "outlinewidth": 0,
             "ticks": ""
            },
            "colorscale": [
             [
              0,
              "#0d0887"
             ],
             [
              0.1111111111111111,
              "#46039f"
             ],
             [
              0.2222222222222222,
              "#7201a8"
             ],
             [
              0.3333333333333333,
              "#9c179e"
             ],
             [
              0.4444444444444444,
              "#bd3786"
             ],
             [
              0.5555555555555556,
              "#d8576b"
             ],
             [
              0.6666666666666666,
              "#ed7953"
             ],
             [
              0.7777777777777778,
              "#fb9f3a"
             ],
             [
              0.8888888888888888,
              "#fdca26"
             ],
             [
              1,
              "#f0f921"
             ]
            ],
            "type": "contour"
           }
          ],
          "contourcarpet": [
           {
            "colorbar": {
             "outlinewidth": 0,
             "ticks": ""
            },
            "type": "contourcarpet"
           }
          ],
          "heatmap": [
           {
            "colorbar": {
             "outlinewidth": 0,
             "ticks": ""
            },
            "colorscale": [
             [
              0,
              "#0d0887"
             ],
             [
              0.1111111111111111,
              "#46039f"
             ],
             [
              0.2222222222222222,
              "#7201a8"
             ],
             [
              0.3333333333333333,
              "#9c179e"
             ],
             [
              0.4444444444444444,
              "#bd3786"
             ],
             [
              0.5555555555555556,
              "#d8576b"
             ],
             [
              0.6666666666666666,
              "#ed7953"
             ],
             [
              0.7777777777777778,
              "#fb9f3a"
             ],
             [
              0.8888888888888888,
              "#fdca26"
             ],
             [
              1,
              "#f0f921"
             ]
            ],
            "type": "heatmap"
           }
          ],
          "heatmapgl": [
           {
            "colorbar": {
             "outlinewidth": 0,
             "ticks": ""
            },
            "colorscale": [
             [
              0,
              "#0d0887"
             ],
             [
              0.1111111111111111,
              "#46039f"
             ],
             [
              0.2222222222222222,
              "#7201a8"
             ],
             [
              0.3333333333333333,
              "#9c179e"
             ],
             [
              0.4444444444444444,
              "#bd3786"
             ],
             [
              0.5555555555555556,
              "#d8576b"
             ],
             [
              0.6666666666666666,
              "#ed7953"
             ],
             [
              0.7777777777777778,
              "#fb9f3a"
             ],
             [
              0.8888888888888888,
              "#fdca26"
             ],
             [
              1,
              "#f0f921"
             ]
            ],
            "type": "heatmapgl"
           }
          ],
          "histogram": [
           {
            "marker": {
             "pattern": {
              "fillmode": "overlay",
              "size": 10,
              "solidity": 0.2
             }
            },
            "type": "histogram"
           }
          ],
          "histogram2d": [
           {
            "colorbar": {
             "outlinewidth": 0,
             "ticks": ""
            },
            "colorscale": [
             [
              0,
              "#0d0887"
             ],
             [
              0.1111111111111111,
              "#46039f"
             ],
             [
              0.2222222222222222,
              "#7201a8"
             ],
             [
              0.3333333333333333,
              "#9c179e"
             ],
             [
              0.4444444444444444,
              "#bd3786"
             ],
             [
              0.5555555555555556,
              "#d8576b"
             ],
             [
              0.6666666666666666,
              "#ed7953"
             ],
             [
              0.7777777777777778,
              "#fb9f3a"
             ],
             [
              0.8888888888888888,
              "#fdca26"
             ],
             [
              1,
              "#f0f921"
             ]
            ],
            "type": "histogram2d"
           }
          ],
          "histogram2dcontour": [
           {
            "colorbar": {
             "outlinewidth": 0,
             "ticks": ""
            },
            "colorscale": [
             [
              0,
              "#0d0887"
             ],
             [
              0.1111111111111111,
              "#46039f"
             ],
             [
              0.2222222222222222,
              "#7201a8"
             ],
             [
              0.3333333333333333,
              "#9c179e"
             ],
             [
              0.4444444444444444,
              "#bd3786"
             ],
             [
              0.5555555555555556,
              "#d8576b"
             ],
             [
              0.6666666666666666,
              "#ed7953"
             ],
             [
              0.7777777777777778,
              "#fb9f3a"
             ],
             [
              0.8888888888888888,
              "#fdca26"
             ],
             [
              1,
              "#f0f921"
             ]
            ],
            "type": "histogram2dcontour"
           }
          ],
          "mesh3d": [
           {
            "colorbar": {
             "outlinewidth": 0,
             "ticks": ""
            },
            "type": "mesh3d"
           }
          ],
          "parcoords": [
           {
            "line": {
             "colorbar": {
              "outlinewidth": 0,
              "ticks": ""
             }
            },
            "type": "parcoords"
           }
          ],
          "pie": [
           {
            "automargin": true,
            "type": "pie"
           }
          ],
          "scatter": [
           {
            "fillpattern": {
             "fillmode": "overlay",
             "size": 10,
             "solidity": 0.2
            },
            "type": "scatter"
           }
          ],
          "scatter3d": [
           {
            "line": {
             "colorbar": {
              "outlinewidth": 0,
              "ticks": ""
             }
            },
            "marker": {
             "colorbar": {
              "outlinewidth": 0,
              "ticks": ""
             }
            },
            "type": "scatter3d"
           }
          ],
          "scattercarpet": [
           {
            "marker": {
             "colorbar": {
              "outlinewidth": 0,
              "ticks": ""
             }
            },
            "type": "scattercarpet"
           }
          ],
          "scattergeo": [
           {
            "marker": {
             "colorbar": {
              "outlinewidth": 0,
              "ticks": ""
             }
            },
            "type": "scattergeo"
           }
          ],
          "scattergl": [
           {
            "marker": {
             "colorbar": {
              "outlinewidth": 0,
              "ticks": ""
             }
            },
            "type": "scattergl"
           }
          ],
          "scattermapbox": [
           {
            "marker": {
             "colorbar": {
              "outlinewidth": 0,
              "ticks": ""
             }
            },
            "type": "scattermapbox"
           }
          ],
          "scatterpolar": [
           {
            "marker": {
             "colorbar": {
              "outlinewidth": 0,
              "ticks": ""
             }
            },
            "type": "scatterpolar"
           }
          ],
          "scatterpolargl": [
           {
            "marker": {
             "colorbar": {
              "outlinewidth": 0,
              "ticks": ""
             }
            },
            "type": "scatterpolargl"
           }
          ],
          "scatterternary": [
           {
            "marker": {
             "colorbar": {
              "outlinewidth": 0,
              "ticks": ""
             }
            },
            "type": "scatterternary"
           }
          ],
          "surface": [
           {
            "colorbar": {
             "outlinewidth": 0,
             "ticks": ""
            },
            "colorscale": [
             [
              0,
              "#0d0887"
             ],
             [
              0.1111111111111111,
              "#46039f"
             ],
             [
              0.2222222222222222,
              "#7201a8"
             ],
             [
              0.3333333333333333,
              "#9c179e"
             ],
             [
              0.4444444444444444,
              "#bd3786"
             ],
             [
              0.5555555555555556,
              "#d8576b"
             ],
             [
              0.6666666666666666,
              "#ed7953"
             ],
             [
              0.7777777777777778,
              "#fb9f3a"
             ],
             [
              0.8888888888888888,
              "#fdca26"
             ],
             [
              1,
              "#f0f921"
             ]
            ],
            "type": "surface"
           }
          ],
          "table": [
           {
            "cells": {
             "fill": {
              "color": "#EBF0F8"
             },
             "line": {
              "color": "white"
             }
            },
            "header": {
             "fill": {
              "color": "#C8D4E3"
             },
             "line": {
              "color": "white"
             }
            },
            "type": "table"
           }
          ]
         },
         "layout": {
          "annotationdefaults": {
           "arrowcolor": "#2a3f5f",
           "arrowhead": 0,
           "arrowwidth": 1
          },
          "autotypenumbers": "strict",
          "coloraxis": {
           "colorbar": {
            "outlinewidth": 0,
            "ticks": ""
           }
          },
          "colorscale": {
           "diverging": [
            [
             0,
             "#8e0152"
            ],
            [
             0.1,
             "#c51b7d"
            ],
            [
             0.2,
             "#de77ae"
            ],
            [
             0.3,
             "#f1b6da"
            ],
            [
             0.4,
             "#fde0ef"
            ],
            [
             0.5,
             "#f7f7f7"
            ],
            [
             0.6,
             "#e6f5d0"
            ],
            [
             0.7,
             "#b8e186"
            ],
            [
             0.8,
             "#7fbc41"
            ],
            [
             0.9,
             "#4d9221"
            ],
            [
             1,
             "#276419"
            ]
           ],
           "sequential": [
            [
             0,
             "#0d0887"
            ],
            [
             0.1111111111111111,
             "#46039f"
            ],
            [
             0.2222222222222222,
             "#7201a8"
            ],
            [
             0.3333333333333333,
             "#9c179e"
            ],
            [
             0.4444444444444444,
             "#bd3786"
            ],
            [
             0.5555555555555556,
             "#d8576b"
            ],
            [
             0.6666666666666666,
             "#ed7953"
            ],
            [
             0.7777777777777778,
             "#fb9f3a"
            ],
            [
             0.8888888888888888,
             "#fdca26"
            ],
            [
             1,
             "#f0f921"
            ]
           ],
           "sequentialminus": [
            [
             0,
             "#0d0887"
            ],
            [
             0.1111111111111111,
             "#46039f"
            ],
            [
             0.2222222222222222,
             "#7201a8"
            ],
            [
             0.3333333333333333,
             "#9c179e"
            ],
            [
             0.4444444444444444,
             "#bd3786"
            ],
            [
             0.5555555555555556,
             "#d8576b"
            ],
            [
             0.6666666666666666,
             "#ed7953"
            ],
            [
             0.7777777777777778,
             "#fb9f3a"
            ],
            [
             0.8888888888888888,
             "#fdca26"
            ],
            [
             1,
             "#f0f921"
            ]
           ]
          },
          "colorway": [
           "#636efa",
           "#EF553B",
           "#00cc96",
           "#ab63fa",
           "#FFA15A",
           "#19d3f3",
           "#FF6692",
           "#B6E880",
           "#FF97FF",
           "#FECB52"
          ],
          "font": {
           "color": "#2a3f5f"
          },
          "geo": {
           "bgcolor": "white",
           "lakecolor": "white",
           "landcolor": "#E5ECF6",
           "showlakes": true,
           "showland": true,
           "subunitcolor": "white"
          },
          "hoverlabel": {
           "align": "left"
          },
          "hovermode": "closest",
          "mapbox": {
           "style": "light"
          },
          "paper_bgcolor": "white",
          "plot_bgcolor": "#E5ECF6",
          "polar": {
           "angularaxis": {
            "gridcolor": "white",
            "linecolor": "white",
            "ticks": ""
           },
           "bgcolor": "#E5ECF6",
           "radialaxis": {
            "gridcolor": "white",
            "linecolor": "white",
            "ticks": ""
           }
          },
          "scene": {
           "xaxis": {
            "backgroundcolor": "#E5ECF6",
            "gridcolor": "white",
            "gridwidth": 2,
            "linecolor": "white",
            "showbackground": true,
            "ticks": "",
            "zerolinecolor": "white"
           },
           "yaxis": {
            "backgroundcolor": "#E5ECF6",
            "gridcolor": "white",
            "gridwidth": 2,
            "linecolor": "white",
            "showbackground": true,
            "ticks": "",
            "zerolinecolor": "white"
           },
           "zaxis": {
            "backgroundcolor": "#E5ECF6",
            "gridcolor": "white",
            "gridwidth": 2,
            "linecolor": "white",
            "showbackground": true,
            "ticks": "",
            "zerolinecolor": "white"
           }
          },
          "shapedefaults": {
           "line": {
            "color": "#2a3f5f"
           }
          },
          "ternary": {
           "aaxis": {
            "gridcolor": "white",
            "linecolor": "white",
            "ticks": ""
           },
           "baxis": {
            "gridcolor": "white",
            "linecolor": "white",
            "ticks": ""
           },
           "bgcolor": "#E5ECF6",
           "caxis": {
            "gridcolor": "white",
            "linecolor": "white",
            "ticks": ""
           }
          },
          "title": {
           "x": 0.05
          },
          "xaxis": {
           "automargin": true,
           "gridcolor": "white",
           "linecolor": "white",
           "ticks": "",
           "title": {
            "standoff": 15
           },
           "zerolinecolor": "white",
           "zerolinewidth": 2
          },
          "yaxis": {
           "automargin": true,
           "gridcolor": "white",
           "linecolor": "white",
           "ticks": "",
           "title": {
            "standoff": 15
           },
           "zerolinecolor": "white",
           "zerolinewidth": 2
          }
         }
        },
        "xaxis": {
         "anchor": "y",
         "domain": [
          0,
          1
         ],
         "title": {
          "text": "Acorn_Group"
         }
        },
        "yaxis": {
         "anchor": "x",
         "domain": [
          0,
          1
         ],
         "title": {
          "text": "KWH/hh"
         }
        }
       }
      },
      "text/html": [
       "<div>                            <div id=\"f3417ca9-c27d-4e61-99ac-92ef2034bb80\" class=\"plotly-graph-div\" style=\"height:525px; width:100%;\"></div>            <script type=\"text/javascript\">                require([\"plotly\"], function(Plotly) {                    window.PLOTLYENV=window.PLOTLYENV || {};                                    if (document.getElementById(\"f3417ca9-c27d-4e61-99ac-92ef2034bb80\")) {                    Plotly.newPlot(                        \"f3417ca9-c27d-4e61-99ac-92ef2034bb80\",                        [{\"alignmentgroup\":\"True\",\"boxpoints\":\"all\",\"hovertemplate\":\"Acorn_Group=%{x}<br>KWH/hh=%{y}<extra></extra>\",\"legendgroup\":\"\",\"marker\":{\"color\":\"#636efa\"},\"name\":\"\",\"notched\":false,\"offsetgroup\":\"\",\"orientation\":\"v\",\"showlegend\":false,\"x\":[\"F\",\"F\",\"F\",\"F\",\"F\",\"F\",\"F\",\"F\",\"F\",\"F\",\"F\",\"F\",\"F\",\"F\",\"F\",\"F\",\"F\",\"F\",\"F\",\"F\",\"F\",\"F\",\"F\",\"F\",\"F\",\"F\",\"F\",\"F\",\"F\",\"F\",\"F\",\"F\",\"F\",\"F\",\"F\",\"F\",\"F\",\"F\",\"F\",\"F\",\"F\",\"F\",\"F\",\"F\",\"F\",\"F\",\"F\",\"F\",\"F\",\"F\",\"F\",\"F\",\"F\",\"F\",\"F\",\"F\",\"F\",\"F\",\"F\",\"F\",\"F\",\"F\",\"F\",\"F\",\"F\",\"F\",\"F\",\"F\",\"F\",\"F\",\"F\",\"F\",\"F\",\"F\",\"F\",\"F\",\"F\",\"F\",\"F\",\"F\",\"F\",\"F\",\"F\",\"F\",\"F\",\"F\",\"F\",\"F\",\"F\",\"F\",\"F\",\"F\",\"F\",\"F\",\"F\",\"F\",\"F\",\"F\",\"F\",\"F\",\"F\",\"F\",\"F\",\"F\",\"F\",\"F\",\"F\",\"F\",\"F\",\"F\",\"F\",\"F\",\"F\",\"F\",\"F\",\"F\",\"F\",\"F\",\"F\",\"F\",\"F\",\"F\",\"F\",\"F\",\"F\",\"F\",\"F\",\"F\",\"F\",\"F\",\"F\",\"F\",\"F\",\"F\",\"F\",\"F\",\"F\",\"F\",\"F\",\"F\",\"F\",\"F\",\"F\",\"F\",\"F\",\"F\",\"F\",\"F\",\"F\",\"F\",\"F\",\"F\",\"F\",\"F\",\"F\",\"F\",\"F\",\"F\",\"F\",\"F\",\"F\",\"F\",\"F\",\"F\",\"F\",\"F\",\"F\",\"F\",\"F\",\"F\",\"F\",\"F\",\"F\",\"F\",\"F\",\"F\",\"F\",\"F\",\"F\",\"F\",\"F\",\"F\",\"F\",\"F\",\"F\",\"F\",\"F\",\"F\",\"F\",\"F\",\"F\",\"F\",\"F\",\"F\",\"F\",\"F\",\"F\",\"F\",\"F\",\"F\",\"F\",\"F\",\"F\",\"F\",\"F\",\"F\",\"F\",\"F\",\"F\",\"F\",\"F\",\"F\",\"F\",\"F\",\"F\",\"F\",\"F\",\"F\",\"F\",\"F\",\"F\",\"F\",\"F\",\"F\",\"F\",\"F\",\"F\",\"F\",\"F\",\"F\",\"F\",\"F\",\"F\",\"F\",\"F\",\"F\",\"F\",\"F\",\"F\",\"F\",\"F\",\"F\",\"F\",\"F\",\"F\",\"F\",\"F\",\"F\",\"F\",\"F\",\"F\",\"F\",\"F\",\"F\",\"F\",\"F\",\"F\",\"F\",\"F\",\"F\",\"F\",\"F\",\"F\",\"F\",\"F\",\"F\",\"F\",\"F\",\"F\",\"F\",\"F\",\"F\",\"F\",\"F\",\"F\",\"F\",\"F\",\"F\",\"F\",\"F\",\"F\",\"F\",\"F\",\"F\",\"F\",\"F\",\"F\",\"F\",\"F\",\"F\",\"F\",\"F\",\"H\",\"H\",\"H\",\"H\",\"H\",\"H\",\"H\",\"H\",\"H\",\"H\",\"H\",\"H\",\"H\",\"H\",\"H\",\"H\",\"H\",\"H\",\"H\",\"H\",\"H\",\"H\",\"H\",\"H\",\"H\",\"H\",\"H\",\"H\",\"H\",\"H\",\"H\",\"H\",\"H\",\"H\",\"H\",\"H\",\"H\",\"H\",\"H\",\"H\",\"H\",\"H\",\"H\",\"H\",\"H\",\"H\",\"H\",\"H\",\"H\",\"H\",\"H\",\"H\",\"H\",\"H\",\"H\",\"H\",\"H\",\"H\",\"H\",\"H\",\"H\",\"H\",\"H\",\"H\",\"H\",\"H\",\"H\",\"H\",\"H\",\"H\",\"H\",\"H\",\"H\",\"H\",\"H\",\"H\",\"H\",\"H\",\"H\",\"H\",\"H\",\"H\",\"H\",\"H\",\"H\",\"H\",\"H\",\"H\",\"H\",\"H\",\"H\",\"H\",\"H\",\"H\",\"H\",\"H\",\"H\",\"H\",\"H\",\"H\",\"H\",\"H\",\"H\",\"H\",\"H\",\"H\",\"H\",\"H\",\"H\",\"H\",\"H\",\"H\",\"H\",\"H\",\"H\",\"H\",\"H\",\"H\",\"H\",\"H\",\"H\",\"H\",\"H\",\"H\",\"H\",\"H\",\"H\",\"H\",\"H\",\"H\",\"H\",\"H\",\"H\",\"H\",\"H\",\"H\",\"H\",\"H\",\"H\",\"H\",\"H\",\"H\",\"H\",\"H\",\"H\",\"H\",\"H\",\"H\",\"H\",\"H\",\"H\",\"H\",\"H\",\"H\",\"H\",\"H\",\"H\",\"H\",\"H\",\"H\",\"H\",\"H\",\"H\",\"H\",\"H\",\"H\",\"H\",\"H\",\"H\",\"H\",\"H\",\"H\",\"H\",\"H\",\"H\",\"H\",\"H\",\"H\",\"H\",\"H\",\"H\",\"H\",\"H\",\"H\",\"H\",\"H\",\"H\",\"H\",\"H\",\"H\",\"H\",\"H\",\"H\",\"H\",\"H\",\"H\",\"H\",\"H\",\"H\",\"H\",\"H\",\"H\",\"H\",\"H\",\"H\",\"H\",\"H\",\"H\",\"H\",\"H\",\"H\",\"H\",\"H\",\"H\",\"H\",\"H\",\"H\",\"H\",\"H\",\"H\",\"H\",\"H\",\"H\",\"H\",\"H\",\"H\",\"H\",\"H\",\"H\",\"H\",\"H\",\"H\",\"H\",\"H\",\"H\",\"H\",\"H\",\"I\",\"I\",\"I\",\"I\",\"I\",\"I\",\"I\",\"I\",\"I\",\"I\",\"I\",\"I\",\"I\",\"I\",\"I\",\"I\",\"I\",\"I\",\"I\",\"I\",\"I\",\"I\",\"I\",\"I\",\"J\",\"J\",\"J\",\"J\",\"J\",\"J\",\"J\",\"J\",\"J\",\"J\",\"J\",\"J\",\"J\",\"J\",\"J\",\"J\",\"J\",\"J\",\"J\",\"J\",\"J\",\"J\",\"J\",\"J\",\"J\",\"J\",\"J\",\"J\",\"J\",\"J\",\"J\",\"J\",\"J\",\"J\",\"J\",\"J\",\"J\",\"J\",\"J\",\"J\",\"J\",\"J\",\"J\",\"J\",\"J\",\"J\",\"J\",\"J\",\"J\",\"J\",\"J\"],\"x0\":\" \",\"xaxis\":\"x\",\"y\":[0.18937501288337263,0.2962733497281633,0.17239363201951471,0.2232502759915796,0.21368541129073979,0.18645624531634422,0.2611159248388883,0.13774189408418083,0.23841335114323126,0.14152557928947831,0.2647291130842535,0.12803227190076394,0.26763110205462165,0.11757211076102884,0.22470204930136192,0.1971632701228153,0.09423661607844132,0.14106637786222798,0.15647802297519822,0.2666467533632287,0.09298262698775013,0.18312544373922304,0.22362155033735798,0.10855979572143601,0.19666018282884715,0.12087001015744032,0.2928767098372744,0.2740217142032597,0.16753672127188518,0.05294378878827958,0.19877498914144628,0.2224521473421978,0.14994835046329294,0.2594277596804607,0.1538792980176774,0.3552107320659256,0.18492746549821157,0.24104229855482248,0.09835183172829629,0.26209117945887195,0.11567523680649526,0.16010444324300976,0.09116643594335815,0.12266204881709855,0.1398015271956566,0.2988828498882211,0.08112840839794407,0.06783253939955304,0.0788337057479713,0.2586252282138861,0.16755314076920813,0.20521849006782658,0.3898030017220027,0.14676950533907554,0.12867295950266952,0.10892638486725958,0.44115388944553396,0.43549166874697043,0.13731036362424243,0.1594091695330279,0.09214980727791436,0.07485697790708275,0.3224326312574086,0.21861798674852592,0.17235199897303694,0.12807623768398005,0.41170330232841273,0.14180124926360269,0.2906547706953642,0.13179367955836735,0.10876911162805104,0.11381052827496355,0.09255274261603375,0.22845776330076006,0.09731304235187614,0.07457954793822491,0.24697413166030474,0.1064890059623332,0.3413121431302647,0.15618849709003765,0.06728126684208859,0.1337023080097781,0.186312498015936,0.30944344844471006,0.21009905434138884,0.2275549408154781,0.2073914601247401,0.15230333644670377,0.20251203269094653,0.07241481386144985,0.36534807666505714,0.06976211621934736,0.11413776990976475,0.39437562428216943,0.2581914749540189,0.31923921387589144,0.05357037852540233,0.30954500339593266,0.14462971636742128,0.11101826231475409,0.2541204672286931,0.17055938752186395,0.5973696563001354,0.2796629321072113,0.35778594869925434,0.08957139527139528,0.09147372621724092,0.14590342969295764,0.3858294091173229,0.11054752205116218,0.13336894208836414,0.09773032089502244,0.2727864885592509,0.10976794820182502,0.1483082333925102,0.3425828709506036,0.6236152287203536,0.22547640647214137,0.21528142981179338,0.11855579669051575,0.11284251568740465,0.1368833418516624,0.13744119279634884,0.10350747926163525,0.13314422335338577,0.17244466375385564,0.17945827670475603,0.21277722820906997,0.07217874814448294,0.3000289469584042,0.40207906697806783,0.3468675510346113,0.12999853955316637,0.21626892272599796,0.24598535505250366,0.20325189589835208,0.18943926465834202,0.30405711112036365,0.4237944197251527,0.15200908933564614,0.34534045662327717,0.12464086492914098,0.12778862354661283,0.17571379344262295,0.09687416457811196,0.10643811682650392,0.17566142527369083,0.21669015713480683,0.271199366688613,0.21426568928201425,0.20569332489402087,0.17276159131246638,0.20513946278039674,0.17794369770796348,0.3007619753187677,0.18079845200926023,0.35889080660625344,0.06494931241793933,0.2325037143671608,0.09747735732354564,0.19484563691756274,0.26626850029641885,0.2591303372234303,0.28125085195485694,0.1562895903076678,0.19059392433776418,0.16311083121831457,0.13475966461853559,0.18089472508142282,0.23446970324528063,0.0959141042052794,0.6262464289401071,0.07648489795918367,0.07170781655610038,0.13401552218220952,0.23594306295592135,0.4952072049941491,0.10849209167723928,0.08885758064186601,0.13826689647173987,0.018885154675313296,0.10832065557361178,0.10833018638862953,0.16781567648871346,0.23825317858305908,0.2076522371519601,0.12938525756347638,0.9341928447753958,0.3878903089983375,0.21308126362880597,0.17280296521407787,0.22158791948879578,0.16112566242250007,0.2939458555775823,0.08434995322407401,0.1379057877974438,0.2367688418155999,0.14824231088251594,0.18353536123270092,0.2500119820824506,0.22674369299718913,0.11390607981292844,0.36256198088456976,0.051930662906898434,0.1598572117756829,0.22227509086462657,0.08719453946621054,0.332344145822564,0.1942167748570875,0.11605184322099556,0.16185644573893934,0.22889845188261532,0.30049921907636457,0.12239037951121744,0.045173794800401464,0.16649802537550173,0.24426569874059822,0.17365321027049133,0.12867490214940716,0.07540526408039262,0.08532579833898701,0.4081300536808467,0.4817651526346656,0.1754079580019939,0.20919392159741595,0.33751942107566424,0.2697287436769091,0.2460706302979231,0.31724445773579024,0.2166597691691796,0.1472102937223811,0.17628089739510217,0.21962540636980776,0.3300823072702189,0.1267565133650868,0.14508858286651394,0.16988764662496744,0.11707490804132857,0.34599342512262576,0.14387716501476006,0.10599133776108977,0.09064940280785082,0.3242813417937596,0.9137199032816709,0.19965521703802164,0.2369353460973306,0.3276983214388338,0.05850695503903796,0.12023022120214326,0.2489926613568968,0.07012664508516625,0.12745946928500104,0.18602983401684034,0.2979339525626286,0.14442312110311026,0.07837689553496209,0.26604413933277116,0.17139872984083482,0.1192248754592657,0.2489243748490146,0.2109361150891449,0.3965739142171582,0.1611529997025982,0.13545210363032711,0.10062298918315686,0.11450160534013884,0.2846107546793689,0.10322880443320828,0.3978291347399556,0.4664735420543757,0.6478723835592891,0.0469822638364087,0.190738444567016,0.12731864314120242,0.30252279973943175,0.24822413502439564,0.18834908930442737,0.13443360718330188,0.45561959019651443,0.18798965802410314,0.21430001406052074,0.579101053339735,0.13179690815770811,0.11824129190567058,0.20100076084971696,0.13409769907475044,0.3353267520614933,0.2875468096704237,0.10487447711825593,0.09052374992368277,0.07458257147225195,0.06400407662528736,0.19788620742368546,0.5505265869122289,0.36569070420250044,0.24325416591265053,0.2844884713055548,0.14929216697242978,0.13139916506468072,0.23952638366173207,0.29666697110971574,0.10971494711998551,0.29164521306102387,0.08351977614762157,0.15552901502163402,0.21397907692856596,0.23820654586933804,0.22255017897953963,0.2713336292731126,0.18654730003465206,0.2235699188663991,0.2002632615415798,0.1026294543025586,0.3004254026484098,0.1628411687832534,0.18498635673725855,0.24440442796742234,0.39667042106970163,0.30088624039617445,0.1483013959013959,0.6119002270721743,0.1722068667491494,0.06965334529060596,0.1543741196878975,0.15465701380172622,0.19228355735854955,0.06918387686873147,0.29353286780193616,0.15187748597654258,0.3883330681381286,0.057290270221840287,0.06908788794843228,0.1082022034296663,0.08680773165568843,0.23415358783576362,0.15758196877958297,0.1353019177488899,0.10580704075376722,0.08800215878979249,0.3336982013570139,0.11962214405253646,0.1503430181394743,0.19884515261938934,0.271458139083522,0.4392127942988444,0.22716007349482126,0.3342985253151436,0.27055842672327,0.15585258332916668,0.16117414184768034,0.2280345651356713,0.1637469733488028,0.15817840677627118,0.14659578814683769,0.3899711462437292,0.18598879406050514,0.2873632610685169,0.23784907758788723,0.3164137570891496,0.17366831700080193,0.3065369892518477,0.18251178849748886,0.26459216751011194,0.22508445356318205,0.33130836395356195,0.2966361360600684,0.10872875672255616,0.5308093452499743,0.26171939636037156,0.08578009116083143,0.31777898365360063,0.20554190210707787,0.11643921816072558,0.06039789399438399,0.32273928316155226,0.258930975204966,0.20966707164916132,0.310928711373256,0.1736011132335071,0.1932234747083399,0.3249232834169069,0.27899097396633954,0.1607427050236593,0.24061494416097312,0.16413243309642267,0.25144839704674665,0.24165601797899228,0.28489305890649075,0.2626243807335784,0.2540396787997468,0.24917758752130653,0.373014515749187,0.2911471042335593,0.44399444985133796,0.23972770252274445,0.13062845003375562,0.421909287022169,0.35908127017957847,0.30914909942884533,0.1146157318592202,0.0932744776854552,0.399502779460108,0.32631069208486496,0.29060970944433534,0.37999843938617905,0.29344803713233825,0.33877316953841224,0.23835434463290428,0.47952442898952186,0.20601321816392124,0.21841102495881715,0.11136084877627296,0.26068181266953755,0.1046252617128362,0.26344753583105174,0.3432599190323886,0.1691488336303256,0.43372836671122994,0.26276173445361073,0.16607712594936708,0.2367064551507283,0.21165823965426286,0.09205458684306791,0.14745554696532379,0.23504556385866243,0.19015256171703185,0.13851316408750827,0.12352378237497964,0.2922216463290209,0.2547179266477879,0.16753977249394275,0.11178654406633554,0.11509272339027594,0.06923547765097089,0.14311152692766377,0.20830534195418846,0.17345541296479103,0.25551728098255433,0.2914611650320882,0.1923430593892753,0.2022271809494375,0.2621758876949089,0.6011326423440532,0.3988950367536543,0.17481383921803392,0.3105129041747533,0.1208599031734867,0.16006095142880739,0.3440359875615305,0.1961159096467279,0.2716291484151287,0.29025292778812334,0.43246488718808196,0.19673729717394903,0.17035114219086245,0.3669978732996956,0.24910864117524395,0.12152831762448911,0.10036124401913875,0.41401030541972633,0.1858096432104955,0.5850005653995042,0.2395819086235004,0.529266139261492,0.24258565808829688,0.2405611812659927,0.34505752283292773,0.4497253270113972,0.1591576947561748,0.11513269881556684,0.18687237188212447,0.5204404691633501,0.2771769731875476,0.3386858680272974,0.2296376897379357,0.10918692142250531,0.0594462191971113,0.09343714431325915,0.4404297656372355,0.3391180643767525,0.278589874282195,0.24679589669951577,0.2754626365266154,0.2412814108624431,0.162434984256659,0.2192545849112804,0.2929060433530942,0.142866389678548,0.1024042776538512,0.18826769387811634,0.33408030910098346,0.08787249740214756,0.21517514804101567,0.24575247660547284,0.09102743332178732,0.2022814764832275,0.18809527811318313,0.2124648178512557,0.21629996764172335,0.16828075028980863,0.09823666793013966,0.312292726428112,0.09897518573693949,0.20683487008432502,0.22537445099415204,0.25975868793179635,0.29097114484766556,0.0644266388635475,0.34888109986007626,0.196026103079184,0.21313707415533437,0.30394401401226995,0.2244665868979958,0.10189335017594514,0.30257269383961954,0.4447000000054112,0.2576989465269315,0.22635046562645939,0.1886625862762358,0.2050594376003132,0.2429246606532237,0.1251895239192236,0.18710169938235294,0.5186842587257079,0.16093644709240498,0.13774303772749077,0.3567021251775759,0.0778717267899652,0.13637548067814198,0.1972498228325065,0.15018008275075742,0.20452793943592118,0.07893820798005832,0.13759349060101106,0.17861782410438998,0.11013574486648331,0.17999543753847844,0.2847249824857433,0.10449618599772782,0.2952850592801493,0.2733477144870855,0.25701888501108466,0.1175065637384412,0.2525105749055812,0.4968031843561262,0.18255566342719634,0.1664604212671989,0.4902489912130869,0.18166222653417313,0.12672712947614992,0.16936875709495902,0.08835064211575676,0.24861783733554418,0.1368073288878646,0.18667172972259932,0.37226273302291085,0.3016904290547315,0.07196392630438148,0.17174109554553812,0.347342144539588,0.2978607416467898,0.2142466804370246,0.1997631434355156,0.11294891735777211,0.08376696145723338,0.21739625748490382,0.35200043040416296,0.23447971003563906,0.30737878422816145,0.26894167979100947,0.21731083699047168,0.28000170445950767,0.5417384274216027,0.18254451795795293,1.4543736945740466,0.29905259266848605,0.19313191490967482,0.676925812892489,0.6981751354200924,0.17651984414718405,0.08116316276078306,0.23613929647437187,0.11022544335573731,0.11837776872616633,0.49680703278634586,0.16112386194338685,0.20387656067088397,0.13150477306146374,0.14748602905200067,0.09904925090525427,0.4583984541196841,0.05404533898305085,0.36853383995838995,0.2847719124210256,0.09720295884142378,0.12041083794379512,0.6503637070423264,0.3703355866126253,0.45353647029844313,0.3438411042936027,0.3331311764928729,0.2820208527405638,0.2521706464754953,0.43052222425103936],\"y0\":\" \",\"yaxis\":\"y\",\"type\":\"box\"}],                        {\"template\":{\"data\":{\"histogram2dcontour\":[{\"type\":\"histogram2dcontour\",\"colorbar\":{\"outlinewidth\":0,\"ticks\":\"\"},\"colorscale\":[[0.0,\"#0d0887\"],[0.1111111111111111,\"#46039f\"],[0.2222222222222222,\"#7201a8\"],[0.3333333333333333,\"#9c179e\"],[0.4444444444444444,\"#bd3786\"],[0.5555555555555556,\"#d8576b\"],[0.6666666666666666,\"#ed7953\"],[0.7777777777777778,\"#fb9f3a\"],[0.8888888888888888,\"#fdca26\"],[1.0,\"#f0f921\"]]}],\"choropleth\":[{\"type\":\"choropleth\",\"colorbar\":{\"outlinewidth\":0,\"ticks\":\"\"}}],\"histogram2d\":[{\"type\":\"histogram2d\",\"colorbar\":{\"outlinewidth\":0,\"ticks\":\"\"},\"colorscale\":[[0.0,\"#0d0887\"],[0.1111111111111111,\"#46039f\"],[0.2222222222222222,\"#7201a8\"],[0.3333333333333333,\"#9c179e\"],[0.4444444444444444,\"#bd3786\"],[0.5555555555555556,\"#d8576b\"],[0.6666666666666666,\"#ed7953\"],[0.7777777777777778,\"#fb9f3a\"],[0.8888888888888888,\"#fdca26\"],[1.0,\"#f0f921\"]]}],\"heatmap\":[{\"type\":\"heatmap\",\"colorbar\":{\"outlinewidth\":0,\"ticks\":\"\"},\"colorscale\":[[0.0,\"#0d0887\"],[0.1111111111111111,\"#46039f\"],[0.2222222222222222,\"#7201a8\"],[0.3333333333333333,\"#9c179e\"],[0.4444444444444444,\"#bd3786\"],[0.5555555555555556,\"#d8576b\"],[0.6666666666666666,\"#ed7953\"],[0.7777777777777778,\"#fb9f3a\"],[0.8888888888888888,\"#fdca26\"],[1.0,\"#f0f921\"]]}],\"heatmapgl\":[{\"type\":\"heatmapgl\",\"colorbar\":{\"outlinewidth\":0,\"ticks\":\"\"},\"colorscale\":[[0.0,\"#0d0887\"],[0.1111111111111111,\"#46039f\"],[0.2222222222222222,\"#7201a8\"],[0.3333333333333333,\"#9c179e\"],[0.4444444444444444,\"#bd3786\"],[0.5555555555555556,\"#d8576b\"],[0.6666666666666666,\"#ed7953\"],[0.7777777777777778,\"#fb9f3a\"],[0.8888888888888888,\"#fdca26\"],[1.0,\"#f0f921\"]]}],\"contourcarpet\":[{\"type\":\"contourcarpet\",\"colorbar\":{\"outlinewidth\":0,\"ticks\":\"\"}}],\"contour\":[{\"type\":\"contour\",\"colorbar\":{\"outlinewidth\":0,\"ticks\":\"\"},\"colorscale\":[[0.0,\"#0d0887\"],[0.1111111111111111,\"#46039f\"],[0.2222222222222222,\"#7201a8\"],[0.3333333333333333,\"#9c179e\"],[0.4444444444444444,\"#bd3786\"],[0.5555555555555556,\"#d8576b\"],[0.6666666666666666,\"#ed7953\"],[0.7777777777777778,\"#fb9f3a\"],[0.8888888888888888,\"#fdca26\"],[1.0,\"#f0f921\"]]}],\"surface\":[{\"type\":\"surface\",\"colorbar\":{\"outlinewidth\":0,\"ticks\":\"\"},\"colorscale\":[[0.0,\"#0d0887\"],[0.1111111111111111,\"#46039f\"],[0.2222222222222222,\"#7201a8\"],[0.3333333333333333,\"#9c179e\"],[0.4444444444444444,\"#bd3786\"],[0.5555555555555556,\"#d8576b\"],[0.6666666666666666,\"#ed7953\"],[0.7777777777777778,\"#fb9f3a\"],[0.8888888888888888,\"#fdca26\"],[1.0,\"#f0f921\"]]}],\"mesh3d\":[{\"type\":\"mesh3d\",\"colorbar\":{\"outlinewidth\":0,\"ticks\":\"\"}}],\"scatter\":[{\"fillpattern\":{\"fillmode\":\"overlay\",\"size\":10,\"solidity\":0.2},\"type\":\"scatter\"}],\"parcoords\":[{\"type\":\"parcoords\",\"line\":{\"colorbar\":{\"outlinewidth\":0,\"ticks\":\"\"}}}],\"scatterpolargl\":[{\"type\":\"scatterpolargl\",\"marker\":{\"colorbar\":{\"outlinewidth\":0,\"ticks\":\"\"}}}],\"bar\":[{\"error_x\":{\"color\":\"#2a3f5f\"},\"error_y\":{\"color\":\"#2a3f5f\"},\"marker\":{\"line\":{\"color\":\"#E5ECF6\",\"width\":0.5},\"pattern\":{\"fillmode\":\"overlay\",\"size\":10,\"solidity\":0.2}},\"type\":\"bar\"}],\"scattergeo\":[{\"type\":\"scattergeo\",\"marker\":{\"colorbar\":{\"outlinewidth\":0,\"ticks\":\"\"}}}],\"scatterpolar\":[{\"type\":\"scatterpolar\",\"marker\":{\"colorbar\":{\"outlinewidth\":0,\"ticks\":\"\"}}}],\"histogram\":[{\"marker\":{\"pattern\":{\"fillmode\":\"overlay\",\"size\":10,\"solidity\":0.2}},\"type\":\"histogram\"}],\"scattergl\":[{\"type\":\"scattergl\",\"marker\":{\"colorbar\":{\"outlinewidth\":0,\"ticks\":\"\"}}}],\"scatter3d\":[{\"type\":\"scatter3d\",\"line\":{\"colorbar\":{\"outlinewidth\":0,\"ticks\":\"\"}},\"marker\":{\"colorbar\":{\"outlinewidth\":0,\"ticks\":\"\"}}}],\"scattermapbox\":[{\"type\":\"scattermapbox\",\"marker\":{\"colorbar\":{\"outlinewidth\":0,\"ticks\":\"\"}}}],\"scatterternary\":[{\"type\":\"scatterternary\",\"marker\":{\"colorbar\":{\"outlinewidth\":0,\"ticks\":\"\"}}}],\"scattercarpet\":[{\"type\":\"scattercarpet\",\"marker\":{\"colorbar\":{\"outlinewidth\":0,\"ticks\":\"\"}}}],\"carpet\":[{\"aaxis\":{\"endlinecolor\":\"#2a3f5f\",\"gridcolor\":\"white\",\"linecolor\":\"white\",\"minorgridcolor\":\"white\",\"startlinecolor\":\"#2a3f5f\"},\"baxis\":{\"endlinecolor\":\"#2a3f5f\",\"gridcolor\":\"white\",\"linecolor\":\"white\",\"minorgridcolor\":\"white\",\"startlinecolor\":\"#2a3f5f\"},\"type\":\"carpet\"}],\"table\":[{\"cells\":{\"fill\":{\"color\":\"#EBF0F8\"},\"line\":{\"color\":\"white\"}},\"header\":{\"fill\":{\"color\":\"#C8D4E3\"},\"line\":{\"color\":\"white\"}},\"type\":\"table\"}],\"barpolar\":[{\"marker\":{\"line\":{\"color\":\"#E5ECF6\",\"width\":0.5},\"pattern\":{\"fillmode\":\"overlay\",\"size\":10,\"solidity\":0.2}},\"type\":\"barpolar\"}],\"pie\":[{\"automargin\":true,\"type\":\"pie\"}]},\"layout\":{\"autotypenumbers\":\"strict\",\"colorway\":[\"#636efa\",\"#EF553B\",\"#00cc96\",\"#ab63fa\",\"#FFA15A\",\"#19d3f3\",\"#FF6692\",\"#B6E880\",\"#FF97FF\",\"#FECB52\"],\"font\":{\"color\":\"#2a3f5f\"},\"hovermode\":\"closest\",\"hoverlabel\":{\"align\":\"left\"},\"paper_bgcolor\":\"white\",\"plot_bgcolor\":\"#E5ECF6\",\"polar\":{\"bgcolor\":\"#E5ECF6\",\"angularaxis\":{\"gridcolor\":\"white\",\"linecolor\":\"white\",\"ticks\":\"\"},\"radialaxis\":{\"gridcolor\":\"white\",\"linecolor\":\"white\",\"ticks\":\"\"}},\"ternary\":{\"bgcolor\":\"#E5ECF6\",\"aaxis\":{\"gridcolor\":\"white\",\"linecolor\":\"white\",\"ticks\":\"\"},\"baxis\":{\"gridcolor\":\"white\",\"linecolor\":\"white\",\"ticks\":\"\"},\"caxis\":{\"gridcolor\":\"white\",\"linecolor\":\"white\",\"ticks\":\"\"}},\"coloraxis\":{\"colorbar\":{\"outlinewidth\":0,\"ticks\":\"\"}},\"colorscale\":{\"sequential\":[[0.0,\"#0d0887\"],[0.1111111111111111,\"#46039f\"],[0.2222222222222222,\"#7201a8\"],[0.3333333333333333,\"#9c179e\"],[0.4444444444444444,\"#bd3786\"],[0.5555555555555556,\"#d8576b\"],[0.6666666666666666,\"#ed7953\"],[0.7777777777777778,\"#fb9f3a\"],[0.8888888888888888,\"#fdca26\"],[1.0,\"#f0f921\"]],\"sequentialminus\":[[0.0,\"#0d0887\"],[0.1111111111111111,\"#46039f\"],[0.2222222222222222,\"#7201a8\"],[0.3333333333333333,\"#9c179e\"],[0.4444444444444444,\"#bd3786\"],[0.5555555555555556,\"#d8576b\"],[0.6666666666666666,\"#ed7953\"],[0.7777777777777778,\"#fb9f3a\"],[0.8888888888888888,\"#fdca26\"],[1.0,\"#f0f921\"]],\"diverging\":[[0,\"#8e0152\"],[0.1,\"#c51b7d\"],[0.2,\"#de77ae\"],[0.3,\"#f1b6da\"],[0.4,\"#fde0ef\"],[0.5,\"#f7f7f7\"],[0.6,\"#e6f5d0\"],[0.7,\"#b8e186\"],[0.8,\"#7fbc41\"],[0.9,\"#4d9221\"],[1,\"#276419\"]]},\"xaxis\":{\"gridcolor\":\"white\",\"linecolor\":\"white\",\"ticks\":\"\",\"title\":{\"standoff\":15},\"zerolinecolor\":\"white\",\"automargin\":true,\"zerolinewidth\":2},\"yaxis\":{\"gridcolor\":\"white\",\"linecolor\":\"white\",\"ticks\":\"\",\"title\":{\"standoff\":15},\"zerolinecolor\":\"white\",\"automargin\":true,\"zerolinewidth\":2},\"scene\":{\"xaxis\":{\"backgroundcolor\":\"#E5ECF6\",\"gridcolor\":\"white\",\"linecolor\":\"white\",\"showbackground\":true,\"ticks\":\"\",\"zerolinecolor\":\"white\",\"gridwidth\":2},\"yaxis\":{\"backgroundcolor\":\"#E5ECF6\",\"gridcolor\":\"white\",\"linecolor\":\"white\",\"showbackground\":true,\"ticks\":\"\",\"zerolinecolor\":\"white\",\"gridwidth\":2},\"zaxis\":{\"backgroundcolor\":\"#E5ECF6\",\"gridcolor\":\"white\",\"linecolor\":\"white\",\"showbackground\":true,\"ticks\":\"\",\"zerolinecolor\":\"white\",\"gridwidth\":2}},\"shapedefaults\":{\"line\":{\"color\":\"#2a3f5f\"}},\"annotationdefaults\":{\"arrowcolor\":\"#2a3f5f\",\"arrowhead\":0,\"arrowwidth\":1},\"geo\":{\"bgcolor\":\"white\",\"landcolor\":\"#E5ECF6\",\"subunitcolor\":\"white\",\"showland\":true,\"showlakes\":true,\"lakecolor\":\"white\"},\"title\":{\"x\":0.05},\"mapbox\":{\"style\":\"light\"}}},\"xaxis\":{\"anchor\":\"y\",\"domain\":[0.0,1.0],\"title\":{\"text\":\"Acorn_Group\"}},\"yaxis\":{\"anchor\":\"x\",\"domain\":[0.0,1.0],\"title\":{\"text\":\"KWH/hh\"}},\"legend\":{\"tracegroupgap\":0},\"margin\":{\"t\":60},\"boxmode\":\"group\"},                        {\"responsive\": true}                    ).then(function(){\n",
       "                            \n",
       "var gd = document.getElementById('f3417ca9-c27d-4e61-99ac-92ef2034bb80');\n",
       "var x = new MutationObserver(function (mutations, observer) {{\n",
       "        var display = window.getComputedStyle(gd).display;\n",
       "        if (!display || display === 'none') {{\n",
       "            console.log([gd, 'removed!']);\n",
       "            Plotly.purge(gd);\n",
       "            observer.disconnect();\n",
       "        }}\n",
       "}});\n",
       "\n",
       "// Listen for the removal of the full notebook cells\n",
       "var notebookContainer = gd.closest('#notebook-container');\n",
       "if (notebookContainer) {{\n",
       "    x.observe(notebookContainer, {childList: true});\n",
       "}}\n",
       "\n",
       "// Listen for the clearing of the current output cell\n",
       "var outputEl = gd.closest('.output');\n",
       "if (outputEl) {{\n",
       "    x.observe(outputEl, {childList: true});\n",
       "}}\n",
       "\n",
       "                        })                };                });            </script>        </div>"
      ]
     },
     "metadata": {},
     "output_type": "display_data"
    }
   ],
   "source": [
    "import plotly.express as px\n",
    "fig = px.box(cat3, x=\"Acorn_Group\", y=\"KWH/hh\", points='all')\n",
    "fig.show()"
   ]
  },
  {
   "cell_type": "markdown",
   "id": "703fe157",
   "metadata": {},
   "source": [
    "Category 4 "
   ]
  },
  {
   "cell_type": "code",
   "execution_count": 36,
   "id": "0137b184",
   "metadata": {},
   "outputs": [],
   "source": [
    "dfK = pd.read_csv('https://storage.googleapis.com/energy_usage_prediction_903/df_K_v1.csv')\n",
    "dfL = pd.read_csv('https://storage.googleapis.com/energy_usage_prediction_903/df_L_v1.csv')\n",
    "dfM = pd.read_csv('https://storage.googleapis.com/energy_usage_prediction_903/df_M_v1.csv')\n",
    "dfN = pd.read_csv('https://storage.googleapis.com/energy_usage_prediction_903/df_N_v1.csv')"
   ]
  },
  {
   "cell_type": "code",
   "execution_count": 37,
   "id": "0c88aa3b",
   "metadata": {},
   "outputs": [],
   "source": [
    "dfKhouse =dfK.groupby(by=[\"LCLid\", \"Acorn_Group\"]).mean().reset_index()\n",
    "dfLhouse =dfL.groupby(by=[\"LCLid\", \"Acorn_Group\"]).mean().reset_index()\n",
    "dfMhouse =dfM.groupby(by=[\"LCLid\", \"Acorn_Group\"]).mean().reset_index()\n",
    "dfNhouse =dfN.groupby(by=[\"LCLid\", \"Acorn_Group\"]).mean().reset_index()\n"
   ]
  },
  {
   "cell_type": "code",
   "execution_count": 38,
   "id": "7bffaebf",
   "metadata": {},
   "outputs": [],
   "source": [
    "frames4 = [dfKhouse, dfLhouse, dfMhouse, dfNhouse]\n",
    "\n",
    "cat4 = pd.concat(frames4)"
   ]
  },
  {
   "cell_type": "code",
   "execution_count": 39,
   "id": "71de82fb",
   "metadata": {},
   "outputs": [
    {
     "data": {
      "application/vnd.plotly.v1+json": {
       "config": {
        "plotlyServerURL": "https://plot.ly"
       },
       "data": [
        {
         "alignmentgroup": "True",
         "boxpoints": "all",
         "hovertemplate": "Acorn_Group=%{x}<br>KWH/hh=%{y}<extra></extra>",
         "legendgroup": "",
         "marker": {
          "color": "#636efa"
         },
         "name": "",
         "notched": false,
         "offsetgroup": "",
         "orientation": "v",
         "showlegend": false,
         "type": "box",
         "x": [
          "K",
          "K",
          "K",
          "K",
          "K",
          "K",
          "K",
          "K",
          "K",
          "K",
          "K",
          "K",
          "K",
          "K",
          "K",
          "K",
          "K",
          "K",
          "K",
          "K",
          "K",
          "K",
          "K",
          "K",
          "K",
          "K",
          "K",
          "K",
          "K",
          "K",
          "K",
          "K",
          "K",
          "K",
          "K",
          "K",
          "K",
          "K",
          "K",
          "K",
          "K",
          "K",
          "K",
          "K",
          "K",
          "K",
          "K",
          "K",
          "K",
          "K",
          "K",
          "K",
          "K",
          "K",
          "K",
          "K",
          "K",
          "K",
          "K",
          "K",
          "K",
          "K",
          "K",
          "K",
          "K",
          "K",
          "K",
          "K",
          "L",
          "L",
          "L",
          "L",
          "L",
          "L",
          "L",
          "L",
          "L",
          "L",
          "L",
          "L",
          "L",
          "L",
          "L",
          "L",
          "L",
          "L",
          "L",
          "L",
          "L",
          "L",
          "L",
          "L",
          "L",
          "L",
          "L",
          "L",
          "L",
          "L",
          "L",
          "L",
          "L",
          "L",
          "L",
          "L",
          "L",
          "L",
          "L",
          "L",
          "L",
          "L",
          "L",
          "L",
          "L",
          "L",
          "L",
          "L",
          "L",
          "L",
          "L",
          "L",
          "L",
          "L",
          "L",
          "L",
          "L",
          "L",
          "L",
          "L",
          "L",
          "L",
          "L",
          "L",
          "L",
          "L",
          "L",
          "L",
          "L",
          "L",
          "L",
          "L",
          "L",
          "L",
          "L",
          "L",
          "L",
          "L",
          "L",
          "L",
          "L",
          "L",
          "L",
          "L",
          "L",
          "L",
          "L",
          "L",
          "L",
          "L",
          "L",
          "L",
          "L",
          "L",
          "L",
          "L",
          "L",
          "L",
          "L",
          "L",
          "L",
          "L",
          "L",
          "L",
          "L",
          "L",
          "L",
          "L",
          "L",
          "L",
          "L",
          "L",
          "L",
          "L",
          "L",
          "L",
          "L",
          "L",
          "L",
          "L",
          "L",
          "L",
          "L",
          "L",
          "L",
          "L",
          "L",
          "L",
          "L",
          "L",
          "L",
          "L",
          "L",
          "L",
          "L",
          "L",
          "L",
          "L",
          "L",
          "L",
          "L",
          "L",
          "L",
          "L",
          "L",
          "L",
          "L",
          "L",
          "L",
          "L",
          "L",
          "L",
          "L",
          "L",
          "L",
          "L",
          "L",
          "L",
          "L",
          "L",
          "L",
          "L",
          "L",
          "L",
          "L",
          "L",
          "L",
          "L",
          "L",
          "L",
          "L",
          "L",
          "L",
          "L",
          "M",
          "M",
          "M",
          "M",
          "M",
          "M",
          "M",
          "M",
          "M",
          "M",
          "M",
          "M",
          "M",
          "M",
          "M",
          "M",
          "M",
          "M",
          "M",
          "M",
          "M",
          "M",
          "M",
          "M",
          "M",
          "M",
          "M",
          "M",
          "M",
          "M",
          "M",
          "M",
          "M",
          "M",
          "M",
          "M",
          "M",
          "M",
          "M",
          "M",
          "M",
          "M",
          "M",
          "M",
          "M",
          "M",
          "M",
          "M",
          "M",
          "M",
          "M",
          "M",
          "M",
          "N",
          "N",
          "N",
          "N",
          "N",
          "N",
          "N",
          "N",
          "N",
          "N",
          "N",
          "N",
          "N",
          "N",
          "N",
          "N",
          "N",
          "N",
          "N",
          "N",
          "N",
          "N",
          "N",
          "N",
          "N",
          "N",
          "N",
          "N",
          "N",
          "N",
          "N",
          "N",
          "N",
          "N",
          "N",
          "N",
          "N",
          "N",
          "N",
          "N",
          "N",
          "N",
          "N",
          "N",
          "N",
          "N",
          "N",
          "N",
          "N",
          "N",
          "N",
          "N",
          "N",
          "N",
          "N",
          "N",
          "N",
          "N",
          "N",
          "N",
          "N"
         ],
         "x0": " ",
         "xaxis": "x",
         "y": [
          0.1100827222654006,
          0.1295909638219399,
          0.2652945524952508,
          0.2643382863415512,
          0.1581982569038198,
          0.07825207562268835,
          0.33644516505966104,
          0.35160352871796785,
          0.22647099348688224,
          0.36036041803236907,
          0.16974488460929318,
          0.1795329577540107,
          0.14189463135289906,
          0.1054639907507941,
          0.18303045744984422,
          0.3783894959733718,
          0.2825217720311506,
          0.14575827482447343,
          0.34198155921124707,
          0.18964325301142104,
          0.31193367260433597,
          0.15941971936315905,
          0.29800522747997155,
          0.2785909358422274,
          0.24862691651850705,
          0.11975230749860621,
          0.07642728625760019,
          0.25281444416904203,
          0.1892064869204662,
          0.3681885412431927,
          0.2452339039129871,
          0.09252465417631875,
          0.2242133668976263,
          0.0670731878722977,
          0.17912275635588956,
          0.32293381029127527,
          0.13964645467723527,
          0.43259244859645873,
          0.1784209908759575,
          0.2497830681483122,
          0.173123368369028,
          0.18518272516656886,
          0.15122698293483805,
          0.09377401256017087,
          0.29977145043203773,
          0.39907736584877845,
          0.3361762701026119,
          0.3888507343013009,
          0.23041464661336042,
          0.5746254195252453,
          0.08077150481735636,
          0.14262727184353588,
          0.07214501211186963,
          0.3053366362489107,
          0.11379845428333506,
          0.1203485261420788,
          0.25245131227793544,
          0.2764761738156973,
          0.21123502562045102,
          0.2596265662270865,
          0.31622335237382954,
          0.18868090596670167,
          0.16979628654727416,
          0.29818438264117836,
          0.13504564039849604,
          0.10098213176031678,
          0.2648792835997921,
          0.2393510501469598,
          0.17897438542823155,
          0.1304074027437755,
          0.2373362134582842,
          0.1553757002168335,
          0.40307040297947755,
          0.23451219387728794,
          0.27391997522379585,
          0.18786626884945234,
          0.17220298613608184,
          0.19692590196560197,
          0.1357867429473269,
          0.17651305625205785,
          0.12524103681556745,
          0.5801992206633043,
          0.5207744061609195,
          0.14491225094448118,
          0.3351458033406606,
          0.24817014108065732,
          0.23714888786742258,
          0.24372138346568928,
          0.16464681315332802,
          0.10444224879255506,
          0.17106550858010852,
          0.2803978443378119,
          0.45947431818456974,
          0.12543219003454129,
          0.30598252811303556,
          0.24372671806143092,
          0.10003505280881678,
          0.2378621841580819,
          0.08775972652297881,
          0.07525347742807137,
          0.20855271653906468,
          0.19460409555693456,
          0.19251596215457412,
          0.09675912178486812,
          0.10027603121516165,
          0.4405751101903302,
          0.26879899591980305,
          0.08848565763806722,
          0.16698136287306264,
          0.21159570698976635,
          0.26862711479698076,
          0.16817283663639046,
          0.22101768392967727,
          0.10168650212879192,
          0.14887293796166434,
          0.179761260358193,
          0.6265623871176116,
          0.18675946512732416,
          0.22661185982462725,
          0.2276156246979202,
          0.34100828690564866,
          0.18377933177311576,
          0.1860546536627925,
          0.16924223407549907,
          0.39483260478362797,
          0.12267031250318879,
          0.2484092839191648,
          0.2539367966815857,
          0.2813234571916606,
          0.11830132760640376,
          0.2418903472987226,
          0.08638347482492861,
          0.16849665531040958,
          0.23238689821232555,
          0.27492669809972514,
          0.3195425827826769,
          0.33000299598297,
          0.1707453798688991,
          0.3764231287268555,
          0.2435879409314268,
          0.08564237389119685,
          0.2520219637342198,
          0.3331491595013477,
          0.17761438713962804,
          0.2006581253698782,
          0.16352208625963296,
          0.2884632684576359,
          0.397104737552928,
          0.11174331828932124,
          0.12130732350473451,
          0.14997399330057526,
          0.26884316694289234,
          0.4320593478458956,
          0.12420001608467304,
          0.30822496687652884,
          0.2922577858227848,
          0.23047903161584013,
          0.2244366559004561,
          0.20334517724912793,
          0.15892585831507183,
          0.40547216579566664,
          0.3044478315611917,
          0.16928343223315176,
          0.2251988910054636,
          0.1672740698515013,
          0.28665133645378493,
          0.2966543583326526,
          0.17579948575218352,
          0.2812355523600394,
          0.16851639782457006,
          0.2604112866940283,
          0.2724508330952967,
          0.2534574114034728,
          0.16191411067757586,
          0.15974738269080757,
          0.25754193863365765,
          0.08085955749300872,
          0.1650501315964797,
          0.42428919974079404,
          0.23709088100278838,
          0.12411924643165646,
          0.2257993157901245,
          0.09015504801912849,
          0.14389556243137255,
          0.5345936751135332,
          0.22102873892146338,
          0.3421130203279908,
          0.30138567534342936,
          0.1969798130098453,
          0.24682892988653304,
          0.10751639073261589,
          0.9154172354194406,
          0.15291472969008443,
          0.2096014568199792,
          0.4806363637071262,
          0.3942842318400405,
          0.16806497848815344,
          0.20370864561021562,
          0.3614115970651036,
          0.2998142330862026,
          0.3124791492490351,
          0.1405351403390257,
          0.2730423818219965,
          0.27364216372042194,
          0.162076387393965,
          0.17999096774996834,
          0.21724715021953897,
          0.22786041805759402,
          0.3814476734306261,
          0.26399657323800657,
          0.3752321383846089,
          0.18093858116631956,
          0.3177791545110061,
          0.147063571741628,
          0.27576587783500767,
          0.1565216872983442,
          0.1304327380358902,
          0.19169758920119986,
          0.12294733297302499,
          0.13122059202380953,
          0.35102362504518464,
          0.18362004521626854,
          0.16738639968794694,
          0.3808449741181669,
          0.19764085163261064,
          0.12633977324873888,
          0.3345415698785425,
          0.35586996864894704,
          0.1723895251571229,
          0.2059108883257065,
          0.245438903704256,
          0.15565651964285712,
          0.16337101806347112,
          0.2512991918344784,
          0.25834849345591626,
          0.18214023051317232,
          0.13365966941322313,
          0.1902139168909958,
          0.15865258959635675,
          0.3410950317726037,
          0.15106653273983445,
          0.10589426435136956,
          0.11462430464751694,
          0.5307672450974673,
          0.16110955675278563,
          0.08408424791540012,
          0.04363934111626419,
          0.07346172889405346,
          0.20469815775139666,
          0.15584246505803917,
          0.10349603651645538,
          0.21380626281828247,
          0.6299944947011664,
          0.08531661952170612,
          0.21211262210678908,
          0.06462637327861523,
          0.15770114095137794,
          0.2564026393338481,
          0.3135134384296389,
          0.41122239642143227,
          0.3594878145476773,
          0.04490960809102402,
          0.4170909018903141,
          0.11740315061887156,
          0.14585887648878887,
          0.23805030380699424,
          0.1982329803897097,
          0.2971052140555894,
          0.23469095712253607,
          0.14842457942482382,
          0.22031544375969309,
          0.16362893957649377,
          0.12427464903948772,
          0.16441815124374023,
          0.23497079988484473,
          0.2084074927663774,
          0.2303452689879409,
          0.07944964277986538,
          0.12474583900797093,
          0.367796423941859,
          0.12945551426270135,
          0.13703479562141013,
          0.27868351125451946,
          0.19162677806339962,
          0.4053361389349463,
          0.2973519068801495,
          0.1285705674703804,
          0.1641535137514233,
          0.05841463224194472,
          0.07048647108231341,
          0.2595285942251114,
          0.12522385049951854,
          0.42547468874311284,
          0.015267961283624927,
          0.10807161852666972,
          0.31433747047450183,
          0.27523399233274354,
          0.14821062359888063,
          0.25058728480053605,
          0.13854834630308033,
          0.17245664232412936,
          0.09202816483512864,
          0.12818037975304045,
          0.20015872319286668,
          0.14098870451185075,
          0.11804844719859851,
          0.2204394979848625,
          0.16853226584147316,
          0.1585186332397638,
          0.10859869843422791,
          0.13027787312910852,
          0.19084618479967788,
          0.2915451834612159,
          0.07572127393838468,
          0.21970360645681747,
          0.1316431459276409,
          0.34577247322050136,
          0.09271283518503999,
          0.12749306321929685,
          0.17418671397595112,
          0.25040974874788025,
          0.31059354508177295,
          0.228308415698095,
          0.15638539570082924,
          0.1404761924204389,
          0.07614539638432262,
          0.1467617135288629,
          0.1729162771834993,
          0.1145130811313824,
          0.1801193097534922,
          0.17553047096295685,
          0.2524539557694691,
          0.1885300591211883,
          0.47694501237949444,
          0.11334752570025387,
          0.3796380007939492,
          0.1406144643804567,
          0.12538313141964624,
          0.20680657161162094,
          0.2430002960786802,
          0.07302385988662323,
          0.21569729202017204,
          0.17281134194272882,
          0.1261987030802261,
          0.23056415405293057,
          0.2216047852150796,
          0.1580061458652423,
          0.264884080507955,
          0.2617756447514705,
          0.056542221647484806,
          0.15556467670031787,
          0.1601748592170171,
          0.24242448697649135,
          0.1147407782500735,
          0.18899669185227436,
          0.19661440080886392
         ],
         "y0": " ",
         "yaxis": "y"
        }
       ],
       "layout": {
        "boxmode": "group",
        "legend": {
         "tracegroupgap": 0
        },
        "margin": {
         "t": 60
        },
        "template": {
         "data": {
          "bar": [
           {
            "error_x": {
             "color": "#2a3f5f"
            },
            "error_y": {
             "color": "#2a3f5f"
            },
            "marker": {
             "line": {
              "color": "#E5ECF6",
              "width": 0.5
             },
             "pattern": {
              "fillmode": "overlay",
              "size": 10,
              "solidity": 0.2
             }
            },
            "type": "bar"
           }
          ],
          "barpolar": [
           {
            "marker": {
             "line": {
              "color": "#E5ECF6",
              "width": 0.5
             },
             "pattern": {
              "fillmode": "overlay",
              "size": 10,
              "solidity": 0.2
             }
            },
            "type": "barpolar"
           }
          ],
          "carpet": [
           {
            "aaxis": {
             "endlinecolor": "#2a3f5f",
             "gridcolor": "white",
             "linecolor": "white",
             "minorgridcolor": "white",
             "startlinecolor": "#2a3f5f"
            },
            "baxis": {
             "endlinecolor": "#2a3f5f",
             "gridcolor": "white",
             "linecolor": "white",
             "minorgridcolor": "white",
             "startlinecolor": "#2a3f5f"
            },
            "type": "carpet"
           }
          ],
          "choropleth": [
           {
            "colorbar": {
             "outlinewidth": 0,
             "ticks": ""
            },
            "type": "choropleth"
           }
          ],
          "contour": [
           {
            "colorbar": {
             "outlinewidth": 0,
             "ticks": ""
            },
            "colorscale": [
             [
              0,
              "#0d0887"
             ],
             [
              0.1111111111111111,
              "#46039f"
             ],
             [
              0.2222222222222222,
              "#7201a8"
             ],
             [
              0.3333333333333333,
              "#9c179e"
             ],
             [
              0.4444444444444444,
              "#bd3786"
             ],
             [
              0.5555555555555556,
              "#d8576b"
             ],
             [
              0.6666666666666666,
              "#ed7953"
             ],
             [
              0.7777777777777778,
              "#fb9f3a"
             ],
             [
              0.8888888888888888,
              "#fdca26"
             ],
             [
              1,
              "#f0f921"
             ]
            ],
            "type": "contour"
           }
          ],
          "contourcarpet": [
           {
            "colorbar": {
             "outlinewidth": 0,
             "ticks": ""
            },
            "type": "contourcarpet"
           }
          ],
          "heatmap": [
           {
            "colorbar": {
             "outlinewidth": 0,
             "ticks": ""
            },
            "colorscale": [
             [
              0,
              "#0d0887"
             ],
             [
              0.1111111111111111,
              "#46039f"
             ],
             [
              0.2222222222222222,
              "#7201a8"
             ],
             [
              0.3333333333333333,
              "#9c179e"
             ],
             [
              0.4444444444444444,
              "#bd3786"
             ],
             [
              0.5555555555555556,
              "#d8576b"
             ],
             [
              0.6666666666666666,
              "#ed7953"
             ],
             [
              0.7777777777777778,
              "#fb9f3a"
             ],
             [
              0.8888888888888888,
              "#fdca26"
             ],
             [
              1,
              "#f0f921"
             ]
            ],
            "type": "heatmap"
           }
          ],
          "heatmapgl": [
           {
            "colorbar": {
             "outlinewidth": 0,
             "ticks": ""
            },
            "colorscale": [
             [
              0,
              "#0d0887"
             ],
             [
              0.1111111111111111,
              "#46039f"
             ],
             [
              0.2222222222222222,
              "#7201a8"
             ],
             [
              0.3333333333333333,
              "#9c179e"
             ],
             [
              0.4444444444444444,
              "#bd3786"
             ],
             [
              0.5555555555555556,
              "#d8576b"
             ],
             [
              0.6666666666666666,
              "#ed7953"
             ],
             [
              0.7777777777777778,
              "#fb9f3a"
             ],
             [
              0.8888888888888888,
              "#fdca26"
             ],
             [
              1,
              "#f0f921"
             ]
            ],
            "type": "heatmapgl"
           }
          ],
          "histogram": [
           {
            "marker": {
             "pattern": {
              "fillmode": "overlay",
              "size": 10,
              "solidity": 0.2
             }
            },
            "type": "histogram"
           }
          ],
          "histogram2d": [
           {
            "colorbar": {
             "outlinewidth": 0,
             "ticks": ""
            },
            "colorscale": [
             [
              0,
              "#0d0887"
             ],
             [
              0.1111111111111111,
              "#46039f"
             ],
             [
              0.2222222222222222,
              "#7201a8"
             ],
             [
              0.3333333333333333,
              "#9c179e"
             ],
             [
              0.4444444444444444,
              "#bd3786"
             ],
             [
              0.5555555555555556,
              "#d8576b"
             ],
             [
              0.6666666666666666,
              "#ed7953"
             ],
             [
              0.7777777777777778,
              "#fb9f3a"
             ],
             [
              0.8888888888888888,
              "#fdca26"
             ],
             [
              1,
              "#f0f921"
             ]
            ],
            "type": "histogram2d"
           }
          ],
          "histogram2dcontour": [
           {
            "colorbar": {
             "outlinewidth": 0,
             "ticks": ""
            },
            "colorscale": [
             [
              0,
              "#0d0887"
             ],
             [
              0.1111111111111111,
              "#46039f"
             ],
             [
              0.2222222222222222,
              "#7201a8"
             ],
             [
              0.3333333333333333,
              "#9c179e"
             ],
             [
              0.4444444444444444,
              "#bd3786"
             ],
             [
              0.5555555555555556,
              "#d8576b"
             ],
             [
              0.6666666666666666,
              "#ed7953"
             ],
             [
              0.7777777777777778,
              "#fb9f3a"
             ],
             [
              0.8888888888888888,
              "#fdca26"
             ],
             [
              1,
              "#f0f921"
             ]
            ],
            "type": "histogram2dcontour"
           }
          ],
          "mesh3d": [
           {
            "colorbar": {
             "outlinewidth": 0,
             "ticks": ""
            },
            "type": "mesh3d"
           }
          ],
          "parcoords": [
           {
            "line": {
             "colorbar": {
              "outlinewidth": 0,
              "ticks": ""
             }
            },
            "type": "parcoords"
           }
          ],
          "pie": [
           {
            "automargin": true,
            "type": "pie"
           }
          ],
          "scatter": [
           {
            "fillpattern": {
             "fillmode": "overlay",
             "size": 10,
             "solidity": 0.2
            },
            "type": "scatter"
           }
          ],
          "scatter3d": [
           {
            "line": {
             "colorbar": {
              "outlinewidth": 0,
              "ticks": ""
             }
            },
            "marker": {
             "colorbar": {
              "outlinewidth": 0,
              "ticks": ""
             }
            },
            "type": "scatter3d"
           }
          ],
          "scattercarpet": [
           {
            "marker": {
             "colorbar": {
              "outlinewidth": 0,
              "ticks": ""
             }
            },
            "type": "scattercarpet"
           }
          ],
          "scattergeo": [
           {
            "marker": {
             "colorbar": {
              "outlinewidth": 0,
              "ticks": ""
             }
            },
            "type": "scattergeo"
           }
          ],
          "scattergl": [
           {
            "marker": {
             "colorbar": {
              "outlinewidth": 0,
              "ticks": ""
             }
            },
            "type": "scattergl"
           }
          ],
          "scattermapbox": [
           {
            "marker": {
             "colorbar": {
              "outlinewidth": 0,
              "ticks": ""
             }
            },
            "type": "scattermapbox"
           }
          ],
          "scatterpolar": [
           {
            "marker": {
             "colorbar": {
              "outlinewidth": 0,
              "ticks": ""
             }
            },
            "type": "scatterpolar"
           }
          ],
          "scatterpolargl": [
           {
            "marker": {
             "colorbar": {
              "outlinewidth": 0,
              "ticks": ""
             }
            },
            "type": "scatterpolargl"
           }
          ],
          "scatterternary": [
           {
            "marker": {
             "colorbar": {
              "outlinewidth": 0,
              "ticks": ""
             }
            },
            "type": "scatterternary"
           }
          ],
          "surface": [
           {
            "colorbar": {
             "outlinewidth": 0,
             "ticks": ""
            },
            "colorscale": [
             [
              0,
              "#0d0887"
             ],
             [
              0.1111111111111111,
              "#46039f"
             ],
             [
              0.2222222222222222,
              "#7201a8"
             ],
             [
              0.3333333333333333,
              "#9c179e"
             ],
             [
              0.4444444444444444,
              "#bd3786"
             ],
             [
              0.5555555555555556,
              "#d8576b"
             ],
             [
              0.6666666666666666,
              "#ed7953"
             ],
             [
              0.7777777777777778,
              "#fb9f3a"
             ],
             [
              0.8888888888888888,
              "#fdca26"
             ],
             [
              1,
              "#f0f921"
             ]
            ],
            "type": "surface"
           }
          ],
          "table": [
           {
            "cells": {
             "fill": {
              "color": "#EBF0F8"
             },
             "line": {
              "color": "white"
             }
            },
            "header": {
             "fill": {
              "color": "#C8D4E3"
             },
             "line": {
              "color": "white"
             }
            },
            "type": "table"
           }
          ]
         },
         "layout": {
          "annotationdefaults": {
           "arrowcolor": "#2a3f5f",
           "arrowhead": 0,
           "arrowwidth": 1
          },
          "autotypenumbers": "strict",
          "coloraxis": {
           "colorbar": {
            "outlinewidth": 0,
            "ticks": ""
           }
          },
          "colorscale": {
           "diverging": [
            [
             0,
             "#8e0152"
            ],
            [
             0.1,
             "#c51b7d"
            ],
            [
             0.2,
             "#de77ae"
            ],
            [
             0.3,
             "#f1b6da"
            ],
            [
             0.4,
             "#fde0ef"
            ],
            [
             0.5,
             "#f7f7f7"
            ],
            [
             0.6,
             "#e6f5d0"
            ],
            [
             0.7,
             "#b8e186"
            ],
            [
             0.8,
             "#7fbc41"
            ],
            [
             0.9,
             "#4d9221"
            ],
            [
             1,
             "#276419"
            ]
           ],
           "sequential": [
            [
             0,
             "#0d0887"
            ],
            [
             0.1111111111111111,
             "#46039f"
            ],
            [
             0.2222222222222222,
             "#7201a8"
            ],
            [
             0.3333333333333333,
             "#9c179e"
            ],
            [
             0.4444444444444444,
             "#bd3786"
            ],
            [
             0.5555555555555556,
             "#d8576b"
            ],
            [
             0.6666666666666666,
             "#ed7953"
            ],
            [
             0.7777777777777778,
             "#fb9f3a"
            ],
            [
             0.8888888888888888,
             "#fdca26"
            ],
            [
             1,
             "#f0f921"
            ]
           ],
           "sequentialminus": [
            [
             0,
             "#0d0887"
            ],
            [
             0.1111111111111111,
             "#46039f"
            ],
            [
             0.2222222222222222,
             "#7201a8"
            ],
            [
             0.3333333333333333,
             "#9c179e"
            ],
            [
             0.4444444444444444,
             "#bd3786"
            ],
            [
             0.5555555555555556,
             "#d8576b"
            ],
            [
             0.6666666666666666,
             "#ed7953"
            ],
            [
             0.7777777777777778,
             "#fb9f3a"
            ],
            [
             0.8888888888888888,
             "#fdca26"
            ],
            [
             1,
             "#f0f921"
            ]
           ]
          },
          "colorway": [
           "#636efa",
           "#EF553B",
           "#00cc96",
           "#ab63fa",
           "#FFA15A",
           "#19d3f3",
           "#FF6692",
           "#B6E880",
           "#FF97FF",
           "#FECB52"
          ],
          "font": {
           "color": "#2a3f5f"
          },
          "geo": {
           "bgcolor": "white",
           "lakecolor": "white",
           "landcolor": "#E5ECF6",
           "showlakes": true,
           "showland": true,
           "subunitcolor": "white"
          },
          "hoverlabel": {
           "align": "left"
          },
          "hovermode": "closest",
          "mapbox": {
           "style": "light"
          },
          "paper_bgcolor": "white",
          "plot_bgcolor": "#E5ECF6",
          "polar": {
           "angularaxis": {
            "gridcolor": "white",
            "linecolor": "white",
            "ticks": ""
           },
           "bgcolor": "#E5ECF6",
           "radialaxis": {
            "gridcolor": "white",
            "linecolor": "white",
            "ticks": ""
           }
          },
          "scene": {
           "xaxis": {
            "backgroundcolor": "#E5ECF6",
            "gridcolor": "white",
            "gridwidth": 2,
            "linecolor": "white",
            "showbackground": true,
            "ticks": "",
            "zerolinecolor": "white"
           },
           "yaxis": {
            "backgroundcolor": "#E5ECF6",
            "gridcolor": "white",
            "gridwidth": 2,
            "linecolor": "white",
            "showbackground": true,
            "ticks": "",
            "zerolinecolor": "white"
           },
           "zaxis": {
            "backgroundcolor": "#E5ECF6",
            "gridcolor": "white",
            "gridwidth": 2,
            "linecolor": "white",
            "showbackground": true,
            "ticks": "",
            "zerolinecolor": "white"
           }
          },
          "shapedefaults": {
           "line": {
            "color": "#2a3f5f"
           }
          },
          "ternary": {
           "aaxis": {
            "gridcolor": "white",
            "linecolor": "white",
            "ticks": ""
           },
           "baxis": {
            "gridcolor": "white",
            "linecolor": "white",
            "ticks": ""
           },
           "bgcolor": "#E5ECF6",
           "caxis": {
            "gridcolor": "white",
            "linecolor": "white",
            "ticks": ""
           }
          },
          "title": {
           "x": 0.05
          },
          "xaxis": {
           "automargin": true,
           "gridcolor": "white",
           "linecolor": "white",
           "ticks": "",
           "title": {
            "standoff": 15
           },
           "zerolinecolor": "white",
           "zerolinewidth": 2
          },
          "yaxis": {
           "automargin": true,
           "gridcolor": "white",
           "linecolor": "white",
           "ticks": "",
           "title": {
            "standoff": 15
           },
           "zerolinecolor": "white",
           "zerolinewidth": 2
          }
         }
        },
        "xaxis": {
         "anchor": "y",
         "domain": [
          0,
          1
         ],
         "title": {
          "text": "Acorn_Group"
         }
        },
        "yaxis": {
         "anchor": "x",
         "domain": [
          0,
          1
         ],
         "title": {
          "text": "KWH/hh"
         }
        }
       }
      },
      "text/html": [
       "<div>                            <div id=\"d6fccb02-05e5-4be1-8bca-887856d79914\" class=\"plotly-graph-div\" style=\"height:525px; width:100%;\"></div>            <script type=\"text/javascript\">                require([\"plotly\"], function(Plotly) {                    window.PLOTLYENV=window.PLOTLYENV || {};                                    if (document.getElementById(\"d6fccb02-05e5-4be1-8bca-887856d79914\")) {                    Plotly.newPlot(                        \"d6fccb02-05e5-4be1-8bca-887856d79914\",                        [{\"alignmentgroup\":\"True\",\"boxpoints\":\"all\",\"hovertemplate\":\"Acorn_Group=%{x}<br>KWH/hh=%{y}<extra></extra>\",\"legendgroup\":\"\",\"marker\":{\"color\":\"#636efa\"},\"name\":\"\",\"notched\":false,\"offsetgroup\":\"\",\"orientation\":\"v\",\"showlegend\":false,\"x\":[\"K\",\"K\",\"K\",\"K\",\"K\",\"K\",\"K\",\"K\",\"K\",\"K\",\"K\",\"K\",\"K\",\"K\",\"K\",\"K\",\"K\",\"K\",\"K\",\"K\",\"K\",\"K\",\"K\",\"K\",\"K\",\"K\",\"K\",\"K\",\"K\",\"K\",\"K\",\"K\",\"K\",\"K\",\"K\",\"K\",\"K\",\"K\",\"K\",\"K\",\"K\",\"K\",\"K\",\"K\",\"K\",\"K\",\"K\",\"K\",\"K\",\"K\",\"K\",\"K\",\"K\",\"K\",\"K\",\"K\",\"K\",\"K\",\"K\",\"K\",\"K\",\"K\",\"K\",\"K\",\"K\",\"K\",\"K\",\"K\",\"L\",\"L\",\"L\",\"L\",\"L\",\"L\",\"L\",\"L\",\"L\",\"L\",\"L\",\"L\",\"L\",\"L\",\"L\",\"L\",\"L\",\"L\",\"L\",\"L\",\"L\",\"L\",\"L\",\"L\",\"L\",\"L\",\"L\",\"L\",\"L\",\"L\",\"L\",\"L\",\"L\",\"L\",\"L\",\"L\",\"L\",\"L\",\"L\",\"L\",\"L\",\"L\",\"L\",\"L\",\"L\",\"L\",\"L\",\"L\",\"L\",\"L\",\"L\",\"L\",\"L\",\"L\",\"L\",\"L\",\"L\",\"L\",\"L\",\"L\",\"L\",\"L\",\"L\",\"L\",\"L\",\"L\",\"L\",\"L\",\"L\",\"L\",\"L\",\"L\",\"L\",\"L\",\"L\",\"L\",\"L\",\"L\",\"L\",\"L\",\"L\",\"L\",\"L\",\"L\",\"L\",\"L\",\"L\",\"L\",\"L\",\"L\",\"L\",\"L\",\"L\",\"L\",\"L\",\"L\",\"L\",\"L\",\"L\",\"L\",\"L\",\"L\",\"L\",\"L\",\"L\",\"L\",\"L\",\"L\",\"L\",\"L\",\"L\",\"L\",\"L\",\"L\",\"L\",\"L\",\"L\",\"L\",\"L\",\"L\",\"L\",\"L\",\"L\",\"L\",\"L\",\"L\",\"L\",\"L\",\"L\",\"L\",\"L\",\"L\",\"L\",\"L\",\"L\",\"L\",\"L\",\"L\",\"L\",\"L\",\"L\",\"L\",\"L\",\"L\",\"L\",\"L\",\"L\",\"L\",\"L\",\"L\",\"L\",\"L\",\"L\",\"L\",\"L\",\"L\",\"L\",\"L\",\"L\",\"L\",\"L\",\"L\",\"L\",\"L\",\"L\",\"L\",\"L\",\"L\",\"L\",\"L\",\"L\",\"L\",\"L\",\"L\",\"M\",\"M\",\"M\",\"M\",\"M\",\"M\",\"M\",\"M\",\"M\",\"M\",\"M\",\"M\",\"M\",\"M\",\"M\",\"M\",\"M\",\"M\",\"M\",\"M\",\"M\",\"M\",\"M\",\"M\",\"M\",\"M\",\"M\",\"M\",\"M\",\"M\",\"M\",\"M\",\"M\",\"M\",\"M\",\"M\",\"M\",\"M\",\"M\",\"M\",\"M\",\"M\",\"M\",\"M\",\"M\",\"M\",\"M\",\"M\",\"M\",\"M\",\"M\",\"M\",\"M\",\"N\",\"N\",\"N\",\"N\",\"N\",\"N\",\"N\",\"N\",\"N\",\"N\",\"N\",\"N\",\"N\",\"N\",\"N\",\"N\",\"N\",\"N\",\"N\",\"N\",\"N\",\"N\",\"N\",\"N\",\"N\",\"N\",\"N\",\"N\",\"N\",\"N\",\"N\",\"N\",\"N\",\"N\",\"N\",\"N\",\"N\",\"N\",\"N\",\"N\",\"N\",\"N\",\"N\",\"N\",\"N\",\"N\",\"N\",\"N\",\"N\",\"N\",\"N\",\"N\",\"N\",\"N\",\"N\",\"N\",\"N\",\"N\",\"N\",\"N\",\"N\"],\"x0\":\" \",\"xaxis\":\"x\",\"y\":[0.1100827222654006,0.1295909638219399,0.2652945524952508,0.2643382863415512,0.1581982569038198,0.07825207562268835,0.33644516505966104,0.35160352871796785,0.22647099348688224,0.36036041803236907,0.16974488460929318,0.1795329577540107,0.14189463135289906,0.1054639907507941,0.18303045744984422,0.3783894959733718,0.2825217720311506,0.14575827482447343,0.34198155921124707,0.18964325301142104,0.31193367260433597,0.15941971936315905,0.29800522747997155,0.2785909358422274,0.24862691651850705,0.11975230749860621,0.07642728625760019,0.25281444416904203,0.1892064869204662,0.3681885412431927,0.2452339039129871,0.09252465417631875,0.2242133668976263,0.0670731878722977,0.17912275635588956,0.32293381029127527,0.13964645467723527,0.43259244859645873,0.1784209908759575,0.2497830681483122,0.173123368369028,0.18518272516656886,0.15122698293483805,0.09377401256017087,0.29977145043203773,0.39907736584877845,0.3361762701026119,0.3888507343013009,0.23041464661336042,0.5746254195252453,0.08077150481735636,0.14262727184353588,0.07214501211186963,0.3053366362489107,0.11379845428333506,0.1203485261420788,0.25245131227793544,0.2764761738156973,0.21123502562045102,0.2596265662270865,0.31622335237382954,0.18868090596670167,0.16979628654727416,0.29818438264117836,0.13504564039849604,0.10098213176031678,0.2648792835997921,0.2393510501469598,0.17897438542823155,0.1304074027437755,0.2373362134582842,0.1553757002168335,0.40307040297947755,0.23451219387728794,0.27391997522379585,0.18786626884945234,0.17220298613608184,0.19692590196560197,0.1357867429473269,0.17651305625205785,0.12524103681556745,0.5801992206633043,0.5207744061609195,0.14491225094448118,0.3351458033406606,0.24817014108065732,0.23714888786742258,0.24372138346568928,0.16464681315332802,0.10444224879255506,0.17106550858010852,0.2803978443378119,0.45947431818456974,0.12543219003454129,0.30598252811303556,0.24372671806143092,0.10003505280881678,0.2378621841580819,0.08775972652297881,0.07525347742807137,0.20855271653906468,0.19460409555693456,0.19251596215457412,0.09675912178486812,0.10027603121516165,0.4405751101903302,0.26879899591980305,0.08848565763806722,0.16698136287306264,0.21159570698976635,0.26862711479698076,0.16817283663639046,0.22101768392967727,0.10168650212879192,0.14887293796166434,0.179761260358193,0.6265623871176116,0.18675946512732416,0.22661185982462725,0.2276156246979202,0.34100828690564866,0.18377933177311576,0.1860546536627925,0.16924223407549907,0.39483260478362797,0.12267031250318879,0.2484092839191648,0.2539367966815857,0.2813234571916606,0.11830132760640376,0.2418903472987226,0.08638347482492861,0.16849665531040958,0.23238689821232555,0.27492669809972514,0.3195425827826769,0.33000299598297,0.1707453798688991,0.3764231287268555,0.2435879409314268,0.08564237389119685,0.2520219637342198,0.3331491595013477,0.17761438713962804,0.2006581253698782,0.16352208625963296,0.2884632684576359,0.397104737552928,0.11174331828932124,0.12130732350473451,0.14997399330057526,0.26884316694289234,0.4320593478458956,0.12420001608467304,0.30822496687652884,0.2922577858227848,0.23047903161584013,0.2244366559004561,0.20334517724912793,0.15892585831507183,0.40547216579566664,0.3044478315611917,0.16928343223315176,0.2251988910054636,0.1672740698515013,0.28665133645378493,0.2966543583326526,0.17579948575218352,0.2812355523600394,0.16851639782457006,0.2604112866940283,0.2724508330952967,0.2534574114034728,0.16191411067757586,0.15974738269080757,0.25754193863365765,0.08085955749300872,0.1650501315964797,0.42428919974079404,0.23709088100278838,0.12411924643165646,0.2257993157901245,0.09015504801912849,0.14389556243137255,0.5345936751135332,0.22102873892146338,0.3421130203279908,0.30138567534342936,0.1969798130098453,0.24682892988653304,0.10751639073261589,0.9154172354194406,0.15291472969008443,0.2096014568199792,0.4806363637071262,0.3942842318400405,0.16806497848815344,0.20370864561021562,0.3614115970651036,0.2998142330862026,0.3124791492490351,0.1405351403390257,0.2730423818219965,0.27364216372042194,0.162076387393965,0.17999096774996834,0.21724715021953897,0.22786041805759402,0.3814476734306261,0.26399657323800657,0.3752321383846089,0.18093858116631956,0.3177791545110061,0.147063571741628,0.27576587783500767,0.1565216872983442,0.1304327380358902,0.19169758920119986,0.12294733297302499,0.13122059202380953,0.35102362504518464,0.18362004521626854,0.16738639968794694,0.3808449741181669,0.19764085163261064,0.12633977324873888,0.3345415698785425,0.35586996864894704,0.1723895251571229,0.2059108883257065,0.245438903704256,0.15565651964285712,0.16337101806347112,0.2512991918344784,0.25834849345591626,0.18214023051317232,0.13365966941322313,0.1902139168909958,0.15865258959635675,0.3410950317726037,0.15106653273983445,0.10589426435136956,0.11462430464751694,0.5307672450974673,0.16110955675278563,0.08408424791540012,0.04363934111626419,0.07346172889405346,0.20469815775139666,0.15584246505803917,0.10349603651645538,0.21380626281828247,0.6299944947011664,0.08531661952170612,0.21211262210678908,0.06462637327861523,0.15770114095137794,0.2564026393338481,0.3135134384296389,0.41122239642143227,0.3594878145476773,0.04490960809102402,0.4170909018903141,0.11740315061887156,0.14585887648878887,0.23805030380699424,0.1982329803897097,0.2971052140555894,0.23469095712253607,0.14842457942482382,0.22031544375969309,0.16362893957649377,0.12427464903948772,0.16441815124374023,0.23497079988484473,0.2084074927663774,0.2303452689879409,0.07944964277986538,0.12474583900797093,0.367796423941859,0.12945551426270135,0.13703479562141013,0.27868351125451946,0.19162677806339962,0.4053361389349463,0.2973519068801495,0.1285705674703804,0.1641535137514233,0.05841463224194472,0.07048647108231341,0.2595285942251114,0.12522385049951854,0.42547468874311284,0.015267961283624927,0.10807161852666972,0.31433747047450183,0.27523399233274354,0.14821062359888063,0.25058728480053605,0.13854834630308033,0.17245664232412936,0.09202816483512864,0.12818037975304045,0.20015872319286668,0.14098870451185075,0.11804844719859851,0.2204394979848625,0.16853226584147316,0.1585186332397638,0.10859869843422791,0.13027787312910852,0.19084618479967788,0.2915451834612159,0.07572127393838468,0.21970360645681747,0.1316431459276409,0.34577247322050136,0.09271283518503999,0.12749306321929685,0.17418671397595112,0.25040974874788025,0.31059354508177295,0.228308415698095,0.15638539570082924,0.1404761924204389,0.07614539638432262,0.1467617135288629,0.1729162771834993,0.1145130811313824,0.1801193097534922,0.17553047096295685,0.2524539557694691,0.1885300591211883,0.47694501237949444,0.11334752570025387,0.3796380007939492,0.1406144643804567,0.12538313141964624,0.20680657161162094,0.2430002960786802,0.07302385988662323,0.21569729202017204,0.17281134194272882,0.1261987030802261,0.23056415405293057,0.2216047852150796,0.1580061458652423,0.264884080507955,0.2617756447514705,0.056542221647484806,0.15556467670031787,0.1601748592170171,0.24242448697649135,0.1147407782500735,0.18899669185227436,0.19661440080886392],\"y0\":\" \",\"yaxis\":\"y\",\"type\":\"box\"}],                        {\"template\":{\"data\":{\"histogram2dcontour\":[{\"type\":\"histogram2dcontour\",\"colorbar\":{\"outlinewidth\":0,\"ticks\":\"\"},\"colorscale\":[[0.0,\"#0d0887\"],[0.1111111111111111,\"#46039f\"],[0.2222222222222222,\"#7201a8\"],[0.3333333333333333,\"#9c179e\"],[0.4444444444444444,\"#bd3786\"],[0.5555555555555556,\"#d8576b\"],[0.6666666666666666,\"#ed7953\"],[0.7777777777777778,\"#fb9f3a\"],[0.8888888888888888,\"#fdca26\"],[1.0,\"#f0f921\"]]}],\"choropleth\":[{\"type\":\"choropleth\",\"colorbar\":{\"outlinewidth\":0,\"ticks\":\"\"}}],\"histogram2d\":[{\"type\":\"histogram2d\",\"colorbar\":{\"outlinewidth\":0,\"ticks\":\"\"},\"colorscale\":[[0.0,\"#0d0887\"],[0.1111111111111111,\"#46039f\"],[0.2222222222222222,\"#7201a8\"],[0.3333333333333333,\"#9c179e\"],[0.4444444444444444,\"#bd3786\"],[0.5555555555555556,\"#d8576b\"],[0.6666666666666666,\"#ed7953\"],[0.7777777777777778,\"#fb9f3a\"],[0.8888888888888888,\"#fdca26\"],[1.0,\"#f0f921\"]]}],\"heatmap\":[{\"type\":\"heatmap\",\"colorbar\":{\"outlinewidth\":0,\"ticks\":\"\"},\"colorscale\":[[0.0,\"#0d0887\"],[0.1111111111111111,\"#46039f\"],[0.2222222222222222,\"#7201a8\"],[0.3333333333333333,\"#9c179e\"],[0.4444444444444444,\"#bd3786\"],[0.5555555555555556,\"#d8576b\"],[0.6666666666666666,\"#ed7953\"],[0.7777777777777778,\"#fb9f3a\"],[0.8888888888888888,\"#fdca26\"],[1.0,\"#f0f921\"]]}],\"heatmapgl\":[{\"type\":\"heatmapgl\",\"colorbar\":{\"outlinewidth\":0,\"ticks\":\"\"},\"colorscale\":[[0.0,\"#0d0887\"],[0.1111111111111111,\"#46039f\"],[0.2222222222222222,\"#7201a8\"],[0.3333333333333333,\"#9c179e\"],[0.4444444444444444,\"#bd3786\"],[0.5555555555555556,\"#d8576b\"],[0.6666666666666666,\"#ed7953\"],[0.7777777777777778,\"#fb9f3a\"],[0.8888888888888888,\"#fdca26\"],[1.0,\"#f0f921\"]]}],\"contourcarpet\":[{\"type\":\"contourcarpet\",\"colorbar\":{\"outlinewidth\":0,\"ticks\":\"\"}}],\"contour\":[{\"type\":\"contour\",\"colorbar\":{\"outlinewidth\":0,\"ticks\":\"\"},\"colorscale\":[[0.0,\"#0d0887\"],[0.1111111111111111,\"#46039f\"],[0.2222222222222222,\"#7201a8\"],[0.3333333333333333,\"#9c179e\"],[0.4444444444444444,\"#bd3786\"],[0.5555555555555556,\"#d8576b\"],[0.6666666666666666,\"#ed7953\"],[0.7777777777777778,\"#fb9f3a\"],[0.8888888888888888,\"#fdca26\"],[1.0,\"#f0f921\"]]}],\"surface\":[{\"type\":\"surface\",\"colorbar\":{\"outlinewidth\":0,\"ticks\":\"\"},\"colorscale\":[[0.0,\"#0d0887\"],[0.1111111111111111,\"#46039f\"],[0.2222222222222222,\"#7201a8\"],[0.3333333333333333,\"#9c179e\"],[0.4444444444444444,\"#bd3786\"],[0.5555555555555556,\"#d8576b\"],[0.6666666666666666,\"#ed7953\"],[0.7777777777777778,\"#fb9f3a\"],[0.8888888888888888,\"#fdca26\"],[1.0,\"#f0f921\"]]}],\"mesh3d\":[{\"type\":\"mesh3d\",\"colorbar\":{\"outlinewidth\":0,\"ticks\":\"\"}}],\"scatter\":[{\"fillpattern\":{\"fillmode\":\"overlay\",\"size\":10,\"solidity\":0.2},\"type\":\"scatter\"}],\"parcoords\":[{\"type\":\"parcoords\",\"line\":{\"colorbar\":{\"outlinewidth\":0,\"ticks\":\"\"}}}],\"scatterpolargl\":[{\"type\":\"scatterpolargl\",\"marker\":{\"colorbar\":{\"outlinewidth\":0,\"ticks\":\"\"}}}],\"bar\":[{\"error_x\":{\"color\":\"#2a3f5f\"},\"error_y\":{\"color\":\"#2a3f5f\"},\"marker\":{\"line\":{\"color\":\"#E5ECF6\",\"width\":0.5},\"pattern\":{\"fillmode\":\"overlay\",\"size\":10,\"solidity\":0.2}},\"type\":\"bar\"}],\"scattergeo\":[{\"type\":\"scattergeo\",\"marker\":{\"colorbar\":{\"outlinewidth\":0,\"ticks\":\"\"}}}],\"scatterpolar\":[{\"type\":\"scatterpolar\",\"marker\":{\"colorbar\":{\"outlinewidth\":0,\"ticks\":\"\"}}}],\"histogram\":[{\"marker\":{\"pattern\":{\"fillmode\":\"overlay\",\"size\":10,\"solidity\":0.2}},\"type\":\"histogram\"}],\"scattergl\":[{\"type\":\"scattergl\",\"marker\":{\"colorbar\":{\"outlinewidth\":0,\"ticks\":\"\"}}}],\"scatter3d\":[{\"type\":\"scatter3d\",\"line\":{\"colorbar\":{\"outlinewidth\":0,\"ticks\":\"\"}},\"marker\":{\"colorbar\":{\"outlinewidth\":0,\"ticks\":\"\"}}}],\"scattermapbox\":[{\"type\":\"scattermapbox\",\"marker\":{\"colorbar\":{\"outlinewidth\":0,\"ticks\":\"\"}}}],\"scatterternary\":[{\"type\":\"scatterternary\",\"marker\":{\"colorbar\":{\"outlinewidth\":0,\"ticks\":\"\"}}}],\"scattercarpet\":[{\"type\":\"scattercarpet\",\"marker\":{\"colorbar\":{\"outlinewidth\":0,\"ticks\":\"\"}}}],\"carpet\":[{\"aaxis\":{\"endlinecolor\":\"#2a3f5f\",\"gridcolor\":\"white\",\"linecolor\":\"white\",\"minorgridcolor\":\"white\",\"startlinecolor\":\"#2a3f5f\"},\"baxis\":{\"endlinecolor\":\"#2a3f5f\",\"gridcolor\":\"white\",\"linecolor\":\"white\",\"minorgridcolor\":\"white\",\"startlinecolor\":\"#2a3f5f\"},\"type\":\"carpet\"}],\"table\":[{\"cells\":{\"fill\":{\"color\":\"#EBF0F8\"},\"line\":{\"color\":\"white\"}},\"header\":{\"fill\":{\"color\":\"#C8D4E3\"},\"line\":{\"color\":\"white\"}},\"type\":\"table\"}],\"barpolar\":[{\"marker\":{\"line\":{\"color\":\"#E5ECF6\",\"width\":0.5},\"pattern\":{\"fillmode\":\"overlay\",\"size\":10,\"solidity\":0.2}},\"type\":\"barpolar\"}],\"pie\":[{\"automargin\":true,\"type\":\"pie\"}]},\"layout\":{\"autotypenumbers\":\"strict\",\"colorway\":[\"#636efa\",\"#EF553B\",\"#00cc96\",\"#ab63fa\",\"#FFA15A\",\"#19d3f3\",\"#FF6692\",\"#B6E880\",\"#FF97FF\",\"#FECB52\"],\"font\":{\"color\":\"#2a3f5f\"},\"hovermode\":\"closest\",\"hoverlabel\":{\"align\":\"left\"},\"paper_bgcolor\":\"white\",\"plot_bgcolor\":\"#E5ECF6\",\"polar\":{\"bgcolor\":\"#E5ECF6\",\"angularaxis\":{\"gridcolor\":\"white\",\"linecolor\":\"white\",\"ticks\":\"\"},\"radialaxis\":{\"gridcolor\":\"white\",\"linecolor\":\"white\",\"ticks\":\"\"}},\"ternary\":{\"bgcolor\":\"#E5ECF6\",\"aaxis\":{\"gridcolor\":\"white\",\"linecolor\":\"white\",\"ticks\":\"\"},\"baxis\":{\"gridcolor\":\"white\",\"linecolor\":\"white\",\"ticks\":\"\"},\"caxis\":{\"gridcolor\":\"white\",\"linecolor\":\"white\",\"ticks\":\"\"}},\"coloraxis\":{\"colorbar\":{\"outlinewidth\":0,\"ticks\":\"\"}},\"colorscale\":{\"sequential\":[[0.0,\"#0d0887\"],[0.1111111111111111,\"#46039f\"],[0.2222222222222222,\"#7201a8\"],[0.3333333333333333,\"#9c179e\"],[0.4444444444444444,\"#bd3786\"],[0.5555555555555556,\"#d8576b\"],[0.6666666666666666,\"#ed7953\"],[0.7777777777777778,\"#fb9f3a\"],[0.8888888888888888,\"#fdca26\"],[1.0,\"#f0f921\"]],\"sequentialminus\":[[0.0,\"#0d0887\"],[0.1111111111111111,\"#46039f\"],[0.2222222222222222,\"#7201a8\"],[0.3333333333333333,\"#9c179e\"],[0.4444444444444444,\"#bd3786\"],[0.5555555555555556,\"#d8576b\"],[0.6666666666666666,\"#ed7953\"],[0.7777777777777778,\"#fb9f3a\"],[0.8888888888888888,\"#fdca26\"],[1.0,\"#f0f921\"]],\"diverging\":[[0,\"#8e0152\"],[0.1,\"#c51b7d\"],[0.2,\"#de77ae\"],[0.3,\"#f1b6da\"],[0.4,\"#fde0ef\"],[0.5,\"#f7f7f7\"],[0.6,\"#e6f5d0\"],[0.7,\"#b8e186\"],[0.8,\"#7fbc41\"],[0.9,\"#4d9221\"],[1,\"#276419\"]]},\"xaxis\":{\"gridcolor\":\"white\",\"linecolor\":\"white\",\"ticks\":\"\",\"title\":{\"standoff\":15},\"zerolinecolor\":\"white\",\"automargin\":true,\"zerolinewidth\":2},\"yaxis\":{\"gridcolor\":\"white\",\"linecolor\":\"white\",\"ticks\":\"\",\"title\":{\"standoff\":15},\"zerolinecolor\":\"white\",\"automargin\":true,\"zerolinewidth\":2},\"scene\":{\"xaxis\":{\"backgroundcolor\":\"#E5ECF6\",\"gridcolor\":\"white\",\"linecolor\":\"white\",\"showbackground\":true,\"ticks\":\"\",\"zerolinecolor\":\"white\",\"gridwidth\":2},\"yaxis\":{\"backgroundcolor\":\"#E5ECF6\",\"gridcolor\":\"white\",\"linecolor\":\"white\",\"showbackground\":true,\"ticks\":\"\",\"zerolinecolor\":\"white\",\"gridwidth\":2},\"zaxis\":{\"backgroundcolor\":\"#E5ECF6\",\"gridcolor\":\"white\",\"linecolor\":\"white\",\"showbackground\":true,\"ticks\":\"\",\"zerolinecolor\":\"white\",\"gridwidth\":2}},\"shapedefaults\":{\"line\":{\"color\":\"#2a3f5f\"}},\"annotationdefaults\":{\"arrowcolor\":\"#2a3f5f\",\"arrowhead\":0,\"arrowwidth\":1},\"geo\":{\"bgcolor\":\"white\",\"landcolor\":\"#E5ECF6\",\"subunitcolor\":\"white\",\"showland\":true,\"showlakes\":true,\"lakecolor\":\"white\"},\"title\":{\"x\":0.05},\"mapbox\":{\"style\":\"light\"}}},\"xaxis\":{\"anchor\":\"y\",\"domain\":[0.0,1.0],\"title\":{\"text\":\"Acorn_Group\"}},\"yaxis\":{\"anchor\":\"x\",\"domain\":[0.0,1.0],\"title\":{\"text\":\"KWH/hh\"}},\"legend\":{\"tracegroupgap\":0},\"margin\":{\"t\":60},\"boxmode\":\"group\"},                        {\"responsive\": true}                    ).then(function(){\n",
       "                            \n",
       "var gd = document.getElementById('d6fccb02-05e5-4be1-8bca-887856d79914');\n",
       "var x = new MutationObserver(function (mutations, observer) {{\n",
       "        var display = window.getComputedStyle(gd).display;\n",
       "        if (!display || display === 'none') {{\n",
       "            console.log([gd, 'removed!']);\n",
       "            Plotly.purge(gd);\n",
       "            observer.disconnect();\n",
       "        }}\n",
       "}});\n",
       "\n",
       "// Listen for the removal of the full notebook cells\n",
       "var notebookContainer = gd.closest('#notebook-container');\n",
       "if (notebookContainer) {{\n",
       "    x.observe(notebookContainer, {childList: true});\n",
       "}}\n",
       "\n",
       "// Listen for the clearing of the current output cell\n",
       "var outputEl = gd.closest('.output');\n",
       "if (outputEl) {{\n",
       "    x.observe(outputEl, {childList: true});\n",
       "}}\n",
       "\n",
       "                        })                };                });            </script>        </div>"
      ]
     },
     "metadata": {},
     "output_type": "display_data"
    }
   ],
   "source": [
    "import plotly.express as px\n",
    "fig = px.box(cat4, x=\"Acorn_Group\", y=\"KWH/hh\", points='all')\n",
    "fig.show()"
   ]
  },
  {
   "cell_type": "markdown",
   "id": "78cf456d",
   "metadata": {},
   "source": [
    "Category 5 "
   ]
  },
  {
   "cell_type": "code",
   "execution_count": 40,
   "id": "35ac2b6d",
   "metadata": {},
   "outputs": [],
   "source": [
    "dfO = pd.read_csv('https://storage.googleapis.com/energy_usage_prediction_903/df_O_v1.csv')\n",
    "dfP = pd.read_csv('https://storage.googleapis.com/energy_usage_prediction_903/df_P_v1.csv')\n",
    "dfQ = pd.read_csv('https://storage.googleapis.com/energy_usage_prediction_903/df_Q_v1.csv')\n"
   ]
  },
  {
   "cell_type": "code",
   "execution_count": 41,
   "id": "5d5667af",
   "metadata": {},
   "outputs": [],
   "source": [
    "dfOhouse =dfO.groupby(by=[\"LCLid\", \"Acorn_Group\"]).mean().reset_index()\n",
    "dfPhouse =dfP.groupby(by=[\"LCLid\", \"Acorn_Group\"]).mean().reset_index()\n",
    "dfQhouse =dfQ.groupby(by=[\"LCLid\", \"Acorn_Group\"]).mean().reset_index()"
   ]
  },
  {
   "cell_type": "code",
   "execution_count": 43,
   "id": "0e2386d0",
   "metadata": {},
   "outputs": [],
   "source": [
    "frames5 = [dfOhouse, dfPhouse, dfQhouse]\n",
    "\n",
    "cat5 = pd.concat(frames5)"
   ]
  },
  {
   "cell_type": "code",
   "execution_count": 45,
   "id": "4265a89f",
   "metadata": {},
   "outputs": [
    {
     "data": {
      "application/vnd.plotly.v1+json": {
       "config": {
        "plotlyServerURL": "https://plot.ly"
       },
       "data": [
        {
         "alignmentgroup": "True",
         "boxpoints": "all",
         "hovertemplate": "Acorn_Group=%{x}<br>KWH/hh=%{y}<extra></extra>",
         "legendgroup": "",
         "marker": {
          "color": "#636efa"
         },
         "name": "",
         "notched": false,
         "offsetgroup": "",
         "orientation": "v",
         "showlegend": false,
         "type": "box",
         "x": [
          "O",
          "O",
          "O",
          "O",
          "O",
          "O",
          "O",
          "O",
          "O",
          "O",
          "O",
          "O",
          "O",
          "O",
          "O",
          "O",
          "O",
          "O",
          "O",
          "O",
          "O",
          "O",
          "O",
          "O",
          "O",
          "O",
          "O",
          "O",
          "O",
          "O",
          "O",
          "O",
          "O",
          "O",
          "O",
          "P",
          "P",
          "P",
          "P",
          "P",
          "P",
          "P",
          "P",
          "P",
          "P",
          "P",
          "P",
          "P",
          "P",
          "P",
          "P",
          "P",
          "P",
          "P",
          "P",
          "P",
          "P",
          "P",
          "P",
          "P",
          "P",
          "Q",
          "Q",
          "Q",
          "Q",
          "Q",
          "Q",
          "Q",
          "Q",
          "Q",
          "Q",
          "Q",
          "Q",
          "Q",
          "Q",
          "Q",
          "Q",
          "Q",
          "Q",
          "Q",
          "Q",
          "Q",
          "Q",
          "Q",
          "Q",
          "Q",
          "Q",
          "Q",
          "Q",
          "Q",
          "Q",
          "Q",
          "Q",
          "Q",
          "Q",
          "Q",
          "Q",
          "Q",
          "Q",
          "Q",
          "Q",
          "Q",
          "Q",
          "Q",
          "Q",
          "Q",
          "Q",
          "Q",
          "Q",
          "Q",
          "Q",
          "Q",
          "Q",
          "Q",
          "Q",
          "Q",
          "Q",
          "Q",
          "Q",
          "Q",
          "Q",
          "Q",
          "Q",
          "Q",
          "Q",
          "Q",
          "Q",
          "Q",
          "Q",
          "Q",
          "Q",
          "Q",
          "Q",
          "Q",
          "Q",
          "Q",
          "Q",
          "Q",
          "Q",
          "Q",
          "Q",
          "Q",
          "Q",
          "Q",
          "Q",
          "Q",
          "Q",
          "Q",
          "Q",
          "Q",
          "Q",
          "Q",
          "Q",
          "Q",
          "Q",
          "Q",
          "Q",
          "Q",
          "Q",
          "Q",
          "Q",
          "Q",
          "Q",
          "Q",
          "Q",
          "Q",
          "Q",
          "Q",
          "Q",
          "Q",
          "Q",
          "Q",
          "Q",
          "Q",
          "Q",
          "Q",
          "Q",
          "Q",
          "Q",
          "Q",
          "Q",
          "Q",
          "Q",
          "Q",
          "Q",
          "Q",
          "Q",
          "Q",
          "Q",
          "Q",
          "Q",
          "Q",
          "Q",
          "Q",
          "Q",
          "Q",
          "Q",
          "Q",
          "Q",
          "Q",
          "Q",
          "Q",
          "Q",
          "Q",
          "Q",
          "Q",
          "Q",
          "Q",
          "Q",
          "Q",
          "Q",
          "Q",
          "Q",
          "Q",
          "Q",
          "Q",
          "Q",
          "Q",
          "Q",
          "Q",
          "Q",
          "Q",
          "Q",
          "Q",
          "Q",
          "Q",
          "Q",
          "Q",
          "Q",
          "Q",
          "Q",
          "Q",
          "Q",
          "Q",
          "Q",
          "Q",
          "Q",
          "Q",
          "Q",
          "Q",
          "Q",
          "Q",
          "Q",
          "Q",
          "Q",
          "Q",
          "Q",
          "Q",
          "Q",
          "Q",
          "Q",
          "Q",
          "Q",
          "Q",
          "Q",
          "Q",
          "Q",
          "Q",
          "Q",
          "Q",
          "Q",
          "Q",
          "Q",
          "Q",
          "Q",
          "Q",
          "Q",
          "Q",
          "Q",
          "Q",
          "Q",
          "Q",
          "Q",
          "Q",
          "Q",
          "Q",
          "Q",
          "Q",
          "Q",
          "Q",
          "Q",
          "Q",
          "Q",
          "Q",
          "Q",
          "Q",
          "Q",
          "Q",
          "Q",
          "Q",
          "Q",
          "Q",
          "Q",
          "Q",
          "Q",
          "Q",
          "Q",
          "Q",
          "Q",
          "Q",
          "Q",
          "Q",
          "Q",
          "Q",
          "Q",
          "Q",
          "Q",
          "Q",
          "Q",
          "Q",
          "Q",
          "Q",
          "Q",
          "Q",
          "Q",
          "Q",
          "Q",
          "Q",
          "Q",
          "Q",
          "Q",
          "Q",
          "Q",
          "Q",
          "Q",
          "Q",
          "Q",
          "Q",
          "Q",
          "Q",
          "Q",
          "Q",
          "Q",
          "Q",
          "Q",
          "Q",
          "Q",
          "Q",
          "Q",
          "Q",
          "Q",
          "Q",
          "Q",
          "Q",
          "Q",
          "Q",
          "Q",
          "Q",
          "Q",
          "Q",
          "Q",
          "Q",
          "Q"
         ],
         "x0": " ",
         "xaxis": "x",
         "y": [
          0.1481963791509027,
          0.12161727356075125,
          0.06707966553826501,
          0.19266347146438578,
          0.2395965969449905,
          0.17755636472128064,
          0.3462852468902294,
          0.1409184875564976,
          0.2857860999581954,
          0.19217931491680013,
          0.15043411545792335,
          0.29778485925314985,
          0.2886765891836816,
          0.254116152768014,
          0.06512699829586951,
          0.0983428205510575,
          0.20034847794160282,
          0.158201001071399,
          0.157277858240576,
          0.10563876834946596,
          0.25149780169576685,
          0.10323914050601098,
          0.07147667741502871,
          0.3988276556343346,
          0.37836277804028534,
          0.4192591707294552,
          0.08049356114156998,
          0.11076227842341946,
          0.06235936688601808,
          0.17425807233231708,
          0.08931798973746191,
          0.16559414620020782,
          0.35180380858374094,
          0.12434998100703876,
          0.5094217252000609,
          0.3972706805834556,
          0.14367773583033008,
          0.1742459301275193,
          0.22007137169021146,
          0.4711698832782911,
          0.1103185164954701,
          0.10552757466848432,
          0.11054306450442421,
          0.14771394205278388,
          0.06383328103754837,
          0.12108446585928091,
          0.09443592578516394,
          0.06737699231976216,
          0.0785521713622291,
          0.09997421605752457,
          0.29700948130385135,
          0.10247009908876724,
          0.07513920366288943,
          0.07138211353953795,
          0.15816871020035478,
          0.13082672232776618,
          0.08189053440097799,
          0.06912017284017719,
          0.3670791196472912,
          0.24476204714627478,
          0.06074526803028453,
          0.26141222721544927,
          0.4173827726038277,
          0.11074327270861657,
          0.19904707875295205,
          0.12190733838838197,
          0.3321458591197401,
          0.3389286210709408,
          0.06845264419787211,
          0.16460712170042574,
          0.45669618544847573,
          0.11224893013415395,
          0.3543019766563467,
          0.10163497504915057,
          0.20062299255262825,
          0.432679573871668,
          0.2377766997700801,
          0.0739270638850556,
          0.3123536337621803,
          0.5178791235023743,
          0.12104315159410518,
          0.31663133260681586,
          0.08268602019785866,
          0.8932160408423365,
          0.06855276856194943,
          0.10640543559195831,
          0.14247655062598483,
          0.1175069891883341,
          0.29069877946539874,
          0.16854701761470003,
          0.20508981345039357,
          0.09505897960949442,
          0.10511716181136428,
          0.08607696103756605,
          0.053811452792055056,
          0.05998289183222958,
          0.05574884383816643,
          0.15496164027337503,
          0.05401936440554764,
          0.15101966037631434,
          0.08150792483900374,
          0.05785409252669039,
          0.2969907925045596,
          0.14227498379070727,
          0.1161116117295403,
          0.07984199210696825,
          0.07566657818187181,
          0.3888373703331439,
          0.2023543221134279,
          0.11473061042760248,
          0.09711174406222611,
          0.22495563454168518,
          0.24830350576877447,
          0.0429042944095142,
          0.36621074985003715,
          0.14406699729753808,
          0.09505147837968707,
          0.1431269509349335,
          0.1340401830297888,
          0.2545541548366567,
          0.11658279288138676,
          0.21118118562182858,
          0.1906499984284281,
          0.12779018128726122,
          0.12516728076946695,
          0.13214718802715236,
          0.1100765517822885,
          0.20425954146840147,
          0.2473511824643069,
          0.2148321595141954,
          0.09452581937162866,
          0.06540253260491995,
          0.11841014642226148,
          0.16968393490661282,
          0.21905868788338229,
          0.07264284577431163,
          0.02617972471214792,
          0.18686663040864615,
          0.10743467932986304,
          0.20423580678213307,
          0.18075227963525836,
          0.16784757759774568,
          0.06094247475065955,
          0.11715158546017014,
          0.09734422529646816,
          0.12321966156325544,
          0.0953337094590238,
          0.10011517261709055,
          0.1575095891410153,
          0.2891934216442626,
          0.1281700764351927,
          0.14036849810025698,
          0.2372799390589569,
          0.25305614546050476,
          0.17255056953681513,
          0.16967751526515776,
          0.17505711261374543,
          0.37233516484509466,
          0.09176982732575482,
          0.19497122301159073,
          0.15279451734727867,
          0.08521762974852862,
          0.10675915409595083,
          0.12248238518283308,
          0.09799423843164842,
          0.1506889887942025,
          0.27801103916384257,
          0.10634524408656265,
          0.1624356857713346,
          0.11258379578246394,
          0.09183655557983927,
          0.034340083423035524,
          0.44513292753715783,
          0.0880564337122486,
          0.14710025555106984,
          0.16426508582318614,
          0.14768713105414066,
          0.1916642037820513,
          0.1615172355119973,
          0.09911324655955529,
          0.21482707759807412,
          0.06719840651635871,
          0.22059575266225798,
          0.0677963839862247,
          0.16000410139077342,
          0.09550114113002714,
          0.23656879459217392,
          0.16669330923180897,
          0.18217968702294798,
          0.19696266400723034,
          0.26293575594891017,
          0.23535262589705216,
          0.17344672704387187,
          0.10452680125304559,
          0.1974558209580838,
          0.1514648912097476,
          0.33131098773436685,
          0.18142165437654686,
          0.30728244192873577,
          0.134420747385416,
          0.0861023543120474,
          0.0831991222570533,
          0.19074610858643382,
          0.2712695895152592,
          0.201868120567157,
          0.07149045551650471,
          0.15319395897550572,
          0.2494278723413054,
          0.28148196522249863,
          0.09144661098150193,
          0.16943746117208533,
          0.11707179912499134,
          0.09687992985493384,
          0.19791240039209437,
          0.11168216879064133,
          0.20197426657844386,
          0.13746749561932092,
          0.18482720694997928,
          0.17107968076935354,
          0.08039290617437667,
          0.1909833966505955,
          0.1734025352022734,
          0.22800611074595722,
          0.23629084629043529,
          0.08708015925135446,
          0.05319424489963466,
          0.12428452536667765,
          0.5897952768444481,
          0.10725387958204013,
          0.3079220714012155,
          0.40522509589103956,
          0.22507646880941412,
          0.15463585631031299,
          0.11367395635515999,
          0.12510462059347183,
          0.12068721850089233,
          0.06886293783746365,
          0.0933495982961629,
          0.44000266705230345,
          0.050792933844821614,
          0.18487600015932945,
          0.1266863872497402,
          0.16851139513369354,
          0.15873715749766185,
          0.10501834829870625,
          0.1312095257917924,
          0.17488478659579237,
          0.21925116086079355,
          0.20876053681462978,
          0.10432990646617986,
          0.14187871894955964,
          0.184076083471341,
          0.22043018964797997,
          0.18944026841378866,
          0.2933265444176319,
          0.19213506210668554,
          0.19276549186676994,
          0.06538695413613918,
          0.1115622353728304,
          0.12015055432302271,
          0.1189590226001864,
          0.32189014133391586,
          0.09590201502533341,
          0.22458886652961246,
          0.15457407785974633,
          0.09557225332983438,
          0.42346305214446295,
          0.27836099521417934,
          0.1277723847964488,
          0.23925004380365592,
          0.47700637559441994,
          0.3472709493461561,
          0.18594845479974198,
          0.23455331066213125,
          0.09831462257023874,
          0.1719478022538686,
          0.07041820638016627,
          0.3994162650888647,
          0.10419334264789755,
          0.24892390849580007,
          0.13940133799460666,
          0.601269870137178,
          0.14893712636065914,
          0.25575104654845165,
          0.08643301004914068,
          0.2587524009812342,
          0.23426960963152132,
          0.1926057226142701,
          0.10921463757135037,
          0.35251008284119556,
          0.311784938970358,
          0.29430031976516635,
          0.10274646709766737,
          0.3650516521725416,
          0.11584223257091779,
          0.06725604691345043,
          0.17348666017251013,
          0.0706531866596822,
          0.06528963084552789,
          0.08301214176843137,
          0.09676285022119234,
          0.33056232942185204,
          0.14454268890018226,
          0.40891974207408965,
          0.055181726376759936,
          0.2913401926033379,
          0.14427278983994016,
          0.2706426217632257,
          0.16576076326842878,
          0.3398743016579564,
          0.16817857142857143,
          0.11556560922855083,
          0.08399992094653351,
          0.23028061251383694,
          0.2762968555810337,
          0.1054832917731926,
          0.06433998727696545,
          0.1618351377559224,
          0.2105834853934092,
          0.3864576203153964,
          0.13446443288442372,
          0.19908041587198438,
          0.06850112494375321,
          0.1361066102868608,
          0.1406471481733612,
          0.1453226131776185,
          0.1664782893837956,
          0.06526424488059743,
          0.16537168510556127,
          0.0904851060235993,
          0.06468066568771415,
          0.11761011129907525,
          0.18804441245985157,
          0.09601489645309558,
          0.19271516211414613,
          0.10531123143134805,
          0.06755397063730396,
          0.6470978458263631,
          0.28900399567464863,
          0.07687035991199369,
          0.14024745988654322,
          0.0637173532731377,
          0.25779805895252106,
          0.10981057044411714,
          0.13804437247883644,
          0.18038523329345413,
          0.0805871865818524,
          0.12666400121776286,
          0.21634936034461652,
          0.15499825745467885,
          0.12409122035033014,
          0.13104621575281805,
          0.10853891092859537
         ],
         "y0": " ",
         "yaxis": "y"
        }
       ],
       "layout": {
        "boxmode": "group",
        "legend": {
         "tracegroupgap": 0
        },
        "margin": {
         "t": 60
        },
        "template": {
         "data": {
          "bar": [
           {
            "error_x": {
             "color": "#2a3f5f"
            },
            "error_y": {
             "color": "#2a3f5f"
            },
            "marker": {
             "line": {
              "color": "#E5ECF6",
              "width": 0.5
             },
             "pattern": {
              "fillmode": "overlay",
              "size": 10,
              "solidity": 0.2
             }
            },
            "type": "bar"
           }
          ],
          "barpolar": [
           {
            "marker": {
             "line": {
              "color": "#E5ECF6",
              "width": 0.5
             },
             "pattern": {
              "fillmode": "overlay",
              "size": 10,
              "solidity": 0.2
             }
            },
            "type": "barpolar"
           }
          ],
          "carpet": [
           {
            "aaxis": {
             "endlinecolor": "#2a3f5f",
             "gridcolor": "white",
             "linecolor": "white",
             "minorgridcolor": "white",
             "startlinecolor": "#2a3f5f"
            },
            "baxis": {
             "endlinecolor": "#2a3f5f",
             "gridcolor": "white",
             "linecolor": "white",
             "minorgridcolor": "white",
             "startlinecolor": "#2a3f5f"
            },
            "type": "carpet"
           }
          ],
          "choropleth": [
           {
            "colorbar": {
             "outlinewidth": 0,
             "ticks": ""
            },
            "type": "choropleth"
           }
          ],
          "contour": [
           {
            "colorbar": {
             "outlinewidth": 0,
             "ticks": ""
            },
            "colorscale": [
             [
              0,
              "#0d0887"
             ],
             [
              0.1111111111111111,
              "#46039f"
             ],
             [
              0.2222222222222222,
              "#7201a8"
             ],
             [
              0.3333333333333333,
              "#9c179e"
             ],
             [
              0.4444444444444444,
              "#bd3786"
             ],
             [
              0.5555555555555556,
              "#d8576b"
             ],
             [
              0.6666666666666666,
              "#ed7953"
             ],
             [
              0.7777777777777778,
              "#fb9f3a"
             ],
             [
              0.8888888888888888,
              "#fdca26"
             ],
             [
              1,
              "#f0f921"
             ]
            ],
            "type": "contour"
           }
          ],
          "contourcarpet": [
           {
            "colorbar": {
             "outlinewidth": 0,
             "ticks": ""
            },
            "type": "contourcarpet"
           }
          ],
          "heatmap": [
           {
            "colorbar": {
             "outlinewidth": 0,
             "ticks": ""
            },
            "colorscale": [
             [
              0,
              "#0d0887"
             ],
             [
              0.1111111111111111,
              "#46039f"
             ],
             [
              0.2222222222222222,
              "#7201a8"
             ],
             [
              0.3333333333333333,
              "#9c179e"
             ],
             [
              0.4444444444444444,
              "#bd3786"
             ],
             [
              0.5555555555555556,
              "#d8576b"
             ],
             [
              0.6666666666666666,
              "#ed7953"
             ],
             [
              0.7777777777777778,
              "#fb9f3a"
             ],
             [
              0.8888888888888888,
              "#fdca26"
             ],
             [
              1,
              "#f0f921"
             ]
            ],
            "type": "heatmap"
           }
          ],
          "heatmapgl": [
           {
            "colorbar": {
             "outlinewidth": 0,
             "ticks": ""
            },
            "colorscale": [
             [
              0,
              "#0d0887"
             ],
             [
              0.1111111111111111,
              "#46039f"
             ],
             [
              0.2222222222222222,
              "#7201a8"
             ],
             [
              0.3333333333333333,
              "#9c179e"
             ],
             [
              0.4444444444444444,
              "#bd3786"
             ],
             [
              0.5555555555555556,
              "#d8576b"
             ],
             [
              0.6666666666666666,
              "#ed7953"
             ],
             [
              0.7777777777777778,
              "#fb9f3a"
             ],
             [
              0.8888888888888888,
              "#fdca26"
             ],
             [
              1,
              "#f0f921"
             ]
            ],
            "type": "heatmapgl"
           }
          ],
          "histogram": [
           {
            "marker": {
             "pattern": {
              "fillmode": "overlay",
              "size": 10,
              "solidity": 0.2
             }
            },
            "type": "histogram"
           }
          ],
          "histogram2d": [
           {
            "colorbar": {
             "outlinewidth": 0,
             "ticks": ""
            },
            "colorscale": [
             [
              0,
              "#0d0887"
             ],
             [
              0.1111111111111111,
              "#46039f"
             ],
             [
              0.2222222222222222,
              "#7201a8"
             ],
             [
              0.3333333333333333,
              "#9c179e"
             ],
             [
              0.4444444444444444,
              "#bd3786"
             ],
             [
              0.5555555555555556,
              "#d8576b"
             ],
             [
              0.6666666666666666,
              "#ed7953"
             ],
             [
              0.7777777777777778,
              "#fb9f3a"
             ],
             [
              0.8888888888888888,
              "#fdca26"
             ],
             [
              1,
              "#f0f921"
             ]
            ],
            "type": "histogram2d"
           }
          ],
          "histogram2dcontour": [
           {
            "colorbar": {
             "outlinewidth": 0,
             "ticks": ""
            },
            "colorscale": [
             [
              0,
              "#0d0887"
             ],
             [
              0.1111111111111111,
              "#46039f"
             ],
             [
              0.2222222222222222,
              "#7201a8"
             ],
             [
              0.3333333333333333,
              "#9c179e"
             ],
             [
              0.4444444444444444,
              "#bd3786"
             ],
             [
              0.5555555555555556,
              "#d8576b"
             ],
             [
              0.6666666666666666,
              "#ed7953"
             ],
             [
              0.7777777777777778,
              "#fb9f3a"
             ],
             [
              0.8888888888888888,
              "#fdca26"
             ],
             [
              1,
              "#f0f921"
             ]
            ],
            "type": "histogram2dcontour"
           }
          ],
          "mesh3d": [
           {
            "colorbar": {
             "outlinewidth": 0,
             "ticks": ""
            },
            "type": "mesh3d"
           }
          ],
          "parcoords": [
           {
            "line": {
             "colorbar": {
              "outlinewidth": 0,
              "ticks": ""
             }
            },
            "type": "parcoords"
           }
          ],
          "pie": [
           {
            "automargin": true,
            "type": "pie"
           }
          ],
          "scatter": [
           {
            "fillpattern": {
             "fillmode": "overlay",
             "size": 10,
             "solidity": 0.2
            },
            "type": "scatter"
           }
          ],
          "scatter3d": [
           {
            "line": {
             "colorbar": {
              "outlinewidth": 0,
              "ticks": ""
             }
            },
            "marker": {
             "colorbar": {
              "outlinewidth": 0,
              "ticks": ""
             }
            },
            "type": "scatter3d"
           }
          ],
          "scattercarpet": [
           {
            "marker": {
             "colorbar": {
              "outlinewidth": 0,
              "ticks": ""
             }
            },
            "type": "scattercarpet"
           }
          ],
          "scattergeo": [
           {
            "marker": {
             "colorbar": {
              "outlinewidth": 0,
              "ticks": ""
             }
            },
            "type": "scattergeo"
           }
          ],
          "scattergl": [
           {
            "marker": {
             "colorbar": {
              "outlinewidth": 0,
              "ticks": ""
             }
            },
            "type": "scattergl"
           }
          ],
          "scattermapbox": [
           {
            "marker": {
             "colorbar": {
              "outlinewidth": 0,
              "ticks": ""
             }
            },
            "type": "scattermapbox"
           }
          ],
          "scatterpolar": [
           {
            "marker": {
             "colorbar": {
              "outlinewidth": 0,
              "ticks": ""
             }
            },
            "type": "scatterpolar"
           }
          ],
          "scatterpolargl": [
           {
            "marker": {
             "colorbar": {
              "outlinewidth": 0,
              "ticks": ""
             }
            },
            "type": "scatterpolargl"
           }
          ],
          "scatterternary": [
           {
            "marker": {
             "colorbar": {
              "outlinewidth": 0,
              "ticks": ""
             }
            },
            "type": "scatterternary"
           }
          ],
          "surface": [
           {
            "colorbar": {
             "outlinewidth": 0,
             "ticks": ""
            },
            "colorscale": [
             [
              0,
              "#0d0887"
             ],
             [
              0.1111111111111111,
              "#46039f"
             ],
             [
              0.2222222222222222,
              "#7201a8"
             ],
             [
              0.3333333333333333,
              "#9c179e"
             ],
             [
              0.4444444444444444,
              "#bd3786"
             ],
             [
              0.5555555555555556,
              "#d8576b"
             ],
             [
              0.6666666666666666,
              "#ed7953"
             ],
             [
              0.7777777777777778,
              "#fb9f3a"
             ],
             [
              0.8888888888888888,
              "#fdca26"
             ],
             [
              1,
              "#f0f921"
             ]
            ],
            "type": "surface"
           }
          ],
          "table": [
           {
            "cells": {
             "fill": {
              "color": "#EBF0F8"
             },
             "line": {
              "color": "white"
             }
            },
            "header": {
             "fill": {
              "color": "#C8D4E3"
             },
             "line": {
              "color": "white"
             }
            },
            "type": "table"
           }
          ]
         },
         "layout": {
          "annotationdefaults": {
           "arrowcolor": "#2a3f5f",
           "arrowhead": 0,
           "arrowwidth": 1
          },
          "autotypenumbers": "strict",
          "coloraxis": {
           "colorbar": {
            "outlinewidth": 0,
            "ticks": ""
           }
          },
          "colorscale": {
           "diverging": [
            [
             0,
             "#8e0152"
            ],
            [
             0.1,
             "#c51b7d"
            ],
            [
             0.2,
             "#de77ae"
            ],
            [
             0.3,
             "#f1b6da"
            ],
            [
             0.4,
             "#fde0ef"
            ],
            [
             0.5,
             "#f7f7f7"
            ],
            [
             0.6,
             "#e6f5d0"
            ],
            [
             0.7,
             "#b8e186"
            ],
            [
             0.8,
             "#7fbc41"
            ],
            [
             0.9,
             "#4d9221"
            ],
            [
             1,
             "#276419"
            ]
           ],
           "sequential": [
            [
             0,
             "#0d0887"
            ],
            [
             0.1111111111111111,
             "#46039f"
            ],
            [
             0.2222222222222222,
             "#7201a8"
            ],
            [
             0.3333333333333333,
             "#9c179e"
            ],
            [
             0.4444444444444444,
             "#bd3786"
            ],
            [
             0.5555555555555556,
             "#d8576b"
            ],
            [
             0.6666666666666666,
             "#ed7953"
            ],
            [
             0.7777777777777778,
             "#fb9f3a"
            ],
            [
             0.8888888888888888,
             "#fdca26"
            ],
            [
             1,
             "#f0f921"
            ]
           ],
           "sequentialminus": [
            [
             0,
             "#0d0887"
            ],
            [
             0.1111111111111111,
             "#46039f"
            ],
            [
             0.2222222222222222,
             "#7201a8"
            ],
            [
             0.3333333333333333,
             "#9c179e"
            ],
            [
             0.4444444444444444,
             "#bd3786"
            ],
            [
             0.5555555555555556,
             "#d8576b"
            ],
            [
             0.6666666666666666,
             "#ed7953"
            ],
            [
             0.7777777777777778,
             "#fb9f3a"
            ],
            [
             0.8888888888888888,
             "#fdca26"
            ],
            [
             1,
             "#f0f921"
            ]
           ]
          },
          "colorway": [
           "#636efa",
           "#EF553B",
           "#00cc96",
           "#ab63fa",
           "#FFA15A",
           "#19d3f3",
           "#FF6692",
           "#B6E880",
           "#FF97FF",
           "#FECB52"
          ],
          "font": {
           "color": "#2a3f5f"
          },
          "geo": {
           "bgcolor": "white",
           "lakecolor": "white",
           "landcolor": "#E5ECF6",
           "showlakes": true,
           "showland": true,
           "subunitcolor": "white"
          },
          "hoverlabel": {
           "align": "left"
          },
          "hovermode": "closest",
          "mapbox": {
           "style": "light"
          },
          "paper_bgcolor": "white",
          "plot_bgcolor": "#E5ECF6",
          "polar": {
           "angularaxis": {
            "gridcolor": "white",
            "linecolor": "white",
            "ticks": ""
           },
           "bgcolor": "#E5ECF6",
           "radialaxis": {
            "gridcolor": "white",
            "linecolor": "white",
            "ticks": ""
           }
          },
          "scene": {
           "xaxis": {
            "backgroundcolor": "#E5ECF6",
            "gridcolor": "white",
            "gridwidth": 2,
            "linecolor": "white",
            "showbackground": true,
            "ticks": "",
            "zerolinecolor": "white"
           },
           "yaxis": {
            "backgroundcolor": "#E5ECF6",
            "gridcolor": "white",
            "gridwidth": 2,
            "linecolor": "white",
            "showbackground": true,
            "ticks": "",
            "zerolinecolor": "white"
           },
           "zaxis": {
            "backgroundcolor": "#E5ECF6",
            "gridcolor": "white",
            "gridwidth": 2,
            "linecolor": "white",
            "showbackground": true,
            "ticks": "",
            "zerolinecolor": "white"
           }
          },
          "shapedefaults": {
           "line": {
            "color": "#2a3f5f"
           }
          },
          "ternary": {
           "aaxis": {
            "gridcolor": "white",
            "linecolor": "white",
            "ticks": ""
           },
           "baxis": {
            "gridcolor": "white",
            "linecolor": "white",
            "ticks": ""
           },
           "bgcolor": "#E5ECF6",
           "caxis": {
            "gridcolor": "white",
            "linecolor": "white",
            "ticks": ""
           }
          },
          "title": {
           "x": 0.05
          },
          "xaxis": {
           "automargin": true,
           "gridcolor": "white",
           "linecolor": "white",
           "ticks": "",
           "title": {
            "standoff": 15
           },
           "zerolinecolor": "white",
           "zerolinewidth": 2
          },
          "yaxis": {
           "automargin": true,
           "gridcolor": "white",
           "linecolor": "white",
           "ticks": "",
           "title": {
            "standoff": 15
           },
           "zerolinecolor": "white",
           "zerolinewidth": 2
          }
         }
        },
        "xaxis": {
         "anchor": "y",
         "domain": [
          0,
          1
         ],
         "title": {
          "text": "Acorn_Group"
         }
        },
        "yaxis": {
         "anchor": "x",
         "domain": [
          0,
          1
         ],
         "title": {
          "text": "KWH/hh"
         }
        }
       }
      },
      "text/html": [
       "<div>                            <div id=\"d27f103d-18b2-4104-924b-98a61f218676\" class=\"plotly-graph-div\" style=\"height:525px; width:100%;\"></div>            <script type=\"text/javascript\">                require([\"plotly\"], function(Plotly) {                    window.PLOTLYENV=window.PLOTLYENV || {};                                    if (document.getElementById(\"d27f103d-18b2-4104-924b-98a61f218676\")) {                    Plotly.newPlot(                        \"d27f103d-18b2-4104-924b-98a61f218676\",                        [{\"alignmentgroup\":\"True\",\"boxpoints\":\"all\",\"hovertemplate\":\"Acorn_Group=%{x}<br>KWH/hh=%{y}<extra></extra>\",\"legendgroup\":\"\",\"marker\":{\"color\":\"#636efa\"},\"name\":\"\",\"notched\":false,\"offsetgroup\":\"\",\"orientation\":\"v\",\"showlegend\":false,\"x\":[\"O\",\"O\",\"O\",\"O\",\"O\",\"O\",\"O\",\"O\",\"O\",\"O\",\"O\",\"O\",\"O\",\"O\",\"O\",\"O\",\"O\",\"O\",\"O\",\"O\",\"O\",\"O\",\"O\",\"O\",\"O\",\"O\",\"O\",\"O\",\"O\",\"O\",\"O\",\"O\",\"O\",\"O\",\"O\",\"P\",\"P\",\"P\",\"P\",\"P\",\"P\",\"P\",\"P\",\"P\",\"P\",\"P\",\"P\",\"P\",\"P\",\"P\",\"P\",\"P\",\"P\",\"P\",\"P\",\"P\",\"P\",\"P\",\"P\",\"P\",\"P\",\"Q\",\"Q\",\"Q\",\"Q\",\"Q\",\"Q\",\"Q\",\"Q\",\"Q\",\"Q\",\"Q\",\"Q\",\"Q\",\"Q\",\"Q\",\"Q\",\"Q\",\"Q\",\"Q\",\"Q\",\"Q\",\"Q\",\"Q\",\"Q\",\"Q\",\"Q\",\"Q\",\"Q\",\"Q\",\"Q\",\"Q\",\"Q\",\"Q\",\"Q\",\"Q\",\"Q\",\"Q\",\"Q\",\"Q\",\"Q\",\"Q\",\"Q\",\"Q\",\"Q\",\"Q\",\"Q\",\"Q\",\"Q\",\"Q\",\"Q\",\"Q\",\"Q\",\"Q\",\"Q\",\"Q\",\"Q\",\"Q\",\"Q\",\"Q\",\"Q\",\"Q\",\"Q\",\"Q\",\"Q\",\"Q\",\"Q\",\"Q\",\"Q\",\"Q\",\"Q\",\"Q\",\"Q\",\"Q\",\"Q\",\"Q\",\"Q\",\"Q\",\"Q\",\"Q\",\"Q\",\"Q\",\"Q\",\"Q\",\"Q\",\"Q\",\"Q\",\"Q\",\"Q\",\"Q\",\"Q\",\"Q\",\"Q\",\"Q\",\"Q\",\"Q\",\"Q\",\"Q\",\"Q\",\"Q\",\"Q\",\"Q\",\"Q\",\"Q\",\"Q\",\"Q\",\"Q\",\"Q\",\"Q\",\"Q\",\"Q\",\"Q\",\"Q\",\"Q\",\"Q\",\"Q\",\"Q\",\"Q\",\"Q\",\"Q\",\"Q\",\"Q\",\"Q\",\"Q\",\"Q\",\"Q\",\"Q\",\"Q\",\"Q\",\"Q\",\"Q\",\"Q\",\"Q\",\"Q\",\"Q\",\"Q\",\"Q\",\"Q\",\"Q\",\"Q\",\"Q\",\"Q\",\"Q\",\"Q\",\"Q\",\"Q\",\"Q\",\"Q\",\"Q\",\"Q\",\"Q\",\"Q\",\"Q\",\"Q\",\"Q\",\"Q\",\"Q\",\"Q\",\"Q\",\"Q\",\"Q\",\"Q\",\"Q\",\"Q\",\"Q\",\"Q\",\"Q\",\"Q\",\"Q\",\"Q\",\"Q\",\"Q\",\"Q\",\"Q\",\"Q\",\"Q\",\"Q\",\"Q\",\"Q\",\"Q\",\"Q\",\"Q\",\"Q\",\"Q\",\"Q\",\"Q\",\"Q\",\"Q\",\"Q\",\"Q\",\"Q\",\"Q\",\"Q\",\"Q\",\"Q\",\"Q\",\"Q\",\"Q\",\"Q\",\"Q\",\"Q\",\"Q\",\"Q\",\"Q\",\"Q\",\"Q\",\"Q\",\"Q\",\"Q\",\"Q\",\"Q\",\"Q\",\"Q\",\"Q\",\"Q\",\"Q\",\"Q\",\"Q\",\"Q\",\"Q\",\"Q\",\"Q\",\"Q\",\"Q\",\"Q\",\"Q\",\"Q\",\"Q\",\"Q\",\"Q\",\"Q\",\"Q\",\"Q\",\"Q\",\"Q\",\"Q\",\"Q\",\"Q\",\"Q\",\"Q\",\"Q\",\"Q\",\"Q\",\"Q\",\"Q\",\"Q\",\"Q\",\"Q\",\"Q\",\"Q\",\"Q\",\"Q\",\"Q\",\"Q\",\"Q\",\"Q\",\"Q\",\"Q\",\"Q\",\"Q\",\"Q\",\"Q\",\"Q\",\"Q\",\"Q\",\"Q\",\"Q\",\"Q\",\"Q\",\"Q\",\"Q\",\"Q\",\"Q\",\"Q\",\"Q\",\"Q\",\"Q\",\"Q\",\"Q\",\"Q\",\"Q\",\"Q\",\"Q\",\"Q\",\"Q\",\"Q\",\"Q\",\"Q\",\"Q\",\"Q\",\"Q\",\"Q\",\"Q\"],\"x0\":\" \",\"xaxis\":\"x\",\"y\":[0.1481963791509027,0.12161727356075125,0.06707966553826501,0.19266347146438578,0.2395965969449905,0.17755636472128064,0.3462852468902294,0.1409184875564976,0.2857860999581954,0.19217931491680013,0.15043411545792335,0.29778485925314985,0.2886765891836816,0.254116152768014,0.06512699829586951,0.0983428205510575,0.20034847794160282,0.158201001071399,0.157277858240576,0.10563876834946596,0.25149780169576685,0.10323914050601098,0.07147667741502871,0.3988276556343346,0.37836277804028534,0.4192591707294552,0.08049356114156998,0.11076227842341946,0.06235936688601808,0.17425807233231708,0.08931798973746191,0.16559414620020782,0.35180380858374094,0.12434998100703876,0.5094217252000609,0.3972706805834556,0.14367773583033008,0.1742459301275193,0.22007137169021146,0.4711698832782911,0.1103185164954701,0.10552757466848432,0.11054306450442421,0.14771394205278388,0.06383328103754837,0.12108446585928091,0.09443592578516394,0.06737699231976216,0.0785521713622291,0.09997421605752457,0.29700948130385135,0.10247009908876724,0.07513920366288943,0.07138211353953795,0.15816871020035478,0.13082672232776618,0.08189053440097799,0.06912017284017719,0.3670791196472912,0.24476204714627478,0.06074526803028453,0.26141222721544927,0.4173827726038277,0.11074327270861657,0.19904707875295205,0.12190733838838197,0.3321458591197401,0.3389286210709408,0.06845264419787211,0.16460712170042574,0.45669618544847573,0.11224893013415395,0.3543019766563467,0.10163497504915057,0.20062299255262825,0.432679573871668,0.2377766997700801,0.0739270638850556,0.3123536337621803,0.5178791235023743,0.12104315159410518,0.31663133260681586,0.08268602019785866,0.8932160408423365,0.06855276856194943,0.10640543559195831,0.14247655062598483,0.1175069891883341,0.29069877946539874,0.16854701761470003,0.20508981345039357,0.09505897960949442,0.10511716181136428,0.08607696103756605,0.053811452792055056,0.05998289183222958,0.05574884383816643,0.15496164027337503,0.05401936440554764,0.15101966037631434,0.08150792483900374,0.05785409252669039,0.2969907925045596,0.14227498379070727,0.1161116117295403,0.07984199210696825,0.07566657818187181,0.3888373703331439,0.2023543221134279,0.11473061042760248,0.09711174406222611,0.22495563454168518,0.24830350576877447,0.0429042944095142,0.36621074985003715,0.14406699729753808,0.09505147837968707,0.1431269509349335,0.1340401830297888,0.2545541548366567,0.11658279288138676,0.21118118562182858,0.1906499984284281,0.12779018128726122,0.12516728076946695,0.13214718802715236,0.1100765517822885,0.20425954146840147,0.2473511824643069,0.2148321595141954,0.09452581937162866,0.06540253260491995,0.11841014642226148,0.16968393490661282,0.21905868788338229,0.07264284577431163,0.02617972471214792,0.18686663040864615,0.10743467932986304,0.20423580678213307,0.18075227963525836,0.16784757759774568,0.06094247475065955,0.11715158546017014,0.09734422529646816,0.12321966156325544,0.0953337094590238,0.10011517261709055,0.1575095891410153,0.2891934216442626,0.1281700764351927,0.14036849810025698,0.2372799390589569,0.25305614546050476,0.17255056953681513,0.16967751526515776,0.17505711261374543,0.37233516484509466,0.09176982732575482,0.19497122301159073,0.15279451734727867,0.08521762974852862,0.10675915409595083,0.12248238518283308,0.09799423843164842,0.1506889887942025,0.27801103916384257,0.10634524408656265,0.1624356857713346,0.11258379578246394,0.09183655557983927,0.034340083423035524,0.44513292753715783,0.0880564337122486,0.14710025555106984,0.16426508582318614,0.14768713105414066,0.1916642037820513,0.1615172355119973,0.09911324655955529,0.21482707759807412,0.06719840651635871,0.22059575266225798,0.0677963839862247,0.16000410139077342,0.09550114113002714,0.23656879459217392,0.16669330923180897,0.18217968702294798,0.19696266400723034,0.26293575594891017,0.23535262589705216,0.17344672704387187,0.10452680125304559,0.1974558209580838,0.1514648912097476,0.33131098773436685,0.18142165437654686,0.30728244192873577,0.134420747385416,0.0861023543120474,0.0831991222570533,0.19074610858643382,0.2712695895152592,0.201868120567157,0.07149045551650471,0.15319395897550572,0.2494278723413054,0.28148196522249863,0.09144661098150193,0.16943746117208533,0.11707179912499134,0.09687992985493384,0.19791240039209437,0.11168216879064133,0.20197426657844386,0.13746749561932092,0.18482720694997928,0.17107968076935354,0.08039290617437667,0.1909833966505955,0.1734025352022734,0.22800611074595722,0.23629084629043529,0.08708015925135446,0.05319424489963466,0.12428452536667765,0.5897952768444481,0.10725387958204013,0.3079220714012155,0.40522509589103956,0.22507646880941412,0.15463585631031299,0.11367395635515999,0.12510462059347183,0.12068721850089233,0.06886293783746365,0.0933495982961629,0.44000266705230345,0.050792933844821614,0.18487600015932945,0.1266863872497402,0.16851139513369354,0.15873715749766185,0.10501834829870625,0.1312095257917924,0.17488478659579237,0.21925116086079355,0.20876053681462978,0.10432990646617986,0.14187871894955964,0.184076083471341,0.22043018964797997,0.18944026841378866,0.2933265444176319,0.19213506210668554,0.19276549186676994,0.06538695413613918,0.1115622353728304,0.12015055432302271,0.1189590226001864,0.32189014133391586,0.09590201502533341,0.22458886652961246,0.15457407785974633,0.09557225332983438,0.42346305214446295,0.27836099521417934,0.1277723847964488,0.23925004380365592,0.47700637559441994,0.3472709493461561,0.18594845479974198,0.23455331066213125,0.09831462257023874,0.1719478022538686,0.07041820638016627,0.3994162650888647,0.10419334264789755,0.24892390849580007,0.13940133799460666,0.601269870137178,0.14893712636065914,0.25575104654845165,0.08643301004914068,0.2587524009812342,0.23426960963152132,0.1926057226142701,0.10921463757135037,0.35251008284119556,0.311784938970358,0.29430031976516635,0.10274646709766737,0.3650516521725416,0.11584223257091779,0.06725604691345043,0.17348666017251013,0.0706531866596822,0.06528963084552789,0.08301214176843137,0.09676285022119234,0.33056232942185204,0.14454268890018226,0.40891974207408965,0.055181726376759936,0.2913401926033379,0.14427278983994016,0.2706426217632257,0.16576076326842878,0.3398743016579564,0.16817857142857143,0.11556560922855083,0.08399992094653351,0.23028061251383694,0.2762968555810337,0.1054832917731926,0.06433998727696545,0.1618351377559224,0.2105834853934092,0.3864576203153964,0.13446443288442372,0.19908041587198438,0.06850112494375321,0.1361066102868608,0.1406471481733612,0.1453226131776185,0.1664782893837956,0.06526424488059743,0.16537168510556127,0.0904851060235993,0.06468066568771415,0.11761011129907525,0.18804441245985157,0.09601489645309558,0.19271516211414613,0.10531123143134805,0.06755397063730396,0.6470978458263631,0.28900399567464863,0.07687035991199369,0.14024745988654322,0.0637173532731377,0.25779805895252106,0.10981057044411714,0.13804437247883644,0.18038523329345413,0.0805871865818524,0.12666400121776286,0.21634936034461652,0.15499825745467885,0.12409122035033014,0.13104621575281805,0.10853891092859537],\"y0\":\" \",\"yaxis\":\"y\",\"type\":\"box\"}],                        {\"template\":{\"data\":{\"histogram2dcontour\":[{\"type\":\"histogram2dcontour\",\"colorbar\":{\"outlinewidth\":0,\"ticks\":\"\"},\"colorscale\":[[0.0,\"#0d0887\"],[0.1111111111111111,\"#46039f\"],[0.2222222222222222,\"#7201a8\"],[0.3333333333333333,\"#9c179e\"],[0.4444444444444444,\"#bd3786\"],[0.5555555555555556,\"#d8576b\"],[0.6666666666666666,\"#ed7953\"],[0.7777777777777778,\"#fb9f3a\"],[0.8888888888888888,\"#fdca26\"],[1.0,\"#f0f921\"]]}],\"choropleth\":[{\"type\":\"choropleth\",\"colorbar\":{\"outlinewidth\":0,\"ticks\":\"\"}}],\"histogram2d\":[{\"type\":\"histogram2d\",\"colorbar\":{\"outlinewidth\":0,\"ticks\":\"\"},\"colorscale\":[[0.0,\"#0d0887\"],[0.1111111111111111,\"#46039f\"],[0.2222222222222222,\"#7201a8\"],[0.3333333333333333,\"#9c179e\"],[0.4444444444444444,\"#bd3786\"],[0.5555555555555556,\"#d8576b\"],[0.6666666666666666,\"#ed7953\"],[0.7777777777777778,\"#fb9f3a\"],[0.8888888888888888,\"#fdca26\"],[1.0,\"#f0f921\"]]}],\"heatmap\":[{\"type\":\"heatmap\",\"colorbar\":{\"outlinewidth\":0,\"ticks\":\"\"},\"colorscale\":[[0.0,\"#0d0887\"],[0.1111111111111111,\"#46039f\"],[0.2222222222222222,\"#7201a8\"],[0.3333333333333333,\"#9c179e\"],[0.4444444444444444,\"#bd3786\"],[0.5555555555555556,\"#d8576b\"],[0.6666666666666666,\"#ed7953\"],[0.7777777777777778,\"#fb9f3a\"],[0.8888888888888888,\"#fdca26\"],[1.0,\"#f0f921\"]]}],\"heatmapgl\":[{\"type\":\"heatmapgl\",\"colorbar\":{\"outlinewidth\":0,\"ticks\":\"\"},\"colorscale\":[[0.0,\"#0d0887\"],[0.1111111111111111,\"#46039f\"],[0.2222222222222222,\"#7201a8\"],[0.3333333333333333,\"#9c179e\"],[0.4444444444444444,\"#bd3786\"],[0.5555555555555556,\"#d8576b\"],[0.6666666666666666,\"#ed7953\"],[0.7777777777777778,\"#fb9f3a\"],[0.8888888888888888,\"#fdca26\"],[1.0,\"#f0f921\"]]}],\"contourcarpet\":[{\"type\":\"contourcarpet\",\"colorbar\":{\"outlinewidth\":0,\"ticks\":\"\"}}],\"contour\":[{\"type\":\"contour\",\"colorbar\":{\"outlinewidth\":0,\"ticks\":\"\"},\"colorscale\":[[0.0,\"#0d0887\"],[0.1111111111111111,\"#46039f\"],[0.2222222222222222,\"#7201a8\"],[0.3333333333333333,\"#9c179e\"],[0.4444444444444444,\"#bd3786\"],[0.5555555555555556,\"#d8576b\"],[0.6666666666666666,\"#ed7953\"],[0.7777777777777778,\"#fb9f3a\"],[0.8888888888888888,\"#fdca26\"],[1.0,\"#f0f921\"]]}],\"surface\":[{\"type\":\"surface\",\"colorbar\":{\"outlinewidth\":0,\"ticks\":\"\"},\"colorscale\":[[0.0,\"#0d0887\"],[0.1111111111111111,\"#46039f\"],[0.2222222222222222,\"#7201a8\"],[0.3333333333333333,\"#9c179e\"],[0.4444444444444444,\"#bd3786\"],[0.5555555555555556,\"#d8576b\"],[0.6666666666666666,\"#ed7953\"],[0.7777777777777778,\"#fb9f3a\"],[0.8888888888888888,\"#fdca26\"],[1.0,\"#f0f921\"]]}],\"mesh3d\":[{\"type\":\"mesh3d\",\"colorbar\":{\"outlinewidth\":0,\"ticks\":\"\"}}],\"scatter\":[{\"fillpattern\":{\"fillmode\":\"overlay\",\"size\":10,\"solidity\":0.2},\"type\":\"scatter\"}],\"parcoords\":[{\"type\":\"parcoords\",\"line\":{\"colorbar\":{\"outlinewidth\":0,\"ticks\":\"\"}}}],\"scatterpolargl\":[{\"type\":\"scatterpolargl\",\"marker\":{\"colorbar\":{\"outlinewidth\":0,\"ticks\":\"\"}}}],\"bar\":[{\"error_x\":{\"color\":\"#2a3f5f\"},\"error_y\":{\"color\":\"#2a3f5f\"},\"marker\":{\"line\":{\"color\":\"#E5ECF6\",\"width\":0.5},\"pattern\":{\"fillmode\":\"overlay\",\"size\":10,\"solidity\":0.2}},\"type\":\"bar\"}],\"scattergeo\":[{\"type\":\"scattergeo\",\"marker\":{\"colorbar\":{\"outlinewidth\":0,\"ticks\":\"\"}}}],\"scatterpolar\":[{\"type\":\"scatterpolar\",\"marker\":{\"colorbar\":{\"outlinewidth\":0,\"ticks\":\"\"}}}],\"histogram\":[{\"marker\":{\"pattern\":{\"fillmode\":\"overlay\",\"size\":10,\"solidity\":0.2}},\"type\":\"histogram\"}],\"scattergl\":[{\"type\":\"scattergl\",\"marker\":{\"colorbar\":{\"outlinewidth\":0,\"ticks\":\"\"}}}],\"scatter3d\":[{\"type\":\"scatter3d\",\"line\":{\"colorbar\":{\"outlinewidth\":0,\"ticks\":\"\"}},\"marker\":{\"colorbar\":{\"outlinewidth\":0,\"ticks\":\"\"}}}],\"scattermapbox\":[{\"type\":\"scattermapbox\",\"marker\":{\"colorbar\":{\"outlinewidth\":0,\"ticks\":\"\"}}}],\"scatterternary\":[{\"type\":\"scatterternary\",\"marker\":{\"colorbar\":{\"outlinewidth\":0,\"ticks\":\"\"}}}],\"scattercarpet\":[{\"type\":\"scattercarpet\",\"marker\":{\"colorbar\":{\"outlinewidth\":0,\"ticks\":\"\"}}}],\"carpet\":[{\"aaxis\":{\"endlinecolor\":\"#2a3f5f\",\"gridcolor\":\"white\",\"linecolor\":\"white\",\"minorgridcolor\":\"white\",\"startlinecolor\":\"#2a3f5f\"},\"baxis\":{\"endlinecolor\":\"#2a3f5f\",\"gridcolor\":\"white\",\"linecolor\":\"white\",\"minorgridcolor\":\"white\",\"startlinecolor\":\"#2a3f5f\"},\"type\":\"carpet\"}],\"table\":[{\"cells\":{\"fill\":{\"color\":\"#EBF0F8\"},\"line\":{\"color\":\"white\"}},\"header\":{\"fill\":{\"color\":\"#C8D4E3\"},\"line\":{\"color\":\"white\"}},\"type\":\"table\"}],\"barpolar\":[{\"marker\":{\"line\":{\"color\":\"#E5ECF6\",\"width\":0.5},\"pattern\":{\"fillmode\":\"overlay\",\"size\":10,\"solidity\":0.2}},\"type\":\"barpolar\"}],\"pie\":[{\"automargin\":true,\"type\":\"pie\"}]},\"layout\":{\"autotypenumbers\":\"strict\",\"colorway\":[\"#636efa\",\"#EF553B\",\"#00cc96\",\"#ab63fa\",\"#FFA15A\",\"#19d3f3\",\"#FF6692\",\"#B6E880\",\"#FF97FF\",\"#FECB52\"],\"font\":{\"color\":\"#2a3f5f\"},\"hovermode\":\"closest\",\"hoverlabel\":{\"align\":\"left\"},\"paper_bgcolor\":\"white\",\"plot_bgcolor\":\"#E5ECF6\",\"polar\":{\"bgcolor\":\"#E5ECF6\",\"angularaxis\":{\"gridcolor\":\"white\",\"linecolor\":\"white\",\"ticks\":\"\"},\"radialaxis\":{\"gridcolor\":\"white\",\"linecolor\":\"white\",\"ticks\":\"\"}},\"ternary\":{\"bgcolor\":\"#E5ECF6\",\"aaxis\":{\"gridcolor\":\"white\",\"linecolor\":\"white\",\"ticks\":\"\"},\"baxis\":{\"gridcolor\":\"white\",\"linecolor\":\"white\",\"ticks\":\"\"},\"caxis\":{\"gridcolor\":\"white\",\"linecolor\":\"white\",\"ticks\":\"\"}},\"coloraxis\":{\"colorbar\":{\"outlinewidth\":0,\"ticks\":\"\"}},\"colorscale\":{\"sequential\":[[0.0,\"#0d0887\"],[0.1111111111111111,\"#46039f\"],[0.2222222222222222,\"#7201a8\"],[0.3333333333333333,\"#9c179e\"],[0.4444444444444444,\"#bd3786\"],[0.5555555555555556,\"#d8576b\"],[0.6666666666666666,\"#ed7953\"],[0.7777777777777778,\"#fb9f3a\"],[0.8888888888888888,\"#fdca26\"],[1.0,\"#f0f921\"]],\"sequentialminus\":[[0.0,\"#0d0887\"],[0.1111111111111111,\"#46039f\"],[0.2222222222222222,\"#7201a8\"],[0.3333333333333333,\"#9c179e\"],[0.4444444444444444,\"#bd3786\"],[0.5555555555555556,\"#d8576b\"],[0.6666666666666666,\"#ed7953\"],[0.7777777777777778,\"#fb9f3a\"],[0.8888888888888888,\"#fdca26\"],[1.0,\"#f0f921\"]],\"diverging\":[[0,\"#8e0152\"],[0.1,\"#c51b7d\"],[0.2,\"#de77ae\"],[0.3,\"#f1b6da\"],[0.4,\"#fde0ef\"],[0.5,\"#f7f7f7\"],[0.6,\"#e6f5d0\"],[0.7,\"#b8e186\"],[0.8,\"#7fbc41\"],[0.9,\"#4d9221\"],[1,\"#276419\"]]},\"xaxis\":{\"gridcolor\":\"white\",\"linecolor\":\"white\",\"ticks\":\"\",\"title\":{\"standoff\":15},\"zerolinecolor\":\"white\",\"automargin\":true,\"zerolinewidth\":2},\"yaxis\":{\"gridcolor\":\"white\",\"linecolor\":\"white\",\"ticks\":\"\",\"title\":{\"standoff\":15},\"zerolinecolor\":\"white\",\"automargin\":true,\"zerolinewidth\":2},\"scene\":{\"xaxis\":{\"backgroundcolor\":\"#E5ECF6\",\"gridcolor\":\"white\",\"linecolor\":\"white\",\"showbackground\":true,\"ticks\":\"\",\"zerolinecolor\":\"white\",\"gridwidth\":2},\"yaxis\":{\"backgroundcolor\":\"#E5ECF6\",\"gridcolor\":\"white\",\"linecolor\":\"white\",\"showbackground\":true,\"ticks\":\"\",\"zerolinecolor\":\"white\",\"gridwidth\":2},\"zaxis\":{\"backgroundcolor\":\"#E5ECF6\",\"gridcolor\":\"white\",\"linecolor\":\"white\",\"showbackground\":true,\"ticks\":\"\",\"zerolinecolor\":\"white\",\"gridwidth\":2}},\"shapedefaults\":{\"line\":{\"color\":\"#2a3f5f\"}},\"annotationdefaults\":{\"arrowcolor\":\"#2a3f5f\",\"arrowhead\":0,\"arrowwidth\":1},\"geo\":{\"bgcolor\":\"white\",\"landcolor\":\"#E5ECF6\",\"subunitcolor\":\"white\",\"showland\":true,\"showlakes\":true,\"lakecolor\":\"white\"},\"title\":{\"x\":0.05},\"mapbox\":{\"style\":\"light\"}}},\"xaxis\":{\"anchor\":\"y\",\"domain\":[0.0,1.0],\"title\":{\"text\":\"Acorn_Group\"}},\"yaxis\":{\"anchor\":\"x\",\"domain\":[0.0,1.0],\"title\":{\"text\":\"KWH/hh\"}},\"legend\":{\"tracegroupgap\":0},\"margin\":{\"t\":60},\"boxmode\":\"group\"},                        {\"responsive\": true}                    ).then(function(){\n",
       "                            \n",
       "var gd = document.getElementById('d27f103d-18b2-4104-924b-98a61f218676');\n",
       "var x = new MutationObserver(function (mutations, observer) {{\n",
       "        var display = window.getComputedStyle(gd).display;\n",
       "        if (!display || display === 'none') {{\n",
       "            console.log([gd, 'removed!']);\n",
       "            Plotly.purge(gd);\n",
       "            observer.disconnect();\n",
       "        }}\n",
       "}});\n",
       "\n",
       "// Listen for the removal of the full notebook cells\n",
       "var notebookContainer = gd.closest('#notebook-container');\n",
       "if (notebookContainer) {{\n",
       "    x.observe(notebookContainer, {childList: true});\n",
       "}}\n",
       "\n",
       "// Listen for the clearing of the current output cell\n",
       "var outputEl = gd.closest('.output');\n",
       "if (outputEl) {{\n",
       "    x.observe(outputEl, {childList: true});\n",
       "}}\n",
       "\n",
       "                        })                };                });            </script>        </div>"
      ]
     },
     "metadata": {},
     "output_type": "display_data"
    }
   ],
   "source": [
    "import plotly.express as px\n",
    "fig = px.box(cat5, x=\"Acorn_Group\", y=\"KWH/hh\", points='all')\n",
    "fig.show()"
   ]
  },
  {
   "cell_type": "markdown",
   "id": "3ff9fbb2",
   "metadata": {},
   "source": [
    "Overall"
   ]
  },
  {
   "cell_type": "code",
   "execution_count": 44,
   "id": "c8710334",
   "metadata": {},
   "outputs": [],
   "source": [
    "allh = [cat1, cat2, cat3, cat4, cat5]\n",
    "ovr = pd.concat(allh)"
   ]
  },
  {
   "cell_type": "code",
   "execution_count": 54,
   "id": "4579d897",
   "metadata": {},
   "outputs": [
    {
     "data": {
      "text/html": [
       "<div>\n",
       "<style scoped>\n",
       "    .dataframe tbody tr th:only-of-type {\n",
       "        vertical-align: middle;\n",
       "    }\n",
       "\n",
       "    .dataframe tbody tr th {\n",
       "        vertical-align: top;\n",
       "    }\n",
       "\n",
       "    .dataframe thead th {\n",
       "        text-align: right;\n",
       "    }\n",
       "</style>\n",
       "<table border=\"1\" class=\"dataframe\">\n",
       "  <thead>\n",
       "    <tr style=\"text-align: right;\">\n",
       "      <th></th>\n",
       "      <th>LCLid</th>\n",
       "      <th>Acorn_Group</th>\n",
       "      <th>Unnamed: 0</th>\n",
       "      <th>KWH/hh</th>\n",
       "    </tr>\n",
       "  </thead>\n",
       "  <tbody>\n",
       "    <tr>\n",
       "      <th>0</th>\n",
       "      <td>MAC000213</td>\n",
       "      <td>O</td>\n",
       "      <td>4.164405e+05</td>\n",
       "      <td>0.148196</td>\n",
       "    </tr>\n",
       "    <tr>\n",
       "      <th>1</th>\n",
       "      <td>MAC000266</td>\n",
       "      <td>O</td>\n",
       "      <td>8.569315e+05</td>\n",
       "      <td>0.121617</td>\n",
       "    </tr>\n",
       "    <tr>\n",
       "      <th>2</th>\n",
       "      <td>MAC000363</td>\n",
       "      <td>O</td>\n",
       "      <td>4.533551e+05</td>\n",
       "      <td>0.067080</td>\n",
       "    </tr>\n",
       "    <tr>\n",
       "      <th>3</th>\n",
       "      <td>MAC000474</td>\n",
       "      <td>O</td>\n",
       "      <td>4.875306e+05</td>\n",
       "      <td>0.192663</td>\n",
       "    </tr>\n",
       "    <tr>\n",
       "      <th>4</th>\n",
       "      <td>MAC001468</td>\n",
       "      <td>O</td>\n",
       "      <td>5.199997e+05</td>\n",
       "      <td>0.239597</td>\n",
       "    </tr>\n",
       "    <tr>\n",
       "      <th>...</th>\n",
       "      <td>...</td>\n",
       "      <td>...</td>\n",
       "      <td>...</td>\n",
       "      <td>...</td>\n",
       "    </tr>\n",
       "    <tr>\n",
       "      <th>287</th>\n",
       "      <td>MAC005516</td>\n",
       "      <td>Q</td>\n",
       "      <td>1.142500e+06</td>\n",
       "      <td>0.216349</td>\n",
       "    </tr>\n",
       "    <tr>\n",
       "      <th>288</th>\n",
       "      <td>MAC005524</td>\n",
       "      <td>Q</td>\n",
       "      <td>7.821786e+05</td>\n",
       "      <td>0.154998</td>\n",
       "    </tr>\n",
       "    <tr>\n",
       "      <th>289</th>\n",
       "      <td>MAC005527</td>\n",
       "      <td>Q</td>\n",
       "      <td>8.488153e+06</td>\n",
       "      <td>0.124091</td>\n",
       "    </tr>\n",
       "    <tr>\n",
       "      <th>290</th>\n",
       "      <td>MAC005557</td>\n",
       "      <td>Q</td>\n",
       "      <td>1.171258e+06</td>\n",
       "      <td>0.131046</td>\n",
       "    </tr>\n",
       "    <tr>\n",
       "      <th>291</th>\n",
       "      <td>MAC005567</td>\n",
       "      <td>Q</td>\n",
       "      <td>9.327872e+06</td>\n",
       "      <td>0.108539</td>\n",
       "    </tr>\n",
       "  </tbody>\n",
       "</table>\n",
       "<p>353 rows × 4 columns</p>\n",
       "</div>"
      ],
      "text/plain": [
       "         LCLid Acorn_Group    Unnamed: 0    KWH/hh\n",
       "0    MAC000213           O  4.164405e+05  0.148196\n",
       "1    MAC000266           O  8.569315e+05  0.121617\n",
       "2    MAC000363           O  4.533551e+05  0.067080\n",
       "3    MAC000474           O  4.875306e+05  0.192663\n",
       "4    MAC001468           O  5.199997e+05  0.239597\n",
       "..         ...         ...           ...       ...\n",
       "287  MAC005516           Q  1.142500e+06  0.216349\n",
       "288  MAC005524           Q  7.821786e+05  0.154998\n",
       "289  MAC005527           Q  8.488153e+06  0.124091\n",
       "290  MAC005557           Q  1.171258e+06  0.131046\n",
       "291  MAC005567           Q  9.327872e+06  0.108539\n",
       "\n",
       "[353 rows x 4 columns]"
      ]
     },
     "execution_count": 54,
     "metadata": {},
     "output_type": "execute_result"
    }
   ],
   "source": [
    "cat5"
   ]
  },
  {
   "cell_type": "code",
   "execution_count": 49,
   "id": "f222a382",
   "metadata": {},
   "outputs": [
    {
     "data": {
      "text/html": [
       "<div>\n",
       "<style scoped>\n",
       "    .dataframe tbody tr th:only-of-type {\n",
       "        vertical-align: middle;\n",
       "    }\n",
       "\n",
       "    .dataframe tbody tr th {\n",
       "        vertical-align: top;\n",
       "    }\n",
       "\n",
       "    .dataframe thead th {\n",
       "        text-align: right;\n",
       "    }\n",
       "</style>\n",
       "<table border=\"1\" class=\"dataframe\">\n",
       "  <thead>\n",
       "    <tr style=\"text-align: right;\">\n",
       "      <th></th>\n",
       "      <th>LCLid</th>\n",
       "      <th>Acorn_Group</th>\n",
       "      <th>Unnamed: 0</th>\n",
       "      <th>KWH/hh</th>\n",
       "    </tr>\n",
       "  </thead>\n",
       "  <tbody>\n",
       "    <tr>\n",
       "      <th>0</th>\n",
       "      <td>MAC000030</td>\n",
       "      <td>A</td>\n",
       "      <td>1.183465e+06</td>\n",
       "      <td>0.237553</td>\n",
       "    </tr>\n",
       "    <tr>\n",
       "      <th>1</th>\n",
       "      <td>MAC000040</td>\n",
       "      <td>A</td>\n",
       "      <td>1.222487e+06</td>\n",
       "      <td>0.555789</td>\n",
       "    </tr>\n",
       "    <tr>\n",
       "      <th>2</th>\n",
       "      <td>MAC000103</td>\n",
       "      <td>A</td>\n",
       "      <td>1.259067e+06</td>\n",
       "      <td>0.501256</td>\n",
       "    </tr>\n",
       "    <tr>\n",
       "      <th>3</th>\n",
       "      <td>MAC000110</td>\n",
       "      <td>A</td>\n",
       "      <td>1.295520e+06</td>\n",
       "      <td>0.341883</td>\n",
       "    </tr>\n",
       "    <tr>\n",
       "      <th>4</th>\n",
       "      <td>MAC000112</td>\n",
       "      <td>A</td>\n",
       "      <td>1.334252e+06</td>\n",
       "      <td>0.268031</td>\n",
       "    </tr>\n",
       "    <tr>\n",
       "      <th>...</th>\n",
       "      <td>...</td>\n",
       "      <td>...</td>\n",
       "      <td>...</td>\n",
       "      <td>...</td>\n",
       "    </tr>\n",
       "    <tr>\n",
       "      <th>287</th>\n",
       "      <td>MAC005516</td>\n",
       "      <td>Q</td>\n",
       "      <td>1.142500e+06</td>\n",
       "      <td>0.216349</td>\n",
       "    </tr>\n",
       "    <tr>\n",
       "      <th>288</th>\n",
       "      <td>MAC005524</td>\n",
       "      <td>Q</td>\n",
       "      <td>7.821786e+05</td>\n",
       "      <td>0.154998</td>\n",
       "    </tr>\n",
       "    <tr>\n",
       "      <th>289</th>\n",
       "      <td>MAC005527</td>\n",
       "      <td>Q</td>\n",
       "      <td>8.488153e+06</td>\n",
       "      <td>0.124091</td>\n",
       "    </tr>\n",
       "    <tr>\n",
       "      <th>290</th>\n",
       "      <td>MAC005557</td>\n",
       "      <td>Q</td>\n",
       "      <td>1.171258e+06</td>\n",
       "      <td>0.131046</td>\n",
       "    </tr>\n",
       "    <tr>\n",
       "      <th>291</th>\n",
       "      <td>MAC005567</td>\n",
       "      <td>Q</td>\n",
       "      <td>9.327872e+06</td>\n",
       "      <td>0.108539</td>\n",
       "    </tr>\n",
       "  </tbody>\n",
       "</table>\n",
       "<p>2319 rows × 4 columns</p>\n",
       "</div>"
      ],
      "text/plain": [
       "         LCLid Acorn_Group    Unnamed: 0    KWH/hh\n",
       "0    MAC000030           A  1.183465e+06  0.237553\n",
       "1    MAC000040           A  1.222487e+06  0.555789\n",
       "2    MAC000103           A  1.259067e+06  0.501256\n",
       "3    MAC000110           A  1.295520e+06  0.341883\n",
       "4    MAC000112           A  1.334252e+06  0.268031\n",
       "..         ...         ...           ...       ...\n",
       "287  MAC005516           Q  1.142500e+06  0.216349\n",
       "288  MAC005524           Q  7.821786e+05  0.154998\n",
       "289  MAC005527           Q  8.488153e+06  0.124091\n",
       "290  MAC005557           Q  1.171258e+06  0.131046\n",
       "291  MAC005567           Q  9.327872e+06  0.108539\n",
       "\n",
       "[2319 rows x 4 columns]"
      ]
     },
     "execution_count": 49,
     "metadata": {},
     "output_type": "execute_result"
    }
   ],
   "source": [
    "ovr"
   ]
  },
  {
   "cell_type": "code",
   "execution_count": 56,
   "id": "46cead28",
   "metadata": {},
   "outputs": [
    {
     "data": {
      "text/plain": [
       "2319"
      ]
     },
     "execution_count": 56,
     "metadata": {},
     "output_type": "execute_result"
    }
   ],
   "source": [
    "ovr.LCLid.nunique()"
   ]
  },
  {
   "cell_type": "code",
   "execution_count": 48,
   "id": "94bcf6cf",
   "metadata": {},
   "outputs": [
    {
     "data": {
      "application/vnd.plotly.v1+json": {
       "config": {
        "plotlyServerURL": "https://plot.ly"
       },
       "data": [
        {
         "alignmentgroup": "True",
         "boxpoints": "outliers",
         "customdata": [
          [
           "MAC000030"
          ],
          [
           "MAC000040"
          ],
          [
           "MAC000103"
          ],
          [
           "MAC000110"
          ],
          [
           "MAC000112"
          ],
          [
           "MAC000246"
          ],
          [
           "MAC000323"
          ],
          [
           "MAC000379"
          ],
          [
           "MAC000464"
          ],
          [
           "MAC000487"
          ],
          [
           "MAC000609"
          ],
          [
           "MAC000768"
          ],
          [
           "MAC000974"
          ],
          [
           "MAC001251"
          ],
          [
           "MAC001734"
          ],
          [
           "MAC002113"
          ],
          [
           "MAC002150"
          ],
          [
           "MAC002199"
          ],
          [
           "MAC002552"
          ],
          [
           "MAC002563"
          ],
          [
           "MAC002628"
          ],
          [
           "MAC002937"
          ],
          [
           "MAC002959"
          ],
          [
           "MAC003072"
          ],
          [
           "MAC003110"
          ],
          [
           "MAC003182"
          ],
          [
           "MAC003211"
          ],
          [
           "MAC003223"
          ],
          [
           "MAC003239"
          ],
          [
           "MAC003257"
          ],
          [
           "MAC003281"
          ],
          [
           "MAC003286"
          ],
          [
           "MAC003305"
          ],
          [
           "MAC003388"
          ],
          [
           "MAC003400"
          ],
          [
           "MAC003428"
          ],
          [
           "MAC003474"
          ],
          [
           "MAC003482"
          ],
          [
           "MAC003553"
          ],
          [
           "MAC003557"
          ],
          [
           "MAC003579"
          ],
          [
           "MAC003606"
          ],
          [
           "MAC003613"
          ],
          [
           "MAC003634"
          ],
          [
           "MAC003646"
          ],
          [
           "MAC003668"
          ],
          [
           "MAC003683"
          ],
          [
           "MAC003686"
          ],
          [
           "MAC003719"
          ],
          [
           "MAC003737"
          ],
          [
           "MAC003740"
          ],
          [
           "MAC003775"
          ],
          [
           "MAC003805"
          ],
          [
           "MAC003807"
          ],
          [
           "MAC003826"
          ],
          [
           "MAC003840"
          ],
          [
           "MAC003851"
          ],
          [
           "MAC003863"
          ],
          [
           "MAC003895"
          ],
          [
           "MAC004034"
          ],
          [
           "MAC004054"
          ],
          [
           "MAC004179"
          ],
          [
           "MAC004319"
          ],
          [
           "MAC004374"
          ],
          [
           "MAC004387"
          ],
          [
           "MAC004436"
          ],
          [
           "MAC004529"
          ],
          [
           "MAC004543"
          ],
          [
           "MAC004554"
          ],
          [
           "MAC004789"
          ],
          [
           "MAC004872"
          ],
          [
           "MAC004900"
          ],
          [
           "MAC004955"
          ],
          [
           "MAC004988"
          ],
          [
           "MAC004997"
          ],
          [
           "MAC005042"
          ],
          [
           "MAC005159"
          ],
          [
           "MAC005160"
          ],
          [
           "MAC005283"
          ],
          [
           "MAC005406"
          ],
          [
           "MAC005421"
          ],
          [
           "MAC001410"
          ],
          [
           "MAC003355"
          ],
          [
           "MAC003403"
          ],
          [
           "MAC003445"
          ],
          [
           "MAC003822"
          ],
          [
           "MAC003876"
          ],
          [
           "MAC003903"
          ],
          [
           "MAC004417"
          ],
          [
           "MAC004567"
          ],
          [
           "MAC000017"
          ],
          [
           "MAC000096"
          ],
          [
           "MAC000140"
          ],
          [
           "MAC000545"
          ],
          [
           "MAC000630"
          ],
          [
           "MAC000798"
          ],
          [
           "MAC001064"
          ],
          [
           "MAC001313"
          ],
          [
           "MAC001371"
          ],
          [
           "MAC001395"
          ],
          [
           "MAC001544"
          ],
          [
           "MAC001553"
          ],
          [
           "MAC001579"
          ],
          [
           "MAC002015"
          ],
          [
           "MAC002070"
          ],
          [
           "MAC002481"
          ],
          [
           "MAC002575"
          ],
          [
           "MAC002595"
          ],
          [
           "MAC002599"
          ],
          [
           "MAC002604"
          ],
          [
           "MAC002606"
          ],
          [
           "MAC002829"
          ],
          [
           "MAC002862"
          ],
          [
           "MAC003001"
          ],
          [
           "MAC003065"
          ],
          [
           "MAC003157"
          ],
          [
           "MAC003201"
          ],
          [
           "MAC003231"
          ],
          [
           "MAC003235"
          ],
          [
           "MAC003260"
          ],
          [
           "MAC003283"
          ],
          [
           "MAC003288"
          ],
          [
           "MAC003299"
          ],
          [
           "MAC003313"
          ],
          [
           "MAC003319"
          ],
          [
           "MAC003339"
          ],
          [
           "MAC003349"
          ],
          [
           "MAC003358"
          ],
          [
           "MAC003366"
          ],
          [
           "MAC003368"
          ],
          [
           "MAC003427"
          ],
          [
           "MAC003486"
          ],
          [
           "MAC003487"
          ],
          [
           "MAC003511"
          ],
          [
           "MAC003556"
          ],
          [
           "MAC003558"
          ],
          [
           "MAC003580"
          ],
          [
           "MAC003639"
          ],
          [
           "MAC003642"
          ],
          [
           "MAC003736"
          ],
          [
           "MAC003745"
          ],
          [
           "MAC003755"
          ],
          [
           "MAC003762"
          ],
          [
           "MAC003776"
          ],
          [
           "MAC003782"
          ],
          [
           "MAC003787"
          ],
          [
           "MAC003843"
          ],
          [
           "MAC003889"
          ],
          [
           "MAC003907"
          ],
          [
           "MAC003933"
          ],
          [
           "MAC004029"
          ],
          [
           "MAC004040"
          ],
          [
           "MAC004108"
          ],
          [
           "MAC004336"
          ],
          [
           "MAC004406"
          ],
          [
           "MAC004447"
          ],
          [
           "MAC004455"
          ],
          [
           "MAC004504"
          ],
          [
           "MAC004509"
          ],
          [
           "MAC004585"
          ],
          [
           "MAC004664"
          ],
          [
           "MAC004673"
          ],
          [
           "MAC004712"
          ],
          [
           "MAC004848"
          ],
          [
           "MAC004910"
          ],
          [
           "MAC004925"
          ],
          [
           "MAC004989"
          ],
          [
           "MAC005028"
          ],
          [
           "MAC005320"
          ],
          [
           "MAC005490"
          ],
          [
           "MAC005506"
          ],
          [
           "MAC005509"
          ],
          [
           "MAC000026"
          ],
          [
           "MAC000050"
          ],
          [
           "MAC000052"
          ],
          [
           "MAC000063"
          ],
          [
           "MAC000073"
          ],
          [
           "MAC000084"
          ],
          [
           "MAC000085"
          ],
          [
           "MAC000105"
          ],
          [
           "MAC000109"
          ],
          [
           "MAC000139"
          ],
          [
           "MAC000155"
          ],
          [
           "MAC000194"
          ],
          [
           "MAC000289"
          ],
          [
           "MAC000291"
          ],
          [
           "MAC000317"
          ],
          [
           "MAC000326"
          ],
          [
           "MAC000336"
          ],
          [
           "MAC000442"
          ],
          [
           "MAC000455"
          ],
          [
           "MAC000456"
          ],
          [
           "MAC000462"
          ],
          [
           "MAC000503"
          ],
          [
           "MAC000522"
          ],
          [
           "MAC000551"
          ],
          [
           "MAC000572"
          ],
          [
           "MAC000632"
          ],
          [
           "MAC000715"
          ],
          [
           "MAC000737"
          ],
          [
           "MAC000830"
          ],
          [
           "MAC000863"
          ],
          [
           "MAC000957"
          ],
          [
           "MAC001166"
          ],
          [
           "MAC001425"
          ],
          [
           "MAC001561"
          ],
          [
           "MAC001584"
          ],
          [
           "MAC001735"
          ],
          [
           "MAC001768"
          ],
          [
           "MAC001825"
          ],
          [
           "MAC001869"
          ],
          [
           "MAC002083"
          ],
          [
           "MAC002137"
          ],
          [
           "MAC002138"
          ],
          [
           "MAC002144"
          ],
          [
           "MAC002148"
          ],
          [
           "MAC002153"
          ],
          [
           "MAC002166"
          ],
          [
           "MAC002170"
          ],
          [
           "MAC002190"
          ],
          [
           "MAC002243"
          ],
          [
           "MAC002380"
          ],
          [
           "MAC002458"
          ],
          [
           "MAC002505"
          ],
          [
           "MAC002627"
          ],
          [
           "MAC002741"
          ],
          [
           "MAC002946"
          ],
          [
           "MAC002965"
          ],
          [
           "MAC003063"
          ],
          [
           "MAC003093"
          ],
          [
           "MAC003364"
          ],
          [
           "MAC003502"
          ],
          [
           "MAC003708"
          ],
          [
           "MAC003709"
          ],
          [
           "MAC003958"
          ],
          [
           "MAC003987"
          ],
          [
           "MAC004006"
          ],
          [
           "MAC004007"
          ],
          [
           "MAC004016"
          ],
          [
           "MAC004026"
          ],
          [
           "MAC004051"
          ],
          [
           "MAC004091"
          ],
          [
           "MAC004178"
          ],
          [
           "MAC004193"
          ],
          [
           "MAC004198"
          ],
          [
           "MAC004276"
          ],
          [
           "MAC004340"
          ],
          [
           "MAC004348"
          ],
          [
           "MAC004360"
          ],
          [
           "MAC004385"
          ],
          [
           "MAC004386"
          ],
          [
           "MAC004389"
          ],
          [
           "MAC004399"
          ],
          [
           "MAC004409"
          ],
          [
           "MAC004434"
          ],
          [
           "MAC004439"
          ],
          [
           "MAC004448"
          ],
          [
           "MAC004475"
          ],
          [
           "MAC004527"
          ],
          [
           "MAC004539"
          ],
          [
           "MAC004590"
          ],
          [
           "MAC004628"
          ],
          [
           "MAC004637"
          ],
          [
           "MAC004647"
          ],
          [
           "MAC004653"
          ],
          [
           "MAC004686"
          ],
          [
           "MAC004704"
          ],
          [
           "MAC004740"
          ],
          [
           "MAC004783"
          ],
          [
           "MAC004887"
          ],
          [
           "MAC004888"
          ],
          [
           "MAC004911"
          ],
          [
           "MAC004916"
          ],
          [
           "MAC004927"
          ],
          [
           "MAC004928"
          ],
          [
           "MAC004945"
          ],
          [
           "MAC004948"
          ],
          [
           "MAC004949"
          ],
          [
           "MAC004953"
          ],
          [
           "MAC004976"
          ],
          [
           "MAC004987"
          ],
          [
           "MAC004990"
          ],
          [
           "MAC005003"
          ],
          [
           "MAC005181"
          ],
          [
           "MAC005182"
          ],
          [
           "MAC005184"
          ],
          [
           "MAC005195"
          ],
          [
           "MAC005205"
          ],
          [
           "MAC005206"
          ],
          [
           "MAC005211"
          ],
          [
           "MAC005219"
          ],
          [
           "MAC005224"
          ],
          [
           "MAC005244"
          ],
          [
           "MAC005249"
          ],
          [
           "MAC005254"
          ],
          [
           "MAC005255"
          ],
          [
           "MAC005261"
          ],
          [
           "MAC005275"
          ],
          [
           "MAC005280"
          ],
          [
           "MAC005316"
          ],
          [
           "MAC005324"
          ],
          [
           "MAC005349"
          ],
          [
           "MAC005380"
          ],
          [
           "MAC005504"
          ],
          [
           "MAC000015"
          ],
          [
           "MAC000018"
          ],
          [
           "MAC000021"
          ],
          [
           "MAC000033"
          ],
          [
           "MAC000034"
          ],
          [
           "MAC000045"
          ],
          [
           "MAC000048"
          ],
          [
           "MAC000049"
          ],
          [
           "MAC000057"
          ],
          [
           "MAC000064"
          ],
          [
           "MAC000066"
          ],
          [
           "MAC000075"
          ],
          [
           "MAC000076"
          ],
          [
           "MAC000078"
          ],
          [
           "MAC000082"
          ],
          [
           "MAC000086"
          ],
          [
           "MAC000087"
          ],
          [
           "MAC000095"
          ],
          [
           "MAC000116"
          ],
          [
           "MAC000131"
          ],
          [
           "MAC000132"
          ],
          [
           "MAC000150"
          ],
          [
           "MAC000152"
          ],
          [
           "MAC000153"
          ],
          [
           "MAC000159"
          ],
          [
           "MAC000161"
          ],
          [
           "MAC000165"
          ],
          [
           "MAC000168"
          ],
          [
           "MAC000169"
          ],
          [
           "MAC000173"
          ],
          [
           "MAC000179"
          ],
          [
           "MAC000181"
          ],
          [
           "MAC000182"
          ],
          [
           "MAC000186"
          ],
          [
           "MAC000189"
          ],
          [
           "MAC000191"
          ],
          [
           "MAC000203"
          ],
          [
           "MAC000205"
          ],
          [
           "MAC000218"
          ],
          [
           "MAC000219"
          ],
          [
           "MAC000220"
          ],
          [
           "MAC000221"
          ],
          [
           "MAC000228"
          ],
          [
           "MAC000234"
          ],
          [
           "MAC000253"
          ],
          [
           "MAC000257"
          ],
          [
           "MAC000263"
          ],
          [
           "MAC000264"
          ],
          [
           "MAC000270"
          ],
          [
           "MAC000273"
          ],
          [
           "MAC000274"
          ],
          [
           "MAC000282"
          ],
          [
           "MAC000288"
          ],
          [
           "MAC000295"
          ],
          [
           "MAC000296"
          ],
          [
           "MAC000298"
          ],
          [
           "MAC000300"
          ],
          [
           "MAC000301"
          ],
          [
           "MAC000304"
          ],
          [
           "MAC000306"
          ],
          [
           "MAC000307"
          ],
          [
           "MAC000308"
          ],
          [
           "MAC000309"
          ],
          [
           "MAC000312"
          ],
          [
           "MAC000320"
          ],
          [
           "MAC000321"
          ],
          [
           "MAC000324"
          ],
          [
           "MAC000327"
          ],
          [
           "MAC000331"
          ],
          [
           "MAC000332"
          ],
          [
           "MAC000335"
          ],
          [
           "MAC000344"
          ],
          [
           "MAC000345"
          ],
          [
           "MAC000346"
          ],
          [
           "MAC000349"
          ],
          [
           "MAC000351"
          ],
          [
           "MAC000353"
          ],
          [
           "MAC000355"
          ],
          [
           "MAC000357"
          ],
          [
           "MAC000359"
          ],
          [
           "MAC000367"
          ],
          [
           "MAC000368"
          ],
          [
           "MAC000370"
          ],
          [
           "MAC000372"
          ],
          [
           "MAC000374"
          ],
          [
           "MAC000378"
          ],
          [
           "MAC000380"
          ],
          [
           "MAC000384"
          ],
          [
           "MAC000387"
          ],
          [
           "MAC000388"
          ],
          [
           "MAC000396"
          ],
          [
           "MAC000400"
          ],
          [
           "MAC000403"
          ],
          [
           "MAC000409"
          ],
          [
           "MAC000413"
          ],
          [
           "MAC000415"
          ],
          [
           "MAC000424"
          ],
          [
           "MAC000443"
          ],
          [
           "MAC000448"
          ],
          [
           "MAC000458"
          ],
          [
           "MAC000459"
          ],
          [
           "MAC000463"
          ],
          [
           "MAC000469"
          ],
          [
           "MAC000473"
          ],
          [
           "MAC000478"
          ],
          [
           "MAC000482"
          ],
          [
           "MAC000485"
          ],
          [
           "MAC000489"
          ],
          [
           "MAC000496"
          ],
          [
           "MAC000497"
          ],
          [
           "MAC000499"
          ],
          [
           "MAC000500"
          ],
          [
           "MAC000504"
          ],
          [
           "MAC000506"
          ],
          [
           "MAC000508"
          ],
          [
           "MAC000509"
          ],
          [
           "MAC000516"
          ],
          [
           "MAC000518"
          ],
          [
           "MAC000523"
          ],
          [
           "MAC000525"
          ],
          [
           "MAC000526"
          ],
          [
           "MAC000561"
          ],
          [
           "MAC000577"
          ],
          [
           "MAC000596"
          ],
          [
           "MAC000610"
          ],
          [
           "MAC000631"
          ],
          [
           "MAC000633"
          ],
          [
           "MAC000639"
          ],
          [
           "MAC000640"
          ],
          [
           "MAC000646"
          ],
          [
           "MAC000654"
          ],
          [
           "MAC000663"
          ],
          [
           "MAC000679"
          ],
          [
           "MAC000709"
          ],
          [
           "MAC000719"
          ],
          [
           "MAC000732"
          ],
          [
           "MAC000738"
          ],
          [
           "MAC000749"
          ],
          [
           "MAC000755"
          ],
          [
           "MAC000774"
          ],
          [
           "MAC000785"
          ],
          [
           "MAC000822"
          ],
          [
           "MAC000828"
          ],
          [
           "MAC000855"
          ],
          [
           "MAC000861"
          ],
          [
           "MAC000877"
          ],
          [
           "MAC000896"
          ],
          [
           "MAC000939"
          ],
          [
           "MAC001001"
          ],
          [
           "MAC001014"
          ],
          [
           "MAC001029"
          ],
          [
           "MAC001096"
          ],
          [
           "MAC001099"
          ],
          [
           "MAC001117"
          ],
          [
           "MAC001149"
          ],
          [
           "MAC001158"
          ],
          [
           "MAC001160"
          ],
          [
           "MAC001194"
          ],
          [
           "MAC001198"
          ],
          [
           "MAC001202"
          ],
          [
           "MAC001206"
          ],
          [
           "MAC001236"
          ],
          [
           "MAC001303"
          ],
          [
           "MAC001319"
          ],
          [
           "MAC001332"
          ],
          [
           "MAC001350"
          ],
          [
           "MAC001366"
          ],
          [
           "MAC001367"
          ],
          [
           "MAC001384"
          ],
          [
           "MAC001405"
          ],
          [
           "MAC001411"
          ],
          [
           "MAC001416"
          ],
          [
           "MAC001445"
          ],
          [
           "MAC001457"
          ],
          [
           "MAC001461"
          ],
          [
           "MAC001499"
          ],
          [
           "MAC001513"
          ],
          [
           "MAC001514"
          ],
          [
           "MAC001516"
          ],
          [
           "MAC001517"
          ],
          [
           "MAC001532"
          ],
          [
           "MAC001534"
          ],
          [
           "MAC001556"
          ],
          [
           "MAC001562"
          ],
          [
           "MAC001564"
          ],
          [
           "MAC001595"
          ],
          [
           "MAC001624"
          ],
          [
           "MAC001651"
          ],
          [
           "MAC001669"
          ],
          [
           "MAC001754"
          ],
          [
           "MAC001756"
          ],
          [
           "MAC001781"
          ],
          [
           "MAC001788"
          ],
          [
           "MAC001794"
          ],
          [
           "MAC001812"
          ],
          [
           "MAC001884"
          ],
          [
           "MAC001950"
          ],
          [
           "MAC001972"
          ],
          [
           "MAC001978"
          ],
          [
           "MAC001979"
          ],
          [
           "MAC001987"
          ],
          [
           "MAC002027"
          ],
          [
           "MAC002046"
          ],
          [
           "MAC002058"
          ],
          [
           "MAC002066"
          ],
          [
           "MAC002078"
          ],
          [
           "MAC002091"
          ],
          [
           "MAC002093"
          ],
          [
           "MAC002098"
          ],
          [
           "MAC002099"
          ],
          [
           "MAC002100"
          ],
          [
           "MAC002102"
          ],
          [
           "MAC002106"
          ],
          [
           "MAC002112"
          ],
          [
           "MAC002114"
          ],
          [
           "MAC002120"
          ],
          [
           "MAC002121"
          ],
          [
           "MAC002125"
          ],
          [
           "MAC002130"
          ],
          [
           "MAC002131"
          ],
          [
           "MAC002132"
          ],
          [
           "MAC002133"
          ],
          [
           "MAC002135"
          ],
          [
           "MAC002142"
          ],
          [
           "MAC002143"
          ],
          [
           "MAC002145"
          ],
          [
           "MAC002154"
          ],
          [
           "MAC002156"
          ],
          [
           "MAC002158"
          ],
          [
           "MAC002164"
          ],
          [
           "MAC002165"
          ],
          [
           "MAC002172"
          ],
          [
           "MAC002179"
          ],
          [
           "MAC002180"
          ],
          [
           "MAC002184"
          ],
          [
           "MAC002187"
          ],
          [
           "MAC002202"
          ],
          [
           "MAC002203"
          ],
          [
           "MAC002204"
          ],
          [
           "MAC002225"
          ],
          [
           "MAC002226"
          ],
          [
           "MAC002228"
          ],
          [
           "MAC002244"
          ],
          [
           "MAC002250"
          ],
          [
           "MAC002265"
          ],
          [
           "MAC002271"
          ],
          [
           "MAC002282"
          ],
          [
           "MAC002285"
          ],
          [
           "MAC002324"
          ],
          [
           "MAC002326"
          ],
          [
           "MAC002343"
          ],
          [
           "MAC002370"
          ],
          [
           "MAC002381"
          ],
          [
           "MAC002394"
          ],
          [
           "MAC002407"
          ],
          [
           "MAC002441"
          ],
          [
           "MAC002454"
          ],
          [
           "MAC002470"
          ],
          [
           "MAC002471"
          ],
          [
           "MAC002492"
          ],
          [
           "MAC002494"
          ],
          [
           "MAC002499"
          ],
          [
           "MAC002504"
          ],
          [
           "MAC002506"
          ],
          [
           "MAC002508"
          ],
          [
           "MAC002509"
          ],
          [
           "MAC002514"
          ],
          [
           "MAC002522"
          ],
          [
           "MAC002525"
          ],
          [
           "MAC002530"
          ],
          [
           "MAC002533"
          ],
          [
           "MAC002539"
          ],
          [
           "MAC002543"
          ],
          [
           "MAC002545"
          ],
          [
           "MAC002550"
          ],
          [
           "MAC002558"
          ],
          [
           "MAC002567"
          ],
          [
           "MAC002568"
          ],
          [
           "MAC002571"
          ],
          [
           "MAC002573"
          ],
          [
           "MAC002581"
          ],
          [
           "MAC002583"
          ],
          [
           "MAC002584"
          ],
          [
           "MAC002588"
          ],
          [
           "MAC002590"
          ],
          [
           "MAC002593"
          ],
          [
           "MAC002596"
          ],
          [
           "MAC002603"
          ],
          [
           "MAC002605"
          ],
          [
           "MAC002608"
          ],
          [
           "MAC002611"
          ],
          [
           "MAC002614"
          ],
          [
           "MAC002620"
          ],
          [
           "MAC002621"
          ],
          [
           "MAC002691"
          ],
          [
           "MAC002693"
          ],
          [
           "MAC002702"
          ],
          [
           "MAC002712"
          ],
          [
           "MAC002713"
          ],
          [
           "MAC002735"
          ],
          [
           "MAC002744"
          ],
          [
           "MAC002777"
          ],
          [
           "MAC002791"
          ],
          [
           "MAC002815"
          ],
          [
           "MAC002817"
          ],
          [
           "MAC002853"
          ],
          [
           "MAC002945"
          ],
          [
           "MAC002947"
          ],
          [
           "MAC002949"
          ],
          [
           "MAC002953"
          ],
          [
           "MAC002966"
          ],
          [
           "MAC002971"
          ],
          [
           "MAC002982"
          ],
          [
           "MAC002990"
          ],
          [
           "MAC003016"
          ],
          [
           "MAC003046"
          ],
          [
           "MAC003052"
          ],
          [
           "MAC003068"
          ],
          [
           "MAC003071"
          ],
          [
           "MAC003073"
          ],
          [
           "MAC003083"
          ],
          [
           "MAC003105"
          ],
          [
           "MAC003111"
          ],
          [
           "MAC003114"
          ],
          [
           "MAC003135"
          ],
          [
           "MAC003141"
          ],
          [
           "MAC003147"
          ],
          [
           "MAC003150"
          ],
          [
           "MAC003153"
          ],
          [
           "MAC003158"
          ],
          [
           "MAC003159"
          ],
          [
           "MAC003273"
          ],
          [
           "MAC003290"
          ],
          [
           "MAC003312"
          ],
          [
           "MAC003378"
          ],
          [
           "MAC003451"
          ],
          [
           "MAC003460"
          ],
          [
           "MAC003465"
          ],
          [
           "MAC003506"
          ],
          [
           "MAC003562"
          ],
          [
           "MAC003603"
          ],
          [
           "MAC003665"
          ],
          [
           "MAC003724"
          ],
          [
           "MAC003725"
          ],
          [
           "MAC003746"
          ],
          [
           "MAC003789"
          ],
          [
           "MAC003790"
          ],
          [
           "MAC003800"
          ],
          [
           "MAC003818"
          ],
          [
           "MAC003854"
          ],
          [
           "MAC003898"
          ],
          [
           "MAC003906"
          ],
          [
           "MAC003910"
          ],
          [
           "MAC003940"
          ],
          [
           "MAC003944"
          ],
          [
           "MAC003949"
          ],
          [
           "MAC003954"
          ],
          [
           "MAC003956"
          ],
          [
           "MAC003960"
          ],
          [
           "MAC003962"
          ],
          [
           "MAC003966"
          ],
          [
           "MAC003970"
          ],
          [
           "MAC003974"
          ],
          [
           "MAC003975"
          ],
          [
           "MAC003984"
          ],
          [
           "MAC003985"
          ],
          [
           "MAC003994"
          ],
          [
           "MAC004000"
          ],
          [
           "MAC004003"
          ],
          [
           "MAC004013"
          ],
          [
           "MAC004014"
          ],
          [
           "MAC004015"
          ],
          [
           "MAC004020"
          ],
          [
           "MAC004022"
          ],
          [
           "MAC004025"
          ],
          [
           "MAC004035"
          ],
          [
           "MAC004041"
          ],
          [
           "MAC004045"
          ],
          [
           "MAC004046"
          ],
          [
           "MAC004068"
          ],
          [
           "MAC004082"
          ],
          [
           "MAC004084"
          ],
          [
           "MAC004102"
          ],
          [
           "MAC004112"
          ],
          [
           "MAC004132"
          ],
          [
           "MAC004136"
          ],
          [
           "MAC004143"
          ],
          [
           "MAC004153"
          ],
          [
           "MAC004159"
          ],
          [
           "MAC004162"
          ],
          [
           "MAC004171"
          ],
          [
           "MAC004173"
          ],
          [
           "MAC004181"
          ],
          [
           "MAC004194"
          ],
          [
           "MAC004195"
          ],
          [
           "MAC004221"
          ],
          [
           "MAC004251"
          ],
          [
           "MAC004300"
          ],
          [
           "MAC004303"
          ],
          [
           "MAC004325"
          ],
          [
           "MAC004327"
          ],
          [
           "MAC004328"
          ],
          [
           "MAC004332"
          ],
          [
           "MAC004334"
          ],
          [
           "MAC004339"
          ],
          [
           "MAC004341"
          ],
          [
           "MAC004342"
          ],
          [
           "MAC004343"
          ],
          [
           "MAC004345"
          ],
          [
           "MAC004346"
          ],
          [
           "MAC004347"
          ],
          [
           "MAC004349"
          ],
          [
           "MAC004356"
          ],
          [
           "MAC004373"
          ],
          [
           "MAC004377"
          ],
          [
           "MAC004380"
          ],
          [
           "MAC004383"
          ],
          [
           "MAC004390"
          ],
          [
           "MAC004394"
          ],
          [
           "MAC004398"
          ],
          [
           "MAC004402"
          ],
          [
           "MAC004404"
          ],
          [
           "MAC004410"
          ],
          [
           "MAC004411"
          ],
          [
           "MAC004413"
          ],
          [
           "MAC004426"
          ],
          [
           "MAC004428"
          ],
          [
           "MAC004430"
          ],
          [
           "MAC004438"
          ],
          [
           "MAC004446"
          ],
          [
           "MAC004449"
          ],
          [
           "MAC004452"
          ],
          [
           "MAC004458"
          ],
          [
           "MAC004463"
          ],
          [
           "MAC004470"
          ],
          [
           "MAC004471"
          ],
          [
           "MAC004473"
          ],
          [
           "MAC004474"
          ],
          [
           "MAC004476"
          ],
          [
           "MAC004477"
          ],
          [
           "MAC004480"
          ],
          [
           "MAC004487"
          ],
          [
           "MAC004500"
          ],
          [
           "MAC004510"
          ],
          [
           "MAC004511"
          ],
          [
           "MAC004517"
          ],
          [
           "MAC004518"
          ],
          [
           "MAC004519"
          ],
          [
           "MAC004522"
          ],
          [
           "MAC004525"
          ],
          [
           "MAC004528"
          ],
          [
           "MAC004531"
          ],
          [
           "MAC004534"
          ],
          [
           "MAC004535"
          ],
          [
           "MAC004536"
          ],
          [
           "MAC004537"
          ],
          [
           "MAC004552"
          ],
          [
           "MAC004555"
          ],
          [
           "MAC004556"
          ],
          [
           "MAC004561"
          ],
          [
           "MAC004562"
          ],
          [
           "MAC004564"
          ],
          [
           "MAC004565"
          ],
          [
           "MAC004571"
          ],
          [
           "MAC004574"
          ],
          [
           "MAC004579"
          ],
          [
           "MAC004581"
          ],
          [
           "MAC004582"
          ],
          [
           "MAC004584"
          ],
          [
           "MAC004586"
          ],
          [
           "MAC004592"
          ],
          [
           "MAC004601"
          ],
          [
           "MAC004604"
          ],
          [
           "MAC004605"
          ],
          [
           "MAC004606"
          ],
          [
           "MAC004617"
          ],
          [
           "MAC004622"
          ],
          [
           "MAC004623"
          ],
          [
           "MAC004625"
          ],
          [
           "MAC004627"
          ],
          [
           "MAC004629"
          ],
          [
           "MAC004645"
          ],
          [
           "MAC004648"
          ],
          [
           "MAC004655"
          ],
          [
           "MAC004656"
          ],
          [
           "MAC004661"
          ],
          [
           "MAC004668"
          ],
          [
           "MAC004670"
          ],
          [
           "MAC004682"
          ],
          [
           "MAC004694"
          ],
          [
           "MAC004699"
          ],
          [
           "MAC004705"
          ],
          [
           "MAC004706"
          ],
          [
           "MAC004707"
          ],
          [
           "MAC004720"
          ],
          [
           "MAC004727"
          ],
          [
           "MAC004728"
          ],
          [
           "MAC004746"
          ],
          [
           "MAC004752"
          ],
          [
           "MAC004757"
          ],
          [
           "MAC004758"
          ],
          [
           "MAC004775"
          ],
          [
           "MAC004779"
          ],
          [
           "MAC004798"
          ],
          [
           "MAC004815"
          ],
          [
           "MAC004822"
          ],
          [
           "MAC004827"
          ],
          [
           "MAC004836"
          ],
          [
           "MAC004846"
          ],
          [
           "MAC004849"
          ],
          [
           "MAC004852"
          ],
          [
           "MAC004855"
          ],
          [
           "MAC004856"
          ],
          [
           "MAC004857"
          ],
          [
           "MAC004858"
          ],
          [
           "MAC004863"
          ],
          [
           "MAC004864"
          ],
          [
           "MAC004869"
          ],
          [
           "MAC004876"
          ],
          [
           "MAC004877"
          ],
          [
           "MAC004879"
          ],
          [
           "MAC004880"
          ],
          [
           "MAC004881"
          ],
          [
           "MAC004884"
          ],
          [
           "MAC004886"
          ],
          [
           "MAC004893"
          ],
          [
           "MAC004895"
          ],
          [
           "MAC004899"
          ],
          [
           "MAC004908"
          ],
          [
           "MAC004909"
          ],
          [
           "MAC004913"
          ],
          [
           "MAC004914"
          ],
          [
           "MAC004918"
          ],
          [
           "MAC004919"
          ],
          [
           "MAC004921"
          ],
          [
           "MAC004923"
          ],
          [
           "MAC004926"
          ],
          [
           "MAC004930"
          ],
          [
           "MAC004932"
          ],
          [
           "MAC004933"
          ],
          [
           "MAC004936"
          ],
          [
           "MAC004937"
          ],
          [
           "MAC004938"
          ],
          [
           "MAC004939"
          ],
          [
           "MAC004940"
          ],
          [
           "MAC004950"
          ],
          [
           "MAC004958"
          ],
          [
           "MAC004963"
          ],
          [
           "MAC004964"
          ],
          [
           "MAC004965"
          ],
          [
           "MAC004966"
          ],
          [
           "MAC004971"
          ],
          [
           "MAC004972"
          ],
          [
           "MAC004973"
          ],
          [
           "MAC004974"
          ],
          [
           "MAC004977"
          ],
          [
           "MAC004981"
          ],
          [
           "MAC004984"
          ],
          [
           "MAC004986"
          ],
          [
           "MAC004992"
          ],
          [
           "MAC004993"
          ],
          [
           "MAC004995"
          ],
          [
           "MAC004998"
          ],
          [
           "MAC004999"
          ],
          [
           "MAC005001"
          ],
          [
           "MAC005005"
          ],
          [
           "MAC005006"
          ],
          [
           "MAC005007"
          ],
          [
           "MAC005008"
          ],
          [
           "MAC005009"
          ],
          [
           "MAC005011"
          ],
          [
           "MAC005013"
          ],
          [
           "MAC005017"
          ],
          [
           "MAC005018"
          ],
          [
           "MAC005020"
          ],
          [
           "MAC005025"
          ],
          [
           "MAC005026"
          ],
          [
           "MAC005027"
          ],
          [
           "MAC005030"
          ],
          [
           "MAC005032"
          ],
          [
           "MAC005034"
          ],
          [
           "MAC005037"
          ],
          [
           "MAC005039"
          ],
          [
           "MAC005040"
          ],
          [
           "MAC005041"
          ],
          [
           "MAC005044"
          ],
          [
           "MAC005047"
          ],
          [
           "MAC005091"
          ],
          [
           "MAC005117"
          ],
          [
           "MAC005137"
          ],
          [
           "MAC005149"
          ],
          [
           "MAC005165"
          ],
          [
           "MAC005178"
          ],
          [
           "MAC005180"
          ],
          [
           "MAC005183"
          ],
          [
           "MAC005185"
          ],
          [
           "MAC005190"
          ],
          [
           "MAC005192"
          ],
          [
           "MAC005196"
          ],
          [
           "MAC005197"
          ],
          [
           "MAC005198"
          ],
          [
           "MAC005200"
          ],
          [
           "MAC005202"
          ],
          [
           "MAC005204"
          ],
          [
           "MAC005209"
          ],
          [
           "MAC005212"
          ],
          [
           "MAC005214"
          ],
          [
           "MAC005215"
          ],
          [
           "MAC005217"
          ],
          [
           "MAC005220"
          ],
          [
           "MAC005221"
          ],
          [
           "MAC005222"
          ],
          [
           "MAC005225"
          ],
          [
           "MAC005227"
          ],
          [
           "MAC005231"
          ],
          [
           "MAC005233"
          ],
          [
           "MAC005242"
          ],
          [
           "MAC005250"
          ],
          [
           "MAC005253"
          ],
          [
           "MAC005257"
          ],
          [
           "MAC005262"
          ],
          [
           "MAC005266"
          ],
          [
           "MAC005267"
          ],
          [
           "MAC005268"
          ],
          [
           "MAC005270"
          ],
          [
           "MAC005276"
          ],
          [
           "MAC005277"
          ],
          [
           "MAC005278"
          ],
          [
           "MAC005279"
          ],
          [
           "MAC005284"
          ],
          [
           "MAC005290"
          ],
          [
           "MAC005291"
          ],
          [
           "MAC005292"
          ],
          [
           "MAC005293"
          ],
          [
           "MAC005294"
          ],
          [
           "MAC005295"
          ],
          [
           "MAC005297"
          ],
          [
           "MAC005299"
          ],
          [
           "MAC005300"
          ],
          [
           "MAC005302"
          ],
          [
           "MAC005304"
          ],
          [
           "MAC005306"
          ],
          [
           "MAC005308"
          ],
          [
           "MAC005309"
          ],
          [
           "MAC005310"
          ],
          [
           "MAC005314"
          ],
          [
           "MAC005315"
          ],
          [
           "MAC005317"
          ],
          [
           "MAC005322"
          ],
          [
           "MAC005323"
          ],
          [
           "MAC005326"
          ],
          [
           "MAC005327"
          ],
          [
           "MAC005329"
          ],
          [
           "MAC005333"
          ],
          [
           "MAC005334"
          ],
          [
           "MAC005342"
          ],
          [
           "MAC005343"
          ],
          [
           "MAC005346"
          ],
          [
           "MAC005353"
          ],
          [
           "MAC005356"
          ],
          [
           "MAC005358"
          ],
          [
           "MAC005359"
          ],
          [
           "MAC005360"
          ],
          [
           "MAC005362"
          ],
          [
           "MAC005365"
          ],
          [
           "MAC005367"
          ],
          [
           "MAC005373"
          ],
          [
           "MAC005375"
          ],
          [
           "MAC005382"
          ],
          [
           "MAC005383"
          ],
          [
           "MAC005387"
          ],
          [
           "MAC005390"
          ],
          [
           "MAC005391"
          ],
          [
           "MAC005392"
          ],
          [
           "MAC005394"
          ],
          [
           "MAC005395"
          ],
          [
           "MAC005399"
          ],
          [
           "MAC005404"
          ],
          [
           "MAC005405"
          ],
          [
           "MAC005407"
          ],
          [
           "MAC005408"
          ],
          [
           "MAC005411"
          ],
          [
           "MAC005412"
          ],
          [
           "MAC005416"
          ],
          [
           "MAC005417"
          ],
          [
           "MAC005418"
          ],
          [
           "MAC005419"
          ],
          [
           "MAC005420"
          ],
          [
           "MAC005427"
          ],
          [
           "MAC005428"
          ],
          [
           "MAC005454"
          ],
          [
           "MAC005459"
          ],
          [
           "MAC005469"
          ],
          [
           "MAC005488"
          ],
          [
           "MAC005502"
          ],
          [
           "MAC005505"
          ],
          [
           "MAC005539"
          ],
          [
           "MAC005541"
          ],
          [
           "MAC005553"
          ],
          [
           "MAC005554"
          ],
          [
           "MAC005555"
          ],
          [
           "MAC005566"
          ],
          [
           "MAC000039"
          ],
          [
           "MAC000044"
          ],
          [
           "MAC000053"
          ],
          [
           "MAC000060"
          ],
          [
           "MAC000125"
          ],
          [
           "MAC000143"
          ],
          [
           "MAC000145"
          ],
          [
           "MAC000147"
          ],
          [
           "MAC000156"
          ],
          [
           "MAC000160"
          ],
          [
           "MAC000163"
          ],
          [
           "MAC000167"
          ],
          [
           "MAC000170"
          ],
          [
           "MAC000177"
          ],
          [
           "MAC000180"
          ],
          [
           "MAC000184"
          ],
          [
           "MAC000188"
          ],
          [
           "MAC000190"
          ],
          [
           "MAC000192"
          ],
          [
           "MAC000198"
          ],
          [
           "MAC000200"
          ],
          [
           "MAC000201"
          ],
          [
           "MAC000206"
          ],
          [
           "MAC000210"
          ],
          [
           "MAC000211"
          ],
          [
           "MAC000215"
          ],
          [
           "MAC000222"
          ],
          [
           "MAC000226"
          ],
          [
           "MAC000229"
          ],
          [
           "MAC000232"
          ],
          [
           "MAC000238"
          ],
          [
           "MAC000240"
          ],
          [
           "MAC000244"
          ],
          [
           "MAC000248"
          ],
          [
           "MAC000261"
          ],
          [
           "MAC000262"
          ],
          [
           "MAC000271"
          ],
          [
           "MAC000277"
          ],
          [
           "MAC000279"
          ],
          [
           "MAC000286"
          ],
          [
           "MAC000314"
          ],
          [
           "MAC000319"
          ],
          [
           "MAC000328"
          ],
          [
           "MAC000347"
          ],
          [
           "MAC000366"
          ],
          [
           "MAC000369"
          ],
          [
           "MAC000371"
          ],
          [
           "MAC000407"
          ],
          [
           "MAC000411"
          ],
          [
           "MAC000439"
          ],
          [
           "MAC000445"
          ],
          [
           "MAC000465"
          ],
          [
           "MAC000468"
          ],
          [
           "MAC000476"
          ],
          [
           "MAC000479"
          ],
          [
           "MAC000494"
          ],
          [
           "MAC000530"
          ],
          [
           "MAC000550"
          ],
          [
           "MAC000553"
          ],
          [
           "MAC000591"
          ],
          [
           "MAC000613"
          ],
          [
           "MAC000634"
          ],
          [
           "MAC000642"
          ],
          [
           "MAC000643"
          ],
          [
           "MAC000648"
          ],
          [
           "MAC000655"
          ],
          [
           "MAC000661"
          ],
          [
           "MAC000698"
          ],
          [
           "MAC000728"
          ],
          [
           "MAC000789"
          ],
          [
           "MAC000845"
          ],
          [
           "MAC000880"
          ],
          [
           "MAC000887"
          ],
          [
           "MAC000901"
          ],
          [
           "MAC000969"
          ],
          [
           "MAC001025"
          ],
          [
           "MAC001090"
          ],
          [
           "MAC001103"
          ],
          [
           "MAC001124"
          ],
          [
           "MAC001139"
          ],
          [
           "MAC001200"
          ],
          [
           "MAC001216"
          ],
          [
           "MAC001217"
          ],
          [
           "MAC001265"
          ],
          [
           "MAC001308"
          ],
          [
           "MAC001377"
          ],
          [
           "MAC001382"
          ],
          [
           "MAC001447"
          ],
          [
           "MAC001450"
          ],
          [
           "MAC001458"
          ],
          [
           "MAC001463"
          ],
          [
           "MAC001466"
          ],
          [
           "MAC001543"
          ],
          [
           "MAC001548"
          ],
          [
           "MAC001569"
          ],
          [
           "MAC001570"
          ],
          [
           "MAC001602"
          ],
          [
           "MAC001625"
          ],
          [
           "MAC001659"
          ],
          [
           "MAC001759"
          ],
          [
           "MAC001769"
          ],
          [
           "MAC001782"
          ],
          [
           "MAC001805"
          ],
          [
           "MAC001860"
          ],
          [
           "MAC001913"
          ],
          [
           "MAC001944"
          ],
          [
           "MAC001969"
          ],
          [
           "MAC001971"
          ],
          [
           "MAC002012"
          ],
          [
           "MAC002022"
          ],
          [
           "MAC002030"
          ],
          [
           "MAC002061"
          ],
          [
           "MAC002084"
          ],
          [
           "MAC002086"
          ],
          [
           "MAC002090"
          ],
          [
           "MAC002122"
          ],
          [
           "MAC002163"
          ],
          [
           "MAC002176"
          ],
          [
           "MAC002181"
          ],
          [
           "MAC002189"
          ],
          [
           "MAC002193"
          ],
          [
           "MAC002205"
          ],
          [
           "MAC002261"
          ],
          [
           "MAC002266"
          ],
          [
           "MAC002277"
          ],
          [
           "MAC002286"
          ],
          [
           "MAC002320"
          ],
          [
           "MAC002332"
          ],
          [
           "MAC002344"
          ],
          [
           "MAC002348"
          ],
          [
           "MAC002349"
          ],
          [
           "MAC002376"
          ],
          [
           "MAC002383"
          ],
          [
           "MAC002389"
          ],
          [
           "MAC002395"
          ],
          [
           "MAC002449"
          ],
          [
           "MAC002487"
          ],
          [
           "MAC002489"
          ],
          [
           "MAC002502"
          ],
          [
           "MAC002507"
          ],
          [
           "MAC002520"
          ],
          [
           "MAC002529"
          ],
          [
           "MAC002532"
          ],
          [
           "MAC002538"
          ],
          [
           "MAC002554"
          ],
          [
           "MAC002585"
          ],
          [
           "MAC002589"
          ],
          [
           "MAC002630"
          ],
          [
           "MAC002682"
          ],
          [
           "MAC002698"
          ],
          [
           "MAC002783"
          ],
          [
           "MAC002795"
          ],
          [
           "MAC002799"
          ],
          [
           "MAC002834"
          ],
          [
           "MAC002918"
          ],
          [
           "MAC002944"
          ],
          [
           "MAC002956"
          ],
          [
           "MAC002957"
          ],
          [
           "MAC002960"
          ],
          [
           "MAC002964"
          ],
          [
           "MAC002973"
          ],
          [
           "MAC002983"
          ],
          [
           "MAC002995"
          ],
          [
           "MAC003028"
          ],
          [
           "MAC003029"
          ],
          [
           "MAC003034"
          ],
          [
           "MAC003050"
          ],
          [
           "MAC003080"
          ],
          [
           "MAC003101"
          ],
          [
           "MAC003121"
          ],
          [
           "MAC003152"
          ],
          [
           "MAC003431"
          ],
          [
           "MAC003519"
          ],
          [
           "MAC003587"
          ],
          [
           "MAC003643"
          ],
          [
           "MAC003662"
          ],
          [
           "MAC003717"
          ],
          [
           "MAC003825"
          ],
          [
           "MAC003893"
          ],
          [
           "MAC003905"
          ],
          [
           "MAC003928"
          ],
          [
           "MAC003941"
          ],
          [
           "MAC003947"
          ],
          [
           "MAC003950"
          ],
          [
           "MAC003957"
          ],
          [
           "MAC003967"
          ],
          [
           "MAC003971"
          ],
          [
           "MAC003979"
          ],
          [
           "MAC003981"
          ],
          [
           "MAC003983"
          ],
          [
           "MAC003989"
          ],
          [
           "MAC003997"
          ],
          [
           "MAC003998"
          ],
          [
           "MAC003999"
          ],
          [
           "MAC004009"
          ],
          [
           "MAC004024"
          ],
          [
           "MAC004030"
          ],
          [
           "MAC004039"
          ],
          [
           "MAC004053"
          ],
          [
           "MAC004059"
          ],
          [
           "MAC004063"
          ],
          [
           "MAC004090"
          ],
          [
           "MAC004121"
          ],
          [
           "MAC004122"
          ],
          [
           "MAC004163"
          ],
          [
           "MAC004189"
          ],
          [
           "MAC004201"
          ],
          [
           "MAC004217"
          ],
          [
           "MAC004235"
          ],
          [
           "MAC004253"
          ],
          [
           "MAC004254"
          ],
          [
           "MAC004274"
          ],
          [
           "MAC004284"
          ],
          [
           "MAC004301"
          ],
          [
           "MAC004310"
          ],
          [
           "MAC004315"
          ],
          [
           "MAC004337"
          ],
          [
           "MAC004371"
          ],
          [
           "MAC004375"
          ],
          [
           "MAC004378"
          ],
          [
           "MAC004396"
          ],
          [
           "MAC004400"
          ],
          [
           "MAC004412"
          ],
          [
           "MAC004418"
          ],
          [
           "MAC004429"
          ],
          [
           "MAC004456"
          ],
          [
           "MAC004466"
          ],
          [
           "MAC004472"
          ],
          [
           "MAC004478"
          ],
          [
           "MAC004488"
          ],
          [
           "MAC004492"
          ],
          [
           "MAC004499"
          ],
          [
           "MAC004502"
          ],
          [
           "MAC004521"
          ],
          [
           "MAC004523"
          ],
          [
           "MAC004526"
          ],
          [
           "MAC004545"
          ],
          [
           "MAC004551"
          ],
          [
           "MAC004557"
          ],
          [
           "MAC004572"
          ],
          [
           "MAC004578"
          ],
          [
           "MAC004608"
          ],
          [
           "MAC004635"
          ],
          [
           "MAC004636"
          ],
          [
           "MAC004641"
          ],
          [
           "MAC004643"
          ],
          [
           "MAC004698"
          ],
          [
           "MAC004739"
          ],
          [
           "MAC004753"
          ],
          [
           "MAC004768"
          ],
          [
           "MAC004834"
          ],
          [
           "MAC004837"
          ],
          [
           "MAC004838"
          ],
          [
           "MAC004840"
          ],
          [
           "MAC004844"
          ],
          [
           "MAC004845"
          ],
          [
           "MAC004859"
          ],
          [
           "MAC004862"
          ],
          [
           "MAC004867"
          ],
          [
           "MAC004868"
          ],
          [
           "MAC004882"
          ],
          [
           "MAC004890"
          ],
          [
           "MAC004912"
          ],
          [
           "MAC004967"
          ],
          [
           "MAC004969"
          ],
          [
           "MAC005024"
          ],
          [
           "MAC005043"
          ],
          [
           "MAC005071"
          ],
          [
           "MAC005077"
          ],
          [
           "MAC005186"
          ],
          [
           "MAC005188"
          ],
          [
           "MAC005191"
          ],
          [
           "MAC005208"
          ],
          [
           "MAC005210"
          ],
          [
           "MAC005243"
          ],
          [
           "MAC005245"
          ],
          [
           "MAC005246"
          ],
          [
           "MAC005256"
          ],
          [
           "MAC005264"
          ],
          [
           "MAC005305"
          ],
          [
           "MAC005325"
          ],
          [
           "MAC005341"
          ],
          [
           "MAC005379"
          ],
          [
           "MAC005396"
          ],
          [
           "MAC005425"
          ],
          [
           "MAC005431"
          ],
          [
           "MAC005451"
          ],
          [
           "MAC005464"
          ],
          [
           "MAC005471"
          ],
          [
           "MAC005477"
          ],
          [
           "MAC005535"
          ],
          [
           "MAC005538"
          ],
          [
           "MAC000007"
          ],
          [
           "MAC000010"
          ],
          [
           "MAC000059"
          ],
          [
           "MAC000062"
          ],
          [
           "MAC000074"
          ],
          [
           "MAC000089"
          ],
          [
           "MAC000091"
          ],
          [
           "MAC000093"
          ],
          [
           "MAC000119"
          ],
          [
           "MAC000128"
          ],
          [
           "MAC000137"
          ],
          [
           "MAC000158"
          ],
          [
           "MAC000239"
          ],
          [
           "MAC000251"
          ],
          [
           "MAC000254"
          ],
          [
           "MAC000272"
          ],
          [
           "MAC000294"
          ],
          [
           "MAC000340"
          ],
          [
           "MAC000341"
          ],
          [
           "MAC000360"
          ],
          [
           "MAC000375"
          ],
          [
           "MAC000381"
          ],
          [
           "MAC000382"
          ],
          [
           "MAC000394"
          ],
          [
           "MAC000405"
          ],
          [
           "MAC000452"
          ],
          [
           "MAC000498"
          ],
          [
           "MAC000533"
          ],
          [
           "MAC000547"
          ],
          [
           "MAC000800"
          ],
          [
           "MAC000809"
          ],
          [
           "MAC000914"
          ],
          [
           "MAC000946"
          ],
          [
           "MAC001016"
          ],
          [
           "MAC001088"
          ],
          [
           "MAC001220"
          ],
          [
           "MAC001233"
          ],
          [
           "MAC001240"
          ],
          [
           "MAC001261"
          ],
          [
           "MAC001272"
          ],
          [
           "MAC001317"
          ],
          [
           "MAC001356"
          ],
          [
           "MAC001357"
          ],
          [
           "MAC001399"
          ],
          [
           "MAC001453"
          ],
          [
           "MAC001494"
          ],
          [
           "MAC001497"
          ],
          [
           "MAC001507"
          ],
          [
           "MAC001525"
          ],
          [
           "MAC001645"
          ],
          [
           "MAC001679"
          ],
          [
           "MAC001951"
          ],
          [
           "MAC001991"
          ],
          [
           "MAC002049"
          ],
          [
           "MAC002062"
          ],
          [
           "MAC002080"
          ],
          [
           "MAC002081"
          ],
          [
           "MAC002095"
          ],
          [
           "MAC002115"
          ],
          [
           "MAC002123"
          ],
          [
           "MAC002188"
          ],
          [
           "MAC002198"
          ],
          [
           "MAC002411"
          ],
          [
           "MAC002491"
          ],
          [
           "MAC002493"
          ],
          [
           "MAC002515"
          ],
          [
           "MAC002544"
          ],
          [
           "MAC002591"
          ],
          [
           "MAC002592"
          ],
          [
           "MAC002602"
          ],
          [
           "MAC002669"
          ],
          [
           "MAC002749"
          ],
          [
           "MAC002763"
          ],
          [
           "MAC002776"
          ],
          [
           "MAC002788"
          ],
          [
           "MAC002923"
          ],
          [
           "MAC003000"
          ],
          [
           "MAC003002"
          ],
          [
           "MAC003012"
          ],
          [
           "MAC003120"
          ],
          [
           "MAC003142"
          ],
          [
           "MAC003154"
          ],
          [
           "MAC003170"
          ],
          [
           "MAC003171"
          ],
          [
           "MAC003190"
          ],
          [
           "MAC003195"
          ],
          [
           "MAC003198"
          ],
          [
           "MAC003208"
          ],
          [
           "MAC003210"
          ],
          [
           "MAC003216"
          ],
          [
           "MAC003219"
          ],
          [
           "MAC003222"
          ],
          [
           "MAC003236"
          ],
          [
           "MAC003237"
          ],
          [
           "MAC003240"
          ],
          [
           "MAC003241"
          ],
          [
           "MAC003250"
          ],
          [
           "MAC003256"
          ],
          [
           "MAC003261"
          ],
          [
           "MAC003264"
          ],
          [
           "MAC003271"
          ],
          [
           "MAC003272"
          ],
          [
           "MAC003279"
          ],
          [
           "MAC003284"
          ],
          [
           "MAC003292"
          ],
          [
           "MAC003293"
          ],
          [
           "MAC003294"
          ],
          [
           "MAC003306"
          ],
          [
           "MAC003308"
          ],
          [
           "MAC003320"
          ],
          [
           "MAC003322"
          ],
          [
           "MAC003324"
          ],
          [
           "MAC003330"
          ],
          [
           "MAC003331"
          ],
          [
           "MAC003334"
          ],
          [
           "MAC003340"
          ],
          [
           "MAC003354"
          ],
          [
           "MAC003372"
          ],
          [
           "MAC003375"
          ],
          [
           "MAC003382"
          ],
          [
           "MAC003389"
          ],
          [
           "MAC003405"
          ],
          [
           "MAC003406"
          ],
          [
           "MAC003417"
          ],
          [
           "MAC003421"
          ],
          [
           "MAC003426"
          ],
          [
           "MAC003436"
          ],
          [
           "MAC003450"
          ],
          [
           "MAC003453"
          ],
          [
           "MAC003457"
          ],
          [
           "MAC003473"
          ],
          [
           "MAC003477"
          ],
          [
           "MAC003488"
          ],
          [
           "MAC003490"
          ],
          [
           "MAC003493"
          ],
          [
           "MAC003494"
          ],
          [
           "MAC003514"
          ],
          [
           "MAC003524"
          ],
          [
           "MAC003528"
          ],
          [
           "MAC003529"
          ],
          [
           "MAC003540"
          ],
          [
           "MAC003551"
          ],
          [
           "MAC003561"
          ],
          [
           "MAC003567"
          ],
          [
           "MAC003570"
          ],
          [
           "MAC003573"
          ],
          [
           "MAC003581"
          ],
          [
           "MAC003583"
          ],
          [
           "MAC003591"
          ],
          [
           "MAC003599"
          ],
          [
           "MAC003602"
          ],
          [
           "MAC003610"
          ],
          [
           "MAC003611"
          ],
          [
           "MAC003615"
          ],
          [
           "MAC003625"
          ],
          [
           "MAC003626"
          ],
          [
           "MAC003633"
          ],
          [
           "MAC003638"
          ],
          [
           "MAC003650"
          ],
          [
           "MAC003653"
          ],
          [
           "MAC003655"
          ],
          [
           "MAC003658"
          ],
          [
           "MAC003659"
          ],
          [
           "MAC003682"
          ],
          [
           "MAC003685"
          ],
          [
           "MAC003690"
          ],
          [
           "MAC003696"
          ],
          [
           "MAC003697"
          ],
          [
           "MAC003702"
          ],
          [
           "MAC003712"
          ],
          [
           "MAC003715"
          ],
          [
           "MAC003732"
          ],
          [
           "MAC003753"
          ],
          [
           "MAC003754"
          ],
          [
           "MAC003768"
          ],
          [
           "MAC003795"
          ],
          [
           "MAC003806"
          ],
          [
           "MAC003812"
          ],
          [
           "MAC003815"
          ],
          [
           "MAC003832"
          ],
          [
           "MAC003834"
          ],
          [
           "MAC003852"
          ],
          [
           "MAC003855"
          ],
          [
           "MAC003857"
          ],
          [
           "MAC003865"
          ],
          [
           "MAC003866"
          ],
          [
           "MAC003867"
          ],
          [
           "MAC003873"
          ],
          [
           "MAC003875"
          ],
          [
           "MAC003878"
          ],
          [
           "MAC003879"
          ],
          [
           "MAC003896"
          ],
          [
           "MAC003897"
          ],
          [
           "MAC003899"
          ],
          [
           "MAC003917"
          ],
          [
           "MAC003925"
          ],
          [
           "MAC003926"
          ],
          [
           "MAC003959"
          ],
          [
           "MAC003969"
          ],
          [
           "MAC003986"
          ],
          [
           "MAC003991"
          ],
          [
           "MAC004002"
          ],
          [
           "MAC004012"
          ],
          [
           "MAC004114"
          ],
          [
           "MAC004262"
          ],
          [
           "MAC004277"
          ],
          [
           "MAC004321"
          ],
          [
           "MAC004326"
          ],
          [
           "MAC004354"
          ],
          [
           "MAC004391"
          ],
          [
           "MAC004440"
          ],
          [
           "MAC004457"
          ],
          [
           "MAC004491"
          ],
          [
           "MAC004494"
          ],
          [
           "MAC004501"
          ],
          [
           "MAC004542"
          ],
          [
           "MAC004654"
          ],
          [
           "MAC004675"
          ],
          [
           "MAC004710"
          ],
          [
           "MAC004711"
          ],
          [
           "MAC004749"
          ],
          [
           "MAC004807"
          ],
          [
           "MAC004823"
          ],
          [
           "MAC004922"
          ],
          [
           "MAC004929"
          ],
          [
           "MAC005035"
          ],
          [
           "MAC005048"
          ],
          [
           "MAC005072"
          ],
          [
           "MAC005081"
          ],
          [
           "MAC005135"
          ],
          [
           "MAC005151"
          ],
          [
           "MAC005259"
          ],
          [
           "MAC005298"
          ],
          [
           "MAC005330"
          ],
          [
           "MAC005366"
          ],
          [
           "MAC005444"
          ],
          [
           "MAC005448"
          ],
          [
           "MAC000492"
          ],
          [
           "MAC001697"
          ],
          [
           "MAC001865"
          ],
          [
           "MAC002197"
          ],
          [
           "MAC002468"
          ],
          [
           "MAC002540"
          ],
          [
           "MAC002565"
          ],
          [
           "MAC002796"
          ],
          [
           "MAC003176"
          ],
          [
           "MAC003440"
          ],
          [
           "MAC003454"
          ],
          [
           "MAC003501"
          ],
          [
           "MAC003547"
          ],
          [
           "MAC003601"
          ],
          [
           "MAC003774"
          ],
          [
           "MAC003799"
          ],
          [
           "MAC003803"
          ],
          [
           "MAC003864"
          ],
          [
           "MAC003881"
          ],
          [
           "MAC003892"
          ],
          [
           "MAC003915"
          ],
          [
           "MAC004344"
          ],
          [
           "MAC004397"
          ],
          [
           "MAC004960"
          ],
          [
           "MAC000020"
          ],
          [
           "MAC000027"
          ],
          [
           "MAC000071"
          ],
          [
           "MAC000083"
          ],
          [
           "MAC000108"
          ],
          [
           "MAC000520"
          ],
          [
           "MAC000885"
          ],
          [
           "MAC001250"
          ],
          [
           "MAC001531"
          ],
          [
           "MAC001559"
          ],
          [
           "MAC001568"
          ],
          [
           "MAC001814"
          ],
          [
           "MAC003151"
          ],
          [
           "MAC003180"
          ],
          [
           "MAC003200"
          ],
          [
           "MAC003213"
          ],
          [
           "MAC003214"
          ],
          [
           "MAC003245"
          ],
          [
           "MAC003269"
          ],
          [
           "MAC003285"
          ],
          [
           "MAC003309"
          ],
          [
           "MAC003329"
          ],
          [
           "MAC003337"
          ],
          [
           "MAC003341"
          ],
          [
           "MAC003344"
          ],
          [
           "MAC003356"
          ],
          [
           "MAC003361"
          ],
          [
           "MAC003367"
          ],
          [
           "MAC003371"
          ],
          [
           "MAC003410"
          ],
          [
           "MAC003446"
          ],
          [
           "MAC003568"
          ],
          [
           "MAC003661"
          ],
          [
           "MAC003666"
          ],
          [
           "MAC003739"
          ],
          [
           "MAC003788"
          ],
          [
           "MAC003791"
          ],
          [
           "MAC003802"
          ],
          [
           "MAC003846"
          ],
          [
           "MAC003858"
          ],
          [
           "MAC004120"
          ],
          [
           "MAC004506"
          ],
          [
           "MAC004596"
          ],
          [
           "MAC004639"
          ],
          [
           "MAC004897"
          ],
          [
           "MAC004902"
          ],
          [
           "MAC004903"
          ],
          [
           "MAC004983"
          ],
          [
           "MAC005247"
          ],
          [
           "MAC005494"
          ],
          [
           "MAC005522"
          ],
          [
           "MAC000013"
          ],
          [
           "MAC000019"
          ],
          [
           "MAC000055"
          ],
          [
           "MAC000081"
          ],
          [
           "MAC000123"
          ],
          [
           "MAC000130"
          ],
          [
           "MAC000195"
          ],
          [
           "MAC000202"
          ],
          [
           "MAC000230"
          ],
          [
           "MAC000255"
          ],
          [
           "MAC000258"
          ],
          [
           "MAC000281"
          ],
          [
           "MAC000290"
          ],
          [
           "MAC000343"
          ],
          [
           "MAC000401"
          ],
          [
           "MAC000440"
          ],
          [
           "MAC000566"
          ],
          [
           "MAC000623"
          ],
          [
           "MAC000664"
          ],
          [
           "MAC000687"
          ],
          [
           "MAC000720"
          ],
          [
           "MAC000761"
          ],
          [
           "MAC000802"
          ],
          [
           "MAC000827"
          ],
          [
           "MAC000832"
          ],
          [
           "MAC000842"
          ],
          [
           "MAC000852"
          ],
          [
           "MAC000872"
          ],
          [
           "MAC001415"
          ],
          [
           "MAC001486"
          ],
          [
           "MAC001578"
          ],
          [
           "MAC001888"
          ],
          [
           "MAC001923"
          ],
          [
           "MAC002085"
          ],
          [
           "MAC002111"
          ],
          [
           "MAC002194"
          ],
          [
           "MAC002262"
          ],
          [
           "MAC002291"
          ],
          [
           "MAC002295"
          ],
          [
           "MAC002782"
          ],
          [
           "MAC002848"
          ],
          [
           "MAC002996"
          ],
          [
           "MAC003015"
          ],
          [
           "MAC003048"
          ],
          [
           "MAC003076"
          ],
          [
           "MAC003144"
          ],
          [
           "MAC003162"
          ],
          [
           "MAC003764"
          ],
          [
           "MAC003841"
          ],
          [
           "MAC003861"
          ],
          [
           "MAC003990"
          ],
          [
           "MAC004141"
          ],
          [
           "MAC004240"
          ],
          [
           "MAC004241"
          ],
          [
           "MAC004508"
          ],
          [
           "MAC004603"
          ],
          [
           "MAC004692"
          ],
          [
           "MAC004696"
          ],
          [
           "MAC004719"
          ],
          [
           "MAC004724"
          ],
          [
           "MAC004742"
          ],
          [
           "MAC004787"
          ],
          [
           "MAC004853"
          ],
          [
           "MAC004878"
          ],
          [
           "MAC005016"
          ],
          [
           "MAC005168"
          ],
          [
           "MAC005518"
          ],
          [
           "MAC005530"
          ],
          [
           "MAC000009"
          ],
          [
           "MAC000014"
          ],
          [
           "MAC000038"
          ],
          [
           "MAC000065"
          ],
          [
           "MAC000068"
          ],
          [
           "MAC000101"
          ],
          [
           "MAC000106"
          ],
          [
           "MAC000115"
          ],
          [
           "MAC000117"
          ],
          [
           "MAC000127"
          ],
          [
           "MAC000146"
          ],
          [
           "MAC000187"
          ],
          [
           "MAC000199"
          ],
          [
           "MAC000245"
          ],
          [
           "MAC000256"
          ],
          [
           "MAC000303"
          ],
          [
           "MAC000354"
          ],
          [
           "MAC000373"
          ],
          [
           "MAC000390"
          ],
          [
           "MAC000395"
          ],
          [
           "MAC000428"
          ],
          [
           "MAC000436"
          ],
          [
           "MAC000484"
          ],
          [
           "MAC000490"
          ],
          [
           "MAC000548"
          ],
          [
           "MAC000568"
          ],
          [
           "MAC000629"
          ],
          [
           "MAC000670"
          ],
          [
           "MAC000680"
          ],
          [
           "MAC000724"
          ],
          [
           "MAC000731"
          ],
          [
           "MAC000779"
          ],
          [
           "MAC000792"
          ],
          [
           "MAC000893"
          ],
          [
           "MAC001113"
          ],
          [
           "MAC001159"
          ],
          [
           "MAC001307"
          ],
          [
           "MAC001323"
          ],
          [
           "MAC001341"
          ],
          [
           "MAC001373"
          ],
          [
           "MAC001440"
          ],
          [
           "MAC001464"
          ],
          [
           "MAC001668"
          ],
          [
           "MAC001761"
          ],
          [
           "MAC001925"
          ],
          [
           "MAC001942"
          ],
          [
           "MAC002013"
          ],
          [
           "MAC002038"
          ],
          [
           "MAC002079"
          ],
          [
           "MAC002151"
          ],
          [
           "MAC002212"
          ],
          [
           "MAC002342"
          ],
          [
           "MAC002367"
          ],
          [
           "MAC002377"
          ],
          [
           "MAC002398"
          ],
          [
           "MAC002722"
          ],
          [
           "MAC002823"
          ],
          [
           "MAC003049"
          ],
          [
           "MAC003089"
          ],
          [
           "MAC003090"
          ],
          [
           "MAC003127"
          ],
          [
           "MAC003172"
          ],
          [
           "MAC003175"
          ],
          [
           "MAC003178"
          ],
          [
           "MAC003181"
          ],
          [
           "MAC003191"
          ],
          [
           "MAC003192"
          ],
          [
           "MAC003193"
          ],
          [
           "MAC003224"
          ],
          [
           "MAC003242"
          ],
          [
           "MAC003253"
          ],
          [
           "MAC003254"
          ],
          [
           "MAC003258"
          ],
          [
           "MAC003263"
          ],
          [
           "MAC003267"
          ],
          [
           "MAC003270"
          ],
          [
           "MAC003277"
          ],
          [
           "MAC003289"
          ],
          [
           "MAC003297"
          ],
          [
           "MAC003300"
          ],
          [
           "MAC003310"
          ],
          [
           "MAC003311"
          ],
          [
           "MAC003315"
          ],
          [
           "MAC003325"
          ],
          [
           "MAC003326"
          ],
          [
           "MAC003338"
          ],
          [
           "MAC003350"
          ],
          [
           "MAC003380"
          ],
          [
           "MAC003398"
          ],
          [
           "MAC003424"
          ],
          [
           "MAC003435"
          ],
          [
           "MAC003455"
          ],
          [
           "MAC003459"
          ],
          [
           "MAC003472"
          ],
          [
           "MAC003476"
          ],
          [
           "MAC003491"
          ],
          [
           "MAC003505"
          ],
          [
           "MAC003508"
          ],
          [
           "MAC003510"
          ],
          [
           "MAC003520"
          ],
          [
           "MAC003525"
          ],
          [
           "MAC003526"
          ],
          [
           "MAC003533"
          ],
          [
           "MAC003535"
          ],
          [
           "MAC003537"
          ],
          [
           "MAC003539"
          ],
          [
           "MAC003541"
          ],
          [
           "MAC003555"
          ],
          [
           "MAC003564"
          ],
          [
           "MAC003565"
          ],
          [
           "MAC003574"
          ],
          [
           "MAC003576"
          ],
          [
           "MAC003577"
          ],
          [
           "MAC003593"
          ],
          [
           "MAC003598"
          ],
          [
           "MAC003604"
          ],
          [
           "MAC003609"
          ],
          [
           "MAC003612"
          ],
          [
           "MAC003623"
          ],
          [
           "MAC003640"
          ],
          [
           "MAC003641"
          ],
          [
           "MAC003644"
          ],
          [
           "MAC003660"
          ],
          [
           "MAC003667"
          ],
          [
           "MAC003669"
          ],
          [
           "MAC003674"
          ],
          [
           "MAC003675"
          ],
          [
           "MAC003703"
          ],
          [
           "MAC003705"
          ],
          [
           "MAC003726"
          ],
          [
           "MAC003728"
          ],
          [
           "MAC003738"
          ],
          [
           "MAC003757"
          ],
          [
           "MAC003765"
          ],
          [
           "MAC003773"
          ],
          [
           "MAC003783"
          ],
          [
           "MAC003785"
          ],
          [
           "MAC003793"
          ],
          [
           "MAC003816"
          ],
          [
           "MAC003821"
          ],
          [
           "MAC003836"
          ],
          [
           "MAC003838"
          ],
          [
           "MAC003848"
          ],
          [
           "MAC003862"
          ],
          [
           "MAC003890"
          ],
          [
           "MAC003894"
          ],
          [
           "MAC003909"
          ],
          [
           "MAC003919"
          ],
          [
           "MAC003922"
          ],
          [
           "MAC004033"
          ],
          [
           "MAC004113"
          ],
          [
           "MAC004169"
          ],
          [
           "MAC004224"
          ],
          [
           "MAC004234"
          ],
          [
           "MAC004490"
          ],
          [
           "MAC004497"
          ],
          [
           "MAC004505"
          ],
          [
           "MAC004507"
          ],
          [
           "MAC004566"
          ],
          [
           "MAC004576"
          ],
          [
           "MAC004589"
          ],
          [
           "MAC004626"
          ],
          [
           "MAC004721"
          ],
          [
           "MAC004761"
          ],
          [
           "MAC004793"
          ],
          [
           "MAC004847"
          ],
          [
           "MAC004947"
          ],
          [
           "MAC005023"
          ],
          [
           "MAC005193"
          ],
          [
           "MAC005338"
          ],
          [
           "MAC005357"
          ],
          [
           "MAC005371"
          ],
          [
           "MAC005432"
          ],
          [
           "MAC005548"
          ],
          [
           "MAC000114"
          ],
          [
           "MAC000142"
          ],
          [
           "MAC000674"
          ],
          [
           "MAC001388"
          ],
          [
           "MAC001392"
          ],
          [
           "MAC001476"
          ],
          [
           "MAC001947"
          ],
          [
           "MAC002178"
          ],
          [
           "MAC002288"
          ],
          [
           "MAC002760"
          ],
          [
           "MAC002913"
          ],
          [
           "MAC002985"
          ],
          [
           "MAC002991"
          ],
          [
           "MAC003104"
          ],
          [
           "MAC003139"
          ],
          [
           "MAC003143"
          ],
          [
           "MAC003185"
          ],
          [
           "MAC003199"
          ],
          [
           "MAC003226"
          ],
          [
           "MAC003251"
          ],
          [
           "MAC003280"
          ],
          [
           "MAC003360"
          ],
          [
           "MAC003377"
          ],
          [
           "MAC003386"
          ],
          [
           "MAC003401"
          ],
          [
           "MAC003458"
          ],
          [
           "MAC003471"
          ],
          [
           "MAC003498"
          ],
          [
           "MAC003518"
          ],
          [
           "MAC003523"
          ],
          [
           "MAC003543"
          ],
          [
           "MAC003545"
          ],
          [
           "MAC003560"
          ],
          [
           "MAC003563"
          ],
          [
           "MAC003575"
          ],
          [
           "MAC003618"
          ],
          [
           "MAC003620"
          ],
          [
           "MAC003622"
          ],
          [
           "MAC003624"
          ],
          [
           "MAC003673"
          ],
          [
           "MAC003769"
          ],
          [
           "MAC003786"
          ],
          [
           "MAC003829"
          ],
          [
           "MAC003869"
          ],
          [
           "MAC004043"
          ],
          [
           "MAC004372"
          ],
          [
           "MAC004524"
          ],
          [
           "MAC004776"
          ],
          [
           "MAC005303"
          ],
          [
           "MAC005312"
          ],
          [
           "MAC005434"
          ],
          [
           "MAC005472"
          ],
          [
           "MAC005501"
          ],
          [
           "MAC000011"
          ],
          [
           "MAC000046"
          ],
          [
           "MAC000067"
          ],
          [
           "MAC000100"
          ],
          [
           "MAC000107"
          ],
          [
           "MAC000581"
          ],
          [
           "MAC000818"
          ],
          [
           "MAC000913"
          ],
          [
           "MAC001205"
          ],
          [
           "MAC001212"
          ],
          [
           "MAC001273"
          ],
          [
           "MAC001326"
          ],
          [
           "MAC001435"
          ],
          [
           "MAC001480"
          ],
          [
           "MAC001485"
          ],
          [
           "MAC001607"
          ],
          [
           "MAC002076"
          ],
          [
           "MAC002369"
          ],
          [
           "MAC002488"
          ],
          [
           "MAC002785"
          ],
          [
           "MAC002954"
          ],
          [
           "MAC003112"
          ],
          [
           "MAC003205"
          ],
          [
           "MAC003209"
          ],
          [
           "MAC003227"
          ],
          [
           "MAC003232"
          ],
          [
           "MAC003243"
          ],
          [
           "MAC003381"
          ],
          [
           "MAC003397"
          ],
          [
           "MAC003412"
          ],
          [
           "MAC003420"
          ],
          [
           "MAC003437"
          ],
          [
           "MAC003467"
          ],
          [
           "MAC003513"
          ],
          [
           "MAC003544"
          ],
          [
           "MAC003588"
          ],
          [
           "MAC003628"
          ],
          [
           "MAC003647"
          ],
          [
           "MAC003651"
          ],
          [
           "MAC003671"
          ],
          [
           "MAC003704"
          ],
          [
           "MAC003781"
          ],
          [
           "MAC003798"
          ],
          [
           "MAC003824"
          ],
          [
           "MAC003835"
          ],
          [
           "MAC003837"
          ],
          [
           "MAC003850"
          ],
          [
           "MAC003923"
          ],
          [
           "MAC003927"
          ],
          [
           "MAC003976"
          ],
          [
           "MAC004103"
          ],
          [
           "MAC004164"
          ],
          [
           "MAC004200"
          ],
          [
           "MAC004256"
          ],
          [
           "MAC004265"
          ],
          [
           "MAC004630"
          ],
          [
           "MAC004662"
          ],
          [
           "MAC004952"
          ],
          [
           "MAC005085"
          ],
          [
           "MAC005409"
          ],
          [
           "MAC005461"
          ],
          [
           "MAC000213"
          ],
          [
           "MAC000266"
          ],
          [
           "MAC000363"
          ],
          [
           "MAC000474"
          ],
          [
           "MAC001468"
          ],
          [
           "MAC002103"
          ],
          [
           "MAC002208"
          ],
          [
           "MAC002406"
          ],
          [
           "MAC002516"
          ],
          [
           "MAC002547"
          ],
          [
           "MAC002910"
          ],
          [
           "MAC003136"
          ],
          [
           "MAC003296"
          ],
          [
           "MAC003301"
          ],
          [
           "MAC003462"
          ],
          [
           "MAC003631"
          ],
          [
           "MAC003632"
          ],
          [
           "MAC003636"
          ],
          [
           "MAC003654"
          ],
          [
           "MAC003691"
          ],
          [
           "MAC003730"
          ],
          [
           "MAC003742"
          ],
          [
           "MAC003744"
          ],
          [
           "MAC003756"
          ],
          [
           "MAC003772"
          ],
          [
           "MAC003779"
          ],
          [
           "MAC003883"
          ],
          [
           "MAC003929"
          ],
          [
           "MAC003988"
          ],
          [
           "MAC004011"
          ],
          [
           "MAC004017"
          ],
          [
           "MAC004021"
          ],
          [
           "MAC004329"
          ],
          [
           "MAC004376"
          ],
          [
           "MAC004873"
          ],
          [
           "MAC000003"
          ],
          [
           "MAC000283"
          ],
          [
           "MAC000350"
          ],
          [
           "MAC000481"
          ],
          [
           "MAC000555"
          ],
          [
           "MAC000565"
          ],
          [
           "MAC000869"
          ],
          [
           "MAC001254"
          ],
          [
           "MAC002579"
          ],
          [
           "MAC002580"
          ],
          [
           "MAC002902"
          ],
          [
           "MAC002979"
          ],
          [
           "MAC003616"
          ],
          [
           "MAC003700"
          ],
          [
           "MAC003886"
          ],
          [
           "MAC003948"
          ],
          [
           "MAC003995"
          ],
          [
           "MAC004001"
          ],
          [
           "MAC004008"
          ],
          [
           "MAC004547"
          ],
          [
           "MAC004550"
          ],
          [
           "MAC004620"
          ],
          [
           "MAC004951"
          ],
          [
           "MAC005340"
          ],
          [
           "MAC005397"
          ],
          [
           "MAC005473"
          ],
          [
           "MAC000022"
          ],
          [
           "MAC000031"
          ],
          [
           "MAC000047"
          ],
          [
           "MAC000054"
          ],
          [
           "MAC000077"
          ],
          [
           "MAC000088"
          ],
          [
           "MAC000090"
          ],
          [
           "MAC000102"
          ],
          [
           "MAC000104"
          ],
          [
           "MAC000133"
          ],
          [
           "MAC000135"
          ],
          [
           "MAC000136"
          ],
          [
           "MAC000162"
          ],
          [
           "MAC000166"
          ],
          [
           "MAC000174"
          ],
          [
           "MAC000178"
          ],
          [
           "MAC000204"
          ],
          [
           "MAC000207"
          ],
          [
           "MAC000216"
          ],
          [
           "MAC000223"
          ],
          [
           "MAC000227"
          ],
          [
           "MAC000236"
          ],
          [
           "MAC000249"
          ],
          [
           "MAC000285"
          ],
          [
           "MAC000292"
          ],
          [
           "MAC000293"
          ],
          [
           "MAC000305"
          ],
          [
           "MAC000313"
          ],
          [
           "MAC000318"
          ],
          [
           "MAC000329"
          ],
          [
           "MAC000333"
          ],
          [
           "MAC000334"
          ],
          [
           "MAC000362"
          ],
          [
           "MAC000364"
          ],
          [
           "MAC000365"
          ],
          [
           "MAC000385"
          ],
          [
           "MAC000391"
          ],
          [
           "MAC000392"
          ],
          [
           "MAC000402"
          ],
          [
           "MAC000417"
          ],
          [
           "MAC000423"
          ],
          [
           "MAC000425"
          ],
          [
           "MAC000434"
          ],
          [
           "MAC000435"
          ],
          [
           "MAC000449"
          ],
          [
           "MAC000457"
          ],
          [
           "MAC000460"
          ],
          [
           "MAC000471"
          ],
          [
           "MAC000472"
          ],
          [
           "MAC000486"
          ],
          [
           "MAC000507"
          ],
          [
           "MAC000511"
          ],
          [
           "MAC000513"
          ],
          [
           "MAC000527"
          ],
          [
           "MAC000529"
          ],
          [
           "MAC000543"
          ],
          [
           "MAC000560"
          ],
          [
           "MAC000575"
          ],
          [
           "MAC000576"
          ],
          [
           "MAC000579"
          ],
          [
           "MAC000627"
          ],
          [
           "MAC000635"
          ],
          [
           "MAC000657"
          ],
          [
           "MAC000771"
          ],
          [
           "MAC000781"
          ],
          [
           "MAC000810"
          ],
          [
           "MAC000836"
          ],
          [
           "MAC000949"
          ],
          [
           "MAC001047"
          ],
          [
           "MAC001067"
          ],
          [
           "MAC001089"
          ],
          [
           "MAC001100"
          ],
          [
           "MAC001102"
          ],
          [
           "MAC001131"
          ],
          [
           "MAC001275"
          ],
          [
           "MAC001342"
          ],
          [
           "MAC001351"
          ],
          [
           "MAC001394"
          ],
          [
           "MAC001398"
          ],
          [
           "MAC001421"
          ],
          [
           "MAC001439"
          ],
          [
           "MAC001455"
          ],
          [
           "MAC001503"
          ],
          [
           "MAC001527"
          ],
          [
           "MAC001540"
          ],
          [
           "MAC001545"
          ],
          [
           "MAC001554"
          ],
          [
           "MAC001557"
          ],
          [
           "MAC001620"
          ],
          [
           "MAC001640"
          ],
          [
           "MAC001672"
          ],
          [
           "MAC001715"
          ],
          [
           "MAC001744"
          ],
          [
           "MAC001751"
          ],
          [
           "MAC001837"
          ],
          [
           "MAC001876"
          ],
          [
           "MAC001899"
          ],
          [
           "MAC001907"
          ],
          [
           "MAC002001"
          ],
          [
           "MAC002009"
          ],
          [
           "MAC002033"
          ],
          [
           "MAC002045"
          ],
          [
           "MAC002054"
          ],
          [
           "MAC002055"
          ],
          [
           "MAC002077"
          ],
          [
           "MAC002094"
          ],
          [
           "MAC002107"
          ],
          [
           "MAC002108"
          ],
          [
           "MAC002116"
          ],
          [
           "MAC002117"
          ],
          [
           "MAC002118"
          ],
          [
           "MAC002119"
          ],
          [
           "MAC002129"
          ],
          [
           "MAC002139"
          ],
          [
           "MAC002159"
          ],
          [
           "MAC002161"
          ],
          [
           "MAC002168"
          ],
          [
           "MAC002173"
          ],
          [
           "MAC002185"
          ],
          [
           "MAC002191"
          ],
          [
           "MAC002196"
          ],
          [
           "MAC002209"
          ],
          [
           "MAC002237"
          ],
          [
           "MAC002248"
          ],
          [
           "MAC002276"
          ],
          [
           "MAC002305"
          ],
          [
           "MAC002352"
          ],
          [
           "MAC002353"
          ],
          [
           "MAC002445"
          ],
          [
           "MAC002511"
          ],
          [
           "MAC002523"
          ],
          [
           "MAC002531"
          ],
          [
           "MAC002537"
          ],
          [
           "MAC002551"
          ],
          [
           "MAC002559"
          ],
          [
           "MAC002569"
          ],
          [
           "MAC002576"
          ],
          [
           "MAC002600"
          ],
          [
           "MAC002659"
          ],
          [
           "MAC002665"
          ],
          [
           "MAC002678"
          ],
          [
           "MAC002775"
          ],
          [
           "MAC002824"
          ],
          [
           "MAC002878"
          ],
          [
           "MAC002899"
          ],
          [
           "MAC002906"
          ],
          [
           "MAC002950"
          ],
          [
           "MAC002969"
          ],
          [
           "MAC002988"
          ],
          [
           "MAC002993"
          ],
          [
           "MAC003003"
          ],
          [
           "MAC003021"
          ],
          [
           "MAC003032"
          ],
          [
           "MAC003038"
          ],
          [
           "MAC003040"
          ],
          [
           "MAC003047"
          ],
          [
           "MAC003064"
          ],
          [
           "MAC003088"
          ],
          [
           "MAC003099"
          ],
          [
           "MAC003108"
          ],
          [
           "MAC003134"
          ],
          [
           "MAC003168"
          ],
          [
           "MAC003522"
          ],
          [
           "MAC003538"
          ],
          [
           "MAC003546"
          ],
          [
           "MAC003586"
          ],
          [
           "MAC003594"
          ],
          [
           "MAC003657"
          ],
          [
           "MAC003676"
          ],
          [
           "MAC003693"
          ],
          [
           "MAC003741"
          ],
          [
           "MAC003767"
          ],
          [
           "MAC003849"
          ],
          [
           "MAC003853"
          ],
          [
           "MAC003885"
          ],
          [
           "MAC003955"
          ],
          [
           "MAC003964"
          ],
          [
           "MAC003978"
          ],
          [
           "MAC003996"
          ],
          [
           "MAC004004"
          ],
          [
           "MAC004005"
          ],
          [
           "MAC004019"
          ],
          [
           "MAC004044"
          ],
          [
           "MAC004052"
          ],
          [
           "MAC004056"
          ],
          [
           "MAC004065"
          ],
          [
           "MAC004066"
          ],
          [
           "MAC004078"
          ],
          [
           "MAC004079"
          ],
          [
           "MAC004089"
          ],
          [
           "MAC004104"
          ],
          [
           "MAC004123"
          ],
          [
           "MAC004129"
          ],
          [
           "MAC004180"
          ],
          [
           "MAC004182"
          ],
          [
           "MAC004232"
          ],
          [
           "MAC004236"
          ],
          [
           "MAC004268"
          ],
          [
           "MAC004281"
          ],
          [
           "MAC004331"
          ],
          [
           "MAC004333"
          ],
          [
           "MAC004335"
          ],
          [
           "MAC004350"
          ],
          [
           "MAC004357"
          ],
          [
           "MAC004358"
          ],
          [
           "MAC004366"
          ],
          [
           "MAC004381"
          ],
          [
           "MAC004382"
          ],
          [
           "MAC004384"
          ],
          [
           "MAC004395"
          ],
          [
           "MAC004403"
          ],
          [
           "MAC004405"
          ],
          [
           "MAC004419"
          ],
          [
           "MAC004427"
          ],
          [
           "MAC004435"
          ],
          [
           "MAC004442"
          ],
          [
           "MAC004459"
          ],
          [
           "MAC004461"
          ],
          [
           "MAC004462"
          ],
          [
           "MAC004465"
          ],
          [
           "MAC004469"
          ],
          [
           "MAC004489"
          ],
          [
           "MAC004495"
          ],
          [
           "MAC004503"
          ],
          [
           "MAC004514"
          ],
          [
           "MAC004533"
          ],
          [
           "MAC004540"
          ],
          [
           "MAC004541"
          ],
          [
           "MAC004558"
          ],
          [
           "MAC004563"
          ],
          [
           "MAC004568"
          ],
          [
           "MAC004569"
          ],
          [
           "MAC004575"
          ],
          [
           "MAC004577"
          ],
          [
           "MAC004583"
          ],
          [
           "MAC004597"
          ],
          [
           "MAC004599"
          ],
          [
           "MAC004615"
          ],
          [
           "MAC004652"
          ],
          [
           "MAC004659"
          ],
          [
           "MAC004674"
          ],
          [
           "MAC004693"
          ],
          [
           "MAC004700"
          ],
          [
           "MAC004715"
          ],
          [
           "MAC004734"
          ],
          [
           "MAC004744"
          ],
          [
           "MAC004773"
          ],
          [
           "MAC004799"
          ],
          [
           "MAC004809"
          ],
          [
           "MAC004818"
          ],
          [
           "MAC004820"
          ],
          [
           "MAC004860"
          ],
          [
           "MAC004861"
          ],
          [
           "MAC004866"
          ],
          [
           "MAC004875"
          ],
          [
           "MAC004883"
          ],
          [
           "MAC004889"
          ],
          [
           "MAC004892"
          ],
          [
           "MAC004894"
          ],
          [
           "MAC004898"
          ],
          [
           "MAC004934"
          ],
          [
           "MAC004941"
          ],
          [
           "MAC004943"
          ],
          [
           "MAC004946"
          ],
          [
           "MAC004979"
          ],
          [
           "MAC005000"
          ],
          [
           "MAC005004"
          ],
          [
           "MAC005019"
          ],
          [
           "MAC005045"
          ],
          [
           "MAC005104"
          ],
          [
           "MAC005236"
          ],
          [
           "MAC005237"
          ],
          [
           "MAC005240"
          ],
          [
           "MAC005258"
          ],
          [
           "MAC005260"
          ],
          [
           "MAC005265"
          ],
          [
           "MAC005287"
          ],
          [
           "MAC005288"
          ],
          [
           "MAC005328"
          ],
          [
           "MAC005332"
          ],
          [
           "MAC005339"
          ],
          [
           "MAC005364"
          ],
          [
           "MAC005368"
          ],
          [
           "MAC005389"
          ],
          [
           "MAC005401"
          ],
          [
           "MAC005414"
          ],
          [
           "MAC005463"
          ],
          [
           "MAC005516"
          ],
          [
           "MAC005524"
          ],
          [
           "MAC005527"
          ],
          [
           "MAC005557"
          ],
          [
           "MAC005567"
          ]
         ],
         "hovertemplate": "Acorn_Group=%{x}<br>KWH/hh=%{y}<br>LCLid=%{customdata[0]}<extra></extra>",
         "legendgroup": "",
         "marker": {
          "color": "#636efa"
         },
         "name": "",
         "notched": false,
         "offsetgroup": "",
         "orientation": "v",
         "showlegend": false,
         "type": "box",
         "x": [
          "A",
          "A",
          "A",
          "A",
          "A",
          "A",
          "A",
          "A",
          "A",
          "A",
          "A",
          "A",
          "A",
          "A",
          "A",
          "A",
          "A",
          "A",
          "A",
          "A",
          "A",
          "A",
          "A",
          "A",
          "A",
          "A",
          "A",
          "A",
          "A",
          "A",
          "A",
          "A",
          "A",
          "A",
          "A",
          "A",
          "A",
          "A",
          "A",
          "A",
          "A",
          "A",
          "A",
          "A",
          "A",
          "A",
          "A",
          "A",
          "A",
          "A",
          "A",
          "A",
          "A",
          "A",
          "A",
          "A",
          "A",
          "A",
          "A",
          "A",
          "A",
          "A",
          "A",
          "A",
          "A",
          "A",
          "A",
          "A",
          "A",
          "A",
          "A",
          "A",
          "A",
          "A",
          "A",
          "A",
          "A",
          "A",
          "A",
          "A",
          "A",
          "B",
          "B",
          "B",
          "B",
          "B",
          "B",
          "B",
          "B",
          "B",
          "C",
          "C",
          "C",
          "C",
          "C",
          "C",
          "C",
          "C",
          "C",
          "C",
          "C",
          "C",
          "C",
          "C",
          "C",
          "C",
          "C",
          "C",
          "C",
          "C",
          "C",
          "C",
          "C",
          "C",
          "C",
          "C",
          "C",
          "C",
          "C",
          "C",
          "C",
          "C",
          "C",
          "C",
          "C",
          "C",
          "C",
          "C",
          "C",
          "C",
          "C",
          "C",
          "C",
          "C",
          "C",
          "C",
          "C",
          "C",
          "C",
          "C",
          "C",
          "C",
          "C",
          "C",
          "C",
          "C",
          "C",
          "C",
          "C",
          "C",
          "C",
          "C",
          "C",
          "C",
          "C",
          "C",
          "C",
          "C",
          "C",
          "C",
          "C",
          "C",
          "C",
          "C",
          "C",
          "C",
          "C",
          "C",
          "C",
          "C",
          "C",
          "C",
          "D",
          "D",
          "D",
          "D",
          "D",
          "D",
          "D",
          "D",
          "D",
          "D",
          "D",
          "D",
          "D",
          "D",
          "D",
          "D",
          "D",
          "D",
          "D",
          "D",
          "D",
          "D",
          "D",
          "D",
          "D",
          "D",
          "D",
          "D",
          "D",
          "D",
          "D",
          "D",
          "D",
          "D",
          "D",
          "D",
          "D",
          "D",
          "D",
          "D",
          "D",
          "D",
          "D",
          "D",
          "D",
          "D",
          "D",
          "D",
          "D",
          "D",
          "D",
          "D",
          "D",
          "D",
          "D",
          "D",
          "D",
          "D",
          "D",
          "D",
          "D",
          "D",
          "D",
          "D",
          "D",
          "D",
          "D",
          "D",
          "D",
          "D",
          "D",
          "D",
          "D",
          "D",
          "D",
          "D",
          "D",
          "D",
          "D",
          "D",
          "D",
          "D",
          "D",
          "D",
          "D",
          "D",
          "D",
          "D",
          "D",
          "D",
          "D",
          "D",
          "D",
          "D",
          "D",
          "D",
          "D",
          "D",
          "D",
          "D",
          "D",
          "D",
          "D",
          "D",
          "D",
          "D",
          "D",
          "D",
          "D",
          "D",
          "D",
          "D",
          "D",
          "D",
          "D",
          "D",
          "D",
          "D",
          "D",
          "D",
          "D",
          "D",
          "D",
          "D",
          "D",
          "D",
          "D",
          "D",
          "D",
          "D",
          "D",
          "D",
          "E",
          "E",
          "E",
          "E",
          "E",
          "E",
          "E",
          "E",
          "E",
          "E",
          "E",
          "E",
          "E",
          "E",
          "E",
          "E",
          "E",
          "E",
          "E",
          "E",
          "E",
          "E",
          "E",
          "E",
          "E",
          "E",
          "E",
          "E",
          "E",
          "E",
          "E",
          "E",
          "E",
          "E",
          "E",
          "E",
          "E",
          "E",
          "E",
          "E",
          "E",
          "E",
          "E",
          "E",
          "E",
          "E",
          "E",
          "E",
          "E",
          "E",
          "E",
          "E",
          "E",
          "E",
          "E",
          "E",
          "E",
          "E",
          "E",
          "E",
          "E",
          "E",
          "E",
          "E",
          "E",
          "E",
          "E",
          "E",
          "E",
          "E",
          "E",
          "E",
          "E",
          "E",
          "E",
          "E",
          "E",
          "E",
          "E",
          "E",
          "E",
          "E",
          "E",
          "E",
          "E",
          "E",
          "E",
          "E",
          "E",
          "E",
          "E",
          "E",
          "E",
          "E",
          "E",
          "E",
          "E",
          "E",
          "E",
          "E",
          "E",
          "E",
          "E",
          "E",
          "E",
          "E",
          "E",
          "E",
          "E",
          "E",
          "E",
          "E",
          "E",
          "E",
          "E",
          "E",
          "E",
          "E",
          "E",
          "E",
          "E",
          "E",
          "E",
          "E",
          "E",
          "E",
          "E",
          "E",
          "E",
          "E",
          "E",
          "E",
          "E",
          "E",
          "E",
          "E",
          "E",
          "E",
          "E",
          "E",
          "E",
          "E",
          "E",
          "E",
          "E",
          "E",
          "E",
          "E",
          "E",
          "E",
          "E",
          "E",
          "E",
          "E",
          "E",
          "E",
          "E",
          "E",
          "E",
          "E",
          "E",
          "E",
          "E",
          "E",
          "E",
          "E",
          "E",
          "E",
          "E",
          "E",
          "E",
          "E",
          "E",
          "E",
          "E",
          "E",
          "E",
          "E",
          "E",
          "E",
          "E",
          "E",
          "E",
          "E",
          "E",
          "E",
          "E",
          "E",
          "E",
          "E",
          "E",
          "E",
          "E",
          "E",
          "E",
          "E",
          "E",
          "E",
          "E",
          "E",
          "E",
          "E",
          "E",
          "E",
          "E",
          "E",
          "E",
          "E",
          "E",
          "E",
          "E",
          "E",
          "E",
          "E",
          "E",
          "E",
          "E",
          "E",
          "E",
          "E",
          "E",
          "E",
          "E",
          "E",
          "E",
          "E",
          "E",
          "E",
          "E",
          "E",
          "E",
          "E",
          "E",
          "E",
          "E",
          "E",
          "E",
          "E",
          "E",
          "E",
          "E",
          "E",
          "E",
          "E",
          "E",
          "E",
          "E",
          "E",
          "E",
          "E",
          "E",
          "E",
          "E",
          "E",
          "E",
          "E",
          "E",
          "E",
          "E",
          "E",
          "E",
          "E",
          "E",
          "E",
          "E",
          "E",
          "E",
          "E",
          "E",
          "E",
          "E",
          "E",
          "E",
          "E",
          "E",
          "E",
          "E",
          "E",
          "E",
          "E",
          "E",
          "E",
          "E",
          "E",
          "E",
          "E",
          "E",
          "E",
          "E",
          "E",
          "E",
          "E",
          "E",
          "E",
          "E",
          "E",
          "E",
          "E",
          "E",
          "E",
          "E",
          "E",
          "E",
          "E",
          "E",
          "E",
          "E",
          "E",
          "E",
          "E",
          "E",
          "E",
          "E",
          "E",
          "E",
          "E",
          "E",
          "E",
          "E",
          "E",
          "E",
          "E",
          "E",
          "E",
          "E",
          "E",
          "E",
          "E",
          "E",
          "E",
          "E",
          "E",
          "E",
          "E",
          "E",
          "E",
          "E",
          "E",
          "E",
          "E",
          "E",
          "E",
          "E",
          "E",
          "E",
          "E",
          "E",
          "E",
          "E",
          "E",
          "E",
          "E",
          "E",
          "E",
          "E",
          "E",
          "E",
          "E",
          "E",
          "E",
          "E",
          "E",
          "E",
          "E",
          "E",
          "E",
          "E",
          "E",
          "E",
          "E",
          "E",
          "E",
          "E",
          "E",
          "E",
          "E",
          "E",
          "E",
          "E",
          "E",
          "E",
          "E",
          "E",
          "E",
          "E",
          "E",
          "E",
          "E",
          "E",
          "E",
          "E",
          "E",
          "E",
          "E",
          "E",
          "E",
          "E",
          "E",
          "E",
          "E",
          "E",
          "E",
          "E",
          "E",
          "E",
          "E",
          "E",
          "E",
          "E",
          "E",
          "E",
          "E",
          "E",
          "E",
          "E",
          "E",
          "E",
          "E",
          "E",
          "E",
          "E",
          "E",
          "E",
          "E",
          "E",
          "E",
          "E",
          "E",
          "E",
          "E",
          "E",
          "E",
          "E",
          "E",
          "E",
          "E",
          "E",
          "E",
          "E",
          "E",
          "E",
          "E",
          "E",
          "E",
          "E",
          "E",
          "E",
          "E",
          "E",
          "E",
          "E",
          "E",
          "E",
          "E",
          "E",
          "E",
          "E",
          "E",
          "E",
          "E",
          "E",
          "E",
          "E",
          "E",
          "E",
          "E",
          "E",
          "E",
          "E",
          "E",
          "E",
          "E",
          "E",
          "E",
          "E",
          "E",
          "E",
          "E",
          "E",
          "E",
          "E",
          "E",
          "E",
          "E",
          "E",
          "E",
          "E",
          "E",
          "E",
          "E",
          "E",
          "E",
          "E",
          "E",
          "E",
          "E",
          "E",
          "E",
          "E",
          "E",
          "E",
          "E",
          "E",
          "E",
          "E",
          "E",
          "E",
          "E",
          "E",
          "E",
          "E",
          "E",
          "E",
          "E",
          "E",
          "E",
          "E",
          "E",
          "E",
          "E",
          "E",
          "E",
          "E",
          "E",
          "E",
          "E",
          "E",
          "E",
          "E",
          "E",
          "E",
          "E",
          "E",
          "E",
          "E",
          "E",
          "E",
          "E",
          "E",
          "E",
          "E",
          "E",
          "E",
          "E",
          "E",
          "E",
          "E",
          "E",
          "E",
          "E",
          "E",
          "E",
          "E",
          "E",
          "E",
          "E",
          "E",
          "E",
          "E",
          "E",
          "E",
          "E",
          "E",
          "E",
          "E",
          "E",
          "E",
          "E",
          "E",
          "E",
          "E",
          "E",
          "E",
          "E",
          "E",
          "E",
          "E",
          "E",
          "E",
          "E",
          "E",
          "E",
          "E",
          "E",
          "E",
          "E",
          "E",
          "E",
          "E",
          "E",
          "E",
          "E",
          "E",
          "E",
          "E",
          "E",
          "E",
          "E",
          "E",
          "E",
          "E",
          "E",
          "E",
          "E",
          "E",
          "E",
          "E",
          "E",
          "E",
          "E",
          "E",
          "E",
          "E",
          "E",
          "E",
          "E",
          "E",
          "E",
          "E",
          "E",
          "E",
          "E",
          "E",
          "E",
          "E",
          "E",
          "E",
          "E",
          "E",
          "E",
          "E",
          "E",
          "E",
          "E",
          "E",
          "E",
          "E",
          "E",
          "E",
          "E",
          "E",
          "E",
          "E",
          "E",
          "E",
          "E",
          "E",
          "E",
          "E",
          "E",
          "E",
          "E",
          "E",
          "E",
          "E",
          "E",
          "E",
          "E",
          "E",
          "E",
          "E",
          "E",
          "E",
          "E",
          "E",
          "E",
          "E",
          "E",
          "E",
          "E",
          "E",
          "E",
          "E",
          "E",
          "E",
          "E",
          "E",
          "E",
          "E",
          "E",
          "E",
          "E",
          "E",
          "E",
          "E",
          "E",
          "E",
          "E",
          "E",
          "E",
          "E",
          "E",
          "E",
          "E",
          "E",
          "E",
          "E",
          "E",
          "E",
          "E",
          "E",
          "E",
          "F",
          "F",
          "F",
          "F",
          "F",
          "F",
          "F",
          "F",
          "F",
          "F",
          "F",
          "F",
          "F",
          "F",
          "F",
          "F",
          "F",
          "F",
          "F",
          "F",
          "F",
          "F",
          "F",
          "F",
          "F",
          "F",
          "F",
          "F",
          "F",
          "F",
          "F",
          "F",
          "F",
          "F",
          "F",
          "F",
          "F",
          "F",
          "F",
          "F",
          "F",
          "F",
          "F",
          "F",
          "F",
          "F",
          "F",
          "F",
          "F",
          "F",
          "F",
          "F",
          "F",
          "F",
          "F",
          "F",
          "F",
          "F",
          "F",
          "F",
          "F",
          "F",
          "F",
          "F",
          "F",
          "F",
          "F",
          "F",
          "F",
          "F",
          "F",
          "F",
          "F",
          "F",
          "F",
          "F",
          "F",
          "F",
          "F",
          "F",
          "F",
          "F",
          "F",
          "F",
          "F",
          "F",
          "F",
          "F",
          "F",
          "F",
          "F",
          "F",
          "F",
          "F",
          "F",
          "F",
          "F",
          "F",
          "F",
          "F",
          "F",
          "F",
          "F",
          "F",
          "F",
          "F",
          "F",
          "F",
          "F",
          "F",
          "F",
          "F",
          "F",
          "F",
          "F",
          "F",
          "F",
          "F",
          "F",
          "F",
          "F",
          "F",
          "F",
          "F",
          "F",
          "F",
          "F",
          "F",
          "F",
          "F",
          "F",
          "F",
          "F",
          "F",
          "F",
          "F",
          "F",
          "F",
          "F",
          "F",
          "F",
          "F",
          "F",
          "F",
          "F",
          "F",
          "F",
          "F",
          "F",
          "F",
          "F",
          "F",
          "F",
          "F",
          "F",
          "F",
          "F",
          "F",
          "F",
          "F",
          "F",
          "F",
          "F",
          "F",
          "F",
          "F",
          "F",
          "F",
          "F",
          "F",
          "F",
          "F",
          "F",
          "F",
          "F",
          "F",
          "F",
          "F",
          "F",
          "F",
          "F",
          "F",
          "F",
          "F",
          "F",
          "F",
          "F",
          "F",
          "F",
          "F",
          "F",
          "F",
          "F",
          "F",
          "F",
          "F",
          "F",
          "F",
          "F",
          "F",
          "F",
          "F",
          "F",
          "F",
          "F",
          "F",
          "F",
          "F",
          "F",
          "F",
          "F",
          "F",
          "F",
          "F",
          "F",
          "F",
          "F",
          "F",
          "F",
          "F",
          "F",
          "F",
          "F",
          "F",
          "F",
          "F",
          "F",
          "F",
          "F",
          "F",
          "F",
          "F",
          "F",
          "F",
          "F",
          "F",
          "F",
          "F",
          "F",
          "F",
          "F",
          "F",
          "F",
          "F",
          "F",
          "F",
          "F",
          "F",
          "F",
          "F",
          "F",
          "F",
          "F",
          "F",
          "F",
          "F",
          "F",
          "F",
          "F",
          "F",
          "F",
          "F",
          "F",
          "F",
          "F",
          "F",
          "F",
          "F",
          "F",
          "F",
          "F",
          "F",
          "F",
          "F",
          "F",
          "F",
          "F",
          "F",
          "F",
          "F",
          "F",
          "F",
          "F",
          "F",
          "F",
          "F",
          "F",
          "F",
          "F",
          "F",
          "F",
          "F",
          "H",
          "H",
          "H",
          "H",
          "H",
          "H",
          "H",
          "H",
          "H",
          "H",
          "H",
          "H",
          "H",
          "H",
          "H",
          "H",
          "H",
          "H",
          "H",
          "H",
          "H",
          "H",
          "H",
          "H",
          "H",
          "H",
          "H",
          "H",
          "H",
          "H",
          "H",
          "H",
          "H",
          "H",
          "H",
          "H",
          "H",
          "H",
          "H",
          "H",
          "H",
          "H",
          "H",
          "H",
          "H",
          "H",
          "H",
          "H",
          "H",
          "H",
          "H",
          "H",
          "H",
          "H",
          "H",
          "H",
          "H",
          "H",
          "H",
          "H",
          "H",
          "H",
          "H",
          "H",
          "H",
          "H",
          "H",
          "H",
          "H",
          "H",
          "H",
          "H",
          "H",
          "H",
          "H",
          "H",
          "H",
          "H",
          "H",
          "H",
          "H",
          "H",
          "H",
          "H",
          "H",
          "H",
          "H",
          "H",
          "H",
          "H",
          "H",
          "H",
          "H",
          "H",
          "H",
          "H",
          "H",
          "H",
          "H",
          "H",
          "H",
          "H",
          "H",
          "H",
          "H",
          "H",
          "H",
          "H",
          "H",
          "H",
          "H",
          "H",
          "H",
          "H",
          "H",
          "H",
          "H",
          "H",
          "H",
          "H",
          "H",
          "H",
          "H",
          "H",
          "H",
          "H",
          "H",
          "H",
          "H",
          "H",
          "H",
          "H",
          "H",
          "H",
          "H",
          "H",
          "H",
          "H",
          "H",
          "H",
          "H",
          "H",
          "H",
          "H",
          "H",
          "H",
          "H",
          "H",
          "H",
          "H",
          "H",
          "H",
          "H",
          "H",
          "H",
          "H",
          "H",
          "H",
          "H",
          "H",
          "H",
          "H",
          "H",
          "H",
          "H",
          "H",
          "H",
          "H",
          "H",
          "H",
          "H",
          "H",
          "H",
          "H",
          "H",
          "H",
          "H",
          "H",
          "H",
          "H",
          "H",
          "H",
          "H",
          "H",
          "H",
          "H",
          "H",
          "H",
          "H",
          "H",
          "H",
          "H",
          "H",
          "H",
          "H",
          "H",
          "H",
          "H",
          "H",
          "H",
          "H",
          "H",
          "H",
          "H",
          "H",
          "H",
          "H",
          "H",
          "H",
          "H",
          "H",
          "H",
          "H",
          "H",
          "H",
          "H",
          "H",
          "H",
          "H",
          "H",
          "H",
          "H",
          "H",
          "H",
          "H",
          "H",
          "H",
          "H",
          "H",
          "H",
          "H",
          "H",
          "H",
          "H",
          "H",
          "H",
          "H",
          "I",
          "I",
          "I",
          "I",
          "I",
          "I",
          "I",
          "I",
          "I",
          "I",
          "I",
          "I",
          "I",
          "I",
          "I",
          "I",
          "I",
          "I",
          "I",
          "I",
          "I",
          "I",
          "I",
          "I",
          "J",
          "J",
          "J",
          "J",
          "J",
          "J",
          "J",
          "J",
          "J",
          "J",
          "J",
          "J",
          "J",
          "J",
          "J",
          "J",
          "J",
          "J",
          "J",
          "J",
          "J",
          "J",
          "J",
          "J",
          "J",
          "J",
          "J",
          "J",
          "J",
          "J",
          "J",
          "J",
          "J",
          "J",
          "J",
          "J",
          "J",
          "J",
          "J",
          "J",
          "J",
          "J",
          "J",
          "J",
          "J",
          "J",
          "J",
          "J",
          "J",
          "J",
          "J",
          "K",
          "K",
          "K",
          "K",
          "K",
          "K",
          "K",
          "K",
          "K",
          "K",
          "K",
          "K",
          "K",
          "K",
          "K",
          "K",
          "K",
          "K",
          "K",
          "K",
          "K",
          "K",
          "K",
          "K",
          "K",
          "K",
          "K",
          "K",
          "K",
          "K",
          "K",
          "K",
          "K",
          "K",
          "K",
          "K",
          "K",
          "K",
          "K",
          "K",
          "K",
          "K",
          "K",
          "K",
          "K",
          "K",
          "K",
          "K",
          "K",
          "K",
          "K",
          "K",
          "K",
          "K",
          "K",
          "K",
          "K",
          "K",
          "K",
          "K",
          "K",
          "K",
          "K",
          "K",
          "K",
          "K",
          "K",
          "K",
          "L",
          "L",
          "L",
          "L",
          "L",
          "L",
          "L",
          "L",
          "L",
          "L",
          "L",
          "L",
          "L",
          "L",
          "L",
          "L",
          "L",
          "L",
          "L",
          "L",
          "L",
          "L",
          "L",
          "L",
          "L",
          "L",
          "L",
          "L",
          "L",
          "L",
          "L",
          "L",
          "L",
          "L",
          "L",
          "L",
          "L",
          "L",
          "L",
          "L",
          "L",
          "L",
          "L",
          "L",
          "L",
          "L",
          "L",
          "L",
          "L",
          "L",
          "L",
          "L",
          "L",
          "L",
          "L",
          "L",
          "L",
          "L",
          "L",
          "L",
          "L",
          "L",
          "L",
          "L",
          "L",
          "L",
          "L",
          "L",
          "L",
          "L",
          "L",
          "L",
          "L",
          "L",
          "L",
          "L",
          "L",
          "L",
          "L",
          "L",
          "L",
          "L",
          "L",
          "L",
          "L",
          "L",
          "L",
          "L",
          "L",
          "L",
          "L",
          "L",
          "L",
          "L",
          "L",
          "L",
          "L",
          "L",
          "L",
          "L",
          "L",
          "L",
          "L",
          "L",
          "L",
          "L",
          "L",
          "L",
          "L",
          "L",
          "L",
          "L",
          "L",
          "L",
          "L",
          "L",
          "L",
          "L",
          "L",
          "L",
          "L",
          "L",
          "L",
          "L",
          "L",
          "L",
          "L",
          "L",
          "L",
          "L",
          "L",
          "L",
          "L",
          "L",
          "L",
          "L",
          "L",
          "L",
          "L",
          "L",
          "L",
          "L",
          "L",
          "L",
          "L",
          "L",
          "L",
          "L",
          "L",
          "L",
          "L",
          "L",
          "L",
          "L",
          "L",
          "L",
          "L",
          "L",
          "L",
          "L",
          "L",
          "L",
          "L",
          "L",
          "L",
          "L",
          "L",
          "L",
          "L",
          "L",
          "L",
          "L",
          "L",
          "L",
          "M",
          "M",
          "M",
          "M",
          "M",
          "M",
          "M",
          "M",
          "M",
          "M",
          "M",
          "M",
          "M",
          "M",
          "M",
          "M",
          "M",
          "M",
          "M",
          "M",
          "M",
          "M",
          "M",
          "M",
          "M",
          "M",
          "M",
          "M",
          "M",
          "M",
          "M",
          "M",
          "M",
          "M",
          "M",
          "M",
          "M",
          "M",
          "M",
          "M",
          "M",
          "M",
          "M",
          "M",
          "M",
          "M",
          "M",
          "M",
          "M",
          "M",
          "M",
          "M",
          "M",
          "N",
          "N",
          "N",
          "N",
          "N",
          "N",
          "N",
          "N",
          "N",
          "N",
          "N",
          "N",
          "N",
          "N",
          "N",
          "N",
          "N",
          "N",
          "N",
          "N",
          "N",
          "N",
          "N",
          "N",
          "N",
          "N",
          "N",
          "N",
          "N",
          "N",
          "N",
          "N",
          "N",
          "N",
          "N",
          "N",
          "N",
          "N",
          "N",
          "N",
          "N",
          "N",
          "N",
          "N",
          "N",
          "N",
          "N",
          "N",
          "N",
          "N",
          "N",
          "N",
          "N",
          "N",
          "N",
          "N",
          "N",
          "N",
          "N",
          "N",
          "N",
          "O",
          "O",
          "O",
          "O",
          "O",
          "O",
          "O",
          "O",
          "O",
          "O",
          "O",
          "O",
          "O",
          "O",
          "O",
          "O",
          "O",
          "O",
          "O",
          "O",
          "O",
          "O",
          "O",
          "O",
          "O",
          "O",
          "O",
          "O",
          "O",
          "O",
          "O",
          "O",
          "O",
          "O",
          "O",
          "P",
          "P",
          "P",
          "P",
          "P",
          "P",
          "P",
          "P",
          "P",
          "P",
          "P",
          "P",
          "P",
          "P",
          "P",
          "P",
          "P",
          "P",
          "P",
          "P",
          "P",
          "P",
          "P",
          "P",
          "P",
          "P",
          "Q",
          "Q",
          "Q",
          "Q",
          "Q",
          "Q",
          "Q",
          "Q",
          "Q",
          "Q",
          "Q",
          "Q",
          "Q",
          "Q",
          "Q",
          "Q",
          "Q",
          "Q",
          "Q",
          "Q",
          "Q",
          "Q",
          "Q",
          "Q",
          "Q",
          "Q",
          "Q",
          "Q",
          "Q",
          "Q",
          "Q",
          "Q",
          "Q",
          "Q",
          "Q",
          "Q",
          "Q",
          "Q",
          "Q",
          "Q",
          "Q",
          "Q",
          "Q",
          "Q",
          "Q",
          "Q",
          "Q",
          "Q",
          "Q",
          "Q",
          "Q",
          "Q",
          "Q",
          "Q",
          "Q",
          "Q",
          "Q",
          "Q",
          "Q",
          "Q",
          "Q",
          "Q",
          "Q",
          "Q",
          "Q",
          "Q",
          "Q",
          "Q",
          "Q",
          "Q",
          "Q",
          "Q",
          "Q",
          "Q",
          "Q",
          "Q",
          "Q",
          "Q",
          "Q",
          "Q",
          "Q",
          "Q",
          "Q",
          "Q",
          "Q",
          "Q",
          "Q",
          "Q",
          "Q",
          "Q",
          "Q",
          "Q",
          "Q",
          "Q",
          "Q",
          "Q",
          "Q",
          "Q",
          "Q",
          "Q",
          "Q",
          "Q",
          "Q",
          "Q",
          "Q",
          "Q",
          "Q",
          "Q",
          "Q",
          "Q",
          "Q",
          "Q",
          "Q",
          "Q",
          "Q",
          "Q",
          "Q",
          "Q",
          "Q",
          "Q",
          "Q",
          "Q",
          "Q",
          "Q",
          "Q",
          "Q",
          "Q",
          "Q",
          "Q",
          "Q",
          "Q",
          "Q",
          "Q",
          "Q",
          "Q",
          "Q",
          "Q",
          "Q",
          "Q",
          "Q",
          "Q",
          "Q",
          "Q",
          "Q",
          "Q",
          "Q",
          "Q",
          "Q",
          "Q",
          "Q",
          "Q",
          "Q",
          "Q",
          "Q",
          "Q",
          "Q",
          "Q",
          "Q",
          "Q",
          "Q",
          "Q",
          "Q",
          "Q",
          "Q",
          "Q",
          "Q",
          "Q",
          "Q",
          "Q",
          "Q",
          "Q",
          "Q",
          "Q",
          "Q",
          "Q",
          "Q",
          "Q",
          "Q",
          "Q",
          "Q",
          "Q",
          "Q",
          "Q",
          "Q",
          "Q",
          "Q",
          "Q",
          "Q",
          "Q",
          "Q",
          "Q",
          "Q",
          "Q",
          "Q",
          "Q",
          "Q",
          "Q",
          "Q",
          "Q",
          "Q",
          "Q",
          "Q",
          "Q",
          "Q",
          "Q",
          "Q",
          "Q",
          "Q",
          "Q",
          "Q",
          "Q",
          "Q",
          "Q",
          "Q",
          "Q",
          "Q",
          "Q",
          "Q",
          "Q",
          "Q",
          "Q",
          "Q",
          "Q",
          "Q",
          "Q",
          "Q",
          "Q",
          "Q",
          "Q",
          "Q",
          "Q",
          "Q",
          "Q",
          "Q",
          "Q",
          "Q",
          "Q",
          "Q",
          "Q",
          "Q",
          "Q",
          "Q",
          "Q",
          "Q",
          "Q",
          "Q",
          "Q",
          "Q",
          "Q",
          "Q",
          "Q",
          "Q",
          "Q",
          "Q",
          "Q",
          "Q",
          "Q",
          "Q",
          "Q",
          "Q",
          "Q",
          "Q",
          "Q",
          "Q",
          "Q",
          "Q",
          "Q",
          "Q",
          "Q",
          "Q",
          "Q",
          "Q",
          "Q",
          "Q",
          "Q",
          "Q",
          "Q",
          "Q",
          "Q",
          "Q",
          "Q",
          "Q",
          "Q",
          "Q",
          "Q",
          "Q",
          "Q",
          "Q",
          "Q",
          "Q",
          "Q",
          "Q"
         ],
         "x0": " ",
         "xaxis": "x",
         "y": [
          0.23755278057071136,
          0.5557892983026946,
          0.5012557308897151,
          0.34188295562896814,
          0.2680307374376857,
          0.3509564265824075,
          0.3264582709682064,
          0.6922800939915048,
          0.11618833697127012,
          0.23560130970767826,
          0.14472739132981308,
          0.24148877557964563,
          0.13242089458554895,
          0.36968784625644613,
          0.6681347016203476,
          0.12190182893356642,
          0.2828148684542055,
          0.2236001019489796,
          0.1911523705736963,
          0.24511675835480054,
          0.9692578601590881,
          0.2993627009292081,
          0.5381476847995854,
          0.34771577572084716,
          0.16507060740563326,
          0.44867436120740245,
          0.3296757054272426,
          0.4002075219269889,
          0.15808619598041537,
          1.1040715558831677,
          0.1956828580784812,
          0.2792082952479421,
          0.32886618197651196,
          0.6025874186790631,
          0.2547008938833857,
          0.5464911286032569,
          0.21826368144979738,
          0.2746452675638315,
          0.3608659058096568,
          0.20815804533837662,
          0.22881945700123407,
          0.3647339085380455,
          0.6905727556693368,
          0.5953342848266733,
          0.22249600727791802,
          0.7715128377387541,
          0.22023906856403622,
          0.3391242128425443,
          0.28506532917032396,
          0.21064859324652485,
          0.21498304093212178,
          0.6215505503653685,
          0.2660374857528811,
          0.5645616634452184,
          0.221344427950941,
          0.22574267943889642,
          0.28075532951896587,
          0.2907361759959229,
          0.3730554039072991,
          0.2334507877657555,
          0.5801348642304623,
          2.111239230527941,
          1.0201210303693393,
          0.5414855183386861,
          0.08982759426093052,
          0.10162349484287812,
          0.1603351838767691,
          0.42857849613710414,
          0.2291520031293227,
          0.13937457631902575,
          0.27288718437591075,
          0.5075056309650825,
          0.2068919388922107,
          0.22975015010914052,
          0.4784809820247835,
          0.3077096064492176,
          0.35028378788583026,
          0.235253472779866,
          0.2650145339347366,
          1.4801239923872473,
          0.5015949272657165,
          0.20946149659312863,
          0.38890035290319996,
          0.1231277126867174,
          0.4336888690816161,
          0.14508408052782948,
          0.41789963474770647,
          0.6634563366158822,
          0.13540744326939996,
          0.2025556542589883,
          0.13302527760835084,
          0.6011210090421831,
          0.1058779193050593,
          0.15926160481879112,
          0.33349158255743283,
          0.09130568874315588,
          0.18962814051871474,
          0.1729370039021902,
          0.3317420778403095,
          0.5117458662231745,
          0.3514669848004903,
          0.13971798510432457,
          0.5017410453073385,
          0.1749727755112935,
          0.23141818603593053,
          0.268569441824489,
          0.13867656699783867,
          0.17309065550209204,
          0.24570560342759512,
          0.37109145753138073,
          0.24254780332635983,
          0.21158931626322794,
          0.36255097896204297,
          0.17608362680754092,
          0.3686401606682821,
          0.3870145009374671,
          0.22620632045169387,
          0.4273950272249795,
          0.4993471351078513,
          0.352376261107814,
          0.5015150322610111,
          0.16951364448857995,
          0.39433985782136294,
          0.18475663574112566,
          0.497173572529668,
          0.36014018195196285,
          0.43121084299462664,
          0.14489027519056405,
          0.10202759699525991,
          0.15613026883111664,
          0.33784408540477057,
          0.10476515861057946,
          0.13326837411539558,
          0.21129344323717816,
          0.37935732468385613,
          0.24997125700892306,
          0.1315270988789515,
          0.39231674310537423,
          0.49065435725936657,
          0.21578647406197654,
          0.17378602548173594,
          0.24923921798540025,
          0.23553798709569157,
          0.3811493012210986,
          0.26967776051957865,
          0.1508827129231029,
          0.2846137247334574,
          0.23000123393328226,
          0.6014922396554665,
          0.16606489927287507,
          0.22974591297104463,
          0.08521296200076206,
          0.10687599308047155,
          0.14773680682665424,
          0.08637200914848697,
          0.17965741558002937,
          0.3676643705829039,
          0.5664112524244079,
          0.22809940143117355,
          0.3457404539596192,
          0.19968385131247374,
          0.07650304410426872,
          0.38558464342980636,
          0.14169109289324067,
          0.16104221243957112,
          0.3280317009393866,
          0.19997838840559937,
          0.32670452364525254,
          0.3213333614778021,
          0.35042855392609346,
          0.22358072370118237,
          0.2532704512380778,
          0.25966175682301407,
          0.4886209418418839,
          0.14367522768184735,
          0.26637767381589,
          0.08377643185710978,
          0.28106632389203084,
          0.5743634331113567,
          1.0642953347672703,
          0.13753999381257095,
          0.3909092848500287,
          0.2910705974158775,
          0.1967305693874965,
          0.13647020243420488,
          0.38515912145863757,
          0.16448853884121406,
          0.3375555172245769,
          0.16136633557446498,
          0.11645828547869365,
          0.5219060619294728,
          0.14978334508468596,
          0.251735591802166,
          0.13361045959192133,
          0.44800919623246016,
          0.05829631873958491,
          0.17731703174559887,
          0.28712315030233054,
          0.4321450597559854,
          0.342700846295842,
          0.4115043824728219,
          0.5148794648843615,
          0.47358406167748784,
          0.2384083141295764,
          0.3545182242553328,
          0.3349045700657471,
          0.13316542545654708,
          1.1636488968465517,
          0.3414507242898149,
          0.14481927832595332,
          0.21155758849882542,
          0.22635009039092308,
          0.6814030874045673,
          0.24832795210708639,
          0.12018371335331558,
          0.39011134312946244,
          0.38831213590555425,
          0.4092866695232307,
          0.33645678761064934,
          0.3562570974013012,
          0.35143489762285507,
          0.44980953851172906,
          0.25950347537325064,
          0.34176217734179853,
          1.0386440734550122,
          0.5385522472733008,
          0.051437722423383896,
          0.24297328956461645,
          0.18921520804718636,
          0.15171950710569157,
          0.4931672492065405,
          0.3057298574419552,
          0.3488664019557041,
          0.823838062769025,
          0.25636455559056753,
          0.3302941116210599,
          0.24125575836999066,
          0.3926838806352175,
          0.7894946836629377,
          0.21034410500138542,
          0.37900516948617424,
          0.4169974377970662,
          0.2705559576455832,
          0.4436580877461073,
          0.8093063863784773,
          0.4604412543873262,
          0.30634553932653064,
          0.549434432814277,
          0.1460883030561955,
          0.6448251130267192,
          0.4659880260214363,
          0.2743561268234263,
          0.10086475865931617,
          0.9430398485749473,
          0.3694993833069063,
          0.3408411347037059,
          0.1412162114449339,
          0.1652139374526687,
          0.31337027767964154,
          0.11018087768020013,
          0.23622136077116512,
          0.23025385125930065,
          0.4628124255334779,
          0.21535373954383266,
          0.17358003918701465,
          0.12324635598107919,
          0.14625884166997813,
          0.15437108930729196,
          0.1492780827229371,
          0.1433251975780308,
          0.5788317426463057,
          0.23057269090147545,
          0.09907331909486604,
          0.16078316678311264,
          0.21342871834425253,
          0.20309469460243448,
          0.10165111425201974,
          0.519391242977914,
          0.3125191737083843,
          0.35710812408106707,
          0.35808268295311907,
          0.18241615957377139,
          0.11539759496857066,
          0.07744131094188927,
          0.08378634573545207,
          0.45248972847386687,
          0.25370473200572907,
          0.10104526067859189,
          0.07883506150515691,
          0.2417447043165269,
          0.11327660572982824,
          0.269691027929574,
          0.3964341546497769,
          0.24443023902012975,
          0.16732977483640193,
          0.31564693150692535,
          0.13210883447165306,
          0.5471821697979291,
          0.31237578291997214,
          0.44077602499036117,
          0.30952856939091294,
          0.07500053677147782,
          0.12842959643799096,
          0.25604948948156747,
          0.2292253910498963,
          0.22377090694167054,
          0.4689232798340632,
          0.15771649207540406,
          0.5661070128272118,
          0.4314645879942561,
          0.1396163589974359,
          0.7715233479190707,
          0.22363286781240374,
          0.2773501835049164,
          0.14110238504788067,
          0.10824908755204854,
          0.38644497291334534,
          0.10211906231235862,
          0.08267124240250893,
          0.12717303784673128,
          0.3297754065903761,
          0.1580941728191641,
          0.654824226779302,
          0.21417673685531013,
          0.291604956754799,
          0.20339927992396586,
          0.19413394427715394,
          0.6410193135446831,
          0.21765556818262077,
          0.25022189048601656,
          0.2200681623266952,
          0.04179753827275708,
          0.141105253872334,
          0.12149273057448635,
          0.15645092094797747,
          0.23468036988149682,
          0.12652398016137223,
          0.08361084792136397,
          0.27132156415075226,
          0.3384458069470484,
          0.131755143980718,
          0.2533007684546907,
          0.3272433441393151,
          0.13644845190368546,
          0.10268772223915473,
          0.26604801726995425,
          0.14642010269713762,
          0.2466698387206758,
          0.24824629584831562,
          0.5328597158423177,
          0.0958517619374952,
          0.17944394446859102,
          0.397487379321445,
          0.09257943476915206,
          0.7343026991735959,
          0.1274634111626044,
          0.21328517073345157,
          0.22181561766221866,
          0.3882172107932417,
          0.07928389369379689,
          0.17776960576057346,
          0.19876014338637993,
          0.23315435491560516,
          0.15123954680508425,
          0.848773790081385,
          0.09455323250316346,
          0.39676768552063546,
          0.4469518586795658,
          0.2595021164713336,
          0.7980324587396677,
          0.059317302157009553,
          0.30964784410958907,
          0.37712874850346023,
          0.16964732683545763,
          0.132646684095075,
          0.07186631819100701,
          0.19919178953743855,
          0.197982479481323,
          0.12025735104229912,
          0.11972795371800435,
          0.12829111471336843,
          0.2075319623287473,
          0.22447717072584614,
          0.2769477112655259,
          0.07843194750900012,
          0.06057112576439502,
          0.29254701970792324,
          0.25253212744693826,
          0.07930618883048239,
          0.10813650090322956,
          0.09059627238602,
          0.08458065078949664,
          0.21733631844270634,
          0.18751374167637128,
          0.22899432987700272,
          0.10134304764178409,
          0.14314406804637209,
          0.6215924610014997,
          0.13837121435166128,
          0.35661382617031284,
          0.14143849072728878,
          0.6968725878803947,
          0.09040222675031663,
          0.10593637317085353,
          0.13259662676180928,
          0.4433028213874307,
          0.21153881494687468,
          0.3149951048214444,
          0.23996048246188328,
          0.1893983241177859,
          0.08094935401451242,
          0.09333308726821778,
          0.09887623981643227,
          0.2707685086502014,
          0.14235002369418454,
          0.07048351745994136,
          0.17753832032397537,
          0.23864092768200937,
          0.2529747348587169,
          0.1869077255850465,
          0.16671063397781866,
          0.13954651680951394,
          0.2100060551647373,
          0.2902750654584919,
          0.2365446311913529,
          0.18206523388705328,
          0.35777464910132456,
          0.6044152404800922,
          0.2637542720217319,
          0.05593129446099593,
          0.22736998213450024,
          0.1765230498100708,
          0.14785092542625292,
          0.20606408073321983,
          0.32428723821839955,
          0.16526508408398344,
          0.19382002694850917,
          0.23067564994787834,
          0.07449001869614547,
          0.09096138273418808,
          0.14921745238193612,
          0.32722282589864016,
          0.3584228088871834,
          0.1644588707545142,
          0.3338394348955774,
          0.13970451376126894,
          0.503927097106786,
          0.6166779728463897,
          0.1932675384141051,
          0.13088077949171478,
          0.2236901570315894,
          0.25549942232006245,
          0.15914979681775554,
          0.7823337294514979,
          0.23088787120662707,
          0.09132804466138852,
          0.3780058056353138,
          0.16520946372239748,
          0.09847495970804765,
          0.15956617915290663,
          0.7595848499526155,
          0.12914861526078966,
          1.0218395231556598,
          0.5937759996546043,
          0.10378393492628368,
          0.1147085388752745,
          0.08083939257926907,
          0.09669662132911797,
          0.06435381958878265,
          0.33380553793206535,
          0.17105077073137265,
          0.1959390567226219,
          0.13752595695493536,
          0.2170385255652341,
          0.23447736149535703,
          0.23946359034520304,
          0.3885662805341056,
          0.11446046915725457,
          0.30935663037616246,
          0.2109496680705033,
          0.21520065737118552,
          0.8485172391087195,
          0.20931623382097056,
          0.12383510569734468,
          0.170446055726347,
          0.25929104093457944,
          0.3414892033389197,
          0.42770195958873203,
          0.3431976407464707,
          0.06755197980380095,
          0.12225923284588697,
          0.1829268380207824,
          0.2967349302760057,
          0.11323776410247999,
          0.26859532480055154,
          0.25281895868087634,
          0.09876236649324031,
          0.41217940313542806,
          0.1412082508151815,
          0.08885174505319678,
          0.2715673671776285,
          0.06782510238769189,
          0.8323037499333954,
          0.1924711093249409,
          0.39969764221503057,
          0.25948782199745035,
          0.16442300725308642,
          0.06308622995320855,
          0.12066565227903556,
          0.12710486225294454,
          0.10039950417797433,
          0.07891327425009739,
          0.14944451520754337,
          0.39014436215989534,
          0.2810356292615828,
          0.30019212712245175,
          0.26154141645922097,
          0.3041378477098084,
          0.12108397229284369,
          0.38688322131136516,
          0.17894865154347975,
          0.1881915701762648,
          0.12260936555540604,
          0.14739609109449353,
          0.3016863291541954,
          0.07015624369909122,
          0.0761893437384372,
          0.13707029065373347,
          0.07892883364655956,
          0.2929551057827024,
          0.16531001149026478,
          0.23008203628124788,
          0.25676847141268827,
          0.2939650543715847,
          0.33109877502109136,
          0.11780577141650335,
          0.2623673131180831,
          0.1895899519127903,
          0.22939391783292648,
          0.22272911858742536,
          0.14403289005476005,
          0.08366633767824933,
          0.0669540778122232,
          0.27946834934669657,
          0.12504372155638913,
          0.08927682450695422,
          0.09164133954176817,
          0.06934387047031611,
          0.24716100174572822,
          0.06398993361432763,
          0.15009498688570105,
          0.1295441843311434,
          0.6496883495088955,
          0.23699749633727937,
          0.3144796869550419,
          0.19551096615097857,
          0.19536846681685416,
          0.261563156446536,
          0.2222090008259054,
          0.9281828213644581,
          0.07462213561964147,
          0.12200427819692096,
          0.23318828375836123,
          0.3904710187068577,
          0.25361189940329576,
          0.19799923679317283,
          0.15274787496096867,
          0.1472708666342345,
          0.0797949972245351,
          0.15586961345499964,
          0.15681771361057945,
          0.07389001427030038,
          0.14560371708896003,
          0.04731472524275224,
          0.17229386379868433,
          0.08647895855407428,
          0.07261649319803669,
          0.05794632544971127,
          0.20409736393773723,
          0.3820826282112887,
          0.25476057137407676,
          0.12081977715529248,
          0.16448528999930284,
          0.09053196683050967,
          0.06841653883698229,
          0.2557601533833014,
          0.16153074884953283,
          0.17526590660670086,
          0.8739481229107752,
          0.050447625357416835,
          0.2872724198361227,
          0.24754541648244358,
          0.3960089606324745,
          0.1456797308134872,
          0.28303737934725753,
          0.2949129525249355,
          0.3269718265456253,
          0.18867036061232156,
          0.13889677340001882,
          0.17237489011365062,
          0.3117791592069323,
          0.14950734739530777,
          0.16693251553088834,
          0.15065406956095911,
          0.01818882165397879,
          0.15347657634211193,
          0.08710563781321184,
          0.0746147186203407,
          0.22209861827227784,
          0.3006448894493378,
          0.1331663384126326,
          0.10129380053908354,
          0.2712753937880044,
          0.5159335913240274,
          0.11064901190229409,
          0.08807215175023325,
          0.0557570660450848,
          0.22363465913610936,
          0.1704366886398611,
          0.11219757654017858,
          0.13107625093280606,
          0.2886105851012275,
          0.10770754461521868,
          0.18697681833168586,
          0.09279764412628487,
          0.119029658714044,
          0.14643134940609234,
          0.2314411595172722,
          0.23749678895946658,
          0.23602906994698591,
          0.5010926925101783,
          0.11514407550540502,
          0.3864477711934012,
          0.2513784097314376,
          0.08406302353398606,
          0.26985752223984144,
          0.4847548225608051,
          0.16774920105065516,
          0.13138106718498876,
          0.04164236774178513,
          0.1550985229954553,
          0.07862306472835141,
          0.7264285420464281,
          0.1320885418730172,
          0.8061557611154687,
          0.14926816780987262,
          0.18681571137171288,
          0.4080743883874189,
          0.9471873688835806,
          0.36493365114590803,
          0.148819375255382,
          0.24718352180060782,
          0.5010765881398199,
          0.18017540592598874,
          0.20497464146704675,
          0.38109430181284315,
          0.06724280729060265,
          0.14244129845467746,
          0.14719945374083804,
          0.2025215585819088,
          0.11582543744380663,
          0.26726297570721236,
          0.3767868693652827,
          0.08947074311796294,
          0.14457983863974788,
          0.10340508431752848,
          0.19109067607024105,
          0.36092208691157596,
          0.09805108578949191,
          0.20275178358731039,
          0.13386190773760046,
          0.5821541261199722,
          0.12457566416473279,
          0.161168277390973,
          0.42607457103698054,
          0.24529948394001316,
          0.2609191173888947,
          0.07200169779979904,
          0.10058660940043643,
          0.10237184327779124,
          0.0778154832005542,
          0.15714026888034366,
          0.10358822599077375,
          0.16329719429889178,
          0.3095688435576338,
          0.20313564387387076,
          0.5551725551106698,
          0.3249843825257352,
          0.2077699265548321,
          0.14995998327275065,
          0.1384788822817409,
          0.24812380558218847,
          0.16655818293279287,
          0.3269393841800457,
          0.166003572184855,
          0.33786319623564237,
          0.40751642374931635,
          0.12465484130820043,
          0.3343703487946558,
          0.07869714968204267,
          0.08210204016075924,
          0.1540398680667378,
          0.21236622070938216,
          0.314453534111891,
          0.13500200931566686,
          0.20940608155418985,
          0.20770124910462104,
          0.15587854958205913,
          0.13931429651623814,
          0.320840228569346,
          0.08793065927362893,
          0.262953347323303,
          0.3763814399819126,
          0.20464865732862933,
          0.21021876548969295,
          0.3821202111289288,
          0.15947095362787986,
          0.10574859862489781,
          0.104199614514763,
          0.21484603037638333,
          0.1841246787353972,
          0.25432317726753884,
          0.11110285129112443,
          0.07608077103919728,
          0.08914759433547365,
          0.12495505320608673,
          0.16974033897261478,
          0.5865730350039637,
          0.05658671044806756,
          0.09123022996597442,
          0.31159201684312404,
          0.05846798203118119,
          0.1631570849756298,
          0.8334505489839666,
          0.6112448901474216,
          0.1095048951959545,
          0.655748692212669,
          0.2181015191087261,
          0.27464394433323824,
          0.1430985633053697,
          0.1350441061893896,
          0.09932080365438217,
          0.06358785080406702,
          0.12048128744456259,
          0.5104529128008101,
          0.29856853872334893,
          0.30589838837015854,
          0.13656625032526673,
          0.20599594025919948,
          0.07556320433073939,
          0.1657603653470758,
          0.1585259733577972,
          0.12040383163443268,
          0.08843614307023481,
          0.15815976439312987,
          0.17638578283091688,
          0.08318471320720298,
          0.09541494683917032,
          0.1032499756312762,
          0.2186983419208509,
          0.25051566941784303,
          0.18665916915770797,
          0.12287794505179116,
          0.36007601969258074,
          0.5754063406992825,
          0.06854702259537603,
          0.32824258818274427,
          0.2684990725800131,
          0.2836832193250091,
          0.2338804522439858,
          0.2416169015671014,
          0.4409856512495691,
          0.0672324981577008,
          0.4425682310601299,
          0.07794299877542096,
          0.14516471614323143,
          0.16832989801215764,
          0.2703370244908653,
          0.13521845859203127,
          0.1420897946248952,
          0.2951422583388635,
          0.09249399231225987,
          0.05666345314541199,
          0.2287986585894928,
          0.175550870026553,
          0.11439271723450399,
          0.1050083595662819,
          0.07522337673523649,
          0.0323287484250315,
          0.11955289671494543,
          0.06836964736915757,
          0.18573907574782214,
          0.16631678519076482,
          0.09143194001261343,
          0.41542983317678395,
          0.2791740608389403,
          0.16898931134045908,
          0.2721307045355766,
          0.34213285029820484,
          0.39712210526599245,
          0.11198441426648319,
          0.28726101531512666,
          0.17820828097887872,
          0.31415005837900983,
          0.09970094942046782,
          0.19373125431532906,
          0.108745673727619,
          0.10807141026923077,
          0.3480033047106892,
          0.4698683230216908,
          0.08525470225046572,
          0.1735720644098589,
          0.11362293155292276,
          0.09945801747999579,
          0.4179128649169453,
          0.21041090372232607,
          0.14123696058292304,
          0.1795517295477281,
          0.6101450953706385,
          0.7085344192283365,
          0.14663408269509526,
          0.1612056478370288,
          0.48998253976808365,
          0.7916188023502855,
          0.2327729593246477,
          0.46580037979535144,
          0.19060100416622155,
          0.5277338178416805,
          0.3726137173744139,
          0.10377524872877099,
          0.3300655544235781,
          0.15667060820718634,
          0.671244154109737,
          0.3281924644267387,
          0.13739795035152239,
          0.1383435523168424,
          0.12079822568430164,
          0.20848185108189982,
          0.16945707027502097,
          0.503853139474183,
          0.08274760409605283,
          0.2192185731690808,
          0.25469904963311946,
          0.10979871114480666,
          0.19446551818083319,
          0.17119565570120795,
          0.11536670190561385,
          0.26037769722121606,
          0.15667798081656997,
          0.3407079845635395,
          0.5991282151024958,
          0.10193886759629237,
          0.24320022835435468,
          0.2057610775920187,
          0.0691520544244898,
          0.11783480768665452,
          0.16804491139660852,
          0.11927852024082969,
          0.17450952290400806,
          0.1189341617614999,
          0.13290513693963754,
          0.23749486193474528,
          0.11324594504942385,
          0.12759307217122876,
          1.1140236366515468,
          0.4116614502921636,
          0.1456066948900123,
          0.22122635216321845,
          0.5202066650891732,
          0.15266756944330462,
          0.12070922025991791,
          0.10061327386808197,
          0.31726774080264813,
          0.7548385995185337,
          0.08733230239216115,
          0.2051764222008887,
          0.20100054859149136,
          0.08951755443524055,
          0.3692621289722962,
          0.09699876416291334,
          0.42307600396088557,
          0.23752650954068455,
          0.15823479645937483,
          0.15548761125425778,
          0.3484474233490825,
          0.11014151459897568,
          0.14312151767404802,
          0.06443802425400842,
          0.7052823593482744,
          0.43769768135262244,
          0.745778668874324,
          0.6322316071971551,
          0.5421721724504133,
          0.09719020388838061,
          0.16395465840143836,
          0.3083506145658996,
          0.3948646564477489,
          0.27786082504819076,
          0.08988781495249897,
          0.20362679006939854,
          0.12590236914600553,
          0.12630429393780815,
          0.15370394266887233,
          0.13946450332497035,
          0.8663364589250752,
          0.24487928086637623,
          0.32263314560926226,
          0.1040007444894808,
          0.15899801233698307,
          0.1152661059073359,
          0.15654833547452907,
          0.09186606808361392,
          0.08242478877353801,
          0.4832340402612106,
          0.07258067544804352,
          0.3413134204656184,
          0.21687349130494962,
          0.21016764494434909,
          0.06162678220979485,
          0.13314784461640689,
          0.14876983376534203,
          0.42031205982256725,
          0.1952015527492028,
          0.15652210965163083,
          0.08226265320881625,
          0.09114426282799645,
          0.3998583144604436,
          0.19317096228765257,
          0.26049020314500415,
          0.3180416945613449,
          0.11085736948086292,
          0.09311807604798752,
          0.1517219562767912,
          0.07453298587474567,
          0.6545763028475619,
          0.10005223148422436,
          0.17193529905533816,
          0.3064333900902663,
          0.06966418869822816,
          0.2404454568629643,
          0.1607628427476217,
          0.3322683384903865,
          0.09045329116758088,
          0.6193640718168572,
          0.059365815368226285,
          0.17325715247569143,
          0.7255879105509473,
          0.3818439959422727,
          0.08159218049327353,
          0.2450229530332791,
          0.37478507892595603,
          0.08639749705931869,
          0.43273094294073755,
          0.16092321957297373,
          0.13664670536217985,
          0.6877544785144019,
          0.272577574045134,
          0.18285100590646872,
          0.055048922237896404,
          0.2587877520874527,
          0.1428719708523979,
          0.674325393552033,
          0.9422415522369579,
          0.7489606832296204,
          0.12614847310163302,
          0.10956042432531825,
          0.16266718523180493,
          0.09826546719850632,
          0.22342925845757775,
          0.188112502842326,
          0.1750143338857256,
          0.20507113316430595,
          0.4013431181400493,
          0.11214571396153628,
          0.19058709211347516,
          0.05999147969326896,
          0.15388002892736252,
          0.20047071054535098,
          0.1253169480762111,
          0.17818291084306465,
          0.35339965817146113,
          0.40385814820512816,
          0.0438402506765418,
          0.4082459006387772,
          0.14544497676162774,
          0.4374181927320441,
          0.5229055467731356,
          0.12962752711307826,
          0.17889591845329944,
          0.14916587189971733,
          0.06327403832138676,
          0.09048791911235506,
          0.22009077754580447,
          0.25525086319423895,
          0.19441286098410854,
          0.6804071359277234,
          0.13451465292142378,
          0.2612126287417097,
          0.17487213818431913,
          0.11347427785419532,
          0.3447673798583865,
          0.3710145419758756,
          0.68971776673197,
          0.12548457268912988,
          0.12364782436703037,
          0.3631660641879544,
          0.18937501288337263,
          0.2962733497281633,
          0.17239363201951471,
          0.2232502759915796,
          0.21368541129073979,
          0.18645624531634422,
          0.2611159248388883,
          0.13774189408418083,
          0.23841335114323126,
          0.14152557928947831,
          0.2647291130842535,
          0.12803227190076394,
          0.26763110205462165,
          0.11757211076102884,
          0.22470204930136192,
          0.1971632701228153,
          0.09423661607844132,
          0.14106637786222798,
          0.15647802297519822,
          0.2666467533632287,
          0.09298262698775013,
          0.18312544373922304,
          0.22362155033735798,
          0.10855979572143601,
          0.19666018282884715,
          0.12087001015744032,
          0.2928767098372744,
          0.2740217142032597,
          0.16753672127188518,
          0.05294378878827958,
          0.19877498914144628,
          0.2224521473421978,
          0.14994835046329294,
          0.2594277596804607,
          0.1538792980176774,
          0.3552107320659256,
          0.18492746549821157,
          0.24104229855482248,
          0.09835183172829629,
          0.26209117945887195,
          0.11567523680649526,
          0.16010444324300976,
          0.09116643594335815,
          0.12266204881709855,
          0.1398015271956566,
          0.2988828498882211,
          0.08112840839794407,
          0.06783253939955304,
          0.0788337057479713,
          0.2586252282138861,
          0.16755314076920813,
          0.20521849006782658,
          0.3898030017220027,
          0.14676950533907554,
          0.12867295950266952,
          0.10892638486725958,
          0.44115388944553396,
          0.43549166874697043,
          0.13731036362424243,
          0.1594091695330279,
          0.09214980727791436,
          0.07485697790708275,
          0.3224326312574086,
          0.21861798674852592,
          0.17235199897303694,
          0.12807623768398005,
          0.41170330232841273,
          0.14180124926360269,
          0.2906547706953642,
          0.13179367955836735,
          0.10876911162805104,
          0.11381052827496355,
          0.09255274261603375,
          0.22845776330076006,
          0.09731304235187614,
          0.07457954793822491,
          0.24697413166030474,
          0.1064890059623332,
          0.3413121431302647,
          0.15618849709003765,
          0.06728126684208859,
          0.1337023080097781,
          0.186312498015936,
          0.30944344844471006,
          0.21009905434138884,
          0.2275549408154781,
          0.2073914601247401,
          0.15230333644670377,
          0.20251203269094653,
          0.07241481386144985,
          0.36534807666505714,
          0.06976211621934736,
          0.11413776990976475,
          0.39437562428216943,
          0.2581914749540189,
          0.31923921387589144,
          0.05357037852540233,
          0.30954500339593266,
          0.14462971636742128,
          0.11101826231475409,
          0.2541204672286931,
          0.17055938752186395,
          0.5973696563001354,
          0.2796629321072113,
          0.35778594869925434,
          0.08957139527139528,
          0.09147372621724092,
          0.14590342969295764,
          0.3858294091173229,
          0.11054752205116218,
          0.13336894208836414,
          0.09773032089502244,
          0.2727864885592509,
          0.10976794820182502,
          0.1483082333925102,
          0.3425828709506036,
          0.6236152287203536,
          0.22547640647214137,
          0.21528142981179338,
          0.11855579669051575,
          0.11284251568740465,
          0.1368833418516624,
          0.13744119279634884,
          0.10350747926163525,
          0.13314422335338577,
          0.17244466375385564,
          0.17945827670475603,
          0.21277722820906997,
          0.07217874814448294,
          0.3000289469584042,
          0.40207906697806783,
          0.3468675510346113,
          0.12999853955316637,
          0.21626892272599796,
          0.24598535505250366,
          0.20325189589835208,
          0.18943926465834202,
          0.30405711112036365,
          0.4237944197251527,
          0.15200908933564614,
          0.34534045662327717,
          0.12464086492914098,
          0.12778862354661283,
          0.17571379344262295,
          0.09687416457811196,
          0.10643811682650392,
          0.17566142527369083,
          0.21669015713480683,
          0.271199366688613,
          0.21426568928201425,
          0.20569332489402087,
          0.17276159131246638,
          0.20513946278039674,
          0.17794369770796348,
          0.3007619753187677,
          0.18079845200926023,
          0.35889080660625344,
          0.06494931241793933,
          0.2325037143671608,
          0.09747735732354564,
          0.19484563691756274,
          0.26626850029641885,
          0.2591303372234303,
          0.28125085195485694,
          0.1562895903076678,
          0.19059392433776418,
          0.16311083121831457,
          0.13475966461853559,
          0.18089472508142282,
          0.23446970324528063,
          0.0959141042052794,
          0.6262464289401071,
          0.07648489795918367,
          0.07170781655610038,
          0.13401552218220952,
          0.23594306295592135,
          0.4952072049941491,
          0.10849209167723928,
          0.08885758064186601,
          0.13826689647173987,
          0.018885154675313296,
          0.10832065557361178,
          0.10833018638862953,
          0.16781567648871346,
          0.23825317858305908,
          0.2076522371519601,
          0.12938525756347638,
          0.9341928447753958,
          0.3878903089983375,
          0.21308126362880597,
          0.17280296521407787,
          0.22158791948879578,
          0.16112566242250007,
          0.2939458555775823,
          0.08434995322407401,
          0.1379057877974438,
          0.2367688418155999,
          0.14824231088251594,
          0.18353536123270092,
          0.2500119820824506,
          0.22674369299718913,
          0.11390607981292844,
          0.36256198088456976,
          0.051930662906898434,
          0.1598572117756829,
          0.22227509086462657,
          0.08719453946621054,
          0.332344145822564,
          0.1942167748570875,
          0.11605184322099556,
          0.16185644573893934,
          0.22889845188261532,
          0.30049921907636457,
          0.12239037951121744,
          0.045173794800401464,
          0.16649802537550173,
          0.24426569874059822,
          0.17365321027049133,
          0.12867490214940716,
          0.07540526408039262,
          0.08532579833898701,
          0.4081300536808467,
          0.4817651526346656,
          0.1754079580019939,
          0.20919392159741595,
          0.33751942107566424,
          0.2697287436769091,
          0.2460706302979231,
          0.31724445773579024,
          0.2166597691691796,
          0.1472102937223811,
          0.17628089739510217,
          0.21962540636980776,
          0.3300823072702189,
          0.1267565133650868,
          0.14508858286651394,
          0.16988764662496744,
          0.11707490804132857,
          0.34599342512262576,
          0.14387716501476006,
          0.10599133776108977,
          0.09064940280785082,
          0.3242813417937596,
          0.9137199032816709,
          0.19965521703802164,
          0.2369353460973306,
          0.3276983214388338,
          0.05850695503903796,
          0.12023022120214326,
          0.2489926613568968,
          0.07012664508516625,
          0.12745946928500104,
          0.18602983401684034,
          0.2979339525626286,
          0.14442312110311026,
          0.07837689553496209,
          0.26604413933277116,
          0.17139872984083482,
          0.1192248754592657,
          0.2489243748490146,
          0.2109361150891449,
          0.3965739142171582,
          0.1611529997025982,
          0.13545210363032711,
          0.10062298918315686,
          0.11450160534013884,
          0.2846107546793689,
          0.10322880443320828,
          0.3978291347399556,
          0.4664735420543757,
          0.6478723835592891,
          0.0469822638364087,
          0.190738444567016,
          0.12731864314120242,
          0.30252279973943175,
          0.24822413502439564,
          0.18834908930442737,
          0.13443360718330188,
          0.45561959019651443,
          0.18798965802410314,
          0.21430001406052074,
          0.579101053339735,
          0.13179690815770811,
          0.11824129190567058,
          0.20100076084971696,
          0.13409769907475044,
          0.3353267520614933,
          0.2875468096704237,
          0.10487447711825593,
          0.09052374992368277,
          0.07458257147225195,
          0.06400407662528736,
          0.19788620742368546,
          0.5505265869122289,
          0.36569070420250044,
          0.24325416591265053,
          0.2844884713055548,
          0.14929216697242978,
          0.13139916506468072,
          0.23952638366173207,
          0.29666697110971574,
          0.10971494711998551,
          0.29164521306102387,
          0.08351977614762157,
          0.15552901502163402,
          0.21397907692856596,
          0.23820654586933804,
          0.22255017897953963,
          0.2713336292731126,
          0.18654730003465206,
          0.2235699188663991,
          0.2002632615415798,
          0.1026294543025586,
          0.3004254026484098,
          0.1628411687832534,
          0.18498635673725855,
          0.24440442796742234,
          0.39667042106970163,
          0.30088624039617445,
          0.1483013959013959,
          0.6119002270721743,
          0.1722068667491494,
          0.06965334529060596,
          0.1543741196878975,
          0.15465701380172622,
          0.19228355735854955,
          0.06918387686873147,
          0.29353286780193616,
          0.15187748597654258,
          0.3883330681381286,
          0.057290270221840287,
          0.06908788794843228,
          0.1082022034296663,
          0.08680773165568843,
          0.23415358783576362,
          0.15758196877958297,
          0.1353019177488899,
          0.10580704075376722,
          0.08800215878979249,
          0.3336982013570139,
          0.11962214405253646,
          0.1503430181394743,
          0.19884515261938934,
          0.271458139083522,
          0.4392127942988444,
          0.22716007349482126,
          0.3342985253151436,
          0.27055842672327,
          0.15585258332916668,
          0.16117414184768034,
          0.2280345651356713,
          0.1637469733488028,
          0.15817840677627118,
          0.14659578814683769,
          0.3899711462437292,
          0.18598879406050514,
          0.2873632610685169,
          0.23784907758788723,
          0.3164137570891496,
          0.17366831700080193,
          0.3065369892518477,
          0.18251178849748886,
          0.26459216751011194,
          0.22508445356318205,
          0.33130836395356195,
          0.2966361360600684,
          0.10872875672255616,
          0.5308093452499743,
          0.26171939636037156,
          0.08578009116083143,
          0.31777898365360063,
          0.20554190210707787,
          0.11643921816072558,
          0.06039789399438399,
          0.32273928316155226,
          0.258930975204966,
          0.20966707164916132,
          0.310928711373256,
          0.1736011132335071,
          0.1932234747083399,
          0.3249232834169069,
          0.27899097396633954,
          0.1607427050236593,
          0.24061494416097312,
          0.16413243309642267,
          0.25144839704674665,
          0.24165601797899228,
          0.28489305890649075,
          0.2626243807335784,
          0.2540396787997468,
          0.24917758752130653,
          0.373014515749187,
          0.2911471042335593,
          0.44399444985133796,
          0.23972770252274445,
          0.13062845003375562,
          0.421909287022169,
          0.35908127017957847,
          0.30914909942884533,
          0.1146157318592202,
          0.0932744776854552,
          0.399502779460108,
          0.32631069208486496,
          0.29060970944433534,
          0.37999843938617905,
          0.29344803713233825,
          0.33877316953841224,
          0.23835434463290428,
          0.47952442898952186,
          0.20601321816392124,
          0.21841102495881715,
          0.11136084877627296,
          0.26068181266953755,
          0.1046252617128362,
          0.26344753583105174,
          0.3432599190323886,
          0.1691488336303256,
          0.43372836671122994,
          0.26276173445361073,
          0.16607712594936708,
          0.2367064551507283,
          0.21165823965426286,
          0.09205458684306791,
          0.14745554696532379,
          0.23504556385866243,
          0.19015256171703185,
          0.13851316408750827,
          0.12352378237497964,
          0.2922216463290209,
          0.2547179266477879,
          0.16753977249394275,
          0.11178654406633554,
          0.11509272339027594,
          0.06923547765097089,
          0.14311152692766377,
          0.20830534195418846,
          0.17345541296479103,
          0.25551728098255433,
          0.2914611650320882,
          0.1923430593892753,
          0.2022271809494375,
          0.2621758876949089,
          0.6011326423440532,
          0.3988950367536543,
          0.17481383921803392,
          0.3105129041747533,
          0.1208599031734867,
          0.16006095142880739,
          0.3440359875615305,
          0.1961159096467279,
          0.2716291484151287,
          0.29025292778812334,
          0.43246488718808196,
          0.19673729717394903,
          0.17035114219086245,
          0.3669978732996956,
          0.24910864117524395,
          0.12152831762448911,
          0.10036124401913875,
          0.41401030541972633,
          0.1858096432104955,
          0.5850005653995042,
          0.2395819086235004,
          0.529266139261492,
          0.24258565808829688,
          0.2405611812659927,
          0.34505752283292773,
          0.4497253270113972,
          0.1591576947561748,
          0.11513269881556684,
          0.18687237188212447,
          0.5204404691633501,
          0.2771769731875476,
          0.3386858680272974,
          0.2296376897379357,
          0.10918692142250531,
          0.0594462191971113,
          0.09343714431325915,
          0.4404297656372355,
          0.3391180643767525,
          0.278589874282195,
          0.24679589669951577,
          0.2754626365266154,
          0.2412814108624431,
          0.162434984256659,
          0.2192545849112804,
          0.2929060433530942,
          0.142866389678548,
          0.1024042776538512,
          0.18826769387811634,
          0.33408030910098346,
          0.08787249740214756,
          0.21517514804101567,
          0.24575247660547284,
          0.09102743332178732,
          0.2022814764832275,
          0.18809527811318313,
          0.2124648178512557,
          0.21629996764172335,
          0.16828075028980863,
          0.09823666793013966,
          0.312292726428112,
          0.09897518573693949,
          0.20683487008432502,
          0.22537445099415204,
          0.25975868793179635,
          0.29097114484766556,
          0.0644266388635475,
          0.34888109986007626,
          0.196026103079184,
          0.21313707415533437,
          0.30394401401226995,
          0.2244665868979958,
          0.10189335017594514,
          0.30257269383961954,
          0.4447000000054112,
          0.2576989465269315,
          0.22635046562645939,
          0.1886625862762358,
          0.2050594376003132,
          0.2429246606532237,
          0.1251895239192236,
          0.18710169938235294,
          0.5186842587257079,
          0.16093644709240498,
          0.13774303772749077,
          0.3567021251775759,
          0.0778717267899652,
          0.13637548067814198,
          0.1972498228325065,
          0.15018008275075742,
          0.20452793943592118,
          0.07893820798005832,
          0.13759349060101106,
          0.17861782410438998,
          0.11013574486648331,
          0.17999543753847844,
          0.2847249824857433,
          0.10449618599772782,
          0.2952850592801493,
          0.2733477144870855,
          0.25701888501108466,
          0.1175065637384412,
          0.2525105749055812,
          0.4968031843561262,
          0.18255566342719634,
          0.1664604212671989,
          0.4902489912130869,
          0.18166222653417313,
          0.12672712947614992,
          0.16936875709495902,
          0.08835064211575676,
          0.24861783733554418,
          0.1368073288878646,
          0.18667172972259932,
          0.37226273302291085,
          0.3016904290547315,
          0.07196392630438148,
          0.17174109554553812,
          0.347342144539588,
          0.2978607416467898,
          0.2142466804370246,
          0.1997631434355156,
          0.11294891735777211,
          0.08376696145723338,
          0.21739625748490382,
          0.35200043040416296,
          0.23447971003563906,
          0.30737878422816145,
          0.26894167979100947,
          0.21731083699047168,
          0.28000170445950767,
          0.5417384274216027,
          0.18254451795795293,
          1.4543736945740466,
          0.29905259266848605,
          0.19313191490967482,
          0.676925812892489,
          0.6981751354200924,
          0.17651984414718405,
          0.08116316276078306,
          0.23613929647437187,
          0.11022544335573731,
          0.11837776872616633,
          0.49680703278634586,
          0.16112386194338685,
          0.20387656067088397,
          0.13150477306146374,
          0.14748602905200067,
          0.09904925090525427,
          0.4583984541196841,
          0.05404533898305085,
          0.36853383995838995,
          0.2847719124210256,
          0.09720295884142378,
          0.12041083794379512,
          0.6503637070423264,
          0.3703355866126253,
          0.45353647029844313,
          0.3438411042936027,
          0.3331311764928729,
          0.2820208527405638,
          0.2521706464754953,
          0.43052222425103936,
          0.1100827222654006,
          0.1295909638219399,
          0.2652945524952508,
          0.2643382863415512,
          0.1581982569038198,
          0.07825207562268835,
          0.33644516505966104,
          0.35160352871796785,
          0.22647099348688224,
          0.36036041803236907,
          0.16974488460929318,
          0.1795329577540107,
          0.14189463135289906,
          0.1054639907507941,
          0.18303045744984422,
          0.3783894959733718,
          0.2825217720311506,
          0.14575827482447343,
          0.34198155921124707,
          0.18964325301142104,
          0.31193367260433597,
          0.15941971936315905,
          0.29800522747997155,
          0.2785909358422274,
          0.24862691651850705,
          0.11975230749860621,
          0.07642728625760019,
          0.25281444416904203,
          0.1892064869204662,
          0.3681885412431927,
          0.2452339039129871,
          0.09252465417631875,
          0.2242133668976263,
          0.0670731878722977,
          0.17912275635588956,
          0.32293381029127527,
          0.13964645467723527,
          0.43259244859645873,
          0.1784209908759575,
          0.2497830681483122,
          0.173123368369028,
          0.18518272516656886,
          0.15122698293483805,
          0.09377401256017087,
          0.29977145043203773,
          0.39907736584877845,
          0.3361762701026119,
          0.3888507343013009,
          0.23041464661336042,
          0.5746254195252453,
          0.08077150481735636,
          0.14262727184353588,
          0.07214501211186963,
          0.3053366362489107,
          0.11379845428333506,
          0.1203485261420788,
          0.25245131227793544,
          0.2764761738156973,
          0.21123502562045102,
          0.2596265662270865,
          0.31622335237382954,
          0.18868090596670167,
          0.16979628654727416,
          0.29818438264117836,
          0.13504564039849604,
          0.10098213176031678,
          0.2648792835997921,
          0.2393510501469598,
          0.17897438542823155,
          0.1304074027437755,
          0.2373362134582842,
          0.1553757002168335,
          0.40307040297947755,
          0.23451219387728794,
          0.27391997522379585,
          0.18786626884945234,
          0.17220298613608184,
          0.19692590196560197,
          0.1357867429473269,
          0.17651305625205785,
          0.12524103681556745,
          0.5801992206633043,
          0.5207744061609195,
          0.14491225094448118,
          0.3351458033406606,
          0.24817014108065732,
          0.23714888786742258,
          0.24372138346568928,
          0.16464681315332802,
          0.10444224879255506,
          0.17106550858010852,
          0.2803978443378119,
          0.45947431818456974,
          0.12543219003454129,
          0.30598252811303556,
          0.24372671806143092,
          0.10003505280881678,
          0.2378621841580819,
          0.08775972652297881,
          0.07525347742807137,
          0.20855271653906468,
          0.19460409555693456,
          0.19251596215457412,
          0.09675912178486812,
          0.10027603121516165,
          0.4405751101903302,
          0.26879899591980305,
          0.08848565763806722,
          0.16698136287306264,
          0.21159570698976635,
          0.26862711479698076,
          0.16817283663639046,
          0.22101768392967727,
          0.10168650212879192,
          0.14887293796166434,
          0.179761260358193,
          0.6265623871176116,
          0.18675946512732416,
          0.22661185982462725,
          0.2276156246979202,
          0.34100828690564866,
          0.18377933177311576,
          0.1860546536627925,
          0.16924223407549907,
          0.39483260478362797,
          0.12267031250318879,
          0.2484092839191648,
          0.2539367966815857,
          0.2813234571916606,
          0.11830132760640376,
          0.2418903472987226,
          0.08638347482492861,
          0.16849665531040958,
          0.23238689821232555,
          0.27492669809972514,
          0.3195425827826769,
          0.33000299598297,
          0.1707453798688991,
          0.3764231287268555,
          0.2435879409314268,
          0.08564237389119685,
          0.2520219637342198,
          0.3331491595013477,
          0.17761438713962804,
          0.2006581253698782,
          0.16352208625963296,
          0.2884632684576359,
          0.397104737552928,
          0.11174331828932124,
          0.12130732350473451,
          0.14997399330057526,
          0.26884316694289234,
          0.4320593478458956,
          0.12420001608467304,
          0.30822496687652884,
          0.2922577858227848,
          0.23047903161584013,
          0.2244366559004561,
          0.20334517724912793,
          0.15892585831507183,
          0.40547216579566664,
          0.3044478315611917,
          0.16928343223315176,
          0.2251988910054636,
          0.1672740698515013,
          0.28665133645378493,
          0.2966543583326526,
          0.17579948575218352,
          0.2812355523600394,
          0.16851639782457006,
          0.2604112866940283,
          0.2724508330952967,
          0.2534574114034728,
          0.16191411067757586,
          0.15974738269080757,
          0.25754193863365765,
          0.08085955749300872,
          0.1650501315964797,
          0.42428919974079404,
          0.23709088100278838,
          0.12411924643165646,
          0.2257993157901245,
          0.09015504801912849,
          0.14389556243137255,
          0.5345936751135332,
          0.22102873892146338,
          0.3421130203279908,
          0.30138567534342936,
          0.1969798130098453,
          0.24682892988653304,
          0.10751639073261589,
          0.9154172354194406,
          0.15291472969008443,
          0.2096014568199792,
          0.4806363637071262,
          0.3942842318400405,
          0.16806497848815344,
          0.20370864561021562,
          0.3614115970651036,
          0.2998142330862026,
          0.3124791492490351,
          0.1405351403390257,
          0.2730423818219965,
          0.27364216372042194,
          0.162076387393965,
          0.17999096774996834,
          0.21724715021953897,
          0.22786041805759402,
          0.3814476734306261,
          0.26399657323800657,
          0.3752321383846089,
          0.18093858116631956,
          0.3177791545110061,
          0.147063571741628,
          0.27576587783500767,
          0.1565216872983442,
          0.1304327380358902,
          0.19169758920119986,
          0.12294733297302499,
          0.13122059202380953,
          0.35102362504518464,
          0.18362004521626854,
          0.16738639968794694,
          0.3808449741181669,
          0.19764085163261064,
          0.12633977324873888,
          0.3345415698785425,
          0.35586996864894704,
          0.1723895251571229,
          0.2059108883257065,
          0.245438903704256,
          0.15565651964285712,
          0.16337101806347112,
          0.2512991918344784,
          0.25834849345591626,
          0.18214023051317232,
          0.13365966941322313,
          0.1902139168909958,
          0.15865258959635675,
          0.3410950317726037,
          0.15106653273983445,
          0.10589426435136956,
          0.11462430464751694,
          0.5307672450974673,
          0.16110955675278563,
          0.08408424791540012,
          0.04363934111626419,
          0.07346172889405346,
          0.20469815775139666,
          0.15584246505803917,
          0.10349603651645538,
          0.21380626281828247,
          0.6299944947011664,
          0.08531661952170612,
          0.21211262210678908,
          0.06462637327861523,
          0.15770114095137794,
          0.2564026393338481,
          0.3135134384296389,
          0.41122239642143227,
          0.3594878145476773,
          0.04490960809102402,
          0.4170909018903141,
          0.11740315061887156,
          0.14585887648878887,
          0.23805030380699424,
          0.1982329803897097,
          0.2971052140555894,
          0.23469095712253607,
          0.14842457942482382,
          0.22031544375969309,
          0.16362893957649377,
          0.12427464903948772,
          0.16441815124374023,
          0.23497079988484473,
          0.2084074927663774,
          0.2303452689879409,
          0.07944964277986538,
          0.12474583900797093,
          0.367796423941859,
          0.12945551426270135,
          0.13703479562141013,
          0.27868351125451946,
          0.19162677806339962,
          0.4053361389349463,
          0.2973519068801495,
          0.1285705674703804,
          0.1641535137514233,
          0.05841463224194472,
          0.07048647108231341,
          0.2595285942251114,
          0.12522385049951854,
          0.42547468874311284,
          0.015267961283624927,
          0.10807161852666972,
          0.31433747047450183,
          0.27523399233274354,
          0.14821062359888063,
          0.25058728480053605,
          0.13854834630308033,
          0.17245664232412936,
          0.09202816483512864,
          0.12818037975304045,
          0.20015872319286668,
          0.14098870451185075,
          0.11804844719859851,
          0.2204394979848625,
          0.16853226584147316,
          0.1585186332397638,
          0.10859869843422791,
          0.13027787312910852,
          0.19084618479967788,
          0.2915451834612159,
          0.07572127393838468,
          0.21970360645681747,
          0.1316431459276409,
          0.34577247322050136,
          0.09271283518503999,
          0.12749306321929685,
          0.17418671397595112,
          0.25040974874788025,
          0.31059354508177295,
          0.228308415698095,
          0.15638539570082924,
          0.1404761924204389,
          0.07614539638432262,
          0.1467617135288629,
          0.1729162771834993,
          0.1145130811313824,
          0.1801193097534922,
          0.17553047096295685,
          0.2524539557694691,
          0.1885300591211883,
          0.47694501237949444,
          0.11334752570025387,
          0.3796380007939492,
          0.1406144643804567,
          0.12538313141964624,
          0.20680657161162094,
          0.2430002960786802,
          0.07302385988662323,
          0.21569729202017204,
          0.17281134194272882,
          0.1261987030802261,
          0.23056415405293057,
          0.2216047852150796,
          0.1580061458652423,
          0.264884080507955,
          0.2617756447514705,
          0.056542221647484806,
          0.15556467670031787,
          0.1601748592170171,
          0.24242448697649135,
          0.1147407782500735,
          0.18899669185227436,
          0.19661440080886392,
          0.1481963791509027,
          0.12161727356075125,
          0.06707966553826501,
          0.19266347146438578,
          0.2395965969449905,
          0.17755636472128064,
          0.3462852468902294,
          0.1409184875564976,
          0.2857860999581954,
          0.19217931491680013,
          0.15043411545792335,
          0.29778485925314985,
          0.2886765891836816,
          0.254116152768014,
          0.06512699829586951,
          0.0983428205510575,
          0.20034847794160282,
          0.158201001071399,
          0.157277858240576,
          0.10563876834946596,
          0.25149780169576685,
          0.10323914050601098,
          0.07147667741502871,
          0.3988276556343346,
          0.37836277804028534,
          0.4192591707294552,
          0.08049356114156998,
          0.11076227842341946,
          0.06235936688601808,
          0.17425807233231708,
          0.08931798973746191,
          0.16559414620020782,
          0.35180380858374094,
          0.12434998100703876,
          0.5094217252000609,
          0.3972706805834556,
          0.14367773583033008,
          0.1742459301275193,
          0.22007137169021146,
          0.4711698832782911,
          0.1103185164954701,
          0.10552757466848432,
          0.11054306450442421,
          0.14771394205278388,
          0.06383328103754837,
          0.12108446585928091,
          0.09443592578516394,
          0.06737699231976216,
          0.0785521713622291,
          0.09997421605752457,
          0.29700948130385135,
          0.10247009908876724,
          0.07513920366288943,
          0.07138211353953795,
          0.15816871020035478,
          0.13082672232776618,
          0.08189053440097799,
          0.06912017284017719,
          0.3670791196472912,
          0.24476204714627478,
          0.06074526803028453,
          0.26141222721544927,
          0.4173827726038277,
          0.11074327270861657,
          0.19904707875295205,
          0.12190733838838197,
          0.3321458591197401,
          0.3389286210709408,
          0.06845264419787211,
          0.16460712170042574,
          0.45669618544847573,
          0.11224893013415395,
          0.3543019766563467,
          0.10163497504915057,
          0.20062299255262825,
          0.432679573871668,
          0.2377766997700801,
          0.0739270638850556,
          0.3123536337621803,
          0.5178791235023743,
          0.12104315159410518,
          0.31663133260681586,
          0.08268602019785866,
          0.8932160408423365,
          0.06855276856194943,
          0.10640543559195831,
          0.14247655062598483,
          0.1175069891883341,
          0.29069877946539874,
          0.16854701761470003,
          0.20508981345039357,
          0.09505897960949442,
          0.10511716181136428,
          0.08607696103756605,
          0.053811452792055056,
          0.05998289183222958,
          0.05574884383816643,
          0.15496164027337503,
          0.05401936440554764,
          0.15101966037631434,
          0.08150792483900374,
          0.05785409252669039,
          0.2969907925045596,
          0.14227498379070727,
          0.1161116117295403,
          0.07984199210696825,
          0.07566657818187181,
          0.3888373703331439,
          0.2023543221134279,
          0.11473061042760248,
          0.09711174406222611,
          0.22495563454168518,
          0.24830350576877447,
          0.0429042944095142,
          0.36621074985003715,
          0.14406699729753808,
          0.09505147837968707,
          0.1431269509349335,
          0.1340401830297888,
          0.2545541548366567,
          0.11658279288138676,
          0.21118118562182858,
          0.1906499984284281,
          0.12779018128726122,
          0.12516728076946695,
          0.13214718802715236,
          0.1100765517822885,
          0.20425954146840147,
          0.2473511824643069,
          0.2148321595141954,
          0.09452581937162866,
          0.06540253260491995,
          0.11841014642226148,
          0.16968393490661282,
          0.21905868788338229,
          0.07264284577431163,
          0.02617972471214792,
          0.18686663040864615,
          0.10743467932986304,
          0.20423580678213307,
          0.18075227963525836,
          0.16784757759774568,
          0.06094247475065955,
          0.11715158546017014,
          0.09734422529646816,
          0.12321966156325544,
          0.0953337094590238,
          0.10011517261709055,
          0.1575095891410153,
          0.2891934216442626,
          0.1281700764351927,
          0.14036849810025698,
          0.2372799390589569,
          0.25305614546050476,
          0.17255056953681513,
          0.16967751526515776,
          0.17505711261374543,
          0.37233516484509466,
          0.09176982732575482,
          0.19497122301159073,
          0.15279451734727867,
          0.08521762974852862,
          0.10675915409595083,
          0.12248238518283308,
          0.09799423843164842,
          0.1506889887942025,
          0.27801103916384257,
          0.10634524408656265,
          0.1624356857713346,
          0.11258379578246394,
          0.09183655557983927,
          0.034340083423035524,
          0.44513292753715783,
          0.0880564337122486,
          0.14710025555106984,
          0.16426508582318614,
          0.14768713105414066,
          0.1916642037820513,
          0.1615172355119973,
          0.09911324655955529,
          0.21482707759807412,
          0.06719840651635871,
          0.22059575266225798,
          0.0677963839862247,
          0.16000410139077342,
          0.09550114113002714,
          0.23656879459217392,
          0.16669330923180897,
          0.18217968702294798,
          0.19696266400723034,
          0.26293575594891017,
          0.23535262589705216,
          0.17344672704387187,
          0.10452680125304559,
          0.1974558209580838,
          0.1514648912097476,
          0.33131098773436685,
          0.18142165437654686,
          0.30728244192873577,
          0.134420747385416,
          0.0861023543120474,
          0.0831991222570533,
          0.19074610858643382,
          0.2712695895152592,
          0.201868120567157,
          0.07149045551650471,
          0.15319395897550572,
          0.2494278723413054,
          0.28148196522249863,
          0.09144661098150193,
          0.16943746117208533,
          0.11707179912499134,
          0.09687992985493384,
          0.19791240039209437,
          0.11168216879064133,
          0.20197426657844386,
          0.13746749561932092,
          0.18482720694997928,
          0.17107968076935354,
          0.08039290617437667,
          0.1909833966505955,
          0.1734025352022734,
          0.22800611074595722,
          0.23629084629043529,
          0.08708015925135446,
          0.05319424489963466,
          0.12428452536667765,
          0.5897952768444481,
          0.10725387958204013,
          0.3079220714012155,
          0.40522509589103956,
          0.22507646880941412,
          0.15463585631031299,
          0.11367395635515999,
          0.12510462059347183,
          0.12068721850089233,
          0.06886293783746365,
          0.0933495982961629,
          0.44000266705230345,
          0.050792933844821614,
          0.18487600015932945,
          0.1266863872497402,
          0.16851139513369354,
          0.15873715749766185,
          0.10501834829870625,
          0.1312095257917924,
          0.17488478659579237,
          0.21925116086079355,
          0.20876053681462978,
          0.10432990646617986,
          0.14187871894955964,
          0.184076083471341,
          0.22043018964797997,
          0.18944026841378866,
          0.2933265444176319,
          0.19213506210668554,
          0.19276549186676994,
          0.06538695413613918,
          0.1115622353728304,
          0.12015055432302271,
          0.1189590226001864,
          0.32189014133391586,
          0.09590201502533341,
          0.22458886652961246,
          0.15457407785974633,
          0.09557225332983438,
          0.42346305214446295,
          0.27836099521417934,
          0.1277723847964488,
          0.23925004380365592,
          0.47700637559441994,
          0.3472709493461561,
          0.18594845479974198,
          0.23455331066213125,
          0.09831462257023874,
          0.1719478022538686,
          0.07041820638016627,
          0.3994162650888647,
          0.10419334264789755,
          0.24892390849580007,
          0.13940133799460666,
          0.601269870137178,
          0.14893712636065914,
          0.25575104654845165,
          0.08643301004914068,
          0.2587524009812342,
          0.23426960963152132,
          0.1926057226142701,
          0.10921463757135037,
          0.35251008284119556,
          0.311784938970358,
          0.29430031976516635,
          0.10274646709766737,
          0.3650516521725416,
          0.11584223257091779,
          0.06725604691345043,
          0.17348666017251013,
          0.0706531866596822,
          0.06528963084552789,
          0.08301214176843137,
          0.09676285022119234,
          0.33056232942185204,
          0.14454268890018226,
          0.40891974207408965,
          0.055181726376759936,
          0.2913401926033379,
          0.14427278983994016,
          0.2706426217632257,
          0.16576076326842878,
          0.3398743016579564,
          0.16817857142857143,
          0.11556560922855083,
          0.08399992094653351,
          0.23028061251383694,
          0.2762968555810337,
          0.1054832917731926,
          0.06433998727696545,
          0.1618351377559224,
          0.2105834853934092,
          0.3864576203153964,
          0.13446443288442372,
          0.19908041587198438,
          0.06850112494375321,
          0.1361066102868608,
          0.1406471481733612,
          0.1453226131776185,
          0.1664782893837956,
          0.06526424488059743,
          0.16537168510556127,
          0.0904851060235993,
          0.06468066568771415,
          0.11761011129907525,
          0.18804441245985157,
          0.09601489645309558,
          0.19271516211414613,
          0.10531123143134805,
          0.06755397063730396,
          0.6470978458263631,
          0.28900399567464863,
          0.07687035991199369,
          0.14024745988654322,
          0.0637173532731377,
          0.25779805895252106,
          0.10981057044411714,
          0.13804437247883644,
          0.18038523329345413,
          0.0805871865818524,
          0.12666400121776286,
          0.21634936034461652,
          0.15499825745467885,
          0.12409122035033014,
          0.13104621575281805,
          0.10853891092859537
         ],
         "y0": " ",
         "yaxis": "y"
        }
       ],
       "layout": {
        "boxmode": "group",
        "legend": {
         "tracegroupgap": 0
        },
        "margin": {
         "t": 60
        },
        "template": {
         "data": {
          "bar": [
           {
            "error_x": {
             "color": "#2a3f5f"
            },
            "error_y": {
             "color": "#2a3f5f"
            },
            "marker": {
             "line": {
              "color": "#E5ECF6",
              "width": 0.5
             },
             "pattern": {
              "fillmode": "overlay",
              "size": 10,
              "solidity": 0.2
             }
            },
            "type": "bar"
           }
          ],
          "barpolar": [
           {
            "marker": {
             "line": {
              "color": "#E5ECF6",
              "width": 0.5
             },
             "pattern": {
              "fillmode": "overlay",
              "size": 10,
              "solidity": 0.2
             }
            },
            "type": "barpolar"
           }
          ],
          "carpet": [
           {
            "aaxis": {
             "endlinecolor": "#2a3f5f",
             "gridcolor": "white",
             "linecolor": "white",
             "minorgridcolor": "white",
             "startlinecolor": "#2a3f5f"
            },
            "baxis": {
             "endlinecolor": "#2a3f5f",
             "gridcolor": "white",
             "linecolor": "white",
             "minorgridcolor": "white",
             "startlinecolor": "#2a3f5f"
            },
            "type": "carpet"
           }
          ],
          "choropleth": [
           {
            "colorbar": {
             "outlinewidth": 0,
             "ticks": ""
            },
            "type": "choropleth"
           }
          ],
          "contour": [
           {
            "colorbar": {
             "outlinewidth": 0,
             "ticks": ""
            },
            "colorscale": [
             [
              0,
              "#0d0887"
             ],
             [
              0.1111111111111111,
              "#46039f"
             ],
             [
              0.2222222222222222,
              "#7201a8"
             ],
             [
              0.3333333333333333,
              "#9c179e"
             ],
             [
              0.4444444444444444,
              "#bd3786"
             ],
             [
              0.5555555555555556,
              "#d8576b"
             ],
             [
              0.6666666666666666,
              "#ed7953"
             ],
             [
              0.7777777777777778,
              "#fb9f3a"
             ],
             [
              0.8888888888888888,
              "#fdca26"
             ],
             [
              1,
              "#f0f921"
             ]
            ],
            "type": "contour"
           }
          ],
          "contourcarpet": [
           {
            "colorbar": {
             "outlinewidth": 0,
             "ticks": ""
            },
            "type": "contourcarpet"
           }
          ],
          "heatmap": [
           {
            "colorbar": {
             "outlinewidth": 0,
             "ticks": ""
            },
            "colorscale": [
             [
              0,
              "#0d0887"
             ],
             [
              0.1111111111111111,
              "#46039f"
             ],
             [
              0.2222222222222222,
              "#7201a8"
             ],
             [
              0.3333333333333333,
              "#9c179e"
             ],
             [
              0.4444444444444444,
              "#bd3786"
             ],
             [
              0.5555555555555556,
              "#d8576b"
             ],
             [
              0.6666666666666666,
              "#ed7953"
             ],
             [
              0.7777777777777778,
              "#fb9f3a"
             ],
             [
              0.8888888888888888,
              "#fdca26"
             ],
             [
              1,
              "#f0f921"
             ]
            ],
            "type": "heatmap"
           }
          ],
          "heatmapgl": [
           {
            "colorbar": {
             "outlinewidth": 0,
             "ticks": ""
            },
            "colorscale": [
             [
              0,
              "#0d0887"
             ],
             [
              0.1111111111111111,
              "#46039f"
             ],
             [
              0.2222222222222222,
              "#7201a8"
             ],
             [
              0.3333333333333333,
              "#9c179e"
             ],
             [
              0.4444444444444444,
              "#bd3786"
             ],
             [
              0.5555555555555556,
              "#d8576b"
             ],
             [
              0.6666666666666666,
              "#ed7953"
             ],
             [
              0.7777777777777778,
              "#fb9f3a"
             ],
             [
              0.8888888888888888,
              "#fdca26"
             ],
             [
              1,
              "#f0f921"
             ]
            ],
            "type": "heatmapgl"
           }
          ],
          "histogram": [
           {
            "marker": {
             "pattern": {
              "fillmode": "overlay",
              "size": 10,
              "solidity": 0.2
             }
            },
            "type": "histogram"
           }
          ],
          "histogram2d": [
           {
            "colorbar": {
             "outlinewidth": 0,
             "ticks": ""
            },
            "colorscale": [
             [
              0,
              "#0d0887"
             ],
             [
              0.1111111111111111,
              "#46039f"
             ],
             [
              0.2222222222222222,
              "#7201a8"
             ],
             [
              0.3333333333333333,
              "#9c179e"
             ],
             [
              0.4444444444444444,
              "#bd3786"
             ],
             [
              0.5555555555555556,
              "#d8576b"
             ],
             [
              0.6666666666666666,
              "#ed7953"
             ],
             [
              0.7777777777777778,
              "#fb9f3a"
             ],
             [
              0.8888888888888888,
              "#fdca26"
             ],
             [
              1,
              "#f0f921"
             ]
            ],
            "type": "histogram2d"
           }
          ],
          "histogram2dcontour": [
           {
            "colorbar": {
             "outlinewidth": 0,
             "ticks": ""
            },
            "colorscale": [
             [
              0,
              "#0d0887"
             ],
             [
              0.1111111111111111,
              "#46039f"
             ],
             [
              0.2222222222222222,
              "#7201a8"
             ],
             [
              0.3333333333333333,
              "#9c179e"
             ],
             [
              0.4444444444444444,
              "#bd3786"
             ],
             [
              0.5555555555555556,
              "#d8576b"
             ],
             [
              0.6666666666666666,
              "#ed7953"
             ],
             [
              0.7777777777777778,
              "#fb9f3a"
             ],
             [
              0.8888888888888888,
              "#fdca26"
             ],
             [
              1,
              "#f0f921"
             ]
            ],
            "type": "histogram2dcontour"
           }
          ],
          "mesh3d": [
           {
            "colorbar": {
             "outlinewidth": 0,
             "ticks": ""
            },
            "type": "mesh3d"
           }
          ],
          "parcoords": [
           {
            "line": {
             "colorbar": {
              "outlinewidth": 0,
              "ticks": ""
             }
            },
            "type": "parcoords"
           }
          ],
          "pie": [
           {
            "automargin": true,
            "type": "pie"
           }
          ],
          "scatter": [
           {
            "fillpattern": {
             "fillmode": "overlay",
             "size": 10,
             "solidity": 0.2
            },
            "type": "scatter"
           }
          ],
          "scatter3d": [
           {
            "line": {
             "colorbar": {
              "outlinewidth": 0,
              "ticks": ""
             }
            },
            "marker": {
             "colorbar": {
              "outlinewidth": 0,
              "ticks": ""
             }
            },
            "type": "scatter3d"
           }
          ],
          "scattercarpet": [
           {
            "marker": {
             "colorbar": {
              "outlinewidth": 0,
              "ticks": ""
             }
            },
            "type": "scattercarpet"
           }
          ],
          "scattergeo": [
           {
            "marker": {
             "colorbar": {
              "outlinewidth": 0,
              "ticks": ""
             }
            },
            "type": "scattergeo"
           }
          ],
          "scattergl": [
           {
            "marker": {
             "colorbar": {
              "outlinewidth": 0,
              "ticks": ""
             }
            },
            "type": "scattergl"
           }
          ],
          "scattermapbox": [
           {
            "marker": {
             "colorbar": {
              "outlinewidth": 0,
              "ticks": ""
             }
            },
            "type": "scattermapbox"
           }
          ],
          "scatterpolar": [
           {
            "marker": {
             "colorbar": {
              "outlinewidth": 0,
              "ticks": ""
             }
            },
            "type": "scatterpolar"
           }
          ],
          "scatterpolargl": [
           {
            "marker": {
             "colorbar": {
              "outlinewidth": 0,
              "ticks": ""
             }
            },
            "type": "scatterpolargl"
           }
          ],
          "scatterternary": [
           {
            "marker": {
             "colorbar": {
              "outlinewidth": 0,
              "ticks": ""
             }
            },
            "type": "scatterternary"
           }
          ],
          "surface": [
           {
            "colorbar": {
             "outlinewidth": 0,
             "ticks": ""
            },
            "colorscale": [
             [
              0,
              "#0d0887"
             ],
             [
              0.1111111111111111,
              "#46039f"
             ],
             [
              0.2222222222222222,
              "#7201a8"
             ],
             [
              0.3333333333333333,
              "#9c179e"
             ],
             [
              0.4444444444444444,
              "#bd3786"
             ],
             [
              0.5555555555555556,
              "#d8576b"
             ],
             [
              0.6666666666666666,
              "#ed7953"
             ],
             [
              0.7777777777777778,
              "#fb9f3a"
             ],
             [
              0.8888888888888888,
              "#fdca26"
             ],
             [
              1,
              "#f0f921"
             ]
            ],
            "type": "surface"
           }
          ],
          "table": [
           {
            "cells": {
             "fill": {
              "color": "#EBF0F8"
             },
             "line": {
              "color": "white"
             }
            },
            "header": {
             "fill": {
              "color": "#C8D4E3"
             },
             "line": {
              "color": "white"
             }
            },
            "type": "table"
           }
          ]
         },
         "layout": {
          "annotationdefaults": {
           "arrowcolor": "#2a3f5f",
           "arrowhead": 0,
           "arrowwidth": 1
          },
          "autotypenumbers": "strict",
          "coloraxis": {
           "colorbar": {
            "outlinewidth": 0,
            "ticks": ""
           }
          },
          "colorscale": {
           "diverging": [
            [
             0,
             "#8e0152"
            ],
            [
             0.1,
             "#c51b7d"
            ],
            [
             0.2,
             "#de77ae"
            ],
            [
             0.3,
             "#f1b6da"
            ],
            [
             0.4,
             "#fde0ef"
            ],
            [
             0.5,
             "#f7f7f7"
            ],
            [
             0.6,
             "#e6f5d0"
            ],
            [
             0.7,
             "#b8e186"
            ],
            [
             0.8,
             "#7fbc41"
            ],
            [
             0.9,
             "#4d9221"
            ],
            [
             1,
             "#276419"
            ]
           ],
           "sequential": [
            [
             0,
             "#0d0887"
            ],
            [
             0.1111111111111111,
             "#46039f"
            ],
            [
             0.2222222222222222,
             "#7201a8"
            ],
            [
             0.3333333333333333,
             "#9c179e"
            ],
            [
             0.4444444444444444,
             "#bd3786"
            ],
            [
             0.5555555555555556,
             "#d8576b"
            ],
            [
             0.6666666666666666,
             "#ed7953"
            ],
            [
             0.7777777777777778,
             "#fb9f3a"
            ],
            [
             0.8888888888888888,
             "#fdca26"
            ],
            [
             1,
             "#f0f921"
            ]
           ],
           "sequentialminus": [
            [
             0,
             "#0d0887"
            ],
            [
             0.1111111111111111,
             "#46039f"
            ],
            [
             0.2222222222222222,
             "#7201a8"
            ],
            [
             0.3333333333333333,
             "#9c179e"
            ],
            [
             0.4444444444444444,
             "#bd3786"
            ],
            [
             0.5555555555555556,
             "#d8576b"
            ],
            [
             0.6666666666666666,
             "#ed7953"
            ],
            [
             0.7777777777777778,
             "#fb9f3a"
            ],
            [
             0.8888888888888888,
             "#fdca26"
            ],
            [
             1,
             "#f0f921"
            ]
           ]
          },
          "colorway": [
           "#636efa",
           "#EF553B",
           "#00cc96",
           "#ab63fa",
           "#FFA15A",
           "#19d3f3",
           "#FF6692",
           "#B6E880",
           "#FF97FF",
           "#FECB52"
          ],
          "font": {
           "color": "#2a3f5f"
          },
          "geo": {
           "bgcolor": "white",
           "lakecolor": "white",
           "landcolor": "#E5ECF6",
           "showlakes": true,
           "showland": true,
           "subunitcolor": "white"
          },
          "hoverlabel": {
           "align": "left"
          },
          "hovermode": "closest",
          "mapbox": {
           "style": "light"
          },
          "paper_bgcolor": "white",
          "plot_bgcolor": "#E5ECF6",
          "polar": {
           "angularaxis": {
            "gridcolor": "white",
            "linecolor": "white",
            "ticks": ""
           },
           "bgcolor": "#E5ECF6",
           "radialaxis": {
            "gridcolor": "white",
            "linecolor": "white",
            "ticks": ""
           }
          },
          "scene": {
           "xaxis": {
            "backgroundcolor": "#E5ECF6",
            "gridcolor": "white",
            "gridwidth": 2,
            "linecolor": "white",
            "showbackground": true,
            "ticks": "",
            "zerolinecolor": "white"
           },
           "yaxis": {
            "backgroundcolor": "#E5ECF6",
            "gridcolor": "white",
            "gridwidth": 2,
            "linecolor": "white",
            "showbackground": true,
            "ticks": "",
            "zerolinecolor": "white"
           },
           "zaxis": {
            "backgroundcolor": "#E5ECF6",
            "gridcolor": "white",
            "gridwidth": 2,
            "linecolor": "white",
            "showbackground": true,
            "ticks": "",
            "zerolinecolor": "white"
           }
          },
          "shapedefaults": {
           "line": {
            "color": "#2a3f5f"
           }
          },
          "ternary": {
           "aaxis": {
            "gridcolor": "white",
            "linecolor": "white",
            "ticks": ""
           },
           "baxis": {
            "gridcolor": "white",
            "linecolor": "white",
            "ticks": ""
           },
           "bgcolor": "#E5ECF6",
           "caxis": {
            "gridcolor": "white",
            "linecolor": "white",
            "ticks": ""
           }
          },
          "title": {
           "x": 0.05
          },
          "xaxis": {
           "automargin": true,
           "gridcolor": "white",
           "linecolor": "white",
           "ticks": "",
           "title": {
            "standoff": 15
           },
           "zerolinecolor": "white",
           "zerolinewidth": 2
          },
          "yaxis": {
           "automargin": true,
           "gridcolor": "white",
           "linecolor": "white",
           "ticks": "",
           "title": {
            "standoff": 15
           },
           "zerolinecolor": "white",
           "zerolinewidth": 2
          }
         }
        },
        "xaxis": {
         "anchor": "y",
         "domain": [
          0,
          1
         ],
         "title": {
          "text": "Acorn_Group"
         }
        },
        "yaxis": {
         "anchor": "x",
         "domain": [
          0,
          1
         ],
         "title": {
          "text": "KWH/hh"
         }
        }
       }
      },
      "text/html": [
       "<div>                            <div id=\"d84e3e9d-2549-47e2-a2f1-086500d0f1ee\" class=\"plotly-graph-div\" style=\"height:525px; width:100%;\"></div>            <script type=\"text/javascript\">                require([\"plotly\"], function(Plotly) {                    window.PLOTLYENV=window.PLOTLYENV || {};                                    if (document.getElementById(\"d84e3e9d-2549-47e2-a2f1-086500d0f1ee\")) {                    Plotly.newPlot(                        \"d84e3e9d-2549-47e2-a2f1-086500d0f1ee\",                        [{\"alignmentgroup\":\"True\",\"boxpoints\":\"outliers\",\"customdata\":[[\"MAC000030\"],[\"MAC000040\"],[\"MAC000103\"],[\"MAC000110\"],[\"MAC000112\"],[\"MAC000246\"],[\"MAC000323\"],[\"MAC000379\"],[\"MAC000464\"],[\"MAC000487\"],[\"MAC000609\"],[\"MAC000768\"],[\"MAC000974\"],[\"MAC001251\"],[\"MAC001734\"],[\"MAC002113\"],[\"MAC002150\"],[\"MAC002199\"],[\"MAC002552\"],[\"MAC002563\"],[\"MAC002628\"],[\"MAC002937\"],[\"MAC002959\"],[\"MAC003072\"],[\"MAC003110\"],[\"MAC003182\"],[\"MAC003211\"],[\"MAC003223\"],[\"MAC003239\"],[\"MAC003257\"],[\"MAC003281\"],[\"MAC003286\"],[\"MAC003305\"],[\"MAC003388\"],[\"MAC003400\"],[\"MAC003428\"],[\"MAC003474\"],[\"MAC003482\"],[\"MAC003553\"],[\"MAC003557\"],[\"MAC003579\"],[\"MAC003606\"],[\"MAC003613\"],[\"MAC003634\"],[\"MAC003646\"],[\"MAC003668\"],[\"MAC003683\"],[\"MAC003686\"],[\"MAC003719\"],[\"MAC003737\"],[\"MAC003740\"],[\"MAC003775\"],[\"MAC003805\"],[\"MAC003807\"],[\"MAC003826\"],[\"MAC003840\"],[\"MAC003851\"],[\"MAC003863\"],[\"MAC003895\"],[\"MAC004034\"],[\"MAC004054\"],[\"MAC004179\"],[\"MAC004319\"],[\"MAC004374\"],[\"MAC004387\"],[\"MAC004436\"],[\"MAC004529\"],[\"MAC004543\"],[\"MAC004554\"],[\"MAC004789\"],[\"MAC004872\"],[\"MAC004900\"],[\"MAC004955\"],[\"MAC004988\"],[\"MAC004997\"],[\"MAC005042\"],[\"MAC005159\"],[\"MAC005160\"],[\"MAC005283\"],[\"MAC005406\"],[\"MAC005421\"],[\"MAC001410\"],[\"MAC003355\"],[\"MAC003403\"],[\"MAC003445\"],[\"MAC003822\"],[\"MAC003876\"],[\"MAC003903\"],[\"MAC004417\"],[\"MAC004567\"],[\"MAC000017\"],[\"MAC000096\"],[\"MAC000140\"],[\"MAC000545\"],[\"MAC000630\"],[\"MAC000798\"],[\"MAC001064\"],[\"MAC001313\"],[\"MAC001371\"],[\"MAC001395\"],[\"MAC001544\"],[\"MAC001553\"],[\"MAC001579\"],[\"MAC002015\"],[\"MAC002070\"],[\"MAC002481\"],[\"MAC002575\"],[\"MAC002595\"],[\"MAC002599\"],[\"MAC002604\"],[\"MAC002606\"],[\"MAC002829\"],[\"MAC002862\"],[\"MAC003001\"],[\"MAC003065\"],[\"MAC003157\"],[\"MAC003201\"],[\"MAC003231\"],[\"MAC003235\"],[\"MAC003260\"],[\"MAC003283\"],[\"MAC003288\"],[\"MAC003299\"],[\"MAC003313\"],[\"MAC003319\"],[\"MAC003339\"],[\"MAC003349\"],[\"MAC003358\"],[\"MAC003366\"],[\"MAC003368\"],[\"MAC003427\"],[\"MAC003486\"],[\"MAC003487\"],[\"MAC003511\"],[\"MAC003556\"],[\"MAC003558\"],[\"MAC003580\"],[\"MAC003639\"],[\"MAC003642\"],[\"MAC003736\"],[\"MAC003745\"],[\"MAC003755\"],[\"MAC003762\"],[\"MAC003776\"],[\"MAC003782\"],[\"MAC003787\"],[\"MAC003843\"],[\"MAC003889\"],[\"MAC003907\"],[\"MAC003933\"],[\"MAC004029\"],[\"MAC004040\"],[\"MAC004108\"],[\"MAC004336\"],[\"MAC004406\"],[\"MAC004447\"],[\"MAC004455\"],[\"MAC004504\"],[\"MAC004509\"],[\"MAC004585\"],[\"MAC004664\"],[\"MAC004673\"],[\"MAC004712\"],[\"MAC004848\"],[\"MAC004910\"],[\"MAC004925\"],[\"MAC004989\"],[\"MAC005028\"],[\"MAC005320\"],[\"MAC005490\"],[\"MAC005506\"],[\"MAC005509\"],[\"MAC000026\"],[\"MAC000050\"],[\"MAC000052\"],[\"MAC000063\"],[\"MAC000073\"],[\"MAC000084\"],[\"MAC000085\"],[\"MAC000105\"],[\"MAC000109\"],[\"MAC000139\"],[\"MAC000155\"],[\"MAC000194\"],[\"MAC000289\"],[\"MAC000291\"],[\"MAC000317\"],[\"MAC000326\"],[\"MAC000336\"],[\"MAC000442\"],[\"MAC000455\"],[\"MAC000456\"],[\"MAC000462\"],[\"MAC000503\"],[\"MAC000522\"],[\"MAC000551\"],[\"MAC000572\"],[\"MAC000632\"],[\"MAC000715\"],[\"MAC000737\"],[\"MAC000830\"],[\"MAC000863\"],[\"MAC000957\"],[\"MAC001166\"],[\"MAC001425\"],[\"MAC001561\"],[\"MAC001584\"],[\"MAC001735\"],[\"MAC001768\"],[\"MAC001825\"],[\"MAC001869\"],[\"MAC002083\"],[\"MAC002137\"],[\"MAC002138\"],[\"MAC002144\"],[\"MAC002148\"],[\"MAC002153\"],[\"MAC002166\"],[\"MAC002170\"],[\"MAC002190\"],[\"MAC002243\"],[\"MAC002380\"],[\"MAC002458\"],[\"MAC002505\"],[\"MAC002627\"],[\"MAC002741\"],[\"MAC002946\"],[\"MAC002965\"],[\"MAC003063\"],[\"MAC003093\"],[\"MAC003364\"],[\"MAC003502\"],[\"MAC003708\"],[\"MAC003709\"],[\"MAC003958\"],[\"MAC003987\"],[\"MAC004006\"],[\"MAC004007\"],[\"MAC004016\"],[\"MAC004026\"],[\"MAC004051\"],[\"MAC004091\"],[\"MAC004178\"],[\"MAC004193\"],[\"MAC004198\"],[\"MAC004276\"],[\"MAC004340\"],[\"MAC004348\"],[\"MAC004360\"],[\"MAC004385\"],[\"MAC004386\"],[\"MAC004389\"],[\"MAC004399\"],[\"MAC004409\"],[\"MAC004434\"],[\"MAC004439\"],[\"MAC004448\"],[\"MAC004475\"],[\"MAC004527\"],[\"MAC004539\"],[\"MAC004590\"],[\"MAC004628\"],[\"MAC004637\"],[\"MAC004647\"],[\"MAC004653\"],[\"MAC004686\"],[\"MAC004704\"],[\"MAC004740\"],[\"MAC004783\"],[\"MAC004887\"],[\"MAC004888\"],[\"MAC004911\"],[\"MAC004916\"],[\"MAC004927\"],[\"MAC004928\"],[\"MAC004945\"],[\"MAC004948\"],[\"MAC004949\"],[\"MAC004953\"],[\"MAC004976\"],[\"MAC004987\"],[\"MAC004990\"],[\"MAC005003\"],[\"MAC005181\"],[\"MAC005182\"],[\"MAC005184\"],[\"MAC005195\"],[\"MAC005205\"],[\"MAC005206\"],[\"MAC005211\"],[\"MAC005219\"],[\"MAC005224\"],[\"MAC005244\"],[\"MAC005249\"],[\"MAC005254\"],[\"MAC005255\"],[\"MAC005261\"],[\"MAC005275\"],[\"MAC005280\"],[\"MAC005316\"],[\"MAC005324\"],[\"MAC005349\"],[\"MAC005380\"],[\"MAC005504\"],[\"MAC000015\"],[\"MAC000018\"],[\"MAC000021\"],[\"MAC000033\"],[\"MAC000034\"],[\"MAC000045\"],[\"MAC000048\"],[\"MAC000049\"],[\"MAC000057\"],[\"MAC000064\"],[\"MAC000066\"],[\"MAC000075\"],[\"MAC000076\"],[\"MAC000078\"],[\"MAC000082\"],[\"MAC000086\"],[\"MAC000087\"],[\"MAC000095\"],[\"MAC000116\"],[\"MAC000131\"],[\"MAC000132\"],[\"MAC000150\"],[\"MAC000152\"],[\"MAC000153\"],[\"MAC000159\"],[\"MAC000161\"],[\"MAC000165\"],[\"MAC000168\"],[\"MAC000169\"],[\"MAC000173\"],[\"MAC000179\"],[\"MAC000181\"],[\"MAC000182\"],[\"MAC000186\"],[\"MAC000189\"],[\"MAC000191\"],[\"MAC000203\"],[\"MAC000205\"],[\"MAC000218\"],[\"MAC000219\"],[\"MAC000220\"],[\"MAC000221\"],[\"MAC000228\"],[\"MAC000234\"],[\"MAC000253\"],[\"MAC000257\"],[\"MAC000263\"],[\"MAC000264\"],[\"MAC000270\"],[\"MAC000273\"],[\"MAC000274\"],[\"MAC000282\"],[\"MAC000288\"],[\"MAC000295\"],[\"MAC000296\"],[\"MAC000298\"],[\"MAC000300\"],[\"MAC000301\"],[\"MAC000304\"],[\"MAC000306\"],[\"MAC000307\"],[\"MAC000308\"],[\"MAC000309\"],[\"MAC000312\"],[\"MAC000320\"],[\"MAC000321\"],[\"MAC000324\"],[\"MAC000327\"],[\"MAC000331\"],[\"MAC000332\"],[\"MAC000335\"],[\"MAC000344\"],[\"MAC000345\"],[\"MAC000346\"],[\"MAC000349\"],[\"MAC000351\"],[\"MAC000353\"],[\"MAC000355\"],[\"MAC000357\"],[\"MAC000359\"],[\"MAC000367\"],[\"MAC000368\"],[\"MAC000370\"],[\"MAC000372\"],[\"MAC000374\"],[\"MAC000378\"],[\"MAC000380\"],[\"MAC000384\"],[\"MAC000387\"],[\"MAC000388\"],[\"MAC000396\"],[\"MAC000400\"],[\"MAC000403\"],[\"MAC000409\"],[\"MAC000413\"],[\"MAC000415\"],[\"MAC000424\"],[\"MAC000443\"],[\"MAC000448\"],[\"MAC000458\"],[\"MAC000459\"],[\"MAC000463\"],[\"MAC000469\"],[\"MAC000473\"],[\"MAC000478\"],[\"MAC000482\"],[\"MAC000485\"],[\"MAC000489\"],[\"MAC000496\"],[\"MAC000497\"],[\"MAC000499\"],[\"MAC000500\"],[\"MAC000504\"],[\"MAC000506\"],[\"MAC000508\"],[\"MAC000509\"],[\"MAC000516\"],[\"MAC000518\"],[\"MAC000523\"],[\"MAC000525\"],[\"MAC000526\"],[\"MAC000561\"],[\"MAC000577\"],[\"MAC000596\"],[\"MAC000610\"],[\"MAC000631\"],[\"MAC000633\"],[\"MAC000639\"],[\"MAC000640\"],[\"MAC000646\"],[\"MAC000654\"],[\"MAC000663\"],[\"MAC000679\"],[\"MAC000709\"],[\"MAC000719\"],[\"MAC000732\"],[\"MAC000738\"],[\"MAC000749\"],[\"MAC000755\"],[\"MAC000774\"],[\"MAC000785\"],[\"MAC000822\"],[\"MAC000828\"],[\"MAC000855\"],[\"MAC000861\"],[\"MAC000877\"],[\"MAC000896\"],[\"MAC000939\"],[\"MAC001001\"],[\"MAC001014\"],[\"MAC001029\"],[\"MAC001096\"],[\"MAC001099\"],[\"MAC001117\"],[\"MAC001149\"],[\"MAC001158\"],[\"MAC001160\"],[\"MAC001194\"],[\"MAC001198\"],[\"MAC001202\"],[\"MAC001206\"],[\"MAC001236\"],[\"MAC001303\"],[\"MAC001319\"],[\"MAC001332\"],[\"MAC001350\"],[\"MAC001366\"],[\"MAC001367\"],[\"MAC001384\"],[\"MAC001405\"],[\"MAC001411\"],[\"MAC001416\"],[\"MAC001445\"],[\"MAC001457\"],[\"MAC001461\"],[\"MAC001499\"],[\"MAC001513\"],[\"MAC001514\"],[\"MAC001516\"],[\"MAC001517\"],[\"MAC001532\"],[\"MAC001534\"],[\"MAC001556\"],[\"MAC001562\"],[\"MAC001564\"],[\"MAC001595\"],[\"MAC001624\"],[\"MAC001651\"],[\"MAC001669\"],[\"MAC001754\"],[\"MAC001756\"],[\"MAC001781\"],[\"MAC001788\"],[\"MAC001794\"],[\"MAC001812\"],[\"MAC001884\"],[\"MAC001950\"],[\"MAC001972\"],[\"MAC001978\"],[\"MAC001979\"],[\"MAC001987\"],[\"MAC002027\"],[\"MAC002046\"],[\"MAC002058\"],[\"MAC002066\"],[\"MAC002078\"],[\"MAC002091\"],[\"MAC002093\"],[\"MAC002098\"],[\"MAC002099\"],[\"MAC002100\"],[\"MAC002102\"],[\"MAC002106\"],[\"MAC002112\"],[\"MAC002114\"],[\"MAC002120\"],[\"MAC002121\"],[\"MAC002125\"],[\"MAC002130\"],[\"MAC002131\"],[\"MAC002132\"],[\"MAC002133\"],[\"MAC002135\"],[\"MAC002142\"],[\"MAC002143\"],[\"MAC002145\"],[\"MAC002154\"],[\"MAC002156\"],[\"MAC002158\"],[\"MAC002164\"],[\"MAC002165\"],[\"MAC002172\"],[\"MAC002179\"],[\"MAC002180\"],[\"MAC002184\"],[\"MAC002187\"],[\"MAC002202\"],[\"MAC002203\"],[\"MAC002204\"],[\"MAC002225\"],[\"MAC002226\"],[\"MAC002228\"],[\"MAC002244\"],[\"MAC002250\"],[\"MAC002265\"],[\"MAC002271\"],[\"MAC002282\"],[\"MAC002285\"],[\"MAC002324\"],[\"MAC002326\"],[\"MAC002343\"],[\"MAC002370\"],[\"MAC002381\"],[\"MAC002394\"],[\"MAC002407\"],[\"MAC002441\"],[\"MAC002454\"],[\"MAC002470\"],[\"MAC002471\"],[\"MAC002492\"],[\"MAC002494\"],[\"MAC002499\"],[\"MAC002504\"],[\"MAC002506\"],[\"MAC002508\"],[\"MAC002509\"],[\"MAC002514\"],[\"MAC002522\"],[\"MAC002525\"],[\"MAC002530\"],[\"MAC002533\"],[\"MAC002539\"],[\"MAC002543\"],[\"MAC002545\"],[\"MAC002550\"],[\"MAC002558\"],[\"MAC002567\"],[\"MAC002568\"],[\"MAC002571\"],[\"MAC002573\"],[\"MAC002581\"],[\"MAC002583\"],[\"MAC002584\"],[\"MAC002588\"],[\"MAC002590\"],[\"MAC002593\"],[\"MAC002596\"],[\"MAC002603\"],[\"MAC002605\"],[\"MAC002608\"],[\"MAC002611\"],[\"MAC002614\"],[\"MAC002620\"],[\"MAC002621\"],[\"MAC002691\"],[\"MAC002693\"],[\"MAC002702\"],[\"MAC002712\"],[\"MAC002713\"],[\"MAC002735\"],[\"MAC002744\"],[\"MAC002777\"],[\"MAC002791\"],[\"MAC002815\"],[\"MAC002817\"],[\"MAC002853\"],[\"MAC002945\"],[\"MAC002947\"],[\"MAC002949\"],[\"MAC002953\"],[\"MAC002966\"],[\"MAC002971\"],[\"MAC002982\"],[\"MAC002990\"],[\"MAC003016\"],[\"MAC003046\"],[\"MAC003052\"],[\"MAC003068\"],[\"MAC003071\"],[\"MAC003073\"],[\"MAC003083\"],[\"MAC003105\"],[\"MAC003111\"],[\"MAC003114\"],[\"MAC003135\"],[\"MAC003141\"],[\"MAC003147\"],[\"MAC003150\"],[\"MAC003153\"],[\"MAC003158\"],[\"MAC003159\"],[\"MAC003273\"],[\"MAC003290\"],[\"MAC003312\"],[\"MAC003378\"],[\"MAC003451\"],[\"MAC003460\"],[\"MAC003465\"],[\"MAC003506\"],[\"MAC003562\"],[\"MAC003603\"],[\"MAC003665\"],[\"MAC003724\"],[\"MAC003725\"],[\"MAC003746\"],[\"MAC003789\"],[\"MAC003790\"],[\"MAC003800\"],[\"MAC003818\"],[\"MAC003854\"],[\"MAC003898\"],[\"MAC003906\"],[\"MAC003910\"],[\"MAC003940\"],[\"MAC003944\"],[\"MAC003949\"],[\"MAC003954\"],[\"MAC003956\"],[\"MAC003960\"],[\"MAC003962\"],[\"MAC003966\"],[\"MAC003970\"],[\"MAC003974\"],[\"MAC003975\"],[\"MAC003984\"],[\"MAC003985\"],[\"MAC003994\"],[\"MAC004000\"],[\"MAC004003\"],[\"MAC004013\"],[\"MAC004014\"],[\"MAC004015\"],[\"MAC004020\"],[\"MAC004022\"],[\"MAC004025\"],[\"MAC004035\"],[\"MAC004041\"],[\"MAC004045\"],[\"MAC004046\"],[\"MAC004068\"],[\"MAC004082\"],[\"MAC004084\"],[\"MAC004102\"],[\"MAC004112\"],[\"MAC004132\"],[\"MAC004136\"],[\"MAC004143\"],[\"MAC004153\"],[\"MAC004159\"],[\"MAC004162\"],[\"MAC004171\"],[\"MAC004173\"],[\"MAC004181\"],[\"MAC004194\"],[\"MAC004195\"],[\"MAC004221\"],[\"MAC004251\"],[\"MAC004300\"],[\"MAC004303\"],[\"MAC004325\"],[\"MAC004327\"],[\"MAC004328\"],[\"MAC004332\"],[\"MAC004334\"],[\"MAC004339\"],[\"MAC004341\"],[\"MAC004342\"],[\"MAC004343\"],[\"MAC004345\"],[\"MAC004346\"],[\"MAC004347\"],[\"MAC004349\"],[\"MAC004356\"],[\"MAC004373\"],[\"MAC004377\"],[\"MAC004380\"],[\"MAC004383\"],[\"MAC004390\"],[\"MAC004394\"],[\"MAC004398\"],[\"MAC004402\"],[\"MAC004404\"],[\"MAC004410\"],[\"MAC004411\"],[\"MAC004413\"],[\"MAC004426\"],[\"MAC004428\"],[\"MAC004430\"],[\"MAC004438\"],[\"MAC004446\"],[\"MAC004449\"],[\"MAC004452\"],[\"MAC004458\"],[\"MAC004463\"],[\"MAC004470\"],[\"MAC004471\"],[\"MAC004473\"],[\"MAC004474\"],[\"MAC004476\"],[\"MAC004477\"],[\"MAC004480\"],[\"MAC004487\"],[\"MAC004500\"],[\"MAC004510\"],[\"MAC004511\"],[\"MAC004517\"],[\"MAC004518\"],[\"MAC004519\"],[\"MAC004522\"],[\"MAC004525\"],[\"MAC004528\"],[\"MAC004531\"],[\"MAC004534\"],[\"MAC004535\"],[\"MAC004536\"],[\"MAC004537\"],[\"MAC004552\"],[\"MAC004555\"],[\"MAC004556\"],[\"MAC004561\"],[\"MAC004562\"],[\"MAC004564\"],[\"MAC004565\"],[\"MAC004571\"],[\"MAC004574\"],[\"MAC004579\"],[\"MAC004581\"],[\"MAC004582\"],[\"MAC004584\"],[\"MAC004586\"],[\"MAC004592\"],[\"MAC004601\"],[\"MAC004604\"],[\"MAC004605\"],[\"MAC004606\"],[\"MAC004617\"],[\"MAC004622\"],[\"MAC004623\"],[\"MAC004625\"],[\"MAC004627\"],[\"MAC004629\"],[\"MAC004645\"],[\"MAC004648\"],[\"MAC004655\"],[\"MAC004656\"],[\"MAC004661\"],[\"MAC004668\"],[\"MAC004670\"],[\"MAC004682\"],[\"MAC004694\"],[\"MAC004699\"],[\"MAC004705\"],[\"MAC004706\"],[\"MAC004707\"],[\"MAC004720\"],[\"MAC004727\"],[\"MAC004728\"],[\"MAC004746\"],[\"MAC004752\"],[\"MAC004757\"],[\"MAC004758\"],[\"MAC004775\"],[\"MAC004779\"],[\"MAC004798\"],[\"MAC004815\"],[\"MAC004822\"],[\"MAC004827\"],[\"MAC004836\"],[\"MAC004846\"],[\"MAC004849\"],[\"MAC004852\"],[\"MAC004855\"],[\"MAC004856\"],[\"MAC004857\"],[\"MAC004858\"],[\"MAC004863\"],[\"MAC004864\"],[\"MAC004869\"],[\"MAC004876\"],[\"MAC004877\"],[\"MAC004879\"],[\"MAC004880\"],[\"MAC004881\"],[\"MAC004884\"],[\"MAC004886\"],[\"MAC004893\"],[\"MAC004895\"],[\"MAC004899\"],[\"MAC004908\"],[\"MAC004909\"],[\"MAC004913\"],[\"MAC004914\"],[\"MAC004918\"],[\"MAC004919\"],[\"MAC004921\"],[\"MAC004923\"],[\"MAC004926\"],[\"MAC004930\"],[\"MAC004932\"],[\"MAC004933\"],[\"MAC004936\"],[\"MAC004937\"],[\"MAC004938\"],[\"MAC004939\"],[\"MAC004940\"],[\"MAC004950\"],[\"MAC004958\"],[\"MAC004963\"],[\"MAC004964\"],[\"MAC004965\"],[\"MAC004966\"],[\"MAC004971\"],[\"MAC004972\"],[\"MAC004973\"],[\"MAC004974\"],[\"MAC004977\"],[\"MAC004981\"],[\"MAC004984\"],[\"MAC004986\"],[\"MAC004992\"],[\"MAC004993\"],[\"MAC004995\"],[\"MAC004998\"],[\"MAC004999\"],[\"MAC005001\"],[\"MAC005005\"],[\"MAC005006\"],[\"MAC005007\"],[\"MAC005008\"],[\"MAC005009\"],[\"MAC005011\"],[\"MAC005013\"],[\"MAC005017\"],[\"MAC005018\"],[\"MAC005020\"],[\"MAC005025\"],[\"MAC005026\"],[\"MAC005027\"],[\"MAC005030\"],[\"MAC005032\"],[\"MAC005034\"],[\"MAC005037\"],[\"MAC005039\"],[\"MAC005040\"],[\"MAC005041\"],[\"MAC005044\"],[\"MAC005047\"],[\"MAC005091\"],[\"MAC005117\"],[\"MAC005137\"],[\"MAC005149\"],[\"MAC005165\"],[\"MAC005178\"],[\"MAC005180\"],[\"MAC005183\"],[\"MAC005185\"],[\"MAC005190\"],[\"MAC005192\"],[\"MAC005196\"],[\"MAC005197\"],[\"MAC005198\"],[\"MAC005200\"],[\"MAC005202\"],[\"MAC005204\"],[\"MAC005209\"],[\"MAC005212\"],[\"MAC005214\"],[\"MAC005215\"],[\"MAC005217\"],[\"MAC005220\"],[\"MAC005221\"],[\"MAC005222\"],[\"MAC005225\"],[\"MAC005227\"],[\"MAC005231\"],[\"MAC005233\"],[\"MAC005242\"],[\"MAC005250\"],[\"MAC005253\"],[\"MAC005257\"],[\"MAC005262\"],[\"MAC005266\"],[\"MAC005267\"],[\"MAC005268\"],[\"MAC005270\"],[\"MAC005276\"],[\"MAC005277\"],[\"MAC005278\"],[\"MAC005279\"],[\"MAC005284\"],[\"MAC005290\"],[\"MAC005291\"],[\"MAC005292\"],[\"MAC005293\"],[\"MAC005294\"],[\"MAC005295\"],[\"MAC005297\"],[\"MAC005299\"],[\"MAC005300\"],[\"MAC005302\"],[\"MAC005304\"],[\"MAC005306\"],[\"MAC005308\"],[\"MAC005309\"],[\"MAC005310\"],[\"MAC005314\"],[\"MAC005315\"],[\"MAC005317\"],[\"MAC005322\"],[\"MAC005323\"],[\"MAC005326\"],[\"MAC005327\"],[\"MAC005329\"],[\"MAC005333\"],[\"MAC005334\"],[\"MAC005342\"],[\"MAC005343\"],[\"MAC005346\"],[\"MAC005353\"],[\"MAC005356\"],[\"MAC005358\"],[\"MAC005359\"],[\"MAC005360\"],[\"MAC005362\"],[\"MAC005365\"],[\"MAC005367\"],[\"MAC005373\"],[\"MAC005375\"],[\"MAC005382\"],[\"MAC005383\"],[\"MAC005387\"],[\"MAC005390\"],[\"MAC005391\"],[\"MAC005392\"],[\"MAC005394\"],[\"MAC005395\"],[\"MAC005399\"],[\"MAC005404\"],[\"MAC005405\"],[\"MAC005407\"],[\"MAC005408\"],[\"MAC005411\"],[\"MAC005412\"],[\"MAC005416\"],[\"MAC005417\"],[\"MAC005418\"],[\"MAC005419\"],[\"MAC005420\"],[\"MAC005427\"],[\"MAC005428\"],[\"MAC005454\"],[\"MAC005459\"],[\"MAC005469\"],[\"MAC005488\"],[\"MAC005502\"],[\"MAC005505\"],[\"MAC005539\"],[\"MAC005541\"],[\"MAC005553\"],[\"MAC005554\"],[\"MAC005555\"],[\"MAC005566\"],[\"MAC000039\"],[\"MAC000044\"],[\"MAC000053\"],[\"MAC000060\"],[\"MAC000125\"],[\"MAC000143\"],[\"MAC000145\"],[\"MAC000147\"],[\"MAC000156\"],[\"MAC000160\"],[\"MAC000163\"],[\"MAC000167\"],[\"MAC000170\"],[\"MAC000177\"],[\"MAC000180\"],[\"MAC000184\"],[\"MAC000188\"],[\"MAC000190\"],[\"MAC000192\"],[\"MAC000198\"],[\"MAC000200\"],[\"MAC000201\"],[\"MAC000206\"],[\"MAC000210\"],[\"MAC000211\"],[\"MAC000215\"],[\"MAC000222\"],[\"MAC000226\"],[\"MAC000229\"],[\"MAC000232\"],[\"MAC000238\"],[\"MAC000240\"],[\"MAC000244\"],[\"MAC000248\"],[\"MAC000261\"],[\"MAC000262\"],[\"MAC000271\"],[\"MAC000277\"],[\"MAC000279\"],[\"MAC000286\"],[\"MAC000314\"],[\"MAC000319\"],[\"MAC000328\"],[\"MAC000347\"],[\"MAC000366\"],[\"MAC000369\"],[\"MAC000371\"],[\"MAC000407\"],[\"MAC000411\"],[\"MAC000439\"],[\"MAC000445\"],[\"MAC000465\"],[\"MAC000468\"],[\"MAC000476\"],[\"MAC000479\"],[\"MAC000494\"],[\"MAC000530\"],[\"MAC000550\"],[\"MAC000553\"],[\"MAC000591\"],[\"MAC000613\"],[\"MAC000634\"],[\"MAC000642\"],[\"MAC000643\"],[\"MAC000648\"],[\"MAC000655\"],[\"MAC000661\"],[\"MAC000698\"],[\"MAC000728\"],[\"MAC000789\"],[\"MAC000845\"],[\"MAC000880\"],[\"MAC000887\"],[\"MAC000901\"],[\"MAC000969\"],[\"MAC001025\"],[\"MAC001090\"],[\"MAC001103\"],[\"MAC001124\"],[\"MAC001139\"],[\"MAC001200\"],[\"MAC001216\"],[\"MAC001217\"],[\"MAC001265\"],[\"MAC001308\"],[\"MAC001377\"],[\"MAC001382\"],[\"MAC001447\"],[\"MAC001450\"],[\"MAC001458\"],[\"MAC001463\"],[\"MAC001466\"],[\"MAC001543\"],[\"MAC001548\"],[\"MAC001569\"],[\"MAC001570\"],[\"MAC001602\"],[\"MAC001625\"],[\"MAC001659\"],[\"MAC001759\"],[\"MAC001769\"],[\"MAC001782\"],[\"MAC001805\"],[\"MAC001860\"],[\"MAC001913\"],[\"MAC001944\"],[\"MAC001969\"],[\"MAC001971\"],[\"MAC002012\"],[\"MAC002022\"],[\"MAC002030\"],[\"MAC002061\"],[\"MAC002084\"],[\"MAC002086\"],[\"MAC002090\"],[\"MAC002122\"],[\"MAC002163\"],[\"MAC002176\"],[\"MAC002181\"],[\"MAC002189\"],[\"MAC002193\"],[\"MAC002205\"],[\"MAC002261\"],[\"MAC002266\"],[\"MAC002277\"],[\"MAC002286\"],[\"MAC002320\"],[\"MAC002332\"],[\"MAC002344\"],[\"MAC002348\"],[\"MAC002349\"],[\"MAC002376\"],[\"MAC002383\"],[\"MAC002389\"],[\"MAC002395\"],[\"MAC002449\"],[\"MAC002487\"],[\"MAC002489\"],[\"MAC002502\"],[\"MAC002507\"],[\"MAC002520\"],[\"MAC002529\"],[\"MAC002532\"],[\"MAC002538\"],[\"MAC002554\"],[\"MAC002585\"],[\"MAC002589\"],[\"MAC002630\"],[\"MAC002682\"],[\"MAC002698\"],[\"MAC002783\"],[\"MAC002795\"],[\"MAC002799\"],[\"MAC002834\"],[\"MAC002918\"],[\"MAC002944\"],[\"MAC002956\"],[\"MAC002957\"],[\"MAC002960\"],[\"MAC002964\"],[\"MAC002973\"],[\"MAC002983\"],[\"MAC002995\"],[\"MAC003028\"],[\"MAC003029\"],[\"MAC003034\"],[\"MAC003050\"],[\"MAC003080\"],[\"MAC003101\"],[\"MAC003121\"],[\"MAC003152\"],[\"MAC003431\"],[\"MAC003519\"],[\"MAC003587\"],[\"MAC003643\"],[\"MAC003662\"],[\"MAC003717\"],[\"MAC003825\"],[\"MAC003893\"],[\"MAC003905\"],[\"MAC003928\"],[\"MAC003941\"],[\"MAC003947\"],[\"MAC003950\"],[\"MAC003957\"],[\"MAC003967\"],[\"MAC003971\"],[\"MAC003979\"],[\"MAC003981\"],[\"MAC003983\"],[\"MAC003989\"],[\"MAC003997\"],[\"MAC003998\"],[\"MAC003999\"],[\"MAC004009\"],[\"MAC004024\"],[\"MAC004030\"],[\"MAC004039\"],[\"MAC004053\"],[\"MAC004059\"],[\"MAC004063\"],[\"MAC004090\"],[\"MAC004121\"],[\"MAC004122\"],[\"MAC004163\"],[\"MAC004189\"],[\"MAC004201\"],[\"MAC004217\"],[\"MAC004235\"],[\"MAC004253\"],[\"MAC004254\"],[\"MAC004274\"],[\"MAC004284\"],[\"MAC004301\"],[\"MAC004310\"],[\"MAC004315\"],[\"MAC004337\"],[\"MAC004371\"],[\"MAC004375\"],[\"MAC004378\"],[\"MAC004396\"],[\"MAC004400\"],[\"MAC004412\"],[\"MAC004418\"],[\"MAC004429\"],[\"MAC004456\"],[\"MAC004466\"],[\"MAC004472\"],[\"MAC004478\"],[\"MAC004488\"],[\"MAC004492\"],[\"MAC004499\"],[\"MAC004502\"],[\"MAC004521\"],[\"MAC004523\"],[\"MAC004526\"],[\"MAC004545\"],[\"MAC004551\"],[\"MAC004557\"],[\"MAC004572\"],[\"MAC004578\"],[\"MAC004608\"],[\"MAC004635\"],[\"MAC004636\"],[\"MAC004641\"],[\"MAC004643\"],[\"MAC004698\"],[\"MAC004739\"],[\"MAC004753\"],[\"MAC004768\"],[\"MAC004834\"],[\"MAC004837\"],[\"MAC004838\"],[\"MAC004840\"],[\"MAC004844\"],[\"MAC004845\"],[\"MAC004859\"],[\"MAC004862\"],[\"MAC004867\"],[\"MAC004868\"],[\"MAC004882\"],[\"MAC004890\"],[\"MAC004912\"],[\"MAC004967\"],[\"MAC004969\"],[\"MAC005024\"],[\"MAC005043\"],[\"MAC005071\"],[\"MAC005077\"],[\"MAC005186\"],[\"MAC005188\"],[\"MAC005191\"],[\"MAC005208\"],[\"MAC005210\"],[\"MAC005243\"],[\"MAC005245\"],[\"MAC005246\"],[\"MAC005256\"],[\"MAC005264\"],[\"MAC005305\"],[\"MAC005325\"],[\"MAC005341\"],[\"MAC005379\"],[\"MAC005396\"],[\"MAC005425\"],[\"MAC005431\"],[\"MAC005451\"],[\"MAC005464\"],[\"MAC005471\"],[\"MAC005477\"],[\"MAC005535\"],[\"MAC005538\"],[\"MAC000007\"],[\"MAC000010\"],[\"MAC000059\"],[\"MAC000062\"],[\"MAC000074\"],[\"MAC000089\"],[\"MAC000091\"],[\"MAC000093\"],[\"MAC000119\"],[\"MAC000128\"],[\"MAC000137\"],[\"MAC000158\"],[\"MAC000239\"],[\"MAC000251\"],[\"MAC000254\"],[\"MAC000272\"],[\"MAC000294\"],[\"MAC000340\"],[\"MAC000341\"],[\"MAC000360\"],[\"MAC000375\"],[\"MAC000381\"],[\"MAC000382\"],[\"MAC000394\"],[\"MAC000405\"],[\"MAC000452\"],[\"MAC000498\"],[\"MAC000533\"],[\"MAC000547\"],[\"MAC000800\"],[\"MAC000809\"],[\"MAC000914\"],[\"MAC000946\"],[\"MAC001016\"],[\"MAC001088\"],[\"MAC001220\"],[\"MAC001233\"],[\"MAC001240\"],[\"MAC001261\"],[\"MAC001272\"],[\"MAC001317\"],[\"MAC001356\"],[\"MAC001357\"],[\"MAC001399\"],[\"MAC001453\"],[\"MAC001494\"],[\"MAC001497\"],[\"MAC001507\"],[\"MAC001525\"],[\"MAC001645\"],[\"MAC001679\"],[\"MAC001951\"],[\"MAC001991\"],[\"MAC002049\"],[\"MAC002062\"],[\"MAC002080\"],[\"MAC002081\"],[\"MAC002095\"],[\"MAC002115\"],[\"MAC002123\"],[\"MAC002188\"],[\"MAC002198\"],[\"MAC002411\"],[\"MAC002491\"],[\"MAC002493\"],[\"MAC002515\"],[\"MAC002544\"],[\"MAC002591\"],[\"MAC002592\"],[\"MAC002602\"],[\"MAC002669\"],[\"MAC002749\"],[\"MAC002763\"],[\"MAC002776\"],[\"MAC002788\"],[\"MAC002923\"],[\"MAC003000\"],[\"MAC003002\"],[\"MAC003012\"],[\"MAC003120\"],[\"MAC003142\"],[\"MAC003154\"],[\"MAC003170\"],[\"MAC003171\"],[\"MAC003190\"],[\"MAC003195\"],[\"MAC003198\"],[\"MAC003208\"],[\"MAC003210\"],[\"MAC003216\"],[\"MAC003219\"],[\"MAC003222\"],[\"MAC003236\"],[\"MAC003237\"],[\"MAC003240\"],[\"MAC003241\"],[\"MAC003250\"],[\"MAC003256\"],[\"MAC003261\"],[\"MAC003264\"],[\"MAC003271\"],[\"MAC003272\"],[\"MAC003279\"],[\"MAC003284\"],[\"MAC003292\"],[\"MAC003293\"],[\"MAC003294\"],[\"MAC003306\"],[\"MAC003308\"],[\"MAC003320\"],[\"MAC003322\"],[\"MAC003324\"],[\"MAC003330\"],[\"MAC003331\"],[\"MAC003334\"],[\"MAC003340\"],[\"MAC003354\"],[\"MAC003372\"],[\"MAC003375\"],[\"MAC003382\"],[\"MAC003389\"],[\"MAC003405\"],[\"MAC003406\"],[\"MAC003417\"],[\"MAC003421\"],[\"MAC003426\"],[\"MAC003436\"],[\"MAC003450\"],[\"MAC003453\"],[\"MAC003457\"],[\"MAC003473\"],[\"MAC003477\"],[\"MAC003488\"],[\"MAC003490\"],[\"MAC003493\"],[\"MAC003494\"],[\"MAC003514\"],[\"MAC003524\"],[\"MAC003528\"],[\"MAC003529\"],[\"MAC003540\"],[\"MAC003551\"],[\"MAC003561\"],[\"MAC003567\"],[\"MAC003570\"],[\"MAC003573\"],[\"MAC003581\"],[\"MAC003583\"],[\"MAC003591\"],[\"MAC003599\"],[\"MAC003602\"],[\"MAC003610\"],[\"MAC003611\"],[\"MAC003615\"],[\"MAC003625\"],[\"MAC003626\"],[\"MAC003633\"],[\"MAC003638\"],[\"MAC003650\"],[\"MAC003653\"],[\"MAC003655\"],[\"MAC003658\"],[\"MAC003659\"],[\"MAC003682\"],[\"MAC003685\"],[\"MAC003690\"],[\"MAC003696\"],[\"MAC003697\"],[\"MAC003702\"],[\"MAC003712\"],[\"MAC003715\"],[\"MAC003732\"],[\"MAC003753\"],[\"MAC003754\"],[\"MAC003768\"],[\"MAC003795\"],[\"MAC003806\"],[\"MAC003812\"],[\"MAC003815\"],[\"MAC003832\"],[\"MAC003834\"],[\"MAC003852\"],[\"MAC003855\"],[\"MAC003857\"],[\"MAC003865\"],[\"MAC003866\"],[\"MAC003867\"],[\"MAC003873\"],[\"MAC003875\"],[\"MAC003878\"],[\"MAC003879\"],[\"MAC003896\"],[\"MAC003897\"],[\"MAC003899\"],[\"MAC003917\"],[\"MAC003925\"],[\"MAC003926\"],[\"MAC003959\"],[\"MAC003969\"],[\"MAC003986\"],[\"MAC003991\"],[\"MAC004002\"],[\"MAC004012\"],[\"MAC004114\"],[\"MAC004262\"],[\"MAC004277\"],[\"MAC004321\"],[\"MAC004326\"],[\"MAC004354\"],[\"MAC004391\"],[\"MAC004440\"],[\"MAC004457\"],[\"MAC004491\"],[\"MAC004494\"],[\"MAC004501\"],[\"MAC004542\"],[\"MAC004654\"],[\"MAC004675\"],[\"MAC004710\"],[\"MAC004711\"],[\"MAC004749\"],[\"MAC004807\"],[\"MAC004823\"],[\"MAC004922\"],[\"MAC004929\"],[\"MAC005035\"],[\"MAC005048\"],[\"MAC005072\"],[\"MAC005081\"],[\"MAC005135\"],[\"MAC005151\"],[\"MAC005259\"],[\"MAC005298\"],[\"MAC005330\"],[\"MAC005366\"],[\"MAC005444\"],[\"MAC005448\"],[\"MAC000492\"],[\"MAC001697\"],[\"MAC001865\"],[\"MAC002197\"],[\"MAC002468\"],[\"MAC002540\"],[\"MAC002565\"],[\"MAC002796\"],[\"MAC003176\"],[\"MAC003440\"],[\"MAC003454\"],[\"MAC003501\"],[\"MAC003547\"],[\"MAC003601\"],[\"MAC003774\"],[\"MAC003799\"],[\"MAC003803\"],[\"MAC003864\"],[\"MAC003881\"],[\"MAC003892\"],[\"MAC003915\"],[\"MAC004344\"],[\"MAC004397\"],[\"MAC004960\"],[\"MAC000020\"],[\"MAC000027\"],[\"MAC000071\"],[\"MAC000083\"],[\"MAC000108\"],[\"MAC000520\"],[\"MAC000885\"],[\"MAC001250\"],[\"MAC001531\"],[\"MAC001559\"],[\"MAC001568\"],[\"MAC001814\"],[\"MAC003151\"],[\"MAC003180\"],[\"MAC003200\"],[\"MAC003213\"],[\"MAC003214\"],[\"MAC003245\"],[\"MAC003269\"],[\"MAC003285\"],[\"MAC003309\"],[\"MAC003329\"],[\"MAC003337\"],[\"MAC003341\"],[\"MAC003344\"],[\"MAC003356\"],[\"MAC003361\"],[\"MAC003367\"],[\"MAC003371\"],[\"MAC003410\"],[\"MAC003446\"],[\"MAC003568\"],[\"MAC003661\"],[\"MAC003666\"],[\"MAC003739\"],[\"MAC003788\"],[\"MAC003791\"],[\"MAC003802\"],[\"MAC003846\"],[\"MAC003858\"],[\"MAC004120\"],[\"MAC004506\"],[\"MAC004596\"],[\"MAC004639\"],[\"MAC004897\"],[\"MAC004902\"],[\"MAC004903\"],[\"MAC004983\"],[\"MAC005247\"],[\"MAC005494\"],[\"MAC005522\"],[\"MAC000013\"],[\"MAC000019\"],[\"MAC000055\"],[\"MAC000081\"],[\"MAC000123\"],[\"MAC000130\"],[\"MAC000195\"],[\"MAC000202\"],[\"MAC000230\"],[\"MAC000255\"],[\"MAC000258\"],[\"MAC000281\"],[\"MAC000290\"],[\"MAC000343\"],[\"MAC000401\"],[\"MAC000440\"],[\"MAC000566\"],[\"MAC000623\"],[\"MAC000664\"],[\"MAC000687\"],[\"MAC000720\"],[\"MAC000761\"],[\"MAC000802\"],[\"MAC000827\"],[\"MAC000832\"],[\"MAC000842\"],[\"MAC000852\"],[\"MAC000872\"],[\"MAC001415\"],[\"MAC001486\"],[\"MAC001578\"],[\"MAC001888\"],[\"MAC001923\"],[\"MAC002085\"],[\"MAC002111\"],[\"MAC002194\"],[\"MAC002262\"],[\"MAC002291\"],[\"MAC002295\"],[\"MAC002782\"],[\"MAC002848\"],[\"MAC002996\"],[\"MAC003015\"],[\"MAC003048\"],[\"MAC003076\"],[\"MAC003144\"],[\"MAC003162\"],[\"MAC003764\"],[\"MAC003841\"],[\"MAC003861\"],[\"MAC003990\"],[\"MAC004141\"],[\"MAC004240\"],[\"MAC004241\"],[\"MAC004508\"],[\"MAC004603\"],[\"MAC004692\"],[\"MAC004696\"],[\"MAC004719\"],[\"MAC004724\"],[\"MAC004742\"],[\"MAC004787\"],[\"MAC004853\"],[\"MAC004878\"],[\"MAC005016\"],[\"MAC005168\"],[\"MAC005518\"],[\"MAC005530\"],[\"MAC000009\"],[\"MAC000014\"],[\"MAC000038\"],[\"MAC000065\"],[\"MAC000068\"],[\"MAC000101\"],[\"MAC000106\"],[\"MAC000115\"],[\"MAC000117\"],[\"MAC000127\"],[\"MAC000146\"],[\"MAC000187\"],[\"MAC000199\"],[\"MAC000245\"],[\"MAC000256\"],[\"MAC000303\"],[\"MAC000354\"],[\"MAC000373\"],[\"MAC000390\"],[\"MAC000395\"],[\"MAC000428\"],[\"MAC000436\"],[\"MAC000484\"],[\"MAC000490\"],[\"MAC000548\"],[\"MAC000568\"],[\"MAC000629\"],[\"MAC000670\"],[\"MAC000680\"],[\"MAC000724\"],[\"MAC000731\"],[\"MAC000779\"],[\"MAC000792\"],[\"MAC000893\"],[\"MAC001113\"],[\"MAC001159\"],[\"MAC001307\"],[\"MAC001323\"],[\"MAC001341\"],[\"MAC001373\"],[\"MAC001440\"],[\"MAC001464\"],[\"MAC001668\"],[\"MAC001761\"],[\"MAC001925\"],[\"MAC001942\"],[\"MAC002013\"],[\"MAC002038\"],[\"MAC002079\"],[\"MAC002151\"],[\"MAC002212\"],[\"MAC002342\"],[\"MAC002367\"],[\"MAC002377\"],[\"MAC002398\"],[\"MAC002722\"],[\"MAC002823\"],[\"MAC003049\"],[\"MAC003089\"],[\"MAC003090\"],[\"MAC003127\"],[\"MAC003172\"],[\"MAC003175\"],[\"MAC003178\"],[\"MAC003181\"],[\"MAC003191\"],[\"MAC003192\"],[\"MAC003193\"],[\"MAC003224\"],[\"MAC003242\"],[\"MAC003253\"],[\"MAC003254\"],[\"MAC003258\"],[\"MAC003263\"],[\"MAC003267\"],[\"MAC003270\"],[\"MAC003277\"],[\"MAC003289\"],[\"MAC003297\"],[\"MAC003300\"],[\"MAC003310\"],[\"MAC003311\"],[\"MAC003315\"],[\"MAC003325\"],[\"MAC003326\"],[\"MAC003338\"],[\"MAC003350\"],[\"MAC003380\"],[\"MAC003398\"],[\"MAC003424\"],[\"MAC003435\"],[\"MAC003455\"],[\"MAC003459\"],[\"MAC003472\"],[\"MAC003476\"],[\"MAC003491\"],[\"MAC003505\"],[\"MAC003508\"],[\"MAC003510\"],[\"MAC003520\"],[\"MAC003525\"],[\"MAC003526\"],[\"MAC003533\"],[\"MAC003535\"],[\"MAC003537\"],[\"MAC003539\"],[\"MAC003541\"],[\"MAC003555\"],[\"MAC003564\"],[\"MAC003565\"],[\"MAC003574\"],[\"MAC003576\"],[\"MAC003577\"],[\"MAC003593\"],[\"MAC003598\"],[\"MAC003604\"],[\"MAC003609\"],[\"MAC003612\"],[\"MAC003623\"],[\"MAC003640\"],[\"MAC003641\"],[\"MAC003644\"],[\"MAC003660\"],[\"MAC003667\"],[\"MAC003669\"],[\"MAC003674\"],[\"MAC003675\"],[\"MAC003703\"],[\"MAC003705\"],[\"MAC003726\"],[\"MAC003728\"],[\"MAC003738\"],[\"MAC003757\"],[\"MAC003765\"],[\"MAC003773\"],[\"MAC003783\"],[\"MAC003785\"],[\"MAC003793\"],[\"MAC003816\"],[\"MAC003821\"],[\"MAC003836\"],[\"MAC003838\"],[\"MAC003848\"],[\"MAC003862\"],[\"MAC003890\"],[\"MAC003894\"],[\"MAC003909\"],[\"MAC003919\"],[\"MAC003922\"],[\"MAC004033\"],[\"MAC004113\"],[\"MAC004169\"],[\"MAC004224\"],[\"MAC004234\"],[\"MAC004490\"],[\"MAC004497\"],[\"MAC004505\"],[\"MAC004507\"],[\"MAC004566\"],[\"MAC004576\"],[\"MAC004589\"],[\"MAC004626\"],[\"MAC004721\"],[\"MAC004761\"],[\"MAC004793\"],[\"MAC004847\"],[\"MAC004947\"],[\"MAC005023\"],[\"MAC005193\"],[\"MAC005338\"],[\"MAC005357\"],[\"MAC005371\"],[\"MAC005432\"],[\"MAC005548\"],[\"MAC000114\"],[\"MAC000142\"],[\"MAC000674\"],[\"MAC001388\"],[\"MAC001392\"],[\"MAC001476\"],[\"MAC001947\"],[\"MAC002178\"],[\"MAC002288\"],[\"MAC002760\"],[\"MAC002913\"],[\"MAC002985\"],[\"MAC002991\"],[\"MAC003104\"],[\"MAC003139\"],[\"MAC003143\"],[\"MAC003185\"],[\"MAC003199\"],[\"MAC003226\"],[\"MAC003251\"],[\"MAC003280\"],[\"MAC003360\"],[\"MAC003377\"],[\"MAC003386\"],[\"MAC003401\"],[\"MAC003458\"],[\"MAC003471\"],[\"MAC003498\"],[\"MAC003518\"],[\"MAC003523\"],[\"MAC003543\"],[\"MAC003545\"],[\"MAC003560\"],[\"MAC003563\"],[\"MAC003575\"],[\"MAC003618\"],[\"MAC003620\"],[\"MAC003622\"],[\"MAC003624\"],[\"MAC003673\"],[\"MAC003769\"],[\"MAC003786\"],[\"MAC003829\"],[\"MAC003869\"],[\"MAC004043\"],[\"MAC004372\"],[\"MAC004524\"],[\"MAC004776\"],[\"MAC005303\"],[\"MAC005312\"],[\"MAC005434\"],[\"MAC005472\"],[\"MAC005501\"],[\"MAC000011\"],[\"MAC000046\"],[\"MAC000067\"],[\"MAC000100\"],[\"MAC000107\"],[\"MAC000581\"],[\"MAC000818\"],[\"MAC000913\"],[\"MAC001205\"],[\"MAC001212\"],[\"MAC001273\"],[\"MAC001326\"],[\"MAC001435\"],[\"MAC001480\"],[\"MAC001485\"],[\"MAC001607\"],[\"MAC002076\"],[\"MAC002369\"],[\"MAC002488\"],[\"MAC002785\"],[\"MAC002954\"],[\"MAC003112\"],[\"MAC003205\"],[\"MAC003209\"],[\"MAC003227\"],[\"MAC003232\"],[\"MAC003243\"],[\"MAC003381\"],[\"MAC003397\"],[\"MAC003412\"],[\"MAC003420\"],[\"MAC003437\"],[\"MAC003467\"],[\"MAC003513\"],[\"MAC003544\"],[\"MAC003588\"],[\"MAC003628\"],[\"MAC003647\"],[\"MAC003651\"],[\"MAC003671\"],[\"MAC003704\"],[\"MAC003781\"],[\"MAC003798\"],[\"MAC003824\"],[\"MAC003835\"],[\"MAC003837\"],[\"MAC003850\"],[\"MAC003923\"],[\"MAC003927\"],[\"MAC003976\"],[\"MAC004103\"],[\"MAC004164\"],[\"MAC004200\"],[\"MAC004256\"],[\"MAC004265\"],[\"MAC004630\"],[\"MAC004662\"],[\"MAC004952\"],[\"MAC005085\"],[\"MAC005409\"],[\"MAC005461\"],[\"MAC000213\"],[\"MAC000266\"],[\"MAC000363\"],[\"MAC000474\"],[\"MAC001468\"],[\"MAC002103\"],[\"MAC002208\"],[\"MAC002406\"],[\"MAC002516\"],[\"MAC002547\"],[\"MAC002910\"],[\"MAC003136\"],[\"MAC003296\"],[\"MAC003301\"],[\"MAC003462\"],[\"MAC003631\"],[\"MAC003632\"],[\"MAC003636\"],[\"MAC003654\"],[\"MAC003691\"],[\"MAC003730\"],[\"MAC003742\"],[\"MAC003744\"],[\"MAC003756\"],[\"MAC003772\"],[\"MAC003779\"],[\"MAC003883\"],[\"MAC003929\"],[\"MAC003988\"],[\"MAC004011\"],[\"MAC004017\"],[\"MAC004021\"],[\"MAC004329\"],[\"MAC004376\"],[\"MAC004873\"],[\"MAC000003\"],[\"MAC000283\"],[\"MAC000350\"],[\"MAC000481\"],[\"MAC000555\"],[\"MAC000565\"],[\"MAC000869\"],[\"MAC001254\"],[\"MAC002579\"],[\"MAC002580\"],[\"MAC002902\"],[\"MAC002979\"],[\"MAC003616\"],[\"MAC003700\"],[\"MAC003886\"],[\"MAC003948\"],[\"MAC003995\"],[\"MAC004001\"],[\"MAC004008\"],[\"MAC004547\"],[\"MAC004550\"],[\"MAC004620\"],[\"MAC004951\"],[\"MAC005340\"],[\"MAC005397\"],[\"MAC005473\"],[\"MAC000022\"],[\"MAC000031\"],[\"MAC000047\"],[\"MAC000054\"],[\"MAC000077\"],[\"MAC000088\"],[\"MAC000090\"],[\"MAC000102\"],[\"MAC000104\"],[\"MAC000133\"],[\"MAC000135\"],[\"MAC000136\"],[\"MAC000162\"],[\"MAC000166\"],[\"MAC000174\"],[\"MAC000178\"],[\"MAC000204\"],[\"MAC000207\"],[\"MAC000216\"],[\"MAC000223\"],[\"MAC000227\"],[\"MAC000236\"],[\"MAC000249\"],[\"MAC000285\"],[\"MAC000292\"],[\"MAC000293\"],[\"MAC000305\"],[\"MAC000313\"],[\"MAC000318\"],[\"MAC000329\"],[\"MAC000333\"],[\"MAC000334\"],[\"MAC000362\"],[\"MAC000364\"],[\"MAC000365\"],[\"MAC000385\"],[\"MAC000391\"],[\"MAC000392\"],[\"MAC000402\"],[\"MAC000417\"],[\"MAC000423\"],[\"MAC000425\"],[\"MAC000434\"],[\"MAC000435\"],[\"MAC000449\"],[\"MAC000457\"],[\"MAC000460\"],[\"MAC000471\"],[\"MAC000472\"],[\"MAC000486\"],[\"MAC000507\"],[\"MAC000511\"],[\"MAC000513\"],[\"MAC000527\"],[\"MAC000529\"],[\"MAC000543\"],[\"MAC000560\"],[\"MAC000575\"],[\"MAC000576\"],[\"MAC000579\"],[\"MAC000627\"],[\"MAC000635\"],[\"MAC000657\"],[\"MAC000771\"],[\"MAC000781\"],[\"MAC000810\"],[\"MAC000836\"],[\"MAC000949\"],[\"MAC001047\"],[\"MAC001067\"],[\"MAC001089\"],[\"MAC001100\"],[\"MAC001102\"],[\"MAC001131\"],[\"MAC001275\"],[\"MAC001342\"],[\"MAC001351\"],[\"MAC001394\"],[\"MAC001398\"],[\"MAC001421\"],[\"MAC001439\"],[\"MAC001455\"],[\"MAC001503\"],[\"MAC001527\"],[\"MAC001540\"],[\"MAC001545\"],[\"MAC001554\"],[\"MAC001557\"],[\"MAC001620\"],[\"MAC001640\"],[\"MAC001672\"],[\"MAC001715\"],[\"MAC001744\"],[\"MAC001751\"],[\"MAC001837\"],[\"MAC001876\"],[\"MAC001899\"],[\"MAC001907\"],[\"MAC002001\"],[\"MAC002009\"],[\"MAC002033\"],[\"MAC002045\"],[\"MAC002054\"],[\"MAC002055\"],[\"MAC002077\"],[\"MAC002094\"],[\"MAC002107\"],[\"MAC002108\"],[\"MAC002116\"],[\"MAC002117\"],[\"MAC002118\"],[\"MAC002119\"],[\"MAC002129\"],[\"MAC002139\"],[\"MAC002159\"],[\"MAC002161\"],[\"MAC002168\"],[\"MAC002173\"],[\"MAC002185\"],[\"MAC002191\"],[\"MAC002196\"],[\"MAC002209\"],[\"MAC002237\"],[\"MAC002248\"],[\"MAC002276\"],[\"MAC002305\"],[\"MAC002352\"],[\"MAC002353\"],[\"MAC002445\"],[\"MAC002511\"],[\"MAC002523\"],[\"MAC002531\"],[\"MAC002537\"],[\"MAC002551\"],[\"MAC002559\"],[\"MAC002569\"],[\"MAC002576\"],[\"MAC002600\"],[\"MAC002659\"],[\"MAC002665\"],[\"MAC002678\"],[\"MAC002775\"],[\"MAC002824\"],[\"MAC002878\"],[\"MAC002899\"],[\"MAC002906\"],[\"MAC002950\"],[\"MAC002969\"],[\"MAC002988\"],[\"MAC002993\"],[\"MAC003003\"],[\"MAC003021\"],[\"MAC003032\"],[\"MAC003038\"],[\"MAC003040\"],[\"MAC003047\"],[\"MAC003064\"],[\"MAC003088\"],[\"MAC003099\"],[\"MAC003108\"],[\"MAC003134\"],[\"MAC003168\"],[\"MAC003522\"],[\"MAC003538\"],[\"MAC003546\"],[\"MAC003586\"],[\"MAC003594\"],[\"MAC003657\"],[\"MAC003676\"],[\"MAC003693\"],[\"MAC003741\"],[\"MAC003767\"],[\"MAC003849\"],[\"MAC003853\"],[\"MAC003885\"],[\"MAC003955\"],[\"MAC003964\"],[\"MAC003978\"],[\"MAC003996\"],[\"MAC004004\"],[\"MAC004005\"],[\"MAC004019\"],[\"MAC004044\"],[\"MAC004052\"],[\"MAC004056\"],[\"MAC004065\"],[\"MAC004066\"],[\"MAC004078\"],[\"MAC004079\"],[\"MAC004089\"],[\"MAC004104\"],[\"MAC004123\"],[\"MAC004129\"],[\"MAC004180\"],[\"MAC004182\"],[\"MAC004232\"],[\"MAC004236\"],[\"MAC004268\"],[\"MAC004281\"],[\"MAC004331\"],[\"MAC004333\"],[\"MAC004335\"],[\"MAC004350\"],[\"MAC004357\"],[\"MAC004358\"],[\"MAC004366\"],[\"MAC004381\"],[\"MAC004382\"],[\"MAC004384\"],[\"MAC004395\"],[\"MAC004403\"],[\"MAC004405\"],[\"MAC004419\"],[\"MAC004427\"],[\"MAC004435\"],[\"MAC004442\"],[\"MAC004459\"],[\"MAC004461\"],[\"MAC004462\"],[\"MAC004465\"],[\"MAC004469\"],[\"MAC004489\"],[\"MAC004495\"],[\"MAC004503\"],[\"MAC004514\"],[\"MAC004533\"],[\"MAC004540\"],[\"MAC004541\"],[\"MAC004558\"],[\"MAC004563\"],[\"MAC004568\"],[\"MAC004569\"],[\"MAC004575\"],[\"MAC004577\"],[\"MAC004583\"],[\"MAC004597\"],[\"MAC004599\"],[\"MAC004615\"],[\"MAC004652\"],[\"MAC004659\"],[\"MAC004674\"],[\"MAC004693\"],[\"MAC004700\"],[\"MAC004715\"],[\"MAC004734\"],[\"MAC004744\"],[\"MAC004773\"],[\"MAC004799\"],[\"MAC004809\"],[\"MAC004818\"],[\"MAC004820\"],[\"MAC004860\"],[\"MAC004861\"],[\"MAC004866\"],[\"MAC004875\"],[\"MAC004883\"],[\"MAC004889\"],[\"MAC004892\"],[\"MAC004894\"],[\"MAC004898\"],[\"MAC004934\"],[\"MAC004941\"],[\"MAC004943\"],[\"MAC004946\"],[\"MAC004979\"],[\"MAC005000\"],[\"MAC005004\"],[\"MAC005019\"],[\"MAC005045\"],[\"MAC005104\"],[\"MAC005236\"],[\"MAC005237\"],[\"MAC005240\"],[\"MAC005258\"],[\"MAC005260\"],[\"MAC005265\"],[\"MAC005287\"],[\"MAC005288\"],[\"MAC005328\"],[\"MAC005332\"],[\"MAC005339\"],[\"MAC005364\"],[\"MAC005368\"],[\"MAC005389\"],[\"MAC005401\"],[\"MAC005414\"],[\"MAC005463\"],[\"MAC005516\"],[\"MAC005524\"],[\"MAC005527\"],[\"MAC005557\"],[\"MAC005567\"]],\"hovertemplate\":\"Acorn_Group=%{x}<br>KWH/hh=%{y}<br>LCLid=%{customdata[0]}<extra></extra>\",\"legendgroup\":\"\",\"marker\":{\"color\":\"#636efa\"},\"name\":\"\",\"notched\":false,\"offsetgroup\":\"\",\"orientation\":\"v\",\"showlegend\":false,\"x\":[\"A\",\"A\",\"A\",\"A\",\"A\",\"A\",\"A\",\"A\",\"A\",\"A\",\"A\",\"A\",\"A\",\"A\",\"A\",\"A\",\"A\",\"A\",\"A\",\"A\",\"A\",\"A\",\"A\",\"A\",\"A\",\"A\",\"A\",\"A\",\"A\",\"A\",\"A\",\"A\",\"A\",\"A\",\"A\",\"A\",\"A\",\"A\",\"A\",\"A\",\"A\",\"A\",\"A\",\"A\",\"A\",\"A\",\"A\",\"A\",\"A\",\"A\",\"A\",\"A\",\"A\",\"A\",\"A\",\"A\",\"A\",\"A\",\"A\",\"A\",\"A\",\"A\",\"A\",\"A\",\"A\",\"A\",\"A\",\"A\",\"A\",\"A\",\"A\",\"A\",\"A\",\"A\",\"A\",\"A\",\"A\",\"A\",\"A\",\"A\",\"A\",\"B\",\"B\",\"B\",\"B\",\"B\",\"B\",\"B\",\"B\",\"B\",\"C\",\"C\",\"C\",\"C\",\"C\",\"C\",\"C\",\"C\",\"C\",\"C\",\"C\",\"C\",\"C\",\"C\",\"C\",\"C\",\"C\",\"C\",\"C\",\"C\",\"C\",\"C\",\"C\",\"C\",\"C\",\"C\",\"C\",\"C\",\"C\",\"C\",\"C\",\"C\",\"C\",\"C\",\"C\",\"C\",\"C\",\"C\",\"C\",\"C\",\"C\",\"C\",\"C\",\"C\",\"C\",\"C\",\"C\",\"C\",\"C\",\"C\",\"C\",\"C\",\"C\",\"C\",\"C\",\"C\",\"C\",\"C\",\"C\",\"C\",\"C\",\"C\",\"C\",\"C\",\"C\",\"C\",\"C\",\"C\",\"C\",\"C\",\"C\",\"C\",\"C\",\"C\",\"C\",\"C\",\"C\",\"C\",\"C\",\"C\",\"C\",\"C\",\"D\",\"D\",\"D\",\"D\",\"D\",\"D\",\"D\",\"D\",\"D\",\"D\",\"D\",\"D\",\"D\",\"D\",\"D\",\"D\",\"D\",\"D\",\"D\",\"D\",\"D\",\"D\",\"D\",\"D\",\"D\",\"D\",\"D\",\"D\",\"D\",\"D\",\"D\",\"D\",\"D\",\"D\",\"D\",\"D\",\"D\",\"D\",\"D\",\"D\",\"D\",\"D\",\"D\",\"D\",\"D\",\"D\",\"D\",\"D\",\"D\",\"D\",\"D\",\"D\",\"D\",\"D\",\"D\",\"D\",\"D\",\"D\",\"D\",\"D\",\"D\",\"D\",\"D\",\"D\",\"D\",\"D\",\"D\",\"D\",\"D\",\"D\",\"D\",\"D\",\"D\",\"D\",\"D\",\"D\",\"D\",\"D\",\"D\",\"D\",\"D\",\"D\",\"D\",\"D\",\"D\",\"D\",\"D\",\"D\",\"D\",\"D\",\"D\",\"D\",\"D\",\"D\",\"D\",\"D\",\"D\",\"D\",\"D\",\"D\",\"D\",\"D\",\"D\",\"D\",\"D\",\"D\",\"D\",\"D\",\"D\",\"D\",\"D\",\"D\",\"D\",\"D\",\"D\",\"D\",\"D\",\"D\",\"D\",\"D\",\"D\",\"D\",\"D\",\"D\",\"D\",\"D\",\"D\",\"D\",\"D\",\"D\",\"D\",\"D\",\"E\",\"E\",\"E\",\"E\",\"E\",\"E\",\"E\",\"E\",\"E\",\"E\",\"E\",\"E\",\"E\",\"E\",\"E\",\"E\",\"E\",\"E\",\"E\",\"E\",\"E\",\"E\",\"E\",\"E\",\"E\",\"E\",\"E\",\"E\",\"E\",\"E\",\"E\",\"E\",\"E\",\"E\",\"E\",\"E\",\"E\",\"E\",\"E\",\"E\",\"E\",\"E\",\"E\",\"E\",\"E\",\"E\",\"E\",\"E\",\"E\",\"E\",\"E\",\"E\",\"E\",\"E\",\"E\",\"E\",\"E\",\"E\",\"E\",\"E\",\"E\",\"E\",\"E\",\"E\",\"E\",\"E\",\"E\",\"E\",\"E\",\"E\",\"E\",\"E\",\"E\",\"E\",\"E\",\"E\",\"E\",\"E\",\"E\",\"E\",\"E\",\"E\",\"E\",\"E\",\"E\",\"E\",\"E\",\"E\",\"E\",\"E\",\"E\",\"E\",\"E\",\"E\",\"E\",\"E\",\"E\",\"E\",\"E\",\"E\",\"E\",\"E\",\"E\",\"E\",\"E\",\"E\",\"E\",\"E\",\"E\",\"E\",\"E\",\"E\",\"E\",\"E\",\"E\",\"E\",\"E\",\"E\",\"E\",\"E\",\"E\",\"E\",\"E\",\"E\",\"E\",\"E\",\"E\",\"E\",\"E\",\"E\",\"E\",\"E\",\"E\",\"E\",\"E\",\"E\",\"E\",\"E\",\"E\",\"E\",\"E\",\"E\",\"E\",\"E\",\"E\",\"E\",\"E\",\"E\",\"E\",\"E\",\"E\",\"E\",\"E\",\"E\",\"E\",\"E\",\"E\",\"E\",\"E\",\"E\",\"E\",\"E\",\"E\",\"E\",\"E\",\"E\",\"E\",\"E\",\"E\",\"E\",\"E\",\"E\",\"E\",\"E\",\"E\",\"E\",\"E\",\"E\",\"E\",\"E\",\"E\",\"E\",\"E\",\"E\",\"E\",\"E\",\"E\",\"E\",\"E\",\"E\",\"E\",\"E\",\"E\",\"E\",\"E\",\"E\",\"E\",\"E\",\"E\",\"E\",\"E\",\"E\",\"E\",\"E\",\"E\",\"E\",\"E\",\"E\",\"E\",\"E\",\"E\",\"E\",\"E\",\"E\",\"E\",\"E\",\"E\",\"E\",\"E\",\"E\",\"E\",\"E\",\"E\",\"E\",\"E\",\"E\",\"E\",\"E\",\"E\",\"E\",\"E\",\"E\",\"E\",\"E\",\"E\",\"E\",\"E\",\"E\",\"E\",\"E\",\"E\",\"E\",\"E\",\"E\",\"E\",\"E\",\"E\",\"E\",\"E\",\"E\",\"E\",\"E\",\"E\",\"E\",\"E\",\"E\",\"E\",\"E\",\"E\",\"E\",\"E\",\"E\",\"E\",\"E\",\"E\",\"E\",\"E\",\"E\",\"E\",\"E\",\"E\",\"E\",\"E\",\"E\",\"E\",\"E\",\"E\",\"E\",\"E\",\"E\",\"E\",\"E\",\"E\",\"E\",\"E\",\"E\",\"E\",\"E\",\"E\",\"E\",\"E\",\"E\",\"E\",\"E\",\"E\",\"E\",\"E\",\"E\",\"E\",\"E\",\"E\",\"E\",\"E\",\"E\",\"E\",\"E\",\"E\",\"E\",\"E\",\"E\",\"E\",\"E\",\"E\",\"E\",\"E\",\"E\",\"E\",\"E\",\"E\",\"E\",\"E\",\"E\",\"E\",\"E\",\"E\",\"E\",\"E\",\"E\",\"E\",\"E\",\"E\",\"E\",\"E\",\"E\",\"E\",\"E\",\"E\",\"E\",\"E\",\"E\",\"E\",\"E\",\"E\",\"E\",\"E\",\"E\",\"E\",\"E\",\"E\",\"E\",\"E\",\"E\",\"E\",\"E\",\"E\",\"E\",\"E\",\"E\",\"E\",\"E\",\"E\",\"E\",\"E\",\"E\",\"E\",\"E\",\"E\",\"E\",\"E\",\"E\",\"E\",\"E\",\"E\",\"E\",\"E\",\"E\",\"E\",\"E\",\"E\",\"E\",\"E\",\"E\",\"E\",\"E\",\"E\",\"E\",\"E\",\"E\",\"E\",\"E\",\"E\",\"E\",\"E\",\"E\",\"E\",\"E\",\"E\",\"E\",\"E\",\"E\",\"E\",\"E\",\"E\",\"E\",\"E\",\"E\",\"E\",\"E\",\"E\",\"E\",\"E\",\"E\",\"E\",\"E\",\"E\",\"E\",\"E\",\"E\",\"E\",\"E\",\"E\",\"E\",\"E\",\"E\",\"E\",\"E\",\"E\",\"E\",\"E\",\"E\",\"E\",\"E\",\"E\",\"E\",\"E\",\"E\",\"E\",\"E\",\"E\",\"E\",\"E\",\"E\",\"E\",\"E\",\"E\",\"E\",\"E\",\"E\",\"E\",\"E\",\"E\",\"E\",\"E\",\"E\",\"E\",\"E\",\"E\",\"E\",\"E\",\"E\",\"E\",\"E\",\"E\",\"E\",\"E\",\"E\",\"E\",\"E\",\"E\",\"E\",\"E\",\"E\",\"E\",\"E\",\"E\",\"E\",\"E\",\"E\",\"E\",\"E\",\"E\",\"E\",\"E\",\"E\",\"E\",\"E\",\"E\",\"E\",\"E\",\"E\",\"E\",\"E\",\"E\",\"E\",\"E\",\"E\",\"E\",\"E\",\"E\",\"E\",\"E\",\"E\",\"E\",\"E\",\"E\",\"E\",\"E\",\"E\",\"E\",\"E\",\"E\",\"E\",\"E\",\"E\",\"E\",\"E\",\"E\",\"E\",\"E\",\"E\",\"E\",\"E\",\"E\",\"E\",\"E\",\"E\",\"E\",\"E\",\"E\",\"E\",\"E\",\"E\",\"E\",\"E\",\"E\",\"E\",\"E\",\"E\",\"E\",\"E\",\"E\",\"E\",\"E\",\"E\",\"E\",\"E\",\"E\",\"E\",\"E\",\"E\",\"E\",\"E\",\"E\",\"E\",\"E\",\"E\",\"E\",\"E\",\"E\",\"E\",\"E\",\"E\",\"E\",\"E\",\"E\",\"E\",\"E\",\"E\",\"E\",\"E\",\"E\",\"E\",\"E\",\"E\",\"E\",\"E\",\"E\",\"E\",\"E\",\"E\",\"E\",\"E\",\"E\",\"E\",\"E\",\"E\",\"E\",\"E\",\"E\",\"E\",\"E\",\"E\",\"E\",\"E\",\"E\",\"E\",\"E\",\"E\",\"E\",\"E\",\"E\",\"E\",\"E\",\"E\",\"E\",\"E\",\"E\",\"E\",\"E\",\"E\",\"E\",\"E\",\"E\",\"E\",\"E\",\"E\",\"E\",\"E\",\"E\",\"E\",\"E\",\"E\",\"E\",\"E\",\"E\",\"E\",\"E\",\"E\",\"E\",\"E\",\"E\",\"E\",\"E\",\"E\",\"E\",\"E\",\"E\",\"E\",\"E\",\"E\",\"E\",\"E\",\"E\",\"E\",\"E\",\"E\",\"E\",\"E\",\"E\",\"E\",\"E\",\"E\",\"E\",\"E\",\"E\",\"E\",\"E\",\"E\",\"E\",\"E\",\"E\",\"E\",\"E\",\"E\",\"E\",\"E\",\"E\",\"E\",\"E\",\"E\",\"E\",\"E\",\"E\",\"E\",\"E\",\"E\",\"E\",\"E\",\"E\",\"E\",\"E\",\"E\",\"E\",\"E\",\"E\",\"E\",\"E\",\"E\",\"E\",\"E\",\"E\",\"E\",\"E\",\"E\",\"E\",\"E\",\"E\",\"E\",\"E\",\"E\",\"E\",\"E\",\"F\",\"F\",\"F\",\"F\",\"F\",\"F\",\"F\",\"F\",\"F\",\"F\",\"F\",\"F\",\"F\",\"F\",\"F\",\"F\",\"F\",\"F\",\"F\",\"F\",\"F\",\"F\",\"F\",\"F\",\"F\",\"F\",\"F\",\"F\",\"F\",\"F\",\"F\",\"F\",\"F\",\"F\",\"F\",\"F\",\"F\",\"F\",\"F\",\"F\",\"F\",\"F\",\"F\",\"F\",\"F\",\"F\",\"F\",\"F\",\"F\",\"F\",\"F\",\"F\",\"F\",\"F\",\"F\",\"F\",\"F\",\"F\",\"F\",\"F\",\"F\",\"F\",\"F\",\"F\",\"F\",\"F\",\"F\",\"F\",\"F\",\"F\",\"F\",\"F\",\"F\",\"F\",\"F\",\"F\",\"F\",\"F\",\"F\",\"F\",\"F\",\"F\",\"F\",\"F\",\"F\",\"F\",\"F\",\"F\",\"F\",\"F\",\"F\",\"F\",\"F\",\"F\",\"F\",\"F\",\"F\",\"F\",\"F\",\"F\",\"F\",\"F\",\"F\",\"F\",\"F\",\"F\",\"F\",\"F\",\"F\",\"F\",\"F\",\"F\",\"F\",\"F\",\"F\",\"F\",\"F\",\"F\",\"F\",\"F\",\"F\",\"F\",\"F\",\"F\",\"F\",\"F\",\"F\",\"F\",\"F\",\"F\",\"F\",\"F\",\"F\",\"F\",\"F\",\"F\",\"F\",\"F\",\"F\",\"F\",\"F\",\"F\",\"F\",\"F\",\"F\",\"F\",\"F\",\"F\",\"F\",\"F\",\"F\",\"F\",\"F\",\"F\",\"F\",\"F\",\"F\",\"F\",\"F\",\"F\",\"F\",\"F\",\"F\",\"F\",\"F\",\"F\",\"F\",\"F\",\"F\",\"F\",\"F\",\"F\",\"F\",\"F\",\"F\",\"F\",\"F\",\"F\",\"F\",\"F\",\"F\",\"F\",\"F\",\"F\",\"F\",\"F\",\"F\",\"F\",\"F\",\"F\",\"F\",\"F\",\"F\",\"F\",\"F\",\"F\",\"F\",\"F\",\"F\",\"F\",\"F\",\"F\",\"F\",\"F\",\"F\",\"F\",\"F\",\"F\",\"F\",\"F\",\"F\",\"F\",\"F\",\"F\",\"F\",\"F\",\"F\",\"F\",\"F\",\"F\",\"F\",\"F\",\"F\",\"F\",\"F\",\"F\",\"F\",\"F\",\"F\",\"F\",\"F\",\"F\",\"F\",\"F\",\"F\",\"F\",\"F\",\"F\",\"F\",\"F\",\"F\",\"F\",\"F\",\"F\",\"F\",\"F\",\"F\",\"F\",\"F\",\"F\",\"F\",\"F\",\"F\",\"F\",\"F\",\"F\",\"F\",\"F\",\"F\",\"F\",\"F\",\"F\",\"F\",\"F\",\"F\",\"F\",\"F\",\"F\",\"F\",\"F\",\"F\",\"F\",\"F\",\"F\",\"F\",\"F\",\"F\",\"F\",\"F\",\"F\",\"F\",\"F\",\"F\",\"F\",\"F\",\"F\",\"F\",\"F\",\"F\",\"F\",\"F\",\"F\",\"H\",\"H\",\"H\",\"H\",\"H\",\"H\",\"H\",\"H\",\"H\",\"H\",\"H\",\"H\",\"H\",\"H\",\"H\",\"H\",\"H\",\"H\",\"H\",\"H\",\"H\",\"H\",\"H\",\"H\",\"H\",\"H\",\"H\",\"H\",\"H\",\"H\",\"H\",\"H\",\"H\",\"H\",\"H\",\"H\",\"H\",\"H\",\"H\",\"H\",\"H\",\"H\",\"H\",\"H\",\"H\",\"H\",\"H\",\"H\",\"H\",\"H\",\"H\",\"H\",\"H\",\"H\",\"H\",\"H\",\"H\",\"H\",\"H\",\"H\",\"H\",\"H\",\"H\",\"H\",\"H\",\"H\",\"H\",\"H\",\"H\",\"H\",\"H\",\"H\",\"H\",\"H\",\"H\",\"H\",\"H\",\"H\",\"H\",\"H\",\"H\",\"H\",\"H\",\"H\",\"H\",\"H\",\"H\",\"H\",\"H\",\"H\",\"H\",\"H\",\"H\",\"H\",\"H\",\"H\",\"H\",\"H\",\"H\",\"H\",\"H\",\"H\",\"H\",\"H\",\"H\",\"H\",\"H\",\"H\",\"H\",\"H\",\"H\",\"H\",\"H\",\"H\",\"H\",\"H\",\"H\",\"H\",\"H\",\"H\",\"H\",\"H\",\"H\",\"H\",\"H\",\"H\",\"H\",\"H\",\"H\",\"H\",\"H\",\"H\",\"H\",\"H\",\"H\",\"H\",\"H\",\"H\",\"H\",\"H\",\"H\",\"H\",\"H\",\"H\",\"H\",\"H\",\"H\",\"H\",\"H\",\"H\",\"H\",\"H\",\"H\",\"H\",\"H\",\"H\",\"H\",\"H\",\"H\",\"H\",\"H\",\"H\",\"H\",\"H\",\"H\",\"H\",\"H\",\"H\",\"H\",\"H\",\"H\",\"H\",\"H\",\"H\",\"H\",\"H\",\"H\",\"H\",\"H\",\"H\",\"H\",\"H\",\"H\",\"H\",\"H\",\"H\",\"H\",\"H\",\"H\",\"H\",\"H\",\"H\",\"H\",\"H\",\"H\",\"H\",\"H\",\"H\",\"H\",\"H\",\"H\",\"H\",\"H\",\"H\",\"H\",\"H\",\"H\",\"H\",\"H\",\"H\",\"H\",\"H\",\"H\",\"H\",\"H\",\"H\",\"H\",\"H\",\"H\",\"H\",\"H\",\"H\",\"H\",\"H\",\"H\",\"H\",\"H\",\"H\",\"H\",\"H\",\"H\",\"H\",\"H\",\"H\",\"H\",\"H\",\"H\",\"I\",\"I\",\"I\",\"I\",\"I\",\"I\",\"I\",\"I\",\"I\",\"I\",\"I\",\"I\",\"I\",\"I\",\"I\",\"I\",\"I\",\"I\",\"I\",\"I\",\"I\",\"I\",\"I\",\"I\",\"J\",\"J\",\"J\",\"J\",\"J\",\"J\",\"J\",\"J\",\"J\",\"J\",\"J\",\"J\",\"J\",\"J\",\"J\",\"J\",\"J\",\"J\",\"J\",\"J\",\"J\",\"J\",\"J\",\"J\",\"J\",\"J\",\"J\",\"J\",\"J\",\"J\",\"J\",\"J\",\"J\",\"J\",\"J\",\"J\",\"J\",\"J\",\"J\",\"J\",\"J\",\"J\",\"J\",\"J\",\"J\",\"J\",\"J\",\"J\",\"J\",\"J\",\"J\",\"K\",\"K\",\"K\",\"K\",\"K\",\"K\",\"K\",\"K\",\"K\",\"K\",\"K\",\"K\",\"K\",\"K\",\"K\",\"K\",\"K\",\"K\",\"K\",\"K\",\"K\",\"K\",\"K\",\"K\",\"K\",\"K\",\"K\",\"K\",\"K\",\"K\",\"K\",\"K\",\"K\",\"K\",\"K\",\"K\",\"K\",\"K\",\"K\",\"K\",\"K\",\"K\",\"K\",\"K\",\"K\",\"K\",\"K\",\"K\",\"K\",\"K\",\"K\",\"K\",\"K\",\"K\",\"K\",\"K\",\"K\",\"K\",\"K\",\"K\",\"K\",\"K\",\"K\",\"K\",\"K\",\"K\",\"K\",\"K\",\"L\",\"L\",\"L\",\"L\",\"L\",\"L\",\"L\",\"L\",\"L\",\"L\",\"L\",\"L\",\"L\",\"L\",\"L\",\"L\",\"L\",\"L\",\"L\",\"L\",\"L\",\"L\",\"L\",\"L\",\"L\",\"L\",\"L\",\"L\",\"L\",\"L\",\"L\",\"L\",\"L\",\"L\",\"L\",\"L\",\"L\",\"L\",\"L\",\"L\",\"L\",\"L\",\"L\",\"L\",\"L\",\"L\",\"L\",\"L\",\"L\",\"L\",\"L\",\"L\",\"L\",\"L\",\"L\",\"L\",\"L\",\"L\",\"L\",\"L\",\"L\",\"L\",\"L\",\"L\",\"L\",\"L\",\"L\",\"L\",\"L\",\"L\",\"L\",\"L\",\"L\",\"L\",\"L\",\"L\",\"L\",\"L\",\"L\",\"L\",\"L\",\"L\",\"L\",\"L\",\"L\",\"L\",\"L\",\"L\",\"L\",\"L\",\"L\",\"L\",\"L\",\"L\",\"L\",\"L\",\"L\",\"L\",\"L\",\"L\",\"L\",\"L\",\"L\",\"L\",\"L\",\"L\",\"L\",\"L\",\"L\",\"L\",\"L\",\"L\",\"L\",\"L\",\"L\",\"L\",\"L\",\"L\",\"L\",\"L\",\"L\",\"L\",\"L\",\"L\",\"L\",\"L\",\"L\",\"L\",\"L\",\"L\",\"L\",\"L\",\"L\",\"L\",\"L\",\"L\",\"L\",\"L\",\"L\",\"L\",\"L\",\"L\",\"L\",\"L\",\"L\",\"L\",\"L\",\"L\",\"L\",\"L\",\"L\",\"L\",\"L\",\"L\",\"L\",\"L\",\"L\",\"L\",\"L\",\"L\",\"L\",\"L\",\"L\",\"L\",\"L\",\"L\",\"L\",\"L\",\"L\",\"L\",\"L\",\"L\",\"L\",\"L\",\"M\",\"M\",\"M\",\"M\",\"M\",\"M\",\"M\",\"M\",\"M\",\"M\",\"M\",\"M\",\"M\",\"M\",\"M\",\"M\",\"M\",\"M\",\"M\",\"M\",\"M\",\"M\",\"M\",\"M\",\"M\",\"M\",\"M\",\"M\",\"M\",\"M\",\"M\",\"M\",\"M\",\"M\",\"M\",\"M\",\"M\",\"M\",\"M\",\"M\",\"M\",\"M\",\"M\",\"M\",\"M\",\"M\",\"M\",\"M\",\"M\",\"M\",\"M\",\"M\",\"M\",\"N\",\"N\",\"N\",\"N\",\"N\",\"N\",\"N\",\"N\",\"N\",\"N\",\"N\",\"N\",\"N\",\"N\",\"N\",\"N\",\"N\",\"N\",\"N\",\"N\",\"N\",\"N\",\"N\",\"N\",\"N\",\"N\",\"N\",\"N\",\"N\",\"N\",\"N\",\"N\",\"N\",\"N\",\"N\",\"N\",\"N\",\"N\",\"N\",\"N\",\"N\",\"N\",\"N\",\"N\",\"N\",\"N\",\"N\",\"N\",\"N\",\"N\",\"N\",\"N\",\"N\",\"N\",\"N\",\"N\",\"N\",\"N\",\"N\",\"N\",\"N\",\"O\",\"O\",\"O\",\"O\",\"O\",\"O\",\"O\",\"O\",\"O\",\"O\",\"O\",\"O\",\"O\",\"O\",\"O\",\"O\",\"O\",\"O\",\"O\",\"O\",\"O\",\"O\",\"O\",\"O\",\"O\",\"O\",\"O\",\"O\",\"O\",\"O\",\"O\",\"O\",\"O\",\"O\",\"O\",\"P\",\"P\",\"P\",\"P\",\"P\",\"P\",\"P\",\"P\",\"P\",\"P\",\"P\",\"P\",\"P\",\"P\",\"P\",\"P\",\"P\",\"P\",\"P\",\"P\",\"P\",\"P\",\"P\",\"P\",\"P\",\"P\",\"Q\",\"Q\",\"Q\",\"Q\",\"Q\",\"Q\",\"Q\",\"Q\",\"Q\",\"Q\",\"Q\",\"Q\",\"Q\",\"Q\",\"Q\",\"Q\",\"Q\",\"Q\",\"Q\",\"Q\",\"Q\",\"Q\",\"Q\",\"Q\",\"Q\",\"Q\",\"Q\",\"Q\",\"Q\",\"Q\",\"Q\",\"Q\",\"Q\",\"Q\",\"Q\",\"Q\",\"Q\",\"Q\",\"Q\",\"Q\",\"Q\",\"Q\",\"Q\",\"Q\",\"Q\",\"Q\",\"Q\",\"Q\",\"Q\",\"Q\",\"Q\",\"Q\",\"Q\",\"Q\",\"Q\",\"Q\",\"Q\",\"Q\",\"Q\",\"Q\",\"Q\",\"Q\",\"Q\",\"Q\",\"Q\",\"Q\",\"Q\",\"Q\",\"Q\",\"Q\",\"Q\",\"Q\",\"Q\",\"Q\",\"Q\",\"Q\",\"Q\",\"Q\",\"Q\",\"Q\",\"Q\",\"Q\",\"Q\",\"Q\",\"Q\",\"Q\",\"Q\",\"Q\",\"Q\",\"Q\",\"Q\",\"Q\",\"Q\",\"Q\",\"Q\",\"Q\",\"Q\",\"Q\",\"Q\",\"Q\",\"Q\",\"Q\",\"Q\",\"Q\",\"Q\",\"Q\",\"Q\",\"Q\",\"Q\",\"Q\",\"Q\",\"Q\",\"Q\",\"Q\",\"Q\",\"Q\",\"Q\",\"Q\",\"Q\",\"Q\",\"Q\",\"Q\",\"Q\",\"Q\",\"Q\",\"Q\",\"Q\",\"Q\",\"Q\",\"Q\",\"Q\",\"Q\",\"Q\",\"Q\",\"Q\",\"Q\",\"Q\",\"Q\",\"Q\",\"Q\",\"Q\",\"Q\",\"Q\",\"Q\",\"Q\",\"Q\",\"Q\",\"Q\",\"Q\",\"Q\",\"Q\",\"Q\",\"Q\",\"Q\",\"Q\",\"Q\",\"Q\",\"Q\",\"Q\",\"Q\",\"Q\",\"Q\",\"Q\",\"Q\",\"Q\",\"Q\",\"Q\",\"Q\",\"Q\",\"Q\",\"Q\",\"Q\",\"Q\",\"Q\",\"Q\",\"Q\",\"Q\",\"Q\",\"Q\",\"Q\",\"Q\",\"Q\",\"Q\",\"Q\",\"Q\",\"Q\",\"Q\",\"Q\",\"Q\",\"Q\",\"Q\",\"Q\",\"Q\",\"Q\",\"Q\",\"Q\",\"Q\",\"Q\",\"Q\",\"Q\",\"Q\",\"Q\",\"Q\",\"Q\",\"Q\",\"Q\",\"Q\",\"Q\",\"Q\",\"Q\",\"Q\",\"Q\",\"Q\",\"Q\",\"Q\",\"Q\",\"Q\",\"Q\",\"Q\",\"Q\",\"Q\",\"Q\",\"Q\",\"Q\",\"Q\",\"Q\",\"Q\",\"Q\",\"Q\",\"Q\",\"Q\",\"Q\",\"Q\",\"Q\",\"Q\",\"Q\",\"Q\",\"Q\",\"Q\",\"Q\",\"Q\",\"Q\",\"Q\",\"Q\",\"Q\",\"Q\",\"Q\",\"Q\",\"Q\",\"Q\",\"Q\",\"Q\",\"Q\",\"Q\",\"Q\",\"Q\",\"Q\",\"Q\",\"Q\",\"Q\",\"Q\",\"Q\",\"Q\",\"Q\",\"Q\",\"Q\",\"Q\",\"Q\",\"Q\",\"Q\",\"Q\",\"Q\",\"Q\",\"Q\",\"Q\",\"Q\",\"Q\",\"Q\",\"Q\",\"Q\",\"Q\",\"Q\",\"Q\",\"Q\",\"Q\",\"Q\",\"Q\",\"Q\",\"Q\",\"Q\",\"Q\",\"Q\"],\"x0\":\" \",\"xaxis\":\"x\",\"y\":[0.23755278057071136,0.5557892983026946,0.5012557308897151,0.34188295562896814,0.2680307374376857,0.3509564265824075,0.3264582709682064,0.6922800939915048,0.11618833697127012,0.23560130970767826,0.14472739132981308,0.24148877557964563,0.13242089458554895,0.36968784625644613,0.6681347016203476,0.12190182893356642,0.2828148684542055,0.2236001019489796,0.1911523705736963,0.24511675835480054,0.9692578601590881,0.2993627009292081,0.5381476847995854,0.34771577572084716,0.16507060740563326,0.44867436120740245,0.3296757054272426,0.4002075219269889,0.15808619598041537,1.1040715558831677,0.1956828580784812,0.2792082952479421,0.32886618197651196,0.6025874186790631,0.2547008938833857,0.5464911286032569,0.21826368144979738,0.2746452675638315,0.3608659058096568,0.20815804533837662,0.22881945700123407,0.3647339085380455,0.6905727556693368,0.5953342848266733,0.22249600727791802,0.7715128377387541,0.22023906856403622,0.3391242128425443,0.28506532917032396,0.21064859324652485,0.21498304093212178,0.6215505503653685,0.2660374857528811,0.5645616634452184,0.221344427950941,0.22574267943889642,0.28075532951896587,0.2907361759959229,0.3730554039072991,0.2334507877657555,0.5801348642304623,2.111239230527941,1.0201210303693393,0.5414855183386861,0.08982759426093052,0.10162349484287812,0.1603351838767691,0.42857849613710414,0.2291520031293227,0.13937457631902575,0.27288718437591075,0.5075056309650825,0.2068919388922107,0.22975015010914052,0.4784809820247835,0.3077096064492176,0.35028378788583026,0.235253472779866,0.2650145339347366,1.4801239923872473,0.5015949272657165,0.20946149659312863,0.38890035290319996,0.1231277126867174,0.4336888690816161,0.14508408052782948,0.41789963474770647,0.6634563366158822,0.13540744326939996,0.2025556542589883,0.13302527760835084,0.6011210090421831,0.1058779193050593,0.15926160481879112,0.33349158255743283,0.09130568874315588,0.18962814051871474,0.1729370039021902,0.3317420778403095,0.5117458662231745,0.3514669848004903,0.13971798510432457,0.5017410453073385,0.1749727755112935,0.23141818603593053,0.268569441824489,0.13867656699783867,0.17309065550209204,0.24570560342759512,0.37109145753138073,0.24254780332635983,0.21158931626322794,0.36255097896204297,0.17608362680754092,0.3686401606682821,0.3870145009374671,0.22620632045169387,0.4273950272249795,0.4993471351078513,0.352376261107814,0.5015150322610111,0.16951364448857995,0.39433985782136294,0.18475663574112566,0.497173572529668,0.36014018195196285,0.43121084299462664,0.14489027519056405,0.10202759699525991,0.15613026883111664,0.33784408540477057,0.10476515861057946,0.13326837411539558,0.21129344323717816,0.37935732468385613,0.24997125700892306,0.1315270988789515,0.39231674310537423,0.49065435725936657,0.21578647406197654,0.17378602548173594,0.24923921798540025,0.23553798709569157,0.3811493012210986,0.26967776051957865,0.1508827129231029,0.2846137247334574,0.23000123393328226,0.6014922396554665,0.16606489927287507,0.22974591297104463,0.08521296200076206,0.10687599308047155,0.14773680682665424,0.08637200914848697,0.17965741558002937,0.3676643705829039,0.5664112524244079,0.22809940143117355,0.3457404539596192,0.19968385131247374,0.07650304410426872,0.38558464342980636,0.14169109289324067,0.16104221243957112,0.3280317009393866,0.19997838840559937,0.32670452364525254,0.3213333614778021,0.35042855392609346,0.22358072370118237,0.2532704512380778,0.25966175682301407,0.4886209418418839,0.14367522768184735,0.26637767381589,0.08377643185710978,0.28106632389203084,0.5743634331113567,1.0642953347672703,0.13753999381257095,0.3909092848500287,0.2910705974158775,0.1967305693874965,0.13647020243420488,0.38515912145863757,0.16448853884121406,0.3375555172245769,0.16136633557446498,0.11645828547869365,0.5219060619294728,0.14978334508468596,0.251735591802166,0.13361045959192133,0.44800919623246016,0.05829631873958491,0.17731703174559887,0.28712315030233054,0.4321450597559854,0.342700846295842,0.4115043824728219,0.5148794648843615,0.47358406167748784,0.2384083141295764,0.3545182242553328,0.3349045700657471,0.13316542545654708,1.1636488968465517,0.3414507242898149,0.14481927832595332,0.21155758849882542,0.22635009039092308,0.6814030874045673,0.24832795210708639,0.12018371335331558,0.39011134312946244,0.38831213590555425,0.4092866695232307,0.33645678761064934,0.3562570974013012,0.35143489762285507,0.44980953851172906,0.25950347537325064,0.34176217734179853,1.0386440734550122,0.5385522472733008,0.051437722423383896,0.24297328956461645,0.18921520804718636,0.15171950710569157,0.4931672492065405,0.3057298574419552,0.3488664019557041,0.823838062769025,0.25636455559056753,0.3302941116210599,0.24125575836999066,0.3926838806352175,0.7894946836629377,0.21034410500138542,0.37900516948617424,0.4169974377970662,0.2705559576455832,0.4436580877461073,0.8093063863784773,0.4604412543873262,0.30634553932653064,0.549434432814277,0.1460883030561955,0.6448251130267192,0.4659880260214363,0.2743561268234263,0.10086475865931617,0.9430398485749473,0.3694993833069063,0.3408411347037059,0.1412162114449339,0.1652139374526687,0.31337027767964154,0.11018087768020013,0.23622136077116512,0.23025385125930065,0.4628124255334779,0.21535373954383266,0.17358003918701465,0.12324635598107919,0.14625884166997813,0.15437108930729196,0.1492780827229371,0.1433251975780308,0.5788317426463057,0.23057269090147545,0.09907331909486604,0.16078316678311264,0.21342871834425253,0.20309469460243448,0.10165111425201974,0.519391242977914,0.3125191737083843,0.35710812408106707,0.35808268295311907,0.18241615957377139,0.11539759496857066,0.07744131094188927,0.08378634573545207,0.45248972847386687,0.25370473200572907,0.10104526067859189,0.07883506150515691,0.2417447043165269,0.11327660572982824,0.269691027929574,0.3964341546497769,0.24443023902012975,0.16732977483640193,0.31564693150692535,0.13210883447165306,0.5471821697979291,0.31237578291997214,0.44077602499036117,0.30952856939091294,0.07500053677147782,0.12842959643799096,0.25604948948156747,0.2292253910498963,0.22377090694167054,0.4689232798340632,0.15771649207540406,0.5661070128272118,0.4314645879942561,0.1396163589974359,0.7715233479190707,0.22363286781240374,0.2773501835049164,0.14110238504788067,0.10824908755204854,0.38644497291334534,0.10211906231235862,0.08267124240250893,0.12717303784673128,0.3297754065903761,0.1580941728191641,0.654824226779302,0.21417673685531013,0.291604956754799,0.20339927992396586,0.19413394427715394,0.6410193135446831,0.21765556818262077,0.25022189048601656,0.2200681623266952,0.04179753827275708,0.141105253872334,0.12149273057448635,0.15645092094797747,0.23468036988149682,0.12652398016137223,0.08361084792136397,0.27132156415075226,0.3384458069470484,0.131755143980718,0.2533007684546907,0.3272433441393151,0.13644845190368546,0.10268772223915473,0.26604801726995425,0.14642010269713762,0.2466698387206758,0.24824629584831562,0.5328597158423177,0.0958517619374952,0.17944394446859102,0.397487379321445,0.09257943476915206,0.7343026991735959,0.1274634111626044,0.21328517073345157,0.22181561766221866,0.3882172107932417,0.07928389369379689,0.17776960576057346,0.19876014338637993,0.23315435491560516,0.15123954680508425,0.848773790081385,0.09455323250316346,0.39676768552063546,0.4469518586795658,0.2595021164713336,0.7980324587396677,0.059317302157009553,0.30964784410958907,0.37712874850346023,0.16964732683545763,0.132646684095075,0.07186631819100701,0.19919178953743855,0.197982479481323,0.12025735104229912,0.11972795371800435,0.12829111471336843,0.2075319623287473,0.22447717072584614,0.2769477112655259,0.07843194750900012,0.06057112576439502,0.29254701970792324,0.25253212744693826,0.07930618883048239,0.10813650090322956,0.09059627238602,0.08458065078949664,0.21733631844270634,0.18751374167637128,0.22899432987700272,0.10134304764178409,0.14314406804637209,0.6215924610014997,0.13837121435166128,0.35661382617031284,0.14143849072728878,0.6968725878803947,0.09040222675031663,0.10593637317085353,0.13259662676180928,0.4433028213874307,0.21153881494687468,0.3149951048214444,0.23996048246188328,0.1893983241177859,0.08094935401451242,0.09333308726821778,0.09887623981643227,0.2707685086502014,0.14235002369418454,0.07048351745994136,0.17753832032397537,0.23864092768200937,0.2529747348587169,0.1869077255850465,0.16671063397781866,0.13954651680951394,0.2100060551647373,0.2902750654584919,0.2365446311913529,0.18206523388705328,0.35777464910132456,0.6044152404800922,0.2637542720217319,0.05593129446099593,0.22736998213450024,0.1765230498100708,0.14785092542625292,0.20606408073321983,0.32428723821839955,0.16526508408398344,0.19382002694850917,0.23067564994787834,0.07449001869614547,0.09096138273418808,0.14921745238193612,0.32722282589864016,0.3584228088871834,0.1644588707545142,0.3338394348955774,0.13970451376126894,0.503927097106786,0.6166779728463897,0.1932675384141051,0.13088077949171478,0.2236901570315894,0.25549942232006245,0.15914979681775554,0.7823337294514979,0.23088787120662707,0.09132804466138852,0.3780058056353138,0.16520946372239748,0.09847495970804765,0.15956617915290663,0.7595848499526155,0.12914861526078966,1.0218395231556598,0.5937759996546043,0.10378393492628368,0.1147085388752745,0.08083939257926907,0.09669662132911797,0.06435381958878265,0.33380553793206535,0.17105077073137265,0.1959390567226219,0.13752595695493536,0.2170385255652341,0.23447736149535703,0.23946359034520304,0.3885662805341056,0.11446046915725457,0.30935663037616246,0.2109496680705033,0.21520065737118552,0.8485172391087195,0.20931623382097056,0.12383510569734468,0.170446055726347,0.25929104093457944,0.3414892033389197,0.42770195958873203,0.3431976407464707,0.06755197980380095,0.12225923284588697,0.1829268380207824,0.2967349302760057,0.11323776410247999,0.26859532480055154,0.25281895868087634,0.09876236649324031,0.41217940313542806,0.1412082508151815,0.08885174505319678,0.2715673671776285,0.06782510238769189,0.8323037499333954,0.1924711093249409,0.39969764221503057,0.25948782199745035,0.16442300725308642,0.06308622995320855,0.12066565227903556,0.12710486225294454,0.10039950417797433,0.07891327425009739,0.14944451520754337,0.39014436215989534,0.2810356292615828,0.30019212712245175,0.26154141645922097,0.3041378477098084,0.12108397229284369,0.38688322131136516,0.17894865154347975,0.1881915701762648,0.12260936555540604,0.14739609109449353,0.3016863291541954,0.07015624369909122,0.0761893437384372,0.13707029065373347,0.07892883364655956,0.2929551057827024,0.16531001149026478,0.23008203628124788,0.25676847141268827,0.2939650543715847,0.33109877502109136,0.11780577141650335,0.2623673131180831,0.1895899519127903,0.22939391783292648,0.22272911858742536,0.14403289005476005,0.08366633767824933,0.0669540778122232,0.27946834934669657,0.12504372155638913,0.08927682450695422,0.09164133954176817,0.06934387047031611,0.24716100174572822,0.06398993361432763,0.15009498688570105,0.1295441843311434,0.6496883495088955,0.23699749633727937,0.3144796869550419,0.19551096615097857,0.19536846681685416,0.261563156446536,0.2222090008259054,0.9281828213644581,0.07462213561964147,0.12200427819692096,0.23318828375836123,0.3904710187068577,0.25361189940329576,0.19799923679317283,0.15274787496096867,0.1472708666342345,0.0797949972245351,0.15586961345499964,0.15681771361057945,0.07389001427030038,0.14560371708896003,0.04731472524275224,0.17229386379868433,0.08647895855407428,0.07261649319803669,0.05794632544971127,0.20409736393773723,0.3820826282112887,0.25476057137407676,0.12081977715529248,0.16448528999930284,0.09053196683050967,0.06841653883698229,0.2557601533833014,0.16153074884953283,0.17526590660670086,0.8739481229107752,0.050447625357416835,0.2872724198361227,0.24754541648244358,0.3960089606324745,0.1456797308134872,0.28303737934725753,0.2949129525249355,0.3269718265456253,0.18867036061232156,0.13889677340001882,0.17237489011365062,0.3117791592069323,0.14950734739530777,0.16693251553088834,0.15065406956095911,0.01818882165397879,0.15347657634211193,0.08710563781321184,0.0746147186203407,0.22209861827227784,0.3006448894493378,0.1331663384126326,0.10129380053908354,0.2712753937880044,0.5159335913240274,0.11064901190229409,0.08807215175023325,0.0557570660450848,0.22363465913610936,0.1704366886398611,0.11219757654017858,0.13107625093280606,0.2886105851012275,0.10770754461521868,0.18697681833168586,0.09279764412628487,0.119029658714044,0.14643134940609234,0.2314411595172722,0.23749678895946658,0.23602906994698591,0.5010926925101783,0.11514407550540502,0.3864477711934012,0.2513784097314376,0.08406302353398606,0.26985752223984144,0.4847548225608051,0.16774920105065516,0.13138106718498876,0.04164236774178513,0.1550985229954553,0.07862306472835141,0.7264285420464281,0.1320885418730172,0.8061557611154687,0.14926816780987262,0.18681571137171288,0.4080743883874189,0.9471873688835806,0.36493365114590803,0.148819375255382,0.24718352180060782,0.5010765881398199,0.18017540592598874,0.20497464146704675,0.38109430181284315,0.06724280729060265,0.14244129845467746,0.14719945374083804,0.2025215585819088,0.11582543744380663,0.26726297570721236,0.3767868693652827,0.08947074311796294,0.14457983863974788,0.10340508431752848,0.19109067607024105,0.36092208691157596,0.09805108578949191,0.20275178358731039,0.13386190773760046,0.5821541261199722,0.12457566416473279,0.161168277390973,0.42607457103698054,0.24529948394001316,0.2609191173888947,0.07200169779979904,0.10058660940043643,0.10237184327779124,0.0778154832005542,0.15714026888034366,0.10358822599077375,0.16329719429889178,0.3095688435576338,0.20313564387387076,0.5551725551106698,0.3249843825257352,0.2077699265548321,0.14995998327275065,0.1384788822817409,0.24812380558218847,0.16655818293279287,0.3269393841800457,0.166003572184855,0.33786319623564237,0.40751642374931635,0.12465484130820043,0.3343703487946558,0.07869714968204267,0.08210204016075924,0.1540398680667378,0.21236622070938216,0.314453534111891,0.13500200931566686,0.20940608155418985,0.20770124910462104,0.15587854958205913,0.13931429651623814,0.320840228569346,0.08793065927362893,0.262953347323303,0.3763814399819126,0.20464865732862933,0.21021876548969295,0.3821202111289288,0.15947095362787986,0.10574859862489781,0.104199614514763,0.21484603037638333,0.1841246787353972,0.25432317726753884,0.11110285129112443,0.07608077103919728,0.08914759433547365,0.12495505320608673,0.16974033897261478,0.5865730350039637,0.05658671044806756,0.09123022996597442,0.31159201684312404,0.05846798203118119,0.1631570849756298,0.8334505489839666,0.6112448901474216,0.1095048951959545,0.655748692212669,0.2181015191087261,0.27464394433323824,0.1430985633053697,0.1350441061893896,0.09932080365438217,0.06358785080406702,0.12048128744456259,0.5104529128008101,0.29856853872334893,0.30589838837015854,0.13656625032526673,0.20599594025919948,0.07556320433073939,0.1657603653470758,0.1585259733577972,0.12040383163443268,0.08843614307023481,0.15815976439312987,0.17638578283091688,0.08318471320720298,0.09541494683917032,0.1032499756312762,0.2186983419208509,0.25051566941784303,0.18665916915770797,0.12287794505179116,0.36007601969258074,0.5754063406992825,0.06854702259537603,0.32824258818274427,0.2684990725800131,0.2836832193250091,0.2338804522439858,0.2416169015671014,0.4409856512495691,0.0672324981577008,0.4425682310601299,0.07794299877542096,0.14516471614323143,0.16832989801215764,0.2703370244908653,0.13521845859203127,0.1420897946248952,0.2951422583388635,0.09249399231225987,0.05666345314541199,0.2287986585894928,0.175550870026553,0.11439271723450399,0.1050083595662819,0.07522337673523649,0.0323287484250315,0.11955289671494543,0.06836964736915757,0.18573907574782214,0.16631678519076482,0.09143194001261343,0.41542983317678395,0.2791740608389403,0.16898931134045908,0.2721307045355766,0.34213285029820484,0.39712210526599245,0.11198441426648319,0.28726101531512666,0.17820828097887872,0.31415005837900983,0.09970094942046782,0.19373125431532906,0.108745673727619,0.10807141026923077,0.3480033047106892,0.4698683230216908,0.08525470225046572,0.1735720644098589,0.11362293155292276,0.09945801747999579,0.4179128649169453,0.21041090372232607,0.14123696058292304,0.1795517295477281,0.6101450953706385,0.7085344192283365,0.14663408269509526,0.1612056478370288,0.48998253976808365,0.7916188023502855,0.2327729593246477,0.46580037979535144,0.19060100416622155,0.5277338178416805,0.3726137173744139,0.10377524872877099,0.3300655544235781,0.15667060820718634,0.671244154109737,0.3281924644267387,0.13739795035152239,0.1383435523168424,0.12079822568430164,0.20848185108189982,0.16945707027502097,0.503853139474183,0.08274760409605283,0.2192185731690808,0.25469904963311946,0.10979871114480666,0.19446551818083319,0.17119565570120795,0.11536670190561385,0.26037769722121606,0.15667798081656997,0.3407079845635395,0.5991282151024958,0.10193886759629237,0.24320022835435468,0.2057610775920187,0.0691520544244898,0.11783480768665452,0.16804491139660852,0.11927852024082969,0.17450952290400806,0.1189341617614999,0.13290513693963754,0.23749486193474528,0.11324594504942385,0.12759307217122876,1.1140236366515468,0.4116614502921636,0.1456066948900123,0.22122635216321845,0.5202066650891732,0.15266756944330462,0.12070922025991791,0.10061327386808197,0.31726774080264813,0.7548385995185337,0.08733230239216115,0.2051764222008887,0.20100054859149136,0.08951755443524055,0.3692621289722962,0.09699876416291334,0.42307600396088557,0.23752650954068455,0.15823479645937483,0.15548761125425778,0.3484474233490825,0.11014151459897568,0.14312151767404802,0.06443802425400842,0.7052823593482744,0.43769768135262244,0.745778668874324,0.6322316071971551,0.5421721724504133,0.09719020388838061,0.16395465840143836,0.3083506145658996,0.3948646564477489,0.27786082504819076,0.08988781495249897,0.20362679006939854,0.12590236914600553,0.12630429393780815,0.15370394266887233,0.13946450332497035,0.8663364589250752,0.24487928086637623,0.32263314560926226,0.1040007444894808,0.15899801233698307,0.1152661059073359,0.15654833547452907,0.09186606808361392,0.08242478877353801,0.4832340402612106,0.07258067544804352,0.3413134204656184,0.21687349130494962,0.21016764494434909,0.06162678220979485,0.13314784461640689,0.14876983376534203,0.42031205982256725,0.1952015527492028,0.15652210965163083,0.08226265320881625,0.09114426282799645,0.3998583144604436,0.19317096228765257,0.26049020314500415,0.3180416945613449,0.11085736948086292,0.09311807604798752,0.1517219562767912,0.07453298587474567,0.6545763028475619,0.10005223148422436,0.17193529905533816,0.3064333900902663,0.06966418869822816,0.2404454568629643,0.1607628427476217,0.3322683384903865,0.09045329116758088,0.6193640718168572,0.059365815368226285,0.17325715247569143,0.7255879105509473,0.3818439959422727,0.08159218049327353,0.2450229530332791,0.37478507892595603,0.08639749705931869,0.43273094294073755,0.16092321957297373,0.13664670536217985,0.6877544785144019,0.272577574045134,0.18285100590646872,0.055048922237896404,0.2587877520874527,0.1428719708523979,0.674325393552033,0.9422415522369579,0.7489606832296204,0.12614847310163302,0.10956042432531825,0.16266718523180493,0.09826546719850632,0.22342925845757775,0.188112502842326,0.1750143338857256,0.20507113316430595,0.4013431181400493,0.11214571396153628,0.19058709211347516,0.05999147969326896,0.15388002892736252,0.20047071054535098,0.1253169480762111,0.17818291084306465,0.35339965817146113,0.40385814820512816,0.0438402506765418,0.4082459006387772,0.14544497676162774,0.4374181927320441,0.5229055467731356,0.12962752711307826,0.17889591845329944,0.14916587189971733,0.06327403832138676,0.09048791911235506,0.22009077754580447,0.25525086319423895,0.19441286098410854,0.6804071359277234,0.13451465292142378,0.2612126287417097,0.17487213818431913,0.11347427785419532,0.3447673798583865,0.3710145419758756,0.68971776673197,0.12548457268912988,0.12364782436703037,0.3631660641879544,0.18937501288337263,0.2962733497281633,0.17239363201951471,0.2232502759915796,0.21368541129073979,0.18645624531634422,0.2611159248388883,0.13774189408418083,0.23841335114323126,0.14152557928947831,0.2647291130842535,0.12803227190076394,0.26763110205462165,0.11757211076102884,0.22470204930136192,0.1971632701228153,0.09423661607844132,0.14106637786222798,0.15647802297519822,0.2666467533632287,0.09298262698775013,0.18312544373922304,0.22362155033735798,0.10855979572143601,0.19666018282884715,0.12087001015744032,0.2928767098372744,0.2740217142032597,0.16753672127188518,0.05294378878827958,0.19877498914144628,0.2224521473421978,0.14994835046329294,0.2594277596804607,0.1538792980176774,0.3552107320659256,0.18492746549821157,0.24104229855482248,0.09835183172829629,0.26209117945887195,0.11567523680649526,0.16010444324300976,0.09116643594335815,0.12266204881709855,0.1398015271956566,0.2988828498882211,0.08112840839794407,0.06783253939955304,0.0788337057479713,0.2586252282138861,0.16755314076920813,0.20521849006782658,0.3898030017220027,0.14676950533907554,0.12867295950266952,0.10892638486725958,0.44115388944553396,0.43549166874697043,0.13731036362424243,0.1594091695330279,0.09214980727791436,0.07485697790708275,0.3224326312574086,0.21861798674852592,0.17235199897303694,0.12807623768398005,0.41170330232841273,0.14180124926360269,0.2906547706953642,0.13179367955836735,0.10876911162805104,0.11381052827496355,0.09255274261603375,0.22845776330076006,0.09731304235187614,0.07457954793822491,0.24697413166030474,0.1064890059623332,0.3413121431302647,0.15618849709003765,0.06728126684208859,0.1337023080097781,0.186312498015936,0.30944344844471006,0.21009905434138884,0.2275549408154781,0.2073914601247401,0.15230333644670377,0.20251203269094653,0.07241481386144985,0.36534807666505714,0.06976211621934736,0.11413776990976475,0.39437562428216943,0.2581914749540189,0.31923921387589144,0.05357037852540233,0.30954500339593266,0.14462971636742128,0.11101826231475409,0.2541204672286931,0.17055938752186395,0.5973696563001354,0.2796629321072113,0.35778594869925434,0.08957139527139528,0.09147372621724092,0.14590342969295764,0.3858294091173229,0.11054752205116218,0.13336894208836414,0.09773032089502244,0.2727864885592509,0.10976794820182502,0.1483082333925102,0.3425828709506036,0.6236152287203536,0.22547640647214137,0.21528142981179338,0.11855579669051575,0.11284251568740465,0.1368833418516624,0.13744119279634884,0.10350747926163525,0.13314422335338577,0.17244466375385564,0.17945827670475603,0.21277722820906997,0.07217874814448294,0.3000289469584042,0.40207906697806783,0.3468675510346113,0.12999853955316637,0.21626892272599796,0.24598535505250366,0.20325189589835208,0.18943926465834202,0.30405711112036365,0.4237944197251527,0.15200908933564614,0.34534045662327717,0.12464086492914098,0.12778862354661283,0.17571379344262295,0.09687416457811196,0.10643811682650392,0.17566142527369083,0.21669015713480683,0.271199366688613,0.21426568928201425,0.20569332489402087,0.17276159131246638,0.20513946278039674,0.17794369770796348,0.3007619753187677,0.18079845200926023,0.35889080660625344,0.06494931241793933,0.2325037143671608,0.09747735732354564,0.19484563691756274,0.26626850029641885,0.2591303372234303,0.28125085195485694,0.1562895903076678,0.19059392433776418,0.16311083121831457,0.13475966461853559,0.18089472508142282,0.23446970324528063,0.0959141042052794,0.6262464289401071,0.07648489795918367,0.07170781655610038,0.13401552218220952,0.23594306295592135,0.4952072049941491,0.10849209167723928,0.08885758064186601,0.13826689647173987,0.018885154675313296,0.10832065557361178,0.10833018638862953,0.16781567648871346,0.23825317858305908,0.2076522371519601,0.12938525756347638,0.9341928447753958,0.3878903089983375,0.21308126362880597,0.17280296521407787,0.22158791948879578,0.16112566242250007,0.2939458555775823,0.08434995322407401,0.1379057877974438,0.2367688418155999,0.14824231088251594,0.18353536123270092,0.2500119820824506,0.22674369299718913,0.11390607981292844,0.36256198088456976,0.051930662906898434,0.1598572117756829,0.22227509086462657,0.08719453946621054,0.332344145822564,0.1942167748570875,0.11605184322099556,0.16185644573893934,0.22889845188261532,0.30049921907636457,0.12239037951121744,0.045173794800401464,0.16649802537550173,0.24426569874059822,0.17365321027049133,0.12867490214940716,0.07540526408039262,0.08532579833898701,0.4081300536808467,0.4817651526346656,0.1754079580019939,0.20919392159741595,0.33751942107566424,0.2697287436769091,0.2460706302979231,0.31724445773579024,0.2166597691691796,0.1472102937223811,0.17628089739510217,0.21962540636980776,0.3300823072702189,0.1267565133650868,0.14508858286651394,0.16988764662496744,0.11707490804132857,0.34599342512262576,0.14387716501476006,0.10599133776108977,0.09064940280785082,0.3242813417937596,0.9137199032816709,0.19965521703802164,0.2369353460973306,0.3276983214388338,0.05850695503903796,0.12023022120214326,0.2489926613568968,0.07012664508516625,0.12745946928500104,0.18602983401684034,0.2979339525626286,0.14442312110311026,0.07837689553496209,0.26604413933277116,0.17139872984083482,0.1192248754592657,0.2489243748490146,0.2109361150891449,0.3965739142171582,0.1611529997025982,0.13545210363032711,0.10062298918315686,0.11450160534013884,0.2846107546793689,0.10322880443320828,0.3978291347399556,0.4664735420543757,0.6478723835592891,0.0469822638364087,0.190738444567016,0.12731864314120242,0.30252279973943175,0.24822413502439564,0.18834908930442737,0.13443360718330188,0.45561959019651443,0.18798965802410314,0.21430001406052074,0.579101053339735,0.13179690815770811,0.11824129190567058,0.20100076084971696,0.13409769907475044,0.3353267520614933,0.2875468096704237,0.10487447711825593,0.09052374992368277,0.07458257147225195,0.06400407662528736,0.19788620742368546,0.5505265869122289,0.36569070420250044,0.24325416591265053,0.2844884713055548,0.14929216697242978,0.13139916506468072,0.23952638366173207,0.29666697110971574,0.10971494711998551,0.29164521306102387,0.08351977614762157,0.15552901502163402,0.21397907692856596,0.23820654586933804,0.22255017897953963,0.2713336292731126,0.18654730003465206,0.2235699188663991,0.2002632615415798,0.1026294543025586,0.3004254026484098,0.1628411687832534,0.18498635673725855,0.24440442796742234,0.39667042106970163,0.30088624039617445,0.1483013959013959,0.6119002270721743,0.1722068667491494,0.06965334529060596,0.1543741196878975,0.15465701380172622,0.19228355735854955,0.06918387686873147,0.29353286780193616,0.15187748597654258,0.3883330681381286,0.057290270221840287,0.06908788794843228,0.1082022034296663,0.08680773165568843,0.23415358783576362,0.15758196877958297,0.1353019177488899,0.10580704075376722,0.08800215878979249,0.3336982013570139,0.11962214405253646,0.1503430181394743,0.19884515261938934,0.271458139083522,0.4392127942988444,0.22716007349482126,0.3342985253151436,0.27055842672327,0.15585258332916668,0.16117414184768034,0.2280345651356713,0.1637469733488028,0.15817840677627118,0.14659578814683769,0.3899711462437292,0.18598879406050514,0.2873632610685169,0.23784907758788723,0.3164137570891496,0.17366831700080193,0.3065369892518477,0.18251178849748886,0.26459216751011194,0.22508445356318205,0.33130836395356195,0.2966361360600684,0.10872875672255616,0.5308093452499743,0.26171939636037156,0.08578009116083143,0.31777898365360063,0.20554190210707787,0.11643921816072558,0.06039789399438399,0.32273928316155226,0.258930975204966,0.20966707164916132,0.310928711373256,0.1736011132335071,0.1932234747083399,0.3249232834169069,0.27899097396633954,0.1607427050236593,0.24061494416097312,0.16413243309642267,0.25144839704674665,0.24165601797899228,0.28489305890649075,0.2626243807335784,0.2540396787997468,0.24917758752130653,0.373014515749187,0.2911471042335593,0.44399444985133796,0.23972770252274445,0.13062845003375562,0.421909287022169,0.35908127017957847,0.30914909942884533,0.1146157318592202,0.0932744776854552,0.399502779460108,0.32631069208486496,0.29060970944433534,0.37999843938617905,0.29344803713233825,0.33877316953841224,0.23835434463290428,0.47952442898952186,0.20601321816392124,0.21841102495881715,0.11136084877627296,0.26068181266953755,0.1046252617128362,0.26344753583105174,0.3432599190323886,0.1691488336303256,0.43372836671122994,0.26276173445361073,0.16607712594936708,0.2367064551507283,0.21165823965426286,0.09205458684306791,0.14745554696532379,0.23504556385866243,0.19015256171703185,0.13851316408750827,0.12352378237497964,0.2922216463290209,0.2547179266477879,0.16753977249394275,0.11178654406633554,0.11509272339027594,0.06923547765097089,0.14311152692766377,0.20830534195418846,0.17345541296479103,0.25551728098255433,0.2914611650320882,0.1923430593892753,0.2022271809494375,0.2621758876949089,0.6011326423440532,0.3988950367536543,0.17481383921803392,0.3105129041747533,0.1208599031734867,0.16006095142880739,0.3440359875615305,0.1961159096467279,0.2716291484151287,0.29025292778812334,0.43246488718808196,0.19673729717394903,0.17035114219086245,0.3669978732996956,0.24910864117524395,0.12152831762448911,0.10036124401913875,0.41401030541972633,0.1858096432104955,0.5850005653995042,0.2395819086235004,0.529266139261492,0.24258565808829688,0.2405611812659927,0.34505752283292773,0.4497253270113972,0.1591576947561748,0.11513269881556684,0.18687237188212447,0.5204404691633501,0.2771769731875476,0.3386858680272974,0.2296376897379357,0.10918692142250531,0.0594462191971113,0.09343714431325915,0.4404297656372355,0.3391180643767525,0.278589874282195,0.24679589669951577,0.2754626365266154,0.2412814108624431,0.162434984256659,0.2192545849112804,0.2929060433530942,0.142866389678548,0.1024042776538512,0.18826769387811634,0.33408030910098346,0.08787249740214756,0.21517514804101567,0.24575247660547284,0.09102743332178732,0.2022814764832275,0.18809527811318313,0.2124648178512557,0.21629996764172335,0.16828075028980863,0.09823666793013966,0.312292726428112,0.09897518573693949,0.20683487008432502,0.22537445099415204,0.25975868793179635,0.29097114484766556,0.0644266388635475,0.34888109986007626,0.196026103079184,0.21313707415533437,0.30394401401226995,0.2244665868979958,0.10189335017594514,0.30257269383961954,0.4447000000054112,0.2576989465269315,0.22635046562645939,0.1886625862762358,0.2050594376003132,0.2429246606532237,0.1251895239192236,0.18710169938235294,0.5186842587257079,0.16093644709240498,0.13774303772749077,0.3567021251775759,0.0778717267899652,0.13637548067814198,0.1972498228325065,0.15018008275075742,0.20452793943592118,0.07893820798005832,0.13759349060101106,0.17861782410438998,0.11013574486648331,0.17999543753847844,0.2847249824857433,0.10449618599772782,0.2952850592801493,0.2733477144870855,0.25701888501108466,0.1175065637384412,0.2525105749055812,0.4968031843561262,0.18255566342719634,0.1664604212671989,0.4902489912130869,0.18166222653417313,0.12672712947614992,0.16936875709495902,0.08835064211575676,0.24861783733554418,0.1368073288878646,0.18667172972259932,0.37226273302291085,0.3016904290547315,0.07196392630438148,0.17174109554553812,0.347342144539588,0.2978607416467898,0.2142466804370246,0.1997631434355156,0.11294891735777211,0.08376696145723338,0.21739625748490382,0.35200043040416296,0.23447971003563906,0.30737878422816145,0.26894167979100947,0.21731083699047168,0.28000170445950767,0.5417384274216027,0.18254451795795293,1.4543736945740466,0.29905259266848605,0.19313191490967482,0.676925812892489,0.6981751354200924,0.17651984414718405,0.08116316276078306,0.23613929647437187,0.11022544335573731,0.11837776872616633,0.49680703278634586,0.16112386194338685,0.20387656067088397,0.13150477306146374,0.14748602905200067,0.09904925090525427,0.4583984541196841,0.05404533898305085,0.36853383995838995,0.2847719124210256,0.09720295884142378,0.12041083794379512,0.6503637070423264,0.3703355866126253,0.45353647029844313,0.3438411042936027,0.3331311764928729,0.2820208527405638,0.2521706464754953,0.43052222425103936,0.1100827222654006,0.1295909638219399,0.2652945524952508,0.2643382863415512,0.1581982569038198,0.07825207562268835,0.33644516505966104,0.35160352871796785,0.22647099348688224,0.36036041803236907,0.16974488460929318,0.1795329577540107,0.14189463135289906,0.1054639907507941,0.18303045744984422,0.3783894959733718,0.2825217720311506,0.14575827482447343,0.34198155921124707,0.18964325301142104,0.31193367260433597,0.15941971936315905,0.29800522747997155,0.2785909358422274,0.24862691651850705,0.11975230749860621,0.07642728625760019,0.25281444416904203,0.1892064869204662,0.3681885412431927,0.2452339039129871,0.09252465417631875,0.2242133668976263,0.0670731878722977,0.17912275635588956,0.32293381029127527,0.13964645467723527,0.43259244859645873,0.1784209908759575,0.2497830681483122,0.173123368369028,0.18518272516656886,0.15122698293483805,0.09377401256017087,0.29977145043203773,0.39907736584877845,0.3361762701026119,0.3888507343013009,0.23041464661336042,0.5746254195252453,0.08077150481735636,0.14262727184353588,0.07214501211186963,0.3053366362489107,0.11379845428333506,0.1203485261420788,0.25245131227793544,0.2764761738156973,0.21123502562045102,0.2596265662270865,0.31622335237382954,0.18868090596670167,0.16979628654727416,0.29818438264117836,0.13504564039849604,0.10098213176031678,0.2648792835997921,0.2393510501469598,0.17897438542823155,0.1304074027437755,0.2373362134582842,0.1553757002168335,0.40307040297947755,0.23451219387728794,0.27391997522379585,0.18786626884945234,0.17220298613608184,0.19692590196560197,0.1357867429473269,0.17651305625205785,0.12524103681556745,0.5801992206633043,0.5207744061609195,0.14491225094448118,0.3351458033406606,0.24817014108065732,0.23714888786742258,0.24372138346568928,0.16464681315332802,0.10444224879255506,0.17106550858010852,0.2803978443378119,0.45947431818456974,0.12543219003454129,0.30598252811303556,0.24372671806143092,0.10003505280881678,0.2378621841580819,0.08775972652297881,0.07525347742807137,0.20855271653906468,0.19460409555693456,0.19251596215457412,0.09675912178486812,0.10027603121516165,0.4405751101903302,0.26879899591980305,0.08848565763806722,0.16698136287306264,0.21159570698976635,0.26862711479698076,0.16817283663639046,0.22101768392967727,0.10168650212879192,0.14887293796166434,0.179761260358193,0.6265623871176116,0.18675946512732416,0.22661185982462725,0.2276156246979202,0.34100828690564866,0.18377933177311576,0.1860546536627925,0.16924223407549907,0.39483260478362797,0.12267031250318879,0.2484092839191648,0.2539367966815857,0.2813234571916606,0.11830132760640376,0.2418903472987226,0.08638347482492861,0.16849665531040958,0.23238689821232555,0.27492669809972514,0.3195425827826769,0.33000299598297,0.1707453798688991,0.3764231287268555,0.2435879409314268,0.08564237389119685,0.2520219637342198,0.3331491595013477,0.17761438713962804,0.2006581253698782,0.16352208625963296,0.2884632684576359,0.397104737552928,0.11174331828932124,0.12130732350473451,0.14997399330057526,0.26884316694289234,0.4320593478458956,0.12420001608467304,0.30822496687652884,0.2922577858227848,0.23047903161584013,0.2244366559004561,0.20334517724912793,0.15892585831507183,0.40547216579566664,0.3044478315611917,0.16928343223315176,0.2251988910054636,0.1672740698515013,0.28665133645378493,0.2966543583326526,0.17579948575218352,0.2812355523600394,0.16851639782457006,0.2604112866940283,0.2724508330952967,0.2534574114034728,0.16191411067757586,0.15974738269080757,0.25754193863365765,0.08085955749300872,0.1650501315964797,0.42428919974079404,0.23709088100278838,0.12411924643165646,0.2257993157901245,0.09015504801912849,0.14389556243137255,0.5345936751135332,0.22102873892146338,0.3421130203279908,0.30138567534342936,0.1969798130098453,0.24682892988653304,0.10751639073261589,0.9154172354194406,0.15291472969008443,0.2096014568199792,0.4806363637071262,0.3942842318400405,0.16806497848815344,0.20370864561021562,0.3614115970651036,0.2998142330862026,0.3124791492490351,0.1405351403390257,0.2730423818219965,0.27364216372042194,0.162076387393965,0.17999096774996834,0.21724715021953897,0.22786041805759402,0.3814476734306261,0.26399657323800657,0.3752321383846089,0.18093858116631956,0.3177791545110061,0.147063571741628,0.27576587783500767,0.1565216872983442,0.1304327380358902,0.19169758920119986,0.12294733297302499,0.13122059202380953,0.35102362504518464,0.18362004521626854,0.16738639968794694,0.3808449741181669,0.19764085163261064,0.12633977324873888,0.3345415698785425,0.35586996864894704,0.1723895251571229,0.2059108883257065,0.245438903704256,0.15565651964285712,0.16337101806347112,0.2512991918344784,0.25834849345591626,0.18214023051317232,0.13365966941322313,0.1902139168909958,0.15865258959635675,0.3410950317726037,0.15106653273983445,0.10589426435136956,0.11462430464751694,0.5307672450974673,0.16110955675278563,0.08408424791540012,0.04363934111626419,0.07346172889405346,0.20469815775139666,0.15584246505803917,0.10349603651645538,0.21380626281828247,0.6299944947011664,0.08531661952170612,0.21211262210678908,0.06462637327861523,0.15770114095137794,0.2564026393338481,0.3135134384296389,0.41122239642143227,0.3594878145476773,0.04490960809102402,0.4170909018903141,0.11740315061887156,0.14585887648878887,0.23805030380699424,0.1982329803897097,0.2971052140555894,0.23469095712253607,0.14842457942482382,0.22031544375969309,0.16362893957649377,0.12427464903948772,0.16441815124374023,0.23497079988484473,0.2084074927663774,0.2303452689879409,0.07944964277986538,0.12474583900797093,0.367796423941859,0.12945551426270135,0.13703479562141013,0.27868351125451946,0.19162677806339962,0.4053361389349463,0.2973519068801495,0.1285705674703804,0.1641535137514233,0.05841463224194472,0.07048647108231341,0.2595285942251114,0.12522385049951854,0.42547468874311284,0.015267961283624927,0.10807161852666972,0.31433747047450183,0.27523399233274354,0.14821062359888063,0.25058728480053605,0.13854834630308033,0.17245664232412936,0.09202816483512864,0.12818037975304045,0.20015872319286668,0.14098870451185075,0.11804844719859851,0.2204394979848625,0.16853226584147316,0.1585186332397638,0.10859869843422791,0.13027787312910852,0.19084618479967788,0.2915451834612159,0.07572127393838468,0.21970360645681747,0.1316431459276409,0.34577247322050136,0.09271283518503999,0.12749306321929685,0.17418671397595112,0.25040974874788025,0.31059354508177295,0.228308415698095,0.15638539570082924,0.1404761924204389,0.07614539638432262,0.1467617135288629,0.1729162771834993,0.1145130811313824,0.1801193097534922,0.17553047096295685,0.2524539557694691,0.1885300591211883,0.47694501237949444,0.11334752570025387,0.3796380007939492,0.1406144643804567,0.12538313141964624,0.20680657161162094,0.2430002960786802,0.07302385988662323,0.21569729202017204,0.17281134194272882,0.1261987030802261,0.23056415405293057,0.2216047852150796,0.1580061458652423,0.264884080507955,0.2617756447514705,0.056542221647484806,0.15556467670031787,0.1601748592170171,0.24242448697649135,0.1147407782500735,0.18899669185227436,0.19661440080886392,0.1481963791509027,0.12161727356075125,0.06707966553826501,0.19266347146438578,0.2395965969449905,0.17755636472128064,0.3462852468902294,0.1409184875564976,0.2857860999581954,0.19217931491680013,0.15043411545792335,0.29778485925314985,0.2886765891836816,0.254116152768014,0.06512699829586951,0.0983428205510575,0.20034847794160282,0.158201001071399,0.157277858240576,0.10563876834946596,0.25149780169576685,0.10323914050601098,0.07147667741502871,0.3988276556343346,0.37836277804028534,0.4192591707294552,0.08049356114156998,0.11076227842341946,0.06235936688601808,0.17425807233231708,0.08931798973746191,0.16559414620020782,0.35180380858374094,0.12434998100703876,0.5094217252000609,0.3972706805834556,0.14367773583033008,0.1742459301275193,0.22007137169021146,0.4711698832782911,0.1103185164954701,0.10552757466848432,0.11054306450442421,0.14771394205278388,0.06383328103754837,0.12108446585928091,0.09443592578516394,0.06737699231976216,0.0785521713622291,0.09997421605752457,0.29700948130385135,0.10247009908876724,0.07513920366288943,0.07138211353953795,0.15816871020035478,0.13082672232776618,0.08189053440097799,0.06912017284017719,0.3670791196472912,0.24476204714627478,0.06074526803028453,0.26141222721544927,0.4173827726038277,0.11074327270861657,0.19904707875295205,0.12190733838838197,0.3321458591197401,0.3389286210709408,0.06845264419787211,0.16460712170042574,0.45669618544847573,0.11224893013415395,0.3543019766563467,0.10163497504915057,0.20062299255262825,0.432679573871668,0.2377766997700801,0.0739270638850556,0.3123536337621803,0.5178791235023743,0.12104315159410518,0.31663133260681586,0.08268602019785866,0.8932160408423365,0.06855276856194943,0.10640543559195831,0.14247655062598483,0.1175069891883341,0.29069877946539874,0.16854701761470003,0.20508981345039357,0.09505897960949442,0.10511716181136428,0.08607696103756605,0.053811452792055056,0.05998289183222958,0.05574884383816643,0.15496164027337503,0.05401936440554764,0.15101966037631434,0.08150792483900374,0.05785409252669039,0.2969907925045596,0.14227498379070727,0.1161116117295403,0.07984199210696825,0.07566657818187181,0.3888373703331439,0.2023543221134279,0.11473061042760248,0.09711174406222611,0.22495563454168518,0.24830350576877447,0.0429042944095142,0.36621074985003715,0.14406699729753808,0.09505147837968707,0.1431269509349335,0.1340401830297888,0.2545541548366567,0.11658279288138676,0.21118118562182858,0.1906499984284281,0.12779018128726122,0.12516728076946695,0.13214718802715236,0.1100765517822885,0.20425954146840147,0.2473511824643069,0.2148321595141954,0.09452581937162866,0.06540253260491995,0.11841014642226148,0.16968393490661282,0.21905868788338229,0.07264284577431163,0.02617972471214792,0.18686663040864615,0.10743467932986304,0.20423580678213307,0.18075227963525836,0.16784757759774568,0.06094247475065955,0.11715158546017014,0.09734422529646816,0.12321966156325544,0.0953337094590238,0.10011517261709055,0.1575095891410153,0.2891934216442626,0.1281700764351927,0.14036849810025698,0.2372799390589569,0.25305614546050476,0.17255056953681513,0.16967751526515776,0.17505711261374543,0.37233516484509466,0.09176982732575482,0.19497122301159073,0.15279451734727867,0.08521762974852862,0.10675915409595083,0.12248238518283308,0.09799423843164842,0.1506889887942025,0.27801103916384257,0.10634524408656265,0.1624356857713346,0.11258379578246394,0.09183655557983927,0.034340083423035524,0.44513292753715783,0.0880564337122486,0.14710025555106984,0.16426508582318614,0.14768713105414066,0.1916642037820513,0.1615172355119973,0.09911324655955529,0.21482707759807412,0.06719840651635871,0.22059575266225798,0.0677963839862247,0.16000410139077342,0.09550114113002714,0.23656879459217392,0.16669330923180897,0.18217968702294798,0.19696266400723034,0.26293575594891017,0.23535262589705216,0.17344672704387187,0.10452680125304559,0.1974558209580838,0.1514648912097476,0.33131098773436685,0.18142165437654686,0.30728244192873577,0.134420747385416,0.0861023543120474,0.0831991222570533,0.19074610858643382,0.2712695895152592,0.201868120567157,0.07149045551650471,0.15319395897550572,0.2494278723413054,0.28148196522249863,0.09144661098150193,0.16943746117208533,0.11707179912499134,0.09687992985493384,0.19791240039209437,0.11168216879064133,0.20197426657844386,0.13746749561932092,0.18482720694997928,0.17107968076935354,0.08039290617437667,0.1909833966505955,0.1734025352022734,0.22800611074595722,0.23629084629043529,0.08708015925135446,0.05319424489963466,0.12428452536667765,0.5897952768444481,0.10725387958204013,0.3079220714012155,0.40522509589103956,0.22507646880941412,0.15463585631031299,0.11367395635515999,0.12510462059347183,0.12068721850089233,0.06886293783746365,0.0933495982961629,0.44000266705230345,0.050792933844821614,0.18487600015932945,0.1266863872497402,0.16851139513369354,0.15873715749766185,0.10501834829870625,0.1312095257917924,0.17488478659579237,0.21925116086079355,0.20876053681462978,0.10432990646617986,0.14187871894955964,0.184076083471341,0.22043018964797997,0.18944026841378866,0.2933265444176319,0.19213506210668554,0.19276549186676994,0.06538695413613918,0.1115622353728304,0.12015055432302271,0.1189590226001864,0.32189014133391586,0.09590201502533341,0.22458886652961246,0.15457407785974633,0.09557225332983438,0.42346305214446295,0.27836099521417934,0.1277723847964488,0.23925004380365592,0.47700637559441994,0.3472709493461561,0.18594845479974198,0.23455331066213125,0.09831462257023874,0.1719478022538686,0.07041820638016627,0.3994162650888647,0.10419334264789755,0.24892390849580007,0.13940133799460666,0.601269870137178,0.14893712636065914,0.25575104654845165,0.08643301004914068,0.2587524009812342,0.23426960963152132,0.1926057226142701,0.10921463757135037,0.35251008284119556,0.311784938970358,0.29430031976516635,0.10274646709766737,0.3650516521725416,0.11584223257091779,0.06725604691345043,0.17348666017251013,0.0706531866596822,0.06528963084552789,0.08301214176843137,0.09676285022119234,0.33056232942185204,0.14454268890018226,0.40891974207408965,0.055181726376759936,0.2913401926033379,0.14427278983994016,0.2706426217632257,0.16576076326842878,0.3398743016579564,0.16817857142857143,0.11556560922855083,0.08399992094653351,0.23028061251383694,0.2762968555810337,0.1054832917731926,0.06433998727696545,0.1618351377559224,0.2105834853934092,0.3864576203153964,0.13446443288442372,0.19908041587198438,0.06850112494375321,0.1361066102868608,0.1406471481733612,0.1453226131776185,0.1664782893837956,0.06526424488059743,0.16537168510556127,0.0904851060235993,0.06468066568771415,0.11761011129907525,0.18804441245985157,0.09601489645309558,0.19271516211414613,0.10531123143134805,0.06755397063730396,0.6470978458263631,0.28900399567464863,0.07687035991199369,0.14024745988654322,0.0637173532731377,0.25779805895252106,0.10981057044411714,0.13804437247883644,0.18038523329345413,0.0805871865818524,0.12666400121776286,0.21634936034461652,0.15499825745467885,0.12409122035033014,0.13104621575281805,0.10853891092859537],\"y0\":\" \",\"yaxis\":\"y\",\"type\":\"box\"}],                        {\"template\":{\"data\":{\"histogram2dcontour\":[{\"type\":\"histogram2dcontour\",\"colorbar\":{\"outlinewidth\":0,\"ticks\":\"\"},\"colorscale\":[[0.0,\"#0d0887\"],[0.1111111111111111,\"#46039f\"],[0.2222222222222222,\"#7201a8\"],[0.3333333333333333,\"#9c179e\"],[0.4444444444444444,\"#bd3786\"],[0.5555555555555556,\"#d8576b\"],[0.6666666666666666,\"#ed7953\"],[0.7777777777777778,\"#fb9f3a\"],[0.8888888888888888,\"#fdca26\"],[1.0,\"#f0f921\"]]}],\"choropleth\":[{\"type\":\"choropleth\",\"colorbar\":{\"outlinewidth\":0,\"ticks\":\"\"}}],\"histogram2d\":[{\"type\":\"histogram2d\",\"colorbar\":{\"outlinewidth\":0,\"ticks\":\"\"},\"colorscale\":[[0.0,\"#0d0887\"],[0.1111111111111111,\"#46039f\"],[0.2222222222222222,\"#7201a8\"],[0.3333333333333333,\"#9c179e\"],[0.4444444444444444,\"#bd3786\"],[0.5555555555555556,\"#d8576b\"],[0.6666666666666666,\"#ed7953\"],[0.7777777777777778,\"#fb9f3a\"],[0.8888888888888888,\"#fdca26\"],[1.0,\"#f0f921\"]]}],\"heatmap\":[{\"type\":\"heatmap\",\"colorbar\":{\"outlinewidth\":0,\"ticks\":\"\"},\"colorscale\":[[0.0,\"#0d0887\"],[0.1111111111111111,\"#46039f\"],[0.2222222222222222,\"#7201a8\"],[0.3333333333333333,\"#9c179e\"],[0.4444444444444444,\"#bd3786\"],[0.5555555555555556,\"#d8576b\"],[0.6666666666666666,\"#ed7953\"],[0.7777777777777778,\"#fb9f3a\"],[0.8888888888888888,\"#fdca26\"],[1.0,\"#f0f921\"]]}],\"heatmapgl\":[{\"type\":\"heatmapgl\",\"colorbar\":{\"outlinewidth\":0,\"ticks\":\"\"},\"colorscale\":[[0.0,\"#0d0887\"],[0.1111111111111111,\"#46039f\"],[0.2222222222222222,\"#7201a8\"],[0.3333333333333333,\"#9c179e\"],[0.4444444444444444,\"#bd3786\"],[0.5555555555555556,\"#d8576b\"],[0.6666666666666666,\"#ed7953\"],[0.7777777777777778,\"#fb9f3a\"],[0.8888888888888888,\"#fdca26\"],[1.0,\"#f0f921\"]]}],\"contourcarpet\":[{\"type\":\"contourcarpet\",\"colorbar\":{\"outlinewidth\":0,\"ticks\":\"\"}}],\"contour\":[{\"type\":\"contour\",\"colorbar\":{\"outlinewidth\":0,\"ticks\":\"\"},\"colorscale\":[[0.0,\"#0d0887\"],[0.1111111111111111,\"#46039f\"],[0.2222222222222222,\"#7201a8\"],[0.3333333333333333,\"#9c179e\"],[0.4444444444444444,\"#bd3786\"],[0.5555555555555556,\"#d8576b\"],[0.6666666666666666,\"#ed7953\"],[0.7777777777777778,\"#fb9f3a\"],[0.8888888888888888,\"#fdca26\"],[1.0,\"#f0f921\"]]}],\"surface\":[{\"type\":\"surface\",\"colorbar\":{\"outlinewidth\":0,\"ticks\":\"\"},\"colorscale\":[[0.0,\"#0d0887\"],[0.1111111111111111,\"#46039f\"],[0.2222222222222222,\"#7201a8\"],[0.3333333333333333,\"#9c179e\"],[0.4444444444444444,\"#bd3786\"],[0.5555555555555556,\"#d8576b\"],[0.6666666666666666,\"#ed7953\"],[0.7777777777777778,\"#fb9f3a\"],[0.8888888888888888,\"#fdca26\"],[1.0,\"#f0f921\"]]}],\"mesh3d\":[{\"type\":\"mesh3d\",\"colorbar\":{\"outlinewidth\":0,\"ticks\":\"\"}}],\"scatter\":[{\"fillpattern\":{\"fillmode\":\"overlay\",\"size\":10,\"solidity\":0.2},\"type\":\"scatter\"}],\"parcoords\":[{\"type\":\"parcoords\",\"line\":{\"colorbar\":{\"outlinewidth\":0,\"ticks\":\"\"}}}],\"scatterpolargl\":[{\"type\":\"scatterpolargl\",\"marker\":{\"colorbar\":{\"outlinewidth\":0,\"ticks\":\"\"}}}],\"bar\":[{\"error_x\":{\"color\":\"#2a3f5f\"},\"error_y\":{\"color\":\"#2a3f5f\"},\"marker\":{\"line\":{\"color\":\"#E5ECF6\",\"width\":0.5},\"pattern\":{\"fillmode\":\"overlay\",\"size\":10,\"solidity\":0.2}},\"type\":\"bar\"}],\"scattergeo\":[{\"type\":\"scattergeo\",\"marker\":{\"colorbar\":{\"outlinewidth\":0,\"ticks\":\"\"}}}],\"scatterpolar\":[{\"type\":\"scatterpolar\",\"marker\":{\"colorbar\":{\"outlinewidth\":0,\"ticks\":\"\"}}}],\"histogram\":[{\"marker\":{\"pattern\":{\"fillmode\":\"overlay\",\"size\":10,\"solidity\":0.2}},\"type\":\"histogram\"}],\"scattergl\":[{\"type\":\"scattergl\",\"marker\":{\"colorbar\":{\"outlinewidth\":0,\"ticks\":\"\"}}}],\"scatter3d\":[{\"type\":\"scatter3d\",\"line\":{\"colorbar\":{\"outlinewidth\":0,\"ticks\":\"\"}},\"marker\":{\"colorbar\":{\"outlinewidth\":0,\"ticks\":\"\"}}}],\"scattermapbox\":[{\"type\":\"scattermapbox\",\"marker\":{\"colorbar\":{\"outlinewidth\":0,\"ticks\":\"\"}}}],\"scatterternary\":[{\"type\":\"scatterternary\",\"marker\":{\"colorbar\":{\"outlinewidth\":0,\"ticks\":\"\"}}}],\"scattercarpet\":[{\"type\":\"scattercarpet\",\"marker\":{\"colorbar\":{\"outlinewidth\":0,\"ticks\":\"\"}}}],\"carpet\":[{\"aaxis\":{\"endlinecolor\":\"#2a3f5f\",\"gridcolor\":\"white\",\"linecolor\":\"white\",\"minorgridcolor\":\"white\",\"startlinecolor\":\"#2a3f5f\"},\"baxis\":{\"endlinecolor\":\"#2a3f5f\",\"gridcolor\":\"white\",\"linecolor\":\"white\",\"minorgridcolor\":\"white\",\"startlinecolor\":\"#2a3f5f\"},\"type\":\"carpet\"}],\"table\":[{\"cells\":{\"fill\":{\"color\":\"#EBF0F8\"},\"line\":{\"color\":\"white\"}},\"header\":{\"fill\":{\"color\":\"#C8D4E3\"},\"line\":{\"color\":\"white\"}},\"type\":\"table\"}],\"barpolar\":[{\"marker\":{\"line\":{\"color\":\"#E5ECF6\",\"width\":0.5},\"pattern\":{\"fillmode\":\"overlay\",\"size\":10,\"solidity\":0.2}},\"type\":\"barpolar\"}],\"pie\":[{\"automargin\":true,\"type\":\"pie\"}]},\"layout\":{\"autotypenumbers\":\"strict\",\"colorway\":[\"#636efa\",\"#EF553B\",\"#00cc96\",\"#ab63fa\",\"#FFA15A\",\"#19d3f3\",\"#FF6692\",\"#B6E880\",\"#FF97FF\",\"#FECB52\"],\"font\":{\"color\":\"#2a3f5f\"},\"hovermode\":\"closest\",\"hoverlabel\":{\"align\":\"left\"},\"paper_bgcolor\":\"white\",\"plot_bgcolor\":\"#E5ECF6\",\"polar\":{\"bgcolor\":\"#E5ECF6\",\"angularaxis\":{\"gridcolor\":\"white\",\"linecolor\":\"white\",\"ticks\":\"\"},\"radialaxis\":{\"gridcolor\":\"white\",\"linecolor\":\"white\",\"ticks\":\"\"}},\"ternary\":{\"bgcolor\":\"#E5ECF6\",\"aaxis\":{\"gridcolor\":\"white\",\"linecolor\":\"white\",\"ticks\":\"\"},\"baxis\":{\"gridcolor\":\"white\",\"linecolor\":\"white\",\"ticks\":\"\"},\"caxis\":{\"gridcolor\":\"white\",\"linecolor\":\"white\",\"ticks\":\"\"}},\"coloraxis\":{\"colorbar\":{\"outlinewidth\":0,\"ticks\":\"\"}},\"colorscale\":{\"sequential\":[[0.0,\"#0d0887\"],[0.1111111111111111,\"#46039f\"],[0.2222222222222222,\"#7201a8\"],[0.3333333333333333,\"#9c179e\"],[0.4444444444444444,\"#bd3786\"],[0.5555555555555556,\"#d8576b\"],[0.6666666666666666,\"#ed7953\"],[0.7777777777777778,\"#fb9f3a\"],[0.8888888888888888,\"#fdca26\"],[1.0,\"#f0f921\"]],\"sequentialminus\":[[0.0,\"#0d0887\"],[0.1111111111111111,\"#46039f\"],[0.2222222222222222,\"#7201a8\"],[0.3333333333333333,\"#9c179e\"],[0.4444444444444444,\"#bd3786\"],[0.5555555555555556,\"#d8576b\"],[0.6666666666666666,\"#ed7953\"],[0.7777777777777778,\"#fb9f3a\"],[0.8888888888888888,\"#fdca26\"],[1.0,\"#f0f921\"]],\"diverging\":[[0,\"#8e0152\"],[0.1,\"#c51b7d\"],[0.2,\"#de77ae\"],[0.3,\"#f1b6da\"],[0.4,\"#fde0ef\"],[0.5,\"#f7f7f7\"],[0.6,\"#e6f5d0\"],[0.7,\"#b8e186\"],[0.8,\"#7fbc41\"],[0.9,\"#4d9221\"],[1,\"#276419\"]]},\"xaxis\":{\"gridcolor\":\"white\",\"linecolor\":\"white\",\"ticks\":\"\",\"title\":{\"standoff\":15},\"zerolinecolor\":\"white\",\"automargin\":true,\"zerolinewidth\":2},\"yaxis\":{\"gridcolor\":\"white\",\"linecolor\":\"white\",\"ticks\":\"\",\"title\":{\"standoff\":15},\"zerolinecolor\":\"white\",\"automargin\":true,\"zerolinewidth\":2},\"scene\":{\"xaxis\":{\"backgroundcolor\":\"#E5ECF6\",\"gridcolor\":\"white\",\"linecolor\":\"white\",\"showbackground\":true,\"ticks\":\"\",\"zerolinecolor\":\"white\",\"gridwidth\":2},\"yaxis\":{\"backgroundcolor\":\"#E5ECF6\",\"gridcolor\":\"white\",\"linecolor\":\"white\",\"showbackground\":true,\"ticks\":\"\",\"zerolinecolor\":\"white\",\"gridwidth\":2},\"zaxis\":{\"backgroundcolor\":\"#E5ECF6\",\"gridcolor\":\"white\",\"linecolor\":\"white\",\"showbackground\":true,\"ticks\":\"\",\"zerolinecolor\":\"white\",\"gridwidth\":2}},\"shapedefaults\":{\"line\":{\"color\":\"#2a3f5f\"}},\"annotationdefaults\":{\"arrowcolor\":\"#2a3f5f\",\"arrowhead\":0,\"arrowwidth\":1},\"geo\":{\"bgcolor\":\"white\",\"landcolor\":\"#E5ECF6\",\"subunitcolor\":\"white\",\"showland\":true,\"showlakes\":true,\"lakecolor\":\"white\"},\"title\":{\"x\":0.05},\"mapbox\":{\"style\":\"light\"}}},\"xaxis\":{\"anchor\":\"y\",\"domain\":[0.0,1.0],\"title\":{\"text\":\"Acorn_Group\"}},\"yaxis\":{\"anchor\":\"x\",\"domain\":[0.0,1.0],\"title\":{\"text\":\"KWH/hh\"}},\"legend\":{\"tracegroupgap\":0},\"margin\":{\"t\":60},\"boxmode\":\"group\"},                        {\"responsive\": true}                    ).then(function(){\n",
       "                            \n",
       "var gd = document.getElementById('d84e3e9d-2549-47e2-a2f1-086500d0f1ee');\n",
       "var x = new MutationObserver(function (mutations, observer) {{\n",
       "        var display = window.getComputedStyle(gd).display;\n",
       "        if (!display || display === 'none') {{\n",
       "            console.log([gd, 'removed!']);\n",
       "            Plotly.purge(gd);\n",
       "            observer.disconnect();\n",
       "        }}\n",
       "}});\n",
       "\n",
       "// Listen for the removal of the full notebook cells\n",
       "var notebookContainer = gd.closest('#notebook-container');\n",
       "if (notebookContainer) {{\n",
       "    x.observe(notebookContainer, {childList: true});\n",
       "}}\n",
       "\n",
       "// Listen for the clearing of the current output cell\n",
       "var outputEl = gd.closest('.output');\n",
       "if (outputEl) {{\n",
       "    x.observe(outputEl, {childList: true});\n",
       "}}\n",
       "\n",
       "                        })                };                });            </script>        </div>"
      ]
     },
     "metadata": {},
     "output_type": "display_data"
    }
   ],
   "source": [
    "fig = px.box(ovr, x=\"Acorn_Group\", y=\"KWH/hh\", points='outliers', hover_data= ['LCLid'])\n",
    "fig.show()"
   ]
  }
 ],
 "metadata": {
  "kernelspec": {
   "display_name": "Python 3 (ipykernel)",
   "language": "python",
   "name": "python3"
  },
  "language_info": {
   "codemirror_mode": {
    "name": "ipython",
    "version": 3
   },
   "file_extension": ".py",
   "mimetype": "text/x-python",
   "name": "python",
   "nbconvert_exporter": "python",
   "pygments_lexer": "ipython3",
   "version": "3.8.12"
  }
 },
 "nbformat": 4,
 "nbformat_minor": 5
}

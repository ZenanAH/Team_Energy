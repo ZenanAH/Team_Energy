{
 "cells": [
  {
   "cell_type": "code",
   "execution_count": 1,
   "id": "fd78604e",
   "metadata": {},
   "outputs": [],
   "source": [
    "import pandas as pd\n",
    "import numpy as np"
   ]
  },
  {
   "cell_type": "code",
   "execution_count": 4,
   "id": "5785fda3",
   "metadata": {},
   "outputs": [
    {
     "name": "stdout",
     "output_type": "stream",
     "text": [
      "********\n",
      "train test separator\n",
      "********\n",
      "Ensure full data file is in raw data, and input file name without csv extension\n",
      "df_Q_avg_v1\n"
     ]
    }
   ],
   "source": [
    "print('********')\n",
    "print('train test separator')\n",
    "print('********')\n",
    "print('Input precise path for data including extension')\n",
    "filename = input()"
   ]
  },
  {
   "cell_type": "code",
   "execution_count": 14,
   "id": "97ac0bc2",
   "metadata": {},
   "outputs": [
    {
     "data": {
      "text/html": [
       "<div>\n",
       "<style scoped>\n",
       "    .dataframe tbody tr th:only-of-type {\n",
       "        vertical-align: middle;\n",
       "    }\n",
       "\n",
       "    .dataframe tbody tr th {\n",
       "        vertical-align: top;\n",
       "    }\n",
       "\n",
       "    .dataframe thead th {\n",
       "        text-align: right;\n",
       "    }\n",
       "</style>\n",
       "<table border=\"1\" class=\"dataframe\">\n",
       "  <thead>\n",
       "    <tr style=\"text-align: right;\">\n",
       "      <th></th>\n",
       "      <th>Unnamed: 0</th>\n",
       "      <th>DateTime</th>\n",
       "      <th>KWH/hh</th>\n",
       "      <th>tariff</th>\n",
       "    </tr>\n",
       "  </thead>\n",
       "  <tbody>\n",
       "    <tr>\n",
       "      <th>0</th>\n",
       "      <td>0</td>\n",
       "      <td>2012-01-01 00:00:00</td>\n",
       "      <td>0.220841</td>\n",
       "      <td>Mixed</td>\n",
       "    </tr>\n",
       "    <tr>\n",
       "      <th>1</th>\n",
       "      <td>1</td>\n",
       "      <td>2012-01-01 00:30:00</td>\n",
       "      <td>0.424705</td>\n",
       "      <td>Mixed</td>\n",
       "    </tr>\n",
       "    <tr>\n",
       "      <th>2</th>\n",
       "      <td>2</td>\n",
       "      <td>2012-01-01 01:00:00</td>\n",
       "      <td>0.403841</td>\n",
       "      <td>Mixed</td>\n",
       "    </tr>\n",
       "    <tr>\n",
       "      <th>3</th>\n",
       "      <td>3</td>\n",
       "      <td>2012-01-01 01:30:00</td>\n",
       "      <td>0.356727</td>\n",
       "      <td>Mixed</td>\n",
       "    </tr>\n",
       "    <tr>\n",
       "      <th>4</th>\n",
       "      <td>4</td>\n",
       "      <td>2012-01-01 02:00:00</td>\n",
       "      <td>0.340091</td>\n",
       "      <td>Mixed</td>\n",
       "    </tr>\n",
       "    <tr>\n",
       "      <th>...</th>\n",
       "      <td>...</td>\n",
       "      <td>...</td>\n",
       "      <td>...</td>\n",
       "      <td>...</td>\n",
       "    </tr>\n",
       "    <tr>\n",
       "      <th>37868</th>\n",
       "      <td>37868</td>\n",
       "      <td>2014-02-27 22:00:00</td>\n",
       "      <td>0.218403</td>\n",
       "      <td>Mixed</td>\n",
       "    </tr>\n",
       "    <tr>\n",
       "      <th>37869</th>\n",
       "      <td>37869</td>\n",
       "      <td>2014-02-27 22:30:00</td>\n",
       "      <td>0.222593</td>\n",
       "      <td>Mixed</td>\n",
       "    </tr>\n",
       "    <tr>\n",
       "      <th>37870</th>\n",
       "      <td>37870</td>\n",
       "      <td>2014-02-27 23:00:00</td>\n",
       "      <td>0.196908</td>\n",
       "      <td>Mixed</td>\n",
       "    </tr>\n",
       "    <tr>\n",
       "      <th>37871</th>\n",
       "      <td>37871</td>\n",
       "      <td>2014-02-27 23:30:00</td>\n",
       "      <td>0.171810</td>\n",
       "      <td>Mixed</td>\n",
       "    </tr>\n",
       "    <tr>\n",
       "      <th>37872</th>\n",
       "      <td>37872</td>\n",
       "      <td>2014-02-28 00:00:00</td>\n",
       "      <td>0.179267</td>\n",
       "      <td>Mixed</td>\n",
       "    </tr>\n",
       "  </tbody>\n",
       "</table>\n",
       "<p>37873 rows × 4 columns</p>\n",
       "</div>"
      ],
      "text/plain": [
       "       Unnamed: 0             DateTime    KWH/hh tariff\n",
       "0               0  2012-01-01 00:00:00  0.220841  Mixed\n",
       "1               1  2012-01-01 00:30:00  0.424705  Mixed\n",
       "2               2  2012-01-01 01:00:00  0.403841  Mixed\n",
       "3               3  2012-01-01 01:30:00  0.356727  Mixed\n",
       "4               4  2012-01-01 02:00:00  0.340091  Mixed\n",
       "...           ...                  ...       ...    ...\n",
       "37868       37868  2014-02-27 22:00:00  0.218403  Mixed\n",
       "37869       37869  2014-02-27 22:30:00  0.222593  Mixed\n",
       "37870       37870  2014-02-27 23:00:00  0.196908  Mixed\n",
       "37871       37871  2014-02-27 23:30:00  0.171810  Mixed\n",
       "37872       37872  2014-02-28 00:00:00  0.179267  Mixed\n",
       "\n",
       "[37873 rows x 4 columns]"
      ]
     },
     "execution_count": 14,
     "metadata": {},
     "output_type": "execute_result"
    }
   ],
   "source": [
    "fulldata = pd.read_csv(f'{filename}')\n",
    "fulldata"
   ]
  },
  {
   "cell_type": "code",
   "execution_count": 17,
   "id": "223172eb",
   "metadata": {},
   "outputs": [
    {
     "data": {
      "text/plain": [
       "'2012-01-01 00:00:00'"
      ]
     },
     "execution_count": 17,
     "metadata": {},
     "output_type": "execute_result"
    }
   ],
   "source": [
    "fulldata['DateTime'][0]"
   ]
  },
  {
   "cell_type": "code",
   "execution_count": 18,
   "id": "ac954e9a",
   "metadata": {},
   "outputs": [
    {
     "name": "stdout",
     "output_type": "stream",
     "text": [
      "<class 'pandas.core.frame.DataFrame'>\n",
      "RangeIndex: 37873 entries, 0 to 37872\n",
      "Data columns (total 4 columns):\n",
      " #   Column      Non-Null Count  Dtype         \n",
      "---  ------      --------------  -----         \n",
      " 0   Unnamed: 0  37873 non-null  int64         \n",
      " 1   DateTime    37873 non-null  datetime64[ns]\n",
      " 2   KWH/hh      37873 non-null  float64       \n",
      " 3   tariff      37873 non-null  object        \n",
      "dtypes: datetime64[ns](1), float64(1), int64(1), object(1)\n",
      "memory usage: 1.2+ MB\n"
     ]
    }
   ],
   "source": [
    "fulldata['DateTime'] = pd.to_datetime(fulldata['DateTime'])\n",
    "fulldata.info()"
   ]
  },
  {
   "cell_type": "code",
   "execution_count": 21,
   "id": "3b2df407",
   "metadata": {},
   "outputs": [],
   "source": [
    "train_data = fulldata[(fulldata['DateTime'] >= '2012-01-01') & (fulldata['DateTime'] < '2014-01-01')]\n",
    "validation_data = fulldata[(fulldata['DateTime'] >= '2014-01-01') & (fulldata['DateTime'] < '2014-02-01')]\n",
    "test_data = fulldata[(fulldata['DateTime'] >= '2012-02-01') & (fulldata['DateTime'] < '2014-03-01')]"
   ]
  },
  {
   "cell_type": "code",
   "execution_count": 22,
   "id": "a3515f9a",
   "metadata": {},
   "outputs": [],
   "source": [
    "zenan = pd.read_csv('https://storage.googleapis.com/energy_consumption_903/df_all_avg_v3.csv')"
   ]
  },
  {
   "cell_type": "code",
   "execution_count": 23,
   "id": "2eccc747",
   "metadata": {},
   "outputs": [
    {
     "data": {
      "text/html": [
       "<div>\n",
       "<style scoped>\n",
       "    .dataframe tbody tr th:only-of-type {\n",
       "        vertical-align: middle;\n",
       "    }\n",
       "\n",
       "    .dataframe tbody tr th {\n",
       "        vertical-align: top;\n",
       "    }\n",
       "\n",
       "    .dataframe thead th {\n",
       "        text-align: right;\n",
       "    }\n",
       "</style>\n",
       "<table border=\"1\" class=\"dataframe\">\n",
       "  <thead>\n",
       "    <tr style=\"text-align: right;\">\n",
       "      <th></th>\n",
       "      <th>DateTime</th>\n",
       "      <th>KWH/hh</th>\n",
       "      <th>tariff</th>\n",
       "      <th>Acorn_Group</th>\n",
       "    </tr>\n",
       "  </thead>\n",
       "  <tbody>\n",
       "    <tr>\n",
       "      <th>0</th>\n",
       "      <td>2012-01-01 00:00:00</td>\n",
       "      <td>0.471778</td>\n",
       "      <td>Mixed</td>\n",
       "      <td>A</td>\n",
       "    </tr>\n",
       "    <tr>\n",
       "      <th>1</th>\n",
       "      <td>2012-01-01 00:30:00</td>\n",
       "      <td>0.483222</td>\n",
       "      <td>Mixed</td>\n",
       "      <td>A</td>\n",
       "    </tr>\n",
       "    <tr>\n",
       "      <th>2</th>\n",
       "      <td>2012-01-01 01:00:00</td>\n",
       "      <td>0.457222</td>\n",
       "      <td>Mixed</td>\n",
       "      <td>A</td>\n",
       "    </tr>\n",
       "    <tr>\n",
       "      <th>3</th>\n",
       "      <td>2012-01-01 01:30:00</td>\n",
       "      <td>0.380556</td>\n",
       "      <td>Mixed</td>\n",
       "      <td>A</td>\n",
       "    </tr>\n",
       "    <tr>\n",
       "      <th>4</th>\n",
       "      <td>2012-01-01 02:00:00</td>\n",
       "      <td>0.452889</td>\n",
       "      <td>Mixed</td>\n",
       "      <td>A</td>\n",
       "    </tr>\n",
       "    <tr>\n",
       "      <th>...</th>\n",
       "      <td>...</td>\n",
       "      <td>...</td>\n",
       "      <td>...</td>\n",
       "      <td>...</td>\n",
       "    </tr>\n",
       "    <tr>\n",
       "      <th>642754</th>\n",
       "      <td>2014-02-27 22:00:00</td>\n",
       "      <td>0.218403</td>\n",
       "      <td>Mixed</td>\n",
       "      <td>Q</td>\n",
       "    </tr>\n",
       "    <tr>\n",
       "      <th>642755</th>\n",
       "      <td>2014-02-27 22:30:00</td>\n",
       "      <td>0.222593</td>\n",
       "      <td>Mixed</td>\n",
       "      <td>Q</td>\n",
       "    </tr>\n",
       "    <tr>\n",
       "      <th>642756</th>\n",
       "      <td>2014-02-27 23:00:00</td>\n",
       "      <td>0.196908</td>\n",
       "      <td>Mixed</td>\n",
       "      <td>Q</td>\n",
       "    </tr>\n",
       "    <tr>\n",
       "      <th>642757</th>\n",
       "      <td>2014-02-27 23:30:00</td>\n",
       "      <td>0.171810</td>\n",
       "      <td>Mixed</td>\n",
       "      <td>Q</td>\n",
       "    </tr>\n",
       "    <tr>\n",
       "      <th>642758</th>\n",
       "      <td>2014-02-28 00:00:00</td>\n",
       "      <td>0.179267</td>\n",
       "      <td>Mixed</td>\n",
       "      <td>Q</td>\n",
       "    </tr>\n",
       "  </tbody>\n",
       "</table>\n",
       "<p>642759 rows × 4 columns</p>\n",
       "</div>"
      ],
      "text/plain": [
       "                   DateTime    KWH/hh tariff Acorn_Group\n",
       "0       2012-01-01 00:00:00  0.471778  Mixed           A\n",
       "1       2012-01-01 00:30:00  0.483222  Mixed           A\n",
       "2       2012-01-01 01:00:00  0.457222  Mixed           A\n",
       "3       2012-01-01 01:30:00  0.380556  Mixed           A\n",
       "4       2012-01-01 02:00:00  0.452889  Mixed           A\n",
       "...                     ...       ...    ...         ...\n",
       "642754  2014-02-27 22:00:00  0.218403  Mixed           Q\n",
       "642755  2014-02-27 22:30:00  0.222593  Mixed           Q\n",
       "642756  2014-02-27 23:00:00  0.196908  Mixed           Q\n",
       "642757  2014-02-27 23:30:00  0.171810  Mixed           Q\n",
       "642758  2014-02-28 00:00:00  0.179267  Mixed           Q\n",
       "\n",
       "[642759 rows x 4 columns]"
      ]
     },
     "execution_count": 23,
     "metadata": {},
     "output_type": "execute_result"
    }
   ],
   "source": [
    "zenan"
   ]
  },
  {
   "cell_type": "code",
   "execution_count": 25,
   "id": "d2d9f4be",
   "metadata": {},
   "outputs": [
    {
     "data": {
      "text/plain": [
       "array(['Mixed'], dtype=object)"
      ]
     },
     "execution_count": 25,
     "metadata": {},
     "output_type": "execute_result"
    }
   ],
   "source": [
    "zenan['tariff'].unique()"
   ]
  },
  {
   "cell_type": "code",
   "execution_count": null,
   "id": "d58fb9b8",
   "metadata": {},
   "outputs": [],
   "source": []
  }
 ],
 "metadata": {
  "kernelspec": {
   "display_name": "Python 3 (ipykernel)",
   "language": "python",
   "name": "python3"
  },
  "language_info": {
   "codemirror_mode": {
    "name": "ipython",
    "version": 3
   },
   "file_extension": ".py",
   "mimetype": "text/x-python",
   "name": "python",
   "nbconvert_exporter": "python",
   "pygments_lexer": "ipython3",
   "version": "3.8.12"
  },
  "toc": {
   "base_numbering": 1,
   "nav_menu": {},
   "number_sections": true,
   "sideBar": true,
   "skip_h1_title": false,
   "title_cell": "Table of Contents",
   "title_sidebar": "Contents",
   "toc_cell": false,
   "toc_position": {},
   "toc_section_display": true,
   "toc_window_display": false
  }
 },
 "nbformat": 4,
 "nbformat_minor": 5
}

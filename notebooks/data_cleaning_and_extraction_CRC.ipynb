{
 "cells": [
  {
   "cell_type": "code",
   "execution_count": 1,
   "id": "88dad72d",
   "metadata": {},
   "outputs": [],
   "source": [
    "import pandas as pd\n",
    "import matplotlib.pyplot as plt\n",
    "import seaborn as sns"
   ]
  },
  {
   "cell_type": "code",
   "execution_count": 2,
   "id": "b218732e",
   "metadata": {},
   "outputs": [
    {
     "name": "stdout",
     "output_type": "stream",
     "text": [
      "\u001b[01;34m.\u001b[00m\r\n",
      "└── data_cleaning_and_extraction_CRC.ipynb\r\n",
      "\r\n",
      "0 directories, 1 file\r\n"
     ]
    }
   ],
   "source": [
    "!tree"
   ]
  },
  {
   "cell_type": "code",
   "execution_count": 2,
   "id": "fa7abf30",
   "metadata": {},
   "outputs": [],
   "source": [
    "df_E = pd.read_csv('../raw_data/df_E_v1.csv', nrows = 1_000)"
   ]
  },
  {
   "cell_type": "code",
   "execution_count": 7,
   "id": "74ba5428",
   "metadata": {},
   "outputs": [
    {
     "data": {
      "text/html": [
       "<div>\n",
       "<style scoped>\n",
       "    .dataframe tbody tr th:only-of-type {\n",
       "        vertical-align: middle;\n",
       "    }\n",
       "\n",
       "    .dataframe tbody tr th {\n",
       "        vertical-align: top;\n",
       "    }\n",
       "\n",
       "    .dataframe thead th {\n",
       "        text-align: right;\n",
       "    }\n",
       "</style>\n",
       "<table border=\"1\" class=\"dataframe\">\n",
       "  <thead>\n",
       "    <tr style=\"text-align: right;\">\n",
       "      <th></th>\n",
       "      <th>Unnamed: 0</th>\n",
       "      <th>LCLid</th>\n",
       "      <th>start_date</th>\n",
       "      <th>end_date</th>\n",
       "      <th>number_of_days</th>\n",
       "      <th>data_points</th>\n",
       "      <th>missing_hh</th>\n",
       "      <th>zeros</th>\n",
       "      <th>tariff</th>\n",
       "      <th>Block</th>\n",
       "      <th>Acorn</th>\n",
       "      <th>Group</th>\n",
       "      <th>Classification</th>\n",
       "    </tr>\n",
       "  </thead>\n",
       "  <tbody>\n",
       "    <tr>\n",
       "      <th>1052</th>\n",
       "      <td>1052</td>\n",
       "      <td>MAC000150</td>\n",
       "      <td>2011-11-23 10:00:00</td>\n",
       "      <td>2014-02-28 00:00:00</td>\n",
       "      <td>827</td>\n",
       "      <td>39719</td>\n",
       "      <td>6</td>\n",
       "      <td>0</td>\n",
       "      <td>Std</td>\n",
       "      <td>block_21</td>\n",
       "      <td>ACORN-E</td>\n",
       "      <td>Career Climbers</td>\n",
       "      <td>Rising Prosperity</td>\n",
       "    </tr>\n",
       "    <tr>\n",
       "      <th>1200</th>\n",
       "      <td>1200</td>\n",
       "      <td>MAC000152</td>\n",
       "      <td>2011-11-23 12:00:00</td>\n",
       "      <td>2014-02-28 00:00:00</td>\n",
       "      <td>827</td>\n",
       "      <td>39718</td>\n",
       "      <td>3</td>\n",
       "      <td>0</td>\n",
       "      <td>Std</td>\n",
       "      <td>block_24</td>\n",
       "      <td>ACORN-E</td>\n",
       "      <td>Career Climbers</td>\n",
       "      <td>Rising Prosperity</td>\n",
       "    </tr>\n",
       "    <tr>\n",
       "      <th>1201</th>\n",
       "      <td>1201</td>\n",
       "      <td>MAC000153</td>\n",
       "      <td>2011-11-23 12:00:00</td>\n",
       "      <td>2014-02-28 00:00:00</td>\n",
       "      <td>827</td>\n",
       "      <td>39713</td>\n",
       "      <td>8</td>\n",
       "      <td>0</td>\n",
       "      <td>Std</td>\n",
       "      <td>block_24</td>\n",
       "      <td>ACORN-E</td>\n",
       "      <td>Career Climbers</td>\n",
       "      <td>Rising Prosperity</td>\n",
       "    </tr>\n",
       "    <tr>\n",
       "      <th>1202</th>\n",
       "      <td>1202</td>\n",
       "      <td>MAC000159</td>\n",
       "      <td>2011-11-24 10:00:00</td>\n",
       "      <td>2014-02-28 00:00:00</td>\n",
       "      <td>826</td>\n",
       "      <td>39645</td>\n",
       "      <td>32</td>\n",
       "      <td>0</td>\n",
       "      <td>Std</td>\n",
       "      <td>block_24</td>\n",
       "      <td>ACORN-E</td>\n",
       "      <td>Career Climbers</td>\n",
       "      <td>Rising Prosperity</td>\n",
       "    </tr>\n",
       "    <tr>\n",
       "      <th>1203</th>\n",
       "      <td>1203</td>\n",
       "      <td>MAC000161</td>\n",
       "      <td>2011-11-24 10:30:00</td>\n",
       "      <td>2013-03-13 00:00:00</td>\n",
       "      <td>474</td>\n",
       "      <td>22777</td>\n",
       "      <td>3</td>\n",
       "      <td>0</td>\n",
       "      <td>Std</td>\n",
       "      <td>block_24</td>\n",
       "      <td>ACORN-E</td>\n",
       "      <td>Career Climbers</td>\n",
       "      <td>Rising Prosperity</td>\n",
       "    </tr>\n",
       "    <tr>\n",
       "      <th>...</th>\n",
       "      <td>...</td>\n",
       "      <td>...</td>\n",
       "      <td>...</td>\n",
       "      <td>...</td>\n",
       "      <td>...</td>\n",
       "      <td>...</td>\n",
       "      <td>...</td>\n",
       "      <td>...</td>\n",
       "      <td>...</td>\n",
       "      <td>...</td>\n",
       "      <td>...</td>\n",
       "      <td>...</td>\n",
       "      <td>...</td>\n",
       "    </tr>\n",
       "    <tr>\n",
       "      <th>1156</th>\n",
       "      <td>1156</td>\n",
       "      <td>MAC003934</td>\n",
       "      <td>2012-12-05 10:30:00</td>\n",
       "      <td>2014-02-28 00:00:00</td>\n",
       "      <td>449</td>\n",
       "      <td>21529</td>\n",
       "      <td>51</td>\n",
       "      <td>0</td>\n",
       "      <td>Std</td>\n",
       "      <td>block_23</td>\n",
       "      <td>ACORN-E</td>\n",
       "      <td>Career Climbers</td>\n",
       "      <td>Rising Prosperity</td>\n",
       "    </tr>\n",
       "    <tr>\n",
       "      <th>1106</th>\n",
       "      <td>1106</td>\n",
       "      <td>MAC003451</td>\n",
       "      <td>2012-12-08 00:30:00</td>\n",
       "      <td>2014-02-28 00:00:00</td>\n",
       "      <td>446</td>\n",
       "      <td>21455</td>\n",
       "      <td>1</td>\n",
       "      <td>0</td>\n",
       "      <td>Std</td>\n",
       "      <td>block_22</td>\n",
       "      <td>ACORN-E</td>\n",
       "      <td>Career Climbers</td>\n",
       "      <td>Rising Prosperity</td>\n",
       "    </tr>\n",
       "    <tr>\n",
       "      <th>1372</th>\n",
       "      <td>1372</td>\n",
       "      <td>MAC005037</td>\n",
       "      <td>2013-01-05 00:30:00</td>\n",
       "      <td>2014-02-28 00:00:00</td>\n",
       "      <td>418</td>\n",
       "      <td>20111</td>\n",
       "      <td>1</td>\n",
       "      <td>0</td>\n",
       "      <td>Std</td>\n",
       "      <td>block_27</td>\n",
       "      <td>ACORN-E</td>\n",
       "      <td>Career Climbers</td>\n",
       "      <td>Rising Prosperity</td>\n",
       "    </tr>\n",
       "    <tr>\n",
       "      <th>1722</th>\n",
       "      <td>1722</td>\n",
       "      <td>MAC001478</td>\n",
       "      <td>2013-03-09 00:30:00</td>\n",
       "      <td>2014-02-28 00:00:00</td>\n",
       "      <td>355</td>\n",
       "      <td>17087</td>\n",
       "      <td>1</td>\n",
       "      <td>0</td>\n",
       "      <td>Std</td>\n",
       "      <td>block_34</td>\n",
       "      <td>ACORN-E</td>\n",
       "      <td>Career Climbers</td>\n",
       "      <td>Rising Prosperity</td>\n",
       "    </tr>\n",
       "    <tr>\n",
       "      <th>2025</th>\n",
       "      <td>2025</td>\n",
       "      <td>MAC001477</td>\n",
       "      <td>2013-10-23 00:30:00</td>\n",
       "      <td>2014-02-28 00:00:00</td>\n",
       "      <td>127</td>\n",
       "      <td>6144</td>\n",
       "      <td>0</td>\n",
       "      <td>0</td>\n",
       "      <td>ToU</td>\n",
       "      <td>block_40</td>\n",
       "      <td>ACORN-E</td>\n",
       "      <td>Career Climbers</td>\n",
       "      <td>Rising Prosperity</td>\n",
       "    </tr>\n",
       "  </tbody>\n",
       "</table>\n",
       "<p>1567 rows × 13 columns</p>\n",
       "</div>"
      ],
      "text/plain": [
       "      Unnamed: 0      LCLid           start_date             end_date  \\\n",
       "1052        1052  MAC000150  2011-11-23 10:00:00  2014-02-28 00:00:00   \n",
       "1200        1200  MAC000152  2011-11-23 12:00:00  2014-02-28 00:00:00   \n",
       "1201        1201  MAC000153  2011-11-23 12:00:00  2014-02-28 00:00:00   \n",
       "1202        1202  MAC000159  2011-11-24 10:00:00  2014-02-28 00:00:00   \n",
       "1203        1203  MAC000161  2011-11-24 10:30:00  2013-03-13 00:00:00   \n",
       "...          ...        ...                  ...                  ...   \n",
       "1156        1156  MAC003934  2012-12-05 10:30:00  2014-02-28 00:00:00   \n",
       "1106        1106  MAC003451  2012-12-08 00:30:00  2014-02-28 00:00:00   \n",
       "1372        1372  MAC005037  2013-01-05 00:30:00  2014-02-28 00:00:00   \n",
       "1722        1722  MAC001478  2013-03-09 00:30:00  2014-02-28 00:00:00   \n",
       "2025        2025  MAC001477  2013-10-23 00:30:00  2014-02-28 00:00:00   \n",
       "\n",
       "      number_of_days  data_points  missing_hh  zeros tariff     Block  \\\n",
       "1052             827        39719           6      0    Std  block_21   \n",
       "1200             827        39718           3      0    Std  block_24   \n",
       "1201             827        39713           8      0    Std  block_24   \n",
       "1202             826        39645          32      0    Std  block_24   \n",
       "1203             474        22777           3      0    Std  block_24   \n",
       "...              ...          ...         ...    ...    ...       ...   \n",
       "1156             449        21529          51      0    Std  block_23   \n",
       "1106             446        21455           1      0    Std  block_22   \n",
       "1372             418        20111           1      0    Std  block_27   \n",
       "1722             355        17087           1      0    Std  block_34   \n",
       "2025             127         6144           0      0    ToU  block_40   \n",
       "\n",
       "        Acorn            Group     Classification  \n",
       "1052  ACORN-E  Career Climbers  Rising Prosperity  \n",
       "1200  ACORN-E  Career Climbers  Rising Prosperity  \n",
       "1201  ACORN-E  Career Climbers  Rising Prosperity  \n",
       "1202  ACORN-E  Career Climbers  Rising Prosperity  \n",
       "1203  ACORN-E  Career Climbers  Rising Prosperity  \n",
       "...       ...              ...                ...  \n",
       "1156  ACORN-E  Career Climbers  Rising Prosperity  \n",
       "1106  ACORN-E  Career Climbers  Rising Prosperity  \n",
       "1372  ACORN-E  Career Climbers  Rising Prosperity  \n",
       "1722  ACORN-E  Career Climbers  Rising Prosperity  \n",
       "2025  ACORN-E  Career Climbers  Rising Prosperity  \n",
       "\n",
       "[1567 rows x 13 columns]"
      ]
     },
     "execution_count": 7,
     "metadata": {},
     "output_type": "execute_result"
    }
   ],
   "source": [
    "df_summary = pd.read_csv('../raw_data/summary_v1.csv')\n",
    "df_E = df_summary[df_summary['Acorn'] == 'ACORN-E']\n",
    "df_E.sort_values(by='start_date')"
   ]
  },
  {
   "cell_type": "code",
   "execution_count": 10,
   "id": "47e55004",
   "metadata": {},
   "outputs": [
    {
     "name": "stdout",
     "output_type": "stream",
     "text": [
      "<class 'pandas.core.frame.DataFrame'>\n",
      "Int64Index: 1567 entries, 610 to 2199\n",
      "Data columns (total 13 columns):\n",
      " #   Column          Non-Null Count  Dtype \n",
      "---  ------          --------------  ----- \n",
      " 0   Unnamed: 0      1567 non-null   int64 \n",
      " 1   LCLid           1567 non-null   object\n",
      " 2   start_date      1567 non-null   object\n",
      " 3   end_date        1567 non-null   object\n",
      " 4   number_of_days  1567 non-null   int64 \n",
      " 5   data_points     1567 non-null   int64 \n",
      " 6   missing_hh      1567 non-null   int64 \n",
      " 7   zeros           1567 non-null   int64 \n",
      " 8   tariff          1567 non-null   object\n",
      " 9   Block           1567 non-null   object\n",
      " 10  Acorn           1567 non-null   object\n",
      " 11  Group           1567 non-null   object\n",
      " 12  Classification  1567 non-null   object\n",
      "dtypes: int64(5), object(8)\n",
      "memory usage: 171.4+ KB\n"
     ]
    }
   ],
   "source": [
    "df_E.info()"
   ]
  },
  {
   "cell_type": "code",
   "execution_count": 3,
   "id": "a75dbf54",
   "metadata": {},
   "outputs": [],
   "source": [
    "df_full= pd.read_csv('../raw_data/CC_LCL-FullData-001.csv', nrows = 10_000_000)"
   ]
  },
  {
   "cell_type": "code",
   "execution_count": 4,
   "id": "8cf8af61",
   "metadata": {},
   "outputs": [
    {
     "data": {
      "text/plain": [
       "Index(['LCLid', 'stdorToU', 'DateTime', 'KWH/hh (per half hour) '], dtype='object')"
      ]
     },
     "execution_count": 4,
     "metadata": {},
     "output_type": "execute_result"
    }
   ],
   "source": [
    "df_full.keys()"
   ]
  },
  {
   "cell_type": "code",
   "execution_count": 5,
   "id": "8d9f880d",
   "metadata": {},
   "outputs": [],
   "source": [
    "df_full['DateTime'] = pd.to_datetime(df_full['DateTime'])"
   ]
  },
  {
   "cell_type": "code",
   "execution_count": 7,
   "id": "ecb346fd",
   "metadata": {},
   "outputs": [
    {
     "data": {
      "text/html": [
       "<div>\n",
       "<style scoped>\n",
       "    .dataframe tbody tr th:only-of-type {\n",
       "        vertical-align: middle;\n",
       "    }\n",
       "\n",
       "    .dataframe tbody tr th {\n",
       "        vertical-align: top;\n",
       "    }\n",
       "\n",
       "    .dataframe thead th {\n",
       "        text-align: right;\n",
       "    }\n",
       "</style>\n",
       "<table border=\"1\" class=\"dataframe\">\n",
       "  <thead>\n",
       "    <tr style=\"text-align: right;\">\n",
       "      <th></th>\n",
       "      <th>LCLid</th>\n",
       "      <th>stdorToU</th>\n",
       "      <th>DateTime</th>\n",
       "      <th>KWH/hh (per half hour)</th>\n",
       "    </tr>\n",
       "  </thead>\n",
       "  <tbody>\n",
       "    <tr>\n",
       "      <th>0</th>\n",
       "      <td>MAC000002</td>\n",
       "      <td>Std</td>\n",
       "      <td>2012-10-12 00:30:00</td>\n",
       "      <td>0</td>\n",
       "    </tr>\n",
       "    <tr>\n",
       "      <th>1</th>\n",
       "      <td>MAC000002</td>\n",
       "      <td>Std</td>\n",
       "      <td>2012-10-12 01:00:00</td>\n",
       "      <td>0</td>\n",
       "    </tr>\n",
       "    <tr>\n",
       "      <th>2</th>\n",
       "      <td>MAC000002</td>\n",
       "      <td>Std</td>\n",
       "      <td>2012-10-12 01:30:00</td>\n",
       "      <td>0</td>\n",
       "    </tr>\n",
       "    <tr>\n",
       "      <th>3</th>\n",
       "      <td>MAC000002</td>\n",
       "      <td>Std</td>\n",
       "      <td>2012-10-12 02:00:00</td>\n",
       "      <td>0</td>\n",
       "    </tr>\n",
       "    <tr>\n",
       "      <th>4</th>\n",
       "      <td>MAC000002</td>\n",
       "      <td>Std</td>\n",
       "      <td>2012-10-12 02:30:00</td>\n",
       "      <td>0</td>\n",
       "    </tr>\n",
       "  </tbody>\n",
       "</table>\n",
       "</div>"
      ],
      "text/plain": [
       "       LCLid stdorToU            DateTime KWH/hh (per half hour) \n",
       "0  MAC000002      Std 2012-10-12 00:30:00                      0 \n",
       "1  MAC000002      Std 2012-10-12 01:00:00                      0 \n",
       "2  MAC000002      Std 2012-10-12 01:30:00                      0 \n",
       "3  MAC000002      Std 2012-10-12 02:00:00                      0 \n",
       "4  MAC000002      Std 2012-10-12 02:30:00                      0 "
      ]
     },
     "execution_count": 7,
     "metadata": {},
     "output_type": "execute_result"
    }
   ],
   "source": [
    "df_full.head()"
   ]
  },
  {
   "cell_type": "code",
   "execution_count": 47,
   "id": "0462e9d0",
   "metadata": {},
   "outputs": [
    {
     "data": {
      "text/html": [
       "<div>\n",
       "<style scoped>\n",
       "    .dataframe tbody tr th:only-of-type {\n",
       "        vertical-align: middle;\n",
       "    }\n",
       "\n",
       "    .dataframe tbody tr th {\n",
       "        vertical-align: top;\n",
       "    }\n",
       "\n",
       "    .dataframe thead th {\n",
       "        text-align: right;\n",
       "    }\n",
       "</style>\n",
       "<table border=\"1\" class=\"dataframe\">\n",
       "  <thead>\n",
       "    <tr style=\"text-align: right;\">\n",
       "      <th></th>\n",
       "      <th>LCLid</th>\n",
       "      <th>stdorToU</th>\n",
       "      <th>DateTime</th>\n",
       "      <th>KWH/hh (per half hour)</th>\n",
       "    </tr>\n",
       "  </thead>\n",
       "  <tbody>\n",
       "    <tr>\n",
       "      <th>24158</th>\n",
       "      <td>MAC000003</td>\n",
       "      <td>Std</td>\n",
       "      <td>2012-02-20 13:00:00.0000000</td>\n",
       "      <td>0.976</td>\n",
       "    </tr>\n",
       "    <tr>\n",
       "      <th>24159</th>\n",
       "      <td>MAC000003</td>\n",
       "      <td>Std</td>\n",
       "      <td>2012-02-20 13:30:00.0000000</td>\n",
       "      <td>0.834</td>\n",
       "    </tr>\n",
       "    <tr>\n",
       "      <th>24160</th>\n",
       "      <td>MAC000003</td>\n",
       "      <td>Std</td>\n",
       "      <td>2012-02-20 14:00:00.0000000</td>\n",
       "      <td>0.577</td>\n",
       "    </tr>\n",
       "    <tr>\n",
       "      <th>24161</th>\n",
       "      <td>MAC000003</td>\n",
       "      <td>Std</td>\n",
       "      <td>2012-02-20 14:30:00.0000000</td>\n",
       "      <td>0.63</td>\n",
       "    </tr>\n",
       "    <tr>\n",
       "      <th>24162</th>\n",
       "      <td>MAC000003</td>\n",
       "      <td>Std</td>\n",
       "      <td>2012-02-20 15:00:00.0000000</td>\n",
       "      <td>0.679</td>\n",
       "    </tr>\n",
       "    <tr>\n",
       "      <th>...</th>\n",
       "      <td>...</td>\n",
       "      <td>...</td>\n",
       "      <td>...</td>\n",
       "      <td>...</td>\n",
       "    </tr>\n",
       "    <tr>\n",
       "      <th>59622</th>\n",
       "      <td>MAC000003</td>\n",
       "      <td>Std</td>\n",
       "      <td>2014-02-27 22:30:00.0000000</td>\n",
       "      <td>0.117</td>\n",
       "    </tr>\n",
       "    <tr>\n",
       "      <th>59623</th>\n",
       "      <td>MAC000003</td>\n",
       "      <td>Std</td>\n",
       "      <td>2014-02-27 23:00:00.0000000</td>\n",
       "      <td>0.064</td>\n",
       "    </tr>\n",
       "    <tr>\n",
       "      <th>59624</th>\n",
       "      <td>MAC000003</td>\n",
       "      <td>Std</td>\n",
       "      <td>2014-02-27 23:30:00.0000000</td>\n",
       "      <td>0.047</td>\n",
       "    </tr>\n",
       "    <tr>\n",
       "      <th>59625</th>\n",
       "      <td>MAC000003</td>\n",
       "      <td>Std</td>\n",
       "      <td>2014-02-28 00:00:00.0000000</td>\n",
       "      <td>0.07</td>\n",
       "    </tr>\n",
       "    <tr>\n",
       "      <th>59626</th>\n",
       "      <td>MAC000003</td>\n",
       "      <td>Std</td>\n",
       "      <td>2014-02-28 00:00:00.0000000</td>\n",
       "      <td>0.07</td>\n",
       "    </tr>\n",
       "  </tbody>\n",
       "</table>\n",
       "<p>35469 rows × 4 columns</p>\n",
       "</div>"
      ],
      "text/plain": [
       "           LCLid stdorToU                     DateTime KWH/hh (per half hour) \n",
       "24158  MAC000003      Std  2012-02-20 13:00:00.0000000                  0.976 \n",
       "24159  MAC000003      Std  2012-02-20 13:30:00.0000000                  0.834 \n",
       "24160  MAC000003      Std  2012-02-20 14:00:00.0000000                  0.577 \n",
       "24161  MAC000003      Std  2012-02-20 14:30:00.0000000                   0.63 \n",
       "24162  MAC000003      Std  2012-02-20 15:00:00.0000000                  0.679 \n",
       "...          ...      ...                          ...                     ...\n",
       "59622  MAC000003      Std  2014-02-27 22:30:00.0000000                  0.117 \n",
       "59623  MAC000003      Std  2014-02-27 23:00:00.0000000                  0.064 \n",
       "59624  MAC000003      Std  2014-02-27 23:30:00.0000000                  0.047 \n",
       "59625  MAC000003      Std  2014-02-28 00:00:00.0000000                   0.07 \n",
       "59626  MAC000003      Std  2014-02-28 00:00:00.0000000                   0.07 \n",
       "\n",
       "[35469 rows x 4 columns]"
      ]
     },
     "execution_count": 47,
     "metadata": {},
     "output_type": "execute_result"
    }
   ],
   "source": [
    "datahouse3 = df_full[df_full['LCLid'] == 'MAC000003']\n",
    "datahouse3"
   ]
  },
  {
   "cell_type": "code",
   "execution_count": 55,
   "id": "21c0d0d5",
   "metadata": {},
   "outputs": [],
   "source": [
    "datahouse3 = datahouse3.iloc[49:96]"
   ]
  },
  {
   "cell_type": "code",
   "execution_count": 50,
   "id": "82969609",
   "metadata": {},
   "outputs": [],
   "source": [
    "datahouse3 = datahouse3.reset_index().drop(columns = 'index').reset_index()"
   ]
  },
  {
   "cell_type": "code",
   "execution_count": 51,
   "id": "16317cba",
   "metadata": {},
   "outputs": [
    {
     "ename": "ValueError",
     "evalue": "Unable to parse string \"Null\" at position 14552",
     "output_type": "error",
     "traceback": [
      "\u001b[0;31m---------------------------------------------------------------------------\u001b[0m",
      "\u001b[0;31mValueError\u001b[0m                                Traceback (most recent call last)",
      "File \u001b[0;32m~/.pyenv/versions/3.8.12/envs/Team_Energy/lib/python3.8/site-packages/pandas/_libs/lib.pyx:2315\u001b[0m, in \u001b[0;36mpandas._libs.lib.maybe_convert_numeric\u001b[0;34m()\u001b[0m\n",
      "\u001b[0;31mValueError\u001b[0m: Unable to parse string \"Null\"",
      "\nDuring handling of the above exception, another exception occurred:\n",
      "\u001b[0;31mValueError\u001b[0m                                Traceback (most recent call last)",
      "Input \u001b[0;32mIn [51]\u001b[0m, in \u001b[0;36m<cell line: 1>\u001b[0;34m()\u001b[0m\n\u001b[0;32m----> 1\u001b[0m datahouse3[\u001b[38;5;124m'\u001b[39m\u001b[38;5;124mKWH/hh (per half hour) \u001b[39m\u001b[38;5;124m'\u001b[39m] \u001b[38;5;241m=\u001b[39m \u001b[43mpd\u001b[49m\u001b[38;5;241;43m.\u001b[39;49m\u001b[43mto_numeric\u001b[49m\u001b[43m(\u001b[49m\u001b[43mdatahouse3\u001b[49m\u001b[43m[\u001b[49m\u001b[38;5;124;43m'\u001b[39;49m\u001b[38;5;124;43mKWH/hh (per half hour) \u001b[39;49m\u001b[38;5;124;43m'\u001b[39;49m\u001b[43m]\u001b[49m\u001b[43m)\u001b[49m\n",
      "File \u001b[0;32m~/.pyenv/versions/3.8.12/envs/Team_Energy/lib/python3.8/site-packages/pandas/core/tools/numeric.py:184\u001b[0m, in \u001b[0;36mto_numeric\u001b[0;34m(arg, errors, downcast)\u001b[0m\n\u001b[1;32m    182\u001b[0m coerce_numeric \u001b[38;5;241m=\u001b[39m errors \u001b[38;5;129;01mnot\u001b[39;00m \u001b[38;5;129;01min\u001b[39;00m (\u001b[38;5;124m\"\u001b[39m\u001b[38;5;124mignore\u001b[39m\u001b[38;5;124m\"\u001b[39m, \u001b[38;5;124m\"\u001b[39m\u001b[38;5;124mraise\u001b[39m\u001b[38;5;124m\"\u001b[39m)\n\u001b[1;32m    183\u001b[0m \u001b[38;5;28;01mtry\u001b[39;00m:\n\u001b[0;32m--> 184\u001b[0m     values, _ \u001b[38;5;241m=\u001b[39m \u001b[43mlib\u001b[49m\u001b[38;5;241;43m.\u001b[39;49m\u001b[43mmaybe_convert_numeric\u001b[49m\u001b[43m(\u001b[49m\n\u001b[1;32m    185\u001b[0m \u001b[43m        \u001b[49m\u001b[43mvalues\u001b[49m\u001b[43m,\u001b[49m\u001b[43m \u001b[49m\u001b[38;5;28;43mset\u001b[39;49m\u001b[43m(\u001b[49m\u001b[43m)\u001b[49m\u001b[43m,\u001b[49m\u001b[43m \u001b[49m\u001b[43mcoerce_numeric\u001b[49m\u001b[38;5;241;43m=\u001b[39;49m\u001b[43mcoerce_numeric\u001b[49m\n\u001b[1;32m    186\u001b[0m \u001b[43m    \u001b[49m\u001b[43m)\u001b[49m\n\u001b[1;32m    187\u001b[0m \u001b[38;5;28;01mexcept\u001b[39;00m (\u001b[38;5;167;01mValueError\u001b[39;00m, \u001b[38;5;167;01mTypeError\u001b[39;00m):\n\u001b[1;32m    188\u001b[0m     \u001b[38;5;28;01mif\u001b[39;00m errors \u001b[38;5;241m==\u001b[39m \u001b[38;5;124m\"\u001b[39m\u001b[38;5;124mraise\u001b[39m\u001b[38;5;124m\"\u001b[39m:\n",
      "File \u001b[0;32m~/.pyenv/versions/3.8.12/envs/Team_Energy/lib/python3.8/site-packages/pandas/_libs/lib.pyx:2357\u001b[0m, in \u001b[0;36mpandas._libs.lib.maybe_convert_numeric\u001b[0;34m()\u001b[0m\n",
      "\u001b[0;31mValueError\u001b[0m: Unable to parse string \"Null\" at position 14552"
     ]
    }
   ],
   "source": [
    "datahouse3['KWH/hh (per half hour) '] = pd.to_numeric(datahouse3['KWH/hh (per half hour) '])"
   ]
  },
  {
   "cell_type": "code",
   "execution_count": 37,
   "id": "841c4ade",
   "metadata": {},
   "outputs": [],
   "source": [
    "datahouse3['DateTime'] = pd.to_datetime(datahouse3['DateTime'], )"
   ]
  },
  {
   "cell_type": "code",
   "execution_count": 43,
   "id": "f7fd8aa0",
   "metadata": {},
   "outputs": [
    {
     "ename": "ValueError",
     "evalue": "unconverted data remains: :00",
     "output_type": "error",
     "traceback": [
      "\u001b[0;31m---------------------------------------------------------------------------\u001b[0m",
      "\u001b[0;31mTypeError\u001b[0m                                 Traceback (most recent call last)",
      "File \u001b[0;32m~/.pyenv/versions/3.8.12/envs/Team_Energy/lib/python3.8/site-packages/pandas/core/tools/datetimes.py:510\u001b[0m, in \u001b[0;36m_to_datetime_with_format\u001b[0;34m(arg, orig_arg, name, tz, fmt, exact, errors, infer_datetime_format)\u001b[0m\n\u001b[1;32m    509\u001b[0m \u001b[38;5;28;01mtry\u001b[39;00m:\n\u001b[0;32m--> 510\u001b[0m     values, tz \u001b[38;5;241m=\u001b[39m \u001b[43mconversion\u001b[49m\u001b[38;5;241;43m.\u001b[39;49m\u001b[43mdatetime_to_datetime64\u001b[49m\u001b[43m(\u001b[49m\u001b[43marg\u001b[49m\u001b[43m)\u001b[49m\n\u001b[1;32m    511\u001b[0m     dta \u001b[38;5;241m=\u001b[39m DatetimeArray(values, dtype\u001b[38;5;241m=\u001b[39mtz_to_dtype(tz))\n",
      "File \u001b[0;32m~/.pyenv/versions/3.8.12/envs/Team_Energy/lib/python3.8/site-packages/pandas/_libs/tslibs/conversion.pyx:360\u001b[0m, in \u001b[0;36mpandas._libs.tslibs.conversion.datetime_to_datetime64\u001b[0;34m()\u001b[0m\n",
      "\u001b[0;31mTypeError\u001b[0m: Unrecognized value type: <class 'datetime.time'>",
      "\nDuring handling of the above exception, another exception occurred:\n",
      "\u001b[0;31mValueError\u001b[0m                                Traceback (most recent call last)",
      "Input \u001b[0;32mIn [43]\u001b[0m, in \u001b[0;36m<cell line: 1>\u001b[0;34m()\u001b[0m\n\u001b[0;32m----> 1\u001b[0m datahouse3[\u001b[38;5;124m'\u001b[39m\u001b[38;5;124mDateTime\u001b[39m\u001b[38;5;124m'\u001b[39m] \u001b[38;5;241m=\u001b[39m \u001b[43mpd\u001b[49m\u001b[38;5;241;43m.\u001b[39;49m\u001b[43mto_datetime\u001b[49m\u001b[43m(\u001b[49m\u001b[43mdatahouse3\u001b[49m\u001b[43m[\u001b[49m\u001b[38;5;124;43m'\u001b[39;49m\u001b[38;5;124;43mDateTime\u001b[39;49m\u001b[38;5;124;43m'\u001b[39;49m\u001b[43m]\u001b[49m\u001b[43m,\u001b[49m\u001b[38;5;28;43mformat\u001b[39;49m\u001b[38;5;241;43m=\u001b[39;49m\u001b[43m \u001b[49m\u001b[38;5;124;43m'\u001b[39;49m\u001b[38;5;124;43m%\u001b[39;49m\u001b[38;5;124;43mH:\u001b[39;49m\u001b[38;5;124;43m%\u001b[39;49m\u001b[38;5;124;43mM\u001b[39;49m\u001b[38;5;124;43m'\u001b[39;49m\u001b[43m \u001b[49m\u001b[43m)\u001b[49m\n",
      "File \u001b[0;32m~/.pyenv/versions/3.8.12/envs/Team_Energy/lib/python3.8/site-packages/pandas/core/tools/datetimes.py:1051\u001b[0m, in \u001b[0;36mto_datetime\u001b[0;34m(arg, errors, dayfirst, yearfirst, utc, format, exact, unit, infer_datetime_format, origin, cache)\u001b[0m\n\u001b[1;32m   1049\u001b[0m         result \u001b[38;5;241m=\u001b[39m arg\u001b[38;5;241m.\u001b[39mmap(cache_array)\n\u001b[1;32m   1050\u001b[0m     \u001b[38;5;28;01melse\u001b[39;00m:\n\u001b[0;32m-> 1051\u001b[0m         values \u001b[38;5;241m=\u001b[39m \u001b[43mconvert_listlike\u001b[49m\u001b[43m(\u001b[49m\u001b[43marg\u001b[49m\u001b[38;5;241;43m.\u001b[39;49m\u001b[43m_values\u001b[49m\u001b[43m,\u001b[49m\u001b[43m \u001b[49m\u001b[38;5;28;43mformat\u001b[39;49m\u001b[43m)\u001b[49m\n\u001b[1;32m   1052\u001b[0m         result \u001b[38;5;241m=\u001b[39m arg\u001b[38;5;241m.\u001b[39m_constructor(values, index\u001b[38;5;241m=\u001b[39marg\u001b[38;5;241m.\u001b[39mindex, name\u001b[38;5;241m=\u001b[39marg\u001b[38;5;241m.\u001b[39mname)\n\u001b[1;32m   1053\u001b[0m \u001b[38;5;28;01melif\u001b[39;00m \u001b[38;5;28misinstance\u001b[39m(arg, (ABCDataFrame, abc\u001b[38;5;241m.\u001b[39mMutableMapping)):\n",
      "File \u001b[0;32m~/.pyenv/versions/3.8.12/envs/Team_Energy/lib/python3.8/site-packages/pandas/core/tools/datetimes.py:394\u001b[0m, in \u001b[0;36m_convert_listlike_datetimes\u001b[0;34m(arg, format, name, tz, unit, errors, infer_datetime_format, dayfirst, yearfirst, exact)\u001b[0m\n\u001b[1;32m    391\u001b[0m         \u001b[38;5;28mformat\u001b[39m \u001b[38;5;241m=\u001b[39m \u001b[38;5;28;01mNone\u001b[39;00m\n\u001b[1;32m    393\u001b[0m \u001b[38;5;28;01mif\u001b[39;00m \u001b[38;5;28mformat\u001b[39m \u001b[38;5;129;01mis\u001b[39;00m \u001b[38;5;129;01mnot\u001b[39;00m \u001b[38;5;28;01mNone\u001b[39;00m:\n\u001b[0;32m--> 394\u001b[0m     res \u001b[38;5;241m=\u001b[39m \u001b[43m_to_datetime_with_format\u001b[49m\u001b[43m(\u001b[49m\n\u001b[1;32m    395\u001b[0m \u001b[43m        \u001b[49m\u001b[43marg\u001b[49m\u001b[43m,\u001b[49m\u001b[43m \u001b[49m\u001b[43morig_arg\u001b[49m\u001b[43m,\u001b[49m\u001b[43m \u001b[49m\u001b[43mname\u001b[49m\u001b[43m,\u001b[49m\u001b[43m \u001b[49m\u001b[43mtz\u001b[49m\u001b[43m,\u001b[49m\u001b[43m \u001b[49m\u001b[38;5;28;43mformat\u001b[39;49m\u001b[43m,\u001b[49m\u001b[43m \u001b[49m\u001b[43mexact\u001b[49m\u001b[43m,\u001b[49m\u001b[43m \u001b[49m\u001b[43merrors\u001b[49m\u001b[43m,\u001b[49m\u001b[43m \u001b[49m\u001b[43minfer_datetime_format\u001b[49m\n\u001b[1;32m    396\u001b[0m \u001b[43m    \u001b[49m\u001b[43m)\u001b[49m\n\u001b[1;32m    397\u001b[0m     \u001b[38;5;28;01mif\u001b[39;00m res \u001b[38;5;129;01mis\u001b[39;00m \u001b[38;5;129;01mnot\u001b[39;00m \u001b[38;5;28;01mNone\u001b[39;00m:\n\u001b[1;32m    398\u001b[0m         \u001b[38;5;28;01mreturn\u001b[39;00m res\n",
      "File \u001b[0;32m~/.pyenv/versions/3.8.12/envs/Team_Energy/lib/python3.8/site-packages/pandas/core/tools/datetimes.py:514\u001b[0m, in \u001b[0;36m_to_datetime_with_format\u001b[0;34m(arg, orig_arg, name, tz, fmt, exact, errors, infer_datetime_format)\u001b[0m\n\u001b[1;32m    512\u001b[0m     \u001b[38;5;28;01mreturn\u001b[39;00m DatetimeIndex\u001b[38;5;241m.\u001b[39m_simple_new(dta, name\u001b[38;5;241m=\u001b[39mname)\n\u001b[1;32m    513\u001b[0m \u001b[38;5;28;01mexcept\u001b[39;00m (\u001b[38;5;167;01mValueError\u001b[39;00m, \u001b[38;5;167;01mTypeError\u001b[39;00m):\n\u001b[0;32m--> 514\u001b[0m     \u001b[38;5;28;01mraise\u001b[39;00m err\n",
      "File \u001b[0;32m~/.pyenv/versions/3.8.12/envs/Team_Energy/lib/python3.8/site-packages/pandas/core/tools/datetimes.py:501\u001b[0m, in \u001b[0;36m_to_datetime_with_format\u001b[0;34m(arg, orig_arg, name, tz, fmt, exact, errors, infer_datetime_format)\u001b[0m\n\u001b[1;32m    498\u001b[0m             \u001b[38;5;28;01mreturn\u001b[39;00m _box_as_indexlike(result, utc\u001b[38;5;241m=\u001b[39mutc, name\u001b[38;5;241m=\u001b[39mname)\n\u001b[1;32m    500\u001b[0m     \u001b[38;5;66;03m# fallback\u001b[39;00m\n\u001b[0;32m--> 501\u001b[0m     res \u001b[38;5;241m=\u001b[39m \u001b[43m_array_strptime_with_fallback\u001b[49m\u001b[43m(\u001b[49m\n\u001b[1;32m    502\u001b[0m \u001b[43m        \u001b[49m\u001b[43marg\u001b[49m\u001b[43m,\u001b[49m\u001b[43m \u001b[49m\u001b[43mname\u001b[49m\u001b[43m,\u001b[49m\u001b[43m \u001b[49m\u001b[43mtz\u001b[49m\u001b[43m,\u001b[49m\u001b[43m \u001b[49m\u001b[43mfmt\u001b[49m\u001b[43m,\u001b[49m\u001b[43m \u001b[49m\u001b[43mexact\u001b[49m\u001b[43m,\u001b[49m\u001b[43m \u001b[49m\u001b[43merrors\u001b[49m\u001b[43m,\u001b[49m\u001b[43m \u001b[49m\u001b[43minfer_datetime_format\u001b[49m\n\u001b[1;32m    503\u001b[0m \u001b[43m    \u001b[49m\u001b[43m)\u001b[49m\n\u001b[1;32m    504\u001b[0m     \u001b[38;5;28;01mreturn\u001b[39;00m res\n\u001b[1;32m    506\u001b[0m \u001b[38;5;28;01mexcept\u001b[39;00m \u001b[38;5;167;01mValueError\u001b[39;00m \u001b[38;5;28;01mas\u001b[39;00m err:\n\u001b[1;32m    507\u001b[0m     \u001b[38;5;66;03m# Fallback to try to convert datetime objects if timezone-aware\u001b[39;00m\n\u001b[1;32m    508\u001b[0m     \u001b[38;5;66;03m#  datetime objects are found without passing `utc=True`\u001b[39;00m\n",
      "File \u001b[0;32m~/.pyenv/versions/3.8.12/envs/Team_Energy/lib/python3.8/site-packages/pandas/core/tools/datetimes.py:437\u001b[0m, in \u001b[0;36m_array_strptime_with_fallback\u001b[0;34m(arg, name, tz, fmt, exact, errors, infer_datetime_format)\u001b[0m\n\u001b[1;32m    434\u001b[0m utc \u001b[38;5;241m=\u001b[39m tz \u001b[38;5;241m==\u001b[39m \u001b[38;5;124m\"\u001b[39m\u001b[38;5;124mutc\u001b[39m\u001b[38;5;124m\"\u001b[39m\n\u001b[1;32m    436\u001b[0m \u001b[38;5;28;01mtry\u001b[39;00m:\n\u001b[0;32m--> 437\u001b[0m     result, timezones \u001b[38;5;241m=\u001b[39m \u001b[43marray_strptime\u001b[49m\u001b[43m(\u001b[49m\u001b[43marg\u001b[49m\u001b[43m,\u001b[49m\u001b[43m \u001b[49m\u001b[43mfmt\u001b[49m\u001b[43m,\u001b[49m\u001b[43m \u001b[49m\u001b[43mexact\u001b[49m\u001b[38;5;241;43m=\u001b[39;49m\u001b[43mexact\u001b[49m\u001b[43m,\u001b[49m\u001b[43m \u001b[49m\u001b[43merrors\u001b[49m\u001b[38;5;241;43m=\u001b[39;49m\u001b[43merrors\u001b[49m\u001b[43m)\u001b[49m\n\u001b[1;32m    438\u001b[0m     \u001b[38;5;28;01mif\u001b[39;00m \u001b[38;5;124m\"\u001b[39m\u001b[38;5;124m%\u001b[39m\u001b[38;5;124mZ\u001b[39m\u001b[38;5;124m\"\u001b[39m \u001b[38;5;129;01min\u001b[39;00m fmt \u001b[38;5;129;01mor\u001b[39;00m \u001b[38;5;124m\"\u001b[39m\u001b[38;5;124m%\u001b[39m\u001b[38;5;124mz\u001b[39m\u001b[38;5;124m\"\u001b[39m \u001b[38;5;129;01min\u001b[39;00m fmt:\n\u001b[1;32m    439\u001b[0m         \u001b[38;5;28;01mreturn\u001b[39;00m _return_parsed_timezone_results(result, timezones, tz, name)\n",
      "File \u001b[0;32m~/.pyenv/versions/3.8.12/envs/Team_Energy/lib/python3.8/site-packages/pandas/_libs/tslibs/strptime.pyx:156\u001b[0m, in \u001b[0;36mpandas._libs.tslibs.strptime.array_strptime\u001b[0;34m()\u001b[0m\n",
      "\u001b[0;31mValueError\u001b[0m: unconverted data remains: :00"
     ]
    }
   ],
   "source": [
    "datahouse3['DateTime'] = pd.to_datetime(datahouse3['DateTime'],format= '%H:%M' )"
   ]
  },
  {
   "cell_type": "code",
   "execution_count": 52,
   "id": "aebdc30b",
   "metadata": {},
   "outputs": [
    {
     "data": {
      "text/plain": [
       "0        2012-02-20 13:00:00.0000000\n",
       "1        2012-02-20 13:30:00.0000000\n",
       "2        2012-02-20 14:00:00.0000000\n",
       "3        2012-02-20 14:30:00.0000000\n",
       "4        2012-02-20 15:00:00.0000000\n",
       "                    ...             \n",
       "35464    2014-02-27 22:30:00.0000000\n",
       "35465    2014-02-27 23:00:00.0000000\n",
       "35466    2014-02-27 23:30:00.0000000\n",
       "35467    2014-02-28 00:00:00.0000000\n",
       "35468    2014-02-28 00:00:00.0000000\n",
       "Name: DateTime, Length: 35469, dtype: object"
      ]
     },
     "execution_count": 52,
     "metadata": {},
     "output_type": "execute_result"
    }
   ],
   "source": [
    "datahouse3['DateTime']"
   ]
  },
  {
   "cell_type": "code",
   "execution_count": 56,
   "id": "d221353a",
   "metadata": {},
   "outputs": [
    {
     "data": {
      "text/plain": [
       "[<matplotlib.lines.Line2D at 0x7efe5eb52250>]"
      ]
     },
     "execution_count": 56,
     "metadata": {},
     "output_type": "execute_result"
    },
    {
     "data": {
      "image/png": "[encoded data removed]",
      "text/plain": [
       "<Figure size 640x480 with 1 Axes>"
      ]
     },
     "metadata": {},
     "output_type": "display_data"
    }
   ],
   "source": [
    "plt.plot(datahouse3['index'], datahouse3['KWH/hh (per half hour) '])"
   ]
  },
  {
   "cell_type": "code",
   "execution_count": null,
   "id": "6855046e",
   "metadata": {},
   "outputs": [],
   "source": []
  },
  {
   "cell_type": "code",
   "execution_count": 10,
   "id": "f8b6de8e",
   "metadata": {},
   "outputs": [
    {
     "data": {
      "text/plain": [
       "<AxesSubplot:xlabel='DateTime', ylabel='KWH/hh (per half hour) '>"
      ]
     },
     "execution_count": 10,
     "metadata": {},
     "output_type": "execute_result"
    },
    {
     "data": {
      "image/png": "[encoded data removed]",
      "text/plain": [
       "<Figure size 640x480 with 1 Axes>"
      ]
     },
     "metadata": {},
     "output_type": "display_data"
    }
   ],
   "source": [
    "sns.lineplot(data = datahouse3, x = 'DateTime', y = 'KWH/hh (per half hour) ')"
   ]
  },
  {
   "cell_type": "code",
   "execution_count": 13,
   "id": "abadb729",
   "metadata": {},
   "outputs": [
    {
     "ename": "TypeError",
     "evalue": "'Int64Index' object is not callable",
     "output_type": "error",
     "traceback": [
      "\u001b[0;31m---------------------------------------------------------------------------\u001b[0m",
      "\u001b[0;31mTypeError\u001b[0m                                 Traceback (most recent call last)",
      "Input \u001b[0;32mIn [13]\u001b[0m, in \u001b[0;36m<cell line: 1>\u001b[0;34m()\u001b[0m\n\u001b[0;32m----> 1\u001b[0m plt\u001b[38;5;241m.\u001b[39mplot(\u001b[43mdatahouse3\u001b[49m\u001b[38;5;241;43m.\u001b[39;49m\u001b[43mindex\u001b[49m\u001b[43m(\u001b[49m\u001b[43m)\u001b[49m, datahouse3[\u001b[38;5;124m'\u001b[39m\u001b[38;5;124mKWH/hh (per half hour) \u001b[39m\u001b[38;5;124m'\u001b[39m])\n",
      "\u001b[0;31mTypeError\u001b[0m: 'Int64Index' object is not callable"
     ]
    }
   ],
   "source": [
    "plt.plot(datahouse3.index(), datahouse3['KWH/hh (per half hour) '])"
   ]
  },
  {
   "cell_type": "code",
   "execution_count": 20,
   "id": "6b162835",
   "metadata": {},
   "outputs": [],
   "source": [
    "df_full2= pd.read_csv('../raw_data/CC_LCL-FullData-001.csv', nrows = 10_000_000, skiprows=10_000_000)"
   ]
  },
  {
   "cell_type": "code",
   "execution_count": 45,
   "id": "b0308025",
   "metadata": {},
   "outputs": [
    {
     "data": {
      "text/plain": [
       "LCLid                                        MAC000003\n",
       "stdorToU                                           Std\n",
       "DateTime                   2012-02-20 13:00:00.0000000\n",
       "KWH/hh (per half hour)                          0.976 \n",
       "Name: 24158, dtype: object"
      ]
     },
     "execution_count": 45,
     "metadata": {},
     "output_type": "execute_result"
    }
   ],
   "source": [
    "df_full.iloc[24158]"
   ]
  },
  {
   "cell_type": "code",
   "execution_count": null,
   "id": "c80faca0",
   "metadata": {},
   "outputs": [],
   "source": []
  }
 ],
 "metadata": {
  "kernelspec": {
   "display_name": "Python 3 (ipykernel)",
   "language": "python",
   "name": "python3"
  },
  "language_info": {
   "codemirror_mode": {
    "name": "ipython",
    "version": 3
   },
   "file_extension": ".py",
   "mimetype": "text/x-python",
   "name": "python",
   "nbconvert_exporter": "python",
   "pygments_lexer": "ipython3",
   "version": "3.8.12"
  },
  "toc": {
   "base_numbering": 1,
   "nav_menu": {},
   "number_sections": true,
   "sideBar": true,
   "skip_h1_title": false,
   "title_cell": "Table of Contents",
   "title_sidebar": "Contents",
   "toc_cell": false,
   "toc_position": {},
   "toc_section_display": true,
   "toc_window_display": false
  },
  "vscode": {
   "interpreter": {
    "hash": "e3dd683d1fce6698ce16f6a82f3e3cf642c4dc3f518c9f359c18bccdfc9efb7f"
   }
  }
 },
 "nbformat": 4,
 "nbformat_minor": 5
}

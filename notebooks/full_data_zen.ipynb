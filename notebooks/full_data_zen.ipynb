{
 "cells": [
  {
   "cell_type": "markdown",
   "id": "46247bdc",
   "metadata": {},
   "source": [
    "## Imports"
   ]
  },
  {
   "cell_type": "code",
   "execution_count": null,
   "id": "8f29e64a",
   "metadata": {},
   "outputs": [],
   "source": [
    "import pandas as pd\n",
    "import numpy as np\n",
    "import seaborn as sns\n",
    "from matplotlib import pyplot as plt\n",
    "from matplotlib.pyplot import figure\n",
    "import os"
   ]
  },
  {
   "cell_type": "code",
   "execution_count": null,
   "id": "f2064ada",
   "metadata": {},
   "outputs": [],
   "source": [
    "#!pip install dask"
   ]
  },
  {
   "cell_type": "markdown",
   "id": "3dda7a45",
   "metadata": {},
   "source": [
    "## Extract data from gcp"
   ]
  },
  {
   "cell_type": "code",
   "execution_count": 85,
   "id": "131f0471",
   "metadata": {},
   "outputs": [],
   "source": [
    "#this does not group by tariff type\n",
    "def process_group_data(g):\n",
    "    #not required for Chris\n",
    "    df=pd.read_csv(f\"https://storage.googleapis.com/energy_usage_prediction_903/df_{g}_v1.csv\")\n",
    "    df.drop(columns='Unnamed: 0',inplace=True)\n",
    "    #imputing zeros and nans on group avverage as opposed to per house for speed\n",
    "    df1=df.loc[:,['LCLid','Acorn_Group','DateTime','KWH/hh','Tariff']]\n",
    "    df1.loc[:,'DateTime']=pd.to_datetime(df1['DateTime'])\n",
    "    #group average\n",
    "    df2=df1.groupby(by=[df.DateTime,'Tariff']).mean()\n",
    "    df2.sort_index(inplace=True)\n",
    "    #fill 0s with nans\n",
    "    df2['KWH/hh'].replace(0,np.nan,inplace=True)\n",
    "    #fill nans for both existing ones and any created due to missing HH \n",
    "    date_range = pd.DataFrame(pd.date_range(df2.index[0],df2.index[-1], freq='30 min'),columns=['DateTime'])\n",
    "    df2.reset_index(inplace=True)\n",
    "    df2.loc[:,'DateTime']=pd.to_datetime(df2['DateTime'])\n",
    "    df3=date_range.merge(df2,on='DateTime',how='outer')\n",
    "    if np.sum(df3['KWH/hh'].isna())!=0:\n",
    "        df3.fillna(method='bfill',inplace=True)\n",
    "    return df3"
   ]
  },
  {
   "cell_type": "markdown",
   "id": "02c3cb50",
   "metadata": {},
   "source": [
    "## Check start and end date for each group"
   ]
  },
  {
   "cell_type": "code",
   "execution_count": null,
   "id": "7033ac67",
   "metadata": {},
   "outputs": [],
   "source": [
    "groups=['A','B','C','D','F','G','H','I','J','K','L','M','N','O','P','Q']\n",
    "def extract_start_end_time_bygroup(groups):\n",
    "    g_dict={}\n",
    "    g_dict['E']=[['2011-11-24 11:00:00', '2014-02-28 00:00:00']]\n",
    "    for g in groups:\n",
    "        df=pd.read_csv(f\"https://storage.googleapis.com/energy_usage_prediction_903/df_{g}_v1.csv\",usecols=['DateTime','KWH/hh'])\n",
    "        df.set_index('DateTime',inplace=True)\n",
    "        df_av=df.groupby(by=df.index).mean()\n",
    "        df_av.sort_index(inplace=True)\n",
    "        g_dict[g]=[[df_av.index[0],df_av.index[-1]]]\n",
    "        \n",
    "    return g_dict"
   ]
  },
  {
   "cell_type": "code",
   "execution_count": null,
   "id": "e29b41cf",
   "metadata": {},
   "outputs": [],
   "source": [
    "# df=pd.read_csv('https://storage.googleapis.com/energy_usage_prediction_903/df_E_v1.csv',usecols=['DateTime','KWH/hh'])\n",
    "# df.set_index('DateTime',inplace=True)\n",
    "# t=[df.index[0],df.index[-1]]#['2012-07-09 11:30:00', '2014-02-28 00:00:00']"
   ]
  },
  {
   "cell_type": "code",
   "execution_count": null,
   "id": "8d05d8e8",
   "metadata": {},
   "outputs": [],
   "source": [
    "# #read data in chunks of 1 million rows at a time\n",
    "# chunk = pd.read_csv('https://storage.googleapis.com/energy_usage_prediction_903/df_E_v1.csv',chunksize=1000000)\n",
    "# pd_df = pd.concat(chunk)"
   ]
  },
  {
   "cell_type": "markdown",
   "id": "4f5806cb",
   "metadata": {},
   "source": [
    "## merge_all_data"
   ]
  },
  {
   "cell_type": "code",
   "execution_count": null,
   "id": "106c3391",
   "metadata": {},
   "outputs": [],
   "source": [
    "groups=['A','B','C','D','F','G','H','I','J','K','L','M','N','O','P','Q']\n",
    "def merge_groups(groups,use_tariff=True):\n",
    "    for g  in groups:\n",
    "        if use_tariff==True:\n",
    "            tariffs=['Std','ToU']\n",
    "            for tr in tariffs:\n",
    "                df2=pd.read_csv(f\"https://storage.googleapis.com/energy_usage_prediction_903/df_{g}_avg_{tr}_v1.csv\").drop(columns='Unnamed: 0')\n",
    "                df2['Acorn_Group']=g\n",
    "                df=pd.concat([df, df2])                \n",
    "        else:\n",
    "            df1=pd.read_csv(f\"https://storage.googleapis.com/energy_usage_prediction_903/df_{g}_avg_v1.csv\").drop(columns='Unnamed: 0')\n",
    "            df1['Acorn_Group']=g\n",
    "            df=pd.concat([df, df1])\n",
    "    return df\n",
    "    "
   ]
  },
  {
   "cell_type": "markdown",
   "id": "164ed732",
   "metadata": {},
   "source": [
    "## Save files"
   ]
  },
  {
   "cell_type": "code",
   "execution_count": null,
   "id": "81e19897",
   "metadata": {},
   "outputs": [],
   "source": [
    "df_all_avg_tariff_v1=merge_groups(groups,use_tariff=True)\n",
    "df_all_avg_v1=merge_groups(groups,use_tariff=False)\n",
    "\n",
    "path=os.path.join(os.getcwd(),\"../Team_Energy/data/\")\n",
    "print(path)\n",
    "df_all_avg_tariff_v1.to_csv(path+\"df_all_avg_tariff_v1.csv\",header=True,index=False)\n",
    "df_all_avg_v1.to_csv(path+\"df_all_avg_v1.csv\",header=True,index=False)"
   ]
  },
  {
   "cell_type": "code",
   "execution_count": null,
   "id": "f4a1d735",
   "metadata": {},
   "outputs": [],
   "source": []
  }
 ],
 "metadata": {
  "kernelspec": {
   "display_name": "Python 3 (ipykernel)",
   "language": "python",
   "name": "python3"
  },
  "language_info": {
   "codemirror_mode": {
    "name": "ipython",
    "version": 3
   },
   "file_extension": ".py",
   "mimetype": "text/x-python",
   "name": "python",
   "nbconvert_exporter": "python",
   "pygments_lexer": "ipython3",
   "version": "3.8.12"
  },
  "toc": {
   "base_numbering": 1,
   "nav_menu": {},
   "number_sections": true,
   "sideBar": true,
   "skip_h1_title": false,
   "title_cell": "Table of Contents",
   "title_sidebar": "Contents",
   "toc_cell": false,
   "toc_position": {},
   "toc_section_display": true,
   "toc_window_display": false
  }
 },
 "nbformat": 4,
 "nbformat_minor": 5
}

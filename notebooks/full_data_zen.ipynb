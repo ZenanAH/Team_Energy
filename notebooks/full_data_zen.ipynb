{
 "cells": [
  {
   "cell_type": "markdown",
   "id": "b14f7c4a",
   "metadata": {},
   "source": [
    "## imports"
   ]
  },
  {
   "cell_type": "code",
   "execution_count": 1,
   "id": "6fbcf435",
   "metadata": {},
   "outputs": [],
   "source": [
    "import pandas as pd\n",
    "import numpy as np\n",
    "import seaborn as sns\n",
    "from matplotlib import pyplot as plt\n",
    "from matplotlib.pyplot import figure"
   ]
  },
  {
   "cell_type": "code",
   "execution_count": 8,
   "id": "b3a1171b",
   "metadata": {},
   "outputs": [],
   "source": [
    "#!pip install dask"
   ]
  },
  {
   "cell_type": "markdown",
   "id": "48f40ddc",
   "metadata": {},
   "source": [
    "## extract data from gcp"
   ]
  },
  {
   "cell_type": "code",
   "execution_count": 11,
   "id": "e9fea3de",
   "metadata": {},
   "outputs": [],
   "source": [
    "#this does not group by tariff type\n",
    "def process_group_data(g):\n",
    "    #not required for Chris\n",
    "    df=pd.read_csv(f\"https://storage.googleapis.com/energy_usage_prediction_903/df_{g}_v1.csv\")\n",
    "    df.drop(columns='Unnamed: 0',inplace=True)\n",
    "    #imputing zeros and nans on group avverage as opposed to per house for speed\n",
    "    df1=df.loc[:,['LCLid','Acorn_Group','DateTime','KWH/hh','Tariff']]\n",
    "    df1.loc[:,'DateTime']=pd.to_datetime(df1['DateTime'])\n",
    "    #group average\n",
    "    df2=df1.groupby(by=df.DateTime).mean()\n",
    "    df2.sort_index(inplace=True)\n",
    "    #fill 0s with nans\n",
    "    df2['KWH/hh'].replace(0,np.nan,inplace=True)\n",
    "    #fill nans for both existing ones and any created due to missing HH \n",
    "    date_range = pd.DataFrame(pd.date_range(df2.index[0],df2.index[-1], freq='30 min'),columns=['DateTime'])\n",
    "    df2.reset_index(inplace=True)\n",
    "    df2.loc[:,'DateTime']=pd.to_datetime(df2['DateTime'])\n",
    "    df3=date_range.merge(df2,on='DateTime',how='outer')\n",
    "    if np.sum(df3['KWH/hh'].isna())!=0:\n",
    "        df3.fillna(method='bfill',inplace=True)\n",
    "    return df3"
   ]
  },
  {
   "cell_type": "markdown",
   "id": "3c2afeef",
   "metadata": {},
   "source": [
    "## Check start and end date for each group"
   ]
  },
  {
   "cell_type": "code",
   "execution_count": 3,
   "id": "e376609c",
   "metadata": {},
   "outputs": [],
   "source": [
    "groups=['A','B','C','D','F','G','H','I','J','K','L','M','N','O','P','Q']\n",
    "def extract_start_end_time_bygroup(groups):\n",
    "    g_dict={}\n",
    "    g_dict['E']=[['2011-11-24 11:00:00', '2014-02-28 00:00:00']]\n",
    "    for g in groups:\n",
    "        df=pd.read_csv(f\"https://storage.googleapis.com/energy_usage_prediction_903/df_{g}_v1.csv\",usecols=['DateTime','KWH/hh'])\n",
    "        df.set_index('DateTime',inplace=True)\n",
    "        df_av=df.groupby(by=df.index).mean()\n",
    "        df_av.sort_index(inplace=True)\n",
    "        g_dict[g]=[[df_av.index[0],df_av.index[-1]]]\n",
    "        \n",
    "    return g_dict"
   ]
  },
  {
   "cell_type": "code",
   "execution_count": null,
   "id": "8c017949",
   "metadata": {},
   "outputs": [],
   "source": [
    "# df=pd.read_csv('https://storage.googleapis.com/energy_usage_prediction_903/df_E_v1.csv',usecols=['DateTime','KWH/hh'])\n",
    "# df.set_index('DateTime',inplace=True)\n",
    "# t=[df.index[0],df.index[-1]]#['2012-07-09 11:30:00', '2014-02-28 00:00:00']"
   ]
  },
  {
   "cell_type": "code",
   "execution_count": 10,
   "id": "06c90497",
   "metadata": {},
   "outputs": [],
   "source": [
    "# #read data in chunks of 1 million rows at a time\n",
    "# chunk = pd.read_csv('https://storage.googleapis.com/energy_usage_prediction_903/df_E_v1.csv',chunksize=1000000)\n",
    "# pd_df = pd.concat(chunk)"
   ]
  },
  {
   "cell_type": "code",
   "execution_count": 32,
   "id": "9c3ac659",
   "metadata": {},
   "outputs": [],
   "source": [
    "groups=['A','B','C','D','F','G','H','I','J','K','L','M','N','O','P','Q']\n",
    "def merge_groups(groups,use_tariff=True):\n",
    "    if use_tariff==True:\n",
    "        df = pd.DataFrame(columns=['DateTime','KWH/hh','Acorn_Group'])\n",
    "        \n",
    "    \n",
    "    for g  in groups:\n",
    "        if use_tariff==True:\n",
    "            df1=pd.read_csv(f\"https://storage.googleapis.com/energy_usage_prediction_903/df_{g}_avg_v1.csv\").drop(columns='Unnamed: 0')\n",
    "        \n",
    "        df1['Acorn_Group']=g\n",
    "        df=pd.concat([df, df1])\n",
    "    return df\n"
   ]
  },
  {
   "cell_type": "code",
   "execution_count": 29,
   "id": "c88afe92",
   "metadata": {},
   "outputs": [],
   "source": [
    "https://storage.googleapis.com/energy_usage_prediction_903/df_A_avg_Std_v1.csv\n",
    "https://storage.googleapis.com/energy_usage_prediction_903/df_A_avg_ToU_v1.csv"
   ]
  },
  {
   "cell_type": "code",
   "execution_count": 34,
   "id": "454dceab",
   "metadata": {},
   "outputs": [
    {
     "data": {
      "text/plain": [
       "'https://storage.googleapis.com/energy_usage_prediction_903/df_Q_avg_v1.csv'"
      ]
     },
     "execution_count": 34,
     "metadata": {},
     "output_type": "execute_result"
    }
   ],
   "source": [
    "f\"https://storage.googleapis.com/energy_usage_prediction_903/df_{g}_avg_v1.csv\""
   ]
  },
  {
   "cell_type": "code",
   "execution_count": 39,
   "id": "c7a09772",
   "metadata": {},
   "outputs": [
    {
     "data": {
      "text/plain": [
       "'https://storage.googleapis.com/energy_usage_prediction_903/df_Q_avg_Std_v1.csv'"
      ]
     },
     "execution_count": 39,
     "metadata": {},
     "output_type": "execute_result"
    }
   ],
   "source": [
    "f\"https://storage.googleapis.com/energy_usage_prediction_903/df_{g}_avg{'_Std'}_v1.csv\""
   ]
  },
  {
   "cell_type": "code",
   "execution_count": null,
   "id": "49a02f0e",
   "metadata": {},
   "outputs": [],
   "source": []
  }
 ],
 "metadata": {
  "kernelspec": {
   "display_name": "Python 3 (ipykernel)",
   "language": "python",
   "name": "python3"
  },
  "language_info": {
   "codemirror_mode": {
    "name": "ipython",
    "version": 3
   },
   "file_extension": ".py",
   "mimetype": "text/x-python",
   "name": "python",
   "nbconvert_exporter": "python",
   "pygments_lexer": "ipython3",
   "version": "3.8.12"
  },
  "toc": {
   "base_numbering": 1,
   "nav_menu": {},
   "number_sections": true,
   "sideBar": true,
   "skip_h1_title": false,
   "title_cell": "Table of Contents",
   "title_sidebar": "Contents",
   "toc_cell": false,
   "toc_position": {},
   "toc_section_display": true,
   "toc_window_display": false
  }
 },
 "nbformat": 4,
 "nbformat_minor": 5
}

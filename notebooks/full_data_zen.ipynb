{
 "cells": [
  {
   "cell_type": "markdown",
   "id": "6277fe9e",
   "metadata": {},
   "source": [
    "## Imports"
   ]
  },
  {
   "cell_type": "code",
   "execution_count": null,
   "id": "d45ea5eb",
   "metadata": {},
   "outputs": [],
   "source": [
    "import pandas as pd\n",
    "import numpy as np\n",
    "import seaborn as sns\n",
    "from matplotlib import pyplot as plt\n",
    "from matplotlib.pyplot import figure\n",
    "import os"
   ]
  },
  {
   "cell_type": "code",
   "execution_count": null,
   "id": "48dec255",
   "metadata": {},
   "outputs": [],
   "source": [
    "#!pip install dask"
   ]
  },
  {
   "cell_type": "markdown",
   "id": "1aae7aa6",
   "metadata": {},
   "source": [
    "## Extract data from gcp"
   ]
  },
  {
   "cell_type": "code",
   "execution_count": 86,
   "id": "ff23a97b",
   "metadata": {},
   "outputs": [],
   "source": [
    "#this does not group by tariff type\n",
    "def process_group_data(g):\n",
    "    #not required for Chris\n",
    "    df=pd.read_csv(f\"https://storage.googleapis.com/energy_usage_prediction_903/df_{g}_v1.csv\")\n",
    "    df.drop(columns='Unnamed: 0',inplace=True)\n",
    "    #imputing zeros and nans on group avverage as opposed to per house for speed\n",
    "    df1=df.loc[:,['LCLid','Acorn_Group','DateTime','KWH/hh','Tariff']]\n",
    "    df1.loc[:,'DateTime']=pd.to_datetime(df1['DateTime'])\n",
    "    #group average\n",
    "    df2=df1.groupby(by=df.DateTime).mean()\n",
    "    df2.sort_index(inplace=True)\n",
    "    #fill 0s with nans\n",
    "    df2['KWH/hh'].replace(0,np.nan,inplace=True)\n",
    "    #fill nans for both existing ones and any created due to missing HH \n",
    "    date_range = pd.DataFrame(pd.date_range(df2.index[0],df2.index[-1], freq='30 min'),columns=['DateTime'])\n",
    "    df2.reset_index(inplace=True)\n",
    "    df2.loc[:,'DateTime']=pd.to_datetime(df2['DateTime'])\n",
    "    df3=date_range.merge(df2,on='DateTime',how='outer')\n",
    "    if np.sum(df3['KWH/hh'].isna())!=0:\n",
    "        df3.fillna(method='bfill',inplace=True)\n",
    "    return df3"
   ]
  },
  {
   "cell_type": "markdown",
   "id": "927f54c4",
   "metadata": {},
   "source": [
    "## Check start and end date for each group"
   ]
  },
  {
   "cell_type": "code",
   "execution_count": null,
   "id": "a727a1ff",
   "metadata": {},
   "outputs": [],
   "source": [
    "groups=['A','B','C','D','F','G','H','I','J','K','L','M','N','O','P','Q']\n",
    "def extract_start_end_time_bygroup(groups):\n",
    "    g_dict={}\n",
    "    g_dict['E']=[['2011-11-24 11:00:00', '2014-02-28 00:00:00']]\n",
    "    for g in groups:\n",
    "        df=pd.read_csv(f\"https://storage.googleapis.com/energy_usage_prediction_903/df_{g}_v1.csv\",usecols=['DateTime','KWH/hh'])\n",
    "        df.set_index('DateTime',inplace=True)\n",
    "        df_av=df.groupby(by=df.index).mean()\n",
    "        df_av.sort_index(inplace=True)\n",
    "        g_dict[g]=[[df_av.index[0],df_av.index[-1]]]\n",
    "        \n",
    "    return g_dict"
   ]
  },
  {
   "cell_type": "code",
   "execution_count": null,
   "id": "a7bcc37c",
   "metadata": {},
   "outputs": [],
   "source": [
    "# df=pd.read_csv('https://storage.googleapis.com/energy_usage_prediction_903/df_E_v1.csv',usecols=['DateTime','KWH/hh'])\n",
    "# df.set_index('DateTime',inplace=True)\n",
    "# t=[df.index[0],df.index[-1]]#['2012-07-09 11:30:00', '2014-02-28 00:00:00']"
   ]
  },
  {
   "cell_type": "code",
   "execution_count": null,
   "id": "dc0a83f9",
   "metadata": {},
   "outputs": [],
   "source": [
    "# #read data in chunks of 1 million rows at a time\n",
    "# chunk = pd.read_csv('https://storage.googleapis.com/energy_usage_prediction_903/df_E_v1.csv',chunksize=1000000)\n",
    "# pd_df = pd.concat(chunk)"
   ]
  },
  {
   "cell_type": "markdown",
   "id": "85d71e3a",
   "metadata": {},
   "source": [
    "## merge_all_data"
   ]
  },
  {
   "cell_type": "code",
   "execution_count": null,
   "id": "cd495e65",
   "metadata": {},
   "outputs": [],
   "source": [
    "groups=['A','B','C','D','F','G','H','I','J','K','L','M','N','O','P','Q']\n",
    "def merge_groups(groups,use_tariff=True):\n",
    "    for g  in groups:\n",
    "        if use_tariff==True:\n",
    "            tariffs=['Std','ToU']\n",
    "            for tr in tariffs:\n",
    "                df2=pd.read_csv(f\"https://storage.googleapis.com/energy_usage_prediction_903/df_{g}_avg_{tr}_v1.csv\").drop(columns='Unnamed: 0')\n",
    "                df2['Acorn_Group']=g\n",
    "                df=pd.concat([df, df2])                \n",
    "        else:\n",
    "            df1=pd.read_csv(f\"https://storage.googleapis.com/energy_usage_prediction_903/df_{g}_avg_v1.csv\").drop(columns='Unnamed: 0')\n",
    "            df1['Acorn_Group']=g\n",
    "            df=pd.concat([df, df1])\n",
    "    return df\n",
    "    "
   ]
  },
  {
   "cell_type": "markdown",
   "id": "5b627221",
   "metadata": {},
   "source": [
    "## Save files"
   ]
  },
  {
   "cell_type": "code",
   "execution_count": null,
   "id": "a738a728",
   "metadata": {},
   "outputs": [],
   "source": [
    "df_all_avg_tariff_v1=merge_groups(groups,use_tariff=True)\n",
    "df_all_avg_v1=merge_groups(groups,use_tariff=False)\n",
    "\n",
    "path=os.path.join(os.getcwd(),\"../Team_Energy/data/\")\n",
    "print(path)\n",
    "df_all_avg_tariff_v1.to_csv(path+\"df_all_avg_tariff_v1.csv\",header=True,index=False)\n",
    "df_all_avg_v1.to_csv(path+\"df_all_avg_v1.csv\",header=True,index=False)"
   ]
  },
  {
   "cell_type": "code",
   "execution_count": 127,
   "id": "bfbbef2a",
   "metadata": {},
   "outputs": [],
   "source": [
    "df=pd.read_csv(f\"https://storage.googleapis.com/energy_usage_prediction_903/df_{'B'}_v1.csv\")\n",
    "df.drop(columns='Unnamed: 0',inplace=True)\n",
    "#imputing zeros and nans on group avverage as opposed to per house for speed\n",
    "df1=df.loc[:,['LCLid','Acorn_Group','DateTime','KWH/hh','Tariff']]\n",
    "df1.loc[:,'DateTime']=pd.to_datetime(df1['DateTime'])\n",
    "#group average\n",
    "df2=df1.groupby(by=[df.DateTime,'Tariff']).mean()\n",
    "df2.reset_index(inplace=True)\n",
    "#fill 0s with nans\n",
    "df2['KWH/hh'].replace(0,np.nan,inplace=True)\n",
    "df3=df2.pivot(index='DateTime', columns='Tariff', values='KWH/hh').reset_index()\n",
    "df3.rename_axis(None, axis=1,inplace=True)\n",
    "#std\n",
    "df_std=df3[['DateTime','Std']].set_index('DateTime')\n",
    "#tou\n",
    "df_tou=df3[['DateTime','ToU']].set_index('DateTime')\n",
    "#tou\n",
    "df_tou=df3[['DateTime','ToU']].set_index('DateTime').dropna(inplace=True)"
   ]
  },
  {
   "cell_type": "code",
   "execution_count": 148,
   "id": "3e433039",
   "metadata": {},
   "outputs": [],
   "source": [
    "date_range = pd.DataFrame(pd.date_range(df_std.index[0],df_std.index[-1], freq='30 min'),columns=['DateTime'])"
   ]
  },
  {
   "cell_type": "code",
   "execution_count": 87,
   "id": "6159df49",
   "metadata": {},
   "outputs": [
    {
     "ename": "TypeError",
     "evalue": "Cannot convert input [('2011-12-23 09:00:00', 'Std')] of type <class 'tuple'> to Timestamp",
     "output_type": "error",
     "traceback": [
      "\u001b[0;31m---------------------------------------------------------------------------\u001b[0m",
      "\u001b[0;31mTypeError\u001b[0m                                 Traceback (most recent call last)",
      "Input \u001b[0;32mIn [87]\u001b[0m, in \u001b[0;36m<cell line: 1>\u001b[0;34m()\u001b[0m\n\u001b[0;32m----> 1\u001b[0m \u001b[43mprocess_group_data\u001b[49m\u001b[43m(\u001b[49m\u001b[38;5;124;43m'\u001b[39;49m\u001b[38;5;124;43mB\u001b[39;49m\u001b[38;5;124;43m'\u001b[39;49m\u001b[43m)\u001b[49m\n",
      "Input \u001b[0;32mIn [86]\u001b[0m, in \u001b[0;36mprocess_group_data\u001b[0;34m(g)\u001b[0m\n\u001b[1;32m     13\u001b[0m df2[\u001b[38;5;124m'\u001b[39m\u001b[38;5;124mKWH/hh\u001b[39m\u001b[38;5;124m'\u001b[39m]\u001b[38;5;241m.\u001b[39mreplace(\u001b[38;5;241m0\u001b[39m,np\u001b[38;5;241m.\u001b[39mnan,inplace\u001b[38;5;241m=\u001b[39m\u001b[38;5;28;01mTrue\u001b[39;00m)\n\u001b[1;32m     14\u001b[0m \u001b[38;5;66;03m#fill nans for both existing ones and any created due to missing HH \u001b[39;00m\n\u001b[0;32m---> 15\u001b[0m date_range \u001b[38;5;241m=\u001b[39m pd\u001b[38;5;241m.\u001b[39mDataFrame(\u001b[43mpd\u001b[49m\u001b[38;5;241;43m.\u001b[39;49m\u001b[43mdate_range\u001b[49m\u001b[43m(\u001b[49m\u001b[43mdf2\u001b[49m\u001b[38;5;241;43m.\u001b[39;49m\u001b[43mindex\u001b[49m\u001b[43m[\u001b[49m\u001b[38;5;241;43m0\u001b[39;49m\u001b[43m]\u001b[49m\u001b[43m,\u001b[49m\u001b[43mdf2\u001b[49m\u001b[38;5;241;43m.\u001b[39;49m\u001b[43mindex\u001b[49m\u001b[43m[\u001b[49m\u001b[38;5;241;43m-\u001b[39;49m\u001b[38;5;241;43m1\u001b[39;49m\u001b[43m]\u001b[49m\u001b[43m,\u001b[49m\u001b[43m \u001b[49m\u001b[43mfreq\u001b[49m\u001b[38;5;241;43m=\u001b[39;49m\u001b[38;5;124;43m'\u001b[39;49m\u001b[38;5;124;43m30 min\u001b[39;49m\u001b[38;5;124;43m'\u001b[39;49m\u001b[43m)\u001b[49m,columns\u001b[38;5;241m=\u001b[39m[\u001b[38;5;124m'\u001b[39m\u001b[38;5;124mDateTime\u001b[39m\u001b[38;5;124m'\u001b[39m])\n\u001b[1;32m     16\u001b[0m df2\u001b[38;5;241m.\u001b[39mreset_index(inplace\u001b[38;5;241m=\u001b[39m\u001b[38;5;28;01mTrue\u001b[39;00m)\n\u001b[1;32m     17\u001b[0m df2\u001b[38;5;241m.\u001b[39mloc[:,\u001b[38;5;124m'\u001b[39m\u001b[38;5;124mDateTime\u001b[39m\u001b[38;5;124m'\u001b[39m]\u001b[38;5;241m=\u001b[39mpd\u001b[38;5;241m.\u001b[39mto_datetime(df2[\u001b[38;5;124m'\u001b[39m\u001b[38;5;124mDateTime\u001b[39m\u001b[38;5;124m'\u001b[39m])\n",
      "File \u001b[0;32m~/.pyenv/versions/3.8.12/envs/Team_Energy/lib/python3.8/site-packages/pandas/core/indexes/datetimes.py:1070\u001b[0m, in \u001b[0;36mdate_range\u001b[0;34m(start, end, periods, freq, tz, normalize, name, closed, inclusive, **kwargs)\u001b[0m\n\u001b[1;32m   1067\u001b[0m \u001b[38;5;28;01mif\u001b[39;00m freq \u001b[38;5;129;01mis\u001b[39;00m \u001b[38;5;28;01mNone\u001b[39;00m \u001b[38;5;129;01mand\u001b[39;00m com\u001b[38;5;241m.\u001b[39many_none(periods, start, end):\n\u001b[1;32m   1068\u001b[0m     freq \u001b[38;5;241m=\u001b[39m \u001b[38;5;124m\"\u001b[39m\u001b[38;5;124mD\u001b[39m\u001b[38;5;124m\"\u001b[39m\n\u001b[0;32m-> 1070\u001b[0m dtarr \u001b[38;5;241m=\u001b[39m \u001b[43mDatetimeArray\u001b[49m\u001b[38;5;241;43m.\u001b[39;49m\u001b[43m_generate_range\u001b[49m\u001b[43m(\u001b[49m\n\u001b[1;32m   1071\u001b[0m \u001b[43m    \u001b[49m\u001b[43mstart\u001b[49m\u001b[38;5;241;43m=\u001b[39;49m\u001b[43mstart\u001b[49m\u001b[43m,\u001b[49m\n\u001b[1;32m   1072\u001b[0m \u001b[43m    \u001b[49m\u001b[43mend\u001b[49m\u001b[38;5;241;43m=\u001b[39;49m\u001b[43mend\u001b[49m\u001b[43m,\u001b[49m\n\u001b[1;32m   1073\u001b[0m \u001b[43m    \u001b[49m\u001b[43mperiods\u001b[49m\u001b[38;5;241;43m=\u001b[39;49m\u001b[43mperiods\u001b[49m\u001b[43m,\u001b[49m\n\u001b[1;32m   1074\u001b[0m \u001b[43m    \u001b[49m\u001b[43mfreq\u001b[49m\u001b[38;5;241;43m=\u001b[39;49m\u001b[43mfreq\u001b[49m\u001b[43m,\u001b[49m\n\u001b[1;32m   1075\u001b[0m \u001b[43m    \u001b[49m\u001b[43mtz\u001b[49m\u001b[38;5;241;43m=\u001b[39;49m\u001b[43mtz\u001b[49m\u001b[43m,\u001b[49m\n\u001b[1;32m   1076\u001b[0m \u001b[43m    \u001b[49m\u001b[43mnormalize\u001b[49m\u001b[38;5;241;43m=\u001b[39;49m\u001b[43mnormalize\u001b[49m\u001b[43m,\u001b[49m\n\u001b[1;32m   1077\u001b[0m \u001b[43m    \u001b[49m\u001b[43minclusive\u001b[49m\u001b[38;5;241;43m=\u001b[39;49m\u001b[43minclusive\u001b[49m\u001b[43m,\u001b[49m\n\u001b[1;32m   1078\u001b[0m \u001b[43m    \u001b[49m\u001b[38;5;241;43m*\u001b[39;49m\u001b[38;5;241;43m*\u001b[39;49m\u001b[43mkwargs\u001b[49m\u001b[43m,\u001b[49m\n\u001b[1;32m   1079\u001b[0m \u001b[43m\u001b[49m\u001b[43m)\u001b[49m\n\u001b[1;32m   1080\u001b[0m \u001b[38;5;28;01mreturn\u001b[39;00m DatetimeIndex\u001b[38;5;241m.\u001b[39m_simple_new(dtarr, name\u001b[38;5;241m=\u001b[39mname)\n",
      "File \u001b[0;32m~/.pyenv/versions/3.8.12/envs/Team_Energy/lib/python3.8/site-packages/pandas/core/arrays/datetimes.py:412\u001b[0m, in \u001b[0;36mDatetimeArray._generate_range\u001b[0;34m(cls, start, end, periods, freq, tz, normalize, ambiguous, nonexistent, inclusive)\u001b[0m\n\u001b[1;32m    409\u001b[0m freq \u001b[38;5;241m=\u001b[39m to_offset(freq)\n\u001b[1;32m    411\u001b[0m \u001b[38;5;28;01mif\u001b[39;00m start \u001b[38;5;129;01mis\u001b[39;00m \u001b[38;5;129;01mnot\u001b[39;00m \u001b[38;5;28;01mNone\u001b[39;00m:\n\u001b[0;32m--> 412\u001b[0m     start \u001b[38;5;241m=\u001b[39m \u001b[43mTimestamp\u001b[49m\u001b[43m(\u001b[49m\u001b[43mstart\u001b[49m\u001b[43m)\u001b[49m\n\u001b[1;32m    414\u001b[0m \u001b[38;5;28;01mif\u001b[39;00m end \u001b[38;5;129;01mis\u001b[39;00m \u001b[38;5;129;01mnot\u001b[39;00m \u001b[38;5;28;01mNone\u001b[39;00m:\n\u001b[1;32m    415\u001b[0m     end \u001b[38;5;241m=\u001b[39m Timestamp(end)\n",
      "File \u001b[0;32m~/.pyenv/versions/3.8.12/envs/Team_Energy/lib/python3.8/site-packages/pandas/_libs/tslibs/timestamps.pyx:1399\u001b[0m, in \u001b[0;36mpandas._libs.tslibs.timestamps.Timestamp.__new__\u001b[0;34m()\u001b[0m\n",
      "File \u001b[0;32m~/.pyenv/versions/3.8.12/envs/Team_Energy/lib/python3.8/site-packages/pandas/_libs/tslibs/conversion.pyx:446\u001b[0m, in \u001b[0;36mpandas._libs.tslibs.conversion.convert_to_tsobject\u001b[0;34m()\u001b[0m\n",
      "\u001b[0;31mTypeError\u001b[0m: Cannot convert input [('2011-12-23 09:00:00', 'Std')] of type <class 'tuple'> to Timestamp"
     ]
    }
   ],
   "source": [
    "#fill nans for both existing ones and any created due to missing HH \n",
    "date_range = pd.DataFrame(pd.date_range(df2.index[0],df2.index[-1], freq='30 min'),columns=['DateTime'])\n",
    "df2.reset_index(inplace=True)\n",
    "df2.loc[:,'DateTime']=pd.to_datetime(df2['DateTime'])\n",
    "df3=date_range.merge(df2,on='DateTime',how='outer')\n",
    "\n",
    "if np.sum(df3['KWH/hh'].isna())!=0:\n",
    "    df3.fillna(method='bfill',inplace=True)"
   ]
  },
  {
   "cell_type": "code",
   "execution_count": null,
   "id": "2f0cfe4f",
   "metadata": {},
   "outputs": [],
   "source": []
  }
 ],
 "metadata": {
  "kernelspec": {
   "display_name": "Python 3 (ipykernel)",
   "language": "python",
   "name": "python3"
  },
  "language_info": {
   "codemirror_mode": {
    "name": "ipython",
    "version": 3
   },
   "file_extension": ".py",
   "mimetype": "text/x-python",
   "name": "python",
   "nbconvert_exporter": "python",
   "pygments_lexer": "ipython3",
   "version": "3.8.12"
  },
  "toc": {
   "base_numbering": 1,
   "nav_menu": {},
   "number_sections": true,
   "sideBar": true,
   "skip_h1_title": false,
   "title_cell": "Table of Contents",
   "title_sidebar": "Contents",
   "toc_cell": false,
   "toc_position": {},
   "toc_section_display": true,
   "toc_window_display": false
  }
 },
 "nbformat": 4,
 "nbformat_minor": 5
}

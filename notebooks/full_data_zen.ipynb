{
 "cells": [
  {
   "cell_type": "markdown",
   "id": "6277fe9e",
   "metadata": {},
   "source": [
    "## Imports"
   ]
  },
  {
   "cell_type": "code",
   "execution_count": 1,
   "id": "d45ea5eb",
   "metadata": {},
   "outputs": [],
   "source": [
    "import pandas as pd\n",
    "import numpy as np\n",
    "import seaborn as sns\n",
    "from matplotlib import pyplot as plt\n",
    "from matplotlib.pyplot import figure\n",
    "import os"
   ]
  },
  {
   "cell_type": "code",
   "execution_count": null,
   "id": "48dec255",
   "metadata": {},
   "outputs": [],
   "source": [
    "#!pip install dask"
   ]
  },
  {
   "cell_type": "markdown",
   "id": "1aae7aa6",
   "metadata": {},
   "source": [
    "## Extract data from gcp"
   ]
  },
  {
   "cell_type": "code",
   "execution_count": 2,
   "id": "ff23a97b",
   "metadata": {},
   "outputs": [],
   "source": [
    "#this does not group by tariff type\n",
    "def process_group_data(g):\n",
    "    #not required for Chris\n",
    "    df=pd.read_csv(f\"https://storage.googleapis.com/energy_usage_prediction_903/df_{g}_v1.csv\")\n",
    "    df.drop(columns='Unnamed: 0',inplace=True)\n",
    "    #imputing zeros and nans on group avverage as opposed to per house for speed\n",
    "    df1=df.loc[:,['LCLid','Acorn_Group','DateTime','KWH/hh','Tariff']]\n",
    "    df1.loc[:,'DateTime']=pd.to_datetime(df1['DateTime'])\n",
    "    #group average\n",
    "    df2=df1.groupby(by=df.DateTime).mean()\n",
    "    df2.sort_index(inplace=True)\n",
    "    #fill 0s with nans\n",
    "    df2['KWH/hh'].replace(0,np.nan,inplace=True)\n",
    "    #fill nans for both existing ones and any created due to missing HH \n",
    "    date_range = pd.DataFrame(pd.date_range(df2.index[0],df2.index[-1], freq='30 min'),columns=['DateTime'])\n",
    "    df2.reset_index(inplace=True)\n",
    "    df2.loc[:,'DateTime']=pd.to_datetime(df2['DateTime'])\n",
    "    df3=date_range.merge(df2,on='DateTime',how='outer')\n",
    "    if np.sum(df3['KWH/hh'].isna())!=0:\n",
    "        df3.fillna(method='bfill',inplace=True)\n",
    "    return df3"
   ]
  },
  {
   "cell_type": "markdown",
   "id": "927f54c4",
   "metadata": {},
   "source": [
    "## Check start and end date for each group"
   ]
  },
  {
   "cell_type": "code",
   "execution_count": 2,
   "id": "a727a1ff",
   "metadata": {},
   "outputs": [],
   "source": [
    "groups=['A','B','C','D','F','G','H','I','J','K','L','M','N','O','P','Q']\n",
    "def extract_start_end_time_bygroup(groups):\n",
    "    g_dict={}\n",
    "    g_dict['E']=[['2011-11-24 11:00:00', '2014-02-28 00:00:00']]\n",
    "    for g in groups:\n",
    "        df=pd.read_csv(f\"https://storage.googleapis.com/energy_usage_prediction_903/df_{g}_v1.csv\",usecols=['DateTime','KWH/hh'])\n",
    "        df.set_index('DateTime',inplace=True)\n",
    "        df_av=df.groupby(by=df.index).mean()\n",
    "        df_av.sort_index(inplace=True)\n",
    "        g_dict[g]=[[df_av.index[0],df_av.index[-1]]]\n",
    "        \n",
    "    return g_dict"
   ]
  },
  {
   "cell_type": "code",
   "execution_count": null,
   "id": "a7bcc37c",
   "metadata": {},
   "outputs": [],
   "source": [
    "# df=pd.read_csv('https://storage.googleapis.com/energy_usage_prediction_903/df_E_v1.csv',usecols=['DateTime','KWH/hh'])\n",
    "# df.set_index('DateTime',inplace=True)\n",
    "# t=[df.index[0],df.index[-1]]#['2012-07-09 11:30:00', '2014-02-28 00:00:00']"
   ]
  },
  {
   "cell_type": "code",
   "execution_count": null,
   "id": "dc0a83f9",
   "metadata": {},
   "outputs": [],
   "source": [
    "# #read data in chunks of 1 million rows at a time\n",
    "# chunk = pd.read_csv('https://storage.googleapis.com/energy_usage_prediction_903/df_E_v1.csv',chunksize=1000000)\n",
    "# pd_df = pd.concat(chunk)"
   ]
  },
  {
   "cell_type": "markdown",
   "id": "85d71e3a",
   "metadata": {},
   "source": [
    "## merge_all_data"
   ]
  },
  {
   "cell_type": "code",
   "execution_count": 3,
   "id": "cd495e65",
   "metadata": {},
   "outputs": [],
   "source": [
    "groups=['A','B','C','D','E','F','G','H','I','J','K','L','M','N','O','P','Q']\n",
    "def merge_groups(groups,use_tariff=True):\n",
    "    df=pd.DataFrame()\n",
    "    for g  in groups:\n",
    "        if use_tariff==True:\n",
    "            tariffs=['Std','ToU']\n",
    "            for tr in tariffs:\n",
    "                df2=pd.read_csv(f\"https://storage.googleapis.com/energy_usage_prediction_903/df_{g}_avg_{tr}_v1.csv\").drop(columns='Unnamed: 0')\n",
    "                df2['Acorn_Group']=g\n",
    "                df=pd.concat([df, df2])                \n",
    "        else:\n",
    "            df1=pd.read_csv(f\"https://storage.googleapis.com/energy_usage_prediction_903/df_{g}_avg_v1.csv\").drop(columns='Unnamed: 0')\n",
    "            df1['Acorn_Group']=g\n",
    "            df=pd.concat([df, df1])\n",
    "    return df\n",
    "    "
   ]
  },
  {
   "cell_type": "markdown",
   "id": "5b627221",
   "metadata": {},
   "source": [
    "## Save files"
   ]
  },
  {
   "cell_type": "code",
   "execution_count": 4,
   "id": "a738a728",
   "metadata": {},
   "outputs": [
    {
     "name": "stdout",
     "output_type": "stream",
     "text": [
      "/home/zenanahmed/code/ZenanAH/Team_Energy/notebooks/../Team_Energy/data/\n"
     ]
    }
   ],
   "source": [
    "df_all_avg_tariff=merge_groups(groups,use_tariff=True)\n",
    "df_all_avg=merge_groups(groups,use_tariff=False)\n",
    "\n",
    "path=os.path.join(os.getcwd(),\"../Team_Energy/data/\")\n",
    "print(path)\n",
    "df_all_avg_tariff.to_csv(path+\"df_all_avg_tariff_v3.csv\",header=True,index=False)\n",
    "df_all_avg.to_csv(path+\"df_all_avg_v3.csv\",header=True,index=False)"
   ]
  },
  {
   "cell_type": "code",
   "execution_count": 3,
   "id": "bfbbef2a",
   "metadata": {},
   "outputs": [
    {
     "ename": "KeyError",
     "evalue": "'KWH/hh'",
     "output_type": "error",
     "traceback": [
      "\u001b[0;31m---------------------------------------------------------------------------\u001b[0m",
      "\u001b[0;31mKeyError\u001b[0m                                  Traceback (most recent call last)",
      "File \u001b[0;32m~/.pyenv/versions/3.8.12/envs/Team_Energy/lib/python3.8/site-packages/pandas/core/indexes/base.py:3621\u001b[0m, in \u001b[0;36mIndex.get_loc\u001b[0;34m(self, key, method, tolerance)\u001b[0m\n\u001b[1;32m   3620\u001b[0m \u001b[38;5;28;01mtry\u001b[39;00m:\n\u001b[0;32m-> 3621\u001b[0m     \u001b[38;5;28;01mreturn\u001b[39;00m \u001b[38;5;28;43mself\u001b[39;49m\u001b[38;5;241;43m.\u001b[39;49m\u001b[43m_engine\u001b[49m\u001b[38;5;241;43m.\u001b[39;49m\u001b[43mget_loc\u001b[49m\u001b[43m(\u001b[49m\u001b[43mcasted_key\u001b[49m\u001b[43m)\u001b[49m\n\u001b[1;32m   3622\u001b[0m \u001b[38;5;28;01mexcept\u001b[39;00m \u001b[38;5;167;01mKeyError\u001b[39;00m \u001b[38;5;28;01mas\u001b[39;00m err:\n",
      "File \u001b[0;32m~/.pyenv/versions/3.8.12/envs/Team_Energy/lib/python3.8/site-packages/pandas/_libs/index.pyx:136\u001b[0m, in \u001b[0;36mpandas._libs.index.IndexEngine.get_loc\u001b[0;34m()\u001b[0m\n",
      "File \u001b[0;32m~/.pyenv/versions/3.8.12/envs/Team_Energy/lib/python3.8/site-packages/pandas/_libs/index.pyx:163\u001b[0m, in \u001b[0;36mpandas._libs.index.IndexEngine.get_loc\u001b[0;34m()\u001b[0m\n",
      "File \u001b[0;32mpandas/_libs/hashtable_class_helper.pxi:5198\u001b[0m, in \u001b[0;36mpandas._libs.hashtable.PyObjectHashTable.get_item\u001b[0;34m()\u001b[0m\n",
      "File \u001b[0;32mpandas/_libs/hashtable_class_helper.pxi:5206\u001b[0m, in \u001b[0;36mpandas._libs.hashtable.PyObjectHashTable.get_item\u001b[0;34m()\u001b[0m\n",
      "\u001b[0;31mKeyError\u001b[0m: 'KWH/hh'",
      "\nThe above exception was the direct cause of the following exception:\n",
      "\u001b[0;31mKeyError\u001b[0m                                  Traceback (most recent call last)",
      "Input \u001b[0;32mIn [3]\u001b[0m, in \u001b[0;36m<cell line: 20>\u001b[0;34m()\u001b[0m\n\u001b[1;32m     18\u001b[0m df_std\u001b[38;5;241m.\u001b[39mloc[:,\u001b[38;5;124m'\u001b[39m\u001b[38;5;124mDateTime\u001b[39m\u001b[38;5;124m'\u001b[39m]\u001b[38;5;241m=\u001b[39mpd\u001b[38;5;241m.\u001b[39mto_datetime(df_std[\u001b[38;5;124m'\u001b[39m\u001b[38;5;124mDateTime\u001b[39m\u001b[38;5;124m'\u001b[39m])\n\u001b[1;32m     19\u001b[0m df3_std\u001b[38;5;241m=\u001b[39mdate_range\u001b[38;5;241m.\u001b[39mmerge(df_std,on\u001b[38;5;241m=\u001b[39m\u001b[38;5;124m'\u001b[39m\u001b[38;5;124mDateTime\u001b[39m\u001b[38;5;124m'\u001b[39m,how\u001b[38;5;241m=\u001b[39m\u001b[38;5;124m'\u001b[39m\u001b[38;5;124mouter\u001b[39m\u001b[38;5;124m'\u001b[39m)\n\u001b[0;32m---> 20\u001b[0m \u001b[38;5;28;01mif\u001b[39;00m np\u001b[38;5;241m.\u001b[39msum(\u001b[43mdf3_std\u001b[49m\u001b[43m[\u001b[49m\u001b[38;5;124;43m'\u001b[39;49m\u001b[38;5;124;43mKWH/hh\u001b[39;49m\u001b[38;5;124;43m'\u001b[39;49m\u001b[43m]\u001b[49m\u001b[38;5;241m.\u001b[39misna())\u001b[38;5;241m!=\u001b[39m\u001b[38;5;241m0\u001b[39m:\n\u001b[1;32m     21\u001b[0m     df3_std\u001b[38;5;241m.\u001b[39mfillna(method\u001b[38;5;241m=\u001b[39m\u001b[38;5;124m'\u001b[39m\u001b[38;5;124mbfill\u001b[39m\u001b[38;5;124m'\u001b[39m,inplace\u001b[38;5;241m=\u001b[39m\u001b[38;5;28;01mTrue\u001b[39;00m)\n\u001b[1;32m     22\u001b[0m \u001b[38;5;66;03m#tou\u001b[39;00m\n",
      "File \u001b[0;32m~/.pyenv/versions/3.8.12/envs/Team_Energy/lib/python3.8/site-packages/pandas/core/frame.py:3505\u001b[0m, in \u001b[0;36mDataFrame.__getitem__\u001b[0;34m(self, key)\u001b[0m\n\u001b[1;32m   3503\u001b[0m \u001b[38;5;28;01mif\u001b[39;00m \u001b[38;5;28mself\u001b[39m\u001b[38;5;241m.\u001b[39mcolumns\u001b[38;5;241m.\u001b[39mnlevels \u001b[38;5;241m>\u001b[39m \u001b[38;5;241m1\u001b[39m:\n\u001b[1;32m   3504\u001b[0m     \u001b[38;5;28;01mreturn\u001b[39;00m \u001b[38;5;28mself\u001b[39m\u001b[38;5;241m.\u001b[39m_getitem_multilevel(key)\n\u001b[0;32m-> 3505\u001b[0m indexer \u001b[38;5;241m=\u001b[39m \u001b[38;5;28;43mself\u001b[39;49m\u001b[38;5;241;43m.\u001b[39;49m\u001b[43mcolumns\u001b[49m\u001b[38;5;241;43m.\u001b[39;49m\u001b[43mget_loc\u001b[49m\u001b[43m(\u001b[49m\u001b[43mkey\u001b[49m\u001b[43m)\u001b[49m\n\u001b[1;32m   3506\u001b[0m \u001b[38;5;28;01mif\u001b[39;00m is_integer(indexer):\n\u001b[1;32m   3507\u001b[0m     indexer \u001b[38;5;241m=\u001b[39m [indexer]\n",
      "File \u001b[0;32m~/.pyenv/versions/3.8.12/envs/Team_Energy/lib/python3.8/site-packages/pandas/core/indexes/base.py:3623\u001b[0m, in \u001b[0;36mIndex.get_loc\u001b[0;34m(self, key, method, tolerance)\u001b[0m\n\u001b[1;32m   3621\u001b[0m     \u001b[38;5;28;01mreturn\u001b[39;00m \u001b[38;5;28mself\u001b[39m\u001b[38;5;241m.\u001b[39m_engine\u001b[38;5;241m.\u001b[39mget_loc(casted_key)\n\u001b[1;32m   3622\u001b[0m \u001b[38;5;28;01mexcept\u001b[39;00m \u001b[38;5;167;01mKeyError\u001b[39;00m \u001b[38;5;28;01mas\u001b[39;00m err:\n\u001b[0;32m-> 3623\u001b[0m     \u001b[38;5;28;01mraise\u001b[39;00m \u001b[38;5;167;01mKeyError\u001b[39;00m(key) \u001b[38;5;28;01mfrom\u001b[39;00m \u001b[38;5;21;01merr\u001b[39;00m\n\u001b[1;32m   3624\u001b[0m \u001b[38;5;28;01mexcept\u001b[39;00m \u001b[38;5;167;01mTypeError\u001b[39;00m:\n\u001b[1;32m   3625\u001b[0m     \u001b[38;5;66;03m# If we have a listlike key, _check_indexing_error will raise\u001b[39;00m\n\u001b[1;32m   3626\u001b[0m     \u001b[38;5;66;03m#  InvalidIndexError. Otherwise we fall through and re-raise\u001b[39;00m\n\u001b[1;32m   3627\u001b[0m     \u001b[38;5;66;03m#  the TypeError.\u001b[39;00m\n\u001b[1;32m   3628\u001b[0m     \u001b[38;5;28mself\u001b[39m\u001b[38;5;241m.\u001b[39m_check_indexing_error(key)\n",
      "\u001b[0;31mKeyError\u001b[0m: 'KWH/hh'"
     ]
    }
   ],
   "source": [
    "## group by tariffs\n",
    "df=pd.read_csv(f\"https://storage.googleapis.com/energy_usage_prediction_903/df_{'B'}_v1.csv\")\n",
    "df.drop(columns='Unnamed: 0',inplace=True)\n",
    "#imputing zeros and nans on group avverage as opposed to per house for speed\n",
    "df1=df.loc[:,['LCLid','Acorn_Group','DateTime','KWH/hh','Tariff']]\n",
    "df1.loc[:,'DateTime']=pd.to_datetime(df1['DateTime'])\n",
    "#group average\n",
    "df2=df1.groupby(by=[df.DateTime,'Tariff']).mean()\n",
    "df2.reset_index(inplace=True)\n",
    "#fill 0s with nans\n",
    "df2['KWH/hh'].replace(0,np.nan,inplace=True)\n",
    "df3=df2.pivot(index='DateTime', columns='Tariff', values='KWH/hh').reset_index()\n",
    "df3.rename_axis(None, axis=1,inplace=True)\n",
    "#fill nans for both existing ones and any created due to missing HH \n",
    "#std\n",
    "df_std=df3[['DateTime','Std']].set_index('DateTime')\n",
    "date_range = pd.DataFrame(pd.date_range(df_std.index[0],df_std.index[-1], freq='30 min'),columns=['DateTime'])\n",
    "df_std.reset_index(inplace=True)\n",
    "df_std.loc[:,'DateTime']=pd.to_datetime(df_std['DateTime'])\n",
    "df3_std=date_range.merge(df_std,on='DateTime',how='outer')\n",
    "if np.sum(df3_std['KWH/hh'].isna())!=0:\n",
    "    df3_std.fillna(method='bfill',inplace=True)\n",
    "#tou\n",
    "df_tou=df3[['DateTime','ToU']].set_index('DateTime').dropna(inplace=True)\n",
    "date_range2 = pd.DataFrame(pd.date_range(df_tou.index[0],df_tou.index[-1], freq='30 min'),columns=['DateTime'])\n",
    "df_tou.reset_index(inplace=True)\n",
    "df_tou.loc[:,'DateTime']=pd.to_datetime(df_tou['DateTime'])\n",
    "df3_tou=date_range2.merge(df_tou,on='DateTime',how='outer')\n",
    "if np.sum(df3_tou['KWH/hh'].isna())!=0:\n",
    "    df3_tou.fillna(method='bfill',inplace=True)"
   ]
  },
  {
   "cell_type": "code",
   "execution_count": null,
   "id": "2f0cfe4f",
   "metadata": {},
   "outputs": [],
   "source": []
  }
 ],
 "metadata": {
  "kernelspec": {
   "display_name": "Python 3 (ipykernel)",
   "language": "python",
   "name": "python3"
  },
  "language_info": {
   "codemirror_mode": {
    "name": "ipython",
    "version": 3
   },
   "file_extension": ".py",
   "mimetype": "text/x-python",
   "name": "python",
   "nbconvert_exporter": "python",
   "pygments_lexer": "ipython3",
   "version": "3.8.12"
  },
  "toc": {
   "base_numbering": 1,
   "nav_menu": {},
   "number_sections": true,
   "sideBar": true,
   "skip_h1_title": false,
   "title_cell": "Table of Contents",
   "title_sidebar": "Contents",
   "toc_cell": false,
   "toc_position": {},
   "toc_section_display": true,
   "toc_window_display": false
  }
 },
 "nbformat": 4,
 "nbformat_minor": 5
}

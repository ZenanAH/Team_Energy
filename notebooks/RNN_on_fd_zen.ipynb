{
 "cells": [
  {
   "cell_type": "code",
   "execution_count": 4,
   "id": "e706e0fd",
   "metadata": {},
   "outputs": [
    {
     "name": "stderr",
     "output_type": "stream",
     "text": [
      "2022-09-12 16:37:07.109978: I tensorflow/core/platform/cpu_feature_guard.cc:193] This TensorFlow binary is optimized with oneAPI Deep Neural Network Library (oneDNN) to use the following CPU instructions in performance-critical operations:  AVX2 FMA\n",
      "To enable them in other operations, rebuild TensorFlow with the appropriate compiler flags.\n",
      "2022-09-12 16:37:07.316477: W tensorflow/stream_executor/platform/default/dso_loader.cc:64] Could not load dynamic library 'libcudart.so.11.0'; dlerror: libcudart.so.11.0: cannot open shared object file: No such file or directory\n",
      "2022-09-12 16:37:07.316530: I tensorflow/stream_executor/cuda/cudart_stub.cc:29] Ignore above cudart dlerror if you do not have a GPU set up on your machine.\n",
      "2022-09-12 16:37:07.355635: E tensorflow/stream_executor/cuda/cuda_blas.cc:2981] Unable to register cuBLAS factory: Attempting to register factory for plugin cuBLAS when one has already been registered\n",
      "2022-09-12 16:37:08.930635: W tensorflow/stream_executor/platform/default/dso_loader.cc:64] Could not load dynamic library 'libnvinfer.so.7'; dlerror: libnvinfer.so.7: cannot open shared object file: No such file or directory\n",
      "2022-09-12 16:37:08.930758: W tensorflow/stream_executor/platform/default/dso_loader.cc:64] Could not load dynamic library 'libnvinfer_plugin.so.7'; dlerror: libnvinfer_plugin.so.7: cannot open shared object file: No such file or directory\n",
      "2022-09-12 16:37:08.930769: W tensorflow/compiler/tf2tensorrt/utils/py_utils.cc:38] TF-TRT Warning: Cannot dlopen some TensorRT libraries. If you would like to use Nvidia GPU with TensorRT, please make sure the missing libraries mentioned above are installed properly.\n"
     ]
    }
   ],
   "source": [
    "# Importing the libraries\n",
    "import numpy as np\n",
    "import matplotlib.pyplot as plt\n",
    "plt.style.use('fivethirtyeight')\n",
    "import seaborn as sns\n",
    "import pandas as pd\n",
    "from sklearn.preprocessing import MinMaxScaler\n",
    "from tensorflow.keras .models import Sequential\n",
    "from tensorflow.keras .layers import Dense, LSTM, Dropout, GRU, Bidirectional\n",
    "from tensorflow.keras .optimizers import SGD\n",
    "import math\n",
    "from sklearn.metrics import mean_absolute_percentage_error"
   ]
  },
  {
   "cell_type": "code",
   "execution_count": null,
   "id": "8f838c8d",
   "metadata": {},
   "outputs": [],
   "source": [
    "#!pip install tensorflow"
   ]
  },
  {
   "cell_type": "code",
   "execution_count": 30,
   "id": "6fb57830",
   "metadata": {},
   "outputs": [],
   "source": [
    "# Some functions to help out with\n",
    "def plot_predictions(df_plot):\n",
    "    plt.figure(figsize=(18,6))\n",
    "    plt.plot(df_plot,label=['Actual Consumption','Predicted Consumption'])\n",
    "    plt.title('Electricity Consumption Prediction')\n",
    "    plt.xlabel('Time')\n",
    "    plt.ylabel('Consumption (kWh/hh)')\n",
    "    plt.legend()\n",
    "    plt.show()\n",
    "\n",
    "def return_mape(test,predicted):\n",
    "    mape = mean_absolute_percentage_error(test, predicted)\n",
    "    print(\"The  mean absolute percenatge error is {}.\".format(mape))"
   ]
  },
  {
   "cell_type": "code",
   "execution_count": 31,
   "id": "67b1ffc8",
   "metadata": {},
   "outputs": [
    {
     "data": {
      "text/html": [
       "<div>\n",
       "<style scoped>\n",
       "    .dataframe tbody tr th:only-of-type {\n",
       "        vertical-align: middle;\n",
       "    }\n",
       "\n",
       "    .dataframe tbody tr th {\n",
       "        vertical-align: top;\n",
       "    }\n",
       "\n",
       "    .dataframe thead th {\n",
       "        text-align: right;\n",
       "    }\n",
       "</style>\n",
       "<table border=\"1\" class=\"dataframe\">\n",
       "  <thead>\n",
       "    <tr style=\"text-align: right;\">\n",
       "      <th></th>\n",
       "      <th>KWH/hh</th>\n",
       "      <th>tariff</th>\n",
       "      <th>Acorn_Group</th>\n",
       "    </tr>\n",
       "    <tr>\n",
       "      <th>DateTime</th>\n",
       "      <th></th>\n",
       "      <th></th>\n",
       "      <th></th>\n",
       "    </tr>\n",
       "  </thead>\n",
       "  <tbody>\n",
       "    <tr>\n",
       "      <th>2012-01-01 00:00:00</th>\n",
       "      <td>0.471778</td>\n",
       "      <td>Mixed</td>\n",
       "      <td>A</td>\n",
       "    </tr>\n",
       "    <tr>\n",
       "      <th>2012-01-01 00:30:00</th>\n",
       "      <td>0.483222</td>\n",
       "      <td>Mixed</td>\n",
       "      <td>A</td>\n",
       "    </tr>\n",
       "    <tr>\n",
       "      <th>2012-01-01 01:00:00</th>\n",
       "      <td>0.457222</td>\n",
       "      <td>Mixed</td>\n",
       "      <td>A</td>\n",
       "    </tr>\n",
       "    <tr>\n",
       "      <th>2012-01-01 01:30:00</th>\n",
       "      <td>0.380556</td>\n",
       "      <td>Mixed</td>\n",
       "      <td>A</td>\n",
       "    </tr>\n",
       "    <tr>\n",
       "      <th>2012-01-01 02:00:00</th>\n",
       "      <td>0.452889</td>\n",
       "      <td>Mixed</td>\n",
       "      <td>A</td>\n",
       "    </tr>\n",
       "  </tbody>\n",
       "</table>\n",
       "</div>"
      ],
      "text/plain": [
       "                       KWH/hh tariff Acorn_Group\n",
       "DateTime                                        \n",
       "2012-01-01 00:00:00  0.471778  Mixed           A\n",
       "2012-01-01 00:30:00  0.483222  Mixed           A\n",
       "2012-01-01 01:00:00  0.457222  Mixed           A\n",
       "2012-01-01 01:30:00  0.380556  Mixed           A\n",
       "2012-01-01 02:00:00  0.452889  Mixed           A"
      ]
     },
     "execution_count": 31,
     "metadata": {},
     "output_type": "execute_result"
    }
   ],
   "source": [
    "acorn_group=\"A\"\n",
    "tariff='Std'\n",
    "dataset = pd.read_csv('https://storage.googleapis.com/energy_consumption_903/df_all_avg_v3.csv', index_col='DateTime', parse_dates=['DateTime'])\n",
    "dataset.head()"
   ]
  },
  {
   "cell_type": "code",
   "execution_count": 32,
   "id": "fbe3ca4a",
   "metadata": {},
   "outputs": [
    {
     "data": {
      "text/html": [
       "<div>\n",
       "<style scoped>\n",
       "    .dataframe tbody tr th:only-of-type {\n",
       "        vertical-align: middle;\n",
       "    }\n",
       "\n",
       "    .dataframe tbody tr th {\n",
       "        vertical-align: top;\n",
       "    }\n",
       "\n",
       "    .dataframe thead th {\n",
       "        text-align: right;\n",
       "    }\n",
       "</style>\n",
       "<table border=\"1\" class=\"dataframe\">\n",
       "  <thead>\n",
       "    <tr style=\"text-align: right;\">\n",
       "      <th></th>\n",
       "      <th>KWH/hh</th>\n",
       "    </tr>\n",
       "    <tr>\n",
       "      <th>DateTime</th>\n",
       "      <th></th>\n",
       "    </tr>\n",
       "  </thead>\n",
       "  <tbody>\n",
       "    <tr>\n",
       "      <th>2012-01-01 00:00:00</th>\n",
       "      <td>0.225424</td>\n",
       "    </tr>\n",
       "    <tr>\n",
       "      <th>2012-01-01 00:30:00</th>\n",
       "      <td>0.226397</td>\n",
       "    </tr>\n",
       "    <tr>\n",
       "      <th>2012-01-01 01:00:00</th>\n",
       "      <td>0.216328</td>\n",
       "    </tr>\n",
       "    <tr>\n",
       "      <th>2012-01-01 01:30:00</th>\n",
       "      <td>0.191432</td>\n",
       "    </tr>\n",
       "    <tr>\n",
       "      <th>2012-01-01 02:00:00</th>\n",
       "      <td>0.187063</td>\n",
       "    </tr>\n",
       "    <tr>\n",
       "      <th>...</th>\n",
       "      <td>...</td>\n",
       "    </tr>\n",
       "    <tr>\n",
       "      <th>2014-02-27 22:00:00</th>\n",
       "      <td>0.330029</td>\n",
       "    </tr>\n",
       "    <tr>\n",
       "      <th>2014-02-27 22:30:00</th>\n",
       "      <td>0.308187</td>\n",
       "    </tr>\n",
       "    <tr>\n",
       "      <th>2014-02-27 23:00:00</th>\n",
       "      <td>0.260357</td>\n",
       "    </tr>\n",
       "    <tr>\n",
       "      <th>2014-02-27 23:30:00</th>\n",
       "      <td>0.230117</td>\n",
       "    </tr>\n",
       "    <tr>\n",
       "      <th>2014-02-28 00:00:00</th>\n",
       "      <td>0.232998</td>\n",
       "    </tr>\n",
       "  </tbody>\n",
       "</table>\n",
       "<p>37873 rows × 1 columns</p>\n",
       "</div>"
      ],
      "text/plain": [
       "                       KWH/hh\n",
       "DateTime                     \n",
       "2012-01-01 00:00:00  0.225424\n",
       "2012-01-01 00:30:00  0.226397\n",
       "2012-01-01 01:00:00  0.216328\n",
       "2012-01-01 01:30:00  0.191432\n",
       "2012-01-01 02:00:00  0.187063\n",
       "...                       ...\n",
       "2014-02-27 22:00:00  0.330029\n",
       "2014-02-27 22:30:00  0.308187\n",
       "2014-02-27 23:00:00  0.260357\n",
       "2014-02-27 23:30:00  0.230117\n",
       "2014-02-28 00:00:00  0.232998\n",
       "\n",
       "[37873 rows x 1 columns]"
      ]
     },
     "execution_count": 32,
     "metadata": {},
     "output_type": "execute_result"
    }
   ],
   "source": [
    "df=dataset.groupby(by=dataset.index).mean()\n",
    "#df.reset_index(inplace=True)\n",
    "df"
   ]
  },
  {
   "cell_type": "code",
   "execution_count": 36,
   "id": "d9f4c632",
   "metadata": {},
   "outputs": [
    {
     "data": {
      "text/plain": [
       "array([[0.22542404],\n",
       "       [0.22639682],\n",
       "       [0.21632784],\n",
       "       ...,\n",
       "       [0.30881635],\n",
       "       [0.29639202],\n",
       "       [0.28347542]])"
      ]
     },
     "execution_count": 36,
     "metadata": {},
     "output_type": "execute_result"
    }
   ],
   "source": [
    "# Checking for missing values\n",
    "training_set = df[:'2013'].loc[:,['KWH/hh']].values\n",
    "test_set = df['2014':].loc[:,['KWH/hh']].values\n",
    "training_set"
   ]
  },
  {
   "cell_type": "code",
   "execution_count": 37,
   "id": "447cfeda",
   "metadata": {},
   "outputs": [
    {
     "data": {
      "image/png": "[encoded data removed]",
      "text/plain": [
       "<Figure size 1800x400 with 1 Axes>"
      ]
     },
     "metadata": {},
     "output_type": "display_data"
    }
   ],
   "source": [
    "df[\"KWH/hh\"][:'2013'].plot(figsize=(18,4),legend=True)\n",
    "df[\"KWH/hh\"]['2014':].plot(figsize=(18,4),legend=True)\n",
    "plt.legend(['Training set (From 2012 to 2013)','Test set (2014)'])\n",
    "plt.title('Consumption')\n",
    "plt.show()"
   ]
  },
  {
   "cell_type": "code",
   "execution_count": 38,
   "id": "9e3de140",
   "metadata": {},
   "outputs": [],
   "source": [
    "# Scaling the training set\n",
    "sc = MinMaxScaler(feature_range=(0,1))\n",
    "training_set_scaled = sc.fit_transform(training_set)"
   ]
  },
  {
   "cell_type": "code",
   "execution_count": 39,
   "id": "937393f7",
   "metadata": {},
   "outputs": [
    {
     "data": {
      "text/plain": [
       "35088"
      ]
     },
     "execution_count": 39,
     "metadata": {},
     "output_type": "execute_result"
    }
   ],
   "source": [
    "len(training_set_scaled )"
   ]
  },
  {
   "cell_type": "code",
   "execution_count": 40,
   "id": "4d8861ea",
   "metadata": {},
   "outputs": [],
   "source": [
    "# Since LSTMs store long term memory state, we create a data structure with 60 timesteps and 1 output\n",
    "# So for each element of training set, we have 60 previous training set elements \n",
    "X_train = []\n",
    "y_train = []\n",
    "for i in range(60,len(training_set_scaled)):\n",
    "    X_train.append(training_set_scaled[i-60:i,0])\n",
    "    y_train.append(training_set_scaled[i,0])\n",
    "X_train, y_train = np.array(X_train), np.array(y_train)\n"
   ]
  },
  {
   "cell_type": "code",
   "execution_count": 41,
   "id": "dea8943a",
   "metadata": {},
   "outputs": [
    {
     "data": {
      "text/plain": [
       "(35028,)"
      ]
     },
     "execution_count": 41,
     "metadata": {},
     "output_type": "execute_result"
    }
   ],
   "source": [
    "y_train.shape"
   ]
  },
  {
   "cell_type": "code",
   "execution_count": 42,
   "id": "426997d7",
   "metadata": {},
   "outputs": [],
   "source": [
    "# Reshaping X_train for efficient modelling\n",
    "X_train = np.reshape(X_train, (X_train.shape[0],X_train.shape[1],1))"
   ]
  },
  {
   "cell_type": "code",
   "execution_count": null,
   "id": "e7f7603f",
   "metadata": {},
   "outputs": [
    {
     "name": "stdout",
     "output_type": "stream",
     "text": [
      "Epoch 1/50\n",
      "1095/1095 [==============================] - 260s 228ms/step - loss: 1141.8080\n",
      "Epoch 2/50\n",
      "1095/1095 [==============================] - 269s 245ms/step - loss: 416.2432\n",
      "Epoch 3/50\n",
      "1095/1095 [==============================] - 288s 263ms/step - loss: 490.7246\n",
      "Epoch 4/50\n",
      "1095/1095 [==============================] - 277s 253ms/step - loss: 709.8252\n",
      "Epoch 5/50\n",
      "1095/1095 [==============================] - 268s 245ms/step - loss: 402.7256\n",
      "Epoch 6/50\n",
      "1095/1095 [==============================] - 263s 240ms/step - loss: 441.5439\n",
      "Epoch 7/50\n",
      "1095/1095 [==============================] - 295s 269ms/step - loss: 665.2713\n",
      "Epoch 8/50\n",
      "1095/1095 [==============================] - 269s 246ms/step - loss: 526.3214\n",
      "Epoch 9/50\n",
      " 785/1095 [====================>.........] - ETA: 1:15 - loss: 427.8036"
     ]
    }
   ],
   "source": [
    "# The LSTM architecture\n",
    "regressor = Sequential()\n",
    "# First LSTM layer with Dropout regularisation\n",
    "regressor.add(LSTM(units=50, return_sequences=True, input_shape=(X_train.shape[1],1)))\n",
    "regressor.add(Dropout(0.2))\n",
    "# Second LSTM layer\n",
    "regressor.add(LSTM(units=50, return_sequences=True))\n",
    "regressor.add(Dropout(0.2))\n",
    "# Third LSTM layer\n",
    "regressor.add(LSTM(units=50, return_sequences=True))\n",
    "regressor.add(Dropout(0.2))\n",
    "# Fourth LSTM layer\n",
    "regressor.add(LSTM(units=50))\n",
    "regressor.add(Dropout(0.2))\n",
    "# The output layer\n",
    "regressor.add(Dense(units=1))\n",
    "\n",
    "# Compiling the RNN\n",
    "regressor.compile(optimizer='rmsprop',loss='MeanAbsolutePercentageError')\n",
    "# Fitting to the training set\n",
    "regressor.fit(X_train,y_train,epochs=50,batch_size=32)"
   ]
  },
  {
   "cell_type": "code",
   "execution_count": null,
   "id": "f60017c3",
   "metadata": {},
   "outputs": [],
   "source": [
    "# Now to get the test set ready in a similar way as the training set.\n",
    "# The following has been done so first 60 entries of test set have 60 previous values which is impossible to get \n",
    "\n",
    "dataset_total = pd.concat((df[\"KWH/hh\"][:'2013'],df[\"KWH/hh\"]['2014':]),axis=0)\n",
    "inputs = dataset_total[len(dataset_total)-len(test_set) - 60:].values\n",
    "inputs = inputs.reshape(-1,1)\n",
    "inputs  = sc.transform(inputs)\n",
    "\n",
    "len(inputs)"
   ]
  },
  {
   "cell_type": "code",
   "execution_count": null,
   "id": "3d026da1",
   "metadata": {},
   "outputs": [],
   "source": [
    "# Preparing X_test and predicting the prices\n",
    "X_test = []\n",
    "for i in range(60,len(inputs)):\n",
    "    X_test.append(inputs[i-60:i,0])\n",
    "X_test = np.array(X_test)\n",
    "X_test = np.reshape(X_test, (X_test.shape[0],X_test.shape[1],1))\n",
    "predicted_consumption = regressor.predict(X_test)\n",
    "predicted_consumption = sc.inverse_transform(predicted_consumption)"
   ]
  },
  {
   "cell_type": "code",
   "execution_count": null,
   "id": "cf2443d7",
   "metadata": {},
   "outputs": [],
   "source": [
    "# Visualizing the results for LSTM\n",
    "df_plot=df['2014':].copy()\n",
    "df_plot.rename(columns={'KWH/hh':'Test'},inplace=True)\n",
    "df_plot['Predicted']=predicted_consumption\n",
    "plot_predictions(df_plot)\n",
    "# Evaluating our model\n",
    "return_mape(test_set,predicted_consumption)"
   ]
  },
  {
   "cell_type": "code",
   "execution_count": null,
   "id": "b030743e",
   "metadata": {},
   "outputs": [],
   "source": [
    "df=pd.read_csv('https://storage.googleapis.com/energy_consumption_903/df_A_avg_Std_v1.csv', index_col='DateTime', parse_dates=['DateTime'])\n",
    "df_A=df.groupby(by=dataset.index).mean()\n",
    "df_A['2014':]"
   ]
  }
 ],
 "metadata": {
  "kernelspec": {
   "display_name": "Python 3 (ipykernel)",
   "language": "python",
   "name": "python3"
  },
  "language_info": {
   "codemirror_mode": {
    "name": "ipython",
    "version": 3
   },
   "file_extension": ".py",
   "mimetype": "text/x-python",
   "name": "python",
   "nbconvert_exporter": "python",
   "pygments_lexer": "ipython3",
   "version": "3.8.12"
  },
  "toc": {
   "base_numbering": 1,
   "nav_menu": {},
   "number_sections": true,
   "sideBar": true,
   "skip_h1_title": false,
   "title_cell": "Table of Contents",
   "title_sidebar": "Contents",
   "toc_cell": false,
   "toc_position": {},
   "toc_section_display": true,
   "toc_window_display": false
  }
 },
 "nbformat": 4,
 "nbformat_minor": 5
}

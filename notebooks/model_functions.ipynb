{
 "cells": [
  {
   "cell_type": "markdown",
   "id": "f7d5e2cb",
   "metadata": {},
   "source": [
    "## Imports\n",
    "\n"
   ]
  },
  {
   "cell_type": "code",
   "execution_count": 48,
   "id": "d4194143",
   "metadata": {},
   "outputs": [],
   "source": [
    "import pandas as pd\n",
    "import numpy as np\n",
    "import seaborn as sns\n",
    "import os\n",
    "from matplotlib import pyplot as plt\n",
    "from matplotlib.pyplot import figure\n",
    "from sklearn.metrics import mean_absolute_percentage_error\n",
    "\n",
    "#Facebook Prophet\n",
    "from prophet import Prophet\n",
    "from prophet.diagnostics import cross_validation\n",
    "from prophet.diagnostics import performance_metrics\n",
    "from prophet.plot import plot_cross_validation_metric"
   ]
  },
  {
   "cell_type": "code",
   "execution_count": null,
   "id": "9d5653e0",
   "metadata": {},
   "outputs": [],
   "source": [
    "# https://storage.googleapis.com/energy_consumption_903/df_all_avg_tariff_v3.csv\n",
    "# https://storage.googleapis.com/energy_consumption_903/df_all_avg_v3.csv"
   ]
  },
  {
   "cell_type": "markdown",
   "id": "d25b2b59",
   "metadata": {},
   "source": [
    "## Data-Split"
   ]
  },
  {
   "cell_type": "code",
   "execution_count": 2,
   "id": "3b17012a",
   "metadata": {},
   "outputs": [],
   "source": [
    "def split_data(filename):\n",
    "#     print('Input precise path for data including extension')\n",
    "#     filename = input()\n",
    "    fulldata = pd.read_csv(filename)\n",
    "    fulldata['DateTime'] = pd.to_datetime(fulldata['DateTime'])\n",
    "    train_data = fulldata[(fulldata['DateTime'] >= '2012-01-01') & (fulldata['DateTime'] < '2014-01-01')].reset_index(drop = True)\n",
    "    validation_data = fulldata[(fulldata['DateTime'] >= '2014-01-01') & (fulldata['DateTime'] < '2014-02-01')].reset_index(drop = True)\n",
    "    test_data = fulldata[(fulldata['DateTime'] >= '2014-02-01') & (fulldata['DateTime'] < '2014-03-01')].reset_index(drop = True)\n",
    "    return train_data, validation_data, test_data"
   ]
  },
  {
   "cell_type": "markdown",
   "id": "4e123c73",
   "metadata": {},
   "source": [
    "## Data-Processing "
   ]
  },
  {
   "cell_type": "code",
   "execution_count": 54,
   "id": "c5d510dd",
   "metadata": {},
   "outputs": [],
   "source": [
    "def create_data(Acorn_group,Tariff):\n",
    "    tdata, vdata, testd=split_data(f'https://storage.googleapis.com/energy_usage_prediction_903/df_{Acorn_group}_avg_{Tariff}_v1.csv')\n",
    "    # add val and train for prophet\n",
    "    pdata=pd.concat([tdata,vdata],axis=0).reset_index(drop=True)\n",
    "\n",
    "    global_average=False\n",
    "\n",
    "    if global_average==False:\n",
    "        # not for global average\n",
    "        pdata.drop(columns='Unnamed: 0',inplace=True)\n",
    "        testd.drop(columns='Unnamed: 0',inplace=True)\n",
    "        train_df=pdata.loc[:,['DateTime','KWH/hh']]\n",
    "        test_df=testd.loc[:,['DateTime','KWH/hh']]\n",
    "        val_df=vdata.loc[:,['DateTime','KWH/hh']]\n",
    "    else:\n",
    "        # group all for dumb models\n",
    "        df5=pdata.loc[:,['DateTime','Acorn_Group','KWH/hh']]\n",
    "        df5.set_index('DateTime',inplace=True)\n",
    "        train_df=df5.groupby(by=df5.index).mean()\n",
    "        train_df=train_df.reset_index()\n",
    "        test_df=testd.loc[:,['DateTime','Acorn_Group','KWH/hh']].groupby(by=testd['DateTime']).mean()\n",
    "        test_df.reset_index(inplace=True)\n",
    "        test_df=testd.loc[:,['DateTime','Acorn_Group','KWH/hh']].groupby(by=testd['DateTime']).mean()\n",
    "        test_df.reset_index(inplace=True)\n",
    "        val_df=vdata.loc[:,['DateTime','Acorn_Group','KWH/hh']].groupby(by=testd['DateTime']).mean()\n",
    "        val_df.reset_index(inplace=True)\n",
    "    return train_df,test_df,val_df"
   ]
  },
  {
   "cell_type": "code",
   "execution_count": 56,
   "id": "712a5ef0",
   "metadata": {},
   "outputs": [
    {
     "data": {
      "text/html": [
       "<div>\n",
       "<style scoped>\n",
       "    .dataframe tbody tr th:only-of-type {\n",
       "        vertical-align: middle;\n",
       "    }\n",
       "\n",
       "    .dataframe tbody tr th {\n",
       "        vertical-align: top;\n",
       "    }\n",
       "\n",
       "    .dataframe thead th {\n",
       "        text-align: right;\n",
       "    }\n",
       "</style>\n",
       "<table border=\"1\" class=\"dataframe\">\n",
       "  <thead>\n",
       "    <tr style=\"text-align: right;\">\n",
       "      <th></th>\n",
       "      <th>DateTime</th>\n",
       "      <th>KWH/hh</th>\n",
       "    </tr>\n",
       "  </thead>\n",
       "  <tbody>\n",
       "    <tr>\n",
       "      <th>0</th>\n",
       "      <td>2012-01-01 00:00:00</td>\n",
       "      <td>0.279000</td>\n",
       "    </tr>\n",
       "    <tr>\n",
       "      <th>1</th>\n",
       "      <td>2012-01-01 00:30:00</td>\n",
       "      <td>0.296000</td>\n",
       "    </tr>\n",
       "    <tr>\n",
       "      <th>2</th>\n",
       "      <td>2012-01-01 01:00:00</td>\n",
       "      <td>0.350000</td>\n",
       "    </tr>\n",
       "    <tr>\n",
       "      <th>3</th>\n",
       "      <td>2012-01-01 01:30:00</td>\n",
       "      <td>0.286000</td>\n",
       "    </tr>\n",
       "    <tr>\n",
       "      <th>4</th>\n",
       "      <td>2012-01-01 02:00:00</td>\n",
       "      <td>0.254000</td>\n",
       "    </tr>\n",
       "    <tr>\n",
       "      <th>...</th>\n",
       "      <td>...</td>\n",
       "      <td>...</td>\n",
       "    </tr>\n",
       "    <tr>\n",
       "      <th>36571</th>\n",
       "      <td>2014-01-31 21:30:00</td>\n",
       "      <td>0.529333</td>\n",
       "    </tr>\n",
       "    <tr>\n",
       "      <th>36572</th>\n",
       "      <td>2014-01-31 22:00:00</td>\n",
       "      <td>0.458708</td>\n",
       "    </tr>\n",
       "    <tr>\n",
       "      <th>36573</th>\n",
       "      <td>2014-01-31 22:30:00</td>\n",
       "      <td>0.459583</td>\n",
       "    </tr>\n",
       "    <tr>\n",
       "      <th>36574</th>\n",
       "      <td>2014-01-31 23:00:00</td>\n",
       "      <td>0.402917</td>\n",
       "    </tr>\n",
       "    <tr>\n",
       "      <th>36575</th>\n",
       "      <td>2014-01-31 23:30:00</td>\n",
       "      <td>0.376625</td>\n",
       "    </tr>\n",
       "  </tbody>\n",
       "</table>\n",
       "<p>36576 rows × 2 columns</p>\n",
       "</div>"
      ],
      "text/plain": [
       "                 DateTime    KWH/hh\n",
       "0     2012-01-01 00:00:00  0.279000\n",
       "1     2012-01-01 00:30:00  0.296000\n",
       "2     2012-01-01 01:00:00  0.350000\n",
       "3     2012-01-01 01:30:00  0.286000\n",
       "4     2012-01-01 02:00:00  0.254000\n",
       "...                   ...       ...\n",
       "36571 2014-01-31 21:30:00  0.529333\n",
       "36572 2014-01-31 22:00:00  0.458708\n",
       "36573 2014-01-31 22:30:00  0.459583\n",
       "36574 2014-01-31 23:00:00  0.402917\n",
       "36575 2014-01-31 23:30:00  0.376625\n",
       "\n",
       "[36576 rows x 2 columns]"
      ]
     },
     "execution_count": 56,
     "metadata": {},
     "output_type": "execute_result"
    }
   ],
   "source": [
    "train_df,test_df,val_df=create_data('A','ToU')\n",
    "train_df"
   ]
  },
  {
   "cell_type": "markdown",
   "id": "d06917b0",
   "metadata": {},
   "source": [
    "## Optional Parameters"
   ]
  },
  {
   "cell_type": "markdown",
   "id": "24518428",
   "metadata": {},
   "source": [
    "### Holidays"
   ]
  },
  {
   "cell_type": "code",
   "execution_count": 38,
   "id": "025c1926",
   "metadata": {},
   "outputs": [
    {
     "data": {
      "text/html": [
       "<div>\n",
       "<style scoped>\n",
       "    .dataframe tbody tr th:only-of-type {\n",
       "        vertical-align: middle;\n",
       "    }\n",
       "\n",
       "    .dataframe tbody tr th {\n",
       "        vertical-align: top;\n",
       "    }\n",
       "\n",
       "    .dataframe thead th {\n",
       "        text-align: right;\n",
       "    }\n",
       "</style>\n",
       "<table border=\"1\" class=\"dataframe\">\n",
       "  <thead>\n",
       "    <tr style=\"text-align: right;\">\n",
       "      <th></th>\n",
       "      <th>holiday</th>\n",
       "      <th>ds</th>\n",
       "    </tr>\n",
       "  </thead>\n",
       "  <tbody>\n",
       "    <tr>\n",
       "      <th>0</th>\n",
       "      <td>Boxing Day</td>\n",
       "      <td>2012-12-26</td>\n",
       "    </tr>\n",
       "    <tr>\n",
       "      <th>1</th>\n",
       "      <td>Christmas Day</td>\n",
       "      <td>2012-12-25</td>\n",
       "    </tr>\n",
       "    <tr>\n",
       "      <th>2</th>\n",
       "      <td>Summer bank holiday</td>\n",
       "      <td>2012-08-27</td>\n",
       "    </tr>\n",
       "    <tr>\n",
       "      <th>3</th>\n",
       "      <td>Queen's Diamond Jubilee</td>\n",
       "      <td>2012-05-06</td>\n",
       "    </tr>\n",
       "    <tr>\n",
       "      <th>4</th>\n",
       "      <td>Spring bank holiday</td>\n",
       "      <td>2012-04-06</td>\n",
       "    </tr>\n",
       "  </tbody>\n",
       "</table>\n",
       "</div>"
      ],
      "text/plain": [
       "                   holiday         ds\n",
       "0               Boxing Day 2012-12-26\n",
       "1            Christmas Day 2012-12-25\n",
       "2      Summer bank holiday 2012-08-27\n",
       "3  Queen's Diamond Jubilee 2012-05-06\n",
       "4      Spring bank holiday 2012-04-06"
      ]
     },
     "execution_count": 38,
     "metadata": {},
     "output_type": "execute_result"
    }
   ],
   "source": [
    "holidays=pd.read_csv('https://storage.googleapis.com/energy_consumption_903/uk_bank_holidays.csv')\n",
    "holidays.rename(columns={'Type':'holiday','Bank holidays':'ds'},inplace=True)\n",
    "holidays.loc[:,'ds']=pd.to_datetime(holidays['ds'],format=\"%d/%m/%Y\")\n",
    "holidays.head()"
   ]
  },
  {
   "cell_type": "markdown",
   "id": "0bdbbf7a",
   "metadata": {},
   "source": [
    "### Weather"
   ]
  },
  {
   "cell_type": "code",
   "execution_count": 25,
   "id": "2d1792e3",
   "metadata": {},
   "outputs": [
    {
     "data": {
      "text/html": [
       "<div>\n",
       "<style scoped>\n",
       "    .dataframe tbody tr th:only-of-type {\n",
       "        vertical-align: middle;\n",
       "    }\n",
       "\n",
       "    .dataframe tbody tr th {\n",
       "        vertical-align: top;\n",
       "    }\n",
       "\n",
       "    .dataframe thead th {\n",
       "        text-align: right;\n",
       "    }\n",
       "</style>\n",
       "<table border=\"1\" class=\"dataframe\">\n",
       "  <thead>\n",
       "    <tr style=\"text-align: right;\">\n",
       "      <th></th>\n",
       "      <th>DateTime</th>\n",
       "      <th>temperature</th>\n",
       "      <th>windSpeed</th>\n",
       "      <th>precipType_rain</th>\n",
       "    </tr>\n",
       "  </thead>\n",
       "  <tbody>\n",
       "    <tr>\n",
       "      <th>0</th>\n",
       "      <td>2012-01-01 00:00:00</td>\n",
       "      <td>9.75</td>\n",
       "      <td>1.79</td>\n",
       "      <td>1.0</td>\n",
       "    </tr>\n",
       "    <tr>\n",
       "      <th>1</th>\n",
       "      <td>2012-01-01 00:30:00</td>\n",
       "      <td>9.75</td>\n",
       "      <td>1.79</td>\n",
       "      <td>1.0</td>\n",
       "    </tr>\n",
       "    <tr>\n",
       "      <th>2</th>\n",
       "      <td>2012-01-01 01:00:00</td>\n",
       "      <td>9.68</td>\n",
       "      <td>1.84</td>\n",
       "      <td>1.0</td>\n",
       "    </tr>\n",
       "    <tr>\n",
       "      <th>3</th>\n",
       "      <td>2012-01-01 01:30:00</td>\n",
       "      <td>9.68</td>\n",
       "      <td>1.84</td>\n",
       "      <td>1.0</td>\n",
       "    </tr>\n",
       "    <tr>\n",
       "      <th>4</th>\n",
       "      <td>2012-01-01 02:00:00</td>\n",
       "      <td>9.63</td>\n",
       "      <td>1.46</td>\n",
       "      <td>1.0</td>\n",
       "    </tr>\n",
       "    <tr>\n",
       "      <th>...</th>\n",
       "      <td>...</td>\n",
       "      <td>...</td>\n",
       "      <td>...</td>\n",
       "      <td>...</td>\n",
       "    </tr>\n",
       "    <tr>\n",
       "      <th>36571</th>\n",
       "      <td>2014-01-31 21:30:00</td>\n",
       "      <td>8.64</td>\n",
       "      <td>5.39</td>\n",
       "      <td>1.0</td>\n",
       "    </tr>\n",
       "    <tr>\n",
       "      <th>36572</th>\n",
       "      <td>2014-01-31 22:00:00</td>\n",
       "      <td>3.17</td>\n",
       "      <td>6.12</td>\n",
       "      <td>1.0</td>\n",
       "    </tr>\n",
       "    <tr>\n",
       "      <th>36573</th>\n",
       "      <td>2014-01-31 22:30:00</td>\n",
       "      <td>3.17</td>\n",
       "      <td>6.12</td>\n",
       "      <td>1.0</td>\n",
       "    </tr>\n",
       "    <tr>\n",
       "      <th>36574</th>\n",
       "      <td>2014-01-31 23:00:00</td>\n",
       "      <td>3.14</td>\n",
       "      <td>5.61</td>\n",
       "      <td>1.0</td>\n",
       "    </tr>\n",
       "    <tr>\n",
       "      <th>36575</th>\n",
       "      <td>2014-01-31 23:30:00</td>\n",
       "      <td>3.14</td>\n",
       "      <td>5.61</td>\n",
       "      <td>1.0</td>\n",
       "    </tr>\n",
       "  </tbody>\n",
       "</table>\n",
       "<p>36576 rows × 4 columns</p>\n",
       "</div>"
      ],
      "text/plain": [
       "                 DateTime  temperature  windSpeed  precipType_rain\n",
       "0     2012-01-01 00:00:00         9.75       1.79              1.0\n",
       "1     2012-01-01 00:30:00         9.75       1.79              1.0\n",
       "2     2012-01-01 01:00:00         9.68       1.84              1.0\n",
       "3     2012-01-01 01:30:00         9.68       1.84              1.0\n",
       "4     2012-01-01 02:00:00         9.63       1.46              1.0\n",
       "...                   ...          ...        ...              ...\n",
       "36571 2014-01-31 21:30:00         8.64       5.39              1.0\n",
       "36572 2014-01-31 22:00:00         3.17       6.12              1.0\n",
       "36573 2014-01-31 22:30:00         3.17       6.12              1.0\n",
       "36574 2014-01-31 23:00:00         3.14       5.61              1.0\n",
       "36575 2014-01-31 23:30:00         3.14       5.61              1.0\n",
       "\n",
       "[36576 rows x 4 columns]"
      ]
     },
     "execution_count": 25,
     "metadata": {},
     "output_type": "execute_result"
    }
   ],
   "source": [
    "## if using prophet\n",
    "twd, vwd, testwd=split_data('https://storage.googleapis.com/weather-data-processed-for-le-wagon/cleaned_weather_hourly_darksky.csv')\n",
    "wd=pd.concat([twd,vwd],axis=0).reset_index(drop=True)\n",
    "wd_filt=wd[['DateTime','temperature','windSpeed','precipType_rain']].dropna()\n",
    "wd_filt['DateTime']=pd.to_datetime(wd_filt['DateTime'])\n",
    "test_wd=testwd[['DateTime','temperature','windSpeed','precipType_rain']].dropna()\n",
    "test_wd['DateTime']=pd.to_datetime(test_wd['DateTime'])\n",
    "# # wind = wd_filt['windSpeed'].interpolate(method='linear')\n",
    "# # rain = wd_filt['precipType_rain'].interpolate(method='linear')\n",
    "train_wd=train_df[['DateTime']].merge(wd_filt,on='DateTime',how='inner')\n",
    "test_wd=test_df[['DateTime']].merge(test_wd,on='DateTime',how='inner')"
   ]
  },
  {
   "cell_type": "markdown",
   "id": "a65e1ca8",
   "metadata": {},
   "source": [
    "## Train"
   ]
  },
  {
   "cell_type": "code",
   "execution_count": 59,
   "id": "7c31f6af",
   "metadata": {},
   "outputs": [],
   "source": [
    "def train_model(train_df,train_wd,holidays,add_weather=True): \n",
    "    train_df.rename(columns={\"DateTime\": \"ds\", \"KWH/hh\": \"y\"},inplace=True)\n",
    "    if add_weather==True:  \n",
    "        temp = train_wd['temperature'].interpolate(method='linear')\n",
    "        train_df['temp']=temp\n",
    "        m = Prophet(holidays=holidays,changepoint_prior_scale=0.01).add_regressor('temp', prior_scale=0.5, mode='multiplicative')\n",
    "        m.fit(train_df)\n",
    "    else:\n",
    "        m = Prophet(holidays=holidays,changepoint_prior_scale=0.01)\n",
    "        m.fit(train_df)\n",
    "    return m"
   ]
  },
  {
   "cell_type": "code",
   "execution_count": 61,
   "id": "794f9e46",
   "metadata": {},
   "outputs": [
    {
     "name": "stderr",
     "output_type": "stream",
     "text": [
      "13:14:20 - cmdstanpy - INFO - Chain [1] start processing\n",
      "13:14:51 - cmdstanpy - INFO - Chain [1] done processing\n"
     ]
    }
   ],
   "source": [
    "m=train_model(train_df,train_wd,holidays,add_weather=False)\n"
   ]
  },
  {
   "cell_type": "markdown",
   "id": "245c008f",
   "metadata": {},
   "source": [
    "## Predict"
   ]
  },
  {
   "cell_type": "code",
   "execution_count": 71,
   "id": "bf9e1395",
   "metadata": {},
   "outputs": [],
   "source": [
    "def forecast_model(m,train_wd,test_wd,add_weather=True): \n",
    "    future = m.make_future_dataframe(periods=48*27+1, freq='30T')\n",
    "    if add_weather==True:   \n",
    "        wd_filt_future=future[['ds']].merge(pd.concat([future,pd.concat([train_wd,test_wd],axis=0)]),left_on='ds',right_on='DateTime',how='inner').drop(columns='DateTime')\n",
    "        temp_future=wd_filt_future['temperature'].interpolate(method='linear')\n",
    "        future['temp']=temp_future\n",
    "        fcst = m.predict(future)\n",
    "    else:\n",
    "        fcst = m.predict(future)\n",
    "    return fcst"
   ]
  },
  {
   "cell_type": "code",
   "execution_count": null,
   "id": "6ca74c79",
   "metadata": {},
   "outputs": [],
   "source": [
    "f=forecast_model(m,train_wd,test_wd,add_weather=False)"
   ]
  },
  {
   "cell_type": "markdown",
   "id": "57de2a31",
   "metadata": {},
   "source": [
    "## Plot"
   ]
  },
  {
   "cell_type": "code",
   "execution_count": null,
   "id": "87ccc21d",
   "metadata": {},
   "outputs": [],
   "source": [
    "def plot_graphs(f):\n",
    "    forecast=f.loc[f['ds']>='2014-02-01 00:00:00',['ds','yhat']]\n",
    "    figure(figsize=(15,6))\n",
    "    sns.lineplot(x=forecast['ds'],y=forecast['yhat'],label='Forecast');\n",
    "    sns.lineplot(x=test_df['DateTime'],y=test_df['KWH/hh'],label='Actual');\n",
    "    figure(figsize=(15,6))\n",
    "    sns.lineplot(x=test_wd['DateTime'],y=test_wd['temperature'],label='Weather');\n",
    "    return forecast"
   ]
  },
  {
   "cell_type": "code",
   "execution_count": null,
   "id": "ad1c46b6",
   "metadata": {},
   "outputs": [],
   "source": [
    "forecast=plot_graphs(f)"
   ]
  },
  {
   "cell_type": "code",
   "execution_count": null,
   "id": "41d077d1",
   "metadata": {},
   "outputs": [],
   "source": [
    "def evaluate(actual,forecasted):\n",
    "    return np.round(mean_absolute_percentage_error(actual,forecasted),4)\n",
    "evaluate(test_df['KWH/hh'],forecast['yhat'])"
   ]
  },
  {
   "cell_type": "code",
   "execution_count": null,
   "id": "6eaf1dbb",
   "metadata": {},
   "outputs": [],
   "source": []
  }
 ],
 "metadata": {
  "kernelspec": {
   "display_name": "Python 3 (ipykernel)",
   "language": "python",
   "name": "python3"
  },
  "language_info": {
   "codemirror_mode": {
    "name": "ipython",
    "version": 3
   },
   "file_extension": ".py",
   "mimetype": "text/x-python",
   "name": "python",
   "nbconvert_exporter": "python",
   "pygments_lexer": "ipython3",
   "version": "3.8.12"
  },
  "toc": {
   "base_numbering": 1,
   "nav_menu": {},
   "number_sections": true,
   "sideBar": true,
   "skip_h1_title": false,
   "title_cell": "Table of Contents",
   "title_sidebar": "Contents",
   "toc_cell": false,
   "toc_position": {},
   "toc_section_display": true,
   "toc_window_display": false
  }
 },
 "nbformat": 4,
 "nbformat_minor": 5
}
